{
  "cells": [
    {
      "cell_type": "markdown",
      "metadata": {},
      "source": [
        "# 785. Is Graph Bipartite?\n"
      ]
    },
    {
      "cell_type": "markdown",
      "metadata": {},
      "source": [
        "## Topic Alignment\n",
        "- **Role Relevance**: Uses BFS for graph coloring, essential in conflict detection.\n",
        "- **Scenario**: Helps verify whether dependency graphs can be split into disjoint execution phases.\n"
      ]
    },
    {
      "cell_type": "markdown",
      "metadata": {},
      "source": [
        "## Metadata Summary\n",
        "- Source: [LeetCode - Is Graph Bipartite?](https://leetcode.com/problems/is-graph-bipartite/)\n",
        "- Tags: `Graph`, `BFS`, `Coloring`\n",
        "- Difficulty: Medium\n",
        "- Recommended Priority: Medium\n"
      ]
    },
    {
      "cell_type": "markdown",
      "metadata": {},
      "source": [
        "## Problem Statement\n",
        "Given an undirected graph, return true if it is bipartite; else false.The graph is given as adjacency lists.\n"
      ]
    },
    {
      "cell_type": "markdown",
      "metadata": {},
      "source": [
        "## Progressive Hints\n",
        "- Hint 1: A graph is bipartite if we can two-color it without conflicts.\n",
        "- Hint 2: Use BFS to color nodes level by level.\n",
        "- Hint 3: Graph might be disconnected; process each component.\n"
      ]
    },
    {
      "cell_type": "markdown",
      "metadata": {},
      "source": [
        "## Solution Overview\n",
        "Iterate through nodes; for uncolored nodes, run BFS assigning alternating colors. If a conflict arises (neighbor already colored the same), return False.\n"
      ]
    },
    {
      "cell_type": "markdown",
      "metadata": {},
      "source": [
        "## Detailed Explanation\n",
        "1. Initialize color array with 0 (uncolored).\n",
        "2. For each node, if uncolored, assign color 1 and BFS.\n",
        "3. In BFS, color neighbors with -color; if neighbor already has same color, return False.\n",
        "4. After processing all components, return True.\n"
      ]
    },
    {
      "cell_type": "markdown",
      "metadata": {},
      "source": [
        "## Complexity Trade-off Table\n",
        "| Approach | Time Complexity | Space Complexity | Notes |\n",
        "| --- | --- | --- | --- |\n",
        "| BFS coloring | O(n + e) | O(n) | Straightforward and iterative. |\n",
        "| DFS coloring | O(n + e) | O(n) | Needs recursion stack. |\n",
        "| Union-Find | O((n + e) α(n)) | O(n) | With parity tracking; more complex.\n"
      ]
    },
    {
      "cell_type": "markdown",
      "metadata": {},
      "source": [
        "## Reference Implementation\n"
      ]
    },
    {
      "cell_type": "code",
      "metadata": {},
      "execution_count": null,
      "outputs": [],
      "source": [
        "from collections import deque\n",
        "\n",
        "\n",
        "def is_bipartite(graph: list[list[int]]) -> bool:\n",
        "    \"\"\"Check bipartiteness via BFS coloring.\"\"\"\n",
        "    n = len(graph)\n",
        "    color = [0] * n\n",
        "    for start in range(n):\n",
        "        if color[start] != 0:\n",
        "            continue\n",
        "        queue = deque([start])\n",
        "        color[start] = 1\n",
        "        while queue:\n",
        "            node = queue.popleft()\n",
        "            for neighbor in graph[node]:\n",
        "                if color[neighbor] == 0:\n",
        "                    color[neighbor] = -color[node]\n",
        "                    queue.append(neighbor)\n",
        "                elif color[neighbor] == color[node]:\n",
        "                    return False\n",
        "    return True\n"
      ]
    },
    {
      "cell_type": "markdown",
      "metadata": {},
      "source": [
        "## Validation\n"
      ]
    },
    {
      "cell_type": "code",
      "metadata": {},
      "execution_count": null,
      "outputs": [],
      "source": [
        "assert is_bipartite([[1,3],[0,2],[1,3],[0,2]]) is True\n",
        "assert is_bipartite([[1,2,3],[0,2],[0,1,3],[0,2]]) is False\n",
        "print('All tests passed for LC 785.')\n"
      ]
    },
    {
      "cell_type": "markdown",
      "metadata": {},
      "source": [
        "## Complexity Analysis\n",
        "- Time Complexity: O(n + e).\n",
        "- Space Complexity: O(n) for color array and queue.\n",
        "- Bottleneck: None; BFS linear.\n"
      ]
    },
    {
      "cell_type": "markdown",
      "metadata": {},
      "source": [
        "## Edge Cases & Pitfalls\n",
        "- Empty graph is bipartite.\n",
        "- Isolated nodes handled naturally due to zero-degree components.\n",
        "- Self-loop immediately violates bipartite property.\n"
      ]
    },
    {
      "cell_type": "markdown",
      "metadata": {},
      "source": [
        "## Follow-up Variants\n",
        "- Return the two partitions if bipartite.\n",
        "- Detect odd cycles causing failure.\n",
        "- Extend to weighted graphs verifying bipartite feasibility (no odd cycles).\n"
      ]
    },
    {
      "cell_type": "markdown",
      "metadata": {},
      "source": [
        "## Takeaways\n",
        "- BFS is reliable for assigning alternating colors in undirected graphs.\n",
        "- Starting BFS in each connected component is essential.\n",
        "- Color array doubling as visited check keeps logic compact.\n"
      ]
    },
    {
      "cell_type": "markdown",
      "metadata": {},
      "source": [
        "## Similar Problems\n",
        "| Problem ID | Problem Title | Technique |\n",
        "| --- | --- | --- |\n",
        "| 886 | Possible Bipartition | BFS/DFS coloring |\n",
        "| 1042 | Flower Planting With No Adjacent | Greedy coloring |\n",
        "| 133 | Clone Graph | BFS on graphs |\n"
      ]
    }
  ],
  "metadata": {
    "kernelspec": {
      "display_name": "Python 3 (ipykernel)",
      "language": "python",
      "name": "python3"
    },
    "language_info": {
      "codemirror_mode": {
        "name": "ipython",
        "version": 3
      },
      "file_extension": ".py",
      "mimetype": "text/x-python",
      "name": "python",
      "nbconvert_exporter": "python",
      "pygments_lexer": "ipython3",
      "version": "3.13.3"
    }
  },
  "nbformat": 4,
  "nbformat_minor": 5
}