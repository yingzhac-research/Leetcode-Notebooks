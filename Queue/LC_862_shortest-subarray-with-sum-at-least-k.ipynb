{
  "cells": [
    {
      "cell_type": "markdown",
      "metadata": {},
      "source": [
        "# 862. Shortest Subarray with Sum at Least K\n"
      ]
    },
    {
      "cell_type": "markdown",
      "metadata": {},
      "source": [
        "## Topic Alignment\n",
        "- **Role Relevance**: Highlights prefix-sum + deque technique for threshold detection.\n",
        "- **Scenario**: Used in streaming analytics to detect minimal window hitting a KPI.\n"
      ]
    },
    {
      "cell_type": "markdown",
      "metadata": {},
      "source": [
        "## Metadata Summary\n",
        "- Source: [LeetCode - Shortest Subarray with Sum at Least K](https://leetcode.com/problems/shortest-subarray-with-sum-at-least-k/)\n",
        "- Tags: `Deque`, `Prefix Sum`, `Sliding Window`\n",
        "- Difficulty: Hard\n",
        "- Recommended Priority: High\n"
      ]
    },
    {
      "cell_type": "markdown",
      "metadata": {},
      "source": [
        "## Problem Statement\n",
        "Given an integer array `nums` and an integer `k`, return the length of the shortest non-empty subarray with sum at least `k` or -1 if no such subarray exists.\n"
      ]
    },
    {
      "cell_type": "markdown",
      "metadata": {},
      "source": [
        "## Progressive Hints\n",
        "- Hint 1: Prefix sums allow O(1) subarray sum queries.\n",
        "- Hint 2: Maintain a deque of candidate prefix indices in increasing order of prefix sum.\n",
        "- Hint 3: Pop from the front while the current prefix minus the oldest prefix >= k; pop from the back while current prefix <= last prefix to maintain monotonicity.\n"
      ]
    },
    {
      "cell_type": "markdown",
      "metadata": {},
      "source": [
        "## Solution Overview\n",
        "Compute prefix sums; for each index, use a deque to maintain increasing prefix sums. Pop from the front to update answer when sufficient sum, and pop from the back to maintain monotonicity.\n"
      ]
    },
    {
      "cell_type": "markdown",
      "metadata": {},
      "source": [
        "## Detailed Explanation\n",
        "1. Build prefix sums array `prefix[i] = sum(nums[:i])`.\n",
        "2. Iterate indices i: while deque non-empty and current prefix minus prefix at deque[0] >= k, update answer and pop left.\n",
        "3. While deque non-empty and current prefix <= prefix at deque[-1], pop right to maintain increasing order.\n",
        "4. Append current index to deque.\n",
        "5. After loop, return smallest length or -1 if unchanged.\n"
      ]
    },
    {
      "cell_type": "markdown",
      "metadata": {},
      "source": [
        "## Complexity Trade-off Table\n",
        "| Approach | Time Complexity | Space Complexity | Notes |\n",
        "| --- | --- | --- | --- |\n",
        "| Monotonic deque on prefix | O(n) | O(n) | Optimal for large arrays. |\n",
        "| Heap with prefix sums | O(n log n) | O(n) | More complex but intuitive. |\n",
        "| Brute force | O(n^2) | O(1) | Unacceptable for n up to 10^5.\n"
      ]
    },
    {
      "cell_type": "markdown",
      "metadata": {},
      "source": [
        "## Reference Implementation\n"
      ]
    },
    {
      "cell_type": "code",
      "metadata": {},
      "execution_count": null,
      "outputs": [],
      "source": [
        "from collections import deque\n",
        "\n",
        "\n",
        "def shortest_subarray(nums: list[int], k: int) -> int:\n",
        "    \"\"\"Return shortest length of subarray with sum at least k using monotonic deque.\"\"\"\n",
        "    prefix = [0]\n",
        "    for num in nums:\n",
        "        prefix.append(prefix[-1] + num)\n",
        "    dq = deque()\n",
        "    best = float('inf')\n",
        "    for i, curr in enumerate(prefix):\n",
        "        while dq and curr - prefix[dq[0]] >= k:\n",
        "            best = min(best, i - dq.popleft())\n",
        "        while dq and curr <= prefix[dq[-1]]:\n",
        "            dq.pop()\n",
        "        dq.append(i)\n",
        "    return best if best != float('inf') else -1\n"
      ]
    },
    {
      "cell_type": "markdown",
      "metadata": {},
      "source": [
        "## Validation\n"
      ]
    },
    {
      "cell_type": "code",
      "metadata": {},
      "execution_count": null,
      "outputs": [],
      "source": [
        "assert shortest_subarray([1], 1) == 1\n",
        "assert shortest_subarray([1,2], 4) == -1\n",
        "assert shortest_subarray([2,-1,2], 3) == 3\n",
        "assert shortest_subarray([17,85,93,-45,-21], 150) == 2\n",
        "print('All tests passed for LC 862.')\n"
      ]
    },
    {
      "cell_type": "markdown",
      "metadata": {},
      "source": [
        "## Complexity Analysis\n",
        "- Time Complexity: O(n).\n",
        "- Space Complexity: O(n) for prefix sums and deque.\n",
        "- Bottleneck: Handling negative numbers; monotonic deque resolves it.\n"
      ]
    },
    {
      "cell_type": "markdown",
      "metadata": {},
      "source": [
        "## Edge Cases & Pitfalls\n",
        "- Single element meeting k returns 1.\n",
        "- Negative numbers mean simple sliding window fails; prefix technique handles it.\n",
        "- Ensure queue operations maintain indices, not sums.\n"
      ]
    },
    {
      "cell_type": "markdown",
      "metadata": {},
      "source": [
        "## Follow-up Variants\n",
        "- Return the actual subarray indices.\n",
        "- Support streaming input with amortized updates.\n",
        "- Extend to 2D arrays using prefix and deque along one dimension.\n"
      ]
    },
    {
      "cell_type": "markdown",
      "metadata": {},
      "source": [
        "## Takeaways\n",
        "- Monotonic queues applied to prefix sums unlock O(n) solutions for complex window constraints.\n",
        "- Removing dominated prefixes ensures the deque remains useful.\n",
        "- The pattern generalizes to many DP and sliding window problems with inequalities.\n"
      ]
    },
    {
      "cell_type": "markdown",
      "metadata": {},
      "source": [
        "## Similar Problems\n",
        "| Problem ID | Problem Title | Technique |\n",
        "| --- | --- | --- |\n",
        "| 239 | Sliding Window Maximum | Monotonic deque |\n",
        "| 1438 | Longest Continuous Subarray With Absolute Diff <= Limit | Dual deque |\n",
        "| 1696 | Jump Game VI | Monotonic deque for DP |\n"
      ]
    }
  ],
  "metadata": {
    "kernelspec": {
      "display_name": "Python 3 (ipykernel)",
      "language": "python",
      "name": "python3"
    },
    "language_info": {
      "codemirror_mode": {
        "name": "ipython",
        "version": 3
      },
      "file_extension": ".py",
      "mimetype": "text/x-python",
      "name": "python",
      "nbconvert_exporter": "python",
      "pygments_lexer": "ipython3",
      "version": "3.13.3"
    }
  },
  "nbformat": 4,
  "nbformat_minor": 5
}