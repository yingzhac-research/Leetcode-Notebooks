{
  "cells": [
    {
      "cell_type": "markdown",
      "metadata": {},
      "source": [
        "# 1091. Shortest Path in Binary Matrix\n"
      ]
    },
    {
      "cell_type": "markdown",
      "metadata": {},
      "source": [
        "## Topic Alignment\n",
        "- **Role Relevance**: Represents minimal-cost navigation through grid constraints.\n",
        "- **Scenario**: Useful for computing path lengths in adjacency masks for robotics or routing features.\n"
      ]
    },
    {
      "cell_type": "markdown",
      "metadata": {},
      "source": [
        "## Metadata Summary\n",
        "- Source: [LeetCode - Shortest Path in Binary Matrix](https://leetcode.com/problems/shortest-path-in-binary-matrix/)\n",
        "- Tags: `BFS`, `Grid`, `Shortest Path`\n",
        "- Difficulty: Medium\n",
        "- Recommended Priority: Medium\n"
      ]
    },
    {
      "cell_type": "markdown",
      "metadata": {},
      "source": [
        "## Problem Statement\n",
        "Given an n x n binary matrix, return the length of the shortest clear path in the matrix from top-left to bottom-right.Cells with value 1 are blocked; 0 are free. Movement is allowed in 8 directions.\n"
      ]
    },
    {
      "cell_type": "markdown",
      "metadata": {},
      "source": [
        "## Progressive Hints\n",
        "- Hint 1: Straight BFS on grid suffices because each move cost is 1.\n",
        "- Hint 2: Include diagonal directions in neighbor exploration.\n",
        "- Hint 3: Early exit when reaching target cell speeds up average performance.\n"
      ]
    },
    {
      "cell_type": "markdown",
      "metadata": {},
      "source": [
        "## Solution Overview\n",
        "Run BFS from (0,0) if it is clear. Keep track of distance for each cell. When reaching (n-1,n-1), return the distance; if BFS exhausts without reaching target, return -1.\n"
      ]
    },
    {
      "cell_type": "markdown",
      "metadata": {},
      "source": [
        "## Detailed Explanation\n",
        "1. Check if start or end cell is blocked; if so, return -1.\n",
        "2. Initialize queue with starting cell and distance 1.\n",
        "3. While queue not empty, pop cell, and if it's target, return distance.\n",
        "4. Visit all eight neighbors; if inside bounds and free, mark visited and enqueue with distance+1.\n",
        "5. If BFS finishes without hitting target, return -1.\n"
      ]
    },
    {
      "cell_type": "markdown",
      "metadata": {},
      "source": [
        "## Complexity Trade-off Table\n",
        "| Approach | Time Complexity | Space Complexity | Notes |\n",
        "| --- | --- | --- | --- |\n",
        "| BFS | O(n^2) | O(n^2) | Suitable due to unit weights. |\n",
        "| A* search | O(n^2 log n) | O(n^2) | Overkill unless heuristic beneficial. |\n",
        "| Dijkstra | O(n^2 log n) | O(n^2) | Equivalent to BFS here.\n"
      ]
    },
    {
      "cell_type": "markdown",
      "metadata": {},
      "source": [
        "## Reference Implementation\n"
      ]
    },
    {
      "cell_type": "code",
      "metadata": {},
      "execution_count": null,
      "outputs": [],
      "source": [
        "from collections import deque\n",
        "\n",
        "\n",
        "def shortest_path_binary_matrix(grid: list[list[int]]) -> int:\n",
        "    \"\"\"Return shortest path length using BFS with 8-direction moves.\"\"\"\n",
        "    n = len(grid)\n",
        "    if grid[0][0] == 1 or grid[n - 1][n - 1] == 1:\n",
        "        return -1\n",
        "    queue = deque([(0, 0, 1)])\n",
        "    grid[0][0] = 1  # mark visited\n",
        "    directions = [\n",
        "        (1, 0), (-1, 0), (0, 1), (0, -1),\n",
        "        (1, 1), (1, -1), (-1, 1), (-1, -1),\n",
        "    ]\n",
        "    while queue:\n",
        "        x, y, dist = queue.popleft()\n",
        "        if x == n - 1 and y == n - 1:\n",
        "            return dist\n",
        "        for dx, dy in directions:\n",
        "            nx, ny = x + dx, y + dy\n",
        "            if 0 <= nx < n and 0 <= ny < n and grid[nx][ny] == 0:\n",
        "                grid[nx][ny] = 1\n",
        "                queue.append((nx, ny, dist + 1))\n",
        "    return -1\n"
      ]
    },
    {
      "cell_type": "markdown",
      "metadata": {},
      "source": [
        "## Validation\n"
      ]
    },
    {
      "cell_type": "code",
      "metadata": {},
      "execution_count": null,
      "outputs": [],
      "source": [
        "grid = [[0,1],[1,0]]\n",
        "assert shortest_path_binary_matrix(grid) == 2\n",
        "assert shortest_path_binary_matrix([[0,0,0],[1,1,0],[1,1,0]]) == 4\n",
        "assert shortest_path_binary_matrix([[1]]) == -1\n",
        "print('All tests passed for LC 1091.')\n"
      ]
    },
    {
      "cell_type": "markdown",
      "metadata": {},
      "source": [
        "## Complexity Analysis\n",
        "- Time Complexity: O(n^2) for exploring each cell at most once.\n",
        "- Space Complexity: O(n^2) for the queue in worst case.\n",
        "- Bottleneck: BFS frontier near middle of grid.\n"
      ]
    },
    {
      "cell_type": "markdown",
      "metadata": {},
      "source": [
        "## Edge Cases & Pitfalls\n",
        "- Single cell grid returns 1 if clear, -1 if blocked.\n",
        "- Dense blocked grids may terminate quickly.\n",
        "- Ensuring visited marking prevents cycles.\n"
      ]
    },
    {
      "cell_type": "markdown",
      "metadata": {},
      "source": [
        "## Follow-up Variants\n",
        "- Provide path reconstruction by tracking parents.\n",
        "- Assign different costs per move and run Dijkstra.\n",
        "- Handle dynamic obstacles that appear mid-search.\n"
      ]
    },
    {
      "cell_type": "markdown",
      "metadata": {},
      "source": [
        "## Takeaways\n",
        "- BFS is the go-to solution when edge weights are uniform.\n",
        "- Marking cells visited in place saves memory.\n",
        "- Extending neighbors to 8 directions is straightforward in BFS.\n"
      ]
    },
    {
      "cell_type": "markdown",
      "metadata": {},
      "source": [
        "## Similar Problems\n",
        "| Problem ID | Problem Title | Technique |\n",
        "| --- | --- | --- |\n",
        "| 542 | 01 Matrix | Multi-source BFS distances |\n",
        "| 490 | The Maze | BFS/DFS with rolling stops |\n",
        "| 752 | Open the Lock | BFS on state space |\n"
      ]
    }
  ],
  "metadata": {
    "kernelspec": {
      "display_name": "Python 3 (ipykernel)",
      "language": "python",
      "name": "python3"
    },
    "language_info": {
      "codemirror_mode": {
        "name": "ipython",
        "version": 3
      },
      "file_extension": ".py",
      "mimetype": "text/x-python",
      "name": "python",
      "nbconvert_exporter": "python",
      "pygments_lexer": "ipython3",
      "version": "3.13.3"
    }
  },
  "nbformat": 4,
  "nbformat_minor": 5
}