{
  "cells": [
    {
      "cell_type": "markdown",
      "metadata": {},
      "source": [
        "# 1425. Constrained Subsequence Sum\n"
      ]
    },
    {
      "cell_type": "markdown",
      "metadata": {},
      "source": [
        "## Topic Alignment\n",
        "- **Role Relevance**: Generalizes windowed DP optimization present in time-series scoring.\n",
        "- **Scenario**: Selects subsequence with distance constraint, modeling limited lookback strategies.\n"
      ]
    },
    {
      "cell_type": "markdown",
      "metadata": {},
      "source": [
        "## Metadata Summary\n",
        "- Source: [LeetCode - Constrained Subsequence Sum](https://leetcode.com/problems/constrained-subsequence-sum/)\n",
        "- Tags: `Dynamic Programming`, `Deque`\n",
        "- Difficulty: Hard\n",
        "- Recommended Priority: High\n"
      ]
    },
    {
      "cell_type": "markdown",
      "metadata": {},
      "source": [
        "## Problem Statement\n",
        "Given an integer array `nums` and integer `k`, return the maximum sum of a non-empty subsequence such that the difference between indices of consecutive elements is at most `k`.\n"
      ]
    },
    {
      "cell_type": "markdown",
      "metadata": {},
      "source": [
        "## Progressive Hints\n",
        "- Hint 1: DP relation similar to Jump Game VI: `dp[i] = nums[i] + max(0, dp[j])` for j within k.\n",
        "- Hint 2: Maintains maximum dp in window using deque.\n",
        "- Hint 3: Because we can skip elements, compare with zero before adding.\n"
      ]
    },
    {
      "cell_type": "markdown",
      "metadata": {},
      "source": [
        "## Solution Overview\n",
        "Keep a deque of indices with decreasing dp values. For each i, dp[i] = nums[i] + max(0, dp[dq[0]]). Maintain the deque window length k and monotonic property. Answer is max(dp).\n"
      ]
    },
    {
      "cell_type": "markdown",
      "metadata": {},
      "source": [
        "## Detailed Explanation\n",
        "1. Initialize deque and dp array.\n",
        "2. For each index i: remove dq front if outside window.\n",
        "3. The best previous dp is dp[dq[0]] if deque non-empty else 0. dp[i] = nums[i] + max(0, best).\n",
        "4. While deque not empty and dp[i] >= dp[dq[-1]], pop from back.\n",
        "5. Append i to deque. Keep track of global maximum.\n"
      ]
    },
    {
      "cell_type": "markdown",
      "metadata": {},
      "source": [
        "## Complexity Trade-off Table\n",
        "| Approach | Time Complexity | Space Complexity | Notes |\n",
        "| --- | --- | --- | --- |\n",
        "| DP + deque | O(n) | O(k) | Efficient for n up to 10^5. |\n",
        "| DP + heap | O(n log k) | O(k) | Acceptable but slower. |\n",
        "| Brute force | O(nk) | O(n) | Too slow.\n"
      ]
    },
    {
      "cell_type": "markdown",
      "metadata": {},
      "source": [
        "## Reference Implementation\n"
      ]
    },
    {
      "cell_type": "code",
      "metadata": {},
      "execution_count": null,
      "outputs": [],
      "source": [
        "from collections import deque\n",
        "\n",
        "\n",
        "def constrained_subset_sum(nums: list[int], k: int) -> int:\n",
        "    \"\"\"Return maximum constrained subsequence sum using deque.\"\"\"\n",
        "    dq = deque()\n",
        "    dp = [0] * len(nums)\n",
        "    best = float('-inf')\n",
        "    for i, num in enumerate(nums):\n",
        "        while dq and dq[0] < i - k:\n",
        "            dq.popleft()\n",
        "        dp[i] = num\n",
        "        if dq:\n",
        "            dp[i] += max(0, dp[dq[0]])\n",
        "        best = max(best, dp[i])\n",
        "        while dq and dp[i] >= dp[dq[-1]]:\n",
        "            dq.pop()\n",
        "        dq.append(i)\n",
        "    return best\n"
      ]
    },
    {
      "cell_type": "markdown",
      "metadata": {},
      "source": [
        "## Validation\n"
      ]
    },
    {
      "cell_type": "code",
      "metadata": {},
      "execution_count": null,
      "outputs": [],
      "source": [
        "assert constrained_subset_sum([10,2,-10,5,20], 2) == 37\n",
        "assert constrained_subset_sum([-1,-2,-3], 1) == -1\n",
        "assert constrained_subset_sum([10,-2,-10,-5,20], 2) == 23\n",
        "print('All tests passed for LC 1425.')\n"
      ]
    },
    {
      "cell_type": "markdown",
      "metadata": {},
      "source": [
        "## Complexity Analysis\n",
        "- Time Complexity: O(n).\n",
        "- Space Complexity: O(n) for dp and deque up to k elements.\n",
        "- Bottleneck: None; dp ensures final answer tracked.\n"
      ]
    },
    {
      "cell_type": "markdown",
      "metadata": {},
      "source": [
        "## Edge Cases & Pitfalls\n",
        "- All negative numbers should select the largest single element.\n",
        "- k equal to array length allows using global max.\n",
        "- Removing outdated indices is crucial to keep deque valid.\n"
      ]
    },
    {
      "cell_type": "markdown",
      "metadata": {},
      "source": [
        "## Follow-up Variants\n",
        "- Track indices of contributing elements.\n",
        "- Handle multi-dimensional constraints.\n",
        "- Use segment tree or sparse table to answer offline queries.\n"
      ]
    },
    {
      "cell_type": "markdown",
      "metadata": {},
      "source": [
        "## Takeaways\n",
        "- DP + deque is powerful for maximizing sums across constrained distances.\n",
        "- Incorporating `max(0, ...)` enables skipping negative contributions.\n",
        "- Similar strategy applies to many optimized subsequence problems.\n"
      ]
    },
    {
      "cell_type": "markdown",
      "metadata": {},
      "source": [
        "## Similar Problems\n",
        "| Problem ID | Problem Title | Technique |\n",
        "| --- | --- | --- |\n",
        "| 1696 | Jump Game VI | DP with deque |\n",
        "| 53 | Maximum Subarray | Kadane algorithm |\n",
        "| 239 | Sliding Window Maximum | Monotonic deque |\n"
      ]
    }
  ],
  "metadata": {
    "kernelspec": {
      "display_name": "Python 3 (ipykernel)",
      "language": "python",
      "name": "python3"
    },
    "language_info": {
      "codemirror_mode": {
        "name": "ipython",
        "version": 3
      },
      "file_extension": ".py",
      "mimetype": "text/x-python",
      "name": "python",
      "nbconvert_exporter": "python",
      "pygments_lexer": "ipython3",
      "version": "3.13.3"
    }
  },
  "nbformat": 4,
  "nbformat_minor": 5
}