{
  "cells": [
    {
      "cell_type": "markdown",
      "metadata": {},
      "source": [
        "# 103. Binary Tree Zigzag Level Order Traversal\n"
      ]
    },
    {
      "cell_type": "markdown",
      "metadata": {},
      "source": [
        "## Topic Alignment\n",
        "- **Role Relevance**: Demonstrates alternating aggregation useful in staged pipeline visualization.\n",
        "- **Scenario**: Shows how to adapt BFS outputs when a consumer expects alternating read order.\n"
      ]
    },
    {
      "cell_type": "markdown",
      "metadata": {},
      "source": [
        "## Metadata Summary\n",
        "- Source: [LeetCode - Binary Tree Zigzag Level Order Traversal](https://leetcode.com/problems/binary-tree-zigzag-level-order-traversal/)\n",
        "- Tags: `Tree`, `BFS`, `Queue`\n",
        "- Difficulty: Medium\n",
        "- Recommended Priority: Medium\n"
      ]
    },
    {
      "cell_type": "markdown",
      "metadata": {},
      "source": [
        "## Problem Statement\n",
        "Given the root of a binary tree, return the zigzag level order traversal of its nodes' values.\n",
        "The zigzag traversal visits nodes level by level but alternates between left-to-right and right-to-left order each level.\n",
        "\n",
        "Input: Binary tree with up to 2000 nodes.\n",
        "Output: List of levels with alternating direction.\n"
      ]
    },
    {
      "cell_type": "markdown",
      "metadata": {},
      "source": [
        "## Progressive Hints\n",
        "- Hint 1: Start from regular level order traversal before adding direction changes.\n",
        "- Hint 2: After collecting a level, decide whether to reverse it based on parity.\n",
        "- Hint 3: Alternatively, append values to a deque to avoid the cost of reversing.\n"
      ]
    },
    {
      "cell_type": "markdown",
      "metadata": {},
      "source": [
        "## Solution Overview\n",
        "Perform a standard BFS while tracking the current depth. Append values to a temporary list and reverse it when the depth is odd before storing in the result.\n"
      ]
    },
    {
      "cell_type": "markdown",
      "metadata": {},
      "source": [
        "## Detailed Explanation\n",
        "1. Handle empty root case.\n",
        "2. Initialize a queue with the root and a depth counter starting at 0.\n",
        "3. In each iteration process `level_size` nodes, append their children, and collect values.\n",
        "4. If the depth is odd, reverse the collected values, otherwise keep as-is.\n",
        "5. Increment depth and continue until the queue is empty.\n"
      ]
    },
    {
      "cell_type": "markdown",
      "metadata": {},
      "source": [
        "## Complexity Trade-off Table\n",
        "| Approach | Time Complexity | Space Complexity | Notes |\n",
        "| --- | --- | --- | --- |\n",
        "| BFS + reverse | O(n) | O(n) | Simple; reversing is O(level). |\n",
        "| BFS + deque appendleft | O(n) | O(n) | Avoids reverse, but more branching logic. |\n",
        "| DFS with depth parity | O(n) | O(n) | Requires storing nodes by depth first.\n"
      ]
    },
    {
      "cell_type": "markdown",
      "metadata": {},
      "source": [
        "## Reference Implementation\n"
      ]
    },
    {
      "cell_type": "code",
      "metadata": {},
      "execution_count": null,
      "outputs": [],
      "source": [
        "from collections import deque\n",
        "\n",
        "\n",
        "class TreeNode:\n",
        "    def __init__(self, val=0, left=None, right=None):\n",
        "        self.val = val\n",
        "        self.left = left\n",
        "        self.right = right\n",
        "\n",
        "\n",
        "def zigzag_level_order(root: TreeNode | None) -> list[list[int]]:\n",
        "    \"\"\"Return zigzag level order traversal using BFS.\"\"\"\n",
        "    if not root:\n",
        "        return []\n",
        "    result: list[list[int]] = []\n",
        "    queue = deque([root])\n",
        "    left_to_right = True\n",
        "    while queue:\n",
        "        level_size = len(queue)\n",
        "        level = []\n",
        "        for _ in range(level_size):\n",
        "            node = queue.popleft()\n",
        "            level.append(node.val)\n",
        "            if node.left:\n",
        "                queue.append(node.left)\n",
        "            if node.right:\n",
        "                queue.append(node.right)\n",
        "        if not left_to_right:\n",
        "            level.reverse()\n",
        "        result.append(level)\n",
        "        left_to_right = not left_to_right\n",
        "    return result\n"
      ]
    },
    {
      "cell_type": "markdown",
      "metadata": {},
      "source": [
        "## Validation\n"
      ]
    },
    {
      "cell_type": "code",
      "metadata": {},
      "execution_count": null,
      "outputs": [],
      "source": [
        "root = TreeNode(1,\n",
        "                 TreeNode(2, TreeNode(4), TreeNode(5)),\n",
        "                 TreeNode(3, TreeNode(6), TreeNode(7)))\n",
        "assert zigzag_level_order(root) == [[1], [3, 2], [4, 5, 6, 7]]\n",
        "            assert zigzag_level_order(None) == []\n",
        "print('All tests passed for LC 103.')\n"
      ]
    },
    {
      "cell_type": "markdown",
      "metadata": {},
      "source": [
        "## Complexity Analysis\n",
        "- Time Complexity: O(n) for visiting each node once; reversal per level costs O(level).\n",
        "- Space Complexity: O(n) for the queue and result.\n",
        "- Bottleneck: Reversal overhead; still acceptable at this scale.\n"
      ]
    },
    {
      "cell_type": "markdown",
      "metadata": {},
      "source": [
        "## Edge Cases & Pitfalls\n",
        "- Single-node tree should return [[value]].\n",
        "- Unbalanced trees still alternate order correctly.\n",
        "- Ensure boolean flag toggles at the end of each level.\n"
      ]
    },
    {
      "cell_type": "markdown",
      "metadata": {},
      "source": [
        "## Follow-up Variants\n",
        "- Output the traversal as a flat list in zigzag order.\n",
        "- Support n-ary trees where each node has arbitrary children.\n",
        "- Stream the traversal level by level as data arrives (generator version).\n"
      ]
    },
    {
      "cell_type": "markdown",
      "metadata": {},
      "source": [
        "## Takeaways\n",
        "- BFS can be lightly adjusted to meet output order requirements.\n",
        "- Tracking level parity is sufficient to flip traversal direction.\n",
        "- Collect-then-reverse is often simpler than managing appendleft operations.\n"
      ]
    },
    {
      "cell_type": "markdown",
      "metadata": {},
      "source": [
        "## Similar Problems\n",
        "| Problem ID | Problem Title | Technique |\n",
        "| --- | --- | --- |\n",
        "| 102 | Binary Tree Level Order Traversal | Standard BFS |\n",
        "| 107 | Binary Tree Level Order Traversal II | BFS + reverse result |\n",
        "| 429 | N-ary Tree Level Order Traversal | BFS on N-ary trees |\n"
      ]
    }
  ],
  "metadata": {
    "kernelspec": {
      "display_name": "Python 3 (ipykernel)",
      "language": "python",
      "name": "python3"
    },
    "language_info": {
      "codemirror_mode": {
        "name": "ipython",
        "version": 3
      },
      "file_extension": ".py",
      "mimetype": "text/x-python",
      "name": "python",
      "nbconvert_exporter": "python",
      "pygments_lexer": "ipython3",
      "version": "3.13.3"
    }
  },
  "nbformat": 4,
  "nbformat_minor": 5
}