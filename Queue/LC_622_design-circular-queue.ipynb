{
  "cells": [
    {
      "cell_type": "markdown",
      "metadata": {},
      "source": [
        "# 622. Design Circular Queue\n"
      ]
    },
    {
      "cell_type": "markdown",
      "metadata": {},
      "source": [
        "## Topic Alignment\n",
        "- **Role Relevance**: Models bounded queue buffers in streaming systems.\n",
        "- **Scenario**: Useful when sizing ring buffers for telemetry pipelines.\n"
      ]
    },
    {
      "cell_type": "markdown",
      "metadata": {},
      "source": [
        "## Metadata Summary\n",
        "- Source: [LeetCode - Design Circular Queue](https://leetcode.com/problems/design-circular-queue/)\n",
        "- Tags: `Queue`, `Design`, `Array`\n",
        "- Difficulty: Medium\n",
        "- Recommended Priority: Medium\n"
      ]
    },
    {
      "cell_type": "markdown",
      "metadata": {},
      "source": [
        "## Problem Statement\n",
        "Design a circular queue that supports `enQueue`, `deQueue`, `Front`, `Rear`, `isEmpty`, and `isFull` operations.\n"
      ]
    },
    {
      "cell_type": "markdown",
      "metadata": {},
      "source": [
        "## Progressive Hints\n",
        "- Hint 1: Use fixed-size array with head and tail pointers.\n",
        "- Hint 2: Keep track of current size or leave one slot empty to differentiate full/empty.\n",
        "- Hint 3: Wrap indices using modulus operations.\n"
      ]
    },
    {
      "cell_type": "markdown",
      "metadata": {},
      "source": [
        "## Solution Overview\n",
        "Store elements in an array of length k. Maintain head index and size, or head and tail with modulo increments.\n"
      ]
    },
    {
      "cell_type": "markdown",
      "metadata": {},
      "source": [
        "## Detailed Explanation\n",
        "1. Initialize array of size k with zeroes, head = 0, size = 0.\n",
        "2. `enQueue` inserts at `(head + size) % k` if not full, increments size.\n",
        "3. `deQueue` increments head modulo k and decrements size.\n",
        "4. `Front` returns array[head] if not empty; `Rear` returns element at `(head + size - 1) % k`.\n",
        "5. `isEmpty` and `isFull` compare size to 0 and k respectively.\n"
      ]
    },
    {
      "cell_type": "markdown",
      "metadata": {},
      "source": [
        "## Complexity Trade-off Table\n",
        "| Approach | Space Complexity | Notes |\n",
        "| --- | --- | --- |\n",
        "| Array with size counter | O(k) | Simple, constant-time ops. |\n",
        "| Array with head/tail + reserved slot | O(k) | Avoids size counter; slightly trickier. |\n",
        "| Linked list | O(k) | More overhead; unnecessary for fixed capacity.\n"
      ]
    },
    {
      "cell_type": "markdown",
      "metadata": {},
      "source": [
        "## Reference Implementation\n"
      ]
    },
    {
      "cell_type": "code",
      "metadata": {},
      "execution_count": null,
      "outputs": [],
      "source": [
        "class MyCircularQueue:\n",
        "    \"\"\"Circular queue backed by fixed-size array.\"\"\"\n",
        "    def __init__(self, k: int):\n",
        "        self._data = [0] * k\n",
        "        self._capacity = k\n",
        "        self._head = 0\n",
        "        self._size = 0\n",
        "    def enQueue(self, value: int) -> bool:\n",
        "        if self.isFull():\n",
        "            return False\n",
        "        tail = (self._head + self._size) % self._capacity\n",
        "        self._data[tail] = value\n",
        "        self._size += 1\n",
        "        return True\n",
        "    def deQueue(self) -> bool:\n",
        "        if self.isEmpty():\n",
        "            return False\n",
        "        self._head = (self._head + 1) % self._capacity\n",
        "        self._size -= 1\n",
        "        return True\n",
        "    def Front(self) -> int:\n",
        "        return -1 if self.isEmpty() else self._data[self._head]\n",
        "    def Rear(self) -> int:\n",
        "        if self.isEmpty():\n",
        "            return -1\n",
        "        tail = (self._head + self._size - 1) % self._capacity\n",
        "        return self._data[tail]\n",
        "    def isEmpty(self) -> bool:\n",
        "        return self._size == 0\n",
        "    def isFull(self) -> bool:\n",
        "        return self._size == self._capacity\n"
      ]
    },
    {
      "cell_type": "markdown",
      "metadata": {},
      "source": [
        "## Validation\n"
      ]
    },
    {
      "cell_type": "code",
      "metadata": {},
      "execution_count": null,
      "outputs": [],
      "source": [
        "cq = MyCircularQueue(3)\n",
        "assert cq.enQueue(1)\n",
        "assert cq.enQueue(2)\n",
        "assert cq.enQueue(3)\n",
        "assert cq.isFull()\n",
        "assert cq.Rear() == 3\n",
        "assert cq.deQueue()\n",
        "assert cq.enQueue(4)\n",
        "assert cq.Rear() == 4\n",
        "print('All tests passed for LC 622.')\n"
      ]
    },
    {
      "cell_type": "markdown",
      "metadata": {},
      "source": [
        "## Complexity Analysis\n",
        "- Time Complexity: O(1) per operation.\n",
        "- Space Complexity: O(k).\n",
        "- Bottleneck: None; index arithmetic constant time.\n"
      ]
    },
    {
      "cell_type": "markdown",
      "metadata": {},
      "source": [
        "## Edge Cases & Pitfalls\n",
        "- Queue of capacity 1 must still behave correctly.\n",
        "- Wrap-around when head advances beyond end.\n",
        "- `Rear` when only one element should mirror `Front`.\n"
      ]
    },
    {
      "cell_type": "markdown",
      "metadata": {},
      "source": [
        "## Follow-up Variants\n",
        "- Add thread safety or blocking behavior.\n",
        "- Support dynamic resizing when full.\n",
        "- Track additional stats such as occupancy ratio.\n"
      ]
    },
    {
      "cell_type": "markdown",
      "metadata": {},
      "source": [
        "## Takeaways\n",
        "- Circular arrays are lightweight tools for bounded queues.\n",
        "- Tracking size simplifies full/empty checks.\n",
        "- Index arithmetic with modulo handles wrap-around elegantly.\n"
      ]
    },
    {
      "cell_type": "markdown",
      "metadata": {},
      "source": [
        "## Similar Problems\n",
        "| Problem ID | Problem Title | Technique |\n",
        "| --- | --- | --- |\n",
        "| 641 | Design Circular Deque | Double-ended circular array |\n",
        "| 346 | Moving Average from Data Stream | Fixed-size window queue |\n",
        "| 933 | Number of Recent Calls | Sliding window queue |\n"
      ]
    }
  ],
  "metadata": {
    "kernelspec": {
      "display_name": "Python 3 (ipykernel)",
      "language": "python",
      "name": "python3"
    },
    "language_info": {
      "codemirror_mode": {
        "name": "ipython",
        "version": 3
      },
      "file_extension": ".py",
      "mimetype": "text/x-python",
      "name": "python",
      "nbconvert_exporter": "python",
      "pygments_lexer": "ipython3",
      "version": "3.13.3"
    }
  },
  "nbformat": 4,
  "nbformat_minor": 5
}