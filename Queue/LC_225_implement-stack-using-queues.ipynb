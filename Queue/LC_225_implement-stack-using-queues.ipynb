{
  "cells": [
    {
      "cell_type": "markdown",
      "metadata": {},
      "source": [
        "# 225. Implement Stack using Queues\n"
      ]
    },
    {
      "cell_type": "markdown",
      "metadata": {},
      "source": [
        "## Topic Alignment\n",
        "- **Role Relevance**: Reinforces queue operation understanding via data-structure emulation.\n",
        "- **Scenario**: Demonstrates how to wrap FIFO services to expose LIFO APIs in system design.\n"
      ]
    },
    {
      "cell_type": "markdown",
      "metadata": {},
      "source": [
        "## Metadata Summary\n",
        "- Source: [LeetCode - Implement Stack using Queues](https://leetcode.com/problems/implement-stack-using-queues/)\n",
        "- Tags: `Queue`, `Design`\n",
        "- Difficulty: Easy\n",
        "- Recommended Priority: Medium\n"
      ]
    },
    {
      "cell_type": "markdown",
      "metadata": {},
      "source": [
        "## Problem Statement\n",
        "Design a stack using only standard queue operations (push to back, peek/pop from front, size, empty).\n"
      ]
    },
    {
      "cell_type": "markdown",
      "metadata": {},
      "source": [
        "## Progressive Hints\n",
        "- Hint 1: Maintain two queues or rotate elements within one queue.\n",
        "- Hint 2: After pushing, rotate earlier elements behind the new one to simulate LIFO.\n",
        "- Hint 3: Keep track of top element for O(1) `top()` calls.\n"
      ]
    },
    {
      "cell_type": "markdown",
      "metadata": {},
      "source": [
        "## Solution Overview\n",
        "Use a single queue: push value, then rotate the queue so the new value comes to front, making `pop` and `top` operate on the front element.\n"
      ]
    },
    {
      "cell_type": "markdown",
      "metadata": {},
      "source": [
        "## Detailed Explanation\n",
        "1. For `push(x)`, append x to queue, then repeat `size-1` times: pop front and append to back.\n",
        "2. `pop()` pops from queue front.\n",
        "3. `top()` peeks the queue front.\n",
        "4. `empty()` checks queue emptiness.\n"
      ]
    },
    {
      "cell_type": "markdown",
      "metadata": {},
      "source": [
        "## Complexity Trade-off Table\n",
        "| Approach | Push Complexity | Pop Complexity | Notes |\n",
        "| --- | --- | --- | --- |\n",
        "| Single queue rotate | O(n) | O(1) | Push expensive, pop cheap. |\n",
        "| Two queues swap | O(1) | O(n) | Opposite trade-off. |\n",
        "| Hybrid with lazy transfer | Amortized O(1) | O(1) | Needs careful bookkeeping.\n"
      ]
    },
    {
      "cell_type": "markdown",
      "metadata": {},
      "source": [
        "## Reference Implementation\n"
      ]
    },
    {
      "cell_type": "code",
      "metadata": {},
      "execution_count": null,
      "outputs": [],
      "source": [
        "from collections import deque\n",
        "\n",
        "\n",
        "class MyStack:\n",
        "    \"\"\"Stack implementation using a single queue with rotation.\"\"\"\n",
        "    def __init__(self) -> None:\n",
        "        self._queue: deque[int] = deque()\n",
        "    def push(self, x: int) -> None:\n",
        "        self._queue.append(x)\n",
        "        for _ in range(len(self._queue) - 1):\n",
        "            self._queue.append(self._queue.popleft())\n",
        "    def pop(self) -> int:\n",
        "        return self._queue.popleft()\n",
        "    def top(self) -> int:\n",
        "        return self._queue[0]\n",
        "    def empty(self) -> bool:\n",
        "        return not self._queue\n"
      ]
    },
    {
      "cell_type": "markdown",
      "metadata": {},
      "source": [
        "## Validation\n"
      ]
    },
    {
      "cell_type": "code",
      "metadata": {},
      "execution_count": null,
      "outputs": [],
      "source": [
        "stack = MyStack()\n",
        "stack.push(1)\n",
        "stack.push(2)\n",
        "assert stack.top() == 2\n",
        "assert stack.pop() == 2\n",
        "assert stack.empty() is False\n",
        "print('All tests passed for LC 225.')\n"
      ]
    },
    {
      "cell_type": "markdown",
      "metadata": {},
      "source": [
        "## Complexity Analysis\n",
        "- Push: O(n) due to rotation.\n",
        "- Pop/Top/Empty: O(1).\n",
        "- Space Complexity: O(n) for queue storage.\n"
      ]
    },
    {
      "cell_type": "markdown",
      "metadata": {},
      "source": [
        "## Edge Cases & Pitfalls\n",
        "- Popping from empty stack undefined (LeetCode avoids invalid calls).\n",
        "- Multiple pushes maintain order by repeated rotation.\n",
        "- Ensure queue rotation uses range len-1 to maintain new element at front.\n"
      ]
    },
    {
      "cell_type": "markdown",
      "metadata": {},
      "source": [
        "## Follow-up Variants\n",
        "- Switch trade-off to make push O(1) and pop O(n).\n",
        "- Support peek of second-from-top without altering stack.\n",
        "- Implement thread-safe version using locks.\n"
      ]
    },
    {
      "cell_type": "markdown",
      "metadata": {},
      "source": [
        "## Takeaways\n",
        "- Queue operations can emulate stack behavior with controlled rotation.\n",
        "- Understanding operation trade-offs is key for interview design questions.\n",
        "- Complexity can be shifted between push and pop depending on design needs.\n"
      ]
    },
    {
      "cell_type": "markdown",
      "metadata": {},
      "source": [
        "## Similar Problems\n",
        "| Problem ID | Problem Title | Technique |\n",
        "| --- | --- | --- |\n",
        "| 232 | Implement Queue using Stacks | Stack-based simulation |\n",
        "| 346 | Moving Average from Data Stream | Queue for fixed window |\n",
        "| 641 | Design Circular Deque | Custom deque operations |\n"
      ]
    }
  ],
  "metadata": {
    "kernelspec": {
      "display_name": "Python 3 (ipykernel)",
      "language": "python",
      "name": "python3"
    },
    "language_info": {
      "codemirror_mode": {
        "name": "ipython",
        "version": 3
      },
      "file_extension": ".py",
      "mimetype": "text/x-python",
      "name": "python",
      "nbconvert_exporter": "python",
      "pygments_lexer": "ipython3",
      "version": "3.13.3"
    }
  },
  "nbformat": 4,
  "nbformat_minor": 5
}