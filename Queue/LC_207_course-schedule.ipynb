{
  "cells": [
    {
      "cell_type": "markdown",
      "metadata": {},
      "source": [
        "# 207. Course Schedule\n"
      ]
    },
    {
      "cell_type": "markdown",
      "metadata": {},
      "source": [
        "## Topic Alignment\n",
        "- **Role Relevance**: Models dependency resolution in ML training or feature engineering pipelines.\n",
        "- **Scenario**: Answers whether tasks can be completed given prerequisite constraints.\n"
      ]
    },
    {
      "cell_type": "markdown",
      "metadata": {},
      "source": [
        "## Metadata Summary\n",
        "- Source: [LeetCode - Course Schedule](https://leetcode.com/problems/course-schedule/)\n",
        "- Tags: `Graph`, `BFS`, `Topological Sort`\n",
        "- Difficulty: Medium\n",
        "- Recommended Priority: High\n"
      ]
    },
    {
      "cell_type": "markdown",
      "metadata": {},
      "source": [
        "## Problem Statement\n",
        "There are `numCourses` labeled from 0 to `numCourses - 1`.Given prerequisites as pairs `[a, b]` meaning `b` must be taken before `a`, determine if you can finish all courses.\n"
      ]
    },
    {
      "cell_type": "markdown",
      "metadata": {},
      "source": [
        "## Progressive Hints\n",
        "- Hint 1: View courses as nodes and prerequisites as directed edges.\n",
        "- Hint 2: A cycle implies impossibility; otherwise all nodes can be processed.\n",
        "- Hint 3: Use Kahn's algorithm with indegree counting and a queue.\n"
      ]
    },
    {
      "cell_type": "markdown",
      "metadata": {},
      "source": [
        "## Solution Overview\n",
        "Compute indegrees, queue courses with indegree zero, and iteratively remove edges. If all courses are processed, return True; otherwise a cycle exists.\n"
      ]
    },
    {
      "cell_type": "markdown",
      "metadata": {},
      "source": [
        "## Detailed Explanation\n",
        "1. Build adjacency list and indegree array.\n",
        "2. Initialize queue with courses whose indegree is zero.\n",
        "3. Pop from queue, increment processed count, and decrement indegree of neighbors.\n",
        "4. When a neighbor's indegree reaches zero, enqueue it.\n",
        "5. After processing, return whether processed count equals `numCourses`.\n"
      ]
    },
    {
      "cell_type": "markdown",
      "metadata": {},
      "source": [
        "## Complexity Trade-off Table\n",
        "| Approach | Time Complexity | Space Complexity | Notes |\n",
        "| --- | --- | --- | --- |\n",
        "| BFS Kahn's algorithm | O(n + e) | O(n + e) | Straightforward cycle detection. |\n",
        "| DFS cycle detection | O(n + e) | O(n + e) | Works but needs recursion stack. |\n",
        "| Union-Find | Not suitable | - | Detects undirected cycles only.\n"
      ]
    },
    {
      "cell_type": "markdown",
      "metadata": {},
      "source": [
        "## Reference Implementation\n"
      ]
    },
    {
      "cell_type": "code",
      "metadata": {},
      "execution_count": null,
      "outputs": [],
      "source": [
        "from collections import deque, defaultdict\n",
        "\n",
        "\n",
        "def can_finish(num_courses: int, prerequisites: list[list[int]]) -> bool:\n",
        "    \"\"\"Return True if all courses can be finished using topological order.\"\"\"\n",
        "    graph = defaultdict(list)\n",
        "    indegree = [0] * num_courses\n",
        "    for dest, src in prerequisites:\n",
        "        graph[src].append(dest)\n",
        "        indegree[dest] += 1\n",
        "    queue = deque([i for i, deg in enumerate(indegree) if deg == 0])\n",
        "    processed = 0\n",
        "    while queue:\n",
        "        course = queue.popleft()\n",
        "        processed += 1\n",
        "        for nxt in graph[course]:\n",
        "            indegree[nxt] -= 1\n",
        "            if indegree[nxt] == 0:\n",
        "                queue.append(nxt)\n",
        "    return processed == num_courses\n"
      ]
    },
    {
      "cell_type": "markdown",
      "metadata": {},
      "source": [
        "## Validation\n"
      ]
    },
    {
      "cell_type": "code",
      "metadata": {},
      "execution_count": null,
      "outputs": [],
      "source": [
        "assert can_finish(2, [[1, 0]]) is True\n",
        "assert can_finish(2, [[1, 0], [0, 1]]) is False\n",
        "assert can_finish(4, [[1,0],[2,1],[3,2]]) is True\n",
        "print('All tests passed for LC 207.')\n"
      ]
    },
    {
      "cell_type": "markdown",
      "metadata": {},
      "source": [
        "## Complexity Analysis\n",
        "- Time Complexity: O(n + e) for n courses and e prerequisite edges.\n",
        "- Space Complexity: O(n + e) for adjacency and queue.\n",
        "- Bottleneck: None beyond graph storage.\n"
      ]
    },
    {
      "cell_type": "markdown",
      "metadata": {},
      "source": [
        "## Edge Cases & Pitfalls\n",
        "- No prerequisites should succeed immediately.\n",
        "- Self-dependency (a course requiring itself) forms a cycle.\n",
        "- Multiple edges between same nodes still handled by indegree counts.\n"
      ]
    },
    {
      "cell_type": "markdown",
      "metadata": {},
      "source": [
        "## Follow-up Variants\n",
        "- Return an actual feasible schedule order (see LC 210).\n",
        "- Track the number of valid orders using DP.\n",
        "- Detect minimal cycle feedback set to break dependencies.\n"
      ]
    },
    {
      "cell_type": "markdown",
      "metadata": {},
      "source": [
        "## Takeaways\n",
        "- Kahn's algorithm is a queue-based solution to DAG ordering.\n",
        "- Counting processed nodes is an easy cycle detection strategy.\n",
        "- Graph problems often reduce to queue-driven traversal when edges are directed.\n"
      ]
    },
    {
      "cell_type": "markdown",
      "metadata": {},
      "source": [
        "## Similar Problems\n",
        "| Problem ID | Problem Title | Technique |\n",
        "| --- | --- | --- |\n",
        "| 210 | Course Schedule II | BFS topological order |\n",
        "| 310 | Minimum Height Trees | BFS trimming leaves |\n",
        "| 802 | Find Eventual Safe States | Reverse graph + queue |\n"
      ]
    }
  ],
  "metadata": {
    "kernelspec": {
      "display_name": "Python 3 (ipykernel)",
      "language": "python",
      "name": "python3"
    },
    "language_info": {
      "codemirror_mode": {
        "name": "ipython",
        "version": 3
      },
      "file_extension": ".py",
      "mimetype": "text/x-python",
      "name": "python",
      "nbconvert_exporter": "python",
      "pygments_lexer": "ipython3",
      "version": "3.13.3"
    }
  },
  "nbformat": 4,
  "nbformat_minor": 5
}