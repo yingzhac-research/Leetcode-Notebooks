{
  "cells": [
    {
      "cell_type": "markdown",
      "metadata": {},
      "source": [
        "# 210. Course Schedule II\n"
      ]
    },
    {
      "cell_type": "markdown",
      "metadata": {},
      "source": [
        "## Topic Alignment\n",
        "- **Role Relevance**: Extends dependency analysis to output a valid execution order.\n",
        "- **Scenario**: Helps orchestrate multi-stage ML pipelines where build order matters.\n"
      ]
    },
    {
      "cell_type": "markdown",
      "metadata": {},
      "source": [
        "## Metadata Summary\n",
        "- Source: [LeetCode - Course Schedule II](https://leetcode.com/problems/course-schedule-ii/)\n",
        "- Tags: `Graph`, `BFS`, `Topological Sort`\n",
        "- Difficulty: Medium\n",
        "- Recommended Priority: High\n"
      ]
    },
    {
      "cell_type": "markdown",
      "metadata": {},
      "source": [
        "## Problem Statement\n",
        "Return one possible order to finish all courses given prerequisite pairs.\n",
        "If impossible, return an empty list.\n"
      ]
    },
    {
      "cell_type": "markdown",
      "metadata": {},
      "source": [
        "## Progressive Hints\n",
        "- Hint 1: This is the constructive version of LC 207.\n",
        "- Hint 2: During Kahn's algorithm, record the order nodes are dequeued.\n",
        "- Hint 3: If the result length is less than numCourses, a cycle exists.\n"
      ]
    },
    {
      "cell_type": "markdown",
      "metadata": {},
      "source": [
        "## Solution Overview\n",
        "Run Kahn's algorithm, appending each dequeued course to an order list. After processing, return the order if all courses appear, else return [].\n"
      ]
    },
    {
      "cell_type": "markdown",
      "metadata": {},
      "source": [
        "## Detailed Explanation\n",
        "1. Build adjacency list and indegree array from prerequisites.\n",
        "2. Initialize queue with zero indegree courses.\n",
        "3. Pop queue, append to result, reduce indegrees of neighbors, enqueue new zeros.\n",
        "4. After processing, verify length of result equals numCourses before returning.\n"
      ]
    },
    {
      "cell_type": "markdown",
      "metadata": {},
      "source": [
        "## Complexity Trade-off Table\n",
        "| Approach | Time Complexity | Space Complexity | Notes |\n",
        "| --- | --- | --- | --- |\n",
        "| BFS topological order | O(n + e) | O(n + e) | Produces one valid ordering. |\n",
        "| DFS postorder | O(n + e) | O(n + e) | Must handle recursion carefully; reverse result. |\n",
        "| Priority queue variant | O((n + e) log n) | O(n + e) | Returns lexicographically smallest order.\n"
      ]
    },
    {
      "cell_type": "markdown",
      "metadata": {},
      "source": [
        "## Reference Implementation\n"
      ]
    },
    {
      "cell_type": "code",
      "metadata": {},
      "execution_count": null,
      "outputs": [],
      "source": [
        "from collections import deque, defaultdict\n",
        "\n",
        "\n",
        "def find_order(num_courses: int, prerequisites: list[list[int]]) -> list[int]:\n",
        "    \"\"\"Return one topological ordering of courses if possible.\"\"\"\n",
        "    graph = defaultdict(list)\n",
        "    indegree = [0] * num_courses\n",
        "    for dest, src in prerequisites:\n",
        "        graph[src].append(dest)\n",
        "        indegree[dest] += 1\n",
        "    queue = deque([i for i, deg in enumerate(indegree) if deg == 0])\n",
        "    order: list[int] = []\n",
        "    while queue:\n",
        "        course = queue.popleft()\n",
        "        order.append(course)\n",
        "        for nxt in graph[course]:\n",
        "            indegree[nxt] -= 1\n",
        "            if indegree[nxt] == 0:\n",
        "                queue.append(nxt)\n",
        "    return order if len(order) == num_courses else []\n"
      ]
    },
    {
      "cell_type": "markdown",
      "metadata": {},
      "source": [
        "## Validation\n"
      ]
    },
    {
      "cell_type": "code",
      "metadata": {},
      "execution_count": null,
      "outputs": [],
      "source": [
        "res1 = find_order(2, [[1, 0]])\n",
        "assert res1 == [0, 1]\n",
        "order = find_order(4, [[1,0],[2,0],[3,1],[3,2]])\n",
        "assert order in ([0, 1, 2, 3], [0, 2, 1, 3])\n",
        "assert find_order(1, []) == [0]\n",
        "assert find_order(2, [[0, 1], [1, 0]]) == []\n",
        "print('All tests passed for LC 210.')\n"
      ]
    },
    {
      "cell_type": "markdown",
      "metadata": {},
      "source": [
        "## Complexity Analysis\n",
        "- Time Complexity: O(n + e).\n",
        "- Space Complexity: O(n + e).\n",
        "- Bottleneck: Maintaining adjacency lists.\n"
      ]
    },
    {
      "cell_type": "markdown",
      "metadata": {},
      "source": [
        "## Edge Cases & Pitfalls\n",
        "- No prerequisites yields natural ordering [0, 1, ..., n-1].\n",
        "- Cycles cause result length to fall short of numCourses.\n",
        "- Duplicated edges still decrement indegree accordingly.\n"
      ]
    },
    {
      "cell_type": "markdown",
      "metadata": {},
      "source": [
        "## Follow-up Variants\n",
        "- Return all possible valid orders (requires backtracking).\n",
        "- Prefer lexicographically smallest order by using a min-heap.\n",
        "- Detect and report which courses are part of cycles.\n"
      ]
    },
    {
      "cell_type": "markdown",
      "metadata": {},
      "source": [
        "## Takeaways\n",
        "- Recording dequeue order gives a ready-made valid schedule.\n",
        "- Post-check on result size confirms whether cycles existed.\n",
        "- BFS topological sorting is robust and easy to adapt.\n"
      ]
    },
    {
      "cell_type": "markdown",
      "metadata": {},
      "source": [
        "## Similar Problems\n",
        "| Problem ID | Problem Title | Technique |\n",
        "| --- | --- | --- |\n",
        "| 207 | Course Schedule | Feasibility check with Kahn |\n",
        "| 310 | Minimum Height Trees | BFS trimming of leaves |\n",
        "| 1203 | Sort Items by Groups Respecting Dependencies | Nested topological sorts |\n"
      ]
    }
  ],
  "metadata": {
    "kernelspec": {
      "display_name": "Python 3 (ipykernel)",
      "language": "python",
      "name": "python3"
    },
    "language_info": {
      "codemirror_mode": {
        "name": "ipython",
        "version": 3
      },
      "file_extension": ".py",
      "mimetype": "text/x-python",
      "name": "python",
      "nbconvert_exporter": "python",
      "pygments_lexer": "ipython3",
      "version": "3.13.3"
    }
  },
  "nbformat": 4,
  "nbformat_minor": 5
}