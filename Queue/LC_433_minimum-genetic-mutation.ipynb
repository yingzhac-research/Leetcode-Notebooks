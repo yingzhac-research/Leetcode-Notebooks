{
  "cells": [
    {
      "cell_type": "markdown",
      "metadata": {},
      "source": [
        "# 433. Minimum Genetic Mutation\n"
      ]
    },
    {
      "cell_type": "markdown",
      "metadata": {},
      "source": [
        "## Topic Alignment\n",
        "- **Role Relevance**: Explores BFS on string state space, similar to feature toggle transformations.\n",
        "- **Scenario**: Useful for enumerating minimal edits in configuration strings.\n"
      ]
    },
    {
      "cell_type": "markdown",
      "metadata": {},
      "source": [
        "## Metadata Summary\n",
        "- Source: [LeetCode - Minimum Genetic Mutation](https://leetcode.com/problems/minimum-genetic-mutation/)\n",
        "- Tags: `BFS`, `Graph`, `String`\n",
        "- Difficulty: Medium\n",
        "- Recommended Priority: Medium\n"
      ]
    },
    {
      "cell_type": "markdown",
      "metadata": {},
      "source": [
        "## Problem Statement\n",
        "A gene string can be transformed by changing one character to one of {A,C,G,T}.Given start, end, and a bank of valid genes, return the minimum number of mutations needed to reach end; return -1 if impossible.\n"
      ]
    },
    {
      "cell_type": "markdown",
      "metadata": {},
      "source": [
        "## Progressive Hints\n",
        "- Hint 1: Treat each gene as a node in a graph where edges represent one-character mutations.\n",
        "- Hint 2: BFS ensures minimal mutation count.\n",
        "- Hint 3: Precompute valid characters to attempt at each position.\n"
      ]
    },
    {
      "cell_type": "markdown",
      "metadata": {},
      "source": [
        "## Solution Overview\n",
        "Run BFS from start. At each step mutate every position to any of the four letters; if the new gene exists in bank and not visited, enqueue with step+1.\n"
      ]
    },
    {
      "cell_type": "markdown",
      "metadata": {},
      "source": [
        "## Detailed Explanation\n",
        "1. Convert bank to a set for O(1) lookup; early exit if end not in bank.\n",
        "2. Initialize queue with start gene and mutation count 0.\n",
        "3. For each dequeued gene, if equals end, return count.\n",
        "4. For each position, try all four nucleotides; when new gene in bank and unseen, add to queue and mark visited.\n",
        "5. If BFS completes without reaching end, return -1.\n"
      ]
    },
    {
      "cell_type": "markdown",
      "metadata": {},
      "source": [
        "## Complexity Trade-off Table\n",
        "| Approach | Time Complexity | Space Complexity | Notes |\n",
        "| --- | --- | --- | --- |\n",
        "| BFS over states | O(4^L * L) in worst case | O(bank) | Efficient with pruning on bank. |\n",
        "| Bidirectional BFS | O(2 * 4^(L/2)) | O(bank) | Faster for large search spaces. |\n",
        "| Dijkstra | O(E log V) | O(V) | Unnecessary since edges weight 1.\n"
      ]
    },
    {
      "cell_type": "markdown",
      "metadata": {},
      "source": [
        "## Reference Implementation\n"
      ]
    },
    {
      "cell_type": "code",
      "metadata": {},
      "execution_count": null,
      "outputs": [],
      "source": [
        "from collections import deque\n",
        "\n",
        "\n",
        "def min_mutation(start: str, end: str, bank: list[str]) -> int:\n",
        "    \"\"\"Return minimal mutations between start and end using BFS.\"\"\"\n",
        "    bank_set = set(bank)\n",
        "    if end not in bank_set:\n",
        "        return -1\n",
        "    letters = ['A', 'C', 'G', 'T']\n",
        "    queue = deque([(start, 0)])\n",
        "    visited = {start}\n",
        "    while queue:\n",
        "        gene, steps = queue.popleft()\n",
        "        if gene == end:\n",
        "            return steps\n",
        "        gene_list = list(gene)\n",
        "        for i, original in enumerate(gene_list):\n",
        "            for letter in letters:\n",
        "                if letter == original:\n",
        "                    continue\n",
        "                candidate = gene[:i] + letter + gene[i + 1:]\n",
        "                if candidate in bank_set and candidate not in visited:\n",
        "                    visited.add(candidate)\n",
        "                    queue.append((candidate, steps + 1))\n",
        "    return -1\n"
      ]
    },
    {
      "cell_type": "markdown",
      "metadata": {},
      "source": [
        "## Validation\n"
      ]
    },
    {
      "cell_type": "code",
      "metadata": {},
      "execution_count": null,
      "outputs": [],
      "source": [
        "assert min_mutation('AACCGGTT', 'AACCGGTA', ['AACCGGTA']) == 1\n",
        "assert min_mutation('AACCGGTT', 'AAACGGTA', ['AACCGGTA','AACCGCTA','AAACGGTA']) == 2\n",
        "assert min_mutation('AAAAACCC', 'AACCCCCC', ['AAAACCCC','AAACCCCC','AACCCCCC']) == 3\n",
        "print('All tests passed for LC 433.')\n"
      ]
    },
    {
      "cell_type": "markdown",
      "metadata": {},
      "source": [
        "## Complexity Analysis\n",
        "- Time Complexity: O(L * 4^L) worst-case but constrained by bank size (L=8).\n",
        "- Space Complexity: O(bank) for visited set and queue.\n",
        "- Bottleneck: Number of candidate mutations per step.\n"
      ]
    },
    {
      "cell_type": "markdown",
      "metadata": {},
      "source": [
        "## Edge Cases & Pitfalls\n",
        "- Start equals end returns 0 if end in bank (or treat as 0).\n",
        "- Bank without end yields -1 immediately.\n",
        "- Duplicate entries in bank handled by set conversion.\n"
      ]
    },
    {
      "cell_type": "markdown",
      "metadata": {},
      "source": [
        "## Follow-up Variants\n",
        "- Use bidirectional BFS when bank is large.\n",
        "- Assign weights to mutations and run Dijkstra.\n",
        "- Track actual mutation sequence.\n"
      ]
    },
    {
      "cell_type": "markdown",
      "metadata": {},
      "source": [
        "## Takeaways\n",
        "- BFS on discrete state spaces mirrors shortest path in unweighted graphs.\n",
        "- Precomputing candidate letters avoids nested conditionals.\n",
        "- Visited set prevents cycling through previously seen genes.\n"
      ]
    },
    {
      "cell_type": "markdown",
      "metadata": {},
      "source": [
        "## Similar Problems\n",
        "| Problem ID | Problem Title | Technique |\n",
        "| --- | --- | --- |\n",
        "| 752 | Open the Lock | BFS on strings with wheel mutations |\n",
        "| 127 | Word Ladder | BFS on dictionary transformations |\n",
        "| 126 | Word Ladder II | BFS + backtracking for all paths |\n"
      ]
    }
  ],
  "metadata": {
    "kernelspec": {
      "display_name": "Python 3 (ipykernel)",
      "language": "python",
      "name": "python3"
    },
    "language_info": {
      "codemirror_mode": {
        "name": "ipython",
        "version": 3
      },
      "file_extension": ".py",
      "mimetype": "text/x-python",
      "name": "python",
      "nbconvert_exporter": "python",
      "pygments_lexer": "ipython3",
      "version": "3.13.3"
    }
  },
  "nbformat": 4,
  "nbformat_minor": 5
}