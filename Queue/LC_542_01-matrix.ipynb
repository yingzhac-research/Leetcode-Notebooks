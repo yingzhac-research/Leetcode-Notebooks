{
  "cells": [
    {
      "cell_type": "markdown",
      "metadata": {},
      "source": [
        "# 542. 01 Matrix\n"
      ]
    },
    {
      "cell_type": "markdown",
      "metadata": {},
      "source": [
        "## Topic Alignment\n",
        "- **Role Relevance**: Performs distance transforms on binary grids, common in mask propagation.\n",
        "- **Scenario**: Models shortest distance to resources (e.g., nearest feature flag) using multi-source BFS.\n"
      ]
    },
    {
      "cell_type": "markdown",
      "metadata": {},
      "source": [
        "## Metadata Summary\n",
        "- Source: [LeetCode - 01 Matrix](https://leetcode.com/problems/01-matrix/)\n",
        "- Tags: `BFS`, `Dynamic Programming`, `Grid`\n",
        "- Difficulty: Medium\n",
        "- Recommended Priority: High\n"
      ]
    },
    {
      "cell_type": "markdown",
      "metadata": {},
      "source": [
        "## Problem Statement\n",
        "Given an m x n binary matrix mat, return the distance of the nearest 0 for each cell.Distance is measured in terms of Manhattan steps.\n"
      ]
    },
    {
      "cell_type": "markdown",
      "metadata": {},
      "source": [
        "## Progressive Hints\n",
        "- Hint 1: Distances from multiple zeros must be considered simultaneously.\n",
        "- Hint 2: Push all zeros into the queue at distance 0 and expand outward.\n",
        "- Hint 3: Update neighbor distances only when a shorter path is found.\n"
      ]
    },
    {
      "cell_type": "markdown",
      "metadata": {},
      "source": [
        "## Solution Overview\n",
        "Run multi-source BFS starting from all zero cells. Initialize their distance to 0 and others to infinity. Propagate distances layer by layer.\n"
      ]
    },
    {
      "cell_type": "markdown",
      "metadata": {},
      "source": [
        "## Detailed Explanation\n",
        "1. Initialize distance matrix with large values; set zero cells to 0 and enqueue them.\n",
        "2. While queue non-empty, pop cell and explore four directions.\n",
        "3. If neighbor can be relaxed (current distance + 1 < stored distance), update and enqueue.\n",
        "4. After BFS, distance matrix holds nearest zero distances.\n"
      ]
    },
    {
      "cell_type": "markdown",
      "metadata": {},
      "source": [
        "## Complexity Trade-off Table\n",
        "| Approach | Time Complexity | Space Complexity | Notes |\n",
        "| --- | --- | --- | --- |\n",
        "| Multi-source BFS | O(mn) | O(mn) | Optimal and intuitive. |\n",
        "| DP forward/backward pass | O(mn) | O(1) | Two passes; similar complexity. |\n",
        "| Dijkstra | O(mn log mn) | O(mn) | Overkill since edges unit weight. |\n"
      ]
    },
    {
      "cell_type": "markdown",
      "metadata": {},
      "source": [
        "## Reference Implementation\n"
      ]
    },
    {
      "cell_type": "code",
      "metadata": {},
      "execution_count": null,
      "outputs": [],
      "source": [
        "from collections import deque\n",
        "\n",
        "\n",
        "def update_matrix(mat: list[list[int]]) -> list[list[int]]:\n",
        "    \"\"\"Return distance to nearest zero for each cell using multi-source BFS.\"\"\"\n",
        "    rows, cols = len(mat), len(mat[0])\n",
        "    dist = [[float('inf')] * cols for _ in range(rows)]\n",
        "    queue = deque()\n",
        "    for r in range(rows):\n",
        "        for c in range(cols):\n",
        "            if mat[r][c] == 0:\n",
        "                dist[r][c] = 0\n",
        "                queue.append((r, c))\n",
        "    dirs = [(1, 0), (-1, 0), (0, 1), (0, -1)]\n",
        "    while queue:\n",
        "        x, y = queue.popleft()\n",
        "        for dx, dy in dirs:\n",
        "            nx, ny = x + dx, y + dy\n",
        "            if 0 <= nx < rows and 0 <= ny < cols and dist[nx][ny] > dist[x][y] + 1:\n",
        "                dist[nx][ny] = dist[x][y] + 1\n",
        "                queue.append((nx, ny))\n",
        "    return dist\n"
      ]
    },
    {
      "cell_type": "markdown",
      "metadata": {},
      "source": [
        "## Validation\n"
      ]
    },
    {
      "cell_type": "code",
      "metadata": {},
      "execution_count": null,
      "outputs": [],
      "source": [
        "mat = [[0,0,0],[0,1,0],[1,1,1]]\n",
        "expected = [[0,0,0],[0,1,0],[1,2,1]]\n",
        "            assert update_matrix(mat) == expected\n",
        "print('All tests passed for LC 542.')\n"
      ]
    },
    {
      "cell_type": "markdown",
      "metadata": {},
      "source": [
        "## Complexity Analysis\n",
        "- Time Complexity: O(mn) because each cell is enqueued at most once after improvement.\n",
        "- Space Complexity: O(mn) for the distance grid and queue.\n",
        "- Bottleneck: BFS frontier when many cells are equidistant.\n"
      ]
    },
    {
      "cell_type": "markdown",
      "metadata": {},
      "source": [
        "## Edge Cases & Pitfalls\n",
        "- All zeros matrix should return all zeros.\n",
        "- Absence of zeros would keep distances infinite, but problem guarantees at least one zero.\n",
        "- Large grids require efficient queue operations; deque suffices.\n"
      ]
    },
    {
      "cell_type": "markdown",
      "metadata": {},
      "source": [
        "## Follow-up Variants\n",
        "- Allow diagonal moves by adding more directions.\n",
        "- Handle streaming updates where cells flip between 0 and 1.\n",
        "- Replace Manhattan distance with weighted costs and use Dijkstra.\n"
      ]
    },
    {
      "cell_type": "markdown",
      "metadata": {},
      "source": [
        "## Takeaways\n",
        "- Multi-source BFS solves nearest resource problems elegantly.\n",
        "- Relaxation check prevents redundant enqueue operations.\n",
        "- This pattern generalizes to heatmap diffusion and contagion simulations.\n"
      ]
    },
    {
      "cell_type": "markdown",
      "metadata": {},
      "source": [
        "## Similar Problems\n",
        "| Problem ID | Problem Title | Technique |\n",
        "| --- | --- | --- |\n",
        "| 286 | Walls and Gates | Multi-source BFS |\n",
        "| 934 | Shortest Bridge | BFS from island boundary |\n",
        "| 994 | Rotting Oranges | Multi-source BFS on grid |\n"
      ]
    }
  ],
  "metadata": {
    "kernelspec": {
      "display_name": "Python 3 (ipykernel)",
      "language": "python",
      "name": "python3"
    },
    "language_info": {
      "codemirror_mode": {
        "name": "ipython",
        "version": 3
      },
      "file_extension": ".py",
      "mimetype": "text/x-python",
      "name": "python",
      "nbconvert_exporter": "python",
      "pygments_lexer": "ipython3",
      "version": "3.13.3"
    }
  },
  "nbformat": 4,
  "nbformat_minor": 5
}