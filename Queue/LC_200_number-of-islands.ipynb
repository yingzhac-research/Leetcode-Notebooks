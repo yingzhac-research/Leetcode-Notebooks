{
  "cells": [
    {
      "cell_type": "markdown",
      "metadata": {},
      "source": [
        "# 200. Number of Islands\n"
      ]
    },
    {
      "cell_type": "markdown",
      "metadata": {},
      "source": [
        "## Topic Alignment\n",
        "- **Role Relevance**: Models connected-component discovery for spatial feature grids.\n",
        "- **Scenario**: Identifies isolated segments in data quality dashboards (e.g., contiguous bad sensors).\n"
      ]
    },
    {
      "cell_type": "markdown",
      "metadata": {},
      "source": [
        "## Metadata Summary\n",
        "- Source: [LeetCode - Number of Islands](https://leetcode.com/problems/number-of-islands/)\n",
        "- Tags: `BFS`, `DFS`, `Grid`\n",
        "- Difficulty: Medium\n",
        "- Recommended Priority: High\n"
      ]
    },
    {
      "cell_type": "markdown",
      "metadata": {},
      "source": [
        "## Problem Statement\n",
        "Given an m x n grid of '1's (land) and '0's (water), return the number of islands.An island is surrounded by water and is formed by connecting adjacent lands horizontally or vertically.\n"
      ]
    },
    {
      "cell_type": "markdown",
      "metadata": {},
      "source": [
        "## Progressive Hints\n",
        "- Hint 1: Treat the grid as a graph where each land cell has up to four neighbors.\n",
        "- Hint 2: Once you discover land, explore all connected land to avoid recounting it.\n",
        "- Hint 3: BFS with a queue or DFS recursion both mark visited land effectively.\n"
      ]
    },
    {
      "cell_type": "markdown",
      "metadata": {},
      "source": [
        "## Solution Overview\n",
        "Scan the grid; when a land cell is found, launch a BFS marking all reachable land as visited, and increment the island count.\n"
      ]
    },
    {
      "cell_type": "markdown",
      "metadata": {},
      "source": [
        "## Detailed Explanation\n",
        "1. Initialize `islands = 0` and a visited set or modify the grid in place.\n",
        "2. Iterate over every cell. For a '1', increment islands and push the cell onto a queue.\n",
        "3. While queue non-empty, pop cells, and enqueue valid neighboring land cells, marking them as visited or flipping them to '0'.\n",
        "4. Continue scanning until all cells processed; return islands.\n"
      ]
    },
    {
      "cell_type": "markdown",
      "metadata": {},
      "source": [
        "## Complexity Trade-off Table\n",
        "| Approach | Time Complexity | Space Complexity | Notes |\n",
        "| --- | --- | --- | --- |\n",
        "| BFS/DFS flood fill | O(mn) | O(min(mn, queue)) | Visits each cell once. |\n",
        "| Union-Find | O(mn α(mn)) | O(mn) | More code, handy if offline unions preferred. |\n",
        "| Recursive DFS | O(mn) | O(mn) | Risk of recursion depth overflow on large grids.\n"
      ]
    },
    {
      "cell_type": "markdown",
      "metadata": {},
      "source": [
        "## Reference Implementation\n"
      ]
    },
    {
      "cell_type": "code",
      "metadata": {},
      "execution_count": null,
      "outputs": [],
      "source": [
        "from collections import deque\n",
        "\n",
        "\n",
        "def num_islands(grid: list[list[str]]) -> int:\n",
        "    \"\"\"Count connected components of land using BFS.\"\"\"\n",
        "    if not grid:\n",
        "        return 0\n",
        "    rows, cols = len(grid), len(grid[0])\n",
        "    islands = 0\n",
        "    for r in range(rows):\n",
        "        for c in range(cols):\n",
        "            if grid[r][c] != '1':\n",
        "                continue\n",
        "            islands += 1\n",
        "            grid[r][c] = '0'\n",
        "            queue = deque([(r, c)])\n",
        "            while queue:\n",
        "                x, y = queue.popleft()\n",
        "                for dx, dy in ((1, 0), (-1, 0), (0, 1), (0, -1)):\n",
        "                    nx, ny = x + dx, y + dy\n",
        "                    if 0 <= nx < rows and 0 <= ny < cols and grid[nx][ny] == '1':\n",
        "                        grid[nx][ny] = '0'\n",
        "                        queue.append((nx, ny))\n",
        "    return islands\n"
      ]
    },
    {
      "cell_type": "markdown",
      "metadata": {},
      "source": [
        "## Validation\n"
      ]
    },
    {
      "cell_type": "code",
      "metadata": {},
      "execution_count": null,
      "outputs": [],
      "source": [
        "grid1 = [\n",
        "    ['1', '1', '0', '0', '0'],\n",
        "    ['1', '1', '0', '0', '0'],\n",
        "    ['0', '0', '1', '0', '0'],\n",
        "    ['0', '0', '0', '1', '1'],\n",
        "]\n",
        "grid2 = [['0', '0', '0'], ['0', '0', '0']]\n",
        "assert num_islands(grid1) == 3\n",
        "assert num_islands(grid2) == 0\n",
        "print('All tests passed for LC 200.')\n"
      ]
    },
    {
      "cell_type": "markdown",
      "metadata": {},
      "source": [
        "## Complexity Analysis\n",
        "- Time Complexity: O(mn) for scanning every cell and visiting each land once.\n",
        "- Space Complexity: O(min(mn, queue_size)) for the BFS queue.\n",
        "- Bottleneck: Queue growth when exploring a large island.\n"
      ]
    },
    {
      "cell_type": "markdown",
      "metadata": {},
      "source": [
        "## Edge Cases & Pitfalls\n",
        "- All water grid yields zero islands.\n",
        "- Large single island touches every cell.\n",
        "- Make sure to mark visited cells immediately after enqueueing to avoid duplicates.\n"
      ]
    },
    {
      "cell_type": "markdown",
      "metadata": {},
      "source": [
        "## Follow-up Variants\n",
        "- Count islands under diagonal connectivity (8 neighbors).\n",
        "- Compute the size of each island alongside the count.\n",
        "- Solve dynamically as land changes in a stream of updates.\n"
      ]
    },
    {
      "cell_type": "markdown",
      "metadata": {},
      "source": [
        "## Takeaways\n",
        "- BFS flood fill is a cornerstone pattern for grid problems.\n",
        "- In-place marking (`grid[x][y] = '0'`) avoids extra memory.\n",
        "- The same strategy applies to problems about counting provinces or components.\n"
      ]
    },
    {
      "cell_type": "markdown",
      "metadata": {},
      "source": [
        "## Similar Problems\n",
        "| Problem ID | Problem Title | Technique |\n",
        "| --- | --- | --- |\n",
        "| 695 | Max Area of Island | BFS/DFS flood fill |\n",
        "| 463 | Island Perimeter | DFS/BFS with boundary counting |\n",
        "| 417 | Pacific Atlantic Water Flow | Multi-source BFS |\n"
      ]
    }
  ],
  "metadata": {
    "kernelspec": {
      "display_name": "Python 3 (ipykernel)",
      "language": "python",
      "name": "python3"
    },
    "language_info": {
      "codemirror_mode": {
        "name": "ipython",
        "version": 3
      },
      "file_extension": ".py",
      "mimetype": "text/x-python",
      "name": "python",
      "nbconvert_exporter": "python",
      "pygments_lexer": "ipython3",
      "version": "3.13.3"
    }
  },
  "nbformat": 4,
  "nbformat_minor": 5
}