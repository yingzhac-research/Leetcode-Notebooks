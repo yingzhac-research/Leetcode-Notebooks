{
  "cells": [
    {
      "cell_type": "markdown",
      "metadata": {},
      "source": [
        "# 232. Implement Queue using Stacks\n"
      ]
    },
    {
      "cell_type": "markdown",
      "metadata": {},
      "source": [
        "## Topic Alignment\n",
        "- **Role Relevance**: Reinforces dual-stack pattern for simulating queues.\n",
        "- **Scenario**: Applies to building FIFO semantics atop LIFO storage primitives.\n"
      ]
    },
    {
      "cell_type": "markdown",
      "metadata": {},
      "source": [
        "## Metadata Summary\n",
        "- Source: [LeetCode - Implement Queue using Stacks](https://leetcode.com/problems/implement-queue-using-stacks/)\n",
        "- Tags: `Stack`, `Queue`, `Design`\n",
        "- Difficulty: Easy\n",
        "- Recommended Priority: Medium\n"
      ]
    },
    {
      "cell_type": "markdown",
      "metadata": {},
      "source": [
        "## Problem Statement\n",
        "Implement a first-in, first-out queue using two stacks. Support push, pop, peek, and empty operations.\n"
      ]
    },
    {
      "cell_type": "markdown",
      "metadata": {},
      "source": [
        "## Progressive Hints\n",
        "- Hint 1: Use one stack for incoming elements and another for outgoing.\n",
        "- Hint 2: Move elements only when necessary to keep amortized O(1).\n",
        "- Hint 3: Ensure `peek()` and `pop()` trigger transfer when output stack empty.\n"
      ]
    },
    {
      "cell_type": "markdown",
      "metadata": {},
      "source": [
        "## Solution Overview\n",
        "Maintain an input stack (`in_stack`) and output stack (`out_stack`). When popping or peeking and `out_stack` is empty, transfer all elements from `in_stack` to `out_stack`.\n"
      ]
    },
    {
      "cell_type": "markdown",
      "metadata": {},
      "source": [
        "## Detailed Explanation\n",
        "1. `push(x)` pushes onto `in_stack`.\n",
        "2. To `pop` or `peek`, if `out_stack` empty, move all elements from `in_stack` to `out_stack`.\n",
        "3. `pop` pops from `out_stack`; `peek` looks at top of `out_stack`.\n",
        "4. `empty` returns True if both stacks empty.\n"
      ]
    },
    {
      "cell_type": "markdown",
      "metadata": {},
      "source": [
        "## Complexity Trade-off Table\n",
        "| Approach | Amortized Push | Amortized Pop | Notes |\n",
        "| --- | --- | --- | --- |\n",
        "| Two stacks lazy transfer | O(1) | O(1) | Standard design. |\n",
        "| Transfer each push | O(n) | O(1) | Keeps pop cheap but push costly. |\n",
        "| Single stack recursion | O(n) | O(1) | Inefficient and complex.\n"
      ]
    },
    {
      "cell_type": "markdown",
      "metadata": {},
      "source": [
        "## Reference Implementation\n"
      ]
    },
    {
      "cell_type": "code",
      "metadata": {},
      "execution_count": null,
      "outputs": [],
      "source": [
        "class MyQueue:\n",
        "    \"\"\"Queue implemented with two stacks for amortized O(1) ops.\"\"\"\n",
        "    def __init__(self) -> None:\n",
        "        self._in: list[int] = []\n",
        "        self._out: list[int] = []\n",
        "    def push(self, x: int) -> None:\n",
        "        self._in.append(x)\n",
        "    def _transfer(self) -> None:\n",
        "        while self._in:\n",
        "            self._out.append(self._in.pop())\n",
        "    def pop(self) -> int:\n",
        "        if not self._out:\n",
        "            self._transfer()\n",
        "        return self._out.pop()\n",
        "    def peek(self) -> int:\n",
        "        if not self._out:\n",
        "            self._transfer()\n",
        "        return self._out[-1]\n",
        "    def empty(self) -> bool:\n",
        "        return not self._in and not self._out\n"
      ]
    },
    {
      "cell_type": "markdown",
      "metadata": {},
      "source": [
        "## Validation\n"
      ]
    },
    {
      "cell_type": "code",
      "metadata": {},
      "execution_count": null,
      "outputs": [],
      "source": [
        "queue = MyQueue()\n",
        "queue.push(1)\n",
        "queue.push(2)\n",
        "assert queue.peek() == 1\n",
        "assert queue.pop() == 1\n",
        "assert queue.empty() is False\n",
        "print('All tests passed for LC 232.')\n"
      ]
    },
    {
      "cell_type": "markdown",
      "metadata": {},
      "source": [
        "## Complexity Analysis\n",
        "- Amortized Time: O(1) per operation. Worst-case pop triggers transfer of all elements.\n",
        "- Space Complexity: O(n) for two stacks.\n",
        "- Bottleneck: Transfer happens only when `out_stack` empty.\n"
      ]
    },
    {
      "cell_type": "markdown",
      "metadata": {},
      "source": [
        "## Edge Cases & Pitfalls\n",
        "- Multiple peeks without pops should not trigger extra transfers.\n",
        "- `empty()` must consider both stacks.\n",
        "- Popping from empty queue undefined by problem constraints.\n"
      ]
    },
    {
      "cell_type": "markdown",
      "metadata": {},
      "source": [
        "## Follow-up Variants\n",
        "- Implement thread-safe version.\n",
        "- Support size tracking with O(1) extra state.\n",
        "- Extend to double-ended queue using three stacks.\n"
      ]
    },
    {
      "cell_type": "markdown",
      "metadata": {},
      "source": [
        "## Takeaways\n",
        "- Two-stack trick is classic for reversing order lazily.\n",
        "- Amortized analysis ensures performance despite occasional full transfers.\n",
        "- This design underpins queue implementations within stack-only environments.\n"
      ]
    },
    {
      "cell_type": "markdown",
      "metadata": {},
      "source": [
        "## Similar Problems\n",
        "| Problem ID | Problem Title | Technique |\n",
        "| --- | --- | --- |\n",
        "| 225 | Implement Stack using Queues | Queue simulation |\n",
        "| 622 | Design Circular Queue | Array-based queue |\n",
        "| 641 | Design Circular Deque | Double-ended structure |\n"
      ]
    }
  ],
  "metadata": {
    "kernelspec": {
      "display_name": "Python 3 (ipykernel)",
      "language": "python",
      "name": "python3"
    },
    "language_info": {
      "codemirror_mode": {
        "name": "ipython",
        "version": 3
      },
      "file_extension": ".py",
      "mimetype": "text/x-python",
      "name": "python",
      "nbconvert_exporter": "python",
      "pygments_lexer": "ipython3",
      "version": "3.13.3"
    }
  },
  "nbformat": 4,
  "nbformat_minor": 5
}