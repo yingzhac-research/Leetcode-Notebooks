{
  "cells": [
    {
      "cell_type": "markdown",
      "metadata": {},
      "source": [
        "# 102. Binary Tree Level Order Traversal\n"
      ]
    },
    {
      "cell_type": "markdown",
      "metadata": {},
      "source": [
        "## Topic Alignment\n",
        "- **Role Relevance**: Captures breadth-first expansion patterns common in orchestration DAG validation.\n",
        "- **Scenario**: Mirrors layer-wise aggregation of features when building model-serving trees.\n"
      ]
    },
    {
      "cell_type": "markdown",
      "metadata": {},
      "source": [
        "## Metadata Summary\n",
        "- Source: [LeetCode - Binary Tree Level Order Traversal](https://leetcode.com/problems/binary-tree-level-order-traversal/)\n",
        "- Tags: `Tree`, `BFS`, `Queue`\n",
        "- Difficulty: Medium\n",
        "- Recommended Priority: Medium\n"
      ]
    },
    {
      "cell_type": "markdown",
      "metadata": {},
      "source": [
        "## Problem Statement\n",
        "Given the root of a binary tree, return the level order traversal of its nodes' values (from left to right, level by level).\n",
        "\n",
        "Input: Binary tree with up to 2000 nodes.\n",
        "Output: List of lists, where each inner list contains the values in one level.\n",
        "Constraints: Tree node values are integers; tree may be unbalanced.\n"
      ]
    },
    {
      "cell_type": "markdown",
      "metadata": {},
      "source": [
        "## Progressive Hints\n",
        "- Hint 1: A DFS can collect nodes per depth, but think about a more direct breadth-first approach.\n",
        "- Hint 2: Use a queue to process all nodes of the current level before moving to the next.\n",
        "- Hint 3: Capture the queue size up front so child nodes appended during the loop belong to the next level.\n"
      ]
    },
    {
      "cell_type": "markdown",
      "metadata": {},
      "source": [
        "## Solution Overview\n",
        "Perform a breadth-first traversal using a queue. For each level, record the number of nodes currently in the queue, pop them one by one, collect their values, and push their children. Append each level list to the answer.\n"
      ]
    },
    {
      "cell_type": "markdown",
      "metadata": {},
      "source": [
        "## Detailed Explanation\n",
        "1. Guard against an empty tree by returning an empty list.\n",
        "2. Initialize a deque with the root and an empty result list.\n",
        "3. While the queue is non-empty, read the current queue length as `level_size`.\n",
        "4. Pop `level_size` nodes, appending each value to a temporary list and enqueuing left and right children if present.\n",
        "5. Append the temporary list to the result. After the loop, return the result.\n"
      ]
    },
    {
      "cell_type": "markdown",
      "metadata": {},
      "source": [
        "## Complexity Trade-off Table\n",
        "| Approach | Time Complexity | Space Complexity | Notes |\n",
        "| --- | --- | --- | --- |\n",
        "| BFS with queue | O(n) | O(n) | Processes each node once; queue holds a level. |\n",
        "| DFS with depth map | O(n) | O(n) | Requires dictionary keyed by depth. |\n",
        "| Recursive level collection | O(n^2) | O(h) | Inefficient when using repeated list concatenation.\n"
      ]
    },
    {
      "cell_type": "markdown",
      "metadata": {},
      "source": [
        "## Reference Implementation\n"
      ]
    },
    {
      "cell_type": "code",
      "metadata": {},
      "execution_count": null,
      "outputs": [],
      "source": [
        "from collections import deque\n",
        "\n",
        "\n",
        "class TreeNode:\n",
        "    def __init__(self, val=0, left=None, right=None):\n",
        "        self.val = val\n",
        "        self.left = left\n",
        "        self.right = right\n",
        "\n",
        "\n",
        "def level_order(root: TreeNode | None) -> list[list[int]]:\n",
        "    \"\"\"Return a list of node values grouped by tree level.\"\"\"\n",
        "    if not root:\n",
        "        return []\n",
        "    queue = deque([root])\n",
        "    levels: list[list[int]] = []\n",
        "    while queue:\n",
        "        level_size = len(queue)\n",
        "        level = []\n",
        "        for _ in range(level_size):\n",
        "            node = queue.popleft()\n",
        "            level.append(node.val)\n",
        "            if node.left:\n",
        "                queue.append(node.left)\n",
        "            if node.right:\n",
        "                queue.append(node.right)\n",
        "        levels.append(level)\n",
        "    return levels\n"
      ]
    },
    {
      "cell_type": "markdown",
      "metadata": {},
      "source": [
        "## Validation\n"
      ]
    },
    {
      "cell_type": "code",
      "metadata": {},
      "execution_count": null,
      "outputs": [],
      "source": [
        "root = TreeNode(3,\n",
        "                 TreeNode(9),\n",
        "                 TreeNode(20, TreeNode(15), TreeNode(7)))\n",
        "assert level_order(root) == [[3], [9, 20], [15, 7]]\n",
        "assert level_order(None) == []\n",
        "print('All tests passed for LC 102.')\n"
      ]
    },
    {
      "cell_type": "markdown",
      "metadata": {},
      "source": [
        "## Complexity Analysis\n",
        "- Time Complexity: O(n) where n is the number of nodes.\n",
        "- Space Complexity: O(n) due to storing nodes in the queue at the widest level.\n",
        "- Bottleneck: Queue growth when the tree is complete near the bottom.\n"
      ]
    },
    {
      "cell_type": "markdown",
      "metadata": {},
      "source": [
        "## Edge Cases & Pitfalls\n",
        "- Empty tree should return an empty list without errors.\n",
        "- Trees with a single path behave correctly because queue length is always 1.\n",
        "- Ensure children are checked for existence before enqueueing.\n"
      ]
    },
    {
      "cell_type": "markdown",
      "metadata": {},
      "source": [
        "## Follow-up Variants\n",
        "- Return level averages rather than raw values.\n",
        "- Perform zigzag traversal by reversing every other level.\n",
        "- Track depth sums for weighted scoring of tree paths.\n"
      ]
    },
    {
      "cell_type": "markdown",
      "metadata": {},
      "source": [
        "## Takeaways\n",
        "- Queue-based BFS naturally groups nodes by level.\n",
        "- Recording the level size ahead of iteration prevents mixing nodes from different depths.\n",
        "- The same template extends to problems that require aggregating statistics per layer.\n"
      ]
    },
    {
      "cell_type": "markdown",
      "metadata": {},
      "source": [
        "## Similar Problems\n",
        "| Problem ID | Problem Title | Technique |\n",
        "| --- | --- | --- |\n",
        "| 103 | Binary Tree Zigzag Level Order Traversal | BFS with directional flip |\n",
        "| 199 | Binary Tree Right Side View | BFS capturing last node per level |\n",
        "| 429 | N-ary Tree Level Order Traversal | BFS on N-ary trees |\n"
      ]
    }
  ],
  "metadata": {
    "kernelspec": {
      "display_name": "Python 3 (ipykernel)",
      "language": "python",
      "name": "python3"
    },
    "language_info": {
      "codemirror_mode": {
        "name": "ipython",
        "version": 3
      },
      "file_extension": ".py",
      "mimetype": "text/x-python",
      "name": "python",
      "nbconvert_exporter": "python",
      "pygments_lexer": "ipython3",
      "version": "3.13.3"
    }
  },
  "nbformat": 4,
  "nbformat_minor": 5
}