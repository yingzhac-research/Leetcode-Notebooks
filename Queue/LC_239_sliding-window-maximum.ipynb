{
  "cells": [
    {
      "cell_type": "markdown",
      "metadata": {},
      "source": [
        "# 239. Sliding Window Maximum\n"
      ]
    },
    {
      "cell_type": "markdown",
      "metadata": {},
      "source": [
        "## Topic Alignment\n",
        "- **Role Relevance**: Demonstrates monotonic deque usage in streaming analytics.\n",
        "- **Scenario**: Computes rolling maxima for time-series features in O(n).\n"
      ]
    },
    {
      "cell_type": "markdown",
      "metadata": {},
      "source": [
        "## Metadata Summary\n",
        "- Source: [LeetCode - Sliding Window Maximum](https://leetcode.com/problems/sliding-window-maximum/)\n",
        "- Tags: `Deque`, `Sliding Window`, `Monotonic Queue`\n",
        "- Difficulty: Hard\n",
        "- Recommended Priority: High\n"
      ]
    },
    {
      "cell_type": "markdown",
      "metadata": {},
      "source": [
        "## Problem Statement\n",
        "Given an array `nums` and an integer `k`, return the maximum value in every contiguous subarray of length `k`.\n"
      ]
    },
    {
      "cell_type": "markdown",
      "metadata": {},
      "source": [
        "## Progressive Hints\n",
        "- Hint 1: A naive O(nk) approach slides the window and scans, but cannot pass large inputs.\n",
        "- Hint 2: Maintain a deque with indices in decreasing order of values.\n",
        "- Hint 3: Remove indices outside the window and those with smaller values than the current element.\n"
      ]
    },
    {
      "cell_type": "markdown",
      "metadata": {},
      "source": [
        "## Solution Overview\n",
        "Use a double-ended queue to keep indices of potential maxima in decreasing value order. For each index, remove out-of-window indices from the left and smaller elements from the right, then append current index. The front of the deque holds the maximum for the current window.\n"
      ]
    },
    {
      "cell_type": "markdown",
      "metadata": {},
      "source": [
        "## Detailed Explanation\n",
        "1. Initialize an empty deque for indices and result list.\n",
        "2. Iterate over indices. Before processing `i`, pop left indices where `i - k` >= index.\n",
        "3. While deque not empty and `nums[deque[-1]] <= nums[i]`, pop rightmost index to maintain monotonicity.\n",
        "4. Append current index. When `i >= k - 1`, append `nums[deque[0]]` to result.\n"
      ]
    },
    {
      "cell_type": "markdown",
      "metadata": {},
      "source": [
        "## Complexity Trade-off Table\n",
        "| Approach | Time Complexity | Space Complexity | Notes |\n",
        "| --- | --- | --- | --- |\n",
        "| Monotonic deque | O(n) | O(k) | Optimal; each index processed once. |\n",
        "| Max-heap | O(n log k) | O(k) | Needs lazy deletion to handle expired indices. |\n",
        "| Brute force | O(nk) | O(1) | Too slow for large n.\n"
      ]
    },
    {
      "cell_type": "markdown",
      "metadata": {},
      "source": [
        "## Reference Implementation\n"
      ]
    },
    {
      "cell_type": "code",
      "metadata": {},
      "execution_count": null,
      "outputs": [],
      "source": [
        "from collections import deque\n",
        "\n",
        "\n",
        "def max_sliding_window(nums: list[int], k: int) -> list[int]:\n",
        "    \"\"\"Return maximum of each sliding window using a monotonic deque.\"\"\"\n",
        "    if not nums or k == 0:\n",
        "        return []\n",
        "    dq = deque()  # stores indices\n",
        "    result: list[int] = []\n",
        "    for i, value in enumerate(nums):\n",
        "        while dq and dq[0] <= i - k:\n",
        "            dq.popleft()\n",
        "        while dq and nums[dq[-1]] <= value:\n",
        "            dq.pop()\n",
        "        dq.append(i)\n",
        "        if i >= k - 1:\n",
        "            result.append(nums[dq[0]])\n",
        "    return result\n"
      ]
    },
    {
      "cell_type": "markdown",
      "metadata": {},
      "source": [
        "## Validation\n"
      ]
    },
    {
      "cell_type": "code",
      "metadata": {},
      "execution_count": null,
      "outputs": [],
      "source": [
        "assert max_sliding_window([1,3,-1,-3,5,3,6,7], 3) == [3,3,5,5,6,7]\n",
        "assert max_sliding_window([1], 1) == [1]\n",
        "assert max_sliding_window([9,11], 2) == [11]\n",
        "print('All tests passed for LC 239.')\n"
      ]
    },
    {
      "cell_type": "markdown",
      "metadata": {},
      "source": [
        "## Complexity Analysis\n",
        "- Time Complexity: O(n) since each index enters and leaves deque at most once.\n",
        "- Space Complexity: O(k) for deque storing up to window size indices.\n",
        "- Bottleneck: None; operations per element constant.\n"
      ]
    },
    {
      "cell_type": "markdown",
      "metadata": {},
      "source": [
        "## Edge Cases & Pitfalls\n",
        "- k == 1 reduces to original array.\n",
        "- Non-increasing sequences keep full window in deque.\n",
        "- Ensure we remove expired indices before pushing new values.\n"
      ]
    },
    {
      "cell_type": "markdown",
      "metadata": {},
      "source": [
        "## Follow-up Variants\n",
        "- Maintain both max and min in the same pass.\n",
        "- Support streaming windows with push/pop operations (design problem).\n",
        "- Extend to 2D sliding window maxima using deque per row/column.\n"
      ]
    },
    {
      "cell_type": "markdown",
      "metadata": {},
      "source": [
        "## Takeaways\n",
        "- Monotonic queues provide O(1) amortized window updates.\n",
        "- Storing indices rather than values simplifies expiry logic.\n",
        "- This pattern underpins many sliding window optimization problems.\n"
      ]
    },
    {
      "cell_type": "markdown",
      "metadata": {},
      "source": [
        "## Similar Problems\n",
        "| Problem ID | Problem Title | Technique |\n",
        "| --- | --- | --- |\n",
        "| 1438 | Longest Continuous Subarray With Absolute Diff <= Limit | Monotonic deque for max/min |\n",
        "| 862 | Shortest Subarray with Sum at Least K | Monotonic deque on prefix sums |\n",
        "| 918 | Maximum Sum Circular Subarray | Prefix deque variant |\n"
      ]
    }
  ],
  "metadata": {
    "kernelspec": {
      "display_name": "Python 3 (ipykernel)",
      "language": "python",
      "name": "python3"
    },
    "language_info": {
      "codemirror_mode": {
        "name": "ipython",
        "version": 3
      },
      "file_extension": ".py",
      "mimetype": "text/x-python",
      "name": "python",
      "nbconvert_exporter": "python",
      "pygments_lexer": "ipython3",
      "version": "3.13.3"
    }
  },
  "nbformat": 4,
  "nbformat_minor": 5
}