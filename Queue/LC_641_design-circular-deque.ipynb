{
  "cells": [
    {
      "cell_type": "markdown",
      "metadata": {},
      "source": [
        "# 641. Design Circular Deque\n"
      ]
    },
    {
      "cell_type": "markdown",
      "metadata": {},
      "source": [
        "## Topic Alignment\n",
        "- **Role Relevance**: Extends circular queue to support double-ended operations.\n",
        "- **Scenario**: Models buffers requiring both prepend and append in streaming jobs.\n"
      ]
    },
    {
      "cell_type": "markdown",
      "metadata": {},
      "source": [
        "## Metadata Summary\n",
        "- Source: [LeetCode - Design Circular Deque](https://leetcode.com/problems/design-circular-deque/)\n",
        "- Tags: `Deque`, `Design`, `Array`\n",
        "- Difficulty: Medium\n",
        "- Recommended Priority: Medium\n"
      ]
    },
    {
      "cell_type": "markdown",
      "metadata": {},
      "source": [
        "## Problem Statement\n",
        "Implement a circular deque supporting insert/delete at front and rear, peek operations, and capacity checks.\n"
      ]
    },
    {
      "cell_type": "markdown",
      "metadata": {},
      "source": [
        "## Progressive Hints\n",
        "- Hint 1: Similar to circular queue but maintain head and tail separately.\n",
        "- Hint 2: Use modulo arithmetic and keep one slot open or track size.\n",
        "- Hint 3: Mirror front/rear logic carefully to avoid off-by-one errors.\n"
      ]
    },
    {
      "cell_type": "markdown",
      "metadata": {},
      "source": [
        "## Solution Overview\n",
        "Use an array of size k with head pointing to front element and tail to next insertion position at rear. Maintain size to detect fullness.\n"
      ]
    },
    {
      "cell_type": "markdown",
      "metadata": {},
      "source": [
        "## Detailed Explanation\n",
        "1. Initialize data array, head = 0, tail = 0, size = 0.\n",
        "2. `insertFront`: decrement head modulo capacity, place value if not full.\n",
        "3. `insertLast`: place at tail, increment tail modulo capacity.\n",
        "4. `deleteFront`: increment head; `deleteLast`: decrement tail modulo capacity.\n",
        "5. `getFront`/`getRear` read from head and `(tail - 1) % cap`.\n",
        "6. `isEmpty` checks size == 0; `isFull` checks size == capacity.\n"
      ]
    },
    {
      "cell_type": "markdown",
      "metadata": {},
      "source": [
        "## Complexity Trade-off Table\n",
        "| Approach | Time Complexity | Notes |\n",
        "| --- | --- | --- |\n",
        "| Array + head/tail + size | O(1) per op | Clean and memory efficient. |\n",
        "| Linked list | O(1) per op | Simpler pointer math but more allocations. |\n",
        "| Doubly linked ring buffer | O(1) | Equivalent, but array ensures cache locality.\n"
      ]
    },
    {
      "cell_type": "markdown",
      "metadata": {},
      "source": [
        "## Reference Implementation\n"
      ]
    },
    {
      "cell_type": "code",
      "metadata": {},
      "execution_count": null,
      "outputs": [],
      "source": [
        "class MyCircularDeque:\n",
        "    \"\"\"Circular deque with fixed capacity backed by array.\"\"\"\n",
        "    def __init__(self, k: int):\n",
        "        self._data = [0] * k\n",
        "        self._capacity = k\n",
        "        self._head = 0\n",
        "        self._tail = 0\n",
        "        self._size = 0\n",
        "    def insertFront(self, value: int) -> bool:\n",
        "        if self.isFull():\n",
        "            return False\n",
        "        self._head = (self._head - 1) % self._capacity\n",
        "        self._data[self._head] = value\n",
        "        self._size += 1\n",
        "        return True\n",
        "    def insertLast(self, value: int) -> bool:\n",
        "        if self.isFull():\n",
        "            return False\n",
        "        self._data[self._tail] = value\n",
        "        self._tail = (self._tail + 1) % self._capacity\n",
        "        self._size += 1\n",
        "        return True\n",
        "    def deleteFront(self) -> bool:\n",
        "        if self.isEmpty():\n",
        "            return False\n",
        "        self._head = (self._head + 1) % self._capacity\n",
        "        self._size -= 1\n",
        "        return True\n",
        "    def deleteLast(self) -> bool:\n",
        "        if self.isEmpty():\n",
        "            return False\n",
        "        self._tail = (self._tail - 1) % self._capacity\n",
        "        self._size -= 1\n",
        "        return True\n",
        "    def getFront(self) -> int:\n",
        "        return -1 if self.isEmpty() else self._data[self._head]\n",
        "    def getRear(self) -> int:\n",
        "        if self.isEmpty():\n",
        "            return -1\n",
        "        return self._data[(self._tail - 1) % self._capacity]\n",
        "    def isEmpty(self) -> bool:\n",
        "        return self._size == 0\n",
        "    def isFull(self) -> bool:\n",
        "        return self._size == self._capacity\n"
      ]
    },
    {
      "cell_type": "markdown",
      "metadata": {},
      "source": [
        "## Validation\n"
      ]
    },
    {
      "cell_type": "code",
      "metadata": {},
      "execution_count": null,
      "outputs": [],
      "source": [
        "dq = MyCircularDeque(3)\n",
        "assert dq.insertLast(1)\n",
        "assert dq.insertLast(2)\n",
        "assert dq.insertFront(3)\n",
        "assert dq.isFull()\n",
        "assert dq.getRear() == 2\n",
        "assert dq.deleteLast()\n",
        "assert dq.insertFront(4)\n",
        "assert dq.getFront() == 4\n",
        "print('All tests passed for LC 641.')\n"
      ]
    },
    {
      "cell_type": "markdown",
      "metadata": {},
      "source": [
        "## Complexity Analysis\n",
        "- Time Complexity: O(1) per operation.\n",
        "- Space Complexity: O(k).\n",
        "- Bottleneck: None.\n"
      ]
    },
    {
      "cell_type": "markdown",
      "metadata": {},
      "source": [
        "## Edge Cases & Pitfalls\n",
        "- Operating on empty deque should return failure indicators.\n",
        "- Inserting when full should fail gracefully.\n",
        "- Wrap-around when head moves left of 0 or tail beyond capacity.\n"
      ]
    },
    {
      "cell_type": "markdown",
      "metadata": {},
      "source": [
        "## Follow-up Variants\n",
        "- Support resizing when full.\n",
        "- Track min/max within deque.\n",
        "- Provide iterator over current elements.\n"
      ]
    },
    {
      "cell_type": "markdown",
      "metadata": {},
      "source": [
        "## Takeaways\n",
        "- Double-ended queues can be built on circular buffers.\n",
        "- Carefully managing head/tail indices avoids off-by-one bugs.\n",
        "- Deque operations remain O(1) when implemented over arrays.\n"
      ]
    },
    {
      "cell_type": "markdown",
      "metadata": {},
      "source": [
        "## Similar Problems\n",
        "| Problem ID | Problem Title | Technique |\n",
        "| --- | --- | --- |\n",
        "| 622 | Design Circular Queue | Single-end operations |\n",
        "| 641 | Design Circular Deque | Self reference |\n",
        "| 1670 | Design Front Middle Back Queue | Augmented deque |\n"
      ]
    }
  ],
  "metadata": {
    "kernelspec": {
      "display_name": "Python 3 (ipykernel)",
      "language": "python",
      "name": "python3"
    },
    "language_info": {
      "codemirror_mode": {
        "name": "ipython",
        "version": 3
      },
      "file_extension": ".py",
      "mimetype": "text/x-python",
      "name": "python",
      "nbconvert_exporter": "python",
      "pygments_lexer": "ipython3",
      "version": "3.13.3"
    }
  },
  "nbformat": 4,
  "nbformat_minor": 5
}