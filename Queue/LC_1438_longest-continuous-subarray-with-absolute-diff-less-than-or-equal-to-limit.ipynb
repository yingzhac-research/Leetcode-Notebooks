{
  "cells": [
    {
      "cell_type": "markdown",
      "metadata": {},
      "source": [
        "# 1438. Longest Continuous Subarray With Absolute Diff <= Limit\n"
      ]
    },
    {
      "cell_type": "markdown",
      "metadata": {},
      "source": [
        "## Topic Alignment\n",
        "- **Role Relevance**: Maintains streaming constraints using twin monotonic queues.\n",
        "- **Scenario**: Ensures fairness windows stay within tolerance in monitoring pipelines.\n"
      ]
    },
    {
      "cell_type": "markdown",
      "metadata": {},
      "source": [
        "## Metadata Summary\n",
        "- Source: [LeetCode - Longest Continuous Subarray With Absolute Diff Less Than or Equal to Limit](https://leetcode.com/problems/longest-continuous-subarray-with-absolute-diff-less-than-or-equal-to-limit/)\n",
        "- Tags: `Deque`, `Sliding Window`\n",
        "- Difficulty: Medium\n",
        "- Recommended Priority: Medium\n"
      ]
    },
    {
      "cell_type": "markdown",
      "metadata": {},
      "source": [
        "## Problem Statement\n",
        "Return the length of the longest contiguous subarray where the absolute difference between any two elements is less than or equal to `limit`.\n"
      ]
    },
    {
      "cell_type": "markdown",
      "metadata": {},
      "source": [
        "## Progressive Hints\n",
        "- Hint 1: We need quick access to current window min and max.\n",
        "- Hint 2: Maintain two deques: one decreasing (max), one increasing (min).\n",
        "- Hint 3: Shrink window from left when max - min exceeds limit.\n"
      ]
    },
    {
      "cell_type": "markdown",
      "metadata": {},
      "source": [
        "## Solution Overview\n",
        "Use sliding window with two monotonic deques to track max and min. Expand right pointer, shrink left pointer while violation occurs, update best length.\n"
      ]
    },
    {
      "cell_type": "markdown",
      "metadata": {},
      "source": [
        "## Detailed Explanation\n",
        "1. Initiate two deques `max_dq` and `min_dq` storing indices.\n",
        "2. For each right index, push it into both deques while preserving monotonicity.\n",
        "3. While window invalid (`nums[max_dq[0]] - nums[min_dq[0]] > limit`), increment left pointer and purge indices left of window from both deques.\n",
        "4. Track maximum window size encountered.\n"
      ]
    },
    {
      "cell_type": "markdown",
      "metadata": {},
      "source": [
        "## Complexity Trade-off Table\n",
        "| Approach | Time Complexity | Space Complexity | Notes |\n",
        "| --- | --- | --- | --- |\n",
        "| Dual monotonic deque | O(n) | O(n) | Efficient and scalable. |\n",
        "| Balanced BST or multiset | O(n log n) | O(n) | Simpler but slower. |\n",
        "| Brute force | O(n^2) | O(1) | Not viable for n up to 10^5.\n"
      ]
    },
    {
      "cell_type": "markdown",
      "metadata": {},
      "source": [
        "## Reference Implementation\n"
      ]
    },
    {
      "cell_type": "code",
      "metadata": {},
      "execution_count": null,
      "outputs": [],
      "source": [
        "from collections import deque\n",
        "\n",
        "\n",
        "def longest_subarray(nums: list[int], limit: int) -> int:\n",
        "    \"\"\"Return longest subarray length with abs diff <= limit using two deques.\"\"\"\n",
        "    max_dq: deque[int] = deque()\n",
        "    min_dq: deque[int] = deque()\n",
        "    left = 0\n",
        "    best = 0\n",
        "    for right, value in enumerate(nums):\n",
        "        while max_dq and nums[max_dq[-1]] < value:\n",
        "            max_dq.pop()\n",
        "        max_dq.append(right)\n",
        "        while min_dq and nums[min_dq[-1]] > value:\n",
        "            min_dq.pop()\n",
        "        min_dq.append(right)\n",
        "        while nums[max_dq[0]] - nums[min_dq[0]] > limit:\n",
        "            left += 1\n",
        "            if max_dq[0] < left:\n",
        "                max_dq.popleft()\n",
        "            if min_dq[0] < left:\n",
        "                min_dq.popleft()\n",
        "        best = max(best, right - left + 1)\n",
        "    return best\n"
      ]
    },
    {
      "cell_type": "markdown",
      "metadata": {},
      "source": [
        "## Validation\n"
      ]
    },
    {
      "cell_type": "code",
      "metadata": {},
      "execution_count": null,
      "outputs": [],
      "source": [
        "assert longest_subarray([8,2,4,7], 4) == 2\n",
        "assert longest_subarray([10,1,2,4,7,2], 5) == 4\n",
        "assert longest_subarray([4,2,2,2,4,4,2,2], 0) == 3\n",
        "print('All tests passed for LC 1438.')\n"
      ]
    },
    {
      "cell_type": "markdown",
      "metadata": {},
      "source": [
        "## Complexity Analysis\n",
        "- Time Complexity: O(n).\n",
        "- Space Complexity: O(n) in worst case for deques.\n",
        "- Bottleneck: Deque operations remain constant amortized.\n"
      ]
    },
    {
      "cell_type": "markdown",
      "metadata": {},
      "source": [
        "## Edge Cases & Pitfalls\n",
        "- limit = 0 implies looking for runs of equal numbers.\n",
        "- Strictly increasing sequence may force shrinking frequently.\n",
        "- Keep indices to remove outdated elements when left moves.\n"
      ]
    },
    {
      "cell_type": "markdown",
      "metadata": {},
      "source": [
        "## Follow-up Variants\n",
        "- Return the actual subarray indices.\n",
        "- Support multiple queries with different limits using offline processing.\n",
        "- Apply to 2D arrays by handling rows/columns independently.\n"
      ]
    },
    {
      "cell_type": "markdown",
      "metadata": {},
      "source": [
        "## Takeaways\n",
        "- Maintaining both monotonic max and min deques supports constraints on range.\n",
        "- Shrinking window properly requires removing expired indices.\n",
        "- Pattern generalizes to other `max - min` bounded problems.\n"
      ]
    },
    {
      "cell_type": "markdown",
      "metadata": {},
      "source": [
        "## Similar Problems\n",
        "| Problem ID | Problem Title | Technique |\n",
        "| --- | --- | --- |\n",
        "| 239 | Sliding Window Maximum | Single monotonic deque |\n",
        "| 862 | Shortest Subarray with Sum >= K | Monotonic deque on prefix |\n",
        "| 480 | Sliding Window Median | Two heaps / multiset |\n"
      ]
    }
  ],
  "metadata": {
    "kernelspec": {
      "display_name": "Python 3 (ipykernel)",
      "language": "python",
      "name": "python3"
    },
    "language_info": {
      "codemirror_mode": {
        "name": "ipython",
        "version": 3
      },
      "file_extension": ".py",
      "mimetype": "text/x-python",
      "name": "python",
      "nbconvert_exporter": "python",
      "pygments_lexer": "ipython3",
      "version": "3.13.3"
    }
  },
  "nbformat": 4,
  "nbformat_minor": 5
}