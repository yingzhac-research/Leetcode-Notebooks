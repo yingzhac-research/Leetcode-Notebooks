{
  "cells": [
    {
      "cell_type": "markdown",
      "metadata": {},
      "source": [
        "# 199. Binary Tree Right Side View\n"
      ]
    },
    {
      "cell_type": "markdown",
      "metadata": {},
      "source": [
        "## Topic Alignment\n",
        "- **Role Relevance**: Captures frontier inspection, akin to checking last task in each DAG layer.\n",
        "- **Scenario**: Useful for selecting representative nodes when visualizing hierarchical feature flows.\n"
      ]
    },
    {
      "cell_type": "markdown",
      "metadata": {},
      "source": [
        "## Metadata Summary\n",
        "- Source: [LeetCode - Binary Tree Right Side View](https://leetcode.com/problems/binary-tree-right-side-view/)\n",
        "- Tags: `Tree`, `BFS`, `Queue`\n",
        "- Difficulty: Medium\n",
        "- Recommended Priority: Medium\n"
      ]
    },
    {
      "cell_type": "markdown",
      "metadata": {},
      "source": [
        "## Problem Statement\n",
        "Given the root of a binary tree, imagine yourself standing on the right side of it and return the values of the nodes you can see ordered from top to bottom.\n",
        "Rightmost node of each level should appear in the output.\n"
      ]
    },
    {
      "cell_type": "markdown",
      "metadata": {},
      "source": [
        "## Progressive Hints\n",
        "- Hint 1: Level order traversal naturally reveals the ordering by depth.\n",
        "- Hint 2: For each level, record the last node processed.\n",
        "- Hint 3: Alternatively, run DFS prioritizing right subtree first.\n"
      ]
    },
    {
      "cell_type": "markdown",
      "metadata": {},
      "source": [
        "## Solution Overview\n",
        "Run BFS level by level and append the value of the last node dequeued from each level to the answer.\n"
      ]
    },
    {
      "cell_type": "markdown",
      "metadata": {},
      "source": [
        "## Detailed Explanation\n",
        "1. Handle empty tree case.\n",
        "2. Enqueue the root and iterate while queue exists.\n",
        "3. Determine the level size, iterate through nodes pop-left style, enqueuing children.\n",
        "4. When the loop index equals level_size - 1, append the node value to the output.\n",
        "5. Return the accumulated list once BFS completes.\n"
      ]
    },
    {
      "cell_type": "markdown",
      "metadata": {},
      "source": [
        "## Complexity Trade-off Table\n",
        "| Approach | Time Complexity | Space Complexity | Notes |\n",
        "| --- | --- | --- | --- |\n",
        "| BFS collecting last node | O(n) | O(n) | Simple and intuitive. |\n",
        "| DFS right-first | O(n) | O(h) | Saves space on balanced trees. |\n",
        "| BFS storing entire level | O(n) | O(n) | Equivalent but with extra storage per level.\n"
      ]
    },
    {
      "cell_type": "markdown",
      "metadata": {},
      "source": [
        "## Reference Implementation\n"
      ]
    },
    {
      "cell_type": "code",
      "metadata": {},
      "execution_count": null,
      "outputs": [],
      "source": [
        "from collections import deque\n",
        "\n",
        "\n",
        "class TreeNode:\n",
        "    def __init__(self, val=0, left=None, right=None):\n",
        "        self.val = val\n",
        "        self.left = left\n",
        "        self.right = right\n",
        "\n",
        "\n",
        "def right_side_view(root: TreeNode | None) -> list[int]:\n",
        "    \"\"\"Return the rightmost node value at each depth.\"\"\"\n",
        "    if not root:\n",
        "        return []\n",
        "    queue = deque([root])\n",
        "    view: list[int] = []\n",
        "    while queue:\n",
        "        level_size = len(queue)\n",
        "        for i in range(level_size):\n",
        "            node = queue.popleft()\n",
        "            if node.left:\n",
        "                queue.append(node.left)\n",
        "            if node.right:\n",
        "                queue.append(node.right)\n",
        "            if i == level_size - 1:\n",
        "                view.append(node.val)\n",
        "    return view\n"
      ]
    },
    {
      "cell_type": "markdown",
      "metadata": {},
      "source": [
        "## Validation\n"
      ]
    },
    {
      "cell_type": "code",
      "metadata": {},
      "execution_count": null,
      "outputs": [],
      "source": [
        "root = TreeNode(1, TreeNode(2, None, TreeNode(5)), TreeNode(3, None, TreeNode(4)))\n",
        "assert right_side_view(root) == [1, 3, 4]\n",
        "assert right_side_view(None) == []\n",
        "print('All tests passed for LC 199.')\n"
      ]
    },
    {
      "cell_type": "markdown",
      "metadata": {},
      "source": [
        "## Complexity Analysis\n",
        "- Time Complexity: O(n) with n nodes processed once.\n",
        "- Space Complexity: O(n) for queue at the widest level.\n",
        "- Bottleneck: None beyond BFS storage.\n"
      ]
    },
    {
      "cell_type": "markdown",
      "metadata": {},
      "source": [
        "## Edge Cases & Pitfalls\n",
        "- Left-leaning tree still outputs last node per level.\n",
        "- Single node tree returns [value].\n",
        "- Ensure queue updates before checking `i == level_size - 1`.\n"
      ]
    },
    {
      "cell_type": "markdown",
      "metadata": {},
      "source": [
        "## Follow-up Variants\n",
        "- Return both left and right side views.\n",
        "- Output depth-index pairs for further processing.\n",
        "- Handle N-ary trees where right side view generalizes to final child.\n"
      ]
    },
    {
      "cell_type": "markdown",
      "metadata": {},
      "source": [
        "## Takeaways\n",
        "- Small tweaks to BFS yield targeted insights (like visible frontier).\n",
        "- Tracking the iteration index is often enough to identify special nodes.\n",
        "- BFS remains a versatile tool for hierarchical data problems.\n"
      ]
    },
    {
      "cell_type": "markdown",
      "metadata": {},
      "source": [
        "## Similar Problems\n",
        "| Problem ID | Problem Title | Technique |\n",
        "| --- | --- | --- |\n",
        "| 102 | Binary Tree Level Order Traversal | BFS level scan |\n",
        "| 515 | Find Largest Value in Each Tree Row | BFS with max aggregation |\n",
        "| 662 | Maximum Width of Binary Tree | BFS with index tracking |\n"
      ]
    }
  ],
  "metadata": {
    "kernelspec": {
      "display_name": "Python 3 (ipykernel)",
      "language": "python",
      "name": "python3"
    },
    "language_info": {
      "codemirror_mode": {
        "name": "ipython",
        "version": 3
      },
      "file_extension": ".py",
      "mimetype": "text/x-python",
      "name": "python",
      "nbconvert_exporter": "python",
      "pygments_lexer": "ipython3",
      "version": "3.13.3"
    }
  },
  "nbformat": 4,
  "nbformat_minor": 5
}