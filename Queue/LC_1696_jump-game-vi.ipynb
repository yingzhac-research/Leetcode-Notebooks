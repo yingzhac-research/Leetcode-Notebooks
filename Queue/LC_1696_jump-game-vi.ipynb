{
  "cells": [
    {
      "cell_type": "markdown",
      "metadata": {},
      "source": [
        "# 1696. Jump Game VI\n"
      ]
    },
    {
      "cell_type": "markdown",
      "metadata": {},
      "source": [
        "## Topic Alignment\n",
        "- **Role Relevance**: Uses deque to optimize DP transitions over sliding windows.\n",
        "- **Scenario**: Reflects dynamic programming with constrained lookback, common in scoring pipelines.\n"
      ]
    },
    {
      "cell_type": "markdown",
      "metadata": {},
      "source": [
        "## Metadata Summary\n",
        "- Source: [LeetCode - Jump Game VI](https://leetcode.com/problems/jump-game-vi/)\n",
        "- Tags: `Dynamic Programming`, `Deque`, `Sliding Window`\n",
        "- Difficulty: Medium\n",
        "- Recommended Priority: Medium\n"
      ]
    },
    {
      "cell_type": "markdown",
      "metadata": {},
      "source": [
        "## Problem Statement\n",
        "Given array `nums` and integer `k`, you start at index 0. At each move you can jump forward 1 to k steps.Return the maximum score possible (sum of visited values) when you reach the last index.\n"
      ]
    },
    {
      "cell_type": "markdown",
      "metadata": {},
      "source": [
        "## Progressive Hints\n",
        "- Hint 1: DP relation: `dp[i] = nums[i] + max(dp[j])` for `j in [i-k, i-1]`.\n",
        "- Hint 2: Sliding window max is needed; use deque of indices sorted by dp values.\n",
        "- Hint 3: Remove indices outside window and dominated scores.\n"
      ]
    },
    {
      "cell_type": "markdown",
      "metadata": {},
      "source": [
        "## Solution Overview\n",
        "Use DP with a deque storing indices in decreasing dp value order. For each i, dp[i] equals nums[i] plus dp at deque front. Maintain deque window of size k.\n"
      ]
    },
    {
      "cell_type": "markdown",
      "metadata": {},
      "source": [
        "## Detailed Explanation\n",
        "1. Initialize dp[0] = nums[0], deque with index 0.\n",
        "2. For each i from 1 to n-1: remove deque indices < i - k.\n",
        "3. dp[i] = nums[i] + dp[deque[0]].\n",
        "4. While deque not empty and dp[i] >= dp[deque[-1]], pop from back.\n",
        "5. Append i. Continue until last index; return dp[-1].\n"
      ]
    },
    {
      "cell_type": "markdown",
      "metadata": {},
      "source": [
        "## Complexity Trade-off Table\n",
        "| Approach | Time Complexity | Space Complexity | Notes |\n",
        "| --- | --- | --- | --- |\n",
        "| DP + deque | O(n) | O(k) | Efficient for large n (up to 10^5). |\n",
        "| DP + heap | O(n log k) | O(k) | Simpler but slower. |\n",
        "| Naive DP | O(nk) | O(n) | Too slow with k = 10^5.\n"
      ]
    },
    {
      "cell_type": "markdown",
      "metadata": {},
      "source": [
        "## Reference Implementation\n"
      ]
    },
    {
      "cell_type": "code",
      "metadata": {},
      "execution_count": null,
      "outputs": [],
      "source": [
        "from collections import deque\n",
        "\n",
        "\n",
        "def max_result(nums: list[int], k: int) -> int:\n",
        "    \"\"\"Return maximum score using DP with monotonic deque.\"\"\"\n",
        "    dq = deque([0])\n",
        "    dp = [0] * len(nums)\n",
        "    dp[0] = nums[0]\n",
        "    for i in range(1, len(nums)):\n",
        "        while dq and dq[0] < i - k:\n",
        "            dq.popleft()\n",
        "        dp[i] = nums[i] + dp[dq[0]]\n",
        "        while dq and dp[i] >= dp[dq[-1]]:\n",
        "            dq.pop()\n",
        "        dq.append(i)\n",
        "    return dp[-1]\n"
      ]
    },
    {
      "cell_type": "markdown",
      "metadata": {},
      "source": [
        "## Validation\n"
      ]
    },
    {
      "cell_type": "code",
      "metadata": {},
      "execution_count": null,
      "outputs": [],
      "source": [
        "assert max_result([1,-1,-2,4,-7,3], 2) == 7\n",
        "assert max_result([10,-5,-2,4,0,3], 3) == 17\n",
        "assert max_result([1,-5,-20,4,-1,3,-6,-3], 2) == 0\n",
        "print('All tests passed for LC 1696.')\n"
      ]
    },
    {
      "cell_type": "markdown",
      "metadata": {},
      "source": [
        "## Complexity Analysis\n",
        "- Time Complexity: O(n).\n",
        "- Space Complexity: O(n) for dp plus deque storing up to k indices.\n",
        "- Bottleneck: DP array; can be optimized by storing only last n values if needed.\n"
      ]
    },
    {
      "cell_type": "markdown",
      "metadata": {},
      "source": [
        "## Edge Cases & Pitfalls\n",
        "- k can be larger than array length; window logic handles it.\n",
        "- Negative numbers dominate sums but deque ensures best preceding dp used.\n",
        "- When multiple dp values equal, maintain order to keep earliest index.\n"
      ]
    },
    {
      "cell_type": "markdown",
      "metadata": {},
      "source": [
        "## Follow-up Variants\n",
        "- Track path reconstruction by storing predecessors.\n",
        "- Handle memory pressure by reusing dp array with mod index.\n",
        "- Adapt to varying step limits per index.\n"
      ]
    },
    {
      "cell_type": "markdown",
      "metadata": {},
      "source": [
        "## Takeaways\n",
        "- Monotonic queues seamlessly accelerate DP with sliding window maxima.\n",
        "- Using indices ensures we can enforce window constraints efficiently.\n",
        "- The pattern extends to many `max over last k` DP recurrences.\n"
      ]
    },
    {
      "cell_type": "markdown",
      "metadata": {},
      "source": [
        "## Similar Problems\n",
        "| Problem ID | Problem Title | Technique |\n",
        "| --- | --- | --- |\n",
        "| 1425 | Constrained Subsequence Sum | DP + deque |\n",
        "| 239 | Sliding Window Maximum | Monotonic deque |\n",
        "| 53 | Maximum Subarray | Kadane without window constraint |\n"
      ]
    }
  ],
  "metadata": {
    "kernelspec": {
      "display_name": "Python 3 (ipykernel)",
      "language": "python",
      "name": "python3"
    },
    "language_info": {
      "codemirror_mode": {
        "name": "ipython",
        "version": 3
      },
      "file_extension": ".py",
      "mimetype": "text/x-python",
      "name": "python",
      "nbconvert_exporter": "python",
      "pygments_lexer": "ipython3",
      "version": "3.13.3"
    }
  },
  "nbformat": 4,
  "nbformat_minor": 5
}