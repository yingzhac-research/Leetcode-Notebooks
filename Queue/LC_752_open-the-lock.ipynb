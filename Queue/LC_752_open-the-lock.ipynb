{
  "cells": [
    {
      "cell_type": "markdown",
      "metadata": {},
      "source": [
        "# 752. Open the Lock\n"
      ]
    },
    {
      "cell_type": "markdown",
      "metadata": {},
      "source": [
        "## Topic Alignment\n",
        "- **Role Relevance**: Demonstrates BFS on combinational state spaces with forbidden states.\n",
        "- **Scenario**: Models retry loops with invalid configurations to reach a target state.\n"
      ]
    },
    {
      "cell_type": "markdown",
      "metadata": {},
      "source": [
        "## Metadata Summary\n",
        "- Source: [LeetCode - Open the Lock](https://leetcode.com/problems/open-the-lock/)\n",
        "- Tags: `BFS`, `State Space`, `Queue`\n",
        "- Difficulty: Medium\n",
        "- Recommended Priority: Medium\n"
      ]
    },
    {
      "cell_type": "markdown",
      "metadata": {},
      "source": [
        "## Problem Statement\n",
        "A lock has 4 wheels, each wheel has 10 digits 0-9.Given a target and a list of deadends, return the minimum steps to open the lock from '0000'.Each move changes one wheel by one digit (wrap-around).\n"
      ]
    },
    {
      "cell_type": "markdown",
      "metadata": {},
      "source": [
        "## Progressive Hints\n",
        "- Hint 1: Each lock position is a node; edges exist between combinations differing by one rotation.\n",
        "- Hint 2: BFS yields minimal moves; avoid deadend states.\n",
        "- Hint 3: Precheck if start is deadend to avoid unnecessary search.\n"
      ]
    },
    {
      "cell_type": "markdown",
      "metadata": {},
      "source": [
        "## Solution Overview\n",
        "Use BFS from '0000'. Generate neighbors by rotating each wheel up or down. Skip deadends and visited states. Return step count when target is reached, otherwise -1.\n"
      ]
    },
    {
      "cell_type": "markdown",
      "metadata": {},
      "source": [
        "## Detailed Explanation\n",
        "1. Convert deadends to a set; if '0000' in it, return -1.\n",
        "2. Initialize queue with ('0000', 0) and visited set with '0000'.\n",
        "3. Pop states, return steps when target reached.\n",
        "4. For each of four positions, generate next digits using modular arithmetic, skipping deadends and visited states.\n",
        "5. If BFS ends without hitting target, return -1.\n"
      ]
    },
    {
      "cell_type": "markdown",
      "metadata": {},
      "source": [
        "## Complexity Trade-off Table\n",
        "| Approach | Time Complexity | Space Complexity | Notes |\n",
        "| --- | --- | --- | --- |\n",
        "| BFS | O(10^4) | O(10^4) | Bounded state space (10000). |\n",
        "| Bidirectional BFS | O(10^4) but faster | O(10^4) | Reduces search depth. |\n",
        "| DFS | Exponential | O(10^4) | Cannot guarantee minimal steps.\n"
      ]
    },
    {
      "cell_type": "markdown",
      "metadata": {},
      "source": [
        "## Reference Implementation\n"
      ]
    },
    {
      "cell_type": "code",
      "metadata": {},
      "execution_count": null,
      "outputs": [],
      "source": [
        "from collections import deque\n",
        "\n",
        "\n",
        "def open_lock(deadends: list[str], target: str) -> int:\n",
        "    \"\"\"Return minimum rotations to reach target lock combination.\"\"\"\n",
        "    dead = set(deadends)\n",
        "    if '0000' in dead:\n",
        "        return -1\n",
        "    queue = deque([('0000', 0)])\n",
        "    visited = {'0000'}\n",
        "    while queue:\n",
        "        state, steps = queue.popleft()\n",
        "        if state == target:\n",
        "            return steps\n",
        "        for i in range(4):\n",
        "            digit = int(state[i])\n",
        "            for delta in (-1, 1):\n",
        "                nd = (digit + delta) % 10\n",
        "                next_state = state[:i] + str(nd) + state[i + 1:]\n",
        "                if next_state not in dead and next_state not in visited:\n",
        "                    visited.add(next_state)\n",
        "                    queue.append((next_state, steps + 1))\n",
        "    return -1\n"
      ]
    },
    {
      "cell_type": "markdown",
      "metadata": {},
      "source": [
        "## Validation\n"
      ]
    },
    {
      "cell_type": "code",
      "metadata": {},
      "execution_count": null,
      "outputs": [],
      "source": [
        "assert open_lock(['0201','0101','0102','1212','2002'], '0202') == 6\n",
        "assert open_lock(['8888'], '0009') == 1\n",
        "assert open_lock(['0000'], '8888') == -1\n",
        "print('All tests passed for LC 752.')\n"
      ]
    },
    {
      "cell_type": "markdown",
      "metadata": {},
      "source": [
        "## Complexity Analysis\n",
        "- Time Complexity: O(10^4) since each state has up to 8 neighbors and there are 10000 states.\n",
        "- Space Complexity: O(10^4) for visited.\n",
        "- Bottleneck: BFS queue when deadends sparse.\n"
      ]
    },
    {
      "cell_type": "markdown",
      "metadata": {},
      "source": [
        "## Edge Cases & Pitfalls\n",
        "- Target equals start returns 0 immediately.\n",
        "- Deadends blocking all paths yield -1.\n",
        "- Wrap-around from 0 to 9 handled via modulo arithmetic.\n"
      ]
    },
    {
      "cell_type": "markdown",
      "metadata": {},
      "source": [
        "## Follow-up Variants\n",
        "- Implement bidirectional BFS for faster convergence.\n",
        "- Incorporate weighted rotations (e.g., cost per wheel).\n",
        "- Support locks with more wheels or characters.\n"
      ]
    },
    {
      "cell_type": "markdown",
      "metadata": {},
      "source": [
        "## Takeaways\n",
        "- BFS on small finite state spaces is straightforward and efficient.\n",
        "- Deadend filtering must happen before enqueuing to prevent loops.\n",
        "- Using strings avoids manual digit array management.\n"
      ]
    },
    {
      "cell_type": "markdown",
      "metadata": {},
      "source": [
        "## Similar Problems\n",
        "| Problem ID | Problem Title | Technique |\n",
        "| --- | --- | --- |\n",
        "| 433 | Minimum Genetic Mutation | BFS on string states |\n",
        "| 818 | Race Car | BFS on state space |\n",
        "| 847 | Shortest Path Visiting All Nodes | BFS on state+mask |\n"
      ]
    }
  ],
  "metadata": {
    "kernelspec": {
      "display_name": "Python 3 (ipykernel)",
      "language": "python",
      "name": "python3"
    },
    "language_info": {
      "codemirror_mode": {
        "name": "ipython",
        "version": 3
      },
      "file_extension": ".py",
      "mimetype": "text/x-python",
      "name": "python",
      "nbconvert_exporter": "python",
      "pygments_lexer": "ipython3",
      "version": "3.13.3"
    }
  },
  "nbformat": 4,
  "nbformat_minor": 5
}