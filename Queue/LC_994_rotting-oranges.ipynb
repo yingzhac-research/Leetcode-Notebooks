{
  "cells": [
    {
      "cell_type": "markdown",
      "metadata": {},
      "source": [
        "# 994. Rotting Oranges\n"
      ]
    },
    {
      "cell_type": "markdown",
      "metadata": {},
      "source": [
        "## Topic Alignment\n",
        "- **Role Relevance**: Simulates contagion spread across grids, analogous to data staleness propagation.\n",
        "- **Scenario**: Useful for modeling time to cascade updates through dependent systems.\n"
      ]
    },
    {
      "cell_type": "markdown",
      "metadata": {},
      "source": [
        "## Metadata Summary\n",
        "- Source: [LeetCode - Rotting Oranges](https://leetcode.com/problems/rotting-oranges/)\n",
        "- Tags: `BFS`, `Grid`, `Simulation`\n",
        "- Difficulty: Medium\n",
        "- Recommended Priority: Medium\n"
      ]
    },
    {
      "cell_type": "markdown",
      "metadata": {},
      "source": [
        "## Problem Statement\n",
        "You are given an m x n grid where each cell can be empty (0), fresh orange (1), or rotten orange (2).Each minute, any fresh orange adjacent to a rotten one becomes rotten. Return the minimum number of minutes until no fresh oranges remain, or -1 if impossible.\n"
      ]
    },
    {
      "cell_type": "markdown",
      "metadata": {},
      "source": [
        "## Progressive Hints\n",
        "- Hint 1: All rotten oranges at minute 0 act as simultaneous sources.\n",
        "- Hint 2: Multi-source BFS captures the minute-by-minute spread.\n",
        "- Hint 3: Track remaining fresh oranges to know if spread succeeded.\n"
      ]
    },
    {
      "cell_type": "markdown",
      "metadata": {},
      "source": [
        "## Solution Overview\n",
        "Enqueue all initially rotten oranges with timestamp 0, run BFS to rot adjacent fresh oranges, and monitor elapsed minutes. If fresh oranges remain after BFS, return -1.\n"
      ]
    },
    {
      "cell_type": "markdown",
      "metadata": {},
      "source": [
        "## Detailed Explanation\n",
        "1. Count fresh oranges and enqueue coordinates of rotten ones with time 0.\n",
        "2. While queue not empty, pop a cell and elapsed time.\n",
        "3. For each neighbor, if fresh, decrement fresh count, mark rotten, and enqueue with time+1.\n",
        "4. After BFS, if fresh count is zero return the last time seen; else return -1.\n"
      ]
    },
    {
      "cell_type": "markdown",
      "metadata": {},
      "source": [
        "## Complexity Trade-off Table\n",
        "| Approach | Time Complexity | Space Complexity | Notes |\n",
        "| --- | --- | --- | --- |\n",
        "| Multi-source BFS | O(mn) | O(mn) | Direct simulation. |\n",
        "| Recursive DFS | O(mn) | O(mn) | Hard to incorporate time progression. |\n",
        "| Brute force minute iteration | O(k * mn) | O(1) | Inefficient for large grids.\n"
      ]
    },
    {
      "cell_type": "markdown",
      "metadata": {},
      "source": [
        "## Reference Implementation\n"
      ]
    },
    {
      "cell_type": "code",
      "metadata": {},
      "execution_count": null,
      "outputs": [],
      "source": [
        "from collections import deque\n",
        "\n",
        "\n",
        "def oranges_rotting(grid: list[list[int]]) -> int:\n",
        "    \"\"\"Return minutes until all oranges rot, or -1 if impossible.\"\"\"\n",
        "    rows, cols = len(grid), len(grid[0])\n",
        "    queue = deque()\n",
        "    fresh = 0\n",
        "    for r in range(rows):\n",
        "        for c in range(cols):\n",
        "            if grid[r][c] == 2:\n",
        "                queue.append((r, c, 0))\n",
        "            elif grid[r][c] == 1:\n",
        "                fresh += 1\n",
        "    minutes = 0\n",
        "    dirs = [(1, 0), (-1, 0), (0, 1), (0, -1)]\n",
        "    while queue:\n",
        "        x, y, minutes = queue.popleft()\n",
        "        for dx, dy in dirs:\n",
        "            nx, ny = x + dx, y + dy\n",
        "            if 0 <= nx < rows and 0 <= ny < cols and grid[nx][ny] == 1:\n",
        "                grid[nx][ny] = 2\n",
        "                fresh -= 1\n",
        "                queue.append((nx, ny, minutes + 1))\n",
        "    return minutes if fresh == 0 else -1\n"
      ]
    },
    {
      "cell_type": "markdown",
      "metadata": {},
      "source": [
        "## Validation\n"
      ]
    },
    {
      "cell_type": "code",
      "metadata": {},
      "execution_count": null,
      "outputs": [],
      "source": [
        "grid = [[2,1,1],[1,1,0],[0,1,1]]\n",
        "assert oranges_rotting(grid) == 4\n",
        "assert oranges_rotting([[0]]) == 0\n",
        "assert oranges_rotting([[2,0],[0,1]]) == -1\n",
        "print('All tests passed for LC 994.')\n"
      ]
    },
    {
      "cell_type": "markdown",
      "metadata": {},
      "source": [
        "## Complexity Analysis\n",
        "- Time Complexity: O(mn) because each cell is processed at most once.\n",
        "- Space Complexity: O(mn) for the queue in worst case.\n",
        "- Bottleneck: Tracking timestamps but manageable.\n"
      ]
    },
    {
      "cell_type": "markdown",
      "metadata": {},
      "source": [
        "## Edge Cases & Pitfalls\n",
        "- Fresh oranges isolated from rotten ones yield -1.\n",
        "- No fresh oranges from the start returns 0.\n",
        "- Single rotten orange with neighbors spreads clearly.\n"
      ]
    },
    {
      "cell_type": "markdown",
      "metadata": {},
      "source": [
        "## Follow-up Variants\n",
        "- Track which minute each orange rots (matrix of times).\n",
        "- Include diagonal adjacency or weighted infection speeds.\n",
        "- Model repeated batches where new rotten sources appear over time.\n"
      ]
    },
    {
      "cell_type": "markdown",
      "metadata": {},
      "source": [
        "## Takeaways\n",
        "- Multi-source BFS elegantly handles simultaneous propagation.\n",
        "- Maintaining a fresh counter allows early detection of failure.\n",
        "- Adding timestamps to queue items makes time tracking straightforward.\n"
      ]
    },
    {
      "cell_type": "markdown",
      "metadata": {},
      "source": [
        "## Similar Problems\n",
        "| Problem ID | Problem Title | Technique |\n",
        "| --- | --- | --- |\n",
        "| 542 | 01 Matrix | Multi-source BFS |\n",
        "| 200 | Number of Islands | BFS flood fill |\n",
        "| 286 | Walls and Gates | Multi-source BFS for distances |\n"
      ]
    }
  ],
  "metadata": {
    "kernelspec": {
      "display_name": "Python 3 (ipykernel)",
      "language": "python",
      "name": "python3"
    },
    "language_info": {
      "codemirror_mode": {
        "name": "ipython",
        "version": 3
      },
      "file_extension": ".py",
      "mimetype": "text/x-python",
      "name": "python",
      "nbconvert_exporter": "python",
      "pygments_lexer": "ipython3",
      "version": "3.13.3"
    }
  },
  "nbformat": 4,
  "nbformat_minor": 5
}