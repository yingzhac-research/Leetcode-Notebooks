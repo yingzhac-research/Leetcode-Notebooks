{
  "cells": [
    {
      "cell_type": "markdown",
      "metadata": {},
      "source": [
        "# 933. Number of Recent Calls\n"
      ]
    },
    {
      "cell_type": "markdown",
      "metadata": {},
      "source": [
        "## Topic Alignment\n",
        "- **Role Relevance**: Demonstrates queue usage for sliding time windows in telemetry.\n",
        "- **Scenario**: Counts recent API hits using FIFO eviction.\n"
      ]
    },
    {
      "cell_type": "markdown",
      "metadata": {},
      "source": [
        "## Metadata Summary\n",
        "- Source: [LeetCode - Number of Recent Calls](https://leetcode.com/problems/number-of-recent-calls/)\n",
        "- Tags: `Queue`, `Design`, `Sliding Window`\n",
        "- Difficulty: Easy\n",
        "- Recommended Priority: Medium\n"
      ]
    },
    {
      "cell_type": "markdown",
      "metadata": {},
      "source": [
        "## Problem Statement\n",
        "Design a `RecentCounter` that counts the number of ping requests in the last 3000 milliseconds.Each call to `ping(t)` adds timestamp `t` and returns count of timestamps in [t-3000, t].\n"
      ]
    },
    {
      "cell_type": "markdown",
      "metadata": {},
      "source": [
        "## Progressive Hints\n",
        "- Hint 1: Maintain timestamps in increasing order.\n",
        "- Hint 2: Use queue to drop outdated timestamps from the front.\n",
        "- Hint 3: Return current queue length after cleanup.\n"
      ]
    },
    {
      "cell_type": "markdown",
      "metadata": {},
      "source": [
        "## Solution Overview\n",
        "Store timestamps in a deque; on each ping, append t and pop from left while timestamps < t-3000, then return length.\n"
      ]
    },
    {
      "cell_type": "markdown",
      "metadata": {},
      "source": [
        "## Detailed Explanation\n",
        "1. Keep deque storing ping times.\n",
        "2. Upon `ping(t)`, append t.\n",
        "3. While deque front < t-3000, popleft.\n",
        "4. Return length of deque.\n"
      ]
    },
    {
      "cell_type": "markdown",
      "metadata": {},
      "source": [
        "## Complexity Trade-off Table\n",
        "| Approach | Time Complexity per Ping | Space Complexity | Notes |\n",
        "| --- | --- | --- | --- |\n",
        "| Deque with cleanup | Amortized O(1) | O(n) | Efficient; timestamps removed once. |\n",
        "| Binary search on list | O(log n) | O(n) | Needs prefix to locate cutoff. |\n",
        "| Priority queue | O(log n) | O(n) | More overhead than necessary.\n"
      ]
    },
    {
      "cell_type": "markdown",
      "metadata": {},
      "source": [
        "## Reference Implementation\n"
      ]
    },
    {
      "cell_type": "code",
      "metadata": {},
      "execution_count": null,
      "outputs": [],
      "source": [
        "from collections import deque\n",
        "\n",
        "\n",
        "class RecentCounter:\n",
        "    \"\"\"Counts pings in a 3000 ms sliding window using a queue.\"\"\"\n",
        "    def __init__(self) -> None:\n",
        "        self._pings = deque()\n",
        "    def ping(self, t: int) -> int:\n",
        "        self._pings.append(t)\n",
        "        threshold = t - 3000\n",
        "        while self._pings and self._pings[0] < threshold:\n",
        "            self._pings.popleft()\n",
        "        return len(self._pings)\n"
      ]
    },
    {
      "cell_type": "markdown",
      "metadata": {},
      "source": [
        "## Validation\n"
      ]
    },
    {
      "cell_type": "code",
      "metadata": {},
      "execution_count": null,
      "outputs": [],
      "source": [
        "rc = RecentCounter()\n",
        "assert rc.ping(1) == 1\n",
        "assert rc.ping(100) == 2\n",
        "assert rc.ping(3001) == 3\n",
        "assert rc.ping(3002) == 3\n",
        "print('All tests passed for LC 933.')\n"
      ]
    },
    {
      "cell_type": "markdown",
      "metadata": {},
      "source": [
        "## Complexity Analysis\n",
        "- Time Complexity: Amortized O(1) per ping.\n",
        "- Space Complexity: O(w) where w is number of timestamps in window.\n",
        "- Bottleneck: None; queue operations fast.\n"
      ]
    },
    {
      "cell_type": "markdown",
      "metadata": {},
      "source": [
        "## Edge Cases & Pitfalls\n",
        "- Rapid repeated pings remain in deque until expiration.\n",
        "- Large gaps between pings flush the queue quickly.\n",
        "- Timestamps strictly increasing by problem statement.\n"
      ]
    },
    {
      "cell_type": "markdown",
      "metadata": {},
      "source": [
        "## Follow-up Variants\n",
        "- Support arbitrary window sizes parameterized at runtime.\n",
        "- Add ability to query without adding new ping.\n",
        "- Provide approximate counts using probabilistic data structures.\n"
      ]
    },
    {
      "cell_type": "markdown",
      "metadata": {},
      "source": [
        "## Takeaways\n",
        "- Plain queues excel at sliding window counting problems.\n",
        "- Removing expired items eagerly keeps memory bounded.\n",
        "- Amortized analysis shows each element is enqueued and dequeued once.\n"
      ]
    },
    {
      "cell_type": "markdown",
      "metadata": {},
      "source": [
        "## Similar Problems\n",
        "| Problem ID | Problem Title | Technique |\n",
        "| --- | --- | --- |\n",
        "| 346 | Moving Average from Data Stream | Fixed-size queue |\n",
        "| 1425 | Constrained Subsequence Sum | Deque for DP |\n",
        "| 225 | Implement Stack using Queues | Queue manipulation |\n"
      ]
    }
  ],
  "metadata": {
    "kernelspec": {
      "display_name": "Python 3 (ipykernel)",
      "language": "python",
      "name": "python3"
    },
    "language_info": {
      "codemirror_mode": {
        "name": "ipython",
        "version": 3
      },
      "file_extension": ".py",
      "mimetype": "text/x-python",
      "name": "python",
      "nbconvert_exporter": "python",
      "pygments_lexer": "ipython3",
      "version": "3.13.3"
    }
  },
  "nbformat": 4,
  "nbformat_minor": 5
}