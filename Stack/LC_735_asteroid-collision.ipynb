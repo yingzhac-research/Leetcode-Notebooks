{
  "cells": [
    {
      "cell_type": "markdown",
      "metadata": {},
      "source": [
        "# 735. Asteroid Collision\n"
      ]
    },
    {
      "cell_type": "markdown",
      "metadata": {},
      "source": [
        "## Topic Alignment\n",
        "- **Role Relevance**: Simulates resolving conflicting tasks in asynchronous queues.\n",
        "- **Scenario**: Models eliminating redundant events when two opposing operations meet.\n"
      ]
    },
    {
      "cell_type": "markdown",
      "metadata": {},
      "source": [
        "## Metadata Summary\n",
        "- Source: [LeetCode - Asteroid Collision](https://leetcode.com/problems/asteroid-collision/)\n",
        "- Tags: `Stack`, `Simulation`\n",
        "- Difficulty: Medium\n",
        "- Recommended Priority: Medium\n"
      ]
    },
    {
      "cell_type": "markdown",
      "metadata": {},
      "source": [
        "## Problem Statement\n",
        "We are given an array `asteroids` of integers representing asteroids in a row. The absolute value is the size; the sign indicates direction (positive right, negative left). Collisions occur when a moving right asteroid meets a left-moving asteroid. After all collisions, return the final state.\n",
        "\n",
        "Input: Array `asteroids` with length up to 10^4 and size up to 10^3.\n",
        "Output: Remaining asteroids after all collisions.\n",
        "Constraints: Collisions follow rules: smaller is destroyed; equal sizes destroy both; asteroids moving in the same direction never collide.\n"
      ]
    },
    {
      "cell_type": "markdown",
      "metadata": {},
      "source": [
        "## Progressive Hints\n",
        "- Hint 1: Only potential collisions happen when a positive value is followed by a negative value.\n",
        "- Hint 2: Use a stack to keep resolved asteroids; compare the current asteroid with the stack top.\n",
        "- Hint 3: Continue resolving collisions until the current asteroid either explodes or is safe to push.\n"
      ]
    },
    {
      "cell_type": "markdown",
      "metadata": {},
      "source": [
        "## Solution Overview\n",
        "Iterate through asteroids, using a stack for the remaining asteroids. For each new asteroid, while there is a potential collision (stack top moving right and current moving left), resolve by comparing sizes. Destroy the smaller asteroid, pop equal ones, and only push the current asteroid if it survives.\n"
      ]
    },
    {
      "cell_type": "markdown",
      "metadata": {},
      "source": [
        "## Detailed Explanation\n",
        "1. Initialize an empty stack.\n",
        "2. For each asteroid `a`: while stack is not empty and `stack[-1] > 0` and `a < 0`, compare sizes.\n",
        "   - If `abs(stack[-1]) < abs(a)`, pop and continue checking because current asteroid keeps moving.\n",
        "   - If sizes are equal, pop and set `a = 0` to mark destruction.\n",
        "   - If the stack top is larger, set `a = 0` to destroy current asteroid.\n",
        "3. After resolving collisions, if `a` is not zero, push it.\n",
        "4. Return the stack as the final state.\n"
      ]
    },
    {
      "cell_type": "markdown",
      "metadata": {},
      "source": [
        "## Complexity Trade-off Table\n",
        "| Approach | Time Complexity | Space Complexity | Notes |\n",
        "| --- | --- | --- | --- |\n",
        "| Stack simulation | O(n) | O(n) | Each asteroid enters/exits stack at most once. |\n",
        "| Pairwise elimination | O(n^2) | O(1) | Repeated scanning; too slow. |\n",
        "| Deque with repeated passes | O(n^2) | O(n) | Still inefficient.\n"
      ]
    },
    {
      "cell_type": "markdown",
      "metadata": {},
      "source": [
        "## Reference Implementation\n"
      ]
    },
    {
      "cell_type": "code",
      "metadata": {},
      "execution_count": null,
      "outputs": [],
      "source": [
        "from typing import List\n",
        "\n",
        "\n",
        "def asteroid_collision(asteroids: List[int]) -> List[int]:\n",
        "    \"\"\"Simulate asteroid collisions using a stack.\"\"\"\n",
        "    stack: List[int] = []\n",
        "    for asteroid in asteroids:\n",
        "        alive = True\n",
        "        while alive and stack and stack[-1] > 0 and asteroid < 0:\n",
        "            top = stack[-1]\n",
        "            if abs(top) < abs(asteroid):\n",
        "                stack.pop()\n",
        "                continue\n",
        "            if abs(top) == abs(asteroid):\n",
        "                stack.pop()\n",
        "            alive = False\n",
        "        if alive:\n",
        "            stack.append(asteroid)\n",
        "    return stack\n"
      ]
    },
    {
      "cell_type": "markdown",
      "metadata": {},
      "source": [
        "## Validation\n"
      ]
    },
    {
      "cell_type": "code",
      "metadata": {},
      "execution_count": null,
      "outputs": [],
      "source": [
        "cases = [\n",
        "    ([5,10,-5], [5,10]),\n",
        "    ([8,-8], []),\n",
        "    ([10,2,-5], [10]),\n",
        "    ([-2,-1,1,2], [-2,-1,1,2]),\n",
        "]\n",
        "for asteroids, expected in cases:\n",
        "    assert asteroid_collision(asteroids) == expected\n",
        "print('All tests passed for LC 735.')\n"
      ]
    },
    {
      "cell_type": "markdown",
      "metadata": {},
      "source": [
        "## Complexity Analysis\n",
        "- Time Complexity: O(n) since each asteroid is pushed and popped at most once.\n",
        "- Space Complexity: O(n) for the stack in worst case of no collisions.\n",
        "- Bottleneck: None; main cost is iteration.\n"
      ]
    },
    {
      "cell_type": "markdown",
      "metadata": {},
      "source": [
        "## Edge Cases & Pitfalls\n",
        "- All asteroids moving in the same direction remain unchanged.\n",
        "- Equal-magnitude collisions remove both objects.\n",
        "- Large negative numbers after positive ones trigger repeated popping loops.\n"
      ]
    },
    {
      "cell_type": "markdown",
      "metadata": {},
      "source": [
        "## Follow-up Variants\n",
        "- Track the collision order or number of collisions.\n",
        "- Extend to 2D plane with additional axes (hard).\n",
        "- Limit stack size by processing streaming data windows.\n"
      ]
    },
    {
      "cell_type": "markdown",
      "metadata": {},
      "source": [
        "## Takeaways\n",
        "- Stack-based simulation is ideal when interactions depend on the most recent element.\n",
        "- Representing outcomes as boolean `alive` flags keeps logic clear.\n",
        "- Continue loops handle chain reactions with minimal code.\n"
      ]
    },
    {
      "cell_type": "markdown",
      "metadata": {},
      "source": [
        "## Similar Problems\n",
        "| Problem ID | Problem Title | Technique |\n",
        "| --- | --- | --- |\n",
        "| 636 | Exclusive Time of Functions | Stack simulation |\n",
        "| 20 | Valid Parentheses | Stack matching |\n",
        "| 71 | Simplify Path | Stack-based reduction |\n"
      ]
    }
  ],
  "metadata": {
    "kernelspec": {
      "display_name": "Python 3 (ipykernel)",
      "language": "python",
      "name": "python3"
    },
    "language_info": {
      "codemirror_mode": {
        "name": "ipython",
        "version": 3
      },
      "file_extension": ".py",
      "mimetype": "text/x-python",
      "name": "python",
      "nbconvert_exporter": "python",
      "pygments_lexer": "ipython3",
      "version": "3.13.3"
    }
  },
  "nbformat": 4,
  "nbformat_minor": 5
}