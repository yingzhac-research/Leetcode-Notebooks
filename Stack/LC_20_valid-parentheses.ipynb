{
  "cells": [
    {
      "cell_type": "markdown",
      "metadata": {},
      "source": [
        "# 20. Valid Parentheses\n"
      ]
    },
    {
      "cell_type": "markdown",
      "metadata": {},
      "source": [
        "## Topic Alignment\n",
        "- **Role Relevance**: Validates nested expressions before translating them into DAG operators for ML pipelines.\n",
        "- **Scenario**: Mirrors the checks we run on feature-store transformation DSLs where malformed parentheses must be caught early.\n"
      ]
    },
    {
      "cell_type": "markdown",
      "metadata": {},
      "source": [
        "## Metadata Summary\n",
        "- Source: [LeetCode - Valid Parentheses](https://leetcode.com/problems/valid-parentheses/)\n",
        "- Tags: `Stack`, `String`\n",
        "- Difficulty: Easy\n",
        "- Recommended Priority: High\n"
      ]
    },
    {
      "cell_type": "markdown",
      "metadata": {},
      "source": [
        "## Problem Statement\n",
        "Given a string `s` containing only the characters `(`, `)`, `{`, `}`, `[` and `]`, return `True` if the input string is valid.\n",
        "A string is valid if open brackets are closed by the same type of brackets and the pairs are closed in the correct order.\n",
        "\n",
        "Input: String `s` with length up to 10^4.\n",
        "Output: Boolean indicating whether the string is well formed.\n",
        "Constraints: `1 <= len(s) <= 10^4`; the string contains only the six bracket characters.\n"
      ]
    },
    {
      "cell_type": "markdown",
      "metadata": {},
      "source": [
        "## Progressive Hints\n",
        "- Hint 1: Test the brute-force idea of checking every pair; why is it too slow and complicated?\n",
        "- Hint 2: Observe that only the most recent unmatched opening bracket matters when scanning left to right.\n",
        "- Hint 3: Use a stack to store opening brackets and match them as soon as a closing bracket appears.\n"
      ]
    },
    {
      "cell_type": "markdown",
      "metadata": {},
      "source": [
        "## Solution Overview\n",
        "Scan the string once while maintaining a stack of opening brackets. When a closing bracket arrives, verify it matches the top of the stack; if so, pop it. Any mismatch or leftover openings after the scan means the string is invalid.\n"
      ]
    },
    {
      "cell_type": "markdown",
      "metadata": {},
      "source": [
        "## Detailed Explanation\n",
        "1. Initialize an empty list to act as a stack.\n",
        "2. Use a dictionary to map closing brackets to their matching opening brackets.\n",
        "3. Iterate over each character in `s`: push openings, and on closings check if the stack top matches; if not, return `False`.\n",
        "4. After processing all characters, the string is valid only if the stack is empty (no unmatched openings remain).\n"
      ]
    },
    {
      "cell_type": "markdown",
      "metadata": {},
      "source": [
        "## Complexity Trade-off Table\n",
        "| Approach | Time Complexity | Space Complexity | Notes |\n",
        "| --- | --- | --- | --- |\n",
        "| Stack scan | O(n) | O(n) | Single pass, pushes each opening once. |\n",
        "| Recursive parsing | O(n) | O(n) | Works but adds recursion overhead and stack depth concerns. |\n",
        "| Replace pairs iteratively | O(n^2) | O(1) | Repeated string replacement becomes quadratic.\n"
      ]
    },
    {
      "cell_type": "markdown",
      "metadata": {},
      "source": [
        "## Reference Implementation\n"
      ]
    },
    {
      "cell_type": "code",
      "metadata": {},
      "execution_count": null,
      "outputs": [],
      "source": [
        "from typing import List\n",
        "\n",
        "\n",
        "def is_valid(s: str) -> bool:\n",
        "    \"\"\"Return True if every bracket in s is properly opened and closed in order.\"\"\"\n",
        "    matching = {')': '(', ']': '[', '}': '{'}\n",
        "    stack: List[str] = []\n",
        "    for ch in s:\n",
        "        if ch in matching.values():\n",
        "            stack.append(ch)\n",
        "        else:\n",
        "            if not stack or stack[-1] != matching[ch]:\n",
        "                return False  # Closing bracket mismatches the most recent opening.\n",
        "            stack.pop()\n",
        "    return not stack  # No leftover openings means the string is balanced.\n"
      ]
    },
    {
      "cell_type": "markdown",
      "metadata": {},
      "source": [
        "## Validation\n"
      ]
    },
    {
      "cell_type": "code",
      "metadata": {},
      "execution_count": null,
      "outputs": [],
      "source": [
        "test_cases = [\n",
        "    ('()', True),\n",
        "    ('()[]{}', True),\n",
        "    ('(]', False),\n",
        "    ('([)]', False),\n",
        "    ('{[]}', True),\n",
        "    ('(((((((((())))))))))', True),\n",
        "    ('(((((((', False),\n",
        "]\n",
        "for s, expected in test_cases:\n",
        "    assert is_valid(s) == expected\n",
        "print('All tests passed for LC 20.')\n"
      ]
    },
    {
      "cell_type": "markdown",
      "metadata": {},
      "source": [
        "## Complexity Analysis\n",
        "- Time Complexity: O(n) because each character is pushed and popped at most once.\n",
        "- Space Complexity: O(n) in the worst case when all characters are opening brackets.\n",
        "- Bottleneck: The stack size grows with the maximum nesting depth.\n"
      ]
    },
    {
      "cell_type": "markdown",
      "metadata": {},
      "source": [
        "## Edge Cases & Pitfalls\n",
        "- Empty stack on encountering a closing bracket implies an immediate failure.\n",
        "- Deep nesting (length 10^4 with only '(' then ')') must not overflow or be quadratic.\n",
        "- Ensure the function rejects strings containing only openings (stack non-empty at the end).\n"
      ]
    },
    {
      "cell_type": "markdown",
      "metadata": {},
      "source": [
        "## Follow-up Variants\n",
        "- Extend to support custom bracket types or XML-like tags with longer tokens.\n",
        "- Count the number of insertions required to make the string valid instead of returning a boolean.\n",
        "- Support streaming validation where the string arrives chunk by chunk.\n"
      ]
    },
    {
      "cell_type": "markdown",
      "metadata": {},
      "source": [
        "## Takeaways\n",
        "- Only the most recently opened bracket needs to be checked against an incoming closing bracket.\n",
        "- A simple stack converts a potentially tricky parsing problem into a linear-time pass.\n",
        "- Always validate both mismatch during the scan and leftovers after the scan.\n"
      ]
    },
    {
      "cell_type": "markdown",
      "metadata": {},
      "source": [
        "## Similar Problems\n",
        "| Problem ID | Problem Title | Technique |\n",
        "| --- | --- | --- |\n",
        "| 921 | Minimum Add to Make Parentheses Valid | Stack balance tracking |\n",
        "| 32 | Longest Valid Parentheses | Stack of indices |\n",
        "| 71 | Simplify Path | Stack-based path reduction |\n"
      ]
    }
  ],
  "metadata": {
    "kernelspec": {
      "display_name": "Python 3 (ipykernel)",
      "language": "python",
      "name": "python3"
    },
    "language_info": {
      "codemirror_mode": {
        "name": "ipython",
        "version": 3
      },
      "file_extension": ".py",
      "mimetype": "text/x-python",
      "name": "python",
      "nbconvert_exporter": "python",
      "pygments_lexer": "ipython3",
      "version": "3.13.3"
    }
  },
  "nbformat": 4,
  "nbformat_minor": 5
}