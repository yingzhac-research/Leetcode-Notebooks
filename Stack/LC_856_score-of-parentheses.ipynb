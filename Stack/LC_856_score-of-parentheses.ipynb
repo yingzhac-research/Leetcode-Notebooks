{
  "cells": [
    {
      "cell_type": "markdown",
      "metadata": {},
      "source": [
        "# 856. Score of Parentheses\n"
      ]
    },
    {
      "cell_type": "markdown",
      "metadata": {},
      "source": [
        "## Topic Alignment\n",
        "- **Role Relevance**: Quantifies nested constructs in feature transformation DSLs, where depth controls weighting.\n",
        "- **Scenario**: Mirrors evaluation of balanced parentheses strings that encode composable pipeline steps.\n"
      ]
    },
    {
      "cell_type": "markdown",
      "metadata": {},
      "source": [
        "## Metadata Summary\n",
        "- Source: [LeetCode - Score of Parentheses](https://leetcode.com/problems/score-of-parentheses/)\n",
        "- Tags: `Stack`, `String`\n",
        "- Difficulty: Medium\n",
        "- Recommended Priority: Medium\n"
      ]
    },
    {
      "cell_type": "markdown",
      "metadata": {},
      "source": [
        "## Problem Statement\n",
        "Given a balanced parentheses string `s`, compute its score based on the following rules: `()` has score 1, `(A)` has score `2 * score(A)`, and `AB` has score `score(A) + score(B)` where `A` and `B` are balanced parentheses strings.\n",
        "\n",
        "Input: Balanced string `s` with length up to 50.\n",
        "Output: Integer score of `s` according to the recursive rules.\n",
        "Constraints: `2 <= len(s) <= 50`; `s` is guaranteed to be balanced.\n"
      ]
    },
    {
      "cell_type": "markdown",
      "metadata": {},
      "source": [
        "## Progressive Hints\n",
        "- Hint 1: The recursive definition suggests dividing the string into primitive balanced segments.\n",
        "- Hint 2: Track the innermost pair `()` because it contributes a value of 1 regardless of depth.\n",
        "- Hint 3: Use a stack to store scores at each depth and combine them when closing a frame.\n"
      ]
    },
    {
      "cell_type": "markdown",
      "metadata": {},
      "source": [
        "## Solution Overview\n",
        "Traverse the string while maintaining a stack of partial scores. Push a frame when encountering `(`. When `)` appears, pop the current frame: if it had zero score inside, treat it as 1; otherwise double the accumulated score. Add the result to the previous frame.\n"
      ]
    },
    {
      "cell_type": "markdown",
      "metadata": {},
      "source": [
        "## Detailed Explanation\n",
        "1. Initialize a stack with a single frame holding score 0 (the outermost context).\n",
        "2. For every character: push a 0 for `(` to start a new frame; for `)` pop the top score, transform it into `max(2 * inner, 1)`, and add it to the new top.\n",
        "3. After the scan, the stack contains just one value: the total score of the entire string.\n"
      ]
    },
    {
      "cell_type": "markdown",
      "metadata": {},
      "source": [
        "## Complexity Trade-off Table\n",
        "| Approach | Time Complexity | Space Complexity | Notes |\n",
        "| --- | --- | --- | --- |\n",
        "| Stack with scores | O(n) | O(n) | Natural translation of the recursive definition. |\n",
        "| Depth counter with bit tricks | O(n) | O(1) | Requires careful handling of transitions `()` vs nested. |\n",
        "| Recursive parsing | O(n) | O(n) | Equivalent logic but adds function call overhead.\n"
      ]
    },
    {
      "cell_type": "markdown",
      "metadata": {},
      "source": [
        "## Reference Implementation\n"
      ]
    },
    {
      "cell_type": "code",
      "metadata": {},
      "execution_count": null,
      "outputs": [],
      "source": [
        "from typing import List\n",
        "\n",
        "\n",
        "def score_of_parentheses(s: str) -> int:\n",
        "    \"\"\"Compute the score of a balanced parentheses string per recursive definition.\"\"\"\n",
        "    stack: List[int] = [0]\n",
        "    for ch in s:\n",
        "        if ch == '(':\n",
        "            stack.append(0)  # Start a new frame with zero inner score.\n",
        "        else:\n",
        "            inner = stack.pop()\n",
        "            contribution = 1 if inner == 0 else 2 * inner\n",
        "            stack[-1] += contribution\n",
        "    return stack[-1]\n"
      ]
    },
    {
      "cell_type": "markdown",
      "metadata": {},
      "source": [
        "## Validation\n"
      ]
    },
    {
      "cell_type": "code",
      "metadata": {},
      "execution_count": null,
      "outputs": [],
      "source": [
        "cases = [\n",
        "    ('()', 1),\n",
        "    ('()()', 2),\n",
        "    ('(()(()))', 6),\n",
        "    ('((()))', 4),\n",
        "    ('(()(()))()()' , 8),\n",
        "]\n",
        "for s, expected in cases:\n",
        "    assert score_of_parentheses(s) == expected\n",
        "print('All tests passed for LC 856.')\n"
      ]
    },
    {
      "cell_type": "markdown",
      "metadata": {},
      "source": [
        "## Complexity Analysis\n",
        "- Time Complexity: O(n) since each character leads to constant work.\n",
        "- Space Complexity: O(n) in the worst case for deeply nested parentheses.\n",
        "- Bottleneck: Maximum recursion depth mirrors stack height.\n"
      ]
    },
    {
      "cell_type": "markdown",
      "metadata": {},
      "source": [
        "## Edge Cases & Pitfalls\n",
        "- Innermost pair `()` should resolve to 1, not 2.\n",
        "- Adjacent primitives must sum rather than double.\n",
        "- Balanced guarantee simplifies error handling but guard code should still assume correct input types.\n"
      ]
    },
    {
      "cell_type": "markdown",
      "metadata": {},
      "source": [
        "## Follow-up Variants\n",
        "- Extend the scoring rules to weight different bracket types differently.\n",
        "- Support streaming evaluation where input arrives incrementally.\n",
        "- Return a list of scores per primitive block to highlight structure for debugging.\n"
      ]
    },
    {
      "cell_type": "markdown",
      "metadata": {},
      "source": [
        "## Takeaways\n",
        "- Stacks can hold aggregated values, not just raw characters.\n",
        "- Transforming recursive rules into iterative stack logic keeps complexity linear.\n",
        "- Sentinels or initial frames simplify edge handling at the top level.\n"
      ]
    },
    {
      "cell_type": "markdown",
      "metadata": {},
      "source": [
        "## Similar Problems\n",
        "| Problem ID | Problem Title | Technique |\n",
        "| --- | --- | --- |\n",
        "| 32 | Longest Valid Parentheses | Stack of indices |\n",
        "| 20 | Valid Parentheses | Stack validation |\n",
        "| 394 | Decode String | Stack with aggregated state |\n"
      ]
    }
  ],
  "metadata": {
    "kernelspec": {
      "display_name": "Python 3 (ipykernel)",
      "language": "python",
      "name": "python3"
    },
    "language_info": {
      "codemirror_mode": {
        "name": "ipython",
        "version": 3
      },
      "file_extension": ".py",
      "mimetype": "text/x-python",
      "name": "python",
      "nbconvert_exporter": "python",
      "pygments_lexer": "ipython3",
      "version": "3.13.3"
    }
  },
  "nbformat": 4,
  "nbformat_minor": 5
}