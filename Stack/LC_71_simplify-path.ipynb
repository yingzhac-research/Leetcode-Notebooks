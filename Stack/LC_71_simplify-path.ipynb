{
  "cells": [
    {
      "cell_type": "markdown",
      "metadata": {},
      "source": [
        "# 71. Simplify Path\n"
      ]
    },
    {
      "cell_type": "markdown",
      "metadata": {},
      "source": [
        "## Topic Alignment\n",
        "- **Role Relevance**: Cleanly normalizes artifact paths before persisting them in experiment tracking systems.\n",
        "- **Scenario**: Matches the logic needed when resolving relative paths in data lake ingestion pipelines.\n"
      ]
    },
    {
      "cell_type": "markdown",
      "metadata": {},
      "source": [
        "## Metadata Summary\n",
        "- Source: [LeetCode - Simplify Path](https://leetcode.com/problems/simplify-path/)\n",
        "- Tags: `Stack`, `String`\n",
        "- Difficulty: Medium\n",
        "- Recommended Priority: Medium\n"
      ]
    },
    {
      "cell_type": "markdown",
      "metadata": {},
      "source": [
        "## Problem Statement\n",
        "Given an absolute UNIX-style file path, simplify it to the canonical path.\n",
        "The canonical path must start with a single slash, resolve `.` to current directory, `..` to parent directory, and remove redundant slashes.\n",
        "\n",
        "Input: String `path` of length up to 3000 composed of slashes, letters, and dots.\n",
        "Output: The canonical simplified path as a string.\n",
        "Constraints: Path is absolute (starts with `/`).\n"
      ]
    },
    {
      "cell_type": "markdown",
      "metadata": {},
      "source": [
        "## Progressive Hints\n",
        "- Hint 1: Splitting the path by `/` gives tokens you can process independently.\n",
        "- Hint 2: Maintain a stack of directory names, ignoring empty tokens and `.`.\n",
        "- Hint 3: On `..`, pop the stack if possible; at the end, join what remains.\n"
      ]
    },
    {
      "cell_type": "markdown",
      "metadata": {},
      "source": [
        "## Solution Overview\n",
        "Split the path on `/` and iterate tokens. Push directory names onto a stack, pop when encountering `..`, and ignore empty strings or `.`. Finally, join the stack with `/` and prefix with `/`.\n"
      ]
    },
    {
      "cell_type": "markdown",
      "metadata": {},
      "source": [
        "## Detailed Explanation\n",
        "1. Use `path.split('/')` to break the string into tokens.\n",
        "2. Initialize an empty stack representing the directory hierarchy.\n",
        "3. For each token: skip empty tokens and `.`; pop the stack for `..` if not empty; otherwise push the token.\n",
        "4. Build the canonical path as `'/' + '/'.join(stack)`. An empty stack maps to `/`.\n"
      ]
    },
    {
      "cell_type": "markdown",
      "metadata": {},
      "source": [
        "## Complexity Trade-off Table\n",
        "| Approach | Time Complexity | Space Complexity | Notes |\n",
        "| --- | --- | --- | --- |\n",
        "| Stack of directory segments | O(n) | O(n) | Simple and aligns with UNIX path semantics. |\n",
        "| Recursive descent | O(n) | O(n) | Equivalent but more overhead. |\n",
        "| Regular expressions | O(n) | O(n) | Harder to reason about correctness.\n"
      ]
    },
    {
      "cell_type": "markdown",
      "metadata": {},
      "source": [
        "## Reference Implementation\n"
      ]
    },
    {
      "cell_type": "code",
      "metadata": {},
      "execution_count": null,
      "outputs": [],
      "source": [
        "from typing import List\n",
        "\n",
        "\n",
        "def simplify_path(path: str) -> str:\n",
        "    \"\"\"Return the canonical simplified UNIX path.\"\"\"\n",
        "    stack: List[str] = []\n",
        "    for token in path.split('/'):\n",
        "        if token == '' or token == '.':\n",
        "            continue  # Skip current directory or empty components.\n",
        "        if token == '..':\n",
        "            if stack:\n",
        "                stack.pop()  # Go up one level if possible.\n",
        "        else:\n",
        "            stack.append(token)\n",
        "    return '/' + '/'.join(stack)\n"
      ]
    },
    {
      "cell_type": "markdown",
      "metadata": {},
      "source": [
        "## Validation\n"
      ]
    },
    {
      "cell_type": "code",
      "metadata": {},
      "execution_count": null,
      "outputs": [],
      "source": [
        "cases = [\n",
        "    ('/home/', '/home'),\n",
        "    ('/../', '/'),\n",
        "    ('/home//foo/', '/home/foo'),\n",
        "    ('/a/./b/../../c/', '/c'),\n",
        "    ('/a//b////c/d//././/..', '/a/b/c'),\n",
        "]\n",
        "for path, expected in cases:\n",
        "    assert simplify_path(path) == expected\n",
        "print('All tests passed for LC 71.')\n"
      ]
    },
    {
      "cell_type": "markdown",
      "metadata": {},
      "source": [
        "## Complexity Analysis\n",
        "- Time Complexity: O(n) where n is the length of the path since we traverse every token once.\n",
        "- Space Complexity: O(n) in the worst case when all tokens are directories.\n",
        "- Bottleneck: Splitting the string dominates runtime.\n"
      ]
    },
    {
      "cell_type": "markdown",
      "metadata": {},
      "source": [
        "## Edge Cases & Pitfalls\n",
        "- Multiple consecutive slashes should collapse into one.\n",
        "- Root path with `..` should remain `/` and not go above root.\n",
        "- Empty tokens after splitting must be ignored to avoid blank directory names.\n"
      ]
    },
    {
      "cell_type": "markdown",
      "metadata": {},
      "source": [
        "## Follow-up Variants\n",
        "- Support relative paths that do not start with `/`.\n",
        "- Add support for environment variables or symlink resolution.\n",
        "- Implement the same logic for Windows-style paths.\n"
      ]
    },
    {
      "cell_type": "markdown",
      "metadata": {},
      "source": [
        "## Takeaways\n",
        "- Use a stack of directories to simulate navigating a filesystem.\n",
        "- Removing noise like empty tokens keeps core logic tidy.\n",
        "- The final join is straightforward once the stack represents the canonical structure.\n"
      ]
    },
    {
      "cell_type": "markdown",
      "metadata": {},
      "source": [
        "## Similar Problems\n",
        "| Problem ID | Problem Title | Technique |\n",
        "| --- | --- | --- |\n",
        "| 394 | Decode String | Stack-driven reconstruction |\n",
        "| 150 | Evaluate Reverse Polish Notation | Stack evaluation |\n",
        "| 1081 | Smallest Subsequence of Distinct Characters | Monotonic stack on characters |\n"
      ]
    }
  ],
  "metadata": {
    "kernelspec": {
      "display_name": "Python 3 (ipykernel)",
      "language": "python",
      "name": "python3"
    },
    "language_info": {
      "codemirror_mode": {
        "name": "ipython",
        "version": 3
      },
      "file_extension": ".py",
      "mimetype": "text/x-python",
      "name": "python",
      "nbconvert_exporter": "python",
      "pygments_lexer": "ipython3",
      "version": "3.13.3"
    }
  },
  "nbformat": 4,
  "nbformat_minor": 5
}