{
  "cells": [
    {
      "cell_type": "markdown",
      "metadata": {},
      "source": [
        "# 503. Next Greater Element II\n"
      ]
    },
    {
      "cell_type": "markdown",
      "metadata": {},
      "source": [
        "## Topic Alignment\n",
        "- **Role Relevance**: Handles cyclic metrics such as daily or weekly series when searching for the next spike.\n",
        "- **Scenario**: Useful for wrap-around buffers in streaming systems where timestamps repeat.\n"
      ]
    },
    {
      "cell_type": "markdown",
      "metadata": {},
      "source": [
        "## Metadata Summary\n",
        "- Source: [LeetCode - Next Greater Element II](https://leetcode.com/problems/next-greater-element-ii/)\n",
        "- Tags: `Stack`, `Monotonic Stack`\n",
        "- Difficulty: Medium\n",
        "- Recommended Priority: Medium\n"
      ]
    },
    {
      "cell_type": "markdown",
      "metadata": {},
      "source": [
        "## Problem Statement\n",
        "Given a circular array `nums`, return the next greater number for every element. The next greater number for a number x is the first greater number after traversing the array circularly. If it does not exist, return -1.\n",
        "\n",
        "Input: Array `nums` with length up to 10^4.\n",
        "Output: Array of next greater values for each position.\n",
        "Constraints: Circular traversal means you wrap to the beginning after the end.\n"
      ]
    },
    {
      "cell_type": "markdown",
      "metadata": {},
      "source": [
        "## Progressive Hints\n",
        "- Hint 1: For circular arrays, simulate two passes to allow wrap-around comparisons.\n",
        "- Hint 2: Use indices instead of values on the stack so you can write answers by position.\n",
        "- Hint 3: Only push each index once; use modulo to access values during the second pass.\n"
      ]
    },
    {
      "cell_type": "markdown",
      "metadata": {},
      "source": [
        "## Solution Overview\n",
        "Iterate over the array twice (2n steps) while maintaining a decreasing stack of indices. For each index `i`, the current value is `nums[i % n]`. While this value exceeds the value at the index on top of the stack, pop and record the next greater value. Push `i % n` onto the stack only during the first pass.\n"
      ]
    },
    {
      "cell_type": "markdown",
      "metadata": {},
      "source": [
        "## Detailed Explanation\n",
        "1. Initialize result array with -1 and an empty stack of indices.\n",
        "2. Let `n = len(nums)`. For `i` from 0 to `2n - 1`: let `value = nums[i % n]`.\n",
        "3. While stack is not empty and `nums[stack[-1]] < value`, pop index `idx` and set `result[idx] = value`.\n",
        "4. If `i < n`, push `i` onto the stack (so each index appears once).\n",
        "5. After the loop, positions left on the stack keep value -1.\n"
      ]
    },
    {
      "cell_type": "markdown",
      "metadata": {},
      "source": [
        "## Complexity Trade-off Table\n",
        "| Approach | Time Complexity | Space Complexity | Notes |\n",
        "| --- | --- | --- | --- |\n",
        "| Monotonic stack with double pass | O(n) | O(n) | Handles circular behavior elegantly. |\n",
        "| Brute-force wrap search | O(n^2) | O(1) | Too slow for 10^4 elements. |\n",
        "| Priority queue scanning | O(n log n) | O(n) | Unnecessarily complex.\n"
      ]
    },
    {
      "cell_type": "markdown",
      "metadata": {},
      "source": [
        "## Reference Implementation\n"
      ]
    },
    {
      "cell_type": "code",
      "metadata": {},
      "execution_count": null,
      "outputs": [],
      "source": [
        "from typing import List\n",
        "\n",
        "\n",
        "def next_greater_elements(nums: List[int]) -> List[int]:\n",
        "    \"\"\"Return next greater element for each index in a circular array.\"\"\"\n",
        "    n = len(nums)\n",
        "    result = [-1] * n\n",
        "    stack: List[int] = []  # store indices\n",
        "    for i in range(2 * n):\n",
        "        value = nums[i % n]\n",
        "        while stack and nums[stack[-1]] < value:\n",
        "            idx = stack.pop()\n",
        "            result[idx] = value\n",
        "        if i < n:\n",
        "            stack.append(i)\n",
        "    return result\n"
      ]
    },
    {
      "cell_type": "markdown",
      "metadata": {},
      "source": [
        "## Validation\n"
      ]
    },
    {
      "cell_type": "code",
      "metadata": {},
      "execution_count": null,
      "outputs": [],
      "source": [
        "cases = [\n",
        "    ([1,2,1], [2,-1,2]),\n",
        "    ([5,4,3,2,1], [-1,5,5,5,5]),\n",
        "    ([1,2,3,4,3], [2,3,4,-1,4]),\n",
        "]\n",
        "for nums, expected in cases:\n",
        "    assert next_greater_elements(nums) == expected\n",
        "print('All tests passed for LC 503.')\n"
      ]
    },
    {
      "cell_type": "markdown",
      "metadata": {},
      "source": [
        "## Complexity Analysis\n",
        "- Time Complexity: O(n) because each index is pushed and popped at most once.\n",
        "- Space Complexity: O(n) for the stack and result array.\n",
        "- Bottleneck: None beyond handling the doubled loop carefully.\n"
      ]
    },
    {
      "cell_type": "markdown",
      "metadata": {},
      "source": [
        "## Edge Cases & Pitfalls\n",
        "- Strictly decreasing arrays yield -1 for the maximum value but wrap to the first value for others.\n",
        "- All equal values stay -1.\n",
        "- Single element array should return [-1].\n"
      ]
    },
    {
      "cell_type": "markdown",
      "metadata": {},
      "source": [
        "## Follow-up Variants\n",
        "- Extend to find the next smaller element instead.\n",
        "- Handle k-times circular arrays where you wrap more than once intentionally.\n",
        "- Support dynamic updates to the array and reusing precomputed answers.\n"
      ]
    },
    {
      "cell_type": "markdown",
      "metadata": {},
      "source": [
        "## Takeaways\n",
        "- Doubling the loop handles circular structures without complex data structures.\n",
        "- Using indices keeps mapping results to the right positions.\n",
        "- Stops pushing indices after the first pass to avoid duplicates.\n"
      ]
    },
    {
      "cell_type": "markdown",
      "metadata": {},
      "source": [
        "## Similar Problems\n",
        "| Problem ID | Problem Title | Technique |\n",
        "| --- | --- | --- |\n",
        "| 496 | Next Greater Element I | Monotonic stack mapping |\n",
        "| 739 | Daily Temperatures | Monotonic stack of indices |\n",
        "| 907 | Sum of Subarray Minimums | Monotonic stack for contributions |\n"
      ]
    }
  ],
  "metadata": {
    "kernelspec": {
      "display_name": "Python 3 (ipykernel)",
      "language": "python",
      "name": "python3"
    },
    "language_info": {
      "codemirror_mode": {
        "name": "ipython",
        "version": 3
      },
      "file_extension": ".py",
      "mimetype": "text/x-python",
      "name": "python",
      "nbconvert_exporter": "python",
      "pygments_lexer": "ipython3",
      "version": "3.13.3"
    }
  },
  "nbformat": 4,
  "nbformat_minor": 5
}