{
  "cells": [
    {
      "cell_type": "markdown",
      "metadata": {},
      "source": [
        "# 1047. Remove All Adjacent Duplicates in String\n"
      ]
    },
    {
      "cell_type": "markdown",
      "metadata": {},
      "source": [
        "## Topic Alignment\n",
        "- **Role Relevance**: Cleanses noisy labels or tokens that cancel out during feature preprocessing.\n",
        "- **Scenario**: Models a log compaction pass where repeated toggles neutralize each other.\n"
      ]
    },
    {
      "cell_type": "markdown",
      "metadata": {},
      "source": [
        "## Metadata Summary\n",
        "- Source: [LeetCode - Remove All Adjacent Duplicates in String](https://leetcode.com/problems/remove-all-adjacent-duplicates-in-string/)\n",
        "- Tags: `Stack`, `String`\n",
        "- Difficulty: Easy\n",
        "- Recommended Priority: Medium\n"
      ]
    },
    {
      "cell_type": "markdown",
      "metadata": {},
      "source": [
        "## Problem Statement\n",
        "You are given a string `s`. Repeatedly delete pairs of adjacent equal letters. Return the final string after all deletions occur.\n",
        "\n",
        "Input: String `s` with length up to 100,000 containing lowercase letters.\n",
        "Output: The reduced string after repeatedly removing adjacent duplicates.\n",
        "Constraints: Removing pairs may expose new adjacent duplicates, so continue until no more deletions are possible.\n"
      ]
    },
    {
      "cell_type": "markdown",
      "metadata": {},
      "source": [
        "## Progressive Hints\n",
        "- Hint 1: Simulate the process manually to notice that deletion always affects the most recent characters.\n",
        "- Hint 2: The final answer depends on the order of traversal, suggesting a stack.\n",
        "- Hint 3: Push characters to a stack, and pop when the top equals the next character.\n"
      ]
    },
    {
      "cell_type": "markdown",
      "metadata": {},
      "source": [
        "## Solution Overview\n",
        "Process the string left to right, maintaining a stack of characters. When the incoming character matches the top, pop to remove the pair; otherwise push it. The stack at the end contains the resulting string.\n"
      ]
    },
    {
      "cell_type": "markdown",
      "metadata": {},
      "source": [
        "## Detailed Explanation\n",
        "1. Initialize an empty list `stack`.\n",
        "2. For each character `ch` in `s`: if `stack` is not empty and `stack[-1] == ch`, pop; else append `ch`.\n",
        "3. Join the stack into the resulting string using `''.join(stack)`.\n"
      ]
    },
    {
      "cell_type": "markdown",
      "metadata": {},
      "source": [
        "## Complexity Trade-off Table\n",
        "| Approach | Time Complexity | Space Complexity | Notes |\n",
        "| --- | --- | --- | --- |\n",
        "| Stack of characters | O(n) | O(n) | Natural simulation of the cancellation process. |\n",
        "| Recursively remove pairs | Potentially exponential | O(n) | Difficult to implement efficiently. |\n",
        "| Using string builder with pointer | O(n) | O(1) auxiliary | Equivalent to stack if implemented carefully.\n"
      ]
    },
    {
      "cell_type": "markdown",
      "metadata": {},
      "source": [
        "## Reference Implementation\n"
      ]
    },
    {
      "cell_type": "code",
      "metadata": {},
      "execution_count": null,
      "outputs": [],
      "source": [
        "def remove_duplicates(s: str) -> str:\n",
        "    \"\"\"Remove all adjacent duplicate characters by simulating a stack.\"\"\"\n",
        "    stack = []\n",
        "    for ch in s:\n",
        "        if stack and stack[-1] == ch:\n",
        "            stack.pop()\n",
        "        else:\n",
        "            stack.append(ch)\n",
        "    return ''.join(stack)\n"
      ]
    },
    {
      "cell_type": "markdown",
      "metadata": {},
      "source": [
        "## Validation\n"
      ]
    },
    {
      "cell_type": "code",
      "metadata": {},
      "execution_count": null,
      "outputs": [],
      "source": [
        "cases = [\n",
        "    ('abbaca', 'ca'),\n",
        "    ('azxxzy', 'ay'),\n",
        "    ('aababaab', 'bab'),\n",
        "    ('', ''),\n",
        "    ('abc', 'abc'),\n",
        "]\n",
        "for s, expected in cases:\n",
        "    assert remove_duplicates(s) == expected\n",
        "print('All tests passed for LC 1047.')\n"
      ]
    },
    {
      "cell_type": "markdown",
      "metadata": {},
      "source": [
        "## Complexity Analysis\n",
        "- Time Complexity: O(n) because each character is pushed and popped at most once.\n",
        "- Space Complexity: O(n) in the worst case when no deletions happen.\n",
        "- Bottleneck: None; linear scan with cheap operations.\n"
      ]
    },
    {
      "cell_type": "markdown",
      "metadata": {},
      "source": [
        "## Edge Cases & Pitfalls\n",
        "- Empty string should remain empty.\n",
        "- Strings with no duplicates must return unchanged.\n",
        "- Cascading removals such as `abba` must delete both pairs via sequential pops.\n"
      ]
    },
    {
      "cell_type": "markdown",
      "metadata": {},
      "source": [
        "## Follow-up Variants\n",
        "- Track how many deletions occurred instead of returning the final string.\n",
        "- Allow deletion of groups larger than two (k-adjacent duplicates).\n",
        "- Process the string in a streaming fashion with limited memory.\n"
      ]
    },
    {
      "cell_type": "markdown",
      "metadata": {},
      "source": [
        "## Takeaways\n",
        "- Stack-based cancellation is a common pattern for collapsible sequences.\n",
        "- Each character is handled locally without rescanning the entire prefix.\n",
        "- Implementation mirrors manual elimination found in sanitizer pipelines.\n"
      ]
    },
    {
      "cell_type": "markdown",
      "metadata": {},
      "source": [
        "## Similar Problems\n",
        "| Problem ID | Problem Title | Technique |\n",
        "| --- | --- | --- |\n",
        "| 1209 | Remove All Adjacent Duplicates in String II | Stack with counts |\n",
        "| 71 | Simplify Path | Stack cleanup of tokens |\n",
        "| 1021 | Remove Outermost Parentheses | Stack to track balance |\n"
      ]
    }
  ],
  "metadata": {
    "kernelspec": {
      "display_name": "Python 3 (ipykernel)",
      "language": "python",
      "name": "python3"
    },
    "language_info": {
      "codemirror_mode": {
        "name": "ipython",
        "version": 3
      },
      "file_extension": ".py",
      "mimetype": "text/x-python",
      "name": "python",
      "nbconvert_exporter": "python",
      "pygments_lexer": "ipython3",
      "version": "3.13.3"
    }
  },
  "nbformat": 4,
  "nbformat_minor": 5
}