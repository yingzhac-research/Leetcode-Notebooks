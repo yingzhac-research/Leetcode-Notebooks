{
  "cells": [
    {
      "cell_type": "markdown",
      "metadata": {},
      "source": [
        "# 32. Longest Valid Parentheses\n"
      ]
    },
    {
      "cell_type": "markdown",
      "metadata": {},
      "source": [
        "## Topic Alignment\n",
        "- **Role Relevance**: Measures how far malformed annotation strings deviate from valid syntax when parsing model configs.\n",
        "- **Scenario**: Helps score the largest well-formed block inside a noisy expression, mirroring log parsing in production pipelines.\n"
      ]
    },
    {
      "cell_type": "markdown",
      "metadata": {},
      "source": [
        "## Metadata Summary\n",
        "- Source: [LeetCode - Longest Valid Parentheses](https://leetcode.com/problems/longest-valid-parentheses/)\n",
        "- Tags: `Stack`, `Dynamic Programming`, `String`\n",
        "- Difficulty: Hard\n",
        "- Recommended Priority: High\n"
      ]
    },
    {
      "cell_type": "markdown",
      "metadata": {},
      "source": [
        "## Problem Statement\n",
        "Given a string consisting of only `(` and `)` characters, return the length of the longest substring that forms valid parentheses.\n",
        "\n",
        "Input: String `s` with length up to 10^5.\n",
        "Output: Integer length of the longest valid parentheses substring.\n",
        "Constraints: `0 <= len(s) <= 10^5`; only `(` and `)` characters appear.\n"
      ]
    },
    {
      "cell_type": "markdown",
      "metadata": {},
      "source": [
        "## Progressive Hints\n",
        "- Hint 1: Brute force by checking every substring is O(n^3) if you validate each substring independently.\n",
        "- Hint 2: While scanning, it is enough to remember unmatched indices rather than the entire substring.\n",
        "- Hint 3: Store indices on a stack and use a sentinel to measure distances between invalid boundaries.\n"
      ]
    },
    {
      "cell_type": "markdown",
      "metadata": {},
      "source": [
        "## Solution Overview\n",
        "Maintain a stack of indices representing unmatched openings. When a closing parenthesis matches, pop the stack and compute the distance between the current index and the index now at the top, yielding the length of the latest valid stretch. A sentinel index `-1` anchors the base when the stack becomes empty.\n"
      ]
    },
    {
      "cell_type": "markdown",
      "metadata": {},
      "source": [
        "## Detailed Explanation\n",
        "1. Initialize a stack with a sentinel value `-1` representing the index before the start.\n",
        "2. For each character at index `i`:\n",
        "   - If it is `(`, push `i`.\n",
        "   - If it is `)`, pop the stack; if the stack becomes empty, push `i` as the new sentinel, else update the best length with `i - stack[-1]`.\n",
        "3. Return the maximum length recorded during the scan. The sentinel ensures every valid block length uses the last unmatched position as the left boundary.\n"
      ]
    },
    {
      "cell_type": "markdown",
      "metadata": {},
      "source": [
        "## Complexity Trade-off Table\n",
        "| Approach | Time Complexity | Space Complexity | Notes |\n",
        "| --- | --- | --- | --- |\n",
        "| Stack of indices | O(n) | O(n) | Single pass; handles nested and adjacent pairs. |\n",
        "| DP with longest ending at i | O(n) | O(n) | Also linear but slightly more bookkeeping. |\n",
        "| Brute-force check | O(n^3) | O(1) | Check every substring with validation; infeasible for 10^5 characters.\n"
      ]
    },
    {
      "cell_type": "markdown",
      "metadata": {},
      "source": [
        "## Reference Implementation\n"
      ]
    },
    {
      "cell_type": "code",
      "metadata": {},
      "execution_count": null,
      "outputs": [],
      "source": [
        "from typing import List\n",
        "\n",
        "\n",
        "def longest_valid_parentheses(s: str) -> int:\n",
        "    \"\"\"Return the length of the longest valid parentheses substring in s.\"\"\"\n",
        "    max_len = 0\n",
        "    stack: List[int] = [-1]  # Sentinel index before the string starts.\n",
        "    for i, ch in enumerate(s):\n",
        "        if ch == '(':\n",
        "            stack.append(i)\n",
        "        else:\n",
        "            stack.pop()  # Pair current ')' with the latest '('.\n",
        "            if not stack:\n",
        "                stack.append(i)  # Reset baseline after an unmatched ')'.\n",
        "            else:\n",
        "                max_len = max(max_len, i - stack[-1])\n",
        "    return max_len\n"
      ]
    },
    {
      "cell_type": "markdown",
      "metadata": {},
      "source": [
        "## Validation\n"
      ]
    },
    {
      "cell_type": "code",
      "metadata": {},
      "execution_count": null,
      "outputs": [],
      "source": [
        "tests = [\n",
        "    ('', 0),\n",
        "    ('(', 0),\n",
        "    (')', 0),\n",
        "    ('()(()', 2),\n",
        "    ('(()', 2),\n",
        "    (')()())', 4),\n",
        "    ('()(())', 6),\n",
        "]\n",
        "for s, expected in tests:\n",
        "    assert longest_valid_parentheses(s) == expected\n",
        "print('All tests passed for LC 32.')\n"
      ]
    },
    {
      "cell_type": "markdown",
      "metadata": {},
      "source": [
        "## Complexity Analysis\n",
        "- Time Complexity: O(n) because each index is pushed and popped at most once.\n",
        "- Space Complexity: O(n) in the worst case when the stack keeps many opening indices.\n",
        "- Bottleneck: Maintaining the stack during long runs of '(' but still linear.\n"
      ]
    },
    {
      "cell_type": "markdown",
      "metadata": {},
      "source": [
        "## Edge Cases & Pitfalls\n",
        "- Strings beginning with ')' need the sentinel reset to ensure correct measurements.\n",
        "- Consecutive valid segments like '()()' must be merged via the sentinel distance calculation.\n",
        "- Empty strings should return zero without errors.\n"
      ]
    },
    {
      "cell_type": "markdown",
      "metadata": {},
      "source": [
        "## Follow-up Variants\n",
        "- Return the actual substring(s) rather than just the length.\n",
        "- Count how many substrings achieve the maximum length.\n",
        "- Evaluate the problem on streaming input while keeping O(1) additional space beyond the stack.\n"
      ]
    },
    {
      "cell_type": "markdown",
      "metadata": {},
      "source": [
        "## Takeaways\n",
        "- Using indices instead of characters on the stack captures boundary information needed for lengths.\n",
        "- A sentinel index elegantly handles the case when no unmatched opening remains.\n",
        "- Similar index-stacking applies to many interval scoring tasks.\n"
      ]
    },
    {
      "cell_type": "markdown",
      "metadata": {},
      "source": [
        "## Similar Problems\n",
        "| Problem ID | Problem Title | Technique |\n",
        "| --- | --- | --- |\n",
        "| 20 | Valid Parentheses | Stack validation |\n",
        "| 856 | Score of Parentheses | Stack with aggregated scoring |\n",
        "| 301 | Remove Invalid Parentheses | BFS with validity checks |\n"
      ]
    }
  ],
  "metadata": {
    "kernelspec": {
      "display_name": "Python 3 (ipykernel)",
      "language": "python",
      "name": "python3"
    },
    "language_info": {
      "codemirror_mode": {
        "name": "ipython",
        "version": 3
      },
      "file_extension": ".py",
      "mimetype": "text/x-python",
      "name": "python",
      "nbconvert_exporter": "python",
      "pygments_lexer": "ipython3",
      "version": "3.13.3"
    }
  },
  "nbformat": 4,
  "nbformat_minor": 5
}