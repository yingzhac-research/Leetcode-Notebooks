{
  "cells": [
    {
      "cell_type": "markdown",
      "metadata": {},
      "source": [
        "# 921. Minimum Add to Make Parentheses Valid\n"
      ]
    },
    {
      "cell_type": "markdown",
      "metadata": {},
      "source": [
        "## Topic Alignment\n",
        "- **Role Relevance**: Estimates the minimal fixes required when cleaning malformed feature formulas before deployment.\n",
        "- **Scenario**: Guides auto-correction for template driven configs where missing parentheses need to be patched with minimal edits.\n"
      ]
    },
    {
      "cell_type": "markdown",
      "metadata": {},
      "source": [
        "## Metadata Summary\n",
        "- Source: [LeetCode - Minimum Add to Make Parentheses Valid](https://leetcode.com/problems/minimum-add-to-make-parentheses-valid/)\n",
        "- Tags: `Stack`, `Greedy`, `String`\n",
        "- Difficulty: Medium\n",
        "- Recommended Priority: Medium\n"
      ]
    },
    {
      "cell_type": "markdown",
      "metadata": {},
      "source": [
        "## Problem Statement\n",
        "Given a string `s` of parentheses, return the minimum number of insertions needed to make the string valid (balanced).\n",
        "\n",
        "Input: String `s` containing only `(` and `)` with length up to 1000.\n",
        "Output: Integer count of insertions required.\n",
        "Constraints: `1 <= len(s) <= 1000`; characters are only `(` and `)`.\n"
      ]
    },
    {
      "cell_type": "markdown",
      "metadata": {},
      "source": [
        "## Progressive Hints\n",
        "- Hint 1: Instead of actually inserting parentheses, count how many openings are unmatched as you scan.\n",
        "- Hint 2: Track both missing closings and extra closings to decide insertions.\n",
        "- Hint 3: Either use a stack or maintain balance counters to accumulate the answer.\n"
      ]
    },
    {
      "cell_type": "markdown",
      "metadata": {},
      "source": [
        "## Solution Overview\n",
        "Traverse the string maintaining a balance of open parentheses. Increment the answer when a closing parenthesis appears without a matching opening. After the scan, any remaining open parentheses require matching closings, so add the balance to the answer.\n"
      ]
    },
    {
      "cell_type": "markdown",
      "metadata": {},
      "source": [
        "## Detailed Explanation\n",
        "1. Initialize `opens = 0` for the number of unmatched `(` seen so far and `insertions = 0` for required fixes.\n",
        "2. For each character: if `(`, increment `opens`; if `)`, check if `opens > 0` (match and decrement) else increment `insertions` because we need to add an opening.\n",
        "3. After the scan, any remaining `opens` need closing parentheses, so add `opens` to `insertions`. Return the final count.\n"
      ]
    },
    {
      "cell_type": "markdown",
      "metadata": {},
      "source": [
        "## Complexity Trade-off Table\n",
        "| Approach | Time Complexity | Space Complexity | Notes |\n",
        "| --- | --- | --- | --- |\n",
        "| Balance counter | O(n) | O(1) | Simplest approach with integer counters. |\n",
        "| Explicit stack | O(n) | O(n) | Conceptually similar but heavier memory. |\n",
        "| Dynamic programming | O(n^2) | O(n^2) | Overkill, not needed for plain parentheses.\n"
      ]
    },
    {
      "cell_type": "markdown",
      "metadata": {},
      "source": [
        "## Reference Implementation\n"
      ]
    },
    {
      "cell_type": "code",
      "metadata": {},
      "execution_count": null,
      "outputs": [],
      "source": [
        "def min_add_to_make_valid(s: str) -> int:\n",
        "    \"\"\"Return minimum insertions needed to balance parentheses string s.\"\"\"\n",
        "    opens = 0\n",
        "    insertions = 0\n",
        "    for ch in s:\n",
        "        if ch == '(':\n",
        "            opens += 1\n",
        "        else:\n",
        "            if opens > 0:\n",
        "                opens -= 1\n",
        "            else:\n",
        "                insertions += 1  # Need to insert an opening before this ')'.\n",
        "    return insertions + opens  # Remaining opens need closing parentheses.\n"
      ]
    },
    {
      "cell_type": "markdown",
      "metadata": {},
      "source": [
        "## Validation\n"
      ]
    },
    {
      "cell_type": "code",
      "metadata": {},
      "execution_count": null,
      "outputs": [],
      "source": [
        "tests = [\n",
        "    ('())', 1),\n",
        "    ('(((', 3),\n",
        "    ('())(', 2),\n",
        "    ('', 0),\n",
        "    ('(()())', 0),\n",
        "]\n",
        "for s, expected in tests:\n",
        "    assert min_add_to_make_valid(s) == expected\n",
        "print('All tests passed for LC 921.')\n"
      ]
    },
    {
      "cell_type": "markdown",
      "metadata": {},
      "source": [
        "## Complexity Analysis\n",
        "- Time Complexity: O(n) because the string is scanned once.\n",
        "- Space Complexity: O(1) since only counters are stored.\n",
        "- Bottleneck: None significant; values stay small.\n"
      ]
    },
    {
      "cell_type": "markdown",
      "metadata": {},
      "source": [
        "## Edge Cases & Pitfalls\n",
        "- Empty string should return zero.\n",
        "- Strings with all closings like '))))' must count an opening for each character.\n",
        "- Mixed sequences like ')()(' require both opening and closing insertions.\n"
      ]
    },
    {
      "cell_type": "markdown",
      "metadata": {},
      "source": [
        "## Follow-up Variants\n",
        "- Return the actual string after minimal insertions, not just the count.\n",
        "- Charge different costs for inserting '(' vs ')'.\n",
        "- Handle multiple bracket types with separate counts.\n"
      ]
    },
    {
      "cell_type": "markdown",
      "metadata": {},
      "source": [
        "## Takeaways\n",
        "- Tracking balance instead of storing the entire stack saves memory.\n",
        "- Minimum insertions problems often reduce to counting unmatched openings and closings separately.\n",
        "- Edge handling for unmatched closing parentheses is symmetric to leftover openings.\n"
      ]
    },
    {
      "cell_type": "markdown",
      "metadata": {},
      "source": [
        "## Similar Problems\n",
        "| Problem ID | Problem Title | Technique |\n",
        "| --- | --- | --- |\n",
        "| 20 | Valid Parentheses | Stack validation |\n",
        "| 1541 | Minimum Insertions to Balance a Parentheses String | Greedy counting |\n",
        "| 32 | Longest Valid Parentheses | Stack of indices |\n"
      ]
    }
  ],
  "metadata": {
    "kernelspec": {
      "display_name": "Python 3 (ipykernel)",
      "language": "python",
      "name": "python3"
    },
    "language_info": {
      "codemirror_mode": {
        "name": "ipython",
        "version": 3
      },
      "file_extension": ".py",
      "mimetype": "text/x-python",
      "name": "python",
      "nbconvert_exporter": "python",
      "pygments_lexer": "ipython3",
      "version": "3.13.3"
    }
  },
  "nbformat": 4,
  "nbformat_minor": 5
}