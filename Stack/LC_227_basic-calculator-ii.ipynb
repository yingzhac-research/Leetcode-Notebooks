{
  "cells": [
    {
      "cell_type": "markdown",
      "metadata": {},
      "source": [
        "# 227. Basic Calculator II\n"
      ]
    },
    {
      "cell_type": "markdown",
      "metadata": {},
      "source": [
        "## Topic Alignment\n",
        "- **Role Relevance**: Evaluates infix expressions with multiplication and division for tunable scoring rules.\n",
        "- **Scenario**: Required when ranking formulas combine additive and multiplicative weights in data quality checks.\n"
      ]
    },
    {
      "cell_type": "markdown",
      "metadata": {},
      "source": [
        "## Metadata Summary\n",
        "- Source: [LeetCode - Basic Calculator II](https://leetcode.com/problems/basic-calculator-ii/)\n",
        "- Tags: `Stack`, `Math`, `Parsing`\n",
        "- Difficulty: Medium\n",
        "- Recommended Priority: High\n"
      ]
    },
    {
      "cell_type": "markdown",
      "metadata": {},
      "source": [
        "## Problem Statement\n",
        "Given a string `s` representing a valid expression, implement a basic calculator to evaluate it and return the result.\n",
        "The expression contains non-negative integers and the operators `+`, `-`, `*`, `/`. Division truncates toward zero. No parentheses appear.\n",
        "\n",
        "Input: String `s` with length up to 3 * 10^5.\n",
        "Output: Integer result after evaluation.\n",
        "Constraints: Expression is valid and results fit in 32-bit signed integer range.\n"
      ]
    },
    {
      "cell_type": "markdown",
      "metadata": {},
      "source": [
        "## Progressive Hints\n",
        "- Hint 1: Operator precedence matters now; multiplication/division must be handled before addition/subtraction.\n",
        "- Hint 2: Accumulate digits into a number as you scan.\n",
        "- Hint 3: Use a stack to store signed terms; apply multiplication/division immediately with the last term.\n"
      ]
    },
    {
      "cell_type": "markdown",
      "metadata": {},
      "source": [
        "## Solution Overview\n",
        "Traverse the expression, building the current number. When an operator or the end is encountered, apply the previous operator to the current number: push for addition/subtraction, and modify the last stack element for multiplication/division. Sum the stack at the end.\n"
      ]
    },
    {
      "cell_type": "markdown",
      "metadata": {},
      "source": [
        "## Detailed Explanation\n",
        "1. Initialize `stack = []`, `number = 0`, and `prev_op = '+'`.\n",
        "2. For each character (plus a sentinel `+` at the end): if it is a digit, update `number`.\n",
        "3. When the character is an operator or the sentinel: depending on `prev_op`, push `number`, push `-number`, or pop from stack to multiply/divide with `number`.\n",
        "4. Reset `number` to 0 and update `prev_op` to the current operator.\n",
        "5. The final answer is the sum of all values in the stack.\n"
      ]
    },
    {
      "cell_type": "markdown",
      "metadata": {},
      "source": [
        "## Complexity Trade-off Table\n",
        "| Approach | Time Complexity | Space Complexity | Notes |\n",
        "| --- | --- | --- | --- |\n",
        "| Stack of terms | O(n) | O(n) | Immediate precedence handling; simple implementation. |\n",
        "| Two-accumulator method | O(n) | O(1) | Similar but tracks current term separately. |\n",
        "| Convert to postfix | O(n) | O(n) | Heavier but generalizes to all operators.\n"
      ]
    },
    {
      "cell_type": "markdown",
      "metadata": {},
      "source": [
        "## Reference Implementation\n"
      ]
    },
    {
      "cell_type": "code",
      "metadata": {},
      "execution_count": null,
      "outputs": [],
      "source": [
        "def calculate(s: str) -> int:\n",
        "    \"\"\"Evaluate expression with +, -, *, /.\"\"\"\n",
        "    stack = []\n",
        "    number = 0\n",
        "    prev_op = '+'\n",
        "    for ch in s + '+':\n",
        "        if ch == ' ':\n",
        "            continue\n",
        "        if ch.isdigit():\n",
        "            number = number * 10 + int(ch)\n",
        "        else:\n",
        "            if prev_op == '+':\n",
        "                stack.append(number)\n",
        "            elif prev_op == '-':\n",
        "                stack.append(-number)\n",
        "            elif prev_op == '*':\n",
        "                stack[-1] *= number\n",
        "            elif prev_op == '/':\n",
        "                stack[-1] = int(stack[-1] / number)\n",
        "            number = 0\n",
        "            prev_op = ch\n",
        "    return sum(stack)\n"
      ]
    },
    {
      "cell_type": "markdown",
      "metadata": {},
      "source": [
        "## Validation\n"
      ]
    },
    {
      "cell_type": "code",
      "metadata": {},
      "execution_count": null,
      "outputs": [],
      "source": [
        "cases = [\n",
        "    ('3+2*2', 7),\n",
        "    (' 3/2 ', 1),\n",
        "    (' 3+5 / 2 ', 5),\n",
        "    ('14-3/2', 13),\n",
        "]\n",
        "for expr, expected in cases:\n",
        "    assert calculate(expr) == expected\n",
        "print('All tests passed for LC 227.')\n"
      ]
    },
    {
      "cell_type": "markdown",
      "metadata": {},
      "source": [
        "## Complexity Analysis\n",
        "- Time Complexity: O(n) because each character is processed once.\n",
        "- Space Complexity: O(n) for the stack in the worst case (alternating plus/minus).\n",
        "- Bottleneck: None; operations are constant time.\n"
      ]
    },
    {
      "cell_type": "markdown",
      "metadata": {},
      "source": [
        "## Edge Cases & Pitfalls\n",
        "- Division should truncate toward zero for negative values.\n",
        "- Handle multi-digit numbers without resetting prematurely.\n",
        "- Final pending number must be flushed via the sentinel operator.\n"
      ]
    },
    {
      "cell_type": "markdown",
      "metadata": {},
      "source": [
        "## Follow-up Variants\n",
        "- Extend to parentheses (becoming Calculator III).\n",
        "- Support exponentiation with higher precedence.\n",
        "- Build an interpreter that can execute the parsed expression multiple times with different inputs.\n"
      ]
    },
    {
      "cell_type": "markdown",
      "metadata": {},
      "source": [
        "## Takeaways\n",
        "- Stack plus previous operator is a reusable pattern for precedence handling.\n",
        "- Appending a sentinel operator simplifies end-of-string flushing.\n",
        "- Truncation behavior must match the specification exactly.\n"
      ]
    },
    {
      "cell_type": "markdown",
      "metadata": {},
      "source": [
        "## Similar Problems\n",
        "| Problem ID | Problem Title | Technique |\n",
        "| --- | --- | --- |\n",
        "| 224 | Basic Calculator | Stack of result/sign contexts |\n",
        "| 772 | Basic Calculator III | Full shunting-yard |\n",
        "| 150 | Evaluate Reverse Polish Notation | Stack-based evaluation |\n"
      ]
    }
  ],
  "metadata": {
    "kernelspec": {
      "display_name": "Python 3 (ipykernel)",
      "language": "python",
      "name": "python3"
    },
    "language_info": {
      "codemirror_mode": {
        "name": "ipython",
        "version": 3
      },
      "file_extension": ".py",
      "mimetype": "text/x-python",
      "name": "python",
      "nbconvert_exporter": "python",
      "pygments_lexer": "ipython3",
      "version": "3.13.3"
    }
  },
  "nbformat": 4,
  "nbformat_minor": 5
}