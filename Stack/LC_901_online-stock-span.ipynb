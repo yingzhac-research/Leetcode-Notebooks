{
  "cells": [
    {
      "cell_type": "markdown",
      "metadata": {},
      "source": [
        "# 901. Online Stock Span\n"
      ]
    },
    {
      "cell_type": "markdown",
      "metadata": {},
      "source": [
        "## Topic Alignment\n",
        "- **Role Relevance**: Calculates streak lengths for streaming KPIs such as uptime or engagement.\n",
        "- **Scenario**: Supports dashboard widgets showing how long a metric has been steadily increasing.\n"
      ]
    },
    {
      "cell_type": "markdown",
      "metadata": {},
      "source": [
        "## Metadata Summary\n",
        "- Source: [LeetCode - Online Stock Span](https://leetcode.com/problems/online-stock-span/)\n",
        "- Tags: `Stack`, `Monotonic Stack`, `Design`\n",
        "- Difficulty: Medium\n",
        "- Recommended Priority: Medium\n"
      ]
    },
    {
      "cell_type": "markdown",
      "metadata": {},
      "source": [
        "## Problem Statement\n",
        "Design an algorithm that collects daily stock prices and returns the span for the current day's price. The span is the maximum number of consecutive days (ending today) the price has been less than or equal to today's price.\n",
        "\n",
        "Input: Sequence of `next(price)` calls with `price` up to 10^5.\n",
        "Output: Integer span for each call.\n",
        "Constraints: 1 <= price <= 10^5; at most 10^4 calls.\n"
      ]
    },
    {
      "cell_type": "markdown",
      "metadata": {},
      "source": [
        "## Progressive Hints\n",
        "- Hint 1: This is the online version of a next greater element problem.\n",
        "- Hint 2: Maintain a decreasing stack of `(price, span)` pairs.\n",
        "- Hint 3: Merge consecutive days with smaller or equal prices by accumulating their span.\n"
      ]
    },
    {
      "cell_type": "markdown",
      "metadata": {},
      "source": [
        "## Solution Overview\n",
        "Maintain a stack where each entry stores a price and the span it covers. When a new price arrives, pop while the stack top's price is less than or equal to the current price, summing their spans. Push the combined span for the current price and return it.\n"
      ]
    },
    {
      "cell_type": "markdown",
      "metadata": {},
      "source": [
        "## Detailed Explanation\n",
        "1. Initialize an empty stack of tuples `(price, span)`.\n",
        "2. On each `next(price)` call, start with `span = 1`. While the stack is not empty and `stack[-1][0] <= price`, pop and add its span to `span`.\n",
        "3. Push `(price, span)` onto the stack to represent the current day.\n",
        "4. Return `span` as the answer. The stack remains strictly decreasing by price, ensuring amortized O(1) per call.\n"
      ]
    },
    {
      "cell_type": "markdown",
      "metadata": {},
      "source": [
        "## Complexity Trade-off Table\n",
        "| Approach | Time Complexity | Space Complexity | Notes |\n",
        "| --- | --- | --- | --- |\n",
        "| Monotonic stack of (price, span) | O(n) total | O(n) | Each price pushed and popped once. |\n",
        "| Brute force scan | O(n^2) | O(n) | For each day scan back; too slow. |\n",
        "| Fenwick tree | O(n log n) | O(n) | Overkill for ordered streaming nature.\n"
      ]
    },
    {
      "cell_type": "markdown",
      "metadata": {},
      "source": [
        "## Reference Implementation\n"
      ]
    },
    {
      "cell_type": "code",
      "metadata": {},
      "execution_count": null,
      "outputs": [],
      "source": [
        "class StockSpanner:\n",
        "    \"\"\"Stream processor for stock span queries using a monotonic stack.\"\"\"\n",
        "    def __init__(self) -> None:\n",
        "        self.stack: list[tuple[int, int]] = []  # (price, span)\n",
        "\n",
        "    def next(self, price: int) -> int:\n",
        "        span = 1\n",
        "        while self.stack and self.stack[-1][0] <= price:\n",
        "            span += self.stack.pop()[1]\n",
        "        self.stack.append((price, span))\n",
        "        return span\n"
      ]
    },
    {
      "cell_type": "markdown",
      "metadata": {},
      "source": [
        "## Validation\n"
      ]
    },
    {
      "cell_type": "code",
      "metadata": {},
      "execution_count": null,
      "outputs": [],
      "source": [
        "stream = [100, 80, 60, 70, 60, 75, 85]\n",
        "expected = [1, 1, 1, 2, 1, 4, 6]\n",
        "spanner = StockSpanner()\n",
        "for price, exp in zip(stream, expected):\n",
        "    assert spanner.next(price) == exp\n",
        "print('All tests passed for LC 901.')\n"
      ]
    },
    {
      "cell_type": "markdown",
      "metadata": {},
      "source": [
        "## Complexity Analysis\n",
        "- Time Complexity: Amortized O(1) per call since each item is pushed and popped once.\n",
        "- Space Complexity: O(n) in the worst case when prices strictly decrease.\n",
        "- Bottleneck: Stack size equals the length of the current decreasing run.\n"
      ]
    },
    {
      "cell_type": "markdown",
      "metadata": {},
      "source": [
        "## Edge Cases & Pitfalls\n",
        "- Strictly increasing prices cause long spans but limited memory due to merging.\n",
        "- Strictly decreasing prices keep spans at 1 and grow stack size linearly.\n",
        "- Large numbers of queries require confirming amortized guarantees.\n"
      ]
    },
    {
      "cell_type": "markdown",
      "metadata": {},
      "source": [
        "## Follow-up Variants\n",
        "- Support removing the last day (rollbacks) along with insertion.\n",
        "- Track additional statistics such as maximum span observed.\n",
        "- Handle multiple independent stocks concurrently with shared state.\n"
      ]
    },
    {
      "cell_type": "markdown",
      "metadata": {},
      "source": [
        "## Takeaways\n",
        "- Maintaining both value and accumulated span avoids re-traversing history.\n",
        "- Monotonic stack patterns extend naturally to online data streams.\n",
        "- The approach is identical to counting consecutive dominated elements.\n"
      ]
    },
    {
      "cell_type": "markdown",
      "metadata": {},
      "source": [
        "## Similar Problems\n",
        "| Problem ID | Problem Title | Technique |\n",
        "| --- | --- | --- |\n",
        "| 496 | Next Greater Element I | Monotonic stack |\n",
        "| 739 | Daily Temperatures | Stack for wait lengths |\n",
        "| 907 | Sum of Subarray Minimums | Stack for contributions |\n"
      ]
    }
  ],
  "metadata": {
    "kernelspec": {
      "display_name": "Python 3 (ipykernel)",
      "language": "python",
      "name": "python3"
    },
    "language_info": {
      "codemirror_mode": {
        "name": "ipython",
        "version": 3
      },
      "file_extension": ".py",
      "mimetype": "text/x-python",
      "name": "python",
      "nbconvert_exporter": "python",
      "pygments_lexer": "ipython3",
      "version": "3.13.3"
    }
  },
  "nbformat": 4,
  "nbformat_minor": 5
}