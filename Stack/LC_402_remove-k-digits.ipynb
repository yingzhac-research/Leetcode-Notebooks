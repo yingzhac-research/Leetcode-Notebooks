{
  "cells": [
    {
      "cell_type": "markdown",
      "metadata": {},
      "source": [
        "# 402. Remove K Digits\n"
      ]
    },
    {
      "cell_type": "markdown",
      "metadata": {},
      "source": [
        "## Topic Alignment\n",
        "- **Role Relevance**: Applies greedy pruning when compressing model IDs or experiment numbers to minimal lexicographic values.\n",
        "- **Scenario**: Mirrors removing low-significance events while preserving overall ordering.\n"
      ]
    },
    {
      "cell_type": "markdown",
      "metadata": {},
      "source": [
        "## Metadata Summary\n",
        "- Source: [LeetCode - Remove K Digits](https://leetcode.com/problems/remove-k-digits/)\n",
        "- Tags: `Stack`, `Greedy`, `String`\n",
        "- Difficulty: Medium\n",
        "- Recommended Priority: Medium\n"
      ]
    },
    {
      "cell_type": "markdown",
      "metadata": {},
      "source": [
        "## Problem Statement\n",
        "Given a non-negative integer `num` represented as a string and an integer `k`, remove `k` digits from the number so that the new number is the smallest possible.\n",
        "\n",
        "Input: String `num` with up to 10^5 digits; integer `k` where 0 <= k <= len(num).\n",
        "Output: String representation of the smallest possible number after removing `k` digits (leading zeros allowed; final result should not contain leading zeros except for zero itself).\n",
        "Constraints: `num` contains digits only; the result should not be empty (return '0' if all digits removed).\n"
      ]
    },
    {
      "cell_type": "markdown",
      "metadata": {},
      "source": [
        "## Progressive Hints\n",
        "- Hint 1: Removing a larger digit before a smaller digit yields a smaller result.\n",
        "- Hint 2: Use a monotonic increasing stack to maintain the smallest prefix.\n",
        "- Hint 3: After processing, if `k` remains positive, remove digits from the end, then strip leading zeros.\n"
      ]
    },
    {
      "cell_type": "markdown",
      "metadata": {},
      "source": [
        "## Solution Overview\n",
        "Process digits left to right while maintaining a stack that keeps the digits in non-decreasing order. Pop larger digits when a smaller digit arrives and you still have deletions left. After the scan, remove any leftover digits from the end and strip leading zeros.\n"
      ]
    },
    {
      "cell_type": "markdown",
      "metadata": {},
      "source": [
        "## Detailed Explanation\n",
        "1. Initialize an empty stack and remaining deletions `k`.\n",
        "2. For each digit `d` in `num`: while `k > 0` and stack is not empty and stack[-1] > `d`, pop the stack and decrement `k`. Then push `d`.\n",
        "3. After the loop, if `k > 0`, remove the last `k` digits from the stack (they are the largest suffix).\n",
        "4. Convert the stack to a string, strip leading zeros, and return '0' if the result is empty.\n"
      ]
    },
    {
      "cell_type": "markdown",
      "metadata": {},
      "source": [
        "## Complexity Trade-off Table\n",
        "| Approach | Time Complexity | Space Complexity | Notes |\n",
        "| --- | --- | --- | --- |\n",
        "| Monotonic stack (greedy) | O(n) | O(n) | Optimal and linear. |\n",
        "| Recursive removal | Exponential | O(n) | Explores too many states. |\n",
        "| DP on deletions | O(n * k) | O(n * k) | Unnecessary for simple ordering.\n"
      ]
    },
    {
      "cell_type": "markdown",
      "metadata": {},
      "source": [
        "## Reference Implementation\n"
      ]
    },
    {
      "cell_type": "code",
      "metadata": {},
      "execution_count": null,
      "outputs": [],
      "source": [
        "def remove_k_digits(num: str, k: int) -> str:\n",
        "    \"\"\"Return the smallest possible number after removing k digits.\"\"\"\n",
        "    stack: list[str] = []\n",
        "    for digit in num:\n",
        "        while k > 0 and stack and stack[-1] > digit:\n",
        "            stack.pop()\n",
        "            k -= 1\n",
        "        stack.append(digit)\n",
        "    if k > 0:\n",
        "        del stack[-k:]\n",
        "    result = ''.join(stack).lstrip('0')\n",
        "    return result or '0'\n"
      ]
    },
    {
      "cell_type": "markdown",
      "metadata": {},
      "source": [
        "## Validation\n"
      ]
    },
    {
      "cell_type": "code",
      "metadata": {},
      "execution_count": null,
      "outputs": [],
      "source": [
        "cases = [\n",
        "    ('1432219', 3, '1219'),\n",
        "    ('10200', 1, '200'),\n",
        "    ('10', 2, '0'),\n",
        "    ('123456', 3, '123'),\n",
        "]\n",
        "for num, k, expected in cases:\n",
        "    assert remove_k_digits(num, k) == expected\n",
        "print('All tests passed for LC 402.')\n"
      ]
    },
    {
      "cell_type": "markdown",
      "metadata": {},
      "source": [
        "## Complexity Analysis\n",
        "- Time Complexity: O(n) because each digit is pushed and popped at most once.\n",
        "- Space Complexity: O(n) for the stack storing the digits.\n",
        "- Bottleneck: Managing large input strings; operations stay linear.\n"
      ]
    },
    {
      "cell_type": "markdown",
      "metadata": {},
      "source": [
        "## Edge Cases & Pitfalls\n",
        "- Removing all digits should return '0'.\n",
        "- Leading zeros after removals must be trimmed.\n",
        "- Already non-decreasing numbers simply drop the last k digits.\n"
      ]
    },
    {
      "cell_type": "markdown",
      "metadata": {},
      "source": [
        "## Follow-up Variants\n",
        "- Return the number as an integer modulo a large prime.\n",
        "- Handle very large k by early exit when k equals length.\n",
        "- Extend to remove digits to form the largest possible number under similar rules.\n"
      ]
    },
    {
      "cell_type": "markdown",
      "metadata": {},
      "source": [
        "## Takeaways\n",
        "- Monotonic stacks enforce greedy choice without revisiting earlier digits.\n",
        "- Post-processing ensures leftover deletions are handled succinctly.\n",
        "- String lstrip handles leading zero cleanup elegantly.\n"
      ]
    },
    {
      "cell_type": "markdown",
      "metadata": {},
      "source": [
        "## Similar Problems\n",
        "| Problem ID | Problem Title | Technique |\n",
        "| --- | --- | --- |\n",
        "| 321 | Create Maximum Number | Greedy stack selection |\n",
        "| 316 | Remove Duplicate Letters | Monotonic stack for lexicographic order |\n",
        "| 1081 | Smallest Subsequence of Distinct Characters | Similar greedy stack |\n"
      ]
    }
  ],
  "metadata": {
    "kernelspec": {
      "display_name": "Python 3 (ipykernel)",
      "language": "python",
      "name": "python3"
    },
    "language_info": {
      "codemirror_mode": {
        "name": "ipython",
        "version": 3
      },
      "file_extension": ".py",
      "mimetype": "text/x-python",
      "name": "python",
      "nbconvert_exporter": "python",
      "pygments_lexer": "ipython3",
      "version": "3.13.3"
    }
  },
  "nbformat": 4,
  "nbformat_minor": 5
}