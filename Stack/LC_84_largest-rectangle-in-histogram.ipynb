{
  "cells": [
    {
      "cell_type": "markdown",
      "metadata": {},
      "source": [
        "# 84. Largest Rectangle in Histogram\n"
      ]
    },
    {
      "cell_type": "markdown",
      "metadata": {},
      "source": [
        "## Topic Alignment\n",
        "- **Role Relevance**: Identifies maximal contiguous throughput windows when profiling pipeline stages.\n",
        "- **Scenario**: Helps size compute resources by finding the widest interval with consistent capacity.\n"
      ]
    },
    {
      "cell_type": "markdown",
      "metadata": {},
      "source": [
        "## Metadata Summary\n",
        "- Source: [LeetCode - Largest Rectangle in Histogram](https://leetcode.com/problems/largest-rectangle-in-histogram/)\n",
        "- Tags: `Stack`, `Monotonic Stack`\n",
        "- Difficulty: Hard\n",
        "- Recommended Priority: High\n"
      ]
    },
    {
      "cell_type": "markdown",
      "metadata": {},
      "source": [
        "## Problem Statement\n",
        "Given an array of bar heights representing a histogram, find the area of the largest rectangle that can be formed within the histogram. Each bar has width 1.\n",
        "\n",
        "Input: Array `heights` with length up to 10^5.\n",
        "Output: Integer area of the largest rectangle.\n",
        "Constraints: Heights are non-negative; answer fits in 32-bit signed integer.\n"
      ]
    },
    {
      "cell_type": "markdown",
      "metadata": {},
      "source": [
        "## Progressive Hints\n",
        "- Hint 1: For each bar, you need to know how far it can extend left and right while maintaining height.\n",
        "- Hint 2: A monotonic stack can track bars in increasing order to determine boundaries as soon as a shorter bar appears.\n",
        "- Hint 3: Append a sentinel bar of height 0 to flush the stack at the end.\n"
      ]
    },
    {
      "cell_type": "markdown",
      "metadata": {},
      "source": [
        "## Solution Overview\n",
        "Maintain a stack of indices with increasing bar heights. When encountering a bar shorter than the stack top, pop indices and compute areas using the popped bar as the limiting height. The width is determined by the current index and the new top of stack.\n"
      ]
    },
    {
      "cell_type": "markdown",
      "metadata": {},
      "source": [
        "## Detailed Explanation\n",
        "1. Append a sentinel `0` height to the histogram to force final pops.\n",
        "2. Iterate through indices and heights: while the stack is not empty and the current height is less than the height at the stack top, pop an index and compute area as `height[popped] * (current_index - stack[-1] - 1)` using -1 when stack becomes empty.\n",
        "3. Update the maximum area seen.\n",
        "4. Push the current index onto the stack after handling pops.\n",
        "5. Remove the sentinel effect by ignoring the appended value afterward.\n"
      ]
    },
    {
      "cell_type": "markdown",
      "metadata": {},
      "source": [
        "## Complexity Trade-off Table\n",
        "| Approach | Time Complexity | Space Complexity | Notes |\n",
        "| --- | --- | --- | --- |\n",
        "| Monotonic stack | O(n) | O(n) | Definitive solution for n=10^5. |\n",
        "| Divide and conquer | O(n log n) avg | O(log n) | Worst-case O(n^2). |\n",
        "| Brute force expansion | O(n^2) | O(1) | Too slow for large inputs.\n"
      ]
    },
    {
      "cell_type": "markdown",
      "metadata": {},
      "source": [
        "## Reference Implementation\n"
      ]
    },
    {
      "cell_type": "code",
      "metadata": {},
      "execution_count": null,
      "outputs": [],
      "source": [
        "from typing import List\n",
        "\n",
        "\n",
        "def largest_rectangle_area(heights: List[int]) -> int:\n",
        "    \"\"\"Return the maximum rectangular area within a histogram.\"\"\"\n",
        "    stack: List[int] = []\n",
        "    max_area = 0\n",
        "    extended = heights + [0]\n",
        "    for i, h in enumerate(extended):\n",
        "        while stack and h < extended[stack[-1]]:\n",
        "            height = extended[stack.pop()]\n",
        "            left = stack[-1] if stack else -1\n",
        "            width = i - left - 1\n",
        "            max_area = max(max_area, height * width)\n",
        "        stack.append(i)\n",
        "    return max_area\n"
      ]
    },
    {
      "cell_type": "markdown",
      "metadata": {},
      "source": [
        "## Validation\n"
      ]
    },
    {
      "cell_type": "code",
      "metadata": {},
      "execution_count": null,
      "outputs": [],
      "source": [
        "cases = [\n",
        "    ([2,1,5,6,2,3], 10),\n",
        "    ([2,4], 4),\n",
        "    ([6,7,5,2,4], 15),\n",
        "    ([1,1,1,1], 4),\n",
        "]\n",
        "for heights, expected in cases:\n",
        "    assert largest_rectangle_area(heights) == expected\n",
        "print('All tests passed for LC 84.')\n"
      ]
    },
    {
      "cell_type": "markdown",
      "metadata": {},
      "source": [
        "## Complexity Analysis\n",
        "- Time Complexity: O(n) thanks to each index entering and leaving the stack once.\n",
        "- Space Complexity: O(n) for the stack in worst case of increasing heights.\n",
        "- Bottleneck: Multiplying heights and widths; ensure no overflow in languages with fixed ints.\n"
      ]
    },
    {
      "cell_type": "markdown",
      "metadata": {},
      "source": [
        "## Edge Cases & Pitfalls\n",
        "- Empty histogram returns 0.\n",
        "- Single bar's area is just its height.\n",
        "- Tall bars at the end are handled by the sentinel to flush the stack.\n"
      ]
    },
    {
      "cell_type": "markdown",
      "metadata": {},
      "source": [
        "## Follow-up Variants\n",
        "- Track the start and end indices of the rectangle achieving the maximum area.\n",
        "- Support dynamic updates (insert/delete bars) via segment tree.\n",
        "- Apply the same technique row by row to compute maximal rectangles in binary matrices (LC 85).\n"
      ]
    },
    {
      "cell_type": "markdown",
      "metadata": {},
      "source": [
        "## Takeaways\n",
        "- Stacks discover nearest smaller elements in linear time.\n",
        "- Adding a sentinel simplifies post-processing.\n",
        "- This problem is a cornerstone for multiple 2D histogram questions.\n"
      ]
    },
    {
      "cell_type": "markdown",
      "metadata": {},
      "source": [
        "## Similar Problems\n",
        "| Problem ID | Problem Title | Technique |\n",
        "| --- | --- | --- |\n",
        "| 85 | Maximal Rectangle | Histogram per row + stack |\n",
        "| 42 | Trapping Rain Water | Monotonic stack for bounds |\n",
        "| 907 | Sum of Subarray Minimums | Contribution via monotonic stack |\n"
      ]
    }
  ],
  "metadata": {
    "kernelspec": {
      "display_name": "Python 3 (ipykernel)",
      "language": "python",
      "name": "python3"
    },
    "language_info": {
      "codemirror_mode": {
        "name": "ipython",
        "version": 3
      },
      "file_extension": ".py",
      "mimetype": "text/x-python",
      "name": "python",
      "nbconvert_exporter": "python",
      "pygments_lexer": "ipython3",
      "version": "3.13.3"
    }
  },
  "nbformat": 4,
  "nbformat_minor": 5
}