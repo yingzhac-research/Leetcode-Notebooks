{
  "cells": [
    {
      "cell_type": "markdown",
      "metadata": {},
      "source": [
        "# 739. Daily Temperatures\n"
      ]
    },
    {
      "cell_type": "markdown",
      "metadata": {},
      "source": [
        "## Topic Alignment\n",
        "- **Role Relevance**: Predicts time until the next positive deviation in monitoring signals.\n",
        "- **Scenario**: Mirror when to alert users about warmer future days based on historical weather data streams.\n"
      ]
    },
    {
      "cell_type": "markdown",
      "metadata": {},
      "source": [
        "## Metadata Summary\n",
        "- Source: [LeetCode - Daily Temperatures](https://leetcode.com/problems/daily-temperatures/)\n",
        "- Tags: `Stack`, `Monotonic Stack`, `Array`\n",
        "- Difficulty: Medium\n",
        "- Recommended Priority: High\n"
      ]
    },
    {
      "cell_type": "markdown",
      "metadata": {},
      "source": [
        "## Problem Statement\n",
        "Given a list of daily temperatures, return a list that for each day tells you how many days you would have to wait until a warmer temperature. If there is no future day for which this is possible, put 0 instead.\n",
        "\n",
        "Input: Array `temperatures` with length up to 10^5.\n",
        "Output: Array of wait lengths for each day.\n",
        "Constraints: Temperatures are integers from 30 to 100.\n"
      ]
    },
    {
      "cell_type": "markdown",
      "metadata": {},
      "source": [
        "## Progressive Hints\n",
        "- Hint 1: Brute force scanning forward from each index yields O(n^2).\n",
        "- Hint 2: Maintain a decreasing stack of indices so future warmer days pop prior indices.\n",
        "- Hint 3: When you find a warmer day, compute the difference in indices.\n"
      ]
    },
    {
      "cell_type": "markdown",
      "metadata": {},
      "source": [
        "## Solution Overview\n",
        "Traverse the temperatures array, maintaining a stack of indices whose next warmer day is unknown. When the current temperature is higher than the temperature at the stack top, pop and fill the answer with the difference of indices. Push the current index afterward.\n"
      ]
    },
    {
      "cell_type": "markdown",
      "metadata": {},
      "source": [
        "## Detailed Explanation\n",
        "1. Initialize `answer` array of zeros and an empty stack of indices.\n",
        "2. For each index `i` and temperature `t`: while the stack is not empty and `t > temperatures[stack[-1]]`, pop `prev` and set `answer[prev] = i - prev`.\n",
        "3. Push `i` onto the stack.\n",
        "4. Remaining indices on the stack have no warmer day, so their answer remains 0.\n"
      ]
    },
    {
      "cell_type": "markdown",
      "metadata": {},
      "source": [
        "## Complexity Trade-off Table\n",
        "| Approach | Time Complexity | Space Complexity | Notes |\n",
        "| --- | --- | --- | --- |\n",
        "| Monotonic decreasing stack | O(n) | O(n) | Standard next greater pattern. |\n",
        "| Two nested loops | O(n^2) | O(1) | Too slow for 10^5 entries. |\n",
        "| Segment tree / Fenwick tree | O(n log n) | O(n) | Overkill relative to stack solution.\n"
      ]
    },
    {
      "cell_type": "markdown",
      "metadata": {},
      "source": [
        "## Reference Implementation\n"
      ]
    },
    {
      "cell_type": "code",
      "metadata": {},
      "execution_count": null,
      "outputs": [],
      "source": [
        "from typing import List\n",
        "\n",
        "\n",
        "def daily_temperatures(temperatures: List[int]) -> List[int]:\n",
        "    \"\"\"Return wait days until a warmer temperature for each day.\"\"\"\n",
        "    n = len(temperatures)\n",
        "    answer = [0] * n\n",
        "    stack: List[int] = []\n",
        "    for i, temp in enumerate(temperatures):\n",
        "        while stack and temp > temperatures[stack[-1]]:\n",
        "            prev = stack.pop()\n",
        "            answer[prev] = i - prev\n",
        "        stack.append(i)\n",
        "    return answer\n"
      ]
    },
    {
      "cell_type": "markdown",
      "metadata": {},
      "source": [
        "## Validation\n"
      ]
    },
    {
      "cell_type": "code",
      "metadata": {},
      "execution_count": null,
      "outputs": [],
      "source": [
        "cases = [\n",
        "    ([73,74,75,71,69,72,76,73], [1,1,4,2,1,1,0,0]),\n",
        "    ([30,40,50,60], [1,1,1,0]),\n",
        "    ([30,60,90], [1,1,0]),\n",
        "    ([90,80,70], [0,0,0]),\n",
        "]\n",
        "for temps, expected in cases:\n",
        "    assert daily_temperatures(temps) == expected\n",
        "print('All tests passed for LC 739.')\n"
      ]
    },
    {
      "cell_type": "markdown",
      "metadata": {},
      "source": [
        "## Complexity Analysis\n",
        "- Time Complexity: O(n) because each index is pushed and popped at most once.\n",
        "- Space Complexity: O(n) for the stack in the worst case of decreasing temperatures.\n",
        "- Bottleneck: None; operations per temperature are constant amortized.\n"
      ]
    },
    {
      "cell_type": "markdown",
      "metadata": {},
      "source": [
        "## Edge Cases & Pitfalls\n",
        "- Non-increasing sequences result in all zeros.\n",
        "- Flattened sequences with ties keep earlier indices waiting for later warmer day.\n",
        "- Large input size demands linear-time approach.\n"
      ]
    },
    {
      "cell_type": "markdown",
      "metadata": {},
      "source": [
        "## Follow-up Variants\n",
        "- Extend to handle queries for minimum wait above a configurable threshold.\n",
        "- Support streaming data by maintaining the stack as new temperatures arrive.\n",
        "- Return the actual day index rather than the wait length.\n"
      ]
    },
    {
      "cell_type": "markdown",
      "metadata": {},
      "source": [
        "## Takeaways\n",
        "- Maintaining a monotonic stack of indices is a Swiss army knife for nearest greater problems.\n",
        "- Differences in indices conveniently give waiting days.\n",
        "- Works for any monotonic condition, not just temperatures.\n"
      ]
    },
    {
      "cell_type": "markdown",
      "metadata": {},
      "source": [
        "## Similar Problems\n",
        "| Problem ID | Problem Title | Technique |\n",
        "| --- | --- | --- |\n",
        "| 496 | Next Greater Element I | Monotonic stack |\n",
        "| 901 | Online Stock Span | Stack for span lengths |\n",
        "| 739 | Daily Temperatures | Monotonic stack with indices |\n"
      ]
    }
  ],
  "metadata": {
    "kernelspec": {
      "display_name": "Python 3 (ipykernel)",
      "language": "python",
      "name": "python3"
    },
    "language_info": {
      "codemirror_mode": {
        "name": "ipython",
        "version": 3
      },
      "file_extension": ".py",
      "mimetype": "text/x-python",
      "name": "python",
      "nbconvert_exporter": "python",
      "pygments_lexer": "ipython3",
      "version": "3.13.3"
    }
  },
  "nbformat": 4,
  "nbformat_minor": 5
}