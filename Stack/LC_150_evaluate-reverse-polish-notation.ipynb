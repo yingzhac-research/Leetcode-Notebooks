{
  "cells": [
    {
      "cell_type": "markdown",
      "metadata": {},
      "source": [
        "# 150. Evaluate Reverse Polish Notation\n"
      ]
    },
    {
      "cell_type": "markdown",
      "metadata": {},
      "source": [
        "## Topic Alignment\n",
        "- **Role Relevance**: Interprets postfix expressions used in lightweight feature transformation DSLs.\n",
        "- **Scenario**: Useful when executing user-provided arithmetic pipelines safely without recursion.\n"
      ]
    },
    {
      "cell_type": "markdown",
      "metadata": {},
      "source": [
        "## Metadata Summary\n",
        "- Source: [LeetCode - Evaluate Reverse Polish Notation](https://leetcode.com/problems/evaluate-reverse-polish-notation/)\n",
        "- Tags: `Stack`, `Math`\n",
        "- Difficulty: Medium\n",
        "- Recommended Priority: High\n"
      ]
    },
    {
      "cell_type": "markdown",
      "metadata": {},
      "source": [
        "## Problem Statement\n",
        "You are given an array of tokens representing an arithmetic expression in Reverse Polish Notation. Evaluate the expression and return the result as an integer.\n",
        "Operators include `+`, `-`, `*`, `/`, and each operand may be an integer or another expression. Division should truncate toward zero.\n",
        "\n",
        "Input: List of tokens with length up to 10^4.\n",
        "Output: Integer value of the expression.\n",
        "Constraints: Tokens form a valid RPN expression; intermediate results fit in 32-bit signed integer range.\n"
      ]
    },
    {
      "cell_type": "markdown",
      "metadata": {},
      "source": [
        "## Progressive Hints\n",
        "- Hint 1: Reverse Polish Notation evaluates left to right and only needs local context.\n",
        "- Hint 2: Use a stack to push operands and pop them when an operator appears.\n",
        "- Hint 3: Pay attention to operand order for subtraction and division.\n"
      ]
    },
    {
      "cell_type": "markdown",
      "metadata": {},
      "source": [
        "## Solution Overview\n",
        "Traverse the tokens. Push numbers onto a stack. When encountering an operator, pop the two most recent operands, apply the operator (respecting order), and push the result back. After processing all tokens, the stack holds the final answer.\n"
      ]
    },
    {
      "cell_type": "markdown",
      "metadata": {},
      "source": [
        "## Detailed Explanation\n",
        "1. Initialize an empty stack for integers.\n",
        "2. For each token:\n",
        "   - If it represents an integer, convert and push onto the stack.\n",
        "   - Otherwise it is an operator; pop the right operand then the left operand, apply the operator, and push the result.\n",
        "3. After consuming all tokens, the single element remaining on the stack is the result.\n",
        "4. Ensure division truncates toward zero as specified by LeetCode (Python's `int(a / b)` achieves this).\n"
      ]
    },
    {
      "cell_type": "markdown",
      "metadata": {},
      "source": [
        "## Complexity Trade-off Table\n",
        "| Approach | Time Complexity | Space Complexity | Notes |\n",
        "| --- | --- | --- | --- |\n",
        "| Stack evaluation | O(n) | O(n) | Push/pop per token. |\n",
        "| Recursive evaluation | O(n) | O(n) | Equivalent but uses call stack. |\n",
        "| Convert to infix | O(n) | O(n) | Adds parsing complexity; unnecessary.\n"
      ]
    },
    {
      "cell_type": "markdown",
      "metadata": {},
      "source": [
        "## Reference Implementation\n"
      ]
    },
    {
      "cell_type": "code",
      "metadata": {},
      "execution_count": null,
      "outputs": [],
      "source": [
        "from typing import List\n",
        "\n",
        "\n",
        "def eval_rpn(tokens: List[str]) -> int:\n",
        "    \"\"\"Evaluate the value of an RPN expression.\"\"\"\n",
        "    stack: List[int] = []\n",
        "    ops = {\n",
        "        '+': lambda a, b: a + b,\n",
        "        '-': lambda a, b: a - b,\n",
        "        '*': lambda a, b: a * b,\n",
        "        '/': lambda a, b: int(a / b),  # Truncate toward zero.\n",
        "    }\n",
        "    for token in tokens:\n",
        "        if token in ops:\n",
        "            right = stack.pop()\n",
        "            left = stack.pop()\n",
        "            stack.append(ops[token](left, right))\n",
        "        else:\n",
        "            stack.append(int(token))\n",
        "    return stack[-1]\n"
      ]
    },
    {
      "cell_type": "markdown",
      "metadata": {},
      "source": [
        "## Validation\n"
      ]
    },
    {
      "cell_type": "code",
      "metadata": {},
      "execution_count": null,
      "outputs": [],
      "source": [
        "cases = [\n",
        "    (['2', '1', '+', '3', '*'], 9),\n",
        "    (['4', '13', '5', '/', '+'], 6),\n",
        "    (['10', '6', '9', '3', '+', '-11', '*', '/', '*', '17', '+', '5', '+'], 22),\n",
        "    (['-4', '2', '/'], -2),\n",
        "]\n",
        "for tokens, expected in cases:\n",
        "    assert eval_rpn(tokens) == expected\n",
        "print('All tests passed for LC 150.')\n"
      ]
    },
    {
      "cell_type": "markdown",
      "metadata": {},
      "source": [
        "## Complexity Analysis\n",
        "- Time Complexity: O(n) because each token is processed once.\n",
        "- Space Complexity: O(n) for the operand stack in the worst case.\n",
        "- Bottleneck: None; operations are constant time.\n"
      ]
    },
    {
      "cell_type": "markdown",
      "metadata": {},
      "source": [
        "## Edge Cases & Pitfalls\n",
        "- Division must truncate toward zero, not floor.\n",
        "- Negative numbers are represented with leading `-` so `int(token)` works.\n",
        "- Expressions are guaranteed valid, but defensive code could assert stack size.\n"
      ]
    },
    {
      "cell_type": "markdown",
      "metadata": {},
      "source": [
        "## Follow-up Variants\n",
        "- Support power and modulus operators.\n",
        "- Evaluate expressions under overflow constraints (bounded integers).\n",
        "- Compile the RPN into an executable closure for repeated evaluation.\n"
      ]
    },
    {
      "cell_type": "markdown",
      "metadata": {},
      "source": [
        "## Takeaways\n",
        "- RPN evaluation is a direct stack push/pop loop.\n",
        "- Operator precedence is implicit, simplifying parsing.\n",
        "- Careful attention to operand order is crucial for non-commutative operators.\n"
      ]
    },
    {
      "cell_type": "markdown",
      "metadata": {},
      "source": [
        "## Similar Problems\n",
        "| Problem ID | Problem Title | Technique |\n",
        "| --- | --- | --- |\n",
        "| 224 | Basic Calculator | Stack for infix parsing |\n",
        "| 227 | Basic Calculator II | Stack for operator precedence |\n",
        "| 439 | Ternary Expression Parser | Stack-based evaluation |\n"
      ]
    }
  ],
  "metadata": {
    "kernelspec": {
      "display_name": "Python 3 (ipykernel)",
      "language": "python",
      "name": "python3"
    },
    "language_info": {
      "codemirror_mode": {
        "name": "ipython",
        "version": 3
      },
      "file_extension": ".py",
      "mimetype": "text/x-python",
      "name": "python",
      "nbconvert_exporter": "python",
      "pygments_lexer": "ipython3",
      "version": "3.13.3"
    }
  },
  "nbformat": 4,
  "nbformat_minor": 5
}