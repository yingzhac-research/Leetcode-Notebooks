{
  "cells": [
    {
      "cell_type": "markdown",
      "metadata": {},
      "source": [
        "# 636. Exclusive Time of Functions\n"
      ]
    },
    {
      "cell_type": "markdown",
      "metadata": {},
      "source": [
        "## Topic Alignment\n",
        "- **Role Relevance**: Mirrors measuring wall-clock time per task in distributed feature pipelines.\n",
        "- **Scenario**: Helps allocate CPU budgets across nested jobs by replaying execution logs.\n"
      ]
    },
    {
      "cell_type": "markdown",
      "metadata": {},
      "source": [
        "## Metadata Summary\n",
        "- Source: [LeetCode - Exclusive Time of Functions](https://leetcode.com/problems/exclusive-time-of-functions/)\n",
        "- Tags: `Stack`, `Simulation`\n",
        "- Difficulty: Medium\n",
        "- Recommended Priority: Medium\n"
      ]
    },
    {
      "cell_type": "markdown",
      "metadata": {},
      "source": [
        "## Problem Statement\n",
        "You are given `n` functions labeled from 0 to n-1. Each function has a start or end log entry in chronological order. Compute the exclusive time of each function, where exclusive time is the total time spent in the function minus time spent in child calls.\n",
        "\n",
        "Input: Integer `n` with `1 <= n <= 100`, and `logs` list where each entry is `function_id:start_or_end:timestamp`.\n",
        "Output: List of exclusive times for each function.\n",
        "Constraints: Timestamps are non-decreasing; each end corresponds to a matching start.\n"
      ]
    },
    {
      "cell_type": "markdown",
      "metadata": {},
      "source": [
        "## Progressive Hints\n",
        "- Hint 1: Use a stack to simulate the function call stack.\n",
        "- Hint 2: On each log, compute the elapsed time since the previous log and attribute it to the function currently on the stack.\n",
        "- Hint 3: Remember to add 1 when calculating end timestamps because logs are inclusive.\n"
      ]
    },
    {
      "cell_type": "markdown",
      "metadata": {},
      "source": [
        "## Solution Overview\n",
        "Process the logs sequentially, tracking the currently executing function with a stack. At each log entry compute the time difference from the previous timestamp, allocate it to the stack top, then update the stack according to start or end entries.\n"
      ]
    },
    {
      "cell_type": "markdown",
      "metadata": {},
      "source": [
        "## Detailed Explanation\n",
        "1. Initialize `times = [0] * n`, an empty stack, and `prev_time = 0`.\n",
        "2. For each log `f:status:timestamp`:\n",
        "   - Convert to integers and parse the status.\n",
        "   - Compute `delta = timestamp - prev_time`. Add `delta` to the function on top of the stack (if any).\n",
        "   - If status is `start`, push `f` and set `prev_time = timestamp`.\n",
        "   - If status is `end`, add 1 extra unit to the top function, pop it, and set `prev_time = timestamp + 1`.\n",
        "3. The resulting `times` array holds exclusive durations.\n"
      ]
    },
    {
      "cell_type": "markdown",
      "metadata": {},
      "source": [
        "## Complexity Trade-off Table\n",
        "| Approach | Time Complexity | Space Complexity | Notes |\n",
        "| --- | --- | --- | --- |\n",
        "| Stack simulation | O(m) | O(n) | m = number of logs. |\n",
        "| Recursion with call stack | O(m) | O(n) | Equivalent but harder to manage timestamps. |\n",
        "| Interval tree | O(m log m) | O(m) | Overkill given ordered logs.\n"
      ]
    },
    {
      "cell_type": "markdown",
      "metadata": {},
      "source": [
        "## Reference Implementation\n"
      ]
    },
    {
      "cell_type": "code",
      "metadata": {},
      "execution_count": null,
      "outputs": [],
      "source": [
        "from typing import List\n",
        "\n",
        "\n",
        "def exclusive_time(n: int, logs: List[str]) -> List[int]:\n",
        "    \"\"\"Compute exclusive execution time for each function.\"\"\"\n",
        "    times = [0] * n\n",
        "    stack: List[int] = []\n",
        "    prev_time = 0\n",
        "    for entry in logs:\n",
        "        fid_str, status, time_str = entry.split(':')\n",
        "        fid = int(fid_str)\n",
        "        timestamp = int(time_str)\n",
        "        if stack:\n",
        "            times[stack[-1]] += timestamp - prev_time\n",
        "        if status == 'start':\n",
        "            stack.append(fid)\n",
        "            prev_time = timestamp\n",
        "        else:\n",
        "            times[stack.pop()] += 1  # inclusive end\n",
        "            prev_time = timestamp + 1\n",
        "    return times\n"
      ]
    },
    {
      "cell_type": "markdown",
      "metadata": {},
      "source": [
        "## Validation\n"
      ]
    },
    {
      "cell_type": "code",
      "metadata": {},
      "execution_count": null,
      "outputs": [],
      "source": [
        "cases = [\n",
        "    (2, ['0:start:0','1:start:2','1:end:5','0:end:6'], [3,4]),\n",
        "    (1, ['0:start:0','0:end:0'], [1]),\n",
        "    (1, ['0:start:0','0:start:1','0:end:2','0:end:3'], [4]),\n",
        "]\n",
        "for n, logs, expected in cases:\n",
        "    assert exclusive_time(n, logs) == expected\n",
        "print('All tests passed for LC 636.')\n"
      ]
    },
    {
      "cell_type": "markdown",
      "metadata": {},
      "source": [
        "## Complexity Analysis\n",
        "- Time Complexity: O(m) where m is number of logs.\n",
        "- Space Complexity: O(n) for the call stack.\n",
        "- Bottleneck: String splits per log; can be optimized by parsing manually if needed.\n"
      ]
    },
    {
      "cell_type": "markdown",
      "metadata": {},
      "source": [
        "## Edge Cases & Pitfalls\n",
        "- Consecutive start logs imply nested calls; ensure parent accumulates only gaps.\n",
        "- Single function start/end on same timestamp should yield duration 1.\n",
        "- Ensure prev_time updates correctly after end events to avoid double counting.\n"
      ]
    },
    {
      "cell_type": "markdown",
      "metadata": {},
      "source": [
        "## Follow-up Variants\n",
        "- Handle logs that arrive slightly out of order by sorting beforehand.\n",
        "- Support asynchronous tasks that can overlap without strict nesting.\n",
        "- Track additional metrics such as number of invocations per function.\n"
      ]
    },
    {
      "cell_type": "markdown",
      "metadata": {},
      "source": [
        "## Takeaways\n",
        "- Stacks are natural for reconstructing nested execution contexts.\n",
        "- Tracking deltas between timestamps prevents double counting time.\n",
        "- Inclusive end timestamps require adding one extra unit when closing a frame.\n"
      ]
    },
    {
      "cell_type": "markdown",
      "metadata": {},
      "source": [
        "## Similar Problems\n",
        "| Problem ID | Problem Title | Technique |\n",
        "| --- | --- | --- |\n",
        "| 735 | Asteroid Collision | Stack simulation |\n",
        "| 856 | Score of Parentheses | Stack with aggregated values |\n",
        "| 224 | Basic Calculator | Stack for nested contexts |\n"
      ]
    }
  ],
  "metadata": {
    "kernelspec": {
      "display_name": "Python 3 (ipykernel)",
      "language": "python",
      "name": "python3"
    },
    "language_info": {
      "codemirror_mode": {
        "name": "ipython",
        "version": 3
      },
      "file_extension": ".py",
      "mimetype": "text/x-python",
      "name": "python",
      "nbconvert_exporter": "python",
      "pygments_lexer": "ipython3",
      "version": "3.13.3"
    }
  },
  "nbformat": 4,
  "nbformat_minor": 5
}