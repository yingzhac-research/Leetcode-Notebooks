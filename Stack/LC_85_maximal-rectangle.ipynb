{
  "cells": [
    {
      "cell_type": "markdown",
      "metadata": {},
      "source": [
        "# 85. Maximal Rectangle\n"
      ]
    },
    {
      "cell_type": "markdown",
      "metadata": {},
      "source": [
        "## Topic Alignment\n",
        "- **Role Relevance**: Measures largest all-positive block in binary feature heatmaps.\n",
        "- **Scenario**: Determines contiguous regions of success/failure in monitoring dashboards for root-cause exploration.\n"
      ]
    },
    {
      "cell_type": "markdown",
      "metadata": {},
      "source": [
        "## Metadata Summary\n",
        "- Source: [LeetCode - Maximal Rectangle](https://leetcode.com/problems/maximal-rectangle/)\n",
        "- Tags: `Stack`, `Dynamic Programming`, `Matrix`\n",
        "- Difficulty: Hard\n",
        "- Recommended Priority: High\n"
      ]
    },
    {
      "cell_type": "markdown",
      "metadata": {},
      "source": [
        "## Problem Statement\n",
        "Given a rows x cols binary matrix filled with 0s and 1s, find the largest rectangle containing only 1s and return its area.\n",
        "\n",
        "Input: Binary matrix with up to 200 rows and 200 columns.\n",
        "Output: Integer area of the largest rectangle of 1s.\n",
        "Constraints: Matrix entries are characters '0' or '1'.\n"
      ]
    },
    {
      "cell_type": "markdown",
      "metadata": {},
      "source": [
        "## Progressive Hints\n",
        "- Hint 1: Treat each row as the base of a histogram whose heights are consecutive 1s up to that row.\n",
        "- Hint 2: For each row, the largest rectangle reduces to LC 84 (largest histogram).\n",
        "- Hint 3: Reuse a monotonic stack helper per row to compute areas quickly.\n"
      ]
    },
    {
      "cell_type": "markdown",
      "metadata": {},
      "source": [
        "## Solution Overview\n",
        "Build histogram heights row by row: for each column, accumulate consecutive ones. Apply the histogram largest rectangle algorithm at every row and track the maximum area encountered.\n"
      ]
    },
    {
      "cell_type": "markdown",
      "metadata": {},
      "source": [
        "## Detailed Explanation\n",
        "1. Maintain an array `heights` initialized to 0 with length equal to number of columns.\n",
        "2. For each row, update `heights[c] = heights[c] + 1` if the cell is '1', otherwise reset to 0.\n",
        "3. Run a monotonic stack routine (same as LC 84) on `heights` to compute the maximal rectangle ending at the current row.\n",
        "4. Keep track of the overall maximum area across rows.\n"
      ]
    },
    {
      "cell_type": "markdown",
      "metadata": {},
      "source": [
        "## Complexity Trade-off Table\n",
        "| Approach | Time Complexity | Space Complexity | Notes |\n",
        "| --- | --- | --- | --- |\n",
        "| Histogram per row + stack | O(rows * cols) | O(cols) | Leverages LC 84 as subroutine. |\n",
        "| DP with left/right boundaries | O(rows * cols) | O(cols) | Equivalent but more variables. |\n",
        "| Brute force rectangles | O(rows^2 * cols) | O(1) | Too slow for 200x200.\n"
      ]
    },
    {
      "cell_type": "markdown",
      "metadata": {},
      "source": [
        "## Reference Implementation\n"
      ]
    },
    {
      "cell_type": "code",
      "metadata": {},
      "execution_count": null,
      "outputs": [],
      "source": [
        "from typing import List\n",
        "\n",
        "\n",
        "def maximal_rectangle(matrix: List[List[str]]) -> int:\n",
        "    \"\"\"Compute area of the largest rectangle of 1s using histogram stacking.\"\"\"\n",
        "    if not matrix or not matrix[0]:\n",
        "        return 0\n",
        "    cols = len(matrix[0])\n",
        "    heights = [0] * cols\n",
        "    best = 0\n",
        "    for row in matrix:\n",
        "        for c, value in enumerate(row):\n",
        "            heights[c] = heights[c] + 1 if value == '1' else 0\n",
        "        best = max(best, _largest_rectangle_in_histogram(heights))\n",
        "    return best\n",
        "\n",
        "\n",
        "def _largest_rectangle_in_histogram(heights: List[int]) -> int:\n",
        "    stack: List[int] = []\n",
        "    max_area = 0\n",
        "    extended = heights + [0]\n",
        "    for i, h in enumerate(extended):\n",
        "        while stack and h < extended[stack[-1]]:\n",
        "            height = extended[stack.pop()]\n",
        "            left = stack[-1] if stack else -1\n",
        "            width = i - left - 1\n",
        "            max_area = max(max_area, height * width)\n",
        "        stack.append(i)\n",
        "    return max_area\n"
      ]
    },
    {
      "cell_type": "markdown",
      "metadata": {},
      "source": [
        "## Validation\n"
      ]
    },
    {
      "cell_type": "code",
      "metadata": {},
      "execution_count": null,
      "outputs": [],
      "source": [
        "matrix_1 = [\n",
        "    ['1','0','1','0','0'],\n",
        "    ['1','0','1','1','1'],\n",
        "    ['1','1','1','1','1'],\n",
        "    ['1','0','0','1','0'],\n",
        "]\n",
        "matrix_2 = [\n",
        "    ['0'],\n",
        "    ['0'],\n",
        "]\n",
        "matrix_3 = [\n",
        "    ['1','1'],\n",
        "    ['1','1'],\n",
        "]\n",
        "assert maximal_rectangle(matrix_1) == 6\n",
        "assert maximal_rectangle(matrix_2) == 0\n",
        "assert maximal_rectangle(matrix_3) == 4\n",
        "print('All tests passed for LC 85.')\n"
      ]
    },
    {
      "cell_type": "markdown",
      "metadata": {},
      "source": [
        "## Complexity Analysis\n",
        "- Time Complexity: O(rows * cols) since each row triggers a linear histogram scan.\n",
        "- Space Complexity: O(cols) for the heights array and stack.\n",
        "- Bottleneck: The repeated histogram computation; ensure helper is efficient.\n"
      ]
    },
    {
      "cell_type": "markdown",
      "metadata": {},
      "source": [
        "## Edge Cases & Pitfalls\n",
        "- Empty matrix should return 0.\n",
        "- Rows of all zeros keep heights at zero and area remains zero.\n",
        "- Single column degenerates to consecutive ones counting.\n"
      ]
    },
    {
      "cell_type": "markdown",
      "metadata": {},
      "source": [
        "## Follow-up Variants\n",
        "- Return coordinates of the maximal rectangle instead of just area.\n",
        "- Handle streaming updates row by row by reusing the heights array.\n",
        "- Extend to weighted grids where each cell contributes a different value.\n"
      ]
    },
    {
      "cell_type": "markdown",
      "metadata": {},
      "source": [
        "## Takeaways\n",
        "- Transforming 2D binary grid problems to 1D histogram problems is a powerful pattern.\n",
        "- Reusing LC 84 as a helper avoids re-deriving complex logic.\n",
        "- Efficient reuse of intermediate state (heights) keeps complexity linear in matrix size.\n"
      ]
    },
    {
      "cell_type": "markdown",
      "metadata": {},
      "source": [
        "## Similar Problems\n",
        "| Problem ID | Problem Title | Technique |\n",
        "| --- | --- | --- |\n",
        "| 84 | Largest Rectangle in Histogram | Monotonic stack |\n",
        "| 221 | Maximal Square | DP on consecutive ones |\n",
        "| 363 | Max Sum of Rectangle No Larger Than K | Prefix sums + binary search |\n"
      ]
    }
  ],
  "metadata": {
    "kernelspec": {
      "display_name": "Python 3 (ipykernel)",
      "language": "python",
      "name": "python3"
    },
    "language_info": {
      "codemirror_mode": {
        "name": "ipython",
        "version": 3
      },
      "file_extension": ".py",
      "mimetype": "text/x-python",
      "name": "python",
      "nbconvert_exporter": "python",
      "pygments_lexer": "ipython3",
      "version": "3.13.3"
    }
  },
  "nbformat": 4,
  "nbformat_minor": 5
}