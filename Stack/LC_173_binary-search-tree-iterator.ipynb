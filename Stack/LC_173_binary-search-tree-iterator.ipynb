{
  "cells": [
    {
      "cell_type": "markdown",
      "metadata": {},
      "source": [
        "# 173. Binary Search Tree Iterator\n"
      ]
    },
    {
      "cell_type": "markdown",
      "metadata": {},
      "source": [
        "## Topic Alignment\n",
        "- **Role Relevance**: Provides lazy traversal over sorted feature dictionaries stored as BSTs.\n",
        "- **Scenario**: Enables streaming sorted data without materializing the entire list at once.\n"
      ]
    },
    {
      "cell_type": "markdown",
      "metadata": {},
      "source": [
        "## Metadata Summary\n",
        "- Source: [LeetCode - Binary Search Tree Iterator](https://leetcode.com/problems/binary-search-tree-iterator/)\n",
        "- Tags: `Stack`, `Tree`, `Design`\n",
        "- Difficulty: Medium\n",
        "- Recommended Priority: Medium\n"
      ]
    },
    {
      "cell_type": "markdown",
      "metadata": {},
      "source": [
        "## Problem Statement\n",
        "Implement the BSTIterator class that represents an iterator over the in-order traversal of a binary search tree (BST).\n",
        "It should support `next()` and `hasNext()` in average O(1) time using O(h) memory, where h is the tree height.\n",
        "\n",
        "Input: Root of a BST; sequence of iterator operations.\n",
        "Output: Values in ascending order as returned by `next()`.\n",
        "Constraints: Tree has up to 10^5 nodes; values fit in 32-bit signed integers.\n"
      ]
    },
    {
      "cell_type": "markdown",
      "metadata": {},
      "source": [
        "## Progressive Hints\n",
        "- Hint 1: In-order traversal visits nodes in ascending order for BSTs.\n",
        "- Hint 2: Maintain a stack representing the path to the next smallest node.\n",
        "- Hint 3: After returning a node, push all left children of its right subtree.\n"
      ]
    },
    {
      "cell_type": "markdown",
      "metadata": {},
      "source": [
        "## Solution Overview\n",
        "Use a stack to store the path to the current node. Initialize by pushing all left descendants from the root. On `next()`, pop the stack, return the node, and push left descendants of its right child. `hasNext()` checks if the stack is nonempty.\n"
      ]
    },
    {
      "cell_type": "markdown",
      "metadata": {},
      "source": [
        "## Detailed Explanation\n",
        "1. During initialization, call `push_left(root)` which pushes nodes while moving to the leftmost child.\n",
        "2. `next()` pops the top node, records its value, and calls `push_left(node.right)` to prepare the next value.\n",
        "3. `hasNext()` returns whether the stack still contains nodes.\n"
      ]
    },
    {
      "cell_type": "markdown",
      "metadata": {},
      "source": [
        "## Complexity Trade-off Table\n",
        "| Approach | Time Complexity | Space Complexity | Notes |\n",
        "| --- | --- | --- | --- |\n",
        "| Stack-based iterator | Amortized O(1) per call | O(h) | Optimal; matches recursive traversal lazily. |\n",
        "| Precompute full list | O(n) upfront | O(n) | Simple but uses more memory. |\n",
        "| Morris traversal | O(1) extra space | O(1) | Modifies tree structure; not desired for iterator.\n"
      ]
    },
    {
      "cell_type": "markdown",
      "metadata": {},
      "source": [
        "## Reference Implementation\n"
      ]
    },
    {
      "cell_type": "code",
      "metadata": {},
      "execution_count": null,
      "outputs": [],
      "source": [
        "from __future__ import annotations\n",
        "\n",
        "\n",
        "class TreeNode:\n",
        "    def __init__(self, val: int, left: 'TreeNode | None' = None, right: 'TreeNode | None' = None) -> None:\n",
        "        self.val = val\n",
        "        self.left = left\n",
        "        self.right = right\n",
        "\n",
        "\n",
        "class BSTIterator:\n",
        "    \"\"\"In-order iterator over a BST using an explicit stack.\"\"\"\n",
        "    def __init__(self, root: TreeNode | None) -> None:\n",
        "        self._stack: list[TreeNode] = []\n",
        "        self._push_left(root)\n",
        "\n",
        "    def next(self) -> int:\n",
        "        node = self._stack.pop()\n",
        "        if node.right:\n",
        "            self._push_left(node.right)\n",
        "        return node.val\n",
        "\n",
        "    def hasNext(self) -> bool:\n",
        "        return bool(self._stack)\n",
        "\n",
        "    def _push_left(self, node: TreeNode | None) -> None:\n",
        "        while node:\n",
        "            self._stack.append(node)\n",
        "            node = node.left\n"
      ]
    },
    {
      "cell_type": "markdown",
      "metadata": {},
      "source": [
        "## Validation\n"
      ]
    },
    {
      "cell_type": "code",
      "metadata": {},
      "execution_count": null,
      "outputs": [],
      "source": [
        "# Construct BST:     7\n",
        "#                  /   \\\n",
        "#                 3     15\n",
        "#                      /  \\\n",
        "#                     9    20\n",
        "root = TreeNode(7,\n",
        "                 left=TreeNode(3),\n",
        "                 right=TreeNode(15, TreeNode(9), TreeNode(20)))\n",
        "it = BSTIterator(root)\n",
        "output = []\n",
        "while it.hasNext():\n",
        "    output.append(it.next())\n",
        "assert output == [3,7,9,15,20]\n",
        "print('All tests passed for LC 173.')\n"
      ]
    },
    {
      "cell_type": "markdown",
      "metadata": {},
      "source": [
        "## Complexity Analysis\n",
        "- Time Complexity: Amortized O(1) per `next()` and `hasNext()`.\n",
        "- Space Complexity: O(h) where h is tree height.\n",
        "- Bottleneck: Recursion replaced by explicit stack to avoid call stack overflow.\n"
      ]
    },
    {
      "cell_type": "markdown",
      "metadata": {},
      "source": [
        "## Edge Cases & Pitfalls\n",
        "- Empty tree should make `hasNext()` false immediately.\n",
        "- Trees with only left children behave like regular stack sequence.\n",
        "- Ensure `next()` is called only when `hasNext()` is true (LeetCode guarantees).\n"
      ]
    },
    {
      "cell_type": "markdown",
      "metadata": {},
      "source": [
        "## Follow-up Variants\n",
        "- Add `peek()` without advancing the iterator.\n",
        "- Support reverse traversal by walking right branch first.\n",
        "- Implement iterators for general binary trees without BST ordering.\n"
      ]
    },
    {
      "cell_type": "markdown",
      "metadata": {},
      "source": [
        "## Takeaways\n",
        "- Explicit stacks let us lazily simulate recursion in iterators.\n",
        "- Pushing left descendants upfront ensures ascending order output.\n",
        "- This pattern generalizes to k-way merges by wrapping multiple iterators.\n"
      ]
    },
    {
      "cell_type": "markdown",
      "metadata": {},
      "source": [
        "## Similar Problems\n",
        "| Problem ID | Problem Title | Technique |\n",
        "| --- | --- | --- |\n",
        "| 94 | Binary Tree Inorder Traversal | Iterative stack traversal |\n",
        "| 230 | Kth Smallest Element in a BST | Partial inorder traversal |\n",
        "| 341 | Flatten Nested List Iterator | Stack-based iterator |\n"
      ]
    }
  ],
  "metadata": {
    "kernelspec": {
      "display_name": "Python 3 (ipykernel)",
      "language": "python",
      "name": "python3"
    },
    "language_info": {
      "codemirror_mode": {
        "name": "ipython",
        "version": 3
      },
      "file_extension": ".py",
      "mimetype": "text/x-python",
      "name": "python",
      "nbconvert_exporter": "python",
      "pygments_lexer": "ipython3",
      "version": "3.13.3"
    }
  },
  "nbformat": 4,
  "nbformat_minor": 5
}