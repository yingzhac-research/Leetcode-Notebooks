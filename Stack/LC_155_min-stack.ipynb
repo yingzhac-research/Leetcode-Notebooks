{
  "cells": [
    {
      "cell_type": "markdown",
      "metadata": {},
      "source": [
        "# 155. Min Stack\n"
      ]
    },
    {
      "cell_type": "markdown",
      "metadata": {},
      "source": [
        "## Topic Alignment\n",
        "- **Role Relevance**: Supports constant-time retrieval of best metrics during hyperparameter sweeps.\n",
        "- **Scenario**: Useful for maintaining rolling minima inside streaming analytics workers.\n"
      ]
    },
    {
      "cell_type": "markdown",
      "metadata": {},
      "source": [
        "## Metadata Summary\n",
        "- Source: [LeetCode - Min Stack](https://leetcode.com/problems/min-stack/)\n",
        "- Tags: `Stack`, `Design`\n",
        "- Difficulty: Medium\n",
        "- Recommended Priority: Medium\n"
      ]
    },
    {
      "cell_type": "markdown",
      "metadata": {},
      "source": [
        "## Problem Statement\n",
        "Design a stack that supports push, pop, top, and retrieving the minimum element in constant time. Implement the MinStack class with these methods.\n",
        "\n",
        "Input: Sequence of stack operations.\n",
        "Output: Behavior of the stack operations, especially `getMin`.\n",
        "Constraints: Use O(1) extra time per operation; values are within 32-bit range.\n"
      ]
    },
    {
      "cell_type": "markdown",
      "metadata": {},
      "source": [
        "## Progressive Hints\n",
        "- Hint 1: Store the minimum so far alongside each element to avoid scanning.\n",
        "- Hint 2: Use two stacks or store pairs `(value, current_min)` in a single stack.\n",
        "- Hint 3: Ensure `pop` and `getMin` remain O(1).\n"
      ]
    },
    {
      "cell_type": "markdown",
      "metadata": {},
      "source": [
        "## Solution Overview\n",
        "Use a single stack of tuples storing both the value and the minimum up to that point. Each push computes `min(value, current_min)`; pop returns to the previous pair.\n"
      ]
    },
    {
      "cell_type": "markdown",
      "metadata": {},
      "source": [
        "## Detailed Explanation\n",
        "1. Maintain an internal list `stack` where each entry is `(value, current_min)`.\n",
        "2. On push, compute the new minimum by comparing the value with the stack's last current_min.\n",
        "3. On pop, remove the last tuple.\n",
        "4. `top` returns the value from the last tuple; `getMin` returns the stored minimum.\n"
      ]
    },
    {
      "cell_type": "markdown",
      "metadata": {},
      "source": [
        "## Complexity Trade-off Table\n",
        "| Approach | Time Complexity | Space Complexity | Notes |\n",
        "| --- | --- | --- | --- |\n",
        "| Store pairs (value, min) | O(1) per op | O(n) | Simple and robust. |\n",
        "| Two separate stacks | O(1) per op | O(n) | Equivalent split approach. |\n",
        "| Track min with arithmetic encoding | O(1) per op | O(1) | Requires careful overflow handling.\n"
      ]
    },
    {
      "cell_type": "markdown",
      "metadata": {},
      "source": [
        "## Reference Implementation\n"
      ]
    },
    {
      "cell_type": "code",
      "metadata": {},
      "execution_count": null,
      "outputs": [],
      "source": [
        "class MinStack:\n",
        "    \"\"\"Stack supporting O(1) min retrieval via stored pairs.\"\"\"\n",
        "    def __init__(self) -> None:\n",
        "        self._stack: list[tuple[int, int]] = []\n",
        "\n",
        "    def push(self, val: int) -> None:\n",
        "        current_min = val if not self._stack else min(val, self._stack[-1][1])\n",
        "        self._stack.append((val, current_min))\n",
        "\n",
        "    def pop(self) -> None:\n",
        "        self._stack.pop()\n",
        "\n",
        "    def top(self) -> int:\n",
        "        return self._stack[-1][0]\n",
        "\n",
        "    def getMin(self) -> int:\n",
        "        return self._stack[-1][1]\n"
      ]
    },
    {
      "cell_type": "markdown",
      "metadata": {},
      "source": [
        "## Validation\n"
      ]
    },
    {
      "cell_type": "code",
      "metadata": {},
      "execution_count": null,
      "outputs": [],
      "source": [
        "ms = MinStack()\n",
        "ms.push(-2)\n",
        "ms.push(0)\n",
        "ms.push(-3)\n",
        "assert ms.getMin() == -3\n",
        "ms.pop()\n",
        "assert ms.top() == 0\n",
        "assert ms.getMin() == -2\n",
        "print('All tests passed for LC 155.')\n"
      ]
    },
    {
      "cell_type": "markdown",
      "metadata": {},
      "source": [
        "## Complexity Analysis\n",
        "- Time Complexity: O(1) per operation due to direct stack access.\n",
        "- Space Complexity: O(n) to store the stack of pairs.\n",
        "- Bottleneck: None; memory overhead doubles element storage.\n"
      ]
    },
    {
      "cell_type": "markdown",
      "metadata": {},
      "source": [
        "## Edge Cases & Pitfalls\n",
        "- Popping from an empty stack should be disallowed or raise error (LeetCode avoids invalid operations).\n",
        "- Duplicate minimum values must be tracked correctly across pops.\n",
        "- Negative numbers behave the same as positive.\n"
      ]
    },
    {
      "cell_type": "markdown",
      "metadata": {},
      "source": [
        "## Follow-up Variants\n",
        "- Support retrieving the maximum as well by storing both minima and maxima.\n",
        "- Implement persistent versions of the stack for time-travel operations.\n",
        "- Combine with queue operations to build a MinQueue.\n"
      ]
    },
    {
      "cell_type": "markdown",
      "metadata": {},
      "source": [
        "## Takeaways\n",
        "- Augmenting stack entries with metadata offers constant-time auxiliary queries.\n",
        "- Two-stack vs single-stack design is a trade-off between clarity and memory.\n",
        "- Patterns generalize to track sums, counts, or other aggregates.\n"
      ]
    },
    {
      "cell_type": "markdown",
      "metadata": {},
      "source": [
        "## Similar Problems\n",
        "| Problem ID | Problem Title | Technique |\n",
        "| --- | --- | --- |\n",
        "| 225 | Implement Stack using Queues | Data structure design |\n",
        "| 716 | Max Stack | Dual stack design |\n",
        "| 155 | Min Stack | Stored minima |\n"
      ]
    }
  ],
  "metadata": {
    "kernelspec": {
      "display_name": "Python 3 (ipykernel)",
      "language": "python",
      "name": "python3"
    },
    "language_info": {
      "codemirror_mode": {
        "name": "ipython",
        "version": 3
      },
      "file_extension": ".py",
      "mimetype": "text/x-python",
      "name": "python",
      "nbconvert_exporter": "python",
      "pygments_lexer": "ipython3",
      "version": "3.13.3"
    }
  },
  "nbformat": 4,
  "nbformat_minor": 5
}