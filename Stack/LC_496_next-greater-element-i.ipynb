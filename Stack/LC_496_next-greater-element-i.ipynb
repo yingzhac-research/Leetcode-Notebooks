{
  "cells": [
    {
      "cell_type": "markdown",
      "metadata": {},
      "source": [
        "# 496. Next Greater Element I\n"
      ]
    },
    {
      "cell_type": "markdown",
      "metadata": {},
      "source": [
        "## Topic Alignment\n",
        "- **Role Relevance**: Identifies the next time a metric surpasses a threshold in monitoring dashboards.\n",
        "- **Scenario**: Serves as a building block for real-time alerting when new events exceed a prior measurement.\n"
      ]
    },
    {
      "cell_type": "markdown",
      "metadata": {},
      "source": [
        "## Metadata Summary\n",
        "- Source: [LeetCode - Next Greater Element I](https://leetcode.com/problems/next-greater-element-i/)\n",
        "- Tags: `Stack`, `Monotonic Stack`\n",
        "- Difficulty: Easy\n",
        "- Recommended Priority: Medium\n"
      ]
    },
    {
      "cell_type": "markdown",
      "metadata": {},
      "source": [
        "## Problem Statement\n",
        "The Next Greater Element of some element `x` in an array is the first greater element to its right.\n",
        "Given two arrays `nums1` and `nums2` where `nums1` is a subset of `nums2`, find the next greater element for each element in `nums1` according to `nums2`. If it does not exist, return -1.\n",
        "\n",
        "Input: Arrays `nums1`, `nums2` with length up to 1000.\n",
        "Output: List of integers representing next greater elements for each `nums1` value.\n",
        "Constraints: All elements in `nums1` and `nums2` are unique; `nums1` is a subset of `nums2`.\n"
      ]
    },
    {
      "cell_type": "markdown",
      "metadata": {},
      "source": [
        "## Progressive Hints\n",
        "- Hint 1: Brute force by scanning to the right for each element is O(n^2).\n",
        "- Hint 2: A monotonically decreasing stack can precompute next greater elements in linear time.\n",
        "- Hint 3: Map elements to their next greater values, then answer queries for `nums1`.\n"
      ]
    },
    {
      "cell_type": "markdown",
      "metadata": {},
      "source": [
        "## Solution Overview\n",
        "Process `nums2` from left to right while maintaining a decreasing stack of numbers whose next greater element is not yet known. When a new number is larger than the stack top, pop the stack and record the mapping. Use the resulting dictionary to answer `nums1` queries.\n"
      ]
    },
    {
      "cell_type": "markdown",
      "metadata": {},
      "source": [
        "## Detailed Explanation\n",
        "1. Initialize an empty stack and dictionary `next_greater`.\n",
        "2. Iterate over `nums2`: while the stack is not empty and the current value is greater than the stack top, pop the top and map it to the current value. Then push the current value.\n",
        "3. After processing, remaining elements have no greater element; map them to -1.\n",
        "4. For each value in `nums1`, append `next_greater[value]` to the answer list.\n"
      ]
    },
    {
      "cell_type": "markdown",
      "metadata": {},
      "source": [
        "## Complexity Trade-off Table\n",
        "| Approach | Time Complexity | Space Complexity | Notes |\n",
        "| --- | --- | --- | --- |\n",
        "| Monotonic stack | O(n) | O(n) | Precomputes all next greater values efficiently. |\n",
        "| Nested loops | O(n^2) | O(1) | Simple but too slow for 1000 elements. |\n",
        "| Segment tree | O(n log n) | O(n) | Overkill for the problem size.\n"
      ]
    },
    {
      "cell_type": "markdown",
      "metadata": {},
      "source": [
        "## Reference Implementation\n"
      ]
    },
    {
      "cell_type": "code",
      "metadata": {},
      "execution_count": null,
      "outputs": [],
      "source": [
        "from typing import List\n",
        "\n",
        "\n",
        "def next_greater_element(nums1: List[int], nums2: List[int]) -> List[int]:\n",
        "    \"\"\"Return the next greater element for each value in nums1 based on nums2.\"\"\"\n",
        "    next_greater = {}\n",
        "    stack: List[int] = []\n",
        "    for value in nums2:\n",
        "        while stack and value > stack[-1]:\n",
        "            next_greater[stack.pop()] = value\n",
        "        stack.append(value)\n",
        "    while stack:\n",
        "        next_greater[stack.pop()] = -1\n",
        "    return [next_greater[num] for num in nums1]\n"
      ]
    },
    {
      "cell_type": "markdown",
      "metadata": {},
      "source": [
        "## Validation\n"
      ]
    },
    {
      "cell_type": "code",
      "metadata": {},
      "execution_count": null,
      "outputs": [],
      "source": [
        "cases = [\n",
        "    ([4,1,2], [1,3,4,2], [-1,3,-1]),\n",
        "    ([2,4], [1,2,3,4], [3,-1]),\n",
        "    ([2], [2,1], [-1]),\n",
        "]\n",
        "for nums1, nums2, expected in cases:\n",
        "    assert next_greater_element(nums1, nums2) == expected\n",
        "print('All tests passed for LC 496.')\n"
      ]
    },
    {
      "cell_type": "markdown",
      "metadata": {},
      "source": [
        "## Complexity Analysis\n",
        "- Time Complexity: O(n) where n is len(nums2); each element is pushed and popped at most once.\n",
        "- Space Complexity: O(n) for the stack and the mapping.\n",
        "- Bottleneck: No significant bottlenecks beyond dictionary lookups.\n"
      ]
    },
    {
      "cell_type": "markdown",
      "metadata": {},
      "source": [
        "## Edge Cases & Pitfalls\n",
        "- Ensure elements with no greater value map to -1.\n",
        "- Works with negative numbers too since comparisons are ordering-based.\n",
        "- Unique element constraint simplifies mapping; duplicates would require storing indices.\n"
      ]
    },
    {
      "cell_type": "markdown",
      "metadata": {},
      "source": [
        "## Follow-up Variants\n",
        "- Extend to handle duplicate values by storing indices instead of numbers.\n",
        "- Support streaming updates to nums2, maintaining next greater results on the fly.\n",
        "- Solve circular arrays (see LC 503).\n"
      ]
    },
    {
      "cell_type": "markdown",
      "metadata": {},
      "source": [
        "## Takeaways\n",
        "- Monotonic stacks yield next greater or next smaller values in linear time.\n",
        "- Mapping results enables constant time queries for subsets.\n",
        "- Works seamlessly with other metrics like temperatures or stock prices.\n"
      ]
    },
    {
      "cell_type": "markdown",
      "metadata": {},
      "source": [
        "## Similar Problems\n",
        "| Problem ID | Problem Title | Technique |\n",
        "| --- | --- | --- |\n",
        "| 503 | Next Greater Element II | Circular monotonic stack |\n",
        "| 739 | Daily Temperatures | Monotonic stack with indices |\n",
        "| 901 | Online Stock Span | Stack storing spans |\n"
      ]
    }
  ],
  "metadata": {
    "kernelspec": {
      "display_name": "Python 3 (ipykernel)",
      "language": "python",
      "name": "python3"
    },
    "language_info": {
      "codemirror_mode": {
        "name": "ipython",
        "version": 3
      },
      "file_extension": ".py",
      "mimetype": "text/x-python",
      "name": "python",
      "nbconvert_exporter": "python",
      "pygments_lexer": "ipython3",
      "version": "3.13.3"
    }
  },
  "nbformat": 4,
  "nbformat_minor": 5
}