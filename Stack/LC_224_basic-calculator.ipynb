{
  "cells": [
    {
      "cell_type": "markdown",
      "metadata": {},
      "source": [
        "# 224. Basic Calculator\n"
      ]
    },
    {
      "cell_type": "markdown",
      "metadata": {},
      "source": [
        "## Topic Alignment\n",
        "- **Role Relevance**: Parses lightweight infix expressions used in configuration knobs or gating logic.\n",
        "- **Scenario**: Enables evaluating expressions like `(metric_a - metric_b)` safely without resorting to `eval`.\n"
      ]
    },
    {
      "cell_type": "markdown",
      "metadata": {},
      "source": [
        "## Metadata Summary\n",
        "- Source: [LeetCode - Basic Calculator](https://leetcode.com/problems/basic-calculator/)\n",
        "- Tags: `Stack`, `Math`, `Parsing`\n",
        "- Difficulty: Hard\n",
        "- Recommended Priority: High\n"
      ]
    },
    {
      "cell_type": "markdown",
      "metadata": {},
      "source": [
        "## Problem Statement\n",
        "Given a string `s` representing a valid expression, implement a basic calculator to evaluate it and return the result.\n",
        "The expression can contain `+`, `-`, parentheses, and non-negative integers, along with spaces.\n",
        "\n",
        "Input: String `s` with length up to 10^5.\n",
        "Output: Integer value after evaluation.\n",
        "Constraints: No multiplication or division; parentheses are properly matched.\n"
      ]
    },
    {
      "cell_type": "markdown",
      "metadata": {},
      "source": [
        "## Progressive Hints\n",
        "- Hint 1: Ignore whitespace; only numbers and operators matter.\n",
        "- Hint 2: Keep track of the current sign; parentheses invert sign contexts.\n",
        "- Hint 3: Use a stack to save the result and sign before entering a parenthesis.\n"
      ]
    },
    {
      "cell_type": "markdown",
      "metadata": {},
      "source": [
        "## Solution Overview\n",
        "Scan the expression while maintaining a running result and current sign. When encountering `(`, push the current result and sign, then reset them. When `)` is met, combine the current result with the top of the stack. Numbers are accumulated digit by digit.\n"
      ]
    },
    {
      "cell_type": "markdown",
      "metadata": {},
      "source": [
        "## Detailed Explanation\n",
        "1. Initialize `result = 0`, `number = 0`, `sign = 1`, and an empty stack.\n",
        "2. Iterate through the characters:\n",
        "   - If digit, update `number = number * 10 + int(ch)`.\n",
        "   - If `+` or `-`, add `sign * number` to `result`, reset `number = 0`, and update `sign`.\n",
        "   - If `(`, push the current `result` and `sign` onto the stack, then reset `result = 0` and `sign = 1`.\n",
        "   - If `)`, add the pending `sign * number` to `result`, reset `number = 0`, then pop `sign` and `prev` result from the stack and set `result = prev + sign * result`.\n",
        "3. After the loop, add any remaining `sign * number` to `result`.\n"
      ]
    },
    {
      "cell_type": "markdown",
      "metadata": {},
      "source": [
        "## Complexity Trade-off Table\n",
        "| Approach | Time Complexity | Space Complexity | Notes |\n",
        "| --- | --- | --- | --- |\n",
        "| Stack of (result, sign) | O(n) | O(n) | Handles nested parentheses with linear scan. |\n",
        "| Recursive descent | O(n) | O(depth) | Equivalent but uses recursion. |\n",
        "| Convert to postfix | O(n) | O(n) | Additional conversion step; more code.\n"
      ]
    },
    {
      "cell_type": "markdown",
      "metadata": {},
      "source": [
        "## Reference Implementation\n"
      ]
    },
    {
      "cell_type": "code",
      "metadata": {},
      "execution_count": null,
      "outputs": [],
      "source": [
        "def calculate(s: str) -> int:\n",
        "    \"\"\"Evaluate an expression with +, -, and parentheses.\"\"\"\n",
        "    result = 0\n",
        "    number = 0\n",
        "    sign = 1\n",
        "    stack = []\n",
        "    for ch in s:\n",
        "        if ch.isdigit():\n",
        "            number = number * 10 + int(ch)\n",
        "        elif ch in '+-':\n",
        "            result += sign * number\n",
        "            number = 0\n",
        "            sign = 1 if ch == '+' else -1\n",
        "        elif ch == '(':\n",
        "            stack.append((result, sign))\n",
        "            result = 0\n",
        "            sign = 1\n",
        "        elif ch == ')':\n",
        "            result += sign * number\n",
        "            number = 0\n",
        "            prev_result, prev_sign = stack.pop()\n",
        "            result = prev_result + prev_sign * result\n",
        "    result += sign * number\n",
        "    return result\n"
      ]
    },
    {
      "cell_type": "markdown",
      "metadata": {},
      "source": [
        "## Validation\n"
      ]
    },
    {
      "cell_type": "code",
      "metadata": {},
      "execution_count": null,
      "outputs": [],
      "source": [
        "cases = [\n",
        "    ('1 + 1', 2),\n",
        "    (' 2-1 + 2 ', 3),\n",
        "    ('(1+(4+5+2)-3)+(6+8)', 23),\n",
        "    ('-(2-3)', 1),\n",
        "]\n",
        "for expr, expected in cases:\n",
        "    assert calculate(expr) == expected\n",
        "print('All tests passed for LC 224.')\n"
      ]
    },
    {
      "cell_type": "markdown",
      "metadata": {},
      "source": [
        "## Complexity Analysis\n",
        "- Time Complexity: O(n) because each character is processed once.\n",
        "- Space Complexity: O(n) for the stack in the worst case of nested parentheses.\n",
        "- Bottleneck: Handling very long inputs but work remains linear.\n"
      ]
    },
    {
      "cell_type": "markdown",
      "metadata": {},
      "source": [
        "## Edge Cases & Pitfalls\n",
        "- Leading unary minus requires treating default sign as positive before parentheses.\n",
        "- Ignore spaces entirely to avoid misparsing.\n",
        "- Leaving `number` unflushed at the end would lose the last operand.\n"
      ]
    },
    {
      "cell_type": "markdown",
      "metadata": {},
      "source": [
        "## Follow-up Variants\n",
        "- Support multiplication and division with operator precedence.\n",
        "- Add variables by looking them up from a dictionary before evaluation.\n",
        "- Produce an abstract syntax tree instead of evaluating immediately.\n"
      ]
    },
    {
      "cell_type": "markdown",
      "metadata": {},
      "source": [
        "## Takeaways\n",
        "- Stacks can store both accumulated results and sign context.\n",
        "- Flushing numbers at the right times prevents off-by-one errors.\n",
        "- This template extends naturally to more operators with precedence.\n"
      ]
    },
    {
      "cell_type": "markdown",
      "metadata": {},
      "source": [
        "## Similar Problems\n",
        "| Problem ID | Problem Title | Technique |\n",
        "| --- | --- | --- |\n",
        "| 227 | Basic Calculator II | Stack for precedence |\n",
        "| 772 | Basic Calculator III | Shunting-yard or stack of stacks |\n",
        "| 150 | Evaluate Reverse Polish Notation | Stack evaluation |\n"
      ]
    }
  ],
  "metadata": {
    "kernelspec": {
      "display_name": "Python 3 (ipykernel)",
      "language": "python",
      "name": "python3"
    },
    "language_info": {
      "codemirror_mode": {
        "name": "ipython",
        "version": 3
      },
      "file_extension": ".py",
      "mimetype": "text/x-python",
      "name": "python",
      "nbconvert_exporter": "python",
      "pygments_lexer": "ipython3",
      "version": "3.13.3"
    }
  },
  "nbformat": 4,
  "nbformat_minor": 5
}