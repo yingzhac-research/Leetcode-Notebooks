{
  "cells": [
    {
      "cell_type": "markdown",
      "metadata": {},
      "source": [
        "# 394. Decode String\n"
      ]
    },
    {
      "cell_type": "markdown",
      "metadata": {},
      "source": [
        "## Topic Alignment\n",
        "- **Role Relevance**: Decodes templated feature expressions with repetition counts in model configuration files.\n",
        "- **Scenario**: Mimics expanding macro blocks like `3[feature]` when orchestrating data pipelines.\n"
      ]
    },
    {
      "cell_type": "markdown",
      "metadata": {},
      "source": [
        "## Metadata Summary\n",
        "- Source: [LeetCode - Decode String](https://leetcode.com/problems/decode-string/)\n",
        "- Tags: `Stack`, `String`\n",
        "- Difficulty: Medium\n",
        "- Recommended Priority: High\n"
      ]
    },
    {
      "cell_type": "markdown",
      "metadata": {},
      "source": [
        "## Problem Statement\n",
        "Given an encoded string `s`, return its decoded form. The encoding rule is: `k[encoded_string]`, where the `encoded_string` inside square brackets is repeated exactly `k` times. Nested encodings are allowed.\n",
        "\n",
        "Input: String `s` of length up to 30 with digits, letters, and brackets.\n",
        "Output: Decoded string.\n",
        "Constraints: `1 <= len(s) <= 30`; `1 <= k <= 300`; input is guaranteed to be valid.\n"
      ]
    },
    {
      "cell_type": "markdown",
      "metadata": {},
      "source": [
        "## Progressive Hints\n",
        "- Hint 1: A naive recursive approach works but you must manage indices carefully.\n",
        "- Hint 2: Each time you encounter `[`, you need to remember the preceding repeat count and the string built so far.\n",
        "- Hint 3: Use two stacks (or a stack of tuples) to push the current string and repeat count before descending into the bracketed section.\n"
      ]
    },
    {
      "cell_type": "markdown",
      "metadata": {},
      "source": [
        "## Solution Overview\n",
        "Use a stack to store `(previous_string, repeat_count)` pairs. Iterate characters: build numbers for counts, push state when encountering `[`, and on `]` pop the last pair and append the repeated substring. Letters extend the current working string.\n"
      ]
    },
    {
      "cell_type": "markdown",
      "metadata": {},
      "source": [
        "## Detailed Explanation\n",
        "1. Maintain `current` as the string built for the innermost level and `repeat` as the current multiplier (as an integer).\n",
        "2. When encountering digits, update `repeat = repeat * 10 + int(ch)`.\n",
        "3. On `[`, push `(current, repeat)` to the stack, then reset `current` to an empty string and `repeat` to 0.\n",
        "4. On `]`, pop `(prev, count)` and set `current = prev + current * count`.\n",
        "5. For alphabetic characters, append them directly to `current`.\n",
        "6. After processing the string, `current` holds the decoded result.\n"
      ]
    },
    {
      "cell_type": "markdown",
      "metadata": {},
      "source": [
        "## Complexity Trade-off Table\n",
        "| Approach | Time Complexity | Space Complexity | Notes |\n",
        "| --- | --- | --- | --- |\n",
        "| Stack with current string | O(n * k_max) | O(n) | Handles nesting cleanly; builds strings iteratively. |\n",
        "| Recursive descent | O(n * k_max) | O(depth) | Similar logic but relies on call stack. |\n",
        "| Regex substitution | Hard to guarantee correctness | High | Fails for nested encodings.\n"
      ]
    },
    {
      "cell_type": "markdown",
      "metadata": {},
      "source": [
        "## Reference Implementation\n"
      ]
    },
    {
      "cell_type": "code",
      "metadata": {},
      "execution_count": null,
      "outputs": [],
      "source": [
        "from typing import List, Tuple\n",
        "\n",
        "\n",
        "def decode_string(s: str) -> str:\n",
        "    \"\"\"Decode the encoded string using a stack of partial results.\"\"\"\n",
        "    stack: List[Tuple[str, int]] = []\n",
        "    current = ''\n",
        "    repeat = 0\n",
        "    for ch in s:\n",
        "        if ch.isdigit():\n",
        "            repeat = repeat * 10 + int(ch)\n",
        "        elif ch == '[':\n",
        "            stack.append((current, repeat))\n",
        "            current = ''\n",
        "            repeat = 0\n",
        "        elif ch == ']':\n",
        "            prev, count = stack.pop()\n",
        "            current = prev + current * count\n",
        "        else:\n",
        "            current += ch\n",
        "    return current\n"
      ]
    },
    {
      "cell_type": "markdown",
      "metadata": {},
      "source": [
        "## Validation\n"
      ]
    },
    {
      "cell_type": "code",
      "metadata": {},
      "execution_count": null,
      "outputs": [],
      "source": [
        "cases = [\n",
        "    ('3[a]2[bc]', 'aaabcbc'),\n",
        "    ('3[a2[c]]', 'accaccacc'),\n",
        "    ('2[abc]3[cd]ef', 'abcabccdcdcdef'),\n",
        "    ('10[a]', 'aaaaaaaaaa'),\n",
        "]\n",
        "for s, expected in cases:\n",
        "    assert decode_string(s) == expected\n",
        "print('All tests passed for LC 394.')\n"
      ]
    },
    {
      "cell_type": "markdown",
      "metadata": {},
      "source": [
        "## Complexity Analysis\n",
        "- Time Complexity: O(n * k_max) because each encoded block expands at most k_max times.\n",
        "- Space Complexity: O(n + output_length) for the stack frames and the accumulated result.\n",
        "- Bottleneck: Potentially large outputs when multipliers are big.\n"
      ]
    },
    {
      "cell_type": "markdown",
      "metadata": {},
      "source": [
        "## Edge Cases & Pitfalls\n",
        "- Handle multi-digit repeat counts such as `12[ab]`.\n",
        "- Nested brackets must restore both the prefix and multiplier in the right order.\n",
        "- Do not forget to reset `repeat` after pushing a frame; otherwise counts bleed across brackets.\n"
      ]
    },
    {
      "cell_type": "markdown",
      "metadata": {},
      "source": [
        "## Follow-up Variants\n",
        "- Stream decoding without keeping the entire result in memory at once.\n",
        "- Support escape characters for literal brackets.\n",
        "- Add constraints to limit output length and abort if exceeded.\n"
      ]
    },
    {
      "cell_type": "markdown",
      "metadata": {},
      "source": [
        "## Takeaways\n",
        "- Storing both the string prefix and repeat count is essential for nested structures.\n",
        "- Resetting local state after pushing avoids cross-frame leakage.\n",
        "- The solution mirrors manual unwinding of nested macros or templates.\n"
      ]
    },
    {
      "cell_type": "markdown",
      "metadata": {},
      "source": [
        "## Similar Problems\n",
        "| Problem ID | Problem Title | Technique |\n",
        "| --- | --- | --- |\n",
        "| 71 | Simplify Path | Stack for context restoration |\n",
        "| 880 | Decoded String at Index | Stack plus indexing |\n",
        "| 150 | Evaluate Reverse Polish Notation | Stack-based expression evaluation |\n"
      ]
    }
  ],
  "metadata": {
    "kernelspec": {
      "display_name": "Python 3 (ipykernel)",
      "language": "python",
      "name": "python3"
    },
    "language_info": {
      "codemirror_mode": {
        "name": "ipython",
        "version": 3
      },
      "file_extension": ".py",
      "mimetype": "text/x-python",
      "name": "python",
      "nbconvert_exporter": "python",
      "pygments_lexer": "ipython3",
      "version": "3.13.3"
    }
  },
  "nbformat": 4,
  "nbformat_minor": 5
}