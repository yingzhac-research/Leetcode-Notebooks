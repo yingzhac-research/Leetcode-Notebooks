{
  "cells": [
    {
      "cell_type": "markdown",
      "metadata": {},
      "source": [
        "# 42. Trapping Rain Water\n"
      ]
    },
    {
      "cell_type": "markdown",
      "metadata": {},
      "source": [
        "## Topic Alignment\n",
        "- **Role Relevance**: Models capacity between data pipeline backlogs when successive stages run at different speeds.\n",
        "- **Scenario**: Useful for reasoning about buffer usage or accumulator saturation under varying throughput.\n"
      ]
    },
    {
      "cell_type": "markdown",
      "metadata": {},
      "source": [
        "## Metadata Summary\n",
        "- Source: [LeetCode - Trapping Rain Water](https://leetcode.com/problems/trapping-rain-water/)\n",
        "- Tags: `Stack`, `Two Pointers`, `Array`\n",
        "- Difficulty: Hard\n",
        "- Recommended Priority: High\n"
      ]
    },
    {
      "cell_type": "markdown",
      "metadata": {},
      "source": [
        "## Problem Statement\n",
        "Given `n` non-negative integers representing an elevation map where the width of each bar is 1, compute how much water it can trap after raining.\n",
        "\n",
        "Input: Array `height` with length up to 10^5.\n",
        "Output: Integer volume of trapped water.\n",
        "Constraints: Heights are non-negative; the answer fits in 32-bit signed integer.\n"
      ]
    },
    {
      "cell_type": "markdown",
      "metadata": {},
      "source": [
        "## Progressive Hints\n",
        "- Hint 1: Water trapped above a bar depends on the min of the highest bar to its left and right.\n",
        "- Hint 2: Instead of computing left/right maxima for every bar separately, use a stack to identify bounded regions.\n",
        "- Hint 3: Pop bars until you find the left boundary and accumulate water based on distance and height difference.\n"
      ]
    },
    {
      "cell_type": "markdown",
      "metadata": {},
      "source": [
        "## Solution Overview\n",
        "Use a monotonic decreasing stack of indices. When a bar higher than the stack top is encountered, pop the top as the bottom of a container. The new stack top represents the left boundary, and the current bar is the right boundary. Compute trapped water as width times bounded height.\n"
      ]
    },
    {
      "cell_type": "markdown",
      "metadata": {},
      "source": [
        "## Detailed Explanation\n",
        "1. Initialize `water = 0` and an empty stack of indices.\n",
        "2. Iterate over each index `i` and height `h`:\n",
        "   - While stack is not empty and `h > height[stack[-1]]`, pop `bottom` from the stack.\n",
        "   - If the stack becomes empty, break because there is no left boundary.\n",
        "   - Otherwise, let `left = stack[-1]`. The width is `i - left - 1`, and the bounded height is `min(height[left], h) - height[bottom]`. Add their product to `water`.\n",
        "   - Push `i` onto the stack.\n",
        "3. After processing all bars, `water` holds the total trapped volume.\n"
      ]
    },
    {
      "cell_type": "markdown",
      "metadata": {},
      "source": [
        "## Complexity Trade-off Table\n",
        "| Approach | Time Complexity | Space Complexity | Notes |\n",
        "| --- | --- | --- | --- |\n",
        "| Monotonic stack | O(n) | O(n) | Captures boundaries dynamically. |\n",
        "| Two-pointer with prefix maxima | O(n) | O(1) | Alternative linear solution. |\n",
        "| Dynamic programming left/right arrays | O(n) | O(n) | Precomputes maxima explicitly.\n"
      ]
    },
    {
      "cell_type": "markdown",
      "metadata": {},
      "source": [
        "## Reference Implementation\n"
      ]
    },
    {
      "cell_type": "code",
      "metadata": {},
      "execution_count": null,
      "outputs": [],
      "source": [
        "from typing import List\n",
        "\n",
        "\n",
        "def trap(height: List[int]) -> int:\n",
        "    \"\"\"Compute trapped rain water using a monotonic stack.\"\"\"\n",
        "    stack: List[int] = []\n",
        "    water = 0\n",
        "    for i, h in enumerate(height):\n",
        "        while stack and h > height[stack[-1]]:\n",
        "            bottom = stack.pop()\n",
        "            if not stack:\n",
        "                break  # No left boundary to form a container.\n",
        "            left = stack[-1]\n",
        "            width = i - left - 1\n",
        "            bounded_height = min(height[left], h) - height[bottom]\n",
        "            water += width * bounded_height\n",
        "        stack.append(i)\n",
        "    return water\n"
      ]
    },
    {
      "cell_type": "markdown",
      "metadata": {},
      "source": [
        "## Validation\n"
      ]
    },
    {
      "cell_type": "code",
      "metadata": {},
      "execution_count": null,
      "outputs": [],
      "source": [
        "cases = [\n",
        "    ([0,1,0,2,1,0,1,3,2,1,2,1], 6),\n",
        "    ([4,2,0,3,2,5], 9),\n",
        "    ([1,0,1], 1),\n",
        "    ([2,0,2], 2),\n",
        "]\n",
        "for heights, expected in cases:\n",
        "    assert trap(heights) == expected\n",
        "print('All tests passed for LC 42.')\n"
      ]
    },
    {
      "cell_type": "markdown",
      "metadata": {},
      "source": [
        "## Complexity Analysis\n",
        "- Time Complexity: O(n) as each index is pushed and popped at most once.\n",
        "- Space Complexity: O(n) for the stack in the worst case of increasing heights.\n",
        "- Bottleneck: Large inputs require careful overflow handling, but Python ints are unbounded.\n"
      ]
    },
    {
      "cell_type": "markdown",
      "metadata": {},
      "source": [
        "## Edge Cases & Pitfalls\n",
        "- Flat or strictly monotonic height arrays trap zero water.\n",
        "- Empty arrays should return zero without errors.\n",
        "- Heights with large plateaus still work because width is computed via index differences.\n"
      ]
    },
    {
      "cell_type": "markdown",
      "metadata": {},
      "source": [
        "## Follow-up Variants\n",
        "- Return the indices of each trapping container for visualization.\n",
        "- Adapt to variable bar widths rather than unit width.\n",
        "- Support streaming updates by maintaining left/right maxima cumulatively.\n"
      ]
    },
    {
      "cell_type": "markdown",
      "metadata": {},
      "source": [
        "## Takeaways\n",
        "- Monotonic stacks help identify nearest higher boundaries from both sides.\n",
        "- The bounded area is determined by min(left, right) minus bottom.\n",
        "- Equivalent two-pointer approach exists; pick the one that is easier to reason about.\n"
      ]
    },
    {
      "cell_type": "markdown",
      "metadata": {},
      "source": [
        "## Similar Problems\n",
        "| Problem ID | Problem Title | Technique |\n",
        "| --- | --- | --- |\n",
        "| 84 | Largest Rectangle in Histogram | Monotonic stack for areas |\n",
        "| 85 | Maximal Rectangle | Histogram per row + stack |\n",
        "| 407 | Trapping Rain Water II | Priority queue or BFS |\n"
      ]
    }
  ],
  "metadata": {
    "kernelspec": {
      "display_name": "Python 3 (ipykernel)",
      "language": "python",
      "name": "python3"
    },
    "language_info": {
      "codemirror_mode": {
        "name": "ipython",
        "version": 3
      },
      "file_extension": ".py",
      "mimetype": "text/x-python",
      "name": "python",
      "nbconvert_exporter": "python",
      "pygments_lexer": "ipython3",
      "version": "3.13.3"
    }
  },
  "nbformat": 4,
  "nbformat_minor": 5
}