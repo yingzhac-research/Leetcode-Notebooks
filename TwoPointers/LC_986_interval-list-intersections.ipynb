{
 "cells": [
  {
   "cell_type": "markdown",
   "metadata": {},
   "source": "# 986. Interval List Intersections\n"
  },
  {
   "cell_type": "markdown",
   "metadata": {},
   "source": "## Topic Alignment\n- Applies two-pointer or sliding window reasoning to interval list intersections, mirroring optimization of streaming features in production ML pipelines.\n- Reinforces how to maintain minimal state while scanning large sequences once.\n"
  },
  {
   "cell_type": "markdown",
   "metadata": {},
   "source": "## Metadata Summary\n- **Source**: [LeetCode](https://leetcode.com/problems/interval-list-intersections/)\n- **Tags**: Two Pointers, Interval\n- **Difficulty**: Medium\n- **Priority**: High\n"
  },
  {
   "cell_type": "markdown",
   "metadata": {},
   "source": "## Problem Statement\nYou are given two lists of closed intervals, firstList and secondList, each pairwise disjoint and sorted. Return the intersections between these two interval lists.\n"
  },
  {
   "cell_type": "markdown",
   "metadata": {},
   "source": "## Progressive Hints\n- **Hint1**: Since lists are sorted, walk both with two pointers.\n- **Hint2**: The overlap of two intervals is [max(start), min(end)].\n- **Hint3**: Advance the pointer whose interval ends first.\n"
  },
  {
   "cell_type": "markdown",
   "metadata": {},
   "source": "## Solution Overview\nScan both lists simultaneously, emit intersections when overlaps exist, and move the pointer with the smaller end.\n"
  },
  {
   "cell_type": "markdown",
   "metadata": {},
   "source": "## Detailed Explanation\n1. Initialize i=j = 0 and an output list.\n2. For intervals A=firstList[i] and B=secondList[j], compute start=max(A.start, B.start) and end=min(A.end, B.end).\n3. If start <= end, append [start, end] to output.\n4. Increment i if A.end < B.end else increment j; repeat until one list ends.\n"
  },
  {
   "cell_type": "markdown",
   "metadata": {},
   "source": "## Complexity Trade-off Table\n| Approach | Time | Space | Notes |\n| --- | --- | --- | --- |\n| Nested loops | O(mn) | O(1) | Too slow. |\n| Two-pointer merge | O(m+n) | O(1) | Linear in combined length. |\n"
  },
  {
   "cell_type": "code",
   "metadata": {},
   "execution_count": null,
   "outputs": [],
   "source": "from typing import List\n\n\ndef interval_intersection(firstList: List[List[int]], secondList: List[List[int]]) -> List[List[int]]:\n    i = j = 0\n    res = []\n    while i < len(firstList) and j < len(secondList):\n        start = max(firstList[i][0], secondList[j][0])\n        end = min(firstList[i][1], secondList[j][1])\n        if start <= end:\n            res.append([start, end])\n        if firstList[i][1] < secondList[j][1]:\n            i += 1\n        else:\n            j += 1\n    return res\n\n\ndef run_tests():\n    tests = [\n        (([[0, 2], [5, 10], [13, 23], [24, 25]], [[1, 5], [8, 12], [15, 24], [25, 26]]), [[1, 2], [5, 5], [8, 10], [15, 23], [24, 24], [25, 25]]),\n        (([[1, 3], [5, 9]], []), []),\n        (([], [[4, 8], [10, 12]]), []),\n    ]\n    for args, expected in tests:\n        assert interval_intersection(*args) == expected\n\n\nrun_tests()\n\n"
  },
  {
   "cell_type": "markdown",
   "metadata": {},
   "source": "## Complexity Analysis\n- Both pointers advance at most len(firstList) + len(secondList) steps => O(m+n).\n- Uses only output list plus a few integers => O(1) auxiliary space.\n"
  },
  {
   "cell_type": "markdown",
   "metadata": {},
   "source": "## Edge Cases & Pitfalls\n- Touching intervals (end equals start) count as intersection since intervals are closed.\n- Empty lists should return empty result without errors.\n- Large coordinate values require using64-bit ints in other languages.\n"
  },
  {
   "cell_type": "markdown",
   "metadata": {},
   "source": "## Follow-up Variants\n- Handle open intervals (exclusive endpoints).\n- Merge k sorted interval lists simultaneously.\n"
  },
  {
   "cell_type": "markdown",
   "metadata": {},
   "source": "## Takeaways\n- Two-pointer pointer approach mirrors merge step of merge sort.\n- Always reason in terms of earliest finishing interval to keep runtime linear.\n"
  },
  {
   "cell_type": "markdown",
   "metadata": {},
   "source": "## Similar Problems\n| Problem ID | Problem Title | Technique |\n| --- | --- | --- |\n| 240 | Search a2D Matrix II | Two-pointer elimination |\n| 56 | Merge Intervals | Sort and merge |\n| 88 | Merge Sorted Array | Two-pointer merge |\n"
  }
 ],
 "metadata": {
  "kernelspec": {
   "display_name": "Python 3",
   "language": "python",
   "name": "python3"
  },
  "language_info": {
   "name": "python",
   "version": "3.8"
  }
 },
 "nbformat": 4,
 "nbformat_minor": 5
}