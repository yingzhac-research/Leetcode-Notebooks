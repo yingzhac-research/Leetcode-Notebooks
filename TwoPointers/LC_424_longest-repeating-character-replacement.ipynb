{
 "cells": [
  {
   "cell_type": "markdown",
   "id": "2993b451",
   "metadata": {},
   "source": [
    "# 424. Longest Repeating Character Replacement"
   ]
  },
  {
   "cell_type": "markdown",
   "id": "5c87390f",
   "metadata": {},
   "source": [
    "## Topic Alignment\n",
    "- Applies two-pointer or sliding window reasoning to longest repeating character replacement, mirroring optimization of streaming features in production ML pipelines.\n",
    "- Reinforces how to maintain minimal state while scanning large sequences once."
   ]
  },
  {
   "cell_type": "markdown",
   "id": "4f6f97da",
   "metadata": {},
   "source": [
    "## Metadata Summary\n",
    "- **Source**: [LeetCode](https://leetcode.com/problems/longest-repeating-character-replacement/)\n",
    "- **Tags**: Sliding Window, String\n",
    "- **Difficulty**: Medium\n",
    "- **Priority**: High"
   ]
  },
  {
   "cell_type": "markdown",
   "id": "1340c2bc",
   "metadata": {},
   "source": [
    "## Problem Statement\n",
    "You are given a string s and an integer k. You can choose any character of the string and change it to any other uppercase English character. Perform this operation at most k times and return the length of the longest substring containing the same letter after performing the replacements."
   ]
  },
  {
   "cell_type": "markdown",
   "id": "92c978b3",
   "metadata": {},
   "source": [
    "## Progressive Hints\n",
    "- **Hint 1**: Use a sliding window to maintain counts of characters in the current window.\n",
    "- **Hint 2**: The window is valid if (window length - max frequency) <= k.\n",
    "- **Hint 3**: Only shrink when the window becomes invalid."
   ]
  },
  {
   "cell_type": "markdown",
   "id": "e450e11b",
   "metadata": {},
   "source": [
    "## Solution Overview\n",
    "Maintain a sliding window with character frequencies and the count of the most common character; expand right, shrink left when replacements needed exceed k."
   ]
  },
  {
   "cell_type": "markdown",
   "id": "ba390012",
   "metadata": {},
   "source": [
    "## Detailed Explanation\n",
    "1. Keep a dictionary freq and a variable max_count tracking the highest frequency in the current window.\n",
    "2. Expand right, updating freq[s[right]].\n",
    "3. While window length minus max_count exceeds k, shrink from the left, decrementing freq.\n",
    "4. Track the maximum window size observed while valid."
   ]
  },
  {
   "cell_type": "markdown",
   "id": "90d88fa3",
   "metadata": {},
   "source": [
    "## Complexity Trade-off Table\n",
    "| Approach | Time | Space | Notes |\n",
    "| --- | --- | --- | --- |\n",
    "| Brute-force check all substrings | O(n^2) | O(1) | Too slow. |\n",
    "| Sliding window with max frequency | O(n) | O(|alphabet|) | |alphabet| = 26. |\n"
   ]
  },
  {
   "cell_type": "code",
   "execution_count": null,
   "id": "235537dd",
   "metadata": {},
   "outputs": [],
   "source": [
    "from collections import defaultdict\n",
    "\n",
    "\n",
    "def character_replacement(s: str, k: int) -> int:\n",
    "    freq = defaultdict(int)\n",
    "    left = 0\n",
    "    max_count = 0\n",
    "    best = 0\n",
    "    for right, ch in enumerate(s):\n",
    "        freq[ch] += 1\n",
    "        max_count = max(max_count, freq[ch])\n",
    "        while (right - left + 1) - max_count > k:\n",
    "            freq[s[left]] -= 1\n",
    "            left += 1\n",
    "        best = max(best, right - left + 1)\n",
    "    return best\n",
    "\n",
    "\n",
    "def run_tests():\n",
    "    tests = [\n",
    "        ((\"ABAB\", 2), 4),\n",
    "        ((\"AABABBA\", 1), 4),\n",
    "        ((\"AAAA\", 2), 4),\n",
    "    ]\n",
    "    for args, expected in tests:\n",
    "        assert character_replacement(*args) == expected\n",
    "\n",
    "\n",
    "run_tests()"
   ]
  },
  {
   "cell_type": "markdown",
   "id": "189bdbe7",
   "metadata": {},
   "source": [
    "## Complexity Analysis\n",
    "- Each character enters and leaves the window once => O(n) time.\n",
    "- Frequency dictionary size limited to alphabet => O(1) additional space."
   ]
  },
  {
   "cell_type": "markdown",
   "id": "a1f6e84f",
   "metadata": {},
   "source": [
    "## Edge Cases & Pitfalls\n",
    "- When k = 0, the answer reduces to longest run of identical chars.\n",
    "- When k >= len(s), answer equals len(s).\n",
    "- Ensure max_count remains correct even when shrinking (we rely on not decrementing max_count eagerly)."
   ]
  },
  {
   "cell_type": "markdown",
   "id": "6317208f",
   "metadata": {},
   "source": [
    "## Follow-up Variants\n",
    "- Support lowercase and uppercase simultaneously (alphabet size 52).\n",
    "- Return the substring itself, not just length."
   ]
  },
  {
   "cell_type": "markdown",
   "id": "f0426029",
   "metadata": {},
   "source": [
    "## Takeaways\n",
    "- Keep track of max frequency rather than recomputing from scratch each time.\n",
    "- Window validity condition is central to many k replacements problems."
   ]
  },
  {
   "cell_type": "markdown",
   "id": "8a4397bb",
   "metadata": {},
   "source": [
    "## Similar Problems\n",
    "| Problem ID | Problem Title | Technique |\n",
    "| --- | --- | --- |\n",
    "| 1004 | Max Consecutive Ones III | Window with flip budget |\n",
    "| 159 | Longest Substring with At Most Two Distinct Characters | Window with count map |\n",
    "| 424 | Longest Repeating Character Replacement | Max frequency tracking |"
   ]
  }
 ],
 "metadata": {
  "kernelspec": {
   "display_name": "Python 3 (ipykernel)",
   "language": "python",
   "name": "python3"
  },
  "language_info": {
   "codemirror_mode": {
    "name": "ipython",
    "version": 3
   },
   "file_extension": ".py",
   "mimetype": "text/x-python",
   "name": "python",
   "nbconvert_exporter": "python",
   "pygments_lexer": "ipython3",
   "version": "3.13.3"
  }
 },
 "nbformat": 4,
 "nbformat_minor": 5
}