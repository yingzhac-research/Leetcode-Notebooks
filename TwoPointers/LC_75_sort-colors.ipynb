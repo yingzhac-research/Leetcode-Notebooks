{
 "cells": [
  {
   "cell_type": "markdown",
   "id": "8d6d1c86",
   "metadata": {},
   "source": [
    "# 75. Sort Colors\n"
   ]
  },
  {
   "cell_type": "markdown",
   "id": "c63b3576",
   "metadata": {},
   "source": [
    "## Topic Alignment\n",
    "- Applies two-pointer or sliding window reasoning to sort colors, mirroring optimization of streaming features in production ML pipelines.\n",
    "- Reinforces how to maintain minimal state while scanning large sequences once.\n"
   ]
  },
  {
   "cell_type": "markdown",
   "id": "ac38a2ea",
   "metadata": {},
   "source": [
    "## Metadata Summary\n",
    "- **Source**: [LeetCode](https://leetcode.com/problems/sort-colors/)\n",
    "- **Tags**: Two Pointers, Array, In-place\n",
    "- **Difficulty**: Medium\n",
    "- **Priority**: High\n"
   ]
  },
  {
   "cell_type": "markdown",
   "id": "cef7f5b2",
   "metadata": {},
   "source": [
    "## Problem Statement\n",
    "There are n objects colored red, white, or blue (represented by0, 1, 2) stored in array nums. Sort them in-place so that objects of the same color are adjacent, with colors in the order red, white, and blue. The use of the library's sort is not allowed.\n"
   ]
  },
  {
   "cell_type": "markdown",
   "id": "fac739f3",
   "metadata": {},
   "source": [
    "## Progressive Hints\n",
    "- **Hint1**: Count occurrences first to build intuition.\n",
    "- **Hint2**: Can you partition the array with constant extra space?\n",
    "- **Hint3**: Maintain regions for0s, 1s, and2s using three pointers.\n"
   ]
  },
  {
   "cell_type": "markdown",
   "id": "c51ff040",
   "metadata": {},
   "source": [
    "## Solution Overview\n",
    "Use the Dutch national flag algorithm: maintain pointers for the next positions of0 and2 while scanning with a mid pointer.\n"
   ]
  },
  {
   "cell_type": "markdown",
   "id": "d5d273ef",
   "metadata": {},
   "source": [
    "## Detailed Explanation\n",
    "1. Keep three indices: low (next slot for0), mid (current element), high (next slot for2).\n",
    "2. If nums[mid] == 0, swap with nums[low] and advance both low and mid.\n",
    "3. If nums[mid] == 1, just advance mid.\n",
    "4. If nums[mid] == 2, swap with nums[high] and decrement high (do not advance mid). This ensures all explored regions stay partitioned correctly.\n"
   ]
  },
  {
   "cell_type": "markdown",
   "id": "a2039b87",
   "metadata": {},
   "source": [
    "## Complexity Trade-off Table\n",
    "| Approach | Time | Space | Notes |\n",
    "| --- | --- | --- | --- |\n",
    "| Counting sort (two passes) | O(n) | O(1) | Simple but requires two scans. |\n",
    "| Dutch national flag | O(n) | O(1) | One pass, constant space. |\n"
   ]
  },
  {
   "cell_type": "code",
   "execution_count": null,
   "id": "02c3268b",
   "metadata": {},
   "outputs": [],
   "source": "from typing import List\n\n\ndef sort_colors(nums: List[int]) -> None:\n    low, mid, high = 0, 0, len(nums) - 1\n    while mid <= high:\n        if nums[mid] == 0:\n            nums[low], nums[mid] = nums[mid], nums[low]\n            low += 1\n            mid += 1\n        elif nums[mid] == 1:\n            mid += 1\n        else:\n            nums[mid], nums[high] = nums[high], nums[mid]\n            high -= 1\n\n\ndef run_tests():\n    tests = [\n        ([2, 0, 2, 1, 1, 0], [0, 0, 1, 1, 2, 2]),\n        ([2, 0, 1], [0, 1, 2]),\n        ([0], [0]),\n    ]\n    for nums, expected in tests:\n        sort_colors(nums)\n        assert nums == expected\n\n\nrun_tests()\n\n"
  },
  {
   "cell_type": "markdown",
   "id": "be7d962c",
   "metadata": {},
   "source": [
    "## Complexity Analysis\n",
    "- Each element is moved at most once => O(n) time.\n",
    "- Only three indices and constant swaps are needed => O(1) extra space.\n"
   ]
  },
  {
   "cell_type": "markdown",
   "id": "fc82304a",
   "metadata": {},
   "source": [
    "## Edge Cases & Pitfalls\n",
    "- Arrays already sorted must remain unchanged after algorithm.\n",
    "- All2s at the front test the branch where mid does not advance after a swap.\n",
    "- Single-element arrays should be handled gracefully.\n"
   ]
  },
  {
   "cell_type": "markdown",
   "id": "2615bdb7",
   "metadata": {},
   "source": [
    "## Follow-up Variants\n",
    "- Extend the approach to k colors (k-way partitioning).\n",
    "- Apply to streaming classification outputs where you can only buffer a small window.\n"
   ]
  },
  {
   "cell_type": "markdown",
   "id": "ac173938",
   "metadata": {},
   "source": [
    "## Takeaways\n",
    "- Partitioning problems often map to Dutch flag style invariants.\n",
    "- Be explicit about invariants: [0..low-1] = 0, [low..mid-1] = 1, [high+1..n-1] = 2.\n"
   ]
  },
  {
   "cell_type": "markdown",
   "id": "7aeb79de",
   "metadata": {},
   "source": [
    "## Similar Problems\n",
    "| Problem ID | Problem Title | Technique |\n",
    "| --- | --- | --- |\n",
    "| 280 | Wiggle Sort | In-place partitioning |\n",
    "| 905 | Sort Array By Parity | Two partitions |\n",
    "| 75 | Sort Colors | Counting then partition |\n"
   ]
  }
 ],
 "metadata": {
  "kernelspec": {
   "display_name": "Python 3 (ipykernel)",
   "language": "python",
   "name": "python3"
  },
  "language_info": {
   "codemirror_mode": {
    "name": "ipython",
    "version": 3
   },
   "file_extension": ".py",
   "mimetype": "text/x-python",
   "name": "python",
   "nbconvert_exporter": "python",
   "pygments_lexer": "ipython3",
   "version": "3.13.3"
  }
 },
 "nbformat": 4,
 "nbformat_minor": 5
}