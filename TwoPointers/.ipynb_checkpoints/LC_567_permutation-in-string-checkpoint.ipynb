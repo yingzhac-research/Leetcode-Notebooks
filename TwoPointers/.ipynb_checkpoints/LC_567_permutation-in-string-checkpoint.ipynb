{
 "cells": [
  {
   "cell_type": "markdown",
   "metadata": {},
   "source": "# 567. Permutation in String\n"
  },
  {
   "cell_type": "markdown",
   "metadata": {},
   "source": "## Topic Alignment\n- Applies two-pointer or sliding window reasoning to permutation in string, mirroring optimization of streaming features in production ML pipelines.\n- Reinforces how to maintain minimal state while scanning large sequences once.\n"
  },
  {
   "cell_type": "markdown",
   "metadata": {},
   "source": "## Metadata Summary\n- **Source**: [LeetCode](https://leetcode.com/problems/permutation-in-string/)\n- **Tags**: Sliding Window, String\n- **Difficulty**: Medium\n- **Priority**: High\n"
  },
  {
   "cell_type": "markdown",
   "metadata": {},
   "source": "## Problem Statement\nGiven two strings s1 and s2, return true if s2 contains a permutation of s1. In other words, return true if one of s1's permutations is a substring of s2.\n"
  },
  {
   "cell_type": "markdown",
   "metadata": {},
   "source": "## Progressive Hints\n- **Hint1**: Use a window of size len(s1) sliding across s2.\n- **Hint2**: Compare histogram counts efficiently at each step.\n- **Hint3**: Track matches count similarly to LC438.\n"
  },
  {
   "cell_type": "markdown",
   "metadata": {},
   "source": "## Solution Overview\nMaintain a fixed window over s2 with size len(s1), updating character counts and checking if histograms match exactly.\n"
  },
  {
   "cell_type": "markdown",
   "metadata": {},
   "source": "## Detailed Explanation\n1. Build frequency counts for s1 and the first window in s2.\n2. Keep a matches counter for characters where counts align.\n3. Slide the window: add s2[right], remove s2[left], and update matches accordingly.\n4. If matches equals alphabet size for required characters, return True. Continue until all windows checked.\n"
  },
  {
   "cell_type": "markdown",
   "metadata": {},
   "source": "## Complexity Trade-off Table\n| Approach | Time | Space | Notes |\n| --- | --- | --- | --- |\n| Sort each window | O(n * m log m) | O(m) | Too slow. |\n| Sliding histogram | O(n) | O( | alphabet |\n| ) | Efficient for lowercase letters. |\n"
  },
  {
   "cell_type": "code",
   "metadata": {},
   "execution_count": null,
   "outputs": [],
   "source": "from collections import Counter\n\n\ndef check_inclusion(s1: str, s2: str) -> bool:\n    if len(s1) > len(s2):\n        return False\n    need = Counter(s1)\n    window = Counter(s2[:len(s1)])\n    matches = 0\n    for ch in need:\n        if need[ch] == window.get(ch, 0):\n            matches += 1\n    if matches == len(need):\n        return True\n    for right in range(len(s1), len(s2)):\n        left = right - len(s1)\n        out_char = s2[left]\n        in_char = s2[right]\n        if out_char in need:\n            if window[out_char] == need[out_char]:\n                matches -= 1\n            window[out_char] -= 1\n            if window[out_char] == need[out_char]:\n                matches += 1\n        else:\n            window[out_char] -= 1\n            if window[out_char] == 0:\n                del window[out_char]\n        window[in_char] += 1\n        if in_char in need:\n            if window[in_char] == need[in_char]:\n                matches += 1\n            elif window[in_char] - 1 == need[in_char]:\n                matches -= 1\n        if matches == len(need):\n            return True\n    return False\n\n\ndef run_tests():\n    tests = [\n        ((\"ab\", \"eidbaooo\"), True),\n        ((\"ab\", \"eidboaoo\"), False),\n        ((\"adc\", \"dcda\"), True),\n    ]\n    for args, expected in tests:\n        assert check_inclusion(*args) == expected\n\n\nrun_tests()"
  },
  {
   "cell_type": "markdown",
   "metadata": {},
   "source": "## Complexity Analysis\n- Each window update costs constant time => O(|s2|) runtime.\n- Counters store at most |alphabet| entries => O(1) extra space for lowercase letters.\n"
  },
  {
   "cell_type": "markdown",
   "metadata": {},
   "source": "## Edge Cases & Pitfalls\n- When len(s1) > len(s2), return False immediately.\n- Repeated characters in s1 require exact multiplicity matches.\n- Ensure removal of counts when they drop to zero to keep map small.\n"
  },
  {
   "cell_type": "markdown",
   "metadata": {},
   "source": "## Follow-up Variants\n- Return the index where the permutation starts instead of a boolean.\n- Handle uppercase + lowercase alphabets simultaneously.\n"
  },
  {
   "cell_type": "markdown",
   "metadata": {},
   "source": "## Takeaways\n- Permutation detection reduces to histogram equality over fixed windows.\n- An incremental match counter avoids O(|alphabet|) comparisons each step.\n"
  },
  {
   "cell_type": "markdown",
   "metadata": {},
   "source": "## Similar Problems\n| Problem ID | Problem Title | Technique |\n| --- | --- | --- |\n| 438 | Find All Anagrams in a String | Sliding window |\n| 567 | Permutation in String | Histogram equality |\n| 242 | Valid Anagram | Frequency comparison |\n"
  }
 ],
 "metadata": {
  "kernelspec": {
   "display_name": "Python 3",
   "language": "python",
   "name": "python3"
  },
  "language_info": {
   "name": "python",
   "version": "3.8"
  }
 },
 "nbformat": 4,
 "nbformat_minor": 5
}