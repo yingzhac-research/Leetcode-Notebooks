{
 "cells": [
  {
   "cell_type": "markdown",
   "metadata": {},
   "source": "# 1208. Get Equal Substrings Within Budget\n"
  },
  {
   "cell_type": "markdown",
   "metadata": {},
   "source": "## Topic Alignment\n- Applies two-pointer or sliding window reasoning to get equal substrings within budget, mirroring optimization of streaming features in production ML pipelines.\n- Reinforces how to maintain minimal state while scanning large sequences once.\n"
  },
  {
   "cell_type": "markdown",
   "metadata": {},
   "source": "## Metadata Summary\n- **Source**: [LeetCode](https://leetcode.com/problems/get-equal-substrings-within-budget/)\n- **Tags**: Sliding Window, String\n- **Difficulty**: Medium\n- **Priority**: Medium\n"
  },
  {
   "cell_type": "markdown",
   "metadata": {},
   "source": "## Problem Statement\nYou are given two strings s and t of the same length and an integer maxCost. Converting the i-th character of s to the i-th character of t costs |s[i] - t[i]| in ASCII. Return the maximum length of a substring of s that can be changed to be equal to the corresponding substring of t with a total conversion cost less than or equal to maxCost.\n"
  },
  {
   "cell_type": "markdown",
   "metadata": {},
   "source": "## Progressive Hints\n- **Hint1**: The cost function is additive, so use a sliding window with running cost.\n- **Hint2**: Expand the window while total cost <= maxCost.\n- **Hint3**: Shrink from left when cost exceeds budget.\n"
  },
  {
   "cell_type": "markdown",
   "metadata": {},
   "source": "## Solution Overview\nMaintain a window with total cost accumulating absolute differences; shrink when total cost exceeds maxCost and track maximum length.\n"
  },
  {
   "cell_type": "markdown",
   "metadata": {},
   "source": "## Detailed Explanation\n1. Initialize left = 0 and cost = 0.\n2. For each right, add |s[right]-t[right]| to cost.\n3. While cost > maxCost, subtract the cost contribution of left index and increment left.\n4. Update best length with right-left+1 during each iteration.\n"
  },
  {
   "cell_type": "markdown",
   "metadata": {},
   "source": "## Complexity Trade-off Table\n| Approach | Time | Space | Notes |\n| --- | --- | --- | --- |\n| Prefix sums + binary search | O(n log n) | O(n) | Check each start position via binary search. |\n| Sliding window | O(n) | O(1) | Single pass with running cost. |\n"
  },
  {
   "cell_type": "code",
   "metadata": {},
   "execution_count": null,
   "outputs": [],
   "source": "def equal_substring(s: str, t: str, maxCost: int) -> int:    left = 0    cost = 0    best = 0    for right in range(len(s)):        cost += abs(ord(s[right]) - ord(t[right]))        while cost > maxCost:            cost -= abs(ord(s[left]) - ord(t[left]))            left += 1        best = max(best, right - left + 1)    return best\n\ndef run_tests():    tests = [        ((\"abcd\", \"bcdf\", 3), 3),        ((\"abcd\", \"cdef\", 3), 1),        ((\"abcd\", \"acde\", 0), 1),    ]    for args, expected in tests:        assert equal_substring(*args) == expected\n\nrun_tests()"
  },
  {
   "cell_type": "markdown",
   "metadata": {},
   "source": "## Complexity Analysis\n- Each index enters and exits window once => O(n) time.\n- Only scalars stored => O(1) space.\n"
  },
  {
   "cell_type": "markdown",
   "metadata": {},
   "source": "## Edge Cases & Pitfalls\n- maxCost = 0 should allow only matching characters.\n- Large costs must not overflow; use ints (Python handles automatically).\n- Strings of length1 should be processed correctly.\n"
  },
  {
   "cell_type": "markdown",
   "metadata": {},
   "source": "## Follow-up Variants\n- Allow different character alphabets (Unicode).\n- Return the substring, not just length.\n"
  },
  {
   "cell_type": "markdown",
   "metadata": {},
   "source": "## Takeaways\n- Cost-aware sliding windows generalize to many quality-of-service problems.\n- Always subtract the exact contribution when shrinking to keep running total accurate.\n"
  },
  {
   "cell_type": "markdown",
   "metadata": {},
   "source": "## Similar Problems\n| Problem ID | Problem Title | Technique |\n| --- | --- | --- |\n| 424 | Longest Repeating Character Replacement | Window with budget |\n| 1004 | Max Consecutive Ones III | Budgeted window |\n| 159 | Longest Substring with At Most Two Distinct Characters | Sliding window |\n"
  }
 ],
 "metadata": {
  "kernelspec": {
   "display_name": "Python 3",
   "language": "python",
   "name": "python3"
  },
  "language_info": {
   "name": "python",
   "version": "3.8"
  }
 },
 "nbformat": 4,
 "nbformat_minor": 5
}