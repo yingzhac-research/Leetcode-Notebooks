{
  "cells": [
    {
      "cell_type": "markdown",
      "metadata": {},
      "source": "# 80. Remove Duplicates from Sorted Array II"
    },
    {
      "cell_type": "markdown",
      "metadata": {},
      "source": "## Topic Alignment\n- Applies two-pointer or sliding window reasoning to remove duplicates from sorted array ii, mirroring optimization of streaming features in production ML pipelines.\n- Reinforces how to maintain minimal state while scanning large sequences once."
    },
    {
      "cell_type": "markdown",
      "metadata": {},
      "source": "## Metadata \u6458\u8981\n- **Source**: [LeetCode](https://leetcode.com/problems/remove-duplicates-from-sorted-array-ii/)\n- **Tags**: Two Pointers, Array\n- **Difficulty**: Medium\n- **Priority**: High"
    },
    {
      "cell_type": "markdown",
      "metadata": {},
      "source": "## Problem Statement \u539f\u9898\u63cf\u8ff0\nGiven an integer array nums sorted in non-decreasing order, remove some duplicates in-place such that each unique element appears at most twice. The relative order of the elements should be kept. Return the number of elements left in nums after removing the extra duplicates."
    },
    {
      "cell_type": "markdown",
      "metadata": {},
      "source": "## Constraints\n- 1 <= nums.length <= 3 * 10^4\n- -10^4 <= nums[i] <= 10^4\n- nums is sorted in non-decreasing order"
    },
    {
      "cell_type": "markdown",
      "metadata": {},
      "source": "## Progressive Hints\n- **Hint 1**: Extend the idea from LC 26 by tracking how many times the current value has been written.\n- **Hint 2**: Use a counter or rely on relative index comparisons.\n- **Hint 3**: Ask whether you can avoid resetting the counter explicitly."
    },
    {
      "cell_type": "markdown",
      "metadata": {},
      "source": "## Solution Overview\nKeep a write pointer and only copy an element if it would not cause more than two copies of the same value in the prefix."
    },
    {
      "cell_type": "markdown",
      "metadata": {},
      "source": "## Detailed Explanation\n1. Maintain write=0.\n2. Iterate through nums. For each value, copy it to nums[write] if write < 2 (first two elements) or nums[write-2] != value (ensures we keep at most two copies).\n3. Increment write whenever a copy occurs.\n4. After the loop, write is the new length and the first write elements form the cleaned array."
    },
    {
      "cell_type": "markdown",
      "metadata": {},
      "source": "## Complexity Trade-off Table\n| Approach | Time | Space | Notes |\n| --- | --- | --- | --- |\n| Counting per value | O(n) | O(1) | Requires resetting counts when value changes. |\n| Index comparison trick | O(n) | O(1) | Avoids explicit counter by leveraging sorted order. |"
    },
    {
      "cell_type": "code",
      "metadata": {},
      "execution_count": null,
      "outputs": [],
      "source": "from typing import List\n\n\ndef remove_duplicates(nums: List[int]) -> int:\n    write = 0\n    for num in nums:\n        if write < 2 or nums[write - 2] != num:\n            nums[write] = num\n            write += 1\n    return write\n\n\ndef run_tests():\n    tests = [\n        (([1, 1, 1, 2, 2, 3],), ([1, 1, 2, 2, 3, 3], 5)),\n        (([0, 0, 1, 1, 1, 1, 2, 3, 3],), ([0, 0, 1, 1, 2, 3, 3, 3, 3], 7)),\n        (([1, 2, 3],), ([1, 2, 3], 3)),\n    ]\n    for (nums,), (expected_prefix, expected_k) in tests:\n        k = remove_duplicates(nums)\n        assert k == expected_k\n        assert nums[:k] == expected_prefix[:k]\n\n\nrun_tests()"
    },
    {
      "cell_type": "markdown",
      "metadata": {},
      "source": "## Complexity Analysis\n- Each value is processed exactly once => O(n) time.\n- Only the write index is tracked, so auxiliary space is constant."
    },
    {
      "cell_type": "markdown",
      "metadata": {},
      "source": "## Edge Cases & Pitfalls\n- Ensure the first two positions always remain intact even if array is short.\n- Sequence with exactly two duplicates should remain unchanged.\n- Handling negative numbers works the same thanks to sorted order."
    },
    {
      "cell_type": "markdown",
      "metadata": {},
      "source": "## Follow-up Variants\n- Generalize to allow at most k duplicates (parameterized).\n- Apply to arrays that arrive in chunks (streaming deduplication)."
    },
    {
      "cell_type": "markdown",
      "metadata": {},
      "source": "## Takeaways\n- Sorted order lets you infer duplicate counts from positions instead of counters.\n- Two-pointer patterns extend easily to bounded frequency constraints."
    },
    {
      "cell_type": "markdown",
      "metadata": {},
      "source": "## Similar Problems\n| Problem ID | Problem Title | Technique |\n| --- | --- | --- |\n| 26 | Remove Duplicates from Sorted Array | Fast/slow pointer |\n| 283 | Move Zeroes | Stable compaction |\n| 27 | Remove Element | Selective overwrite |"
    }
  ],
  "metadata": {
    "kernelspec": {
      "display_name": "Python 3",
      "language": "python",
      "name": "python3"
    },
    "language_info": {
      "name": "python",
      "version": "3.8"
    }
  },
  "nbformat": 4,
  "nbformat_minor": 5
}