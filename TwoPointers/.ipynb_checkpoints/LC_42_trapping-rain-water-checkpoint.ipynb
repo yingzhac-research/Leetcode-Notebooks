{
  "cells": [
    {
      "cell_type": "markdown",
      "metadata": {},
      "source": "# 42. Trapping Rain Water"
    },
    {
      "cell_type": "markdown",
      "metadata": {},
      "source": "## Topic Alignment\n- Applies two-pointer or sliding window reasoning to trapping rain water, mirroring optimization of streaming features in production ML pipelines.\n- Reinforces how to maintain minimal state while scanning large sequences once."
    },
    {
      "cell_type": "markdown",
      "metadata": {},
      "source": "## Metadata \u6458\u8981\n- **Source**: [LeetCode](https://leetcode.com/problems/trapping-rain-water/)\n- **Tags**: Two Pointers, Dynamic Programming, Stack\n- **Difficulty**: Hard\n- **Priority**: High"
    },
    {
      "cell_type": "markdown",
      "metadata": {},
      "source": "## Problem Statement \u539f\u9898\u63cf\u8ff0\nGiven n non-negative integers representing an elevation map where the width of each bar is 1, compute how much water it can trap after raining. Each bar's width is constant and you can assume the ground is flat."
    },
    {
      "cell_type": "markdown",
      "metadata": {},
      "source": "## Constraints\n- 1 <= height.length <= 2 * 10^4\n- 0 <= height[i] <= 10^5"
    },
    {
      "cell_type": "markdown",
      "metadata": {},
      "source": "## Progressive Hints\n- **Hint 1**: Try visualizing trapped water as bounded by the tallest bars to the left and right.\n- **Hint 2**: Dynamic programming can precompute max left and max right heights for each position.\n- **Hint 3**: Can you achieve O(1) space by walking inward from both ends?"
    },
    {
      "cell_type": "markdown",
      "metadata": {},
      "source": "## Solution Overview\nUse two pointers that maintain the best left and right maxima seen so far; trap water based on the smaller side while moving inward."
    },
    {
      "cell_type": "markdown",
      "metadata": {},
      "source": "## Detailed Explanation\n1. Maintain left and right pointers at the ends alongside left_max and right_max.\n2. At every step, compare height[left] and height[right]. The smaller side determines the water level; accumulate left_max - height[left] or right_max - height[right] if positive.\n3. Update the corresponding pointer and running maximum, then continue until the pointers cross.\n4. This works because any bar processed is bounded by a known taller border on the processed side and possibly a taller bar on the opposite side."
    },
    {
      "cell_type": "markdown",
      "metadata": {},
      "source": "## Complexity Trade-off Table\n| Approach | Time | Space | Notes |\n| --- | --- | --- | --- |\n| Prefix/suffix maxima arrays | O(n) | O(n) | Straightforward but uses extra storage. |\n| Monotonic stack | O(n) | O(n) | Push indices while height increases. |\n| Two-pointer with running max | O(n) | O(1) | Preferred when memory is tight. |"
    },
    {
      "cell_type": "code",
      "metadata": {},
      "execution_count": null,
      "outputs": [],
      "source": "from typing import List\n\n\ndef trap(height: List[int]) -> int:\n    if not height:\n        return 0\n    left, right = 0, len(height) - 1\n    left_max, right_max = height[left], height[right]\n    water = 0\n    while left < right:\n        if left_max <= right_max:\n            left += 1\n            left_max = max(left_max, height[left])\n            water += max(0, left_max - height[left])\n        else:\n            right -= 1\n            right_max = max(right_max, height[right])\n            water += max(0, right_max - height[right])\n    return water\n\n\ndef run_tests():\n    tests = [\n        (([0, 1, 0, 2, 1, 0, 1, 3, 2, 1, 2, 1],), 6),\n        (([4, 2, 0, 3, 2, 5],), 9),\n        (([],), 0),\n    ]\n    for args, expected in tests:\n        assert trap(*args) == expected\n\n\nrun_tests()"
    },
    {
      "cell_type": "markdown",
      "metadata": {},
      "source": "## Complexity Analysis\n- Each index is visited at most once by either pointer, yielding O(n) runtime.\n- Besides a few integers, the algorithm does not allocate extra structures => O(1) space."
    },
    {
      "cell_type": "markdown",
      "metadata": {},
      "source": "## Edge Cases & Pitfalls\n- Monotonic sections (increasing then decreasing) must not overcount.\n- Tall bars at the edges should not contribute negative water.\n- All zeros should return zero quickly."
    },
    {
      "cell_type": "markdown",
      "metadata": {},
      "source": "## Follow-up Variants\n- Generalize to trapping water on a 2D grid (see LC 407).\n- Handle streaming updates where heights can change and you must answer queries online."
    },
    {
      "cell_type": "markdown",
      "metadata": {},
      "source": "## Takeaways\n- Choosing the side with the smaller bound lets you determine trapped water immediately.\n- Running maxima are sufficient; full prefix arrays are not always necessary."
    },
    {
      "cell_type": "markdown",
      "metadata": {},
      "source": "## Similar Problems\n| Problem ID | Problem Title | Technique |\n| --- | --- | --- |\n| 407 | Trapping Rain Water II | Heap + BFS |\n| 11 | Container With Most Water | Two-pointer shrink |\n| 238 | Product of Array Except Self | Prefix/suffix maxima analogy |"
    }
  ],
  "metadata": {
    "kernelspec": {
      "display_name": "Python 3",
      "language": "python",
      "name": "python3"
    },
    "language_info": {
      "name": "python",
      "version": "3.8"
    }
  },
  "nbformat": 4,
  "nbformat_minor": 5
}