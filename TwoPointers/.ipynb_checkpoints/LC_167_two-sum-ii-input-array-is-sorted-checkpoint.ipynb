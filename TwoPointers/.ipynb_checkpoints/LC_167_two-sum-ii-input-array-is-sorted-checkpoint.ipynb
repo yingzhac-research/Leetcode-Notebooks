{
  "cells": [
    {
      "cell_type": "markdown",
      "metadata": {},
      "source": "# 167. Two Sum II - Input Array Is Sorted"
    },
    {
      "cell_type": "markdown",
      "metadata": {},
      "source": "## Topic Alignment\n- Applies two-pointer or sliding window reasoning to two sum ii - input array is sorted, mirroring optimization of streaming features in production ML pipelines.\n- Reinforces how to maintain minimal state while scanning large sequences once."
    },
    {
      "cell_type": "markdown",
      "metadata": {},
      "source": "## Metadata \u6458\u8981\n- **Source**: [LeetCode](https://leetcode.com/problems/two-sum-ii-input-array-is-sorted/)\n- **Tags**: Two Pointers, Array\n- **Difficulty**: Medium\n- **Priority**: High"
    },
    {
      "cell_type": "markdown",
      "metadata": {},
      "source": "## Problem Statement \u539f\u9898\u63cf\u8ff0\nGiven a 1-indexed array of integers numbers sorted in non-decreasing order, find two numbers such that they add up to a specific target number. Return the indices of the two numbers (1-indexed) as an integer array of length 2. Assume exactly one solution exists and the same element may not be used twice."
    },
    {
      "cell_type": "markdown",
      "metadata": {},
      "source": "## Constraints\n- 2 <= numbers.length <= 3 * 10^4\n- -10^3 <= numbers[i] <= 10^3\n- -10^3 <= target <= 10^3\n- numbers is non-decreasing"
    },
    {
      "cell_type": "markdown",
      "metadata": {},
      "source": "## Progressive Hints\n- **Hint 1**: Leverage the sorted order to avoid a hash map.\n- **Hint 2**: Place one pointer at each end and adjust based on the current sum.\n- **Hint 3**: Watch the 1-indexed return requirement."
    },
    {
      "cell_type": "markdown",
      "metadata": {},
      "source": "## Solution Overview\nInitialize pointers at both ends, compare the sum with target, and move the pointer that reduces the difference until the sum matches target."
    },
    {
      "cell_type": "markdown",
      "metadata": {},
      "source": "## Detailed Explanation\n1. Set left=0, right=n-1.\n2. Compute current = numbers[left] + numbers[right].\n3. If current equals target, return [left+1, right+1]. If current < target, move left forward; otherwise move right backward.\n4. Continue until the pair is found (guaranteed by problem conditions)."
    },
    {
      "cell_type": "markdown",
      "metadata": {},
      "source": "## Complexity Trade-off Table\n| Approach | Time | Space | Notes |\n| --- | --- | --- | --- |\n| Hash map complement | O(n) | O(n) | Works but ignores sorted property. |\n| Two pointers on sorted array | O(n) | O(1) | Single pass leveraging order. |"
    },
    {
      "cell_type": "code",
      "metadata": {},
      "execution_count": null,
      "outputs": [],
      "source": "from typing import List\n\n\ndef two_sum(numbers: List[int], target: int) -> List[int]:\n    left, right = 0, len(numbers) - 1\n    while left < right:\n        current = numbers[left] + numbers[right]\n        if current == target:\n            return [left + 1, right + 1]\n        if current < target:\n            left += 1\n        else:\n            right -= 1\n    raise ValueError(\"No solution\")\n\n\ndef run_tests():\n    tests = [\n        (([2, 7, 11, 15], 9), [1, 2]),\n        (([2, 3, 4], 6), [1, 3]),\n        (([-1, 0], -1), [1, 2]),\n    ]\n    for args, expected in tests:\n        assert two_sum(*args) == expected\n\n\nrun_tests()"
    },
    {
      "cell_type": "markdown",
      "metadata": {},
      "source": "## Complexity Analysis\n- Pointers each move monotonically inward => O(n) time.\n- Only indices stored => O(1) space."
    },
    {
      "cell_type": "markdown",
      "metadata": {},
      "source": "## Edge Cases & Pitfalls\n- Ensure returned indices are 1-based.\n- Large negative numbers should be handled correctly.\n- Edge case with two elements only should work."
    },
    {
      "cell_type": "markdown",
      "metadata": {},
      "source": "## Follow-up Variants\n- Support arrays with duplicates and return all unique pairs (two-pointer sweep).\n- Extend to k-sum with recursion controlling left/right boundaries."
    },
    {
      "cell_type": "markdown",
      "metadata": {},
      "source": "## Takeaways\n- Sorting + two pointers is a standard complement to hash tables for sum problems.\n- 1-indexed vs 0-indexed outputs are common interview pitfalls."
    },
    {
      "cell_type": "markdown",
      "metadata": {},
      "source": "## Similar Problems\n| Problem ID | Problem Title | Technique |\n| --- | --- | --- |\n| 15 | 3Sum | Sorted array with two-pointer inner loop |\n| 18 | 4Sum | Nested two-pointer |\n| 653 | Two Sum IV - Input is a BST | Two-pointer on sorted traversal |"
    }
  ],
  "metadata": {
    "kernelspec": {
      "display_name": "Python 3",
      "language": "python",
      "name": "python3"
    },
    "language_info": {
      "name": "python",
      "version": "3.8"
    }
  },
  "nbformat": 4,
  "nbformat_minor": 5
}