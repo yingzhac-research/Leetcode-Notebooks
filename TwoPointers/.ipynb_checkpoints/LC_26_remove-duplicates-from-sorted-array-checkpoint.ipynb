{
  "cells": [
    {
      "cell_type": "markdown",
      "metadata": {},
      "source": "# 26. Remove Duplicates from Sorted Array"
    },
    {
      "cell_type": "markdown",
      "metadata": {},
      "source": "## Topic Alignment\n- Applies two-pointer or sliding window reasoning to remove duplicates from sorted array, mirroring optimization of streaming features in production ML pipelines.\n- Reinforces how to maintain minimal state while scanning large sequences once."
    },
    {
      "cell_type": "markdown",
      "metadata": {},
      "source": "## Metadata \u6458\u8981\n- **Source**: [LeetCode](https://leetcode.com/problems/remove-duplicates-from-sorted-array/)\n- **Tags**: Two Pointers, Array, In-place\n- **Difficulty**: Easy\n- **Priority**: High"
    },
    {
      "cell_type": "markdown",
      "metadata": {},
      "source": "## Problem Statement \u539f\u9898\u63cf\u8ff0\nGiven an integer array nums sorted in non-decreasing order, remove the duplicates in-place such that each unique element appears only once. The relative order of the elements should be kept the same. Because it is impossible to change the length of the array in place, you must place the result in the first part of the array nums. Return the number of unique elements k. Consider the first k slots of nums as the final result; the values beyond k can be ignored."
    },
    {
      "cell_type": "markdown",
      "metadata": {},
      "source": "## Constraints\n- 1 <= nums.length <= 3 * 10^4\n- -10^4 <= nums[i] <= 10^4\n- nums is sorted in non-decreasing order"
    },
    {
      "cell_type": "markdown",
      "metadata": {},
      "source": "## Progressive Hints\n- **Hint 1**: Track what happens if you simply iterate once while writing unique values forward.\n- **Hint 2**: Use one pointer to read and one pointer to write; decide when to copy.\n- **Hint 3**: Consider how to handle consecutive duplicates without extra memory."
    },
    {
      "cell_type": "markdown",
      "metadata": {},
      "source": "## Solution Overview\nMove a slow pointer that marks the write position whenever the fast pointer discovers a new value, copying unique elements forward in a single pass."
    },
    {
      "cell_type": "markdown",
      "metadata": {},
      "source": "## Detailed Explanation\n1. Initialize slow=0 to point at the position of the last unique value found so far.\n2. Iterate fast from 1 to n-1. Whenever nums[fast] differs from nums[slow], increment slow and copy nums[fast] to nums[slow], extending the unique prefix.\n3. After the scan, the first slow+1 positions store all unique elements in order and slow+1 is the answer k.\n4. The tail of the array remains untouched but is outside the required region, so we leave it as is."
    },
    {
      "cell_type": "markdown",
      "metadata": {},
      "source": "## Complexity Trade-off Table\n| Approach | Time | Space | Notes |\n| --- | --- | --- | --- |\n| Use an auxiliary set to track seen | O(n) | O(n) | Simple but violates in-place requirement. |\n| Two-pointer overwrite | O(n) | O(1) | Single pass, stable order. |"
    },
    {
      "cell_type": "code",
      "metadata": {},
      "execution_count": null,
      "outputs": [],
      "source": "from typing import List\n\n\ndef remove_duplicates(nums: List[int]) -> int:\n    if not nums:\n        return 0\n    slow = 0\n    for fast in range(1, len(nums)):\n        if nums[fast] != nums[slow]:\n            slow += 1\n            nums[slow] = nums[fast]\n    return slow + 1\n\n\ndef run_tests():\n    tests = [\n        (([1, 1, 2],), ([1, 2, 2], 2)),\n        (([0, 0, 1, 1, 1, 2, 2, 3, 3, 4],), ([0, 1, 2, 3, 4, 2, 2, 3, 3, 4], 5)),\n        (([1],), ([1], 1)),\n    ]\n    for (nums,), (expected_prefix, expected_k) in tests:\n        k = remove_duplicates(nums)\n        assert k == expected_k\n        assert nums[:k] == expected_prefix[:k]\n\n\nrun_tests()"
    },
    {
      "cell_type": "markdown",
      "metadata": {},
      "source": "## Complexity Analysis\n- Each fast pointer visit does constant work, so runtime is linear in len(nums).\n- Only two integer indices are stored in addition to the input array => O(1) space."
    },
    {
      "cell_type": "markdown",
      "metadata": {},
      "source": "## Edge Cases & Pitfalls\n- Array with all duplicates should collapse to length 1.\n- Already unique array should keep original order and length.\n- Empty input must return 0 without touching indices."
    },
    {
      "cell_type": "markdown",
      "metadata": {},
      "source": "## Follow-up Variants\n- Generalize to keep at most m duplicates (see LC 80).\n- Stream the array so that new numbers arrive; how would you apply the pattern online?"
    },
    {
      "cell_type": "markdown",
      "metadata": {},
      "source": "## Takeaways\n- Fast/slow pointer patterns make in-place deduplication trivial.\n- Always reason about the region that is guaranteed to be clean (prefix) versus the region yet to process."
    },
    {
      "cell_type": "markdown",
      "metadata": {},
      "source": "## Similar Problems\n| Problem ID | Problem Title | Technique |\n| --- | --- | --- |\n| 80 | Remove Duplicates from Sorted Array II | Two-pointer with duplicate budget |\n| 27 | Remove Element | Overwrite region with slow pointer |\n| 283 | Move Zeroes | Stable compaction |"
    }
  ],
  "metadata": {
    "kernelspec": {
      "display_name": "Python 3",
      "language": "python",
      "name": "python3"
    },
    "language_info": {
      "name": "python",
      "version": "3.8"
    }
  },
  "nbformat": 4,
  "nbformat_minor": 5
}