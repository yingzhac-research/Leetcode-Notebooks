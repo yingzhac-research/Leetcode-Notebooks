{
  "cells": [
    {
      "cell_type": "markdown",
      "metadata": {},
      "source": "# 209. Minimum Size Subarray Sum"
    },
    {
      "cell_type": "markdown",
      "metadata": {},
      "source": "## Topic Alignment\n- Applies two-pointer or sliding window reasoning to minimum size subarray sum, mirroring optimization of streaming features in production ML pipelines.\n- Reinforces how to maintain minimal state while scanning large sequences once."
    },
    {
      "cell_type": "markdown",
      "metadata": {},
      "source": "## Metadata \u6458\u8981\n- **Source**: [LeetCode](https://leetcode.com/problems/minimum-size-subarray-sum/)\n- **Tags**: Sliding Window, Array\n- **Difficulty**: Medium\n- **Priority**: High"
    },
    {
      "cell_type": "markdown",
      "metadata": {},
      "source": "## Problem Statement \u539f\u9898\u63cf\u8ff0\nGiven an array of positive integers nums and a positive integer target, return the minimal length of a contiguous subarray whose sum is greater than or equal to target. If there is no such subarray, return 0 instead."
    },
    {
      "cell_type": "markdown",
      "metadata": {},
      "source": "## Constraints\n- 1 <= target <= 10^9\n- 1 <= nums.length <= 10^5\n- 1 <= nums[i] <= 10^4"
    },
    {
      "cell_type": "markdown",
      "metadata": {},
      "source": "## Progressive Hints\n- **Hint 1**: Because numbers are positive, shrinking the window only decreases the sum.\n- **Hint 2**: Use a sliding window to avoid recomputing sums from scratch.\n- **Hint 3**: Keep track of the best window length as you go."
    },
    {
      "cell_type": "markdown",
      "metadata": {},
      "source": "## Solution Overview\nExpand a window until the running sum meets or exceeds target, then shrink from the left while maintaining the invariant to record minimal length."
    },
    {
      "cell_type": "markdown",
      "metadata": {},
      "source": "## Detailed Explanation\n1. Initialize left=0, current_sum=0, best=inf.\n2. For right from 0 to n-1, add nums[right] to current_sum.\n3. While current_sum >= target, update best with min(best, right-left+1), subtract nums[left] from current_sum, and move left forward.\n4. After the loop, return best if finite else 0."
    },
    {
      "cell_type": "markdown",
      "metadata": {},
      "source": "## Complexity Trade-off Table\n| Approach | Time | Space | Notes |\n| --- | --- | --- | --- |\n| Prefix sums + binary search | O(n log n) | O(n) | Works when values may be zero. |\n| Sliding window | O(n) | O(1) | Uses positivity property. |"
    },
    {
      "cell_type": "code",
      "metadata": {},
      "execution_count": null,
      "outputs": [],
      "source": "from typing import List\n\n\ndef min_sub_array_len(target: int, nums: List[int]) -> int:\n    left = 0\n    current_sum = 0\n    best = float('inf')\n    for right, val in enumerate(nums):\n        current_sum += val\n        while current_sum >= target:\n            best = min(best, right - left + 1)\n            current_sum -= nums[left]\n            left += 1\n    return 0 if best == float('inf') else best\n\n\ndef run_tests():\n    tests = [\n        ((7, [2, 3, 1, 2, 4, 3]), 2),\n        ((4, [1, 4, 4]), 1),\n        ((11, [1, 2, 3, 4, 5]), 3),\n        ((100, [1, 2, 3]), 0),\n    ]\n    for args, expected in tests:\n        assert min_sub_array_len(*args) == expected\n\n\nrun_tests()"
    },
    {
      "cell_type": "markdown",
      "metadata": {},
      "source": "## Complexity Analysis\n- Each index enters and leaves the window once => O(n) time.\n- Only a few scalars are tracked => O(1) extra space."
    },
    {
      "cell_type": "markdown",
      "metadata": {},
      "source": "## Edge Cases & Pitfalls\n- Target larger than total sum should return 0.\n- Single element equal to target should return 1.\n- Large inputs require 64-bit sum to avoid overflow in other languages."
    },
    {
      "cell_type": "markdown",
      "metadata": {},
      "source": "## Follow-up Variants\n- Handle arrays containing zero or negative numbers (sliding window no longer works as-is).\n- Answer range queries in online fashion with segment trees or prefix sums."
    },
    {
      "cell_type": "markdown",
      "metadata": {},
      "source": "## Takeaways\n- Positivity is the key property enabling a shrinking window.\n- Always verify the invariant that the window is minimal when you update best."
    },
    {
      "cell_type": "markdown",
      "metadata": {},
      "source": "## Similar Problems\n| Problem ID | Problem Title | Technique |\n| --- | --- | --- |\n| 76 | Minimum Window Substring | Sliding window |\n| 862 | Shortest Subarray with Sum at Least K | Monotonic deque |\n| 1004 | Max Consecutive Ones III | Window with capacity |"
    }
  ],
  "metadata": {
    "kernelspec": {
      "display_name": "Python 3",
      "language": "python",
      "name": "python3"
    },
    "language_info": {
      "name": "python",
      "version": "3.8"
    }
  },
  "nbformat": 4,
  "nbformat_minor": 5
}