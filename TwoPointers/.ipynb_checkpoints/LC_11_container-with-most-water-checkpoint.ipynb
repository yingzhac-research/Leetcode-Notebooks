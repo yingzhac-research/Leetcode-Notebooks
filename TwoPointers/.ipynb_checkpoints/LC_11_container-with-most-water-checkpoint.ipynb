{
  "cells": [
    {
      "cell_type": "markdown",
      "metadata": {},
      "source": "# 11. Container With Most Water"
    },
    {
      "cell_type": "markdown",
      "metadata": {},
      "source": "## Topic Alignment\n- Optimizing sliding window style feature extraction in data pipelines.\n- Teaches candidates to reason about boundary movement heuristics."
    },
    {
      "cell_type": "markdown",
      "metadata": {},
      "source": "## Metadata \u6458\u8981\n- **Source**: [LeetCode](https://leetcode.com/problems/container-with-most-water/)\n- **Tags**: Two Pointers, Greedy, Array\n- **Difficulty**: Medium\n- **Priority**: High"
    },
    {
      "cell_type": "markdown",
      "metadata": {},
      "source": "## Problem Statement \u539f\u9898\u63cf\u8ff0\nYou are given an integer array height of length n. There are n vertical lines drawn such that the two endpoints of the i-th line are (i, 0) and (i, height[i]). Find two lines that together with the x-axis form a container that holds the most water. Return the maximum area of water the container can store."
    },
    {
      "cell_type": "markdown",
      "metadata": {},
      "source": "## Constraints\n- 2 <= n <= 10^5\n- 0 <= height[i] <= 10^4"
    },
    {
      "cell_type": "markdown",
      "metadata": {},
      "source": "## Progressive Hints\n- **Hint 1**: Consider the brute force baseline and identify redundant comparisons.\n- **Hint 2**: Think about how the area changes when you move the shorter pointer.\n- **Hint 3**: The optimal solution relies on always discarding the limiting height."
    },
    {
      "cell_type": "markdown",
      "metadata": {},
      "source": "## Solution Overview\nMaintain two pointers at the extremes, compute area, move the smaller height inward to search for a taller boundary while the width shrinks."
    },
    {
      "cell_type": "markdown",
      "metadata": {},
      "source": "## Detailed Explanation\n1. Sort is not needed because the x-coordinates are fixed; the container width is determined by pointer positions.\n2. Start with left=0 and right=n-1. At each step compute width=right-left and area=width*min(height[left], height[right]).\n3. Update the best area so far. To find a potentially larger area, move the pointer pointing to the shorter line inward, because increasing height is the only way to compensate for the shrinking width.\n4. Continue until the pointers cross. This strategy leverages the fact that moving the taller line cannot improve the area if the shorter one remains the bottleneck."
    },
    {
      "cell_type": "markdown",
      "metadata": {},
      "source": "## Complexity Trade-off Table\n| Approach | Time | Space | Notes |\n| --- | --- | --- | --- |\n| Brute force pair enumeration | O(n^2) | O(1) | Checks all pairs; infeasible for n up to 10^5. |\n| Two-pointer shrink from both ends | O(n) | O(1) | Keeps best area while discarding dominated pairs. |"
    },
    {
      "cell_type": "code",
      "metadata": {},
      "execution_count": null,
      "outputs": [],
      "source": "from typing import List\n\n\ndef max_area(height: List[int]) -> int:\n    left, right = 0, len(height) - 1\n    best = 0\n    while left < right:\n        width = right - left\n        best = max(best, width * min(height[left], height[right]))\n        if height[left] < height[right]:\n            left += 1\n        else:\n            right -= 1\n    return best\n\n\ndef run_tests():\n    tests = [\n        (([1, 8, 6, 2, 5, 4, 8, 3, 7],), 49),\n        (([1, 1],), 1),\n        (([4, 3, 2, 1, 4],), 16),\n        (([1, 2, 1],), 2),\n    ]\n    for args, expected in tests:\n        assert max_area(*args) == expected\n\n\nrun_tests()"
    },
    {
      "cell_type": "markdown",
      "metadata": {},
      "source": "## Complexity Analysis\n- The loop moves one pointer each iteration, so at most n-1 iterations => O(n) time.\n- Only a handful of integer variables are used => O(1) auxiliary space."
    },
    {
      "cell_type": "markdown",
      "metadata": {},
      "source": "## Edge Cases & Pitfalls\n- All heights zero should return 0.\n- Monotonic heights still require exploring both sides to find optimal pair.\n- Large n requires guarding against quadratic solutions."
    },
    {
      "cell_type": "markdown",
      "metadata": {},
      "source": "## Follow-up Variants\n- How would you adapt the approach if lines could have varying thickness or be removed dynamically?\n- Extend to 3D container with height grid and discuss complexity trade-offs."
    },
    {
      "cell_type": "markdown",
      "metadata": {},
      "source": "## Takeaways\n- When width shrinks predictably, focus on improving the limiting dimension.\n- Two-pointer sweeps can avoid sorting when indices are meaningful coordinates."
    },
    {
      "cell_type": "markdown",
      "metadata": {},
      "source": "## Similar Problems\n| Problem ID | Problem Title | Technique |\n| --- | --- | --- |\n| 42 | Trapping Rain Water | Two-pointer water trapping |\n| 15 | 3Sum | Sorted array + opposing pointers |\n| 838 | Push Dominoes | Bidirectional sweep |"
    }
  ],
  "metadata": {
    "kernelspec": {
      "display_name": "Python 3",
      "language": "python",
      "name": "python3"
    },
    "language_info": {
      "name": "python",
      "version": "3.8"
    }
  },
  "nbformat": 4,
  "nbformat_minor": 5
}