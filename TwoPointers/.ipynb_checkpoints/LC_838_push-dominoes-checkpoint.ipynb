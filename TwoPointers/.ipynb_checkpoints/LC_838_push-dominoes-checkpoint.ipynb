{
  "cells": [
    {
      "cell_type": "markdown",
      "metadata": {},
      "source": "# 838. Push Dominoes"
    },
    {
      "cell_type": "markdown",
      "metadata": {},
      "source": "## Topic Alignment\n- Bidirectional sweeps model opposing forces, mirroring how streaming systems reconcile signals from both ends.\n- Encourages reasoning about state propagation with minimal passes using pointer-style scans."
    },
    {
      "cell_type": "markdown",
      "metadata": {},
      "source": "## Metadata \u6458\u8981\n- **Source**: [LeetCode](https://leetcode.com/problems/push-dominoes/)\n- **Tags**: Two Pointers, Simulation, String\n- **Difficulty**: Medium\n- **Priority**: Medium"
    },
    {
      "cell_type": "markdown",
      "metadata": {},
      "source": "## Problem Statement \u539f\u9898\u63cf\u8ff0\nThere are n dominoes in a line, and each domino is a tile with two sides\u2014an upright side represented by '.', and two falling directions 'L' and 'R'. You are given a string dominoes representing the initial state, where:\n- dominoes[i] = 'L' if the i-th domino has been pushed to the left,\n- dominoes[i] = 'R' if the i-th domino has been pushed to the right,\n- dominoes[i] = '.' if the i-th domino has not been pushed.\nReturn the final state of the dominoes after all pushes resolve."
    },
    {
      "cell_type": "markdown",
      "metadata": {},
      "source": "## Constraints\n- n == dominoes.length\n- 1 <= n <= 10^5\n- dominoes[i] is 'L', 'R', or '.'"
    },
    {
      "cell_type": "markdown",
      "metadata": {},
      "source": "## Progressive Hints\n- **Hint 1**: \u60f3\u8c61\u4ece\u5de6\u5411\u53f3\u3001\u4ece\u53f3\u5411\u5de6\u5404\u626b\u63cf\u4e00\u6b21\uff0c\u8bb0\u5f55\u6700\u8fd1\u4e00\u6b21\u5411\u53f3/\u5411\u5de6\u7684\u63a8\u52a8\u3002\n- **Hint 2**: \u5f53\u4e24\u4e2a\u65b9\u5411\u7684\u63a8\u52a8\u76f8\u9047\u65f6\uff0c\u6839\u636e\u8ddd\u79bb\u51b3\u5b9a\u5012\u5411\u6216\u4fdd\u6301\u3002\n- **Hint 3**: \u5904\u7406\u8fb9\u754c\u65f6\uff0c\u672a\u88ab\u4efb\u4f55\u529b\u5f71\u54cd\u7684\u591a\u7c73\u8bfa\u4fdd\u6301\u76f4\u7acb\u3002"
    },
    {
      "cell_type": "markdown",
      "metadata": {},
      "source": "## Solution Overview\nUse two directional sweeps (left-to-right and right-to-left) to record the nearest push forces, then combine them to determine the final state in a single pass."
    },
    {
      "cell_type": "markdown",
      "metadata": {},
      "source": "## Detailed Explanation\n1. \u4ece\u5de6\u5411\u53f3\u626b\u63cf\uff0c\u8bb0\u5f55\u6bcf\u4e2a\u4f4d\u7f6e\u8ddd\u79bb\u4e0a\u4e00\u4e2a 'R' \u7684\u6b65\u6570\uff08\u82e5\u65e0\u5219\u8bbe\u4e3a\u65e0\u7a77\uff09\uff0c\u5f97\u5230 right_forces \u6570\u7ec4\u3002\n2. \u518d\u4ece\u53f3\u5411\u5de6\u626b\u63cf\uff0c\u8bb0\u5f55\u8ddd\u79bb\u6700\u8fd1 'L' \u7684\u6b65\u6570\uff0c\u5f97\u5230 left_forces \u6570\u7ec4\u3002\n3. \u5bf9\u6bcf\u4e2a\u4f4d\u7f6e\u6bd4\u8f83\u5de6\u53f3\u529b\u91cf\uff1a\u82e5\u4e24\u8005\u90fd\u4e0d\u5b58\u5728\uff0c\u5219\u4fdd\u6301 '.'\uff1b\u82e5\u53ea\u6709\u4e00\u4fa7\u5b58\u5728\uff0c\u5012\u5411\u5bf9\u5e94\u65b9\u5411\uff1b\u82e5\u4e24\u4fa7\u90fd\u5b58\u5728\uff0c\u6bd4\u8f83\u6b65\u6570\u5927\u5c0f\uff0c\u8ddd\u79bb\u5c0f\u7684\u4e00\u4fa7\u83b7\u80dc\uff0c\u8ddd\u79bb\u76f8\u7b49\u5219\u4fdd\u6301\u76f4\u7acb\u3002\n4. \u8be5\u65b9\u6cd5\u7b49\u4ef7\u4e8e\u53cc\u5411\u6307\u9488/\u904d\u5386\u7684\u201c\u6269\u6563\u201d\u6a21\u62df\uff0c\u65f6\u95f4 O(n)\u3002"
    },
    {
      "cell_type": "markdown",
      "metadata": {},
      "source": "## Complexity Trade-off Table\n| Approach | Time | Space | Notes |\n| --- | --- | --- | --- |\n| \u9010\u8f6e\u6a21\u62df\u5012\u5411 | O(n^2) | O(1) | \u6bcf\u8f6e\u63a8\u8fdb\u6162\uff0c\u8d85\u65f6\u3002 |\n| \u53cc\u5411\u529b\u573a\u626b\u4e00\u904d | O(n) | O(n) | \u501f\u52a9\u6570\u7ec4\u8bb0\u5f55\u5f71\u54cd\u8ddd\u79bb\uff0c\u5feb\u901f\u5224\u5b9a\u6700\u7ec8\u72b6\u6001\u3002 |\n| \u53cc\u6307\u9488\u8bb0\u5f55\u533a\u6bb5 | O(n) | O(1) | \u6309 R...L \u533a\u95f4\u5904\u7406\uff0c\u903b\u8f91\u7565\u590d\u6742\u3002 |"
    },
    {
      "cell_type": "code",
      "metadata": {},
      "execution_count": null,
      "outputs": [],
      "source": "from typing import List\nimport math\n\n\ndef push_dominoes(dominoes: str) -> str:\n    n = len(dominoes)\n    right_force = [math.inf] * n\n    left_force = [math.inf] * n\n\n    force = math.inf\n    for i, ch in enumerate(dominoes):\n        if ch == 'R':\n            force = 0\n        elif ch == 'L':\n            force = math.inf\n        else:\n            if force < math.inf:\n                force += 1\n        right_force[i] = force\n\n    force = math.inf\n    for i in range(n - 1, -1, -1):\n        ch = dominoes[i]\n        if ch == 'L':\n            force = 0\n        elif ch == 'R':\n            force = math.inf\n        else:\n            if force < math.inf:\n                force += 1\n        left_force[i] = force\n\n    result = []\n    for i in range(n):\n        if left_force[i] == right_force[i]:\n            result.append('.')\n        elif left_force[i] < right_force[i]:\n            result.append('L')\n        elif right_force[i] < left_force[i]:\n            result.append('R')\n        else:\n            result.append(dominoes[i])\n    return ''.join(result)\n\n\ndef run_tests() -> None:\n    tests = [\n        (\".L.R...LR..L..\", \"LL.RR.LLRRLL..\"),\n        (\"RR.L\", \"RR.L\"),\n        (\".\", \".\"),\n        (\"R\", \"R\"),\n        (\"L\", \"L\"),\n    ]\n    for dominoes, expected in tests:\n        assert push_dominoes(dominoes) == expected\n\n\nif __name__ == \"__main__\":\n    run_tests()"
    },
    {
      "cell_type": "markdown",
      "metadata": {},
      "source": "## Complexity Analysis\n- \u5de6\u53f3\u5404\u626b\u4e00\u6b21 + \u6700\u7ec8\u7ec4\u5408 => O(n) \u65f6\u95f4\u3002\n- \u989d\u5916\u6570\u7ec4\u8bb0\u5f55\u8ddd\u79bb => O(n) \u7a7a\u95f4\uff0c\u53ef\u901a\u8fc7\u53cc\u6307\u9488\u533a\u6bb5\u6cd5\u964d\u5230 O(1)\u3002"
    },
    {
      "cell_type": "markdown",
      "metadata": {},
      "source": "## Edge Cases & Pitfalls\n- \u5168\u4e3a '.' \u65f6\u4fdd\u6301\u4e0d\u53d8\u3002\n- \u4ee5 'R' \u5f00\u5934\u6216\u4ee5 'L' \u7ed3\u5c3e\u7684\u529b\u91cf\u5411\u5916\u6269\u6563\uff0c\u53e6\u4e00\u4fa7\u89c6\u4e3a\u65e0\u7a77\u8fdc\u3002\n- \u9047\u5230 R...L \u533a\u6bb5\u65f6\u8981\u6ce8\u610f\u5947\u5076\u957f\u5ea6\u5bfc\u81f4\u7684\u4e2d\u95f4\u72b6\u6001\u3002"
    },
    {
      "cell_type": "markdown",
      "metadata": {},
      "source": "## Follow-up Variants\n- \u5982\u4f55\u5728 O(1) \u7a7a\u95f4\u5185\u5b8c\u6210\uff1f\u53ef\u5728\u904d\u5386\u65f6\u6309\u533a\u6bb5\u5904\u7406\u3002\n- \u5982\u679c\u6709\u4e0d\u540c\u901f\u5ea6\u7684\u63a8\u52a8\u5982\u4f55\u5904\u7406\uff1f\u9700\u8981\u8bb0\u5f55\u66f4\u591a\u529b\u4fe1\u606f\u3002"
    },
    {
      "cell_type": "markdown",
      "metadata": {},
      "source": "## Takeaways\n- \u53cc\u5411\u626b\u63cf\u662f\u89e3\u51b3\u76f8\u53cd\u529b\u91cf\u7ade\u4e89\u7684\u901a\u7528\u6280\u5de7\u3002\n- \u7528\u65e0\u7a77\u5927\u8868\u793a\u201c\u672a\u5f71\u54cd\u201d\u53ef\u4ee5\u4fdd\u6301\u4ee3\u7801\u6574\u6d01\u3002"
    },
    {
      "cell_type": "markdown",
      "metadata": {},
      "source": "## Similar Problems\n| Problem ID | Problem Title | Technique |\n| --- | --- | --- |\n| 11 | Container With Most Water | Bidirectional reasoning |\n| 424 | Longest Repeating Character Replacement | Window pressure tracking |\n| 207 | Course Schedule | Graph propagation |"
    }
  ],
  "metadata": {
    "kernelspec": {
      "display_name": "Python 3",
      "language": "python",
      "name": "python3"
    },
    "language_info": {
      "name": "python",
      "version": "3.8"
    }
  },
  "nbformat": 4,
  "nbformat_minor": 5
}