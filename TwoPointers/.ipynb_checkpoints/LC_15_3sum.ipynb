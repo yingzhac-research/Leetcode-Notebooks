{
 "cells": [
  {
   "cell_type": "markdown",
   "metadata": {},
   "source": "# 15. 3Sum"
  },
  {
   "cell_type": "markdown",
   "metadata": {},
   "source": "## Topic Alignment\n- **Role Relevance**: Highlights pairwise correlation detection after sorting, useful when reconciling multi-feature interactions in ranking or recommendation pipelines.\n- **Scenario**: Supports deduplicating triple combinations that sum to a neutral value, analogous to balancing opposing feature weights in model feature engineering."
  },
  {
   "cell_type": "markdown",
   "metadata": {},
   "source": "## Metadata Summary\n- Source: [LeetCode - 3Sum](https://leetcode.com/problems/3sum/)\n- Tags: `Array`, `Two Pointers`, `Hash Table`\n- Difficulty: Medium\n- Recommended Priority: High"
  },
  {
   "cell_type": "markdown",
   "metadata": {},
   "source": "## Problem Statement\nGiven an integer array `nums`, return all the triplets `[nums[i], nums[j], nums[k]]` such that `i != j`, `i != k`, `j != k`, and `nums[i] + nums[j] + nums[k] == 0`.\n\nThe solution set must not contain duplicate triplets."
  },
  {
   "cell_type": "markdown",
   "metadata": {},
   "source": "## Constraints\n- `3 <= nums.length <= 3000`\n- `-10^5 <= nums[i] <= 10^5`\n- A valid answer requires each unique triplet only once"
  },
  {
   "cell_type": "markdown",
   "metadata": {},
   "source": "## Progressive Hints\n- Hint 1: Sorting the array enables structured scanning and easier duplicate handling.\n- Hint 2: After choosing the first element, use two pointers to find complementary pairs that sum to the negative of that element.\n- Hint 3: Skip duplicates at both the first index and while moving the pointers to avoid repeated triplets."
  },
  {
   "cell_type": "markdown",
   "metadata": {},
   "source": "## Solution Overview\nSort `nums` and iterate through it, treating each index as a fixed anchor. For each anchor, use a two-pointer sweep across the remaining suffix to find pairs that complement the anchor to zero, skipping duplicates as you go."
  },
  {
   "cell_type": "markdown",
   "metadata": {},
   "source": "## Detailed Explanation\n1. Sort `nums` to bring equal values together and enable the two-pointer technique.\n2. Loop through each index `i` up to `len(nums) - 3`, treating `nums[i]` as the first element of a potential triplet. Skip `i` if it repeats the previous value to prevent duplicate triplets.\n3. For each `i`, initialize two pointers: `left = i + 1` and `right = len(nums) - 1`.\n4. Compute the current sum: `current = nums[i] + nums[left] + nums[right]`.\n   - If `current == 0`, add the triplet to the result, then move both pointers inward while skipping duplicates.\n   - If `current < 0`, increment `left` to increase the sum.\n   - If `current > 0`, decrement `right` to decrease the sum.\n5. Continue until `left` and `right` cross.\n6. Collect all unique triplets found during the process."
  },
  {
   "cell_type": "markdown",
   "metadata": {},
   "source": "## Complexity Trade-off Table\n| Approach | Time Complexity | Space Complexity | Notes |\n| --- | --- | --- | --- |\n| Brute-force triple nested loops | O(n^3) | O(1) | Simple but infeasible for n up to 3000. |\n| Sort + two pointers | O(n^2) | O(1) extra | Optimal for this constraint; dedup handled via sorting. |"
  },
  {
   "cell_type": "code",
   "metadata": {},
   "execution_count": null,
   "outputs": [],
   "source": "from typing import List\n\n\ndef threeSum(nums: List[int]) -> List[List[int]]:\n    \"\"\"Return all unique triplets that sum to zero using sorting and two pointers.\"\"\"\n    nums.sort()\n    triplets: List[List[int]] = []\n\n    for i in range(len(nums)):\n        if i > 0 and nums[i] == nums[i - 1]:\n            continue  # Skip duplicate anchors to avoid repeated triplets.\n        target = -nums[i]\n        left, right = i + 1, len(nums) - 1\n\n        while left < right:\n            current = nums[left] + nums[right]\n            if current == target:\n                triplets.append([nums[i], nums[left], nums[right]])\n                left += 1\n                right -= 1\n                while left < right and nums[left] == nums[left - 1]:\n                    left += 1  # Skip duplicate left values.\n                while left < right and nums[right] == nums[right + 1]:\n                    right -= 1  # Skip duplicate right values.\n            elif current < target:\n                left += 1  # Need a larger sum; move left pointer.\n            else:\n                right -= 1  # Need a smaller sum; move right pointer.\n    return triplets\n"
  },
  {
   "cell_type": "markdown",
   "metadata": {},
   "source": "## Complexity Analysis\n- Time Complexity: `O(n^2)` from the outer loop and inner two-pointer sweep.\n- Space Complexity: `O(1)` auxiliary (ignoring output) because operations occur in place after sorting.\n- Primary Bottleneck: Sorting cost `O(n log n)` followed by quadratic scanning; the `O(n^2)` term dominates for large `n`."
  },
  {
   "cell_type": "markdown",
   "metadata": {},
   "source": "## Edge Cases & Pitfalls\n- Arrays with fewer than three numbers should return an empty list.\n- Handling duplicates is critical; forgetting to skip them leads to repeated triplets.\n- Large positive or negative values are manageable after sorting; ensure no integer overflow in languages with fixed-width integers."
  },
  {
   "cell_type": "markdown",
   "metadata": {},
   "source": "## Follow-up Variants\n- 3Sum Closest: find a triplet whose sum is closest to a target value.\n- 4Sum or k-Sum: extend the technique to more numbers using recursion or iterative generalization.\n- Count-only version: return the number of unique triplets rather than the triplets themselves."
  },
  {
   "cell_type": "markdown",
   "metadata": {},
   "source": "## Takeaways\n- Sorting plus two pointers transforms a cubic search into quadratic time.\n- Deduplication logic is as important as the underlying search technique.\n- The pattern generalizes to other sum problems by anchoring fewer elements and reusing the two-pointer sweep."
  },
  {
   "cell_type": "markdown",
   "metadata": {},
   "source": "## Similar Problems\n| Problem ID | Problem Title | Technique |\n| --- | --- | --- |\n| 1 | Two Sum | Hash map lookup |\n| 16 | 3Sum Closest | Two pointers after sorting |\n| 18 | 4Sum | Recursive k-sum with two-pointer base |"
  },
  {
   "cell_type": "markdown",
   "metadata": {},
   "source": "## Generalizing to N-Sum\nTo extend 3Sum to an `n`-sum template:\n- **Recursive decomposition**: Sort the array, fix one element, and recursively solve the `(n-1)`-sum problem on the suffix until the base case reduces to 2-sum (two pointers).\n- **Pruning**: At each recursion level, skip duplicate anchors and apply range pruning by comparing minimal and maximal achievable sums to the remaining target.\n- **Performance**: Overall time is `O(n^{k-1})` for `k`-sum using sorting and recursion, which is exponential in `k` but practical for small `k` such as 3 or 4.\n- **Implementation tip**: Pass the remaining target and current combination list down the recursion, appending complete combinations when the target reaches zero at the 2-sum base layer."
  }
 ],
 "metadata": {
  "kernelspec": {
   "display_name": "Python 3",
   "language": "python",
   "name": "python3"
  },
  "language_info": {
   "name": "python",
   "version": "3"
  }
 },
 "nbformat": 4,
 "nbformat_minor": 5
}