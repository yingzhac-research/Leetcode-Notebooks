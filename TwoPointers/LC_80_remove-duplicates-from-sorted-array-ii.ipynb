{
 "cells": [
  {
   "cell_type": "markdown",
   "id": "a418d8e9",
   "metadata": {},
   "source": "# 80. Remove Duplicates from Sorted Array II\n"
  },
  {
   "cell_type": "markdown",
   "id": "118b67c2",
   "metadata": {},
   "source": "## Topic Alignment\n- Applies two-pointer or sliding window reasoning to remove duplicates from sorted array ii, mirroring optimization of streaming features in production ML pipelines.\n- Reinforces how to maintain minimal state while scanning large sequences once.\n"
  },
  {
   "cell_type": "markdown",
   "id": "5a45f2b0",
   "metadata": {},
   "source": "## Metadata Summary\n- **Source**: [LeetCode](https://leetcode.com/problems/remove-duplicates-from-sorted-array-ii/)\n- **Tags**: Two Pointers, Array\n- **Difficulty**: Medium\n- **Priority**: High\n"
  },
  {
   "cell_type": "markdown",
   "id": "a72e915b",
   "metadata": {},
   "source": "## Problem Statement\nGiven an integer array nums sorted in non-decreasing order, remove some duplicates in-place such that each unique element appears at most twice. The relative order of the elements should be kept. Return the number of elements left in nums after removing the extra duplicates.\n"
  },
  {
   "cell_type": "markdown",
   "id": "614a7d67",
   "metadata": {},
   "source": "## Progressive Hints\n- **Hint1**: Extend the idea from LC26 by tracking how many times the current value has been written.\n- **Hint2**: Use a counter or rely on relative index comparisons.\n- **Hint3**: Ask whether you can avoid resetting the counter explicitly.\n"
  },
  {
   "cell_type": "markdown",
   "id": "98aa7dd2",
   "metadata": {},
   "source": "## Solution Overview\nKeep a write pointer and only copy an element if it would not cause more than two copies of the same value in the prefix.\n"
  },
  {
   "cell_type": "markdown",
   "id": "e8b52540",
   "metadata": {},
   "source": "## Detailed Explanation\n1. Maintain write = 0.\n2. Iterate through nums. For each value, copy it to nums[write] if write < 2 (first two elements) or nums[write-2] != value (ensures we keep at most two copies).\n3. Increment write whenever a copy occurs.\n4. After the loop, write is the new length and the first write elements form the cleaned array.\n"
  },
  {
   "cell_type": "markdown",
   "id": "b81c8e9d",
   "metadata": {},
   "source": "## Complexity Trade-off Table\n| Approach | Time | Space | Notes |\n| --- | --- | --- | --- |\n| Counting per value | O(n) | O(1) | Requires resetting counts when value changes. |\n| Index comparison trick | O(n) | O(1) | Avoids explicit counter by leveraging sorted order. |\n"
  },
  {
   "cell_type": "code",
   "execution_count": null,
   "id": "a5c00432",
   "metadata": {},
   "outputs": [],
   "source": "from typing import List\n\ndef remove_duplicates(nums: List[int]) -> int:    write = 0    for num in nums:        if write < 2 or nums[write - 2] != num:            nums[write] = num            write += 1    return write\n\ndef run_tests():    tests = [        (([1, 1, 1, 2, 2, 3],), ([1, 1, 2, 2, 3, 3], 5)),        (([0, 0, 1, 1, 1, 1, 2, 3, 3],), ([0, 0, 1, 1, 2, 3, 3, 3, 3], 7)),        (([1, 2, 3],), ([1, 2, 3], 3)),    ]    for (nums,), (expected_prefix, expected_k) in tests:        k = remove_duplicates(nums)        assert k == expected_k        assert nums[:k] == expected_prefix[:k]\n\nrun_tests()"
  },
  {
   "cell_type": "markdown",
   "id": "f57af4e7",
   "metadata": {},
   "source": "## Complexity Analysis\n- Each value is processed exactly once => O(n) time.\n- Only the write index is tracked, so auxiliary space is constant.\n"
  },
  {
   "cell_type": "markdown",
   "id": "70d62d39",
   "metadata": {},
   "source": "## Edge Cases & Pitfalls\n- Ensure the first two positions always remain intact even if array is short.\n- Sequence with exactly two duplicates should remain unchanged.\n- Handling negative numbers works the same thanks to sorted order.\n"
  },
  {
   "cell_type": "markdown",
   "id": "b975aa96",
   "metadata": {},
   "source": "## Follow-up Variants\n- Generalize to allow at most k duplicates (parameterized).\n- Apply to arrays that arrive in chunks (streaming deduplication).\n"
  },
  {
   "cell_type": "markdown",
   "id": "d1e7acab",
   "metadata": {},
   "source": "## Takeaways\n- Sorted order lets you infer duplicate counts from positions instead of counters.\n- Two-pointer patterns extend easily to bounded frequency constraints.\n"
  },
  {
   "cell_type": "markdown",
   "id": "1d588c6d",
   "metadata": {},
   "source": "## Similar Problems\n| Problem ID | Problem Title | Technique |\n| --- | --- | --- |\n| 26 | Remove Duplicates from Sorted Array | Fast/slow pointer |\n| 283 | Move Zeroes | Stable compaction |\n| 27 | Remove Element | Selective overwrite |\n"
  }
 ],
 "metadata": {
  "kernelspec": {
   "display_name": "Python 3 (ipykernel)",
   "language": "python",
   "name": "python3"
  },
  "language_info": {
   "codemirror_mode": {
    "name": "ipython",
    "version": 3
   },
   "file_extension": ".py",
   "mimetype": "text/x-python",
   "name": "python",
   "nbconvert_exporter": "python",
   "pygments_lexer": "ipython3",
   "version": "3.13.3"
  }
 },
 "nbformat": 4,
 "nbformat_minor": 5
}