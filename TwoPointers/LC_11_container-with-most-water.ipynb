{
 "cells": [
  {
   "cell_type": "markdown",
   "id": "51d88987",
   "metadata": {},
   "source": [
    "# 11. Container With Most Water"
   ]
  },
  {
   "cell_type": "markdown",
   "id": "624cf9d6",
   "metadata": {},
   "source": [
    "## Topic Alignment\n",
    "- Optimizing sliding window style feature extraction in data pipelines.\n",
    "- Teaches candidates to reason about boundary movement heuristics."
   ]
  },
  {
   "cell_type": "markdown",
   "id": "805605de",
   "metadata": {},
   "source": [
    "## Metadata Summary\n",
    "- **Source**: [LeetCode](https://leetcode.com/problems/container-with-most-water/)\n",
    "- **Tags**: Two Pointers, Greedy, Array\n",
    "- **Difficulty**: Medium\n",
    "- **Priority**: High"
   ]
  },
  {
   "cell_type": "markdown",
   "id": "b9471d4c",
   "metadata": {},
   "source": [
    "## Problem Statement\n",
    "You are given an integer array height of length n. There are n vertical lines drawn such that the two endpoints of the i-th line are (i, 0) and (i, height[i]). Find two lines that together with the x-axis form a container that holds the most water. Return the maximum area of water the container can store."
   ]
  },
  {
   "cell_type": "markdown",
   "id": "73d07d33",
   "metadata": {},
   "source": [
    "## Progressive Hints\n",
    "- **Hint 1**: Consider the brute force baseline and identify redundant comparisons.\n",
    "- **Hint 2**: Think about how the area changes when you move the shorter pointer.\n",
    "- **Hint 3**: The optimal solution relies on always discarding the limiting height."
   ]
  },
  {
   "cell_type": "markdown",
   "id": "b80e7c71",
   "metadata": {},
   "source": [
    "## Solution Overview\n",
    "Maintain two pointers at the extremes, compute area, move the smaller height inward to search for a taller boundary while the width shrinks."
   ]
  },
  {
   "cell_type": "markdown",
   "id": "0139beac",
   "metadata": {},
   "source": [
    "## Detailed Explanation\n",
    "1. Sort is not needed because the x-coordinates are fixed; the container width is determined by pointer positions.\n",
    "2. Start with left=0 and right=n-1. At each step compute width=right-left and area=width*min(height[left], height[right]).\n",
    "3. Update the best area so far. To find a potentially larger area, move the pointer pointing to the shorter line inward, because increasing height is the only way to compensate for the shrinking width.\n",
    "4. Continue until the pointers cross. This strategy leverages the fact that moving the taller line cannot improve the area if the shorter one remains the bottleneck."
   ]
  },
  {
   "cell_type": "markdown",
   "id": "32a056bd",
   "metadata": {},
   "source": [
    "## Complexity Trade-off Table\n",
    "| Approach | Time | Space | Notes |\n",
    "| --- | --- | --- | --- |\n",
    "| Brute force pair enumeration | O(n^2) | O(1) | Checks all pairs; infeasible for n up to 10^5. |\n",
    "| Two-pointer shrink from both ends | O(n) | O(1) | Keeps best area while discarding dominated pairs. |"
   ]
  },
  {
   "cell_type": "code",
   "execution_count": 1,
   "id": "226601fe",
   "metadata": {},
   "outputs": [],
   "source": [
    "from typing import List\n",
    "\n",
    "\n",
    "def max_area(height: List[int]) -> int:\n",
    "    left, right = 0, len(height) - 1\n",
    "    best = 0\n",
    "    while left < right:\n",
    "        width = right - left\n",
    "        best = max(best, width * min(height[left], height[right]))\n",
    "        if height[left] < height[right]:\n",
    "            left += 1\n",
    "        else:\n",
    "            right -= 1\n",
    "    return best\n",
    "\n",
    "\n",
    "def run_tests():\n",
    "    tests = [\n",
    "        (([1, 8, 6, 2, 5, 4, 8, 3, 7],), 49),\n",
    "        (([1, 1],), 1),\n",
    "        (([4, 3, 2, 1, 4],), 16),\n",
    "        (([1, 2, 1],), 2),\n",
    "    ]\n",
    "    for args, expected in tests:\n",
    "        assert max_area(*args) == expected\n",
    "\n",
    "\n",
    "run_tests()"
   ]
  },
  {
   "cell_type": "markdown",
   "id": "75900a60",
   "metadata": {},
   "source": [
    "## Complexity Analysis\n",
    "- The loop moves one pointer each iteration, so at most n-1 iterations => O(n) time.\n",
    "- Only a handful of integer variables are used => O(1) auxiliary space."
   ]
  },
  {
   "cell_type": "markdown",
   "id": "ba831187",
   "metadata": {},
   "source": [
    "## Edge Cases & Pitfalls\n",
    "- All heights zero should return 0.\n",
    "- Monotonic heights still require exploring both sides to find optimal pair.\n",
    "- Large n requires guarding against quadratic solutions."
   ]
  },
  {
   "cell_type": "markdown",
   "id": "665ce59e",
   "metadata": {},
   "source": [
    "## Follow-up Variants\n",
    "- How would you adapt the approach if lines could have varying thickness or be removed dynamically?\n",
    "- Extend to 3D container with height grid and discuss complexity trade-offs."
   ]
  },
  {
   "cell_type": "markdown",
   "id": "de219058",
   "metadata": {},
   "source": [
    "## Takeaways\n",
    "- When width shrinks predictably, focus on improving the limiting dimension.\n",
    "- Two-pointer sweeps can avoid sorting when indices are meaningful coordinates."
   ]
  },
  {
   "cell_type": "markdown",
   "id": "08fc0f0d",
   "metadata": {},
   "source": [
    "## Similar Problems\n",
    "| Problem ID | Problem Title | Technique |\n",
    "| --- | --- | --- |\n",
    "| 42 | Trapping Rain Water | Two-pointer water trapping |\n",
    "| 15 | 3Sum | Sorted array + opposing pointers |\n",
    "| 838 | Push Dominoes | Bidirectional sweep |"
   ]
  }
 ],
 "metadata": {
  "kernelspec": {
   "display_name": "Python 3 (ipykernel)",
   "language": "python",
   "name": "python3"
  },
  "language_info": {
   "codemirror_mode": {
    "name": "ipython",
    "version": 3
   },
   "file_extension": ".py",
   "mimetype": "text/x-python",
   "name": "python",
   "nbconvert_exporter": "python",
   "pygments_lexer": "ipython3",
   "version": "3.13.3"
  }
 },
 "nbformat": 4,
 "nbformat_minor": 5
}