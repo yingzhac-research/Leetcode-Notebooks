{
 "cells": [
  {
   "cell_type": "markdown",
   "id": "59fcc346",
   "metadata": {},
   "source": [
    "# 1004. Max Consecutive Ones III\n"
   ]
  },
  {
   "cell_type": "markdown",
   "id": "bdd57f35",
   "metadata": {},
   "source": [
    "## Topic Alignment\n",
    "- Applies two-pointer or sliding window reasoning to max consecutive ones iii, mirroring optimization of streaming features in production ML pipelines.\n",
    "- Reinforces how to maintain minimal state while scanning large sequences once.\n"
   ]
  },
  {
   "cell_type": "markdown",
   "id": "08166b70",
   "metadata": {},
   "source": [
    "## Metadata Summary\n",
    "- **Source**: [LeetCode](https://leetcode.com/problems/max-consecutive-ones-iii/)\n",
    "- **Tags**: Sliding Window, Array\n",
    "- **Difficulty**: Medium\n",
    "- **Priority**: High\n"
   ]
  },
  {
   "cell_type": "markdown",
   "id": "d1928f57",
   "metadata": {},
   "source": [
    "## Problem Statement\n",
    "Given a binary array nums and an integer k, return the maximum number of consecutive1's in the array if you can flip at most k0's to1's.\n"
   ]
  },
  {
   "cell_type": "markdown",
   "id": "d7ef51bc",
   "metadata": {},
   "source": [
    "## Progressive Hints\n",
    "- **Hint1**: Use a sliding window that allows up to k zeros.\n",
    "- **Hint2**: Track the count of zeros in the current window.\n",
    "- **Hint3**: Shrink from the left when zero count exceeds k.\n"
   ]
  },
  {
   "cell_type": "markdown",
   "id": "37764b03",
   "metadata": {},
   "source": [
    "## Solution Overview\n",
    "Maintain a window with counts of zeros; expand right and shrink left so the window always contains at most k zeros, recording max length.\n"
   ]
  },
  {
   "cell_type": "markdown",
   "id": "9025b725",
   "metadata": {},
   "source": [
    "## Detailed Explanation\n",
    "1. Initialize left = 0 and zeros = 0.\n",
    "2. For each right, increment zeros if nums[right]== 0.\n",
    "3. While zeros > k, move left forward and decrement zeros when passing a zero.\n",
    "4. Track max window length encountered.\n"
   ]
  },
  {
   "cell_type": "markdown",
   "id": "3b4a0913",
   "metadata": {},
   "source": [
    "## Complexity Trade-off Table\n",
    "| Approach | Time | Space | Notes |\n",
    "| --- | --- | --- | --- |\n",
    "| Brute-force check every starting point | O(n^2) | O(1) | Too slow. |\n",
    "| Sliding window with zero counter | O(n) | O(1) | Efficient and simple. |\n"
   ]
  },
  {
   "cell_type": "code",
   "execution_count": null,
   "id": "23a0db5a",
   "metadata": {},
   "outputs": [],
   "source": [
    "from typing import List\n",
    "\n",
    "def longest_ones(nums: List[int], k: int) -> int:\n",
    "    left = 0\n",
    "    zeros = 0\n",
    "    best = 0\n",
    "    for right, val in enumerate(nums):\n",
    "        if val == 0:\n",
    "            zeros += 1\n",
    "        while zeros > k:\n",
    "            if nums[left] == 0:\n",
    "                zeros -= 1\n",
    "            left += 1\n",
    "        best = max(best, right - left + 1)\n",
    "    return best\n",
    "\n",
    "\n",
    "def run_tests():\n",
    "    tests = [\n",
    "        (([1, 1, 1, 0, 0, 0, 1, 1, 1, 1, 0], 2), 6),\n",
    "        (([0, 0, 1, 1, 0, 0, 1, 1, 1, 0], 3), 10),\n",
    "        (([0, 0, 0, 0], 0), 0),\n",
    "    ]\n",
    "    for args, expected in tests:\n",
    "        assert longest_ones(*args) == expected\n",
    "\n",
    "\n",
    "run_tests()\n"
   ]
  },
  {
   "cell_type": "markdown",
   "id": "793c566c",
   "metadata": {},
   "source": [
    "## Complexity Analysis\n",
    "- Window expansion and contraction each happen once per index => O(n) time.\n",
    "- Only a few integers stored => O(1) extra space.\n"
   ]
  },
  {
   "cell_type": "markdown",
   "id": "53ef916f",
   "metadata": {},
   "source": [
    "## Edge Cases & Pitfalls\n",
    "- When k equals array length, the answer is len(nums).\n",
    "- When k = 0, algorithm reduces to longest consecutive ones without flips.\n",
    "- Ensure zeros count stays non-negative when shrinking.\n"
   ]
  },
  {
   "cell_type": "markdown",
   "id": "965067ed",
   "metadata": {},
   "source": [
    "## Follow-up Variants\n",
    "- Return the window boundaries instead of length.\n",
    "- Allow flipping ones to zeros under a different budget constraint.\n"
   ]
  },
  {
   "cell_type": "markdown",
   "id": "94fbd948",
   "metadata": {},
   "source": [
    "## Takeaways\n",
    "- This is the same template as other 'at most k replacements' problems.\n",
    "- Count only the resource you are spending (zero flips).\n"
   ]
  },
  {
   "cell_type": "markdown",
   "id": "a6775f9b",
   "metadata": {},
   "source": [
    "## Similar Problems\n",
    "| Problem ID | Problem Title | Technique |\n",
    "| --- | --- | --- |\n",
    "| 424 | Longest Repeating Character Replacement | Window with replacement budget |\n",
    "| 487 | Max Consecutive Ones II | At most one flip |\n",
    "| 995 | Minimum Number of K Consecutive Bit Flips | Sliding window toggles |\n"
   ]
  }
 ],
 "metadata": {
  "kernelspec": {
   "display_name": "Python 3 (ipykernel)",
   "language": "python",
   "name": "python3"
  },
  "language_info": {
   "codemirror_mode": {
    "name": "ipython",
    "version": 3
   },
   "file_extension": ".py",
   "mimetype": "text/x-python",
   "name": "python",
   "nbconvert_exporter": "python",
   "pygments_lexer": "ipython3",
   "version": "3.13.3"
  }
 },
 "nbformat": 4,
 "nbformat_minor": 5
}
