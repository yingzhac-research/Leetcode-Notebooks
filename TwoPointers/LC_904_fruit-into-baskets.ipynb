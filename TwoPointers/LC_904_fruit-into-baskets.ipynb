{
 "cells": [
  {
   "cell_type": "markdown",
   "metadata": {},
   "source": "# 904. Fruit Into Baskets\n"
  },
  {
   "cell_type": "markdown",
   "metadata": {},
   "source": "## Topic Alignment\n- Applies two-pointer or sliding window reasoning to fruit into baskets, mirroring optimization of streaming features in production ML pipelines.\n- Reinforces how to maintain minimal state while scanning large sequences once.\n"
  },
  {
   "cell_type": "markdown",
   "metadata": {},
   "source": "## Metadata Summary\n- **Source**: [LeetCode](https://leetcode.com/problems/fruit-into-baskets/)\n- **Tags**: Sliding Window, Array\n- **Difficulty**: Medium\n- **Priority**: High\n"
  },
  {
   "cell_type": "markdown",
   "metadata": {},
   "source": "## Problem Statement\nYou are visiting a row of fruit trees, where fruits[i] represents the type of fruit on the i-th tree. You have two baskets and each basket can hold any quantity of a single type of fruit, but you can only pick one fruit per tree. Starting from any tree, you must pick exactly one fruit from every tree until you cannot pick anymore. Return the maximum number of fruits you can pick.\n"
  },
  {
   "cell_type": "markdown",
   "metadata": {},
   "source": "## Progressive Hints\n- **Hint1**: The problem reduces to finding the longest subarray with at most two distinct values.\n- **Hint2**: Use a sliding window tracking counts of fruit types.\n- **Hint3**: When more than two types are present, shrink from the left.\n"
  },
  {
   "cell_type": "markdown",
   "metadata": {},
   "source": "## Solution Overview\nMaintain a sliding window with counts of each fruit type, expanding right and shrinking left until only two types remain, tracking the largest window size.\n"
  },
  {
   "cell_type": "markdown",
   "metadata": {},
   "source": "## Detailed Explanation\n1. Keep a dictionary counts and two pointers left and right.\n2. For each right, add fruits[right] to counts.\n3. While the number of keys exceeds2, decrement counts[fruits[left]] and remove it when zero, then increment left.\n4. Record the maximum window length encountered.\n"
  },
  {
   "cell_type": "markdown",
   "metadata": {},
   "source": "## Complexity Trade-off Table\n| Approach | Time | Space | Notes |\n| --- | --- | --- | --- |\n| Check all subarrays | O(n^2) | O(1) | Too slow. |\n| Sliding window with hashmap | O(n) | O(1) | At most two keys stored. |\n"
  },
  {
   "cell_type": "code",
   "metadata": {},
   "execution_count": null,
   "outputs": [],
   "source": "from collections import defaultdict\n\ndef total_fruit(fruits):    counts = defaultdict(int)    left = 0    best = 0    for right, fruit in enumerate(fruits):        counts[fruit] += 1        while len(counts) > 2:            counts[fruits[left]] -= 1            if counts[fruits[left]] == 0:                del counts[fruits[left]]            left += 1        best = max(best, right - left + 1)    return best\n\ndef run_tests():    tests = [        (([1, 2, 1],), 3),        (([0, 1, 2, 2],), 3),        (([1, 2, 3, 2, 2],), 4),    ]    for args, expected in tests:        assert total_fruit(*args) == expected\n\nrun_tests()"
  },
  {
   "cell_type": "markdown",
   "metadata": {},
   "source": "## Complexity Analysis\n- Each tree enters and exits the window once => O(n) runtime.\n- Map stores at most two fruit types => O(1) space.\n"
  },
  {
   "cell_type": "markdown",
   "metadata": {},
   "source": "## Edge Cases & Pitfalls\n- All fruits identical should return len(fruits).\n- Array with three alternating fruits ensures shrink logic executes.\n- Large inputs need integer counters to avoid overflow in other languages.\n"
  },
  {
   "cell_type": "markdown",
   "metadata": {},
   "source": "## Follow-up Variants\n- Generalize to k baskets (k distinct types).\n- Handle weighted fruits where each tree yields multiple fruits.\n"
  },
  {
   "cell_type": "markdown",
   "metadata": {},
   "source": "## Takeaways\n- Sliding window with capacity constraint is a reusable interview motif.\n- Tracking count per type is enough; no need to remember full positions except left pointer.\n"
  },
  {
   "cell_type": "markdown",
   "metadata": {},
   "source": "## Similar Problems\n| Problem ID | Problem Title | Technique |\n| --- | --- | --- |\n| 159 | Longest Substring with At Most Two Distinct Characters | Sliding window |\n| 1004 | Max Consecutive Ones III | Window with flip budget |\n| 424 | Longest Repeating Character Replacement | Window with constraint |\n"
  }
 ],
 "metadata": {
  "kernelspec": {
   "display_name": "Python 3",
   "language": "python",
   "name": "python3"
  },
  "language_info": {
   "name": "python",
   "version": "3.8"
  }
 },
 "nbformat": 4,
 "nbformat_minor": 5
}