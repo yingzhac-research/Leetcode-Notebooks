{
 "cells": [
  {
   "cell_type": "markdown",
   "metadata": {},
   "source": "# 345. Reverse Vowels of a String\n"
  },
  {
   "cell_type": "markdown",
   "metadata": {},
   "source": "## Topic Alignment\n- Applies two-pointer or sliding window reasoning to reverse vowels of a string, mirroring optimization of streaming features in production ML pipelines.\n- Reinforces how to maintain minimal state while scanning large sequences once.\n"
  },
  {
   "cell_type": "markdown",
   "metadata": {},
   "source": "## Metadata Summary\n- **Source**: [LeetCode](https://leetcode.com/problems/reverse-vowels-of-a-string/)\n- **Tags**: Two Pointers, String\n- **Difficulty**: Easy\n- **Priority**: Medium\n"
  },
  {
   "cell_type": "markdown",
   "metadata": {},
   "source": "## Problem Statement\nGiven a string s, reverse only all the vowels in the string and return the resulting string. The vowels are 'a', 'e', 'i', 'o', and 'u' in both lowercase and uppercase. All other characters should remain in their original positions.\n"
  },
  {
   "cell_type": "markdown",
   "metadata": {},
   "source": "## Progressive Hints\n- **Hint1**: Locate vowels with two pointers from both ends.\n- **Hint2**: Swap only when both pointers point to vowels.\n- **Hint3**: Define a quick membership test for vowels.\n"
  },
  {
   "cell_type": "markdown",
   "metadata": {},
   "source": "## Solution Overview\nScan from both ends, moving pointers until vowels are found, swap them, and continue inward.\n"
  },
  {
   "cell_type": "markdown",
   "metadata": {},
   "source": "## Detailed Explanation\n1. Precompute a set of vowel characters for O(1) membership tests.\n2. Initialize left = 0, right=len(s)- 1.\n3. Advance left until it reaches a vowel; similarly move right backward to a vowel.\n4. Swap the characters, move both pointers, repeat until they cross. Convert the list back to a string at the end.\n"
  },
  {
   "cell_type": "markdown",
   "metadata": {},
   "source": "## Complexity Trade-off Table\n| Approach | Time | Space | Notes |\n| --- | --- | --- | --- |\n| Collect vowels then rebuild | O(n) | O(n) | Requires extra array. |\n| Two-pointer with vowel set | O(n) | O(1) | In-place swap on list of chars. |\n"
  },
  {
   "cell_type": "code",
   "metadata": {},
   "execution_count": null,
   "outputs": [],
   "source": "def reverse_vowels(s: str) -> str:\n    vowels = set(\"aeiouAEIOU\")\n    chars = list(s)\n    left, right = 0, len(chars) - 1\n    while left < right:\n        while left < right and chars[left] not in vowels:\n            left += 1\n        while left < right and chars[right] not in vowels:\n            right -= 1\n        if left < right:\n            chars[left], chars[right] = chars[right], chars[left]\n            left += 1\n            right -= 1\n    return \"\".join(chars)\n\n\ndef run_tests():\n    tests = [\n        (\"hello\", \"holle\"),\n        (\"leetcode\", \"leotcede\"),\n        (\"aA\", \"Aa\"),\n    ]\n    for s, expected in tests:\n        assert reverse_vowels(s) == expected\n\n\nrun_tests()\n\n"
  },
  {
   "cell_type": "markdown",
   "metadata": {},
   "source": "## Complexity Analysis\n- Each pointer visits each index at most once => O(n) runtime.\n- Vowel set is constant size => O(1) space aside from input copy.\n"
  },
  {
   "cell_type": "markdown",
   "metadata": {},
   "source": "## Edge Cases & Pitfalls\n- Strings without vowels should remain unchanged.\n- Case sensitivity means uppercase vowels must be handled.\n- Repeated vowels must swap correctly with both pointers converging.\n"
  },
  {
   "cell_type": "markdown",
   "metadata": {},
   "source": "## Follow-up Variants\n- Support extended vowel definitions (e.g., 'y').\n- Reverse consonants instead of vowels for variant problems.\n"
  },
  {
   "cell_type": "markdown",
   "metadata": {},
   "source": "## Takeaways\n- Targeted swapping builds on base reverse-string pattern.\n- Membership tests must be constant time for efficiency.\n"
  },
  {
   "cell_type": "markdown",
   "metadata": {},
   "source": "## Similar Problems\n| Problem ID | Problem Title | Technique |\n| --- | --- | --- |\n| 344 | Reverse String | Two-pointer swap |\n| 151 | Reverse Words in a String | Segmented reversal |\n| 917 | Reverse Only Letters | Conditional two-pointer |\n"
  }
 ],
 "metadata": {
  "kernelspec": {
   "display_name": "Python 3",
   "language": "python",
   "name": "python3"
  },
  "language_info": {
   "name": "python",
   "version": "3.8"
  }
 },
 "nbformat": 4,
 "nbformat_minor": 5
}