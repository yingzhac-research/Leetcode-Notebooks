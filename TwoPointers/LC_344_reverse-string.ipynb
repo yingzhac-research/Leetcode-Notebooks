{
 "cells": [
  {
   "cell_type": "markdown",
   "metadata": {},
   "source": "# 344. Reverse String\n"
  },
  {
   "cell_type": "markdown",
   "metadata": {},
   "source": "## Topic Alignment\n- Applies two-pointer or sliding window reasoning to reverse string, mirroring optimization of streaming features in production ML pipelines.\n- Reinforces how to maintain minimal state while scanning large sequences once.\n"
  },
  {
   "cell_type": "markdown",
   "metadata": {},
   "source": "## Metadata Summary\n- **Source**: [LeetCode](https://leetcode.com/problems/reverse-string/)\n- **Tags**: Two Pointers, String\n- **Difficulty**: Easy\n- **Priority**: Medium\n"
  },
  {
   "cell_type": "markdown",
   "metadata": {},
   "source": "## Problem Statement\nWrite a function that reverses a string in-place. The input is given as an array of characters s. Modify the array so that it becomes the reversed string and return nothing.\n"
  },
  {
   "cell_type": "markdown",
   "metadata": {},
   "source": "## Progressive Hints\n- **Hint1**: Swap characters from the ends towards the center.\n- **Hint2**: Avoid using extra memory; in-place swapping is enough.\n- **Hint3**: Stop when the pointers cross.\n"
  },
  {
   "cell_type": "markdown",
   "metadata": {},
   "source": "## Solution Overview\nUse two pointers at both ends, swapping characters while moving inward until they meet.\n"
  },
  {
   "cell_type": "markdown",
   "metadata": {},
   "source": "## Detailed Explanation\n1. Initialize left = 0 and right=len(s)- 1.\n2. While left < right, swap s[left] and s[right].\n3. Increment left and decrement right after each swap.\n4. When pointers cross, the array is reversed.\n"
  },
  {
   "cell_type": "markdown",
   "metadata": {},
   "source": "## Complexity Trade-off Table\n| Approach | Time | Space | Notes |\n| --- | --- | --- | --- |\n| Use Python slicing | O(n) | O(n) | Requires extra array. |\n| Two-pointer swap | O(n) | O(1) | In-place. |\n"
  },
  {
   "cell_type": "code",
   "metadata": {},
   "execution_count": null,
   "outputs": [],
   "source": "from typing import List\n\ndef reverse_string(s: List[str]) -> None:    left, right = 0, len(s) - 1    while left < right:        s[left], s[right] = s[right], s[left]        left += 1        right -= 1\n\ndef run_tests():    tests = [        (list(\"hello\"), list(\"olleh\")),        (list(\"Hannah\"), list(\"hannaH\")),    ]    for s, expected in tests:        reverse_string(s)        assert s == expected\n\nrun_tests()"
  },
  {
   "cell_type": "markdown",
   "metadata": {},
   "source": "## Complexity Analysis\n- Each swap moves pointers inward => O(n) time.\n- Only constant extra space is used for temp swap => O(1).\n"
  },
  {
   "cell_type": "markdown",
   "metadata": {},
   "source": "## Edge Cases & Pitfalls\n- Even-length and odd-length strings both need correct center handling.\n- Single character should remain unchanged.\n- Large input must avoid recursion to prevent stack overflow.\n"
  },
  {
   "cell_type": "markdown",
   "metadata": {},
   "source": "## Follow-up Variants\n- Support Unicode surrogate pairs (requires more careful swapping).\n- Reverse only within specified ranges for streaming edits.\n"
  },
  {
   "cell_type": "markdown",
   "metadata": {},
   "source": "## Takeaways\n- Classic example of symmetric two-pointer swapping.\n- In-place operations avoid memory churn on large inputs.\n"
  },
  {
   "cell_type": "markdown",
   "metadata": {},
   "source": "## Similar Problems\n| Problem ID | Problem Title | Technique |\n| --- | --- | --- |\n| 345 | Reverse Vowels of a String | Conditional swapping |\n| 541 | Reverse String II | Reverse segments |\n| 151 | Reverse Words in a String | Layered reversals |\n"
  }
 ],
 "metadata": {
  "kernelspec": {
   "display_name": "Python 3",
   "language": "python",
   "name": "python3"
  },
  "language_info": {
   "name": "python",
   "version": "3.8"
  }
 },
 "nbformat": 4,
 "nbformat_minor": 5
}