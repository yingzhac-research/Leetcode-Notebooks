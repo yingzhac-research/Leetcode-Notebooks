{
 "cells": [
  {
   "cell_type": "markdown",
   "id": "f9df0b52",
   "metadata": {},
   "source": [
    "# 27. Remove Element\n"
   ]
  },
  {
   "cell_type": "markdown",
   "id": "c1b9ee6a",
   "metadata": {},
   "source": [
    "## Topic Alignment\n",
    "- Applies two-pointer or sliding window reasoning to remove element, mirroring optimization of streaming features in production ML pipelines.\n",
    "- Reinforces how to maintain minimal state while scanning large sequences once.\n"
   ]
  },
  {
   "cell_type": "markdown",
   "id": "e37a7e6e",
   "metadata": {},
   "source": [
    "## Metadata Summary\n",
    "- **Source**: [LeetCode](https://leetcode.com/problems/remove-element/)\n",
    "- **Tags**: Two Pointers, Array, In-place\n",
    "- **Difficulty**: Easy\n",
    "- **Priority**: Medium\n"
   ]
  },
  {
   "cell_type": "markdown",
   "id": "b239d474",
   "metadata": {},
   "source": [
    "## Problem Statement\n",
    "Given an integer array nums and an integer val, remove all occurrences of val in-place. The order of the remaining elements may change. Return the number of elements in nums that are not equal to val. The first k elements of nums should contain the result; values beyond k can be arbitrary.\n"
   ]
  },
  {
   "cell_type": "markdown",
   "id": "bb82140b",
   "metadata": {},
   "source": [
    "## Progressive Hints\n",
    "- **Hint1**: Try using two indices: one to scan, one to write.\n",
    "- **Hint2**: When can you skip writing values that should stay?\n",
    "- **Hint3**: Can you minimize swaps by copying forward instead of swapping to the end?\n"
   ]
  },
  {
   "cell_type": "markdown",
   "id": "c61fcd1e",
   "metadata": {},
   "source": [
    "## Solution Overview\n",
    "Scan the array once, copying every value not equal to val into the front segment while advancing a write pointer.\n"
   ]
  },
  {
   "cell_type": "markdown",
   "id": "33549b0e",
   "metadata": {},
   "source": [
    "## Detailed Explanation\n",
    "1. Initialize write = 0.\n",
    "2. Loop read from0 to n-\n",
    "1. If nums[read] != val, assign nums[write] = nums[read] and increment write.\n",
    "3. At the end, write equals the number of retained values, and the prefix nums[:write] stores all values not equal to val in their original relative order.\n",
    "4. Any entries after write may keep old data; they lie outside the retained segment.\n"
   ]
  },
  {
   "cell_type": "markdown",
   "id": "df1831fc",
   "metadata": {},
   "source": [
    "## Complexity Trade-off Table\n",
    "| Approach | Time | Space | Notes |\n",
    "| --- | --- | --- | --- |\n",
    "| Swap with last element | O(n) | O(1) | Breaks order but meets problem statement. |\n",
    "| Stable overwrite | O(n) | O(1) | Keeps relative order for easier validation. |\n"
   ]
  },
  {
   "cell_type": "code",
   "execution_count": null,
   "id": "2b58f4e7",
   "metadata": {},
   "outputs": [],
   "source": [
    "from typing import List\n",
    "\n",
    "def remove_element(nums: List[int], val: int) -> int:\n",
    "    write = 0\n",
    "    for read in range(len(nums)):\n",
    "        if nums[read] != val:\n",
    "            nums[write] = nums[read]\n",
    "            write += 1\n",
    "    return write\n",
    "\n",
    "\n",
    "def run_tests():\n",
    "    tests = [\n",
    "        (([3, 2, 2, 3], 3), ([2, 2, 2, 3], 2)),\n",
    "        (([0, 1, 2, 2, 3, 0, 4, 2], 2), ([0, 1, 3, 0, 4, 0, 4, 2], 5)),\n",
    "        (([], 0), ([], 0)),\n",
    "    ]\n",
    "    for (nums, val), (expected_prefix, expected_k) in tests:\n",
    "        k = remove_element(nums, val)\n",
    "        assert k == expected_k\n",
    "        assert nums[:k] == expected_prefix[:k]\n",
    "\n",
    "\n",
    "run_tests()\n"
   ]
  },
  {
   "cell_type": "markdown",
   "id": "288a73ba",
   "metadata": {},
   "source": [
    "## Complexity Analysis\n",
    "- Each element is read once and written at most once => O(n) time.\n",
    "- Only two integer pointers are stored => O(1) extra space.\n"
   ]
  },
  {
   "cell_type": "markdown",
   "id": "80fd2fb4",
   "metadata": {},
   "source": [
    "## Edge Cases & Pitfalls\n",
    "- All values equal to val should produce k = 0.\n",
    "- If val never appears, the algorithm should return len(nums) without rewriting unnecessarily.\n",
    "- Pay attention to arrays of length0 or1.\n"
   ]
  },
  {
   "cell_type": "markdown",
   "id": "f66e745f",
   "metadata": {},
   "source": [
    "## Follow-up Variants\n",
    "- How would you handle removing several target values without raising runtime?\n",
    "- Consider streaming removal where new numbers arrive continuously.\n"
   ]
  },
  {
   "cell_type": "markdown",
   "id": "bcf4071d",
   "metadata": {},
   "source": [
    "## Takeaways\n",
    "- Two pointers can partition arrays without extra storage.\n",
    "- Stable overwrite is often simpler to reason about than repeated swapping.\n"
   ]
  },
  {
   "cell_type": "markdown",
   "id": "1d2dc23d",
   "metadata": {},
   "source": [
    "## Similar Problems\n",
    "| Problem ID | Problem Title | Technique |\n",
    "| --- | --- | --- |\n",
    "| 283 | Move Zeroes | Stable compaction |\n",
    "| 26 | Remove Duplicates from Sorted Array | Fast/slow pointer |\n",
    "| 80 | Remove Duplicates from Sorted Array II | Duplicate budget |\n"
   ]
  }
 ],
 "metadata": {
  "kernelspec": {
   "display_name": "Python 3 (ipykernel)",
   "language": "python",
   "name": "python3"
  },
  "language_info": {
   "codemirror_mode": {
    "name": "ipython",
    "version": 3
   },
   "file_extension": ".py",
   "mimetype": "text/x-python",
   "name": "python",
   "nbconvert_exporter": "python",
   "pygments_lexer": "ipython3",
   "version": "3.13.3"
  }
 },
 "nbformat": 4,
 "nbformat_minor": 5
}