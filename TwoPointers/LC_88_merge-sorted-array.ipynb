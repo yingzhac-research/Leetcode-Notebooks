{
 "cells": [
  {
   "cell_type": "markdown",
   "metadata": {},
   "source": "# 88. Merge Sorted Array\n"
  },
  {
   "cell_type": "markdown",
   "metadata": {},
   "source": "## Topic Alignment\n- Applies two-pointer or sliding window reasoning to merge sorted array, mirroring optimization of streaming features in production ML pipelines.\n- Reinforces how to maintain minimal state while scanning large sequences once.\n"
  },
  {
   "cell_type": "markdown",
   "metadata": {},
   "source": "## Metadata Summary\n- **Source**: [LeetCode](https://leetcode.com/problems/merge-sorted-array/)\n- **Tags**: Two Pointers, Array, In-place\n- **Difficulty**: Easy\n- **Priority**: High\n"
  },
  {
   "cell_type": "markdown",
   "metadata": {},
   "source": "## Problem Statement\nYou are given two integer arrays nums1 and nums2, sorted in non-decreasing order, and two integers m and n representing the number of elements in nums1 and nums2 respectively. nums1 has a length of m + n where the last n elements are set to0 and should be ignored. Merge nums2 into nums1 in-place so that the final array is sorted and return nothing.\n"
  },
  {
   "cell_type": "markdown",
   "metadata": {},
   "source": "## Progressive Hints\n- **Hint1**: Consider merging from the back so you do not overwrite unread values in nums1.\n- **Hint2**: Keep three pointers: end of nums1, end of effective nums1, end of nums2.\n- **Hint3**: Handle cases where one array finishes before the other.\n"
  },
  {
   "cell_type": "markdown",
   "metadata": {},
   "source": "## Solution Overview\nFill nums1 from the end by comparing the largest remaining elements of nums1 and nums2, ensuring no value is overwritten prematurely.\n"
  },
  {
   "cell_type": "markdown",
   "metadata": {},
   "source": "## Detailed Explanation\n1. Set write = m + n - 1, i = m - 1, j = n - 1.\n2. While both i and j are valid, place the larger of nums1[i] and nums2[j] at nums1[write] and decrement the corresponding pointer and write.\n3. If nums2 has remaining elements, copy them into nums1 at the front; any remaining nums1 elements are already in place.\n4. The final nums1 is sorted because we always place the next largest remaining element at the back.\n"
  },
  {
   "cell_type": "markdown",
   "metadata": {},
   "source": "## Complexity Trade-off Table\n| Approach | Time | Space | Notes |\n| --- | --- | --- | --- |\n| Use extra array | O(m+n) | O(m+n) | Simpler but violates in-place constraint. |\n| Backward merge | O(m+n) | O(1) | Preferred for in-place requirement. |\n"
  },
  {
   "cell_type": "code",
   "metadata": {},
   "execution_count": null,
   "outputs": [],
   "source": "from typing import List\n\ndef merge(nums1: List[int], m: int, nums2: List[int], n: int) -> None:    write = m + n - 1    i, j = m - 1, n - 1    while i >= 0 and j >= 0:        if nums1[i] > nums2[j]:            nums1[write] = nums1[i]            i -= 1        else:            nums1[write] = nums2[j]            j -= 1        write -= 1    while j >= 0:        nums1[write] = nums2[j]        j -= 1        write -= 1\n\ndef run_tests():    tests = [        (([1, 2, 3, 0, 0, 0], 3, [2, 5, 6], 3), [1, 2, 2, 3, 5, 6]),        (([1], 1, [], 0), [1]),        (([0], 0, [1], 1), [1]),    ]    for (nums1, m, nums2, n), expected in tests:        merge(nums1, m, nums2, n)        assert nums1 == expected\n\nrun_tests()"
  },
  {
   "cell_type": "markdown",
   "metadata": {},
   "source": "## Complexity Analysis\n- Pointers move left at most m + n times => O(m + n) runtime.\n- No additional arrays are allocated => O(1) extra space.\n"
  },
  {
   "cell_type": "markdown",
   "metadata": {},
   "source": "## Edge Cases & Pitfalls\n- All elements from nums2 may be smaller than nums1; copy loop ensures they land in front.\n- If nums2 is empty, do nothing.\n- Large negative or positive numbers should be treated the same thanks to comparisons.\n"
  },
  {
   "cell_type": "markdown",
   "metadata": {},
   "source": "## Follow-up Variants\n- Merge k sorted arrays in-place with minimal memory.\n- Handle streams where arrays arrive chunk by chunk (external merge).\n"
  },
  {
   "cell_type": "markdown",
   "metadata": {},
   "source": "## Takeaways\n- Two pointers from the end prevents overwriting data still needed.\n- Think backwards when forward passes risk clobbering values.\n"
  },
  {
   "cell_type": "markdown",
   "metadata": {},
   "source": "## Similar Problems\n| Problem ID | Problem Title | Technique |\n| --- | --- | --- |\n| 21 | Merge Two Sorted Lists | Two-pointer merge |\n| 977 | Squares of a Sorted Array | Two-pointer fill from back |\n| 986 | Interval List Intersections | Parallel pointer scan |\n"
  }
 ],
 "metadata": {
  "kernelspec": {
   "display_name": "Python 3",
   "language": "python",
   "name": "python3"
  },
  "language_info": {
   "name": "python",
   "version": "3.8"
  }
 },
 "nbformat": 4,
 "nbformat_minor": 5
}