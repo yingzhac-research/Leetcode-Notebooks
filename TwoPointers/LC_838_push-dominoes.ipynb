{
 "cells": [
  {
   "cell_type": "markdown",
   "id": "122b34cf",
   "metadata": {},
   "source": [
    "# 838. Push Dominoes"
   ]
  },
  {
   "cell_type": "markdown",
   "id": "88d3d885",
   "metadata": {},
   "source": [
    "## Topic Alignment\n",
    "- Bidirectional sweeps model opposing forces, mirroring how streaming systems reconcile signals from both ends.\n",
    "- Encourages reasoning about state propagation with minimal passes using pointer-style scans."
   ]
  },
  {
   "cell_type": "markdown",
   "id": "81b14119",
   "metadata": {},
   "source": [
    "## Metadata Summary\n",
    "- **Source**: [LeetCode](https://leetcode.com/problems/push-dominoes/)\n",
    "- **Tags**: Two Pointers, Simulation, String\n",
    "- **Difficulty**: Medium\n",
    "- **Priority**: Medium"
   ]
  },
  {
   "cell_type": "markdown",
   "id": "f9886565",
   "metadata": {},
   "source": [
    "## Problem Statement\n",
    "There are n dominoes in a line, and each domino is a tile with two sides: an upright side represented by '.', and two falling directions 'L' and 'R'. You are given a string dominoes representing the initial state, where:\n",
    "- dominoes[i] = 'L' if the i-th domino has been pushed to the left,\n",
    "- dominoes[i] = 'R' if the i-th domino has been pushed to the right,\n",
    "- dominoes[i] = '.' if the i-th domino has not been pushed.\n",
    "Return the final state of the dominoes after all pushes resolve."
   ]
  },
  {
   "cell_type": "markdown",
   "id": "eddcde51",
   "metadata": {},
   "source": [
    "## Progressive Hints\n",
    "- **Hint 1**: Imagine scanning from left to right and from right to left, keeping the most recent push to the right or left.\n",
    "- **Hint 2**: When pushes from opposite directions meet, compare distances to decide whether the domino falls or stays upright.\n",
    "- **Hint 3**: At the boundaries, any domino that never receives a force remains standing.\n"
   ]
  },
  {
   "cell_type": "markdown",
   "id": "e14046ee",
   "metadata": {},
   "source": [
    "## Solution Overview\n",
    "Use two directional sweeps (left-to-right and right-to-left) to record the nearest push forces, then combine them to determine the final state in a single pass."
   ]
  },
  {
   "cell_type": "markdown",
   "id": "117668f1",
   "metadata": {},
   "source": [
    "## Detailed Explanation\n",
    "1. Scan from left to right, recording for each position the steps since the last 'R' (or inf if none) to build the right_forces array.\n",
    "2. Scan from right to left, recording the steps to the nearest 'L' to build the left_forces array.\n",
    "3. For each index, compare the two forces: if neither exists, keep '.'; if only one exists, fall toward it; if both exist, the smaller distance wins and a tie leaves the domino upright.\n",
    "4. This is equivalent to a bidirectional diffusion-style sweep with O(n) time.\n"
   ]
  },
  {
   "cell_type": "markdown",
   "id": "b76cdf7f",
   "metadata": {},
   "source": [
    "## Complexity Trade-off Table\n",
    "| Approach | Time | Space | Notes |\n",
    "| --- | --- | --- | --- |\n",
    "| Round-by-round push simulation | O(n^2) | O(1) | Advances slowly each round; times out. |\n",
    "| Bidirectional force sweep | O(n) | O(n) | Track influence distances in arrays to resolve quickly. |\n",
    "| Two-pointer segment handling | O(n) | O(1) | Process each R...L block; logic is a bit involved. |\n"
   ]
  },
  {
   "cell_type": "code",
   "execution_count": null,
   "id": "62d4775b",
   "metadata": {},
   "outputs": [],
   "source": [
    "from typing import List\n",
    "import math\n",
    "\n",
    "\n",
    "def push_dominoes(dominoes: str) -> str:\n",
    "    n = len(dominoes)\n",
    "    right_force = [math.inf] * n\n",
    "    left_force = [math.inf] * n\n",
    "\n",
    "    force = math.inf\n",
    "    for i, ch in enumerate(dominoes):\n",
    "        if ch == 'R':\n",
    "            force = 0\n",
    "        elif ch == 'L':\n",
    "            force = math.inf\n",
    "        else:\n",
    "            if force < math.inf:\n",
    "                force += 1\n",
    "        right_force[i] = force\n",
    "\n",
    "    force = math.inf\n",
    "    for i in range(n - 1, -1, -1):\n",
    "        ch = dominoes[i]\n",
    "        if ch == 'L':\n",
    "            force = 0\n",
    "        elif ch == 'R':\n",
    "            force = math.inf\n",
    "        else:\n",
    "            if force < math.inf:\n",
    "                force += 1\n",
    "        left_force[i] = force\n",
    "\n",
    "    result = []\n",
    "    for i in range(n):\n",
    "        if left_force[i] == right_force[i]:\n",
    "            result.append('.')\n",
    "        elif left_force[i] < right_force[i]:\n",
    "            result.append('L')\n",
    "        elif right_force[i] < left_force[i]:\n",
    "            result.append('R')\n",
    "        else:\n",
    "            result.append(dominoes[i])\n",
    "    return ''.join(result)\n",
    "\n",
    "\n",
    "def run_tests() -> None:\n",
    "    tests = [\n",
    "        (\".L.R...LR..L..\", \"LL.RR.LLRRLL..\"),\n",
    "        (\"RR.L\", \"RR.L\"),\n",
    "        (\".\", \".\"),\n",
    "        (\"R\", \"R\"),\n",
    "        (\"L\", \"L\"),\n",
    "    ]\n",
    "    for dominoes, expected in tests:\n",
    "        assert push_dominoes(dominoes) == expected\n",
    "\n",
    "\n",
    "if __name__ == \"__main__\":\n",
    "    run_tests()"
   ]
  },
  {
   "cell_type": "markdown",
   "id": "588cdd88",
   "metadata": {},
   "source": [
    "## Complexity Analysis\n",
    "- Scan from both sides once plus combine forces => O(n) time.\n",
    "- Extra arrays for distances => O(n) space; the segment two-pointer version can drop this to O(1).\n"
   ]
  },
  {
   "cell_type": "markdown",
   "id": "ac151e17",
   "metadata": {},
   "source": [
    "## Edge Cases & Pitfalls\n",
    "- All '.' dominoes stay unchanged.\n",
    "- Forces at the ends (leading 'R' or trailing 'L') propagate outward; treat the opposite side as infinitely far.\n",
    "- Within an R...L block, the parity of the span determines the middle result.\n"
   ]
  },
  {
   "cell_type": "markdown",
   "id": "bc1d3f82",
   "metadata": {},
   "source": [
    "## Follow-up Variants\n",
    "- How can you reach O(1) space? Process each interval on the fly during traversal.\n",
    "- Different push speeds? You would need richer force metadata.\n"
   ]
  },
  {
   "cell_type": "markdown",
   "id": "a62852ae",
   "metadata": {},
   "source": [
    "## Takeaways\n",
    "- Bidirectional scans are a standard tool for competing forces.\n",
    "- Representing 'no influence' with infinity keeps the implementation tidy.\n"
   ]
  },
  {
   "cell_type": "markdown",
   "id": "6be79aef",
   "metadata": {},
   "source": [
    "## Similar Problems\n",
    "| Problem ID | Problem Title | Technique |\n",
    "| --- | --- | --- |\n",
    "| 11 | Container With Most Water | Bidirectional reasoning |\n",
    "| 424 | Longest Repeating Character Replacement | Window pressure tracking |\n",
    "| 207 | Course Schedule | Graph propagation |"
   ]
  }
 ],
 "metadata": {
  "kernelspec": {
   "display_name": "Python 3 (ipykernel)",
   "language": "python",
   "name": "python3"
  },
  "language_info": {
   "codemirror_mode": {
    "name": "ipython",
    "version": 3
   },
   "file_extension": ".py",
   "mimetype": "text/x-python",
   "name": "python",
   "nbconvert_exporter": "python",
   "pygments_lexer": "ipython3",
   "version": "3.13.3"
  }
 },
 "nbformat": 4,
 "nbformat_minor": 5
}