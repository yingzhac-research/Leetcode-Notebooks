{
 "cells": [
  {
   "cell_type": "markdown",
   "metadata": {},
   "source": "# 125. Valid Palindrome\n"
  },
  {
   "cell_type": "markdown",
   "metadata": {},
   "source": "## Topic Alignment\n- Applies two-pointer or sliding window reasoning to valid palindrome, mirroring optimization of streaming features in production ML pipelines.\n- Reinforces how to maintain minimal state while scanning large sequences once.\n"
  },
  {
   "cell_type": "markdown",
   "metadata": {},
   "source": "## Metadata Summary\n- **Source**: [LeetCode](https://leetcode.com/problems/valid-palindrome/)\n- **Tags**: Two Pointers, String\n- **Difficulty**: Easy\n- **Priority**: Medium\n"
  },
  {
   "cell_type": "markdown",
   "metadata": {},
   "source": "## Problem Statement\nGiven a string s, determine if it is a palindrome, considering only alphanumeric characters and ignoring cases. Empty strings are considered valid palindromes.\n"
  },
  {
   "cell_type": "markdown",
   "metadata": {},
   "source": "## Progressive Hints\n- **Hint1**: Filter non-alphanumeric characters without allocating a new string if possible.\n- **Hint2**: Use two pointers moving inward and compare lowercase characters.\n- **Hint3**: Watch out for uppercase vs lowercase differences.\n"
  },
  {
   "cell_type": "markdown",
   "metadata": {},
   "source": "## Solution Overview\nUse two pointers at both ends, advancing them until they point to alphanumeric characters and compare their lowercase versions.\n"
  },
  {
   "cell_type": "markdown",
   "metadata": {},
   "source": "## Detailed Explanation\n1. Initialize left = 0, right=len(s)- 1.\n2. Move left forward while s[left] is not alphanumeric; similarly move right backward.\n3. Compare lowercase versions of s[left] and s[right]. If they differ, return False. Otherwise move both pointers inward and repeat.\n4. If all pairs match, return True.\n"
  },
  {
   "cell_type": "markdown",
   "metadata": {},
   "source": "## Complexity Trade-off Table\n| Approach | Time | Space | Notes |\n| --- | --- | --- | --- |\n| Normalize string then compare with reverse | O(n) | O(n) | Allocates new string. |\n| In-place two pointers | O(n) | O(1) | No additional buffers needed. |\n"
  },
  {
   "cell_type": "code",
   "metadata": {},
   "execution_count": null,
   "outputs": [],
   "source": "def is_palindrome(s: str) -> bool:    left, right = 0, len(s) - 1    while left < right:        while left < right and not s[left].isalnum():            left += 1        while left < right and not s[right].isalnum():            right -= 1        if left < right:            if s[left].lower() != s[right].lower():                return False            left += 1            right -= 1    return True\n\ndef run_tests():    tests = [        (\"A man, a plan, a canal: Panama\", True),        (\"race a car\", False),        (\" \", True),    ]    for s, expected in tests:        assert is_palindrome(s) == expected\n\nrun_tests()"
  },
  {
   "cell_type": "markdown",
   "metadata": {},
   "source": "## Complexity Analysis\n- Each pointer moves at most n steps => O(n) runtime.\n- Only indices and character checks => O(1) extra space.\n"
  },
  {
   "cell_type": "markdown",
   "metadata": {},
   "source": "## Edge Cases & Pitfalls\n- Strings composed entirely of non-alphanumerics should be considered palindrome.\n- Single-character strings return True.\n- Mixed digits and letters must be compared case-insensitively.\n"
  },
  {
   "cell_type": "markdown",
   "metadata": {},
   "source": "## Follow-up Variants\n- Support Unicode categories beyond ASCII.\n- Allow at most one deletion and still consider palindrome (LC680).\n"
  },
  {
   "cell_type": "markdown",
   "metadata": {},
   "source": "## Takeaways\n- Filtering on the fly avoids building intermediate buffers.\n- Case folding matters; choose consistent normalization (lower()).\n"
  },
  {
   "cell_type": "markdown",
   "metadata": {},
   "source": "## Similar Problems\n| Problem ID | Problem Title | Technique |\n| --- | --- | --- |\n| 680 | Valid Palindrome II | Two pointers with skip |\n| 125 | Valid Palindrome | Normalization |\n| 392 | Is Subsequence | Two pointers over strings |\n"
  }
 ],
 "metadata": {
  "kernelspec": {
   "display_name": "Python 3",
   "language": "python",
   "name": "python3"
  },
  "language_info": {
   "name": "python",
   "version": "3.8"
  }
 },
 "nbformat": 4,
 "nbformat_minor": 5
}