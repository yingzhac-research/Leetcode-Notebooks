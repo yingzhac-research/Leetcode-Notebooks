{
 "cells": [
  {
   "cell_type": "markdown",
   "id": "34765b79",
   "metadata": {},
   "source": [
    "# 438. Find All Anagrams in a String\n"
   ]
  },
  {
   "cell_type": "markdown",
   "id": "33d8d3a1",
   "metadata": {},
   "source": [
    "## Topic Alignment\n",
    "- Applies two-pointer or sliding window reasoning to find all anagrams in a string, mirroring optimization of streaming features in production ML pipelines.\n",
    "- Reinforces how to maintain minimal state while scanning large sequences once.\n"
   ]
  },
  {
   "cell_type": "markdown",
   "id": "a9d835fb",
   "metadata": {},
   "source": [
    "## Metadata Summary\n",
    "- **Source**: [LeetCode](https://leetcode.com/problems/find-all-anagrams-in-a-string/)\n",
    "- **Tags**: Sliding Window, String\n",
    "- **Difficulty**: Medium\n",
    "- **Priority**: High\n"
   ]
  },
  {
   "cell_type": "markdown",
   "id": "243f6f39",
   "metadata": {},
   "source": [
    "## Problem Statement\n",
    "Given two strings s and p, return an array of all starting indices of p's anagrams in s. You may return the answer in any order.\n"
   ]
  },
  {
   "cell_type": "markdown",
   "id": "4f4e850c",
   "metadata": {},
   "source": [
    "## Progressive Hints\n",
    "- **Hint1**: Since p's length is fixed, maintain a fixed-size sliding window over s.\n",
    "- **Hint2**: Use frequency counts for both the window and target string.\n",
    "- **Hint3**: Track how many character counts currently match.\n"
   ]
  },
  {
   "cell_type": "markdown",
   "id": "1b557f94",
   "metadata": {},
   "source": [
    "## Solution Overview\n",
    "Slide a window of length len(p) across s, maintaining a frequency difference map and recording positions where all counts match.\n"
   ]
  },
  {
   "cell_type": "markdown",
   "id": "4017344e",
   "metadata": {},
   "source": [
    "## Detailed Explanation\n",
    "1. Build counters for p and the first window of s.\n",
    "2. Compare counters using a difference counter or matched character count.\n",
    "3. Slide the window by one character each time: add s[right], remove s[left-1], update matches.\n",
    "4. When all counts match, append left index to the result list.\n"
   ]
  },
  {
   "cell_type": "markdown",
   "id": "2d00f8de",
   "metadata": {},
   "source": [
    "## Complexity Trade-off Table\n",
    "| Approach | Time | Space | Notes |\n",
    "| --- | --- | --- | --- |\n",
    "| Sort every window | O(n * L log L) | O(L) | Sort substring of length L for each index; impractical for large inputs. |\n",
    "| Sliding window counts | O(n) | O(K) | Maintain running frequency counts; K = alphabet size (26 for lowercase). |\n"
   ]
  },
  {
   "cell_type": "code",
   "execution_count": null,
   "id": "19610065",
   "metadata": {},
   "outputs": [],
   "source": [
    "from collections import Counter\n",
    "\n",
    "\n",
    "def find_anagrams(s: str, p: str):\n",
    "    if len(p) > len(s):\n",
    "        return []\n",
    "    need = Counter(p)\n",
    "    window = Counter()\n",
    "    required = len(need)\n",
    "    formed = 0\n",
    "    res = []\n",
    "    left = 0\n",
    "    for right, ch in enumerate(s):\n",
    "        window[ch] += 1\n",
    "        if ch in need and window[ch] == need[ch]:\n",
    "            formed += 1\n",
    "        if right - left + 1 > len(p):\n",
    "            out_char = s[left]\n",
    "            if out_char in need and window[out_char] == need[out_char]:\n",
    "                formed -= 1\n",
    "            window[out_char] -= 1\n",
    "            if window[out_char] == 0:\n",
    "                del window[out_char]\n",
    "            left += 1\n",
    "        if right - left + 1 == len(p) and formed == required:\n",
    "            res.append(left)\n",
    "    return res\n",
    "\n",
    "\n",
    "def run_tests():\n",
    "    tests = [\n",
    "        ((\"cbaebabacd\", \"abc\"), [0, 6]),\n",
    "        ((\"abab\", \"ab\"), [0, 1, 2]),\n",
    "        ((\"aa\", \"bb\"), []),\n",
    "    ]\n",
    "    for args, expected in tests:\n",
    "        assert find_anagrams(*args) == expected\n",
    "\n",
    "\n",
    "run_tests()\n",
    "\n"
   ]
  },
  {
   "cell_type": "markdown",
   "id": "a7688b16",
   "metadata": {},
   "source": [
    "## Complexity Analysis\n",
    "- Window slides once per character => O(n) time.\n",
    "- Counters use alphabet-sized storage => O(|alphabet|) space.\n"
   ]
  },
  {
   "cell_type": "markdown",
   "id": "77114c67",
   "metadata": {},
   "source": [
    "## Edge Cases & Pitfalls\n",
    "- When p length equals1, solution reduces to scanning for char.\n",
    "- Array should handle repeated characters gracefully.\n",
    "- Window initialization must occur even when len(s) == len(p).\n"
   ]
  },
  {
   "cell_type": "markdown",
   "id": "3eb53788",
   "metadata": {},
   "source": [
    "## Follow-up Variants\n",
    "- Return the substrings themselves instead of indices.\n",
    "- Handle Unicode alphabets or case-sensitive variants.\n"
   ]
  },
  {
   "cell_type": "markdown",
   "id": "f5db5b6b",
   "metadata": {},
   "source": [
    "## Takeaways\n",
    "- Fixed-size windows simplify difference tracking versus expanding windows.\n",
    "- Frequency deltas offer a constant-time equality check when maintained incrementally.\n"
   ]
  },
  {
   "cell_type": "markdown",
   "id": "521d0346",
   "metadata": {},
   "source": [
    "## Similar Problems\n",
    "| Problem ID | Problem Title | Technique |\n",
    "| --- | --- | --- |\n",
    "| 567 | Permutation in String | Window with histogram |\n",
    "| 438 | Find All Anagrams in a String | Sliding histogram |\n",
    "| 76 | Minimum Window Substring | Variable window counts |\n"
   ]
  }
 ],
 "metadata": {
  "kernelspec": {
   "display_name": "Python 3 (ipykernel)",
   "language": "python",
   "name": "python3"
  },
  "language_info": {
   "codemirror_mode": {
    "name": "ipython",
    "version": 3
   },
   "file_extension": ".py",
   "mimetype": "text/x-python",
   "name": "python",
   "nbconvert_exporter": "python",
   "pygments_lexer": "ipython3",
   "version": "3.13.3"
  }
 },
 "nbformat": 4,
 "nbformat_minor": 5
}
