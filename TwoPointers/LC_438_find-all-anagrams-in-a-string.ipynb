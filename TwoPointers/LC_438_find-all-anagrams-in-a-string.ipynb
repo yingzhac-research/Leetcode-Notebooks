{
 "cells": [
  {
   "cell_type": "markdown",
   "metadata": {},
   "source": "# 438. Find All Anagrams in a String\n"
  },
  {
   "cell_type": "markdown",
   "metadata": {},
   "source": "## Topic Alignment\n- Applies two-pointer or sliding window reasoning to find all anagrams in a string, mirroring optimization of streaming features in production ML pipelines.\n- Reinforces how to maintain minimal state while scanning large sequences once.\n"
  },
  {
   "cell_type": "markdown",
   "metadata": {},
   "source": "## Metadata Summary\n- **Source**: [LeetCode](https://leetcode.com/problems/find-all-anagrams-in-a-string/)\n- **Tags**: Sliding Window, String\n- **Difficulty**: Medium\n- **Priority**: High\n"
  },
  {
   "cell_type": "markdown",
   "metadata": {},
   "source": "## Problem Statement\nGiven two strings s and p, return an array of all starting indices of p's anagrams in s. You may return the answer in any order.\n"
  },
  {
   "cell_type": "markdown",
   "metadata": {},
   "source": "## Progressive Hints\n- **Hint1**: Since p's length is fixed, maintain a fixed-size sliding window over s.\n- **Hint2**: Use frequency counts for both the window and target string.\n- **Hint3**: Track how many character counts currently match.\n"
  },
  {
   "cell_type": "markdown",
   "metadata": {},
   "source": "## Solution Overview\nSlide a window of length len(p) across s, maintaining a frequency difference map and recording positions where all counts match.\n"
  },
  {
   "cell_type": "markdown",
   "metadata": {},
   "source": "## Detailed Explanation\n1. Build counters for p and the first window of s.\n2. Compare counters using a difference counter or matched character count.\n3. Slide the window by one character each time: add s[right], remove s[left-1], update matches.\n4. When all counts match, append left index to the result list.\n"
  },
  {
   "cell_type": "markdown",
   "metadata": {},
   "source": "## Complexity Trade-off Table\n| Approach | Time | Space | Notes |\n| --- | --- | --- | --- |\n| Sort substrings | O(n * | p | log |\n| p | ) | O( | p |\n| ) | Too slow. | Sliding window histogram | O(n) |\n| O( | alphabet | ) | Efficient for fixed alphabet. |\n"
  },
  {
   "cell_type": "code",
   "metadata": {},
   "execution_count": null,
   "outputs": [],
   "source": "from collections import Counter\n\n\ndef find_anagrams(s: str, p: str):\n    if len(p) > len(s):\n        return []\n    need = Counter(p)\n    window = Counter(s[:len(p)])\n    matches = 0\n    for ch in need:\n        if need[ch] == window.get(ch, 0):\n            matches += 1\n    res = []\n    if matches == len(need):\n        res.append(0)\n    for right in range(len(p), len(s)):\n        left = right - len(p)\n        out_char = s[left]\n        in_char = s[right]\n        if need.get(out_char, None) is not None:\n            if window[out_char] == need[out_char]:\n                matches -= 1\n            window[out_char] -= 1\n            if window[out_char] == need[out_char]:\n                matches += 1\n        else:\n            window[out_char] -= 1\n            if window[out_char] == 0:\n                del window[out_char]\n        window[in_char] += 1\n        if need.get(in_char, None) is not None:\n            if window[in_char] == need[in_char]:\n                matches += 1\n            elif window[in_char] - 1 == need[in_char]:\n                matches -= 1\n        if matches == len(need):\n            res.append(left + 1)\n    return res\n\n\ndef run_tests():\n    tests = [\n        ((\"cbaebabacd\", \"abc\"), [0, 6]),\n        ((\"abab\", \"ab\"), [0, 1, 2]),\n        ((\"aa\", \"bb\"), []),\n    ]\n    for args, expected in tests:\n        assert find_anagrams(*args) == expected\n\n\nrun_tests()"
  },
  {
   "cell_type": "markdown",
   "metadata": {},
   "source": "## Complexity Analysis\n- Window slides once per character => O(n) time.\n- Counters use alphabet-sized storage => O(|alphabet|) space.\n"
  },
  {
   "cell_type": "markdown",
   "metadata": {},
   "source": "## Edge Cases & Pitfalls\n- When p length equals1, solution reduces to scanning for char.\n- Array should handle repeated characters gracefully.\n- Window initialization must occur even when len(s) == len(p).\n"
  },
  {
   "cell_type": "markdown",
   "metadata": {},
   "source": "## Follow-up Variants\n- Return the substrings themselves instead of indices.\n- Handle Unicode alphabets or case-sensitive variants.\n"
  },
  {
   "cell_type": "markdown",
   "metadata": {},
   "source": "## Takeaways\n- Fixed-size windows simplify difference tracking versus expanding windows.\n- Frequency deltas offer a constant-time equality check when maintained incrementally.\n"
  },
  {
   "cell_type": "markdown",
   "metadata": {},
   "source": "## Similar Problems\n| Problem ID | Problem Title | Technique |\n| --- | --- | --- |\n| 567 | Permutation in String | Window with histogram |\n| 438 | Find All Anagrams in a String | Sliding histogram |\n| 76 | Minimum Window Substring | Variable window counts |\n"
  }
 ],
 "metadata": {
  "kernelspec": {
   "display_name": "Python 3",
   "language": "python",
   "name": "python3"
  },
  "language_info": {
   "name": "python",
   "version": "3.8"
  }
 },
 "nbformat": 4,
 "nbformat_minor": 5
}