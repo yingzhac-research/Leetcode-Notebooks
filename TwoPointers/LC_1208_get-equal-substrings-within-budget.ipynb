{
 "cells": [
  {
   "cell_type": "markdown",
   "id": "267c3a0d",
   "metadata": {},
   "source": [
    "# 1208. Get Equal Substrings Within Budget\n"
   ]
  },
  {
   "cell_type": "markdown",
   "id": "d3a340a0",
   "metadata": {},
   "source": [
    "## Topic Alignment\n",
    "- Applies two-pointer or sliding window reasoning to get equal substrings within budget, mirroring optimization of streaming features in production ML pipelines.\n",
    "- Reinforces how to maintain minimal state while scanning large sequences once.\n"
   ]
  },
  {
   "cell_type": "markdown",
   "id": "c89dff0c",
   "metadata": {},
   "source": [
    "## Metadata Summary\n",
    "- **Source**: [LeetCode](https://leetcode.com/problems/get-equal-substrings-within-budget/)\n",
    "- **Tags**: Sliding Window, String\n",
    "- **Difficulty**: Medium\n",
    "- **Priority**: Medium\n"
   ]
  },
  {
   "cell_type": "markdown",
   "id": "f3a6afa1",
   "metadata": {},
   "source": [
    "## Problem Statement\n",
    "You are given two strings s and t of the same length and an integer maxCost. Converting the i-th character of s to the i-th character of t costs |s[i] - t[i]| in ASCII. Return the maximum length of a substring of s that can be changed to be equal to the corresponding substring of t with a total conversion cost less than or equal to maxCost.\n"
   ]
  },
  {
   "cell_type": "markdown",
   "id": "4640bf26",
   "metadata": {},
   "source": [
    "## Progressive Hints\n",
    "- **Hint1**: The cost function is additive, so use a sliding window with running cost.\n",
    "- **Hint2**: Expand the window while total cost <= maxCost.\n",
    "- **Hint3**: Shrink from left when cost exceeds budget.\n"
   ]
  },
  {
   "cell_type": "markdown",
   "id": "fd05975a",
   "metadata": {},
   "source": [
    "## Solution Overview\n",
    "Maintain a window with total cost accumulating absolute differences; shrink when total cost exceeds maxCost and track maximum length.\n"
   ]
  },
  {
   "cell_type": "markdown",
   "id": "c49ed4b7",
   "metadata": {},
   "source": [
    "## Detailed Explanation\n",
    "1. Initialize left = 0 and cost = 0.\n",
    "2. For each right, add |s[right]-t[right]| to cost.\n",
    "3. While cost > maxCost, subtract the cost contribution of left index and increment left.\n",
    "4. Update best length with right-left+1 during each iteration.\n"
   ]
  },
  {
   "cell_type": "markdown",
   "id": "dd13b6ff",
   "metadata": {},
   "source": [
    "## Complexity Trade-off Table\n",
    "| Approach | Time | Space | Notes |\n",
    "| --- | --- | --- | --- |\n",
    "| Prefix sums + binary search | O(n log n) | O(n) | Check each start position via binary search. |\n",
    "| Sliding window | O(n) | O(1) | Single pass with running cost. |\n"
   ]
  },
  {
   "cell_type": "code",
   "execution_count": null,
   "id": "4a44d800",
   "metadata": {},
   "outputs": [],
   "source": [
    "def equal_substring(s: str, t: str, maxCost: int) -> int:\n",
    "    left = 0\n",
    "    cost = 0\n",
    "    best = 0\n",
    "    for right in range(len(s)):\n",
    "        cost += abs(ord(s[right]) - ord(t[right]))\n",
    "        while cost > maxCost:\n",
    "            cost -= abs(ord(s[left]) - ord(t[left]))\n",
    "            left += 1\n",
    "        best = max(best, right - left + 1)\n",
    "    return best\n",
    "\n",
    "\n",
    "def run_tests():\n",
    "    tests = [\n",
    "        ((\"abcd\", \"bcdf\", 3), 3),\n",
    "        ((\"abcd\", \"cdef\", 3), 1),\n",
    "        ((\"abcd\", \"acde\", 0), 1),\n",
    "    ]\n",
    "    for args, expected in tests:\n",
    "        assert equal_substring(*args) == expected\n",
    "\n",
    "\n",
    "run_tests()\n"
   ]
  },
  {
   "cell_type": "markdown",
   "id": "4522a42a",
   "metadata": {},
   "source": [
    "## Complexity Analysis\n",
    "- Each index enters and exits window once => O(n) time.\n",
    "- Only scalars stored => O(1) space.\n"
   ]
  },
  {
   "cell_type": "markdown",
   "id": "72a80869",
   "metadata": {},
   "source": [
    "## Edge Cases & Pitfalls\n",
    "- maxCost = 0 should allow only matching characters.\n",
    "- Large costs must not overflow; use ints (Python handles automatically).\n",
    "- Strings of length1 should be processed correctly.\n"
   ]
  },
  {
   "cell_type": "markdown",
   "id": "8e44d404",
   "metadata": {},
   "source": [
    "## Follow-up Variants\n",
    "- Allow different character alphabets (Unicode).\n",
    "- Return the substring, not just length.\n"
   ]
  },
  {
   "cell_type": "markdown",
   "id": "324b173f",
   "metadata": {},
   "source": [
    "## Takeaways\n",
    "- Cost-aware sliding windows generalize to many quality-of-service problems.\n",
    "- Always subtract the exact contribution when shrinking to keep running total accurate.\n"
   ]
  },
  {
   "cell_type": "markdown",
   "id": "190571ea",
   "metadata": {},
   "source": [
    "## Similar Problems\n",
    "| Problem ID | Problem Title | Technique |\n",
    "| --- | --- | --- |\n",
    "| 424 | Longest Repeating Character Replacement | Window with budget |\n",
    "| 1004 | Max Consecutive Ones III | Budgeted window |\n",
    "| 159 | Longest Substring with At Most Two Distinct Characters | Sliding window |\n"
   ]
  }
 ],
 "metadata": {
  "kernelspec": {
   "display_name": "Python 3 (ipykernel)",
   "language": "python",
   "name": "python3"
  },
  "language_info": {
   "codemirror_mode": {
    "name": "ipython",
    "version": 3
   },
   "file_extension": ".py",
   "mimetype": "text/x-python",
   "name": "python",
   "nbconvert_exporter": "python",
   "pygments_lexer": "ipython3",
   "version": "3.13.3"
  }
 },
 "nbformat": 4,
 "nbformat_minor": 5
}