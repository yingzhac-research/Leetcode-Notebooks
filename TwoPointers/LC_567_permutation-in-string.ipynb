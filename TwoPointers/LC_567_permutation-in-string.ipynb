{
 "cells": [
  {
   "cell_type": "markdown",
   "id": "01a857d2",
   "metadata": {},
   "source": [
    "# 567. Permutation in String\n"
   ]
  },
  {
   "cell_type": "markdown",
   "id": "5d9897aa",
   "metadata": {},
   "source": [
    "## Topic Alignment\n",
    "- Applies two-pointer or sliding window reasoning to permutation in string, mirroring optimization of streaming features in production ML pipelines.\n",
    "- Reinforces how to maintain minimal state while scanning large sequences once.\n"
   ]
  },
  {
   "cell_type": "markdown",
   "id": "07013f5a",
   "metadata": {},
   "source": [
    "## Metadata Summary\n",
    "- **Source**: [LeetCode](https://leetcode.com/problems/permutation-in-string/)\n",
    "- **Tags**: Sliding Window, String\n",
    "- **Difficulty**: Medium\n",
    "- **Priority**: High\n"
   ]
  },
  {
   "cell_type": "markdown",
   "id": "fed13c60",
   "metadata": {},
   "source": [
    "## Problem Statement\n",
    "Given two strings s1 and s2, return true if s2 contains a permutation of s1. In other words, return true if one of s1's permutations is a substring of s2.\n"
   ]
  },
  {
   "cell_type": "markdown",
   "id": "7e098768",
   "metadata": {},
   "source": [
    "## Progressive Hints\n",
    "- **Hint1**: Use a window of size len(s1) sliding across s2.\n",
    "- **Hint2**: Compare histogram counts efficiently at each step.\n",
    "- **Hint3**: Track matches count similarly to LC438.\n"
   ]
  },
  {
   "cell_type": "markdown",
   "id": "a598735b",
   "metadata": {},
   "source": [
    "## Solution Overview\n",
    "Maintain a fixed window over s2 with size len(s1), updating character counts and checking if histograms match exactly.\n"
   ]
  },
  {
   "cell_type": "markdown",
   "id": "1d28740e",
   "metadata": {},
   "source": [
    "## Detailed Explanation\n",
    "1. Build frequency counts for s1 and the first window in s2.\n",
    "2. Keep a matches counter for characters where counts align.\n",
    "3. Slide the window: add s2[right], remove s2[left], and update matches accordingly.\n",
    "4. If matches equals alphabet size for required characters, return True. Continue until all windows checked.\n"
   ]
  },
  {
   "cell_type": "markdown",
   "id": "dd9e9908",
   "metadata": {},
   "source": [
    "## Complexity Trade-off Table\n",
    "| Approach | Time | Space | Notes |\n",
    "| --- | --- | --- | --- |\n",
    "| Sort each window | O(n * L log L) | O(L) | L = len(p); repeated sorting per shift is too slow. |\n",
    "| Sliding window counts | O(n) | O(K) | Maintain running frequency counts; K = alphabet size (26 lowercase). |\n"
   ]
  },
  {
   "cell_type": "code",
   "execution_count": null,
   "id": "c89a1174",
   "metadata": {},
   "outputs": [],
   "source": [
    "from collections import Counter\n",
    "\n",
    "\n",
    "def check_inclusion(s1: str, s2: str) -> bool:\n",
    "    if len(s1) > len(s2):\n",
    "        return False\n",
    "    need = Counter(s1)\n",
    "    window = Counter()\n",
    "    required = len(need)\n",
    "    formed = 0\n",
    "    left = 0\n",
    "    for right, ch in enumerate(s2):\n",
    "        window[ch] += 1\n",
    "        if ch in need:\n",
    "            if window[ch] == need[ch]:\n",
    "                formed += 1\n",
    "            elif window[ch] == need[ch] + 1:\n",
    "                formed -= 1\n",
    "        if right - left + 1 > len(s1):\n",
    "            out_char = s2[left]\n",
    "            if out_char in need:\n",
    "                if window[out_char] == need[out_char]:\n",
    "                    formed -= 1\n",
    "                elif window[out_char] == need[out_char] + 1:\n",
    "                    formed += 1\n",
    "            window[out_char] -= 1\n",
    "            if window[out_char] == 0:\n",
    "                del window[out_char]\n",
    "            left += 1\n",
    "        if right - left + 1 == len(s1) and formed == required:\n",
    "            return True\n",
    "    return False\n",
    "\n",
    "\n",
    "def run_tests():\n",
    "    tests = [\n",
    "        ((\"ab\", \"eidbaooo\"), True),\n",
    "        ((\"ab\", \"eidboaoo\"), False),\n",
    "        ((\"adc\", \"dcda\"), True),\n",
    "    ]\n",
    "    for args, expected in tests:\n",
    "        assert check_inclusion(*args) == expected\n",
    "\n",
    "\n",
    "run_tests()\n"
   ]
  },
  {
   "cell_type": "markdown",
   "id": "84f58ab5",
   "metadata": {},
   "source": [
    "## Complexity Analysis\n",
    "- Each window update costs constant time => O(|s2|) runtime.\n",
    "- Counters store at most |alphabet| entries => O(1) extra space for lowercase letters.\n"
   ]
  },
  {
   "cell_type": "markdown",
   "id": "6c02474e",
   "metadata": {},
   "source": [
    "## Edge Cases & Pitfalls\n",
    "- When len(s1) > len(s2), return False immediately.\n",
    "- Repeated characters in s1 require exact multiplicity matches.\n",
    "- Ensure removal of counts when they drop to zero to keep map small.\n"
   ]
  },
  {
   "cell_type": "markdown",
   "id": "d88f2b96",
   "metadata": {},
   "source": [
    "## Follow-up Variants\n",
    "- Return the index where the permutation starts instead of a boolean.\n",
    "- Handle uppercase + lowercase alphabets simultaneously.\n"
   ]
  },
  {
   "cell_type": "markdown",
   "id": "669ccb02",
   "metadata": {},
   "source": [
    "## Takeaways\n",
    "- Permutation detection reduces to histogram equality over fixed windows.\n",
    "- An incremental match counter avoids O(|alphabet|) comparisons each step.\n"
   ]
  },
  {
   "cell_type": "markdown",
   "id": "71360cde",
   "metadata": {},
   "source": [
    "## Similar Problems\n",
    "| Problem ID | Problem Title | Technique |\n",
    "| --- | --- | --- |\n",
    "| 438 | Find All Anagrams in a String | Sliding window |\n",
    "| 567 | Permutation in String | Histogram equality |\n",
    "| 242 | Valid Anagram | Frequency comparison |\n"
   ]
  }
 ],
 "metadata": {
  "kernelspec": {
   "display_name": "Python 3 (ipykernel)",
   "language": "python",
   "name": "python3"
  },
  "language_info": {
   "codemirror_mode": {
    "name": "ipython",
    "version": 3
   },
   "file_extension": ".py",
   "mimetype": "text/x-python",
   "name": "python",
   "nbconvert_exporter": "python",
   "pygments_lexer": "ipython3",
   "version": "3.13.3"
  }
 },
 "nbformat": 4,
 "nbformat_minor": 5
}