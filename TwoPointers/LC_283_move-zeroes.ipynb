{
 "cells": [
  {
   "cell_type": "markdown",
   "metadata": {},
   "source": "# 283. Move Zeroes\n"
  },
  {
   "cell_type": "markdown",
   "metadata": {},
   "source": "## Topic Alignment\n- Applies two-pointer or sliding window reasoning to move zeroes, mirroring optimization of streaming features in production ML pipelines.\n- Reinforces how to maintain minimal state while scanning large sequences once.\n"
  },
  {
   "cell_type": "markdown",
   "metadata": {},
   "source": "## Metadata Summary\n- **Source**: [LeetCode](https://leetcode.com/problems/move-zeroes/)\n- **Tags**: Two Pointers, Array\n- **Difficulty**: Easy\n- **Priority**: High\n"
  },
  {
   "cell_type": "markdown",
   "metadata": {},
   "source": "## Problem Statement\nGiven an integer array nums, move all zeros to the end while maintaining the relative order of the non-zero elements. Do this in-place with the minimum number of operations.\n"
  },
  {
   "cell_type": "markdown",
   "metadata": {},
   "source": "## Progressive Hints\n- **Hint1**: Use a write pointer to compact non-zero elements.\n- **Hint2**: After copying non-zero values forward, fill the remainder with zeros.\n- **Hint3**: Minimize unnecessary writes when the array already has few zeros.\n"
  },
  {
   "cell_type": "markdown",
   "metadata": {},
   "source": "## Solution Overview\nTwo passes: first copy all non-zeros to the front using a write pointer, then fill the rest with zeros.\n"
  },
  {
   "cell_type": "markdown",
   "metadata": {},
   "source": "## Detailed Explanation\n1. Initialize write = 0.\n2. Iterate through nums; whenever nums[i] !=0, copy it to nums[write] and increment write.\n3. After the scan, fill nums[write:] with zeros.\n4. The relative order of non-zero elements is preserved because copying occurs in original order.\n"
  },
  {
   "cell_type": "markdown",
   "metadata": {},
   "source": "## Complexity Trade-off Table\n| Approach | Time | Space | Notes |\n| --- | --- | --- | --- |\n| Stable overwrite | O(n) | O(1) | Two-phase approach. |\n| Swap zeros with next non-zero | O(n) | O(1) | May perform more writes. |\n"
  },
  {
   "cell_type": "code",
   "metadata": {},
   "execution_count": null,
   "outputs": [],
   "source": "from typing import List\n\ndef move_zeroes(nums: List[int]) -> None:    write = 0    for num in nums:        if num != 0:            nums[write] = num            write += 1    for i in range(write, len(nums)):        nums[i] = 0\n\ndef run_tests():    tests = [        ([0, 1, 0, 3, 12], [1, 3, 12, 0, 0]),        ([0], [0]),        ([1, 2, 3], [1, 2, 3]),    ]    for nums, expected in tests:        move_zeroes(nums)        assert nums == expected\n\nrun_tests()"
  },
  {
   "cell_type": "markdown",
   "metadata": {},
   "source": "## Complexity Analysis\n- The list is scanned once to copy non-zeros and once to fill zeros => O(n) time.\n- Only integer indices used => O(1) space.\n"
  },
  {
   "cell_type": "markdown",
   "metadata": {},
   "source": "## Edge Cases & Pitfalls\n- Array with all zeros results in no copy operations but requires fill step.\n- Already compact array should not incur unnecessary writes; our algorithm writes each element exactly once.\n- Large arrays of non-zero values keep their order intact.\n"
  },
  {
   "cell_type": "markdown",
   "metadata": {},
   "source": "## Follow-up Variants\n- Adapt to move elements satisfying an arbitrary predicate to the end.\n- Perform the same operation on linked lists without extra space.\n"
  },
  {
   "cell_type": "markdown",
   "metadata": {},
   "source": "## Takeaways\n- Stable compaction is a fundamental two-pointer trick.\n- Separate scanning and filling phases keep logic simple and bug-free.\n"
  },
  {
   "cell_type": "markdown",
   "metadata": {},
   "source": "## Similar Problems\n| Problem ID | Problem Title | Technique |\n| --- | --- | --- |\n| 26 | Remove Duplicates from Sorted Array | Overwrite unique prefix |\n| 27 | Remove Element | Selective overwrite |\n| 905 | Sort Array By Parity | Partition by predicate |\n"
  }
 ],
 "metadata": {
  "kernelspec": {
   "display_name": "Python 3",
   "language": "python",
   "name": "python3"
  },
  "language_info": {
   "name": "python",
   "version": "3.8"
  }
 },
 "nbformat": 4,
 "nbformat_minor": 5
}