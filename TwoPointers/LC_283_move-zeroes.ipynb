{
 "cells": [
  {
   "cell_type": "markdown",
   "id": "487e54f9",
   "metadata": {},
   "source": [
    "# 283. Move Zeroes\n"
   ]
  },
  {
   "cell_type": "markdown",
   "id": "967b41f7",
   "metadata": {},
   "source": [
    "## Topic Alignment\n",
    "- Applies two-pointer or sliding window reasoning to move zeroes, mirroring optimization of streaming features in production ML pipelines.\n",
    "- Reinforces how to maintain minimal state while scanning large sequences once.\n"
   ]
  },
  {
   "cell_type": "markdown",
   "id": "4be88d35",
   "metadata": {},
   "source": [
    "## Metadata Summary\n",
    "- **Source**: [LeetCode](https://leetcode.com/problems/move-zeroes/)\n",
    "- **Tags**: Two Pointers, Array\n",
    "- **Difficulty**: Easy\n",
    "- **Priority**: High\n"
   ]
  },
  {
   "cell_type": "markdown",
   "id": "6fb82f6a",
   "metadata": {},
   "source": [
    "## Problem Statement\n",
    "Given an integer array nums, move all zeros to the end while maintaining the relative order of the non-zero elements. Do this in-place with the minimum number of operations.\n"
   ]
  },
  {
   "cell_type": "markdown",
   "id": "9e8291a9",
   "metadata": {},
   "source": [
    "## Progressive Hints\n",
    "- **Hint1**: Use a write pointer to compact non-zero elements.\n",
    "- **Hint2**: After copying non-zero values forward, fill the remainder with zeros.\n",
    "- **Hint3**: Minimize unnecessary writes when the array already has few zeros.\n"
   ]
  },
  {
   "cell_type": "markdown",
   "id": "80d7b746",
   "metadata": {},
   "source": [
    "## Solution Overview\n",
    "Two passes: first copy all non-zeros to the front using a write pointer, then fill the rest with zeros.\n"
   ]
  },
  {
   "cell_type": "markdown",
   "id": "1cb6f80c",
   "metadata": {},
   "source": [
    "## Detailed Explanation\n",
    "1. Initialize write = 0.\n",
    "2. Iterate through nums; whenever nums[i] !=0, copy it to nums[write] and increment write.\n",
    "3. After the scan, fill nums[write:] with zeros.\n",
    "4. The relative order of non-zero elements is preserved because copying occurs in original order.\n"
   ]
  },
  {
   "cell_type": "markdown",
   "id": "318c9807",
   "metadata": {},
   "source": [
    "## Complexity Trade-off Table\n",
    "| Approach | Time | Space | Notes |\n",
    "| --- | --- | --- | --- |\n",
    "| Stable overwrite | O(n) | O(1) | Two-phase approach. |\n",
    "| Swap zeros with next non-zero | O(n) | O(1) | May perform more writes. |\n"
   ]
  },
  {
   "cell_type": "code",
   "execution_count": null,
   "id": "8adaea81",
   "metadata": {},
   "outputs": [],
   "source": [
    "from typing import List\n",
    "\n",
    "\n",
    "def move_zeroes(nums: List[int]) -> None:\n",
    "    write = 0\n",
    "    for num in nums:\n",
    "        if num != 0:\n",
    "            nums[write] = num\n",
    "            write += 1\n",
    "    for i in range(write, len(nums)):\n",
    "        nums[i] = 0\n",
    "\n",
    "\n",
    "def run_tests():\n",
    "    tests = [\n",
    "        ([0, 1, 0, 3, 12], [1, 3, 12, 0, 0]),\n",
    "        ([0], [0]),\n",
    "        ([1, 2, 3], [1, 2, 3]),\n",
    "    ]\n",
    "    for nums, expected in tests:\n",
    "        move_zeroes(nums)\n",
    "        assert nums == expected\n",
    "\n",
    "\n",
    "run_tests()\n",
    "\n"
   ]
  },
  {
   "cell_type": "markdown",
   "id": "9dd3994e",
   "metadata": {},
   "source": [
    "## Complexity Analysis\n",
    "- The list is scanned once to copy non-zeros and once to fill zeros => O(n) time.\n",
    "- Only integer indices used => O(1) space.\n"
   ]
  },
  {
   "cell_type": "markdown",
   "id": "67971a1e",
   "metadata": {},
   "source": [
    "## Edge Cases & Pitfalls\n",
    "- Array with all zeros results in no copy operations but requires fill step.\n",
    "- Already compact array should not incur unnecessary writes; our algorithm writes each element exactly once.\n",
    "- Large arrays of non-zero values keep their order intact.\n"
   ]
  },
  {
   "cell_type": "markdown",
   "id": "b87033f9",
   "metadata": {},
   "source": [
    "## Follow-up Variants\n",
    "- Adapt to move elements satisfying an arbitrary predicate to the end.\n",
    "- Perform the same operation on linked lists without extra space.\n"
   ]
  },
  {
   "cell_type": "markdown",
   "id": "12b29846",
   "metadata": {},
   "source": [
    "## Takeaways\n",
    "- Stable compaction is a fundamental two-pointer trick.\n",
    "- Separate scanning and filling phases keep logic simple and bug-free.\n"
   ]
  },
  {
   "cell_type": "markdown",
   "id": "93dc31f5",
   "metadata": {},
   "source": [
    "## Similar Problems\n",
    "| Problem ID | Problem Title | Technique |\n",
    "| --- | --- | --- |\n",
    "| 26 | Remove Duplicates from Sorted Array | Overwrite unique prefix |\n",
    "| 27 | Remove Element | Selective overwrite |\n",
    "| 905 | Sort Array By Parity | Partition by predicate |\n"
   ]
  }
 ],
 "metadata": {
  "kernelspec": {
   "display_name": "Python 3 (ipykernel)",
   "language": "python",
   "name": "python3"
  },
  "language_info": {
   "codemirror_mode": {
    "name": "ipython",
    "version": 3
   },
   "file_extension": ".py",
   "mimetype": "text/x-python",
   "name": "python",
   "nbconvert_exporter": "python",
   "pygments_lexer": "ipython3",
   "version": "3.13.3"
  }
 },
 "nbformat": 4,
 "nbformat_minor": 5
}
