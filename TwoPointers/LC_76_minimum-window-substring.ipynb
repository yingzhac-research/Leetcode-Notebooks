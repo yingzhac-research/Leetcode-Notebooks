{
 "cells": [
  {
   "cell_type": "markdown",
   "id": "b0288141",
   "metadata": {},
   "source": [
    "# 76. Minimum Window Substring"
   ]
  },
  {
   "cell_type": "markdown",
   "id": "780055e8",
   "metadata": {},
   "source": [
    "## Topic Alignment\n",
    "- Applies two-pointer or sliding window reasoning to minimum window substring, mirroring optimization of streaming features in production ML pipelines.\n",
    "- Reinforces how to maintain minimal state while scanning large sequences once."
   ]
  },
  {
   "cell_type": "markdown",
   "id": "d8473f64",
   "metadata": {},
   "source": [
    "## Metadata Summary\n",
    "- **Source**: [LeetCode](https://leetcode.com/problems/minimum-window-substring/)\n",
    "- **Tags**: Sliding Window, Two Pointers, String\n",
    "- **Difficulty**: Hard\n",
    "- **Priority**: High"
   ]
  },
  {
   "cell_type": "markdown",
   "id": "9af74972",
   "metadata": {},
   "source": [
    "## Problem Statement\n",
    "Given two strings s and t, return the minimum window substring of s such that every character in t (including duplicates) is included in the window. If there is no such substring, return an empty string. The window must be contiguous."
   ]
  },
  {
   "cell_type": "markdown",
   "id": "9f2d5a2c",
   "metadata": {},
   "source": [
    "## Progressive Hints\n",
    "- **Hint 1**: Start with the brute-force idea of checking all substrings and see why it is too slow.\n",
    "- **Hint 2**: Maintain counts of characters as you expand and shrink a window.\n",
    "- **Hint 3**: Keep track of how many required characters have been satisfied to know when to shrink."
   ]
  },
  {
   "cell_type": "markdown",
   "id": "2babe8eb",
   "metadata": {},
   "source": [
    "## Solution Overview\n",
    "Use a sliding window with two pointers, expanding the right edge to include required characters and contracting the left edge while the window remains valid to capture the smallest length."
   ]
  },
  {
   "cell_type": "markdown",
   "id": "b9ee768a",
   "metadata": {},
   "source": [
    "## Detailed Explanation\n",
    "1. Precompute the frequency of each character in t and a counter of how many unique characters are satisfied in the current window.\n",
    "2. Expand the right pointer, adding characters to the window count. When a character's count matches the requirement, increment a formed counter.\n",
    "3. While formed equals the number of unique required characters, attempt to shrink the window by moving left, updating the best answer when the window length is smaller.\n",
    "4. When a required character count falls below the needed amount, stop shrinking and continue expanding."
   ]
  },
  {
   "cell_type": "markdown",
   "id": "d070407a",
   "metadata": {},
   "source": [
    "## Complexity Trade-off Table\n",
    "| Approach | Time | Space | Notes |\n",
    "| --- | --- | --- | --- |\n",
    "| Brute-force search | O(n^2) | O(1) | Too slow for large strings. |\n",
    "| Sliding window with hash tables | O(n) | O(|alphabet|) | Linear in length with frequency map. |\n"
   ]
  },
  {
   "cell_type": "code",
   "execution_count": null,
   "id": "d09063f1",
   "metadata": {},
   "outputs": [],
   "source": [
    "from collections import Counter\n",
    "\n",
    "\n",
    "def min_window(s: str, t: str) -> str:\n",
    "    if not t or not s:\n",
    "        return \"\"\n",
    "    need = Counter(t)\n",
    "    required = len(need)\n",
    "    have = 0\n",
    "    window = Counter()\n",
    "    best_length = float('inf')\n",
    "    best_bounds = (0, 0)\n",
    "    left = 0\n",
    "    for right, ch in enumerate(s):\n",
    "        window[ch] += 1\n",
    "        if ch in need and window[ch] == need[ch]:\n",
    "            have += 1\n",
    "        while have == required:\n",
    "            if right - left + 1 < best_length:\n",
    "                best_length = right - left + 1\n",
    "                best_bounds = (left, right)\n",
    "            left_char = s[left]\n",
    "            window[left_char] -= 1\n",
    "            if left_char in need and window[left_char] < need[left_char]:\n",
    "                have -= 1\n",
    "            left += 1\n",
    "    if best_length == float('inf'):\n",
    "        return \"\"\n",
    "    start, end = best_bounds\n",
    "    return s[start:end + 1]\n",
    "\n",
    "\n",
    "def run_tests():\n",
    "    tests = [\n",
    "        ((\"ADOBECODEBANC\", \"ABC\"), \"BANC\"),\n",
    "        ((\"a\", \"a\"), \"a\"),\n",
    "        ((\"a\", \"aa\"), \"\"),\n",
    "    ]\n",
    "    for args, expected in tests:\n",
    "        assert min_window(*args) == expected\n",
    "\n",
    "\n",
    "run_tests()"
   ]
  },
  {
   "cell_type": "markdown",
   "id": "c155e9a9",
   "metadata": {},
   "source": [
    "## Complexity Analysis\n",
    "- Each character is visited at most twice (once when right expands, once when left contracts) => O(|s|).\n",
    "- Need and window counters store at most |alphabet| entries => O(|alphabet|) space where |alphabet| is alphabet size.\n"
   ]
  },
  {
   "cell_type": "markdown",
   "id": "f4a47b4f",
   "metadata": {},
   "source": [
    "## Edge Cases & Pitfalls\n",
    "- t with repeated characters must be fully satisfied (e.g., AABC requires two As).\n",
    "- When s shorter than t, return empty string quickly.\n",
    "- Be careful with uppercase vs lowercase handling."
   ]
  },
  {
   "cell_type": "markdown",
   "id": "28cdfdf4",
   "metadata": {},
   "source": [
    "## Follow-up Variants\n",
    "- What if the alphabet includes Unicode?\n",
    "- Adapt the strategy to find minimum window subsequences (not contiguous)."
   ]
  },
  {
   "cell_type": "markdown",
   "id": "c214fb0b",
   "metadata": {},
   "source": [
    "## Takeaways\n",
    "- Sliding window problems hinge on tracking satisfaction counts efficiently.\n",
    "- Shrinking logic is as important as expansion; set clear invariants."
   ]
  },
  {
   "cell_type": "markdown",
   "id": "be6ce12b",
   "metadata": {},
   "source": [
    "## Similar Problems\n",
    "| Problem ID | Problem Title | Technique |\n",
    "| --- | --- | --- |\n",
    "| 424 | Longest Repeating Character Replacement | Window with frequency tracking |\n",
    "| 438 | Find All Anagrams in a String | Fixed-size window |\n",
    "| 567 | Permutation in String | Window with counts |"
   ]
  }
 ],
 "metadata": {
  "kernelspec": {
   "display_name": "Python 3 (ipykernel)",
   "language": "python",
   "name": "python3"
  },
  "language_info": {
   "codemirror_mode": {
    "name": "ipython",
    "version": 3
   },
   "file_extension": ".py",
   "mimetype": "text/x-python",
   "name": "python",
   "nbconvert_exporter": "python",
   "pygments_lexer": "ipython3",
   "version": "3.13.3"
  }
 },
 "nbformat": 4,
 "nbformat_minor": 5
}