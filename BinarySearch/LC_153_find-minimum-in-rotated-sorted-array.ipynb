{
 "cells": [
  {
   "cell_type": "markdown",
   "metadata": {},
   "source": [
    "# 153. Find Minimum in Rotated Sorted Array\n"
   ]
  },
  {
   "cell_type": "markdown",
   "metadata": {},
   "source": [
    "## Topic Alignment\n",
    "- **Role Relevance**: Identify the earliest deployment timestamp in a rotated log sequence.\n",
    "- **Scenario**: Monitor cluster upgrades by locating the smallest build number inside a rotated set of version ids.\n"
   ]
  },
  {
   "cell_type": "markdown",
   "metadata": {},
   "source": [
    "## Metadata Summary\n",
    "- Source: [Find Minimum in Rotated Sorted Array](https://leetcode.com/problems/find-minimum-in-rotated-sorted-array/)\n",
    "- Tags: `Array`, `Binary Search`\n",
    "- Difficulty: Medium\n",
    "- Recommended Priority: Medium\n"
   ]
  },
  {
   "cell_type": "markdown",
   "metadata": {},
   "source": [
    "## Problem Statement\n",
    "An array of length `n` sorted in strictly increasing order is rotated between `1` and `n` times. Given the rotated array `nums`, return the minimum element of `nums`.\n",
    "\n",
    "The rotation preserves uniqueness, so no duplicate values appear.\n",
    "\n"
   ]
  },
  {
   "cell_type": "markdown",
   "metadata": {},
   "source": [
    "## Progressive Hints\n",
    "- Compare `nums[mid]` with the right boundary to decide which side is sorted.\n",
    "- If `nums[mid]` is less than `nums[right]`, the minimum lies in the left half including `mid`.\n",
    "- Track the best candidate while shrinking the interval.\n"
   ]
  },
  {
   "cell_type": "markdown",
   "metadata": {},
   "source": [
    "## Solution Overview\n",
    "Binary search the inflection point that represents the smallest value. By comparing the midpoint to the right boundary you can discard half the array while retaining the minimum.\n"
   ]
  },
  {
   "cell_type": "markdown",
   "metadata": {},
   "source": [
    "## Detailed Explanation\n",
    "1. Initialize `left = 0`, `right = len(nums) - 1`, and `answer = nums[0]`.\n",
    "2. While `left <= right`, set `mid` as the midpoint.\n",
    "3. Update `answer` with `nums[mid]` when it is smaller.\n",
    "4. If `nums[mid]` is less than `nums[right]`, the right half is sorted, so move `right = mid - 1` to look for even smaller values.\n",
    "5. Otherwise the minimum sits in the right half, so set `left = mid + 1`.\n",
    "6. Return the best `answer` recorded.\n"
   ]
  },
  {
   "cell_type": "markdown",
   "metadata": {},
   "source": [
    "## Complexity Trade-off Table\n",
    "| Approach | Time Complexity | Space Complexity | Notes |\n",
    "| --- | --- | --- | --- |\n",
    "| Boundary analysis binary search | O(log n) | O(1) | Evaluates which half remains rotated |\n",
    "| Linear scan | O(n) | O(1) | Simple but loses the logarithmic advantage |\n",
    "\n"
   ]
  },
  {
   "cell_type": "markdown",
   "metadata": {},
   "source": [
    "## Reference Implementation\n"
   ]
  },
  {
   "cell_type": "code",
   "execution_count": null,
   "metadata": {},
   "outputs": [],
   "source": [
    "from typing import List\n",
    "\n",
    "\n",
    "def find_min(nums: List[int]) -> int:\n",
    "    left, right = 0, len(nums) - 1\n",
    "    best = nums[0]\n",
    "    while left <= right:\n",
    "        mid = left + (right - left) // 2\n",
    "        best = min(best, nums[mid])\n",
    "        if nums[mid] <= nums[right]:\n",
    "            right = mid - 1\n",
    "        else:\n",
    "            left = mid + 1\n",
    "    return best\n"
   ]
  },
  {
   "cell_type": "markdown",
   "metadata": {},
   "source": [
    "## Validation\n"
   ]
  },
  {
   "cell_type": "code",
   "execution_count": null,
   "metadata": {},
   "outputs": [],
   "source": [
    "cases = [\n",
    "    (([3, 4, 5, 1, 2],), 1),\n",
    "    (([4, 5, 6, 7, 0, 1, 2],), 0),\n",
    "    (([11, 13, 15, 17],), 11),\n",
    "    (([2],), 2),\n",
    "]\n",
    "for args, expected in cases:\n",
    "    result = find_min(*args)\n",
    "    assert result == expected, f\"find_min{args} -> {result}, expected {expected}\"\n"
   ]
  },
  {
   "cell_type": "markdown",
   "metadata": {},
   "source": [
    "## Complexity Analysis\n",
    "- Time Complexity: `O(log n)` because the search window halves each loop.\n",
    "- Space Complexity: `O(1)` due to constant auxiliary variables.\n",
    "- Bottleneck: Conditional reasoning about which half remains rotated.\n",
    "\n"
   ]
  },
  {
   "cell_type": "markdown",
   "metadata": {},
   "source": [
    "## Edge Cases & Pitfalls\n",
    "- Arrays rotated back to sorted order (no rotation).\n",
    "- Single element arrays.\n",
    "- Rotations where the minimum sits adjacent to the boundaries.\n",
    "\n"
   ]
  },
  {
   "cell_type": "markdown",
   "metadata": {},
   "source": [
    "## Follow-up Variants\n",
    "- Adapt the algorithm to handle duplicate values, which requires a guard for equal boundaries.\n",
    "- Combine the minimum search with a subsequent lookup for a target value by reusing the pivot.\n",
    "- Discuss detecting the rotation count once the minimum is known.\n",
    "\n"
   ]
  },
  {
   "cell_type": "markdown",
   "metadata": {},
   "source": [
    "## Takeaways\n",
    "- Comparing the midpoint with the right boundary reveals where the rotation pivot lies.\n",
    "- Recording the best candidate prevents losing the answer while moving bounds.\n",
    "\n"
   ]
  },
  {
   "cell_type": "markdown",
   "metadata": {},
   "source": [
    "## Similar Problems\n",
    "| Problem ID | Problem Title | Technique |\n",
    "| --- | --- | --- |\n",
    "| 154 | Find Minimum in Rotated Sorted Array II | Duplicate-aware binary search |\n",
    "| 33 | Search in Rotated Sorted Array | Pivot-guided search |\n",
    "\n"
   ]
  }
 ],
 "metadata": {
  "kernelspec": {
   "display_name": "Python 3 (ipykernel)",
   "language": "python",
   "name": "python3"
  },
  "language_info": {
   "codemirror_mode": {
    "name": "ipython",
    "version": 3
   },
   "file_extension": ".py",
   "mimetype": "text/x-python",
   "name": "python",
   "nbconvert_exporter": "python",
   "pygments_lexer": "ipython3",
   "version": "3.13.3"
  }
 },
 "nbformat": 4,
 "nbformat_minor": 5
}
