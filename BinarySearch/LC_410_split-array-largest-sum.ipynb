{
 "cells": [
  {
   "cell_type": "markdown",
   "metadata": {},
   "source": [
    "# 410. Split Array Largest Sum\n"
   ]
  },
  {
   "cell_type": "markdown",
   "metadata": {},
   "source": [
    "## Topic Alignment\n",
    "- **Role Relevance**: Partition user traffic into shards while controlling the largest shard load.\n",
    "- **Scenario**: Determine the minimal max batch size when splitting jobs into `k` sequential groups.\n"
   ]
  },
  {
   "cell_type": "markdown",
   "metadata": {},
   "source": [
    "## Metadata Summary\n",
    "- Source: [Split Array Largest Sum](https://leetcode.com/problems/split-array-largest-sum/)\n",
    "- Tags: `Array`, `Binary Search`, `Dynamic Programming`\n",
    "- Difficulty: Hard\n",
    "- Recommended Priority: High\n"
   ]
  },
  {
   "cell_type": "markdown",
   "metadata": {},
   "source": [
    "## Problem Statement\n",
    "Given an array `nums` which consists of non-negative integers and an integer `k`, split the array into `k` non-empty continuous subarrays. Minimize the largest sum among these subarrays and return that minimum value.\n",
    "\n"
   ]
  },
  {
   "cell_type": "markdown",
   "metadata": {},
   "source": [
    "## Progressive Hints\n",
    "- Binary search the maximum allowed subarray sum between `max(nums)` and `sum(nums)`.\n",
    "- Check feasibility by greedily forming subarrays whose sums stay within the proposed limit.\n",
    "- Shrinking the limit when feasible will tighten the optimal answer.\n"
   ]
  },
  {
   "cell_type": "markdown",
   "metadata": {},
   "source": [
    "## Solution Overview\n",
    "Treat the objective as minimizing the maximum subarray sum. A higher limit always remains feasible, so binary search the smallest limit that allows splitting the array into at most `k` parts.\n"
   ]
  },
  {
   "cell_type": "markdown",
   "metadata": {},
   "source": [
    "## Detailed Explanation\n",
    "1. Use `left = max(nums)` and `right = sum(nums)` as the search bounds.\n",
    "2. For a candidate cap `mid`, greedily accumulate sums until exceeding `mid`, then start a new partition and increment the count.\n",
    "3. If the number of partitions exceeds `k`, the cap is too low, so raise `left = mid + 1`.\n",
    "4. Otherwise the cap is feasible; reduce `right = mid` to search for a tighter bound.\n",
    "5. Return `left` once the bounds converge.\n"
   ]
  },
  {
   "cell_type": "markdown",
   "metadata": {},
   "source": [
    "## Complexity Trade-off Table\n",
    "| Approach | Time Complexity | Space Complexity | Notes |\n",
    "| --- | --- | --- | --- |\n",
    "| Binary search with greedy check | O(n log sum(nums)) | O(1) | Efficient for the given constraints |\n",
    "| Dynamic programming | O(n^2 * k) | O(n * k) | Accurate but exceeds limits for large `n` |\n",
    "\n"
   ]
  },
  {
   "cell_type": "markdown",
   "metadata": {},
   "source": [
    "## Reference Implementation\n"
   ]
  },
  {
   "cell_type": "code",
   "execution_count": null,
   "metadata": {},
   "outputs": [],
   "source": [
    "from typing import List\n",
    "\n",
    "\n",
    "def split_array(nums: List[int], k: int) -> int:\n",
    "    left, right = max(nums), sum(nums)\n",
    "    while left < right:\n",
    "        mid = left + (right - left) // 2\n",
    "        needed = 1\n",
    "        current = 0\n",
    "        for num in nums:\n",
    "            if current + num > mid:\n",
    "                needed += 1\n",
    "                current = 0\n",
    "            current += num\n",
    "        if needed > k:\n",
    "            left = mid + 1\n",
    "        else:\n",
    "            right = mid\n",
    "    return left\n"
   ]
  },
  {
   "cell_type": "markdown",
   "metadata": {},
   "source": [
    "## Validation\n"
   ]
  },
  {
   "cell_type": "code",
   "execution_count": null,
   "metadata": {},
   "outputs": [],
   "source": [
    "cases = [\n",
    "    (([7, 2, 5, 10, 8], 2), 18),\n",
    "    (([1, 2, 3, 4, 5], 2), 9),\n",
    "    (([1, 4, 4], 3), 4),\n",
    "]\n",
    "for args, expected in cases:\n",
    "    result = split_array(*args)\n",
    "    assert result == expected, f\"split_array{args} -> {result}, expected {expected}\"\n"
   ]
  },
  {
   "cell_type": "markdown",
   "metadata": {},
   "source": [
    "## Complexity Analysis\n",
    "- Time Complexity: `O(n log sum(nums))` because each feasibility check is linear.\n",
    "- Space Complexity: `O(1)` auxiliary data.\n",
    "- Bottleneck: The cumulative pass over `nums` per iteration.\n",
    "\n"
   ]
  },
  {
   "cell_type": "markdown",
   "metadata": {},
   "source": [
    "## Edge Cases & Pitfalls\n",
    "- `k` equal to `len(nums)` so each element stands alone.\n",
    "- `k = 1`, meaning the answer equals the total sum.\n",
    "- Arrays containing zero values.\n",
    "\n"
   ]
  },
  {
   "cell_type": "markdown",
   "metadata": {},
   "source": [
    "## Follow-up Variants\n",
    "- Compare with the DP solution to understand the value of binary search.\n",
    "- Explore minimizing the number of partitions when the cap is fixed.\n",
    "- Discuss streaming variants where the array is read once.\n",
    "\n"
   ]
  },
  {
   "cell_type": "markdown",
   "metadata": {},
   "source": [
    "## Takeaways\n",
    "- Greedy feasibility checks pair naturally with binary search over answer space.\n",
    "- Lower and upper bounds come from obvious constraints on the target value.\n",
    "\n"
   ]
  },
  {
   "cell_type": "markdown",
   "metadata": {},
   "source": [
    "## Similar Problems\n",
    "| Problem ID | Problem Title | Technique |\n",
    "| --- | --- | --- |\n",
    "| 1011 | Capacity to Ship Packages Within D Days | Greedy feasibility |\n",
    "| 875 | Koko Eating Bananas | Binary search on rate |\n",
    "\n"
   ]
  }
 ],
 "metadata": {
  "kernelspec": {
   "display_name": "Python 3 (ipykernel)",
   "language": "python",
   "name": "python3"
  },
  "language_info": {
   "codemirror_mode": {
    "name": "ipython",
    "version": 3
   },
   "file_extension": ".py",
   "mimetype": "text/x-python",
   "name": "python",
   "nbconvert_exporter": "python",
   "pygments_lexer": "ipython3",
   "version": "3.13.3"
  }
 },
 "nbformat": 4,
 "nbformat_minor": 5
}
