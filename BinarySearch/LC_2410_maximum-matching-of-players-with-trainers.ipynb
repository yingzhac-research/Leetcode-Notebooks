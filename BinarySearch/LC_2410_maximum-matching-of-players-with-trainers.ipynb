{
 "cells": [
  {
   "cell_type": "markdown",
   "metadata": {},
   "source": [
    "# 2410. Maximum Matching of Players With Trainers\n"
   ]
  },
  {
   "cell_type": "markdown",
   "metadata": {},
   "source": [
    "## Topic Alignment\n",
    "- **Role Relevance**: Pair limited compute slots with tasks that have minimum resource demands.\n",
    "- **Scenario**: Match ML jobs to GPU nodes so that each job runs on a node meeting its requirement without oversubscribing hardware.\n",
    "\n"
   ]
  },
  {
   "cell_type": "markdown",
   "metadata": {},
   "source": [
    "## Metadata Summary\n",
    "- Source: [Maximum Matching of Players With Trainers](https://leetcode.com/problems/maximum-matching-of-players-with-trainers/)\n",
    "- Tags: `Array`, `Binary Search`, `Greedy`\n",
    "- Difficulty: Medium\n",
    "- Recommended Priority: Medium\n",
    "\n"
   ]
  },
  {
   "cell_type": "markdown",
   "metadata": {},
   "source": [
    "## Problem Statement\n",
    "You are given two integer arrays `players` and `trainers`. The `i`-th player has a skill level `players[i]`, and the `j`-th trainer has a training capacity `trainers[j]`. A player can be matched to a trainer only if the trainer's capacity is greater than or equal to the player's skill level.\n",
    "\n",
    "You can assign each trainer to at most one player and each player to at most one trainer. Return the maximum number of matchings you can achieve.\n",
    "\n"
   ]
  },
  {
   "cell_type": "markdown",
   "metadata": {},
   "source": [
    "## Progressive Hints\n",
    "- Sort both arrays so that trainers and players can be processed in ascending order.\n",
    "- Reuse `bisect_left` with a moving lower bound to locate the first trainer that can handle the current player.\n",
    "- Advance the lower bound after every assignment to ensure each trainer is used at most once.\n"
   ]
  },
  {
   "cell_type": "markdown",
   "metadata": {},
   "source": [
    "## Solution Overview\n",
    "After sorting players and trainers, iterate through the players in ascending skill. For each player, binary search the trainer list starting from the first unused index to find the earliest trainer whose capacity is sufficient. If one exists, record a match and advance the starting index so future searches consider only unused trainers.\n"
   ]
  },
  {
   "cell_type": "markdown",
   "metadata": {},
   "source": [
    "## Detailed Explanation\n",
    "1. Sort `players` and `trainers` independently in non-decreasing order.\n",
    "2. Maintain a pointer `start` that marks the first trainer index that has not yet been assigned.\n",
    "3. For each player skill, call `bisect_left(trainers, skill, lo=start)` to find the first trainer who can cover that skill.\n",
    "4. If the search returns a valid index inside the array, increment the match counter and set `start = index + 1` so that trainer cannot be reused.\n",
    "5. If no trainer is available, skip the player; all remaining players require at least as much skill, so the loop can finish early.\n",
    "6. Return the accumulated match count.\n"
   ]
  },
  {
   "cell_type": "markdown",
   "metadata": {},
   "source": [
    "## Complexity Trade-off Table\n",
    "| Approach | Time Complexity | Space Complexity | Notes |\n",
    "| --- | --- | --- | --- |\n",
    "| Sorted greedy with binary search | O(n log n + m log m) | O(1) | Uses `bisect_left` per player to locate the next free trainer |\n",
    "| Two-pointer greedy | O(n log n + m log m) | O(1) | Slightly faster in practice by scanning once without binary search |\n",
    "| Multiset or heap structure | O((n + m) log m) | O(m) | Flexible when trainers arrive online but needs extra storage |\n",
    "\n"
   ]
  },
  {
   "cell_type": "markdown",
   "metadata": {},
   "source": [
    "## Reference Implementation\n"
   ]
  },
  {
   "cell_type": "code",
   "execution_count": null,
   "metadata": {},
   "outputs": [],
   "source": [
    "from bisect import bisect_left\n",
    "from typing import List\n",
    "\n",
    "\n",
    "def max_match(players: List[int], trainers: List[int]) -> int:\n",
    "    players.sort()\n",
    "    trainers.sort()\n",
    "    matched = 0\n",
    "    start = 0\n",
    "    n = len(trainers)\n",
    "    for skill in players:\n",
    "        if start >= n:\n",
    "            break\n",
    "        idx = bisect_left(trainers, skill, lo=start)\n",
    "        if idx == n:\n",
    "            break\n",
    "        matched += 1\n",
    "        start = idx + 1\n",
    "    return matched\n"
   ]
  },
  {
   "cell_type": "markdown",
   "metadata": {},
   "source": [
    "## Validation\n"
   ]
  },
  {
   "cell_type": "code",
   "execution_count": null,
   "metadata": {},
   "outputs": [],
   "source": [
    "cases = [\n",
    "    (([4, 7, 9], [8, 2, 5, 8]), 2),\n",
    "    (([1, 1, 1], [10]), 1),\n",
    "    (([5, 6], [1, 2, 3]), 0),\n",
    "    (([3, 3, 3], [3, 3, 3]), 3),\n",
    "    (([2, 4, 6, 8], [1, 3, 5, 7, 9]), 3),\n",
    "]\n",
    "for args, expected in cases:\n",
    "    result = max_match(*args)\n",
    "    assert result == expected, f\"max_match{args} -> {result}, expected {expected}\"\n"
   ]
  },
  {
   "cell_type": "markdown",
   "metadata": {},
   "source": [
    "## Complexity Analysis\n",
    "- Time Complexity: `O((n + m) log m)` dominated by sorting and the binary search per player.\n",
    "- Space Complexity: `O(1)` beyond the input arrays when sorting in place.\n",
    "- Bottleneck: The repeated `bisect_left` calls, though amortized by moving the lower bound forward.\n",
    "\n"
   ]
  },
  {
   "cell_type": "markdown",
   "metadata": {},
   "source": [
    "## Edge Cases & Pitfalls\n",
    "- More players than trainers, where the pointer quickly reaches the end of the trainer list.\n",
    "- Multiple players with identical skill values that need distinct trainers.\n",
    "- Trainers with capacities below the weakest player, causing an early termination.\n",
    "\n"
   ]
  },
  {
   "cell_type": "markdown",
   "metadata": {},
   "source": [
    "## Follow-up Variants\n",
    "- Consider streaming trainers and maintain a balanced binary search tree to match players online.\n",
    "- Allow each trainer to handle multiple players up to their capacity and analyze how the feasibility check changes.\n",
    "- Track the number of binary search probes (analogous to API calls) to reason about latency-sensitive deployments.\n",
    "\n"
   ]
  },
  {
   "cell_type": "markdown",
   "metadata": {},
   "source": [
    "## Takeaways\n",
    "- Binary searching from a moving lower bound lets us reuse sorted data without expensive deletions.\n",
    "- Greedy matching remains optimal when players and trainers are processed in ascending order.\n",
    "\n"
   ]
  },
  {
   "cell_type": "markdown",
   "metadata": {},
   "source": [
    "## Similar Problems\n",
    "| Problem ID | Problem Title | Technique |\n",
    "| --- | --- | --- |\n",
    "| 300 | Longest Increasing Subsequence | Binary search with patience sorting |\n",
    "| 2070 | Most Beautiful Item for Each Query | Offline sort + binary search |\n",
    "\n"
   ]
  }
 ],
 "metadata": {
  "kernelspec": {
   "display_name": "Python 3 (ipykernel)",
   "language": "python",
   "name": "python3"
  },
  "language_info": {
   "codemirror_mode": {
    "name": "ipython",
    "version": 3
   },
   "file_extension": ".py",
   "mimetype": "text/x-python",
   "name": "python",
   "nbconvert_exporter": "python",
   "pygments_lexer": "ipython3",
   "version": "3.13.3"
  }
 },
 "nbformat": 4,
 "nbformat_minor": 5
}
