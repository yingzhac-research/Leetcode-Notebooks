{
 "cells": [
  {
   "cell_type": "markdown",
   "metadata": {},
   "source": [
    "# 875. Koko Eating Bananas\n"
   ]
  },
  {
   "cell_type": "markdown",
   "metadata": {},
   "source": [
    "## Topic Alignment\n",
    "- **Role Relevance**: Determine the minimum processing rate to complete batched jobs before a deadline.\n",
    "- **Scenario**: Size a server's throughput so that all queues finish before maintenance.\n"
   ]
  },
  {
   "cell_type": "markdown",
   "metadata": {},
   "source": [
    "## Metadata Summary\n",
    "- Source: [Koko Eating Bananas](https://leetcode.com/problems/koko-eating-bananas/)\n",
    "- Tags: `Binary Search`, `Simulation`\n",
    "- Difficulty: Medium\n",
    "- Recommended Priority: Medium\n"
   ]
  },
  {
   "cell_type": "markdown",
   "metadata": {},
   "source": [
    "## Problem Statement\n",
    "Koko loves to eat bananas. There are `piles` of bananas where `piles[i]` represents the number of bananas in the `i`\\-th pile. The guards leave for `h` hours. Koko decides to eat at a constant speed of `k` bananas per hour. If a pile has fewer than `k` bananas, she consumes it in one hour and does not continue eating from the next pile in the same hour.\n",
    "\n",
    "Return the minimum integer `k` such that Koko can eat all bananas within `h` hours.\n",
    "\n"
   ]
  },
  {
   "cell_type": "markdown",
   "metadata": {},
   "source": [
    "## Progressive Hints\n",
    "- Binary search the answer `k` between `1` and `max(piles)`.\n",
    "- Use ceiling division to compute the time needed at a given speed.\n",
    "- Shrink the range based on whether the current speed meets the deadline.\n"
   ]
  },
  {
   "cell_type": "markdown",
   "metadata": {},
   "source": [
    "## Solution Overview\n",
    "The time needed is monotonic with respect to the eating speed. Binary search the smallest speed that completes every pile within `h` hours, starting from the tight bounds `[1, max(piles)]`.\n",
    "\n"
   ]
  },
  {
   "cell_type": "markdown",
   "metadata": {},
   "source": [
    "## Detailed Explanation\n",
    "1. Set `left = 1` and `right = max(piles)` because the minimum feasible speed must be positive and the maximum pile size is a guaranteed upper bound (eating that pile in one hour).\n",
    "2. For a candidate speed `mid`, accumulate the hours required by summing ceiling divisions for each pile.\n",
    "3. If the total hours exceed `h`, move `left = mid + 1`; otherwise tighten the high bound `right = mid`.\n",
    "4. Return `left` after the interval collapses.\n",
    "\n"
   ]
  },
  {
   "cell_type": "markdown",
   "metadata": {},
   "source": [
    "## Complexity Trade-off Table\n",
    "| Approach | Time Complexity | Space Complexity | Notes |\n",
    "| --- | --- | --- | --- |\n",
    "| Binary search on speed | O(n log max(piles)) | O(1) | Efficient for large pile sizes |\n",
    "| Incremental speed test | O(n * max(piles)) | O(1) | Too slow when pile counts are big |\n",
    "\n"
   ]
  },
  {
   "cell_type": "markdown",
   "metadata": {},
   "source": [
    "## Reference Implementation\n"
   ]
  },
  {
   "cell_type": "code",
   "execution_count": null,
   "metadata": {},
   "outputs": [],
   "source": [
    "from typing import List\n",
    "\n",
    "\n",
    "def min_eating_speed(piles: List[int], h: int) -> int:\n",
    "    left, right = 1, max(piles)\n",
    "    while left < right:\n",
    "        mid = left + (right - left) // 2\n",
    "        hours = sum((pile + mid - 1) // mid for pile in piles)\n",
    "        if hours > h:\n",
    "            left = mid + 1\n",
    "        else:\n",
    "            right = mid\n",
    "    return left\n"
   ]
  },
  {
   "cell_type": "markdown",
   "metadata": {},
   "source": [
    "## Validation\n"
   ]
  },
  {
   "cell_type": "code",
   "execution_count": null,
   "metadata": {},
   "outputs": [],
   "source": [
    "cases = [\n",
    "    (([3, 6, 7, 11], 8), 4),\n",
    "    (([30, 11, 23, 4, 20], 5), 30),\n",
    "    (([30, 11, 23, 4, 20], 6), 23),\n",
    "]\n",
    "for args, expected in cases:\n",
    "    result = min_eating_speed(*args)\n",
    "    assert result == expected, f\"min_eating_speed{args} -> {result}, expected {expected}\"\n"
   ]
  },
  {
   "cell_type": "markdown",
   "metadata": {},
   "source": [
    "## Complexity Analysis\n",
    "- Time Complexity: `O(n log max(piles))` for counting hours at each binary search step.\n",
    "- Space Complexity: `O(1)` auxiliary memory.\n",
    "- Bottleneck: Summation across all piles each iteration.\n",
    "\n"
   ]
  },
  {
   "cell_type": "markdown",
   "metadata": {},
   "source": [
    "## Edge Cases & Pitfalls\n",
    "- Single pile scenarios.\n",
    "- Large piles with tight deadlines.\n",
    "- Deadlines equal to the number of piles where each pile must be eaten in one hour.\n",
    "\n"
   ]
  },
  {
   "cell_type": "markdown",
   "metadata": {},
   "source": [
    "## Follow-up Variants\n",
    "- Allow fractional speeds and discuss how to handle rounding.\n",
    "- Extend to multiple workers eating in parallel with independent speeds.\n",
    "- Derive sharper lower and upper bounds using average consumption or the ceiling of `sum(piles) / h`.\n",
    "- Introduce pile replenishment and analyze whether the monotonic property still holds.\n",
    "\n"
   ]
  },
  {
   "cell_type": "markdown",
   "metadata": {},
   "source": [
    "## Takeaways\n",
    "- Answer binary search works whenever the feasibility predicate is monotonic.\n",
    "- Ceiling division converts rate problems into integer arithmetic.\n",
    "\n"
   ]
  },
  {
   "cell_type": "markdown",
   "metadata": {},
   "source": [
    "## Similar Problems\n",
    "| Problem ID | Problem Title | Technique |\n",
    "| --- | --- | --- |\n",
    "| 1231 | Divide Chocolate | Binary search on minimum sweetness |\n",
    "| 2187 | Minimum Time to Complete Trips | Binary search on rate |\n",
    "\n"
   ]
  }
 ],
 "metadata": {
  "kernelspec": {
   "display_name": "Python 3 (ipykernel)",
   "language": "python",
   "name": "python3"
  },
  "language_info": {
   "codemirror_mode": {
    "name": "ipython",
    "version": 3
   },
   "file_extension": ".py",
   "mimetype": "text/x-python",
   "name": "python",
   "nbconvert_exporter": "python",
   "pygments_lexer": "ipython3",
   "version": "3.13.3"
  }
 },
 "nbformat": 4,
 "nbformat_minor": 5
}
