{
 "cells": [
  {
   "cell_type": "markdown",
   "metadata": {},
   "source": [
    "# 1482. Minimum Number of Days to Make m Bouquets\n"
   ]
  },
  {
   "cell_type": "markdown",
   "metadata": {},
   "source": [
    "## Topic Alignment\n",
    "- **Role Relevance**: Schedule manufacturing batches that require consecutive inputs to be ready.\n",
    "- **Scenario**: Choose the earliest day when enough adjacent components reach maturity to assemble kits.\n"
   ]
  },
  {
   "cell_type": "markdown",
   "metadata": {},
   "source": [
    "## Metadata Summary\n",
    "- Source: [Minimum Number of Days to Make m Bouquets](https://leetcode.com/problems/minimum-number-of-days-to-make-m-bouquets/)\n",
    "- Tags: `Array`, `Binary Search`\n",
    "- Difficulty: Medium\n",
    "- Recommended Priority: Medium\n"
   ]
  },
  {
   "cell_type": "markdown",
   "metadata": {},
   "source": [
    "## Problem Statement\n",
    "Given an integer array `bloomDay`, an integer `m`, and an integer `k`, you need to make `m` bouquets. To make one bouquet you need to use `k` consecutive flowers from the garden. The `i`\\-th flower blooms on day `bloomDay[i]`.\n",
    "\n",
    "Return the minimum number of days you need to wait until you can make `m` bouquets. If it is impossible, return `-1`.\n",
    "\n"
   ]
  },
  {
   "cell_type": "markdown",
   "metadata": {},
   "source": [
    "## Progressive Hints\n",
    "- Binary search the answer between `min(bloomDay)` and `max(bloomDay)`.\n",
    "- A day is feasible if you can count at least `m` disjoint groups of `k` consecutive flowers that have bloomed by that day.\n",
    "- Reset the consecutive counter whenever you encounter an unbloomed flower.\n"
   ]
  },
  {
   "cell_type": "markdown",
   "metadata": {},
   "source": [
    "## Solution Overview\n",
    "Feasibility is monotonic with respect to days. For a candidate day, scan the array to count how many bouquets can be formed from consecutive blooms. Binary search the smallest day where the count reaches `m`.\n"
   ]
  },
  {
   "cell_type": "markdown",
   "metadata": {},
   "source": [
    "## Detailed Explanation\n",
    "1. If `m * k > len(bloomDay)`, return `-1` immediately because not enough flowers exist.\n",
    "2. Binary search on days between `low = min(bloomDay)` and `high = max(bloomDay)`.\n",
    "3. For a day `mid`, traverse the array counting consecutive blooms (`bloomDay[i] <= mid`).\n",
    "4. Each time the count hits `k`, increment the bouquet count and reset the counter.\n",
    "5. If bouquets reach `m`, the day is feasible; otherwise it is not.\n",
    "6. Adjust the search range until the minimum feasible day remains.\n"
   ]
  },
  {
   "cell_type": "markdown",
   "metadata": {},
   "source": [
    "## Complexity Trade-off Table\n",
    "| Approach | Time Complexity | Space Complexity | Notes |\n",
    "| --- | --- | --- | --- |\n",
    "| Binary search on days | O(n log range) | O(1) | Handles large bloom ranges efficiently |\n",
    "| Simulation day by day | O(n * range) | O(1) | Intractable when bloom days are large |\n",
    "\n"
   ]
  },
  {
   "cell_type": "markdown",
   "metadata": {},
   "source": [
    "## Reference Implementation\n"
   ]
  },
  {
   "cell_type": "code",
   "execution_count": null,
   "metadata": {},
   "outputs": [],
   "source": [
    "from typing import List\n",
    "\n",
    "\n",
    "def min_days(bloom_day: List[int], m: int, k: int) -> int:\n",
    "    if m * k > len(bloom_day):\n",
    "        return -1\n",
    "    left, right = min(bloom_day), max(bloom_day)\n",
    "    while left < right:\n",
    "        mid = left + (right - left) // 2\n",
    "        bouquets = 0\n",
    "        consecutive = 0\n",
    "        for day in bloom_day:\n",
    "            if day <= mid:\n",
    "                consecutive += 1\n",
    "                if consecutive == k:\n",
    "                    bouquets += 1\n",
    "                    consecutive = 0\n",
    "            else:\n",
    "                consecutive = 0\n",
    "        if bouquets >= m:\n",
    "            right = mid\n",
    "        else:\n",
    "            left = mid + 1\n",
    "    return left\n"
   ]
  },
  {
   "cell_type": "markdown",
   "metadata": {},
   "source": [
    "## Validation\n"
   ]
  },
  {
   "cell_type": "code",
   "execution_count": null,
   "metadata": {},
   "outputs": [],
   "source": [
    "cases = [\n",
    "    (([1, 10, 3, 10, 2], 3, 1), 3),\n",
    "    (([1, 10, 3, 10, 2], 3, 2), -1),\n",
    "    (([7, 7, 7, 7, 12, 7, 7], 2, 3), 12),\n",
    "]\n",
    "for args, expected in cases:\n",
    "    result = min_days(*args)\n",
    "    assert result == expected, f\"min_days{args} -> {result}, expected {expected}\"\n"
   ]
  },
  {
   "cell_type": "markdown",
   "metadata": {},
   "source": [
    "## Complexity Analysis\n",
    "- Time Complexity: `O(n log range)` where `range = max(bloomDay) - min(bloomDay)`.\n",
    "- Space Complexity: `O(1)` temporary storage.\n",
    "- Bottleneck: Full scan of the bloom array per candidate day.\n",
    "\n"
   ]
  },
  {
   "cell_type": "markdown",
   "metadata": {},
   "source": [
    "## Edge Cases & Pitfalls\n",
    "- Impossible targets when `m * k` exceeds the flower count.\n",
    "- All flowers blooming on the same day.\n",
    "- Large gaps between bloom days causing multiple resets.\n",
    "\n"
   ]
  },
  {
   "cell_type": "markdown",
   "metadata": {},
   "source": [
    "## Follow-up Variants\n",
    "- Allow overlapping bouquets and analyze feasibility.\n",
    "- Ask for the earliest day to make at least `m` bouquets with a limited number of skipped flowers.\n",
    "- Consider gardens arranged in circles where bouquets can wrap around.\n",
    "\n"
   ]
  },
  {
   "cell_type": "markdown",
   "metadata": {},
   "source": [
    "## Takeaways\n",
    "- Counting consecutive successes gives a quick feasibility check.\n",
    "- Always check impossible configurations up front to avoid wasted work.\n",
    "\n"
   ]
  },
  {
   "cell_type": "markdown",
   "metadata": {},
   "source": [
    "## Similar Problems\n",
    "| Problem ID | Problem Title | Technique |\n",
    "| --- | --- | --- |\n",
    "| 1552 | Magnetic Force Between Two Balls | Binary search with spacing check |\n",
    "| 2187 | Minimum Time to Complete Trips | Rate-based binary search |\n",
    "\n"
   ]
  }
 ],
 "metadata": {
  "kernelspec": {
   "display_name": "Python 3 (ipykernel)",
   "language": "python",
   "name": "python3"
  },
  "language_info": {
   "codemirror_mode": {
    "name": "ipython",
    "version": 3
   },
   "file_extension": ".py",
   "mimetype": "text/x-python",
   "name": "python",
   "nbconvert_exporter": "python",
   "pygments_lexer": "ipython3",
   "version": "3.13.3"
  }
 },
 "nbformat": 4,
 "nbformat_minor": 5
}
