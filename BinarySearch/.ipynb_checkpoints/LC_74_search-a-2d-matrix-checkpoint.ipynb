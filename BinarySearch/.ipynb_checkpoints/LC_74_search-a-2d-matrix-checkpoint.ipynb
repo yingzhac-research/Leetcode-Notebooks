{
 "cells": [
  {
   "cell_type": "markdown",
   "metadata": {},
   "source": [
    "# 74. Search a 2D Matrix\n"
   ]
  },
  {
   "cell_type": "markdown",
   "metadata": {},
   "source": [
    "## Topic Alignment\n",
    "- **Role Relevance**: Quickly locate a target inside a 2D sorted matrix.\n",
    "- **Scenario**: Treat the matrix as flattened to finish with a single binary search.\n",
    "\n"
   ]
  },
  {
   "cell_type": "markdown",
   "metadata": {},
   "source": [
    "## Metadata Summary\n",
    "- Source: [Search a 2D Matrix](https://leetcode.com/problems/search-a-2d-matrix/)\n",
    "- Tags: `Matrix`, `Binary Search`\n",
    "- Difficulty: Medium\n",
    "- Recommended Priority: Medium\n"
   ]
  },
  {
   "cell_type": "markdown",
   "metadata": {},
   "source": [
    "## Problem Statement\n",
    "Treat the matrix as a flattened sorted array and determine whether the target exists.\n"
   ]
  },
  {
   "cell_type": "markdown",
   "metadata": {},
   "source": [
    "## Progressive Hints\n",
    "- Hint 1: Leverage that each row starts higher than the previous row's last value.\n",
    "- Hint 2: Use `divmod(mid, cols)` to map indices back to row and column.\n",
    "\n"
   ]
  },
  {
   "cell_type": "markdown",
   "metadata": {},
   "source": [
    "## Solution Overview\n",
    "Binary search over the flattened index space and map each mid back to matrix coordinates for comparison.\n"
   ]
  },
  {
   "cell_type": "markdown",
   "metadata": {},
   "source": [
    "## Detailed Explanation\n",
    "1. Return False immediately when the matrix is empty.\n",
    "2. Set `left = 0` and `right = m * n - 1`.\n",
    "3. Apply `divmod` to translate the midpoint into matrix coordinates.\n",
    "4. Shrink the search interval based on the comparison result.\n",
    "\n"
   ]
  },
  {
   "cell_type": "markdown",
   "metadata": {},
   "source": [
    "## Complexity Trade-off Table\n",
    "| Approach | Time Complexity | Space Complexity | Notes |\n",
    "| --- | --- | --- | --- |\n",
    "| Flattened binary search | O(log (mn)) | O(1) | Finishes in one pass |\n",
    "| Row binary search + column binary search | O(log m + log n) | O(1) | Intuitive but needs two phases |\n",
    "\n"
   ]
  },
  {
   "cell_type": "markdown",
   "metadata": {},
   "source": [
    "## Reference Implementation\n"
   ]
  },
  {
   "cell_type": "code",
   "metadata": {},
   "execution_count": null,
   "outputs": [],
   "source": [
    "from typing import List\n",
    "\n",
    "\n",
    "def search_matrix(matrix: List[List[int]], target: int) -> bool:\n",
    "    if not matrix or not matrix[0]:\n",
    "        return False\n",
    "    rows, cols = len(matrix), len(matrix[0])\n",
    "    left, right = 0, rows * cols - 1\n",
    "    while left <= right:\n",
    "        mid = left + (right - left) // 2\n",
    "        r, c = divmod(mid, cols)\n",
    "        value = matrix[r][c]\n",
    "        if value == target:\n",
    "            return True\n",
    "        if value < target:\n",
    "            left = mid + 1\n",
    "        else:\n",
    "            right = mid - 1\n",
    "    return False\n"
   ]
  },
  {
   "cell_type": "markdown",
   "metadata": {},
   "source": [
    "## Validation\n"
   ]
  },
  {
   "cell_type": "code",
   "metadata": {},
   "execution_count": null,
   "outputs": [],
   "source": [
    "assert search_matrix([[1,3,5,7],[10,11,16,20],[23,30,34,60]], 3)\n",
    "assert not search_matrix([[1]], 0)\n",
    "assert search_matrix([[1],[3]], 3)\n",
    "print('All tests passed for LC 74.')\n"
   ]
  },
  {
   "cell_type": "markdown",
   "metadata": {},
   "source": [
    "## Complexity Analysis\n",
    "- Time Complexity: O(log (mn)).\n",
    "- Space Complexity: O(1).\n"
   ]
  },
  {
   "cell_type": "markdown",
   "metadata": {},
   "source": [
    "## Edge Cases & Pitfalls\n",
    "- Empty matrices or a single row.\n",
    "- Targets below the first entry or above the last entry.\n",
    "\n"
   ]
  },
  {
   "cell_type": "markdown",
   "metadata": {},
   "source": [
    "## Follow-up Variants\n",
    "- If only rows are sorted, locate the row then binary search within it.\n",
    "- Consider matrices sorted by columns and adapt the approach.\n",
    "\n"
   ]
  },
  {
   "cell_type": "markdown",
   "metadata": {},
   "source": [
    "## Takeaways\n",
    "- Map 2D data to 1D to reuse the binary search template.\n",
    "- `divmod` keeps the coordinate conversion concise.\n",
    "\n"
   ]
  },
  {
   "cell_type": "markdown",
   "metadata": {},
   "source": [
    "## Similar Problems\n",
    "| Problem ID | Problem Title | Technique |\n",
    "| --- | --- | --- |\n",
    "| 240 | Search a 2D Matrix II | Staircase elimination |\n",
    "| 378 | Kth Smallest Element in a Sorted Matrix | Value-space binary search |\n",
    "\n"
   ]
  }
 ],
 "metadata": {
  "kernelspec": {
   "display_name": "Python 3 (ipykernel)",
   "language": "python",
   "name": "python3"
  },
  "language_info": {
   "codemirror_mode": {
    "name": "ipython",
    "version": 3
   },
   "file_extension": ".py",
   "mimetype": "text/x-python",
   "name": "python",
   "nbconvert_exporter": "python",
   "pygments_lexer": "ipython3",
   "version": "3.13.3"
  }
 },
 "nbformat": 4,
 "nbformat_minor": 5
}
