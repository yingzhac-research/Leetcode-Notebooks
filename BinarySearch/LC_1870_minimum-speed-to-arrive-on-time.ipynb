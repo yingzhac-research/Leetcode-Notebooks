{
 "cells": [
  {
   "cell_type": "markdown",
   "metadata": {},
   "source": [
    "# 1870. Minimum Speed to Arrive on Time\n"
   ]
  },
  {
   "cell_type": "markdown",
   "metadata": {},
   "source": [
    "## Topic Alignment\n",
    "- **Role Relevance**: Compute required service speed to meet SLA arrival targets across multiple legs.\n",
    "- **Scenario**: Plan commuter train speeds so total travel stays within a fractional-hour budget.\n"
   ]
  },
  {
   "cell_type": "markdown",
   "metadata": {},
   "source": [
    "## Metadata Summary\n",
    "- Source: [Minimum Speed to Arrive on Time](https://leetcode.com/problems/minimum-speed-to-arrive-on-time/)\n",
    "- Tags: `Array`, `Binary Search`, `Math`\n",
    "- Difficulty: Medium\n",
    "- Recommended Priority: Medium\n"
   ]
  },
  {
   "cell_type": "markdown",
   "metadata": {},
   "source": [
    "## Problem Statement\n",
    "You are given an integer array `dist` representing distances to travel for consecutive train rides and a floating point number `hour` representing the total time limit. For all rides except the last one, you must depart at an integer hour, so each intermediate ride takes `ceil(dist[i] / speed)` hours. The last ride can finish at a fractional hour `dist[-1] / speed`.\n",
    "\n",
    "Return the minimum integer speed that allows completion of all rides within `hour`. If it is impossible, return `-1`.\n",
    "\n"
   ]
  },
  {
   "cell_type": "markdown",
   "metadata": {},
   "source": [
    "## Progressive Hints\n",
    "- Binary search the speed between `1` and a sufficiently large upper bound such as `10^7`.\n",
    "- At each step compute the travel time by ceiling all but the final leg.\n",
    "- Check impossibility early: if `hour` <= len(dist) - 1, no solution exists.\n"
   ]
  },
  {
   "cell_type": "markdown",
   "metadata": {},
   "source": [
    "## Solution Overview\n",
    "Travel time strictly decreases with higher speeds, so binary search the minimal integer speed that satisfies the timetable constraint, combining integer ceilings with a fractional final leg.\n"
   ]
  },
  {
   "cell_type": "markdown",
   "metadata": {},
   "source": [
    "## Detailed Explanation\n",
    "1. If `hour` is less than `len(dist) - 1`, immediate failure because the integer departures already exceed the limit.\n",
    "2. Binary search over speed with bounds `[1, 10**7]`, which suffices because `10**7` is the maximum needed per constraints.\n",
    "3. For a candidate speed, sum the travel time by ceiling division for each leg except the last, then add the fractional time of the final leg.\n",
    "4. If the total time is greater than `hour`, increase the speed; otherwise lower it.\n",
    "5. Return the first speed that meets the limit, or `-1` if even the upper bound fails.\n"
   ]
  },
  {
   "cell_type": "markdown",
   "metadata": {},
   "source": [
    "## Complexity Trade-off Table\n",
    "| Approach | Time Complexity | Space Complexity | Notes |\n",
    "| --- | --- | --- | --- |\n",
    "| Binary search on speed | O(n log 10^7) | O(1) | Works with fractional hour constraint |\n",
    "| Linear speed scan | O(n * upper_bound) | O(1) | Prohibitively slow |\n",
    "\n"
   ]
  },
  {
   "cell_type": "markdown",
   "metadata": {},
   "source": [
    "## Reference Implementation\n"
   ]
  },
  {
   "cell_type": "code",
   "execution_count": null,
   "metadata": {},
   "outputs": [],
   "source": [
    "from typing import List\n",
    "\n",
    "\n",
    "def min_speed_on_time(dist: List[int], hour: float) -> int:\n",
    "    n = len(dist)\n",
    "    if hour <= n - 1:\n",
    "        return -1\n",
    "    left, right = 1, 10 ** 7\n",
    "\n",
    "    def travel_time(speed: int) -> float:\n",
    "        total = 0\n",
    "        for d in dist[:-1]:\n",
    "            total += (d + speed - 1) // speed\n",
    "        total += dist[-1] / speed\n",
    "        return total\n",
    "\n",
    "    if travel_time(right) > hour:\n",
    "        return -1\n",
    "\n",
    "    while left < right:\n",
    "        mid = left + (right - left) // 2\n",
    "        if travel_time(mid) <= hour:\n",
    "            right = mid\n",
    "        else:\n",
    "            left = mid + 1\n",
    "    return left\n"
   ]
  },
  {
   "cell_type": "markdown",
   "metadata": {},
   "source": [
    "## Validation\n"
   ]
  },
  {
   "cell_type": "code",
   "execution_count": null,
   "metadata": {},
   "outputs": [],
   "source": [
    "cases = [\n",
    "    (([1, 3, 2], 6), 1),\n",
    "    (([1, 3, 2], 2.7), 3),\n",
    "    (([1, 3, 2], 1.9), -1),\n",
    "]\n",
    "for args, expected in cases:\n",
    "    result = min_speed_on_time(*args)\n",
    "    assert result == expected, f\"min_speed_on_time{args} -> {result}, expected {expected}\"\n"
   ]
  },
  {
   "cell_type": "markdown",
   "metadata": {},
   "source": [
    "## Complexity Analysis\n",
    "- Time Complexity: `O(n log 10^7)` bounded by the search steps.\n",
    "- Space Complexity: `O(1)` extra variables.\n",
    "- Bottleneck: Recomputing the travel time for each speed candidate.\n",
    "\n"
   ]
  },
  {
   "cell_type": "markdown",
   "metadata": {},
   "source": [
    "## Edge Cases & Pitfalls\n",
    "- Hour budgets that already fail due to integer departure requirements.\n",
    "- Dist arrays with a single leg.\n",
    "- Extremely tight budgets that force very high speeds.\n",
    "\n"
   ]
  },
  {
   "cell_type": "markdown",
   "metadata": {},
   "source": [
    "## Follow-up Variants\n",
    "- Allow waiting buffers between trains and include them in the time model.\n",
    "- Evaluate the effect of rounding to different granularities than whole hours.\n",
    "- Optimize for energy cost when multiple speeds achieve feasibility.\n",
    "\n"
   ]
  },
  {
   "cell_type": "markdown",
   "metadata": {},
   "source": [
    "## Takeaways\n",
    "- Combining integer ceilings with one fractional segment preserves monotonicity.\n",
    "- Checking impossibility with quick bounds avoids wasted computation.\n",
    "\n"
   ]
  },
  {
   "cell_type": "markdown",
   "metadata": {},
   "source": [
    "## Similar Problems\n",
    "| Problem ID | Problem Title | Technique |\n",
    "| --- | --- | --- |\n",
    "| 2187 | Minimum Time to Complete Trips | Binary search on rate |\n",
    "| 879 | Profitable Schemes | DP under constraints |\n",
    "\n"
   ]
  }
 ],
 "metadata": {
  "kernelspec": {
   "display_name": "Python 3 (ipykernel)",
   "language": "python",
   "name": "python3"
  },
  "language_info": {
   "codemirror_mode": {
    "name": "ipython",
    "version": 3
   },
   "file_extension": ".py",
   "mimetype": "text/x-python",
   "name": "python",
   "nbconvert_exporter": "python",
   "pygments_lexer": "ipython3",
   "version": "3.13.3"
  }
 },
 "nbformat": 4,
 "nbformat_minor": 5
}
