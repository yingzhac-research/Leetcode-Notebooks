{
  "cells": [
    {
      "cell_type": "markdown",
      "metadata": {},
      "source": [
        "# 704. Binary Search\n"
      ]
    },
    {
      "cell_type": "markdown",
      "metadata": {},
      "source": [
        "## Topic Alignment\n",
        "- **Role Relevance**: 快速检索排好序的特征或配置列表。\n",
        "- **Scenario**: 热路径查询中需要在对数时间内判断目标是否存在。\n"
      ]
    },
    {
      "cell_type": "markdown",
      "metadata": {},
      "source": [
        "## Metadata Summary\n",
        "- Source: [Binary Search](https://leetcode.com/problems/binary-search/)\n",
        "- Tags: `Array`, `Binary Search`\n",
        "- Difficulty: Easy\n",
        "- Recommended Priority: High\n"
      ]
    },
    {
      "cell_type": "markdown",
      "metadata": {},
      "source": [
        "## Problem Statement\n",
        "Given a sorted array and a target value, return the index if the target exists or -1 otherwise.\n"
      ]
    },
    {
      "cell_type": "markdown",
      "metadata": {},
      "source": [
        "## Progressive Hints\n",
        "- Hint 1: 比较中点与目标值，二分缩小区间。\n",
        "- Hint 2: 使用 `left + (right-left)//2` 防止溢出。\n",
        "- Hint 3: 循环结束若仍未命中需返回 -1。\n"
      ]
    },
    {
      "cell_type": "markdown",
      "metadata": {},
      "source": [
        "## Solution Overview\n",
        "Keep two pointers bounding the current search space and move them inward after inspecting the midpoint.\n"
      ]
    },
    {
      "cell_type": "markdown",
      "metadata": {},
      "source": [
        "## Detailed Explanation\n",
        "1. 设定 `left=0`, `right=len(nums)-1`。\n",
        "2. 计算中点 `mid` 并比较 `nums[mid]` 与目标。\n",
        "3. 根据比较结果移动左或右端。\n",
        "4. 区间耗尽仍未命中时返回 -1。\n"
      ]
    },
    {
      "cell_type": "markdown",
      "metadata": {},
      "source": [
        "## Complexity Trade-off Table\n",
        "| Approach | Time Complexity | Space Complexity | Notes |\n",
        "| --- | --- | --- | --- |\n",
        "| Binary search | O(log n) | O(1) | 最优时间复杂度 |\n",
        "| Linear scan | O(n) | O(1) | 实现简单但慢 |\n"
      ]
    },
    {
      "cell_type": "markdown",
      "metadata": {},
      "source": [
        "## Reference Implementation\n"
      ]
    },
    {
      "cell_type": "code",
      "metadata": {},
      "execution_count": null,
      "outputs": [],
      "source": [
        "from typing import List\n",
        "\n",
        "\n",
        "def search(nums: List[int], target: int) -> int:\n",
        "    left, right = 0, len(nums) - 1\n",
        "    while left <= right:\n",
        "        mid = left + (right - left) // 2\n",
        "        if nums[mid] == target:\n",
        "            return mid\n",
        "        if nums[mid] < target:\n",
        "            left = mid + 1\n",
        "        else:\n",
        "            right = mid - 1\n",
        "    return -1\n"
      ]
    },
    {
      "cell_type": "markdown",
      "metadata": {},
      "source": [
        "## Validation\n"
      ]
    },
    {
      "cell_type": "code",
      "metadata": {},
      "execution_count": null,
      "outputs": [],
      "source": [
        "assert search([-1,0,3,5,9,12], 9) == 4\n",
        "assert search([-1,0,3,5,9,12], 2) == -1\n",
        "assert search([5], 5) == 0\n",
        "print('All tests passed for LC 704.')\n"
      ]
    },
    {
      "cell_type": "markdown",
      "metadata": {},
      "source": [
        "## Complexity Analysis\n",
        "- Time Complexity: O(log n).\n",
        "- Space Complexity: O(1).\n",
        "- Bottleneck: 仅为常数级比较操作。\n"
      ]
    },
    {
      "cell_type": "markdown",
      "metadata": {},
      "source": [
        "## Edge Cases & Pitfalls\n",
        "- 空数组或单元素数组。\n",
        "- 目标位于首尾位置。\n"
      ]
    },
    {
      "cell_type": "markdown",
      "metadata": {},
      "source": [
        "## Follow-up Variants\n",
        "- 写递归版本并比较调用栈。\n",
        "- 扩展到返回最左/最右出现位置。\n"
      ]
    },
    {
      "cell_type": "markdown",
      "metadata": {},
      "source": [
        "## Takeaways\n",
        "- 掌握标准左右闭区间写法是所有二分题的基础。\n",
        "- 迭代实现无需额外空间。\n"
      ]
    },
    {
      "cell_type": "markdown",
      "metadata": {},
      "source": [
        "## Similar Problems\n",
        "| Problem ID | Problem Title | Technique |\n",
        "| --- | --- | --- |\n",
        "| 35 | Search Insert Position | lower_bound |\n",
        "| 34 | Find First and Last Position | 边界查找 |\n"
      ]
    }
  ],
  "metadata": {
    "kernelspec": {
      "display_name": "Python 3 (ipykernel)",
      "language": "python",
      "name": "python3"
    },
    "language_info": {
      "codemirror_mode": {
        "name": "ipython",
        "version": 3
      },
      "file_extension": ".py",
      "mimetype": "text/x-python",
      "name": "python",
      "nbconvert_exporter": "python",
      "pygments_lexer": "ipython3",
      "version": "3.13.3"
    }
  },
  "nbformat": 4,
  "nbformat_minor": 5
}