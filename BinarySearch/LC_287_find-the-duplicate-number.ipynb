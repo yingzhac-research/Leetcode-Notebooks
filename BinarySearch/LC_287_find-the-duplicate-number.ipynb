{
 "cells": [
  {
   "cell_type": "markdown",
   "metadata": {},
   "source": [
    "# 287. Find the Duplicate Number\n"
   ]
  },
  {
   "cell_type": "markdown",
   "metadata": {},
   "source": [
    "## Topic Alignment\n",
    "- **Role Relevance**: Detect repeated user ids in batched ingestion without modifying the source snapshot.\n",
    "- **Scenario**: Audit telemetry uploads by revealing the repeated label using only read-only access.\n"
   ]
  },
  {
   "cell_type": "markdown",
   "metadata": {},
   "source": [
    "## Metadata Summary\n",
    "- Source: [Find the Duplicate Number](https://leetcode.com/problems/find-the-duplicate-number/)\n",
    "- Tags: `Array`, `Binary Search`, `Counting`\n",
    "- Difficulty: Medium\n",
    "- Recommended Priority: High\n"
   ]
  },
  {
   "cell_type": "markdown",
   "metadata": {},
   "source": [
    "## Problem Statement\n",
    "Given an array `nums` containing `n + 1` integers where each integer is between `1` and `n` inclusive, there is exactly one duplicated number but it may appear multiple times. Return the duplicated number without modifying the input array and using constant extra space.\n",
    "\n"
   ]
  },
  {
   "cell_type": "markdown",
   "metadata": {},
   "source": [
    "## Progressive Hints\n",
    "- Binary search on the value range `[1, n]` rather than on indices.\n",
    "- Count how many numbers are `<= mid`; a count larger than `mid` indicates the duplicate sits in the lower half.\n",
    "- Maintain the lowest feasible candidate until the window closes.\n"
   ]
  },
  {
   "cell_type": "markdown",
   "metadata": {},
   "source": [
    "## Solution Overview\n",
    "The pigeonhole principle guarantees that too many numbers land in the lower half if the duplicate is there. Use binary search on the value range and shrink it with counting queries.\n"
   ]
  },
  {
   "cell_type": "markdown",
   "metadata": {},
   "source": [
    "## Detailed Explanation\n",
    "1. Set `left = 1`, `right = len(nums) - 1`.\n",
    "2. While `left < right`, compute `mid` and count values `<= mid`.\n",
    "3. If the count exceeds `mid`, there are more numbers than slots in the lower half, so discard the upper half by setting `right = mid`.\n",
    "4. Otherwise discard the lower half by moving `left = mid + 1`.\n",
    "5. The remaining value represents the duplicate.\n"
   ]
  },
  {
   "cell_type": "markdown",
   "metadata": {},
   "source": [
    "## Complexity Trade-off Table\n",
    "| Approach | Time Complexity | Space Complexity | Notes |\n",
    "| --- | --- | --- | --- |\n",
    "| Value-range binary search | O(n log n) | O(1) | Works on read-only arrays |\n",
    "| Floyd cycle detection | O(n) | O(1) | Faster but leverages linked-list interpretation |\n",
    "\n"
   ]
  },
  {
   "cell_type": "markdown",
   "metadata": {},
   "source": [
    "## Reference Implementation\n"
   ]
  },
  {
   "cell_type": "code",
   "execution_count": null,
   "metadata": {},
   "outputs": [],
   "source": [
    "from typing import List\n",
    "\n",
    "\n",
    "def find_duplicate(nums: List[int]) -> int:\n",
    "    left, right = 1, len(nums) - 1\n",
    "    while left < right:\n",
    "        mid = left + (right - left) // 2\n",
    "        count = sum(num <= mid for num in nums)\n",
    "        if count > mid:\n",
    "            right = mid\n",
    "        else:\n",
    "            left = mid + 1\n",
    "    return left\n"
   ]
  },
  {
   "cell_type": "markdown",
   "metadata": {},
   "source": [
    "## Validation\n"
   ]
  },
  {
   "cell_type": "code",
   "execution_count": null,
   "metadata": {},
   "outputs": [],
   "source": [
    "cases = [\n",
    "    (([1, 3, 4, 2, 2],), 2),\n",
    "    (([3, 1, 3, 4, 2],), 3),\n",
    "    (([1, 1],), 1),\n",
    "    (([1, 1, 2],), 1),\n",
    "]\n",
    "for args, expected in cases:\n",
    "    result = find_duplicate(*args)\n",
    "    assert result == expected, f\"find_duplicate{args} -> {result}, expected {expected}\"\n"
   ]
  },
  {
   "cell_type": "markdown",
   "metadata": {},
   "source": [
    "## Complexity Analysis\n",
    "- Time Complexity: `O(n log n)` because each counting pass scans the array.\n",
    "- Space Complexity: `O(1)` extra memory.\n",
    "- Bottleneck: Counting pass for each binary search iteration.\n",
    "\n"
   ]
  },
  {
   "cell_type": "markdown",
   "metadata": {},
   "source": [
    "## Edge Cases & Pitfalls\n",
    "- Minimum length arrays with two identical numbers.\n",
    "- Arrays where the duplicate appears many times.\n",
    "- Arrays already sorted or randomly ordered.\n",
    "\n"
   ]
  },
  {
   "cell_type": "markdown",
   "metadata": {},
   "source": [
    "## Follow-up Variants\n",
    "- Contrast with Floyd's tortoise and hare solution for constant time factor.\n",
    "- Discuss using bitsets when the array can be modified.\n",
    "- Extend to find multiple duplicates when there is more than one repeated value.\n",
    "\n"
   ]
  },
  {
   "cell_type": "markdown",
   "metadata": {},
   "source": [
    "## Takeaways\n",
    "- Midpoint checks can be applied to the value domain, not just index ranges.\n",
    "- Counting comparisons are a reliable way to exploit the pigeonhole principle.\n",
    "\n"
   ]
  },
  {
   "cell_type": "markdown",
   "metadata": {},
   "source": [
    "## Similar Problems\n",
    "| Problem ID | Problem Title | Technique |\n",
    "| --- | --- | --- |\n",
    "| 442 | Find All Duplicates in an Array | In-place marking |\n",
    "| 448 | Find All Numbers Disappeared in an Array | Counting via indices |\n",
    "\n"
   ]
  }
 ],
 "metadata": {
  "kernelspec": {
   "display_name": "Python 3 (ipykernel)",
   "language": "python",
   "name": "python3"
  },
  "language_info": {
   "codemirror_mode": {
    "name": "ipython",
    "version": 3
   },
   "file_extension": ".py",
   "mimetype": "text/x-python",
   "name": "python",
   "nbconvert_exporter": "python",
   "pygments_lexer": "ipython3",
   "version": "3.13.3"
  }
 },
 "nbformat": 4,
 "nbformat_minor": 5
}
