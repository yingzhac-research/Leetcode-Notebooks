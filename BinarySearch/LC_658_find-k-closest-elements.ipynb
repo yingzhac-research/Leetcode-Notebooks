{
 "cells": [
  {
   "cell_type": "markdown",
   "metadata": {},
   "source": [
    "# 658. Find K Closest Elements\n"
   ]
  },
  {
   "cell_type": "markdown",
   "metadata": {},
   "source": [
    "## Topic Alignment\n",
    "- **Role Relevance**: Fetch the closest telemetry buckets around a target timestamp for diagnostics.\n",
    "- **Scenario**: Select consecutive sorted records whose values stay closest to a requested key.\n"
   ]
  },
  {
   "cell_type": "markdown",
   "metadata": {},
   "source": [
    "## Metadata Summary\n",
    "- Source: [Find K Closest Elements](https://leetcode.com/problems/find-k-closest-elements/)\n",
    "- Tags: `Array`, `Binary Search`, `Two Pointers`\n",
    "- Difficulty: Medium\n",
    "- Recommended Priority: Medium\n"
   ]
  },
  {
   "cell_type": "markdown",
   "metadata": {},
   "source": [
    "## Problem Statement\n",
    "Given a sorted integer array `arr`, two integers `k` and `x`, return the `k` consecutive elements that are closest to `x`. The result should also be sorted in ascending order. If there is a tie, favor the smaller elements.\n",
    "\n"
   ]
  },
  {
   "cell_type": "markdown",
   "metadata": {},
   "source": [
    "## Progressive Hints\n",
    "- Binary search the left boundary of the size `k` window.\n",
    "- Compare the distances `x - arr[mid]` and `arr[mid + k] - x` to shift the window.\n",
    "- Remember that the answer must remain consecutive.\n"
   ]
  },
  {
   "cell_type": "markdown",
   "metadata": {},
   "source": [
    "## Solution Overview\n",
    "Treat the answer as a sliding window of size `k`. Binary search the starting index by checking which side of the window is closer to `x`.\n"
   ]
  },
  {
   "cell_type": "markdown",
   "metadata": {},
   "source": [
    "## Detailed Explanation\n",
    "1. Constrain the left boundary to `[0, len(arr) - k]`.\n",
    "2. While `left < right`, choose `mid` and inspect the window `[mid, mid + k)`.\n",
    "3. If `x - arr[mid] > arr[mid + k] - x`, the right side is closer, so move `left = mid + 1`.\n",
    "4. Otherwise shift `right = mid` to favor the left side.\n",
    "5. Return `arr[left:left + k]` once the boundary converges.\n"
   ]
  },
  {
   "cell_type": "markdown",
   "metadata": {},
   "source": [
    "## Complexity Trade-off Table\n",
    "| Approach | Time Complexity | Space Complexity | Notes |\n",
    "| --- | --- | --- | --- |\n",
    "| Binary search window | O(log(n - k) + k) | O(1) | Keeps the window consecutive and sorted |\n",
    "| Two-pointer expansion | O(n) | O(1) | Simpler but slower for large arrays |\n",
    "\n"
   ]
  },
  {
   "cell_type": "markdown",
   "metadata": {},
   "source": [
    "## Reference Implementation\n"
   ]
  },
  {
   "cell_type": "code",
   "execution_count": null,
   "metadata": {},
   "outputs": [],
   "source": [
    "from typing import List\n",
    "\n",
    "\n",
    "def find_closest_elements(arr: List[int], k: int, x: int) -> List[int]:\n",
    "    left, right = 0, len(arr) - k\n",
    "    while left < right:\n",
    "        mid = left + (right - left) // 2\n",
    "        if x - arr[mid] > arr[mid + k] - x:\n",
    "            left = mid + 1\n",
    "        else:\n",
    "            right = mid\n",
    "    return arr[left : left + k]\n"
   ]
  },
  {
   "cell_type": "markdown",
   "metadata": {},
   "source": [
    "## Validation\n"
   ]
  },
  {
   "cell_type": "code",
   "execution_count": null,
   "metadata": {},
   "outputs": [],
   "source": [
    "cases = [\n",
    "    (([1, 2, 3, 4, 5], 4, 3), [1, 2, 3, 4]),\n",
    "    (([1, 2, 3, 4, 5], 4, -1), [1, 2, 3, 4]),\n",
    "    (([1, 2, 5, 5, 6, 6, 7, 7, 8, 9], 7, 7), [2, 5, 5, 6, 6, 7, 7]),\n",
    "]\n",
    "for args, expected in cases:\n",
    "    result = find_closest_elements(*args)\n",
    "    assert result == expected, f\"find_closest_elements{args} -> {result}, expected {expected}\"\n"
   ]
  },
  {
   "cell_type": "markdown",
   "metadata": {},
   "source": [
    "## Complexity Analysis\n",
    "- Time Complexity: `O(log(n - k) + k)` to locate the window and copy results.\n",
    "- Space Complexity: `O(1)` beyond the output list.\n",
    "- Bottleneck: The final slice copy of length `k`.\n",
    "\n"
   ]
  },
  {
   "cell_type": "markdown",
   "metadata": {},
   "source": [
    "## Edge Cases & Pitfalls\n",
    "- `k` equal to the array length.\n",
    "- Targets smaller than the first element or larger than the last element.\n",
    "- Duplicate values around the boundary.\n",
    "\n"
   ]
  },
  {
   "cell_type": "markdown",
   "metadata": {},
   "source": [
    "## Follow-up Variants\n",
    "- Compare to a heap-based solution that maintains the closest elements while traversing once.\n",
    "- Evaluate a two-pointer shrink-from-ends approach and contrast its behavior with the binary search window.\n",
    "- Discuss dynamic updates where the array receives new elements and needs rebalancing.\n",
    "- Extend the method to multidimensional points using KD-trees.\n",
    "\n"
   ]
  },
  {
   "cell_type": "markdown",
   "metadata": {},
   "source": [
    "## Takeaways\n",
    "- Binary searching a window start avoids expanding both sides greedily.\n",
    "- Tie-breaking rules must be encoded into the comparison.\n",
    "\n"
   ]
  },
  {
   "cell_type": "markdown",
   "metadata": {},
   "source": [
    "## Similar Problems\n",
    "| Problem ID | Problem Title | Technique |\n",
    "| --- | --- | --- |\n",
    "| 719 | Find K-th Smallest Pair Distance | Binary search on distance |\n",
    "| 2817 | Minimum Absolute Difference Between Elements With Constraint | Sliding window |\n",
    "\n"
   ]
  }
 ],
 "metadata": {
  "kernelspec": {
   "display_name": "Python 3 (ipykernel)",
   "language": "python",
   "name": "python3"
  },
  "language_info": {
   "codemirror_mode": {
    "name": "ipython",
    "version": 3
   },
   "file_extension": ".py",
   "mimetype": "text/x-python",
   "name": "python",
   "nbconvert_exporter": "python",
   "pygments_lexer": "ipython3",
   "version": "3.13.3"
  }
 },
 "nbformat": 4,
 "nbformat_minor": 5
}
