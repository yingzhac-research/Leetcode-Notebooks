{
 "cells": [
  {
   "cell_type": "markdown",
   "metadata": {},
   "source": [
    "# 278. First Bad Version\n"
   ]
  },
  {
   "cell_type": "markdown",
   "metadata": {},
   "source": [
    "## Topic Alignment\n",
    "- **Role Relevance**: Narrow down the first failing build in a continuous delivery pipeline.\n",
    "- **Scenario**: Minimize API probes to locate the earliest regression in a release history.\n"
   ]
  },
  {
   "cell_type": "markdown",
   "metadata": {},
   "source": [
    "## Metadata Summary\n",
    "- Source: [First Bad Version](https://leetcode.com/problems/first-bad-version/)\n",
    "- Tags: `Binary Search`, `Interactive`\n",
    "- Difficulty: Easy\n",
    "- Recommended Priority: High\n"
   ]
  },
  {
   "cell_type": "markdown",
   "metadata": {},
   "source": [
    "## Problem Statement\n",
    "You are the product manager and currently leading a team to develop a new product. Unfortunately, the latest version got failing quality checks. Since each version is developed based on the previous version, all the versions after a bad version are also bad.\n",
    "\n",
    "Suppose you have `n` versions and you want to find out the first bad one. An external API `isBadVersion(version)` will tell you whether a version is bad. Implement a function that finds the first bad version. You should minimize the number of calls to the API.\n",
    "\n"
   ]
  },
  {
   "cell_type": "markdown",
   "metadata": {},
   "source": [
    "## Progressive Hints\n",
    "- Use binary search on the version index to minimize calls to the API.\n",
    "- When `isBadVersion(mid)` returns true, continue searching in the left half.\n",
    "- Maintain an invariant that the answer is always inside the current interval.\n"
   ]
  },
  {
   "cell_type": "markdown",
   "metadata": {},
   "source": [
    "## Solution Overview\n",
    "Treat the API as a monotonic boolean condition. Binary search for the first true index by shrinking the range based on the API outcome.\n"
   ]
  },
  {
   "cell_type": "markdown",
   "metadata": {},
   "source": [
    "## Detailed Explanation\n",
    "1. Start with `left = 1` and `right = n`.\n",
    "2. While `left < right`, probe `mid`.\n",
    "3. If `isBadVersion(mid)` is true, the first bad version lies at `mid` or earlier, so set `right = mid`.\n",
    "4. Otherwise move `left = mid + 1` to search the later versions.\n",
    "5. The loop terminates when `left == right`, pinpointing the first bad version.\n"
   ]
  },
  {
   "cell_type": "markdown",
   "metadata": {},
   "source": [
    "## Complexity Trade-off Table\n",
    "| Approach | Time Complexity | Space Complexity | Notes |\n",
    "| --- | --- | --- | --- |\n",
    "| Binary search with API | O(log n) | O(1) | Minimizes API calls |\n",
    "| Linear scan | O(n) | O(1) | Too many API calls for large `n` |\n",
    "\n"
   ]
  },
  {
   "cell_type": "markdown",
   "metadata": {},
   "source": [
    "## Reference Implementation\n"
   ]
  },
  {
   "cell_type": "code",
   "execution_count": null,
   "metadata": {},
   "outputs": [],
   "source": [
    "from typing import Callable\n",
    "\n",
    "\n",
    "def first_bad_version(n: int, is_bad_version: Callable[[int], bool]) -> int:\n",
    "    left, right = 1, n\n",
    "    while left < right:\n",
    "        mid = left + (right - left) // 2\n",
    "        if is_bad_version(mid):\n",
    "            right = mid\n",
    "        else:\n",
    "            left = mid + 1\n",
    "    return left\n"
   ]
  },
  {
   "cell_type": "markdown",
   "metadata": {},
   "source": [
    "## Validation\n"
   ]
  },
  {
   "cell_type": "code",
   "execution_count": null,
   "metadata": {},
   "outputs": [],
   "source": [
    "def make_api(first_bad: int):\n",
    "    def api(version: int) -> bool:\n",
    "        return version >= first_bad\n",
    "    return api\n",
    "\n",
    "scenarios = [\n",
    "    (5, 4),\n",
    "    (1, 1),\n",
    "    (10, 6),\n",
    "]\n",
    "for total, bad in scenarios:\n",
    "    api = make_api(bad)\n",
    "    result = first_bad_version(total, api)\n",
    "    assert result == bad, f\"first_bad_version({total}, bad={bad}) -> {result}\"\n"
   ]
  },
  {
   "cell_type": "markdown",
   "metadata": {},
   "source": [
    "## Complexity Analysis\n",
    "- Time Complexity: `O(log n)` API calls.\n",
    "- Space Complexity: `O(1)` extra space.\n",
    "- Bottleneck: API request latency, not computation.\n",
    "\n"
   ]
  },
  {
   "cell_type": "markdown",
   "metadata": {},
   "source": [
    "## Edge Cases & Pitfalls\n",
    "- The very first version is already bad.\n",
    "- Only the last version is bad.\n",
    "- Large `n` values where integer overflow must be avoided when computing `mid`.\n",
    "\n"
   ]
  },
  {
   "cell_type": "markdown",
   "metadata": {},
   "source": [
    "## Follow-up Variants\n",
    "- Instrument the function to count API calls for monitoring purposes.\n",
    "- Discuss caching API results when multiple queries reuse the same version range.\n",
    "- Extend the problem to handle flaky API responses with retries.\n",
    "\n"
   ]
  },
  {
   "cell_type": "markdown",
   "metadata": {},
   "source": [
    "## Takeaways\n",
    "- Binary search naturally fits monotonic boolean APIs.\n",
    "- Using `left + (right - left) // 2` prevents overflow in languages with 32-bit integers.\n",
    "\n"
   ]
  },
  {
   "cell_type": "markdown",
   "metadata": {},
   "source": [
    "## Similar Problems\n",
    "| Problem ID | Problem Title | Technique |\n",
    "| --- | --- | --- |\n",
    "| 374 | Guess Number Higher or Lower | Binary search with feedback |\n",
    "| 34 | Find First and Last Position | Boundary search |\n",
    "\n"
   ]
  }
 ],
 "metadata": {
  "kernelspec": {
   "display_name": "Python 3 (ipykernel)",
   "language": "python",
   "name": "python3"
  },
  "language_info": {
   "codemirror_mode": {
    "name": "ipython",
    "version": 3
   },
   "file_extension": ".py",
   "mimetype": "text/x-python",
   "name": "python",
   "nbconvert_exporter": "python",
   "pygments_lexer": "ipython3",
   "version": "3.13.3"
  }
 },
 "nbformat": 4,
 "nbformat_minor": 5
}
