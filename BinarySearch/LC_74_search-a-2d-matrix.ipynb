{
  "cells": [
    {
      "cell_type": "markdown",
      "metadata": {},
      "source": [
        "# 74. Search a 2D Matrix\n"
      ]
    },
    {
      "cell_type": "markdown",
      "metadata": {},
      "source": [
        "## Topic Alignment\n",
        "- **Role Relevance**: 二维排序矩阵中快速定位目标。\n",
        "- **Scenario**: 矩阵按行整体有序，可压平后做一次二分。\n"
      ]
    },
    {
      "cell_type": "markdown",
      "metadata": {},
      "source": [
        "## Metadata Summary\n",
        "- Source: [Search a 2D Matrix](https://leetcode.com/problems/search-a-2d-matrix/)\n",
        "- Tags: `Matrix`, `Binary Search`\n",
        "- Difficulty: Medium\n",
        "- Recommended Priority: Medium\n"
      ]
    },
    {
      "cell_type": "markdown",
      "metadata": {},
      "source": [
        "## Problem Statement\n",
        "Treat the matrix as a flattened sorted array and determine whether the target exists.\n"
      ]
    },
    {
      "cell_type": "markdown",
      "metadata": {},
      "source": [
        "## Progressive Hints\n",
        "- Hint 1: 利用每行首元素大于上一行最后一个元素的性质。\n",
        "- Hint 2: 使用 `divmod(mid, cols)` 将索引映射回行列。\n"
      ]
    },
    {
      "cell_type": "markdown",
      "metadata": {},
      "source": [
        "## Solution Overview\n",
        "Binary search over the flattened index space and map each mid back to matrix coordinates for comparison.\n"
      ]
    },
    {
      "cell_type": "markdown",
      "metadata": {},
      "source": [
        "## Detailed Explanation\n",
        "1. 若矩阵为空直接返回 False。\n",
        "2. 设置 `left=0`, `right=m*n-1`。\n",
        "3. 通过 `divmod` 计算中点对应的矩阵坐标。\n",
        "4. 根据比较结果收缩搜索区间。\n"
      ]
    },
    {
      "cell_type": "markdown",
      "metadata": {},
      "source": [
        "## Complexity Trade-off Table\n",
        "| Approach | Time Complexity | Space Complexity | Notes |\n",
        "| --- | --- | --- | --- |\n",
        "| Flattened binary search | O(log (mn)) | O(1) | 一次性完成 |\n",
        "| Row binary search + column binary search | O(log m + log n) | O(1) | 实现直观但步骤更多 |\n"
      ]
    },
    {
      "cell_type": "markdown",
      "metadata": {},
      "source": [
        "## Reference Implementation\n"
      ]
    },
    {
      "cell_type": "code",
      "metadata": {},
      "execution_count": null,
      "outputs": [],
      "source": [
        "from typing import List\n",
        "\n",
        "\n",
        "def search_matrix(matrix: List[List[int]], target: int) -> bool:\n",
        "    if not matrix or not matrix[0]:\n",
        "        return False\n",
        "    rows, cols = len(matrix), len(matrix[0])\n",
        "    left, right = 0, rows * cols - 1\n",
        "    while left <= right:\n",
        "        mid = left + (right - left) // 2\n",
        "        r, c = divmod(mid, cols)\n",
        "        value = matrix[r][c]\n",
        "        if value == target:\n",
        "            return True\n",
        "        if value < target:\n",
        "            left = mid + 1\n",
        "        else:\n",
        "            right = mid - 1\n",
        "    return False\n"
      ]
    },
    {
      "cell_type": "markdown",
      "metadata": {},
      "source": [
        "## Validation\n"
      ]
    },
    {
      "cell_type": "code",
      "metadata": {},
      "execution_count": null,
      "outputs": [],
      "source": [
        "assert search_matrix([[1,3,5,7],[10,11,16,20],[23,30,34,60]], 3)\n",
        "assert not search_matrix([[1]], 0)\n",
        "assert search_matrix([[1],[3]], 3)\n",
        "print('All tests passed for LC 74.')\n"
      ]
    },
    {
      "cell_type": "markdown",
      "metadata": {},
      "source": [
        "## Complexity Analysis\n",
        "- Time Complexity: O(log (mn)).\n",
        "- Space Complexity: O(1).\n"
      ]
    },
    {
      "cell_type": "markdown",
      "metadata": {},
      "source": [
        "## Edge Cases & Pitfalls\n",
        "- 矩阵为空或只有一行。\n",
        "- 目标小于首元素或大于尾元素。\n"
      ]
    },
    {
      "cell_type": "markdown",
      "metadata": {},
      "source": [
        "## Follow-up Variants\n",
        "- 若矩阵仅按行排序，可先定位行再二分。\n",
        "- 按列排序的矩阵如何处理。\n"
      ]
    },
    {
      "cell_type": "markdown",
      "metadata": {},
      "source": [
        "## Takeaways\n",
        "- 二维数据可以映射到一维来复用二分。\n",
        "- `divmod` 让坐标转换更简洁。\n"
      ]
    },
    {
      "cell_type": "markdown",
      "metadata": {},
      "source": [
        "## Similar Problems\n",
        "| Problem ID | Problem Title | Technique |\n",
        "| --- | --- | --- |\n",
        "| 240 | Search a 2D Matrix II | 阶梯式削减 |\n",
        "| 378 | Kth Smallest Element in a Sorted Matrix | 值域二分 |\n"
      ]
    }
  ],
  "metadata": {
    "kernelspec": {
      "display_name": "Python 3 (ipykernel)",
      "language": "python",
      "name": "python3"
    },
    "language_info": {
      "codemirror_mode": {
        "name": "ipython",
        "version": 3
      },
      "file_extension": ".py",
      "mimetype": "text/x-python",
      "name": "python",
      "nbconvert_exporter": "python",
      "pygments_lexer": "ipython3",
      "version": "3.13.3"
    }
  },
  "nbformat": 4,
  "nbformat_minor": 5
}