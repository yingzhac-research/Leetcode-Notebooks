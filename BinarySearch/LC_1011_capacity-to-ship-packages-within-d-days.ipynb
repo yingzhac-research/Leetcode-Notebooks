{
 "cells": [
  {
   "cell_type": "markdown",
   "metadata": {},
   "source": [
    "# 1011. Capacity to Ship Packages Within D Days\n"
   ]
  },
  {
   "cell_type": "markdown",
   "metadata": {},
   "source": [
    "## Topic Alignment\n",
    "- **Role Relevance**: Tune batch processing capacity to honor delivery SLAs.\n",
    "- **Scenario**: Decide the minimum daily shipping load so all parcels arrive on schedule.\n"
   ]
  },
  {
   "cell_type": "markdown",
   "metadata": {},
   "source": [
    "## Metadata Summary\n",
    "- Source: [Capacity to Ship Packages Within D Days](https://leetcode.com/problems/capacity-to-ship-packages-within-d-days/)\n",
    "- Tags: `Array`, `Binary Search`, `Greedy`\n",
    "- Difficulty: Medium\n",
    "- Recommended Priority: Medium\n"
   ]
  },
  {
   "cell_type": "markdown",
   "metadata": {},
   "source": [
    "## Problem Statement\n",
    "A conveyor belt has packages with weights `weights[i]`. Each day you load the packages in their original order. The load cannot exceed the ship capacity. Find the minimum capacity of the ship so that all packages can be shipped within `days` days.\n",
    "\n"
   ]
  },
  {
   "cell_type": "markdown",
   "metadata": {},
   "source": [
    "## Progressive Hints\n",
    "- Binary search the capacity between `max(weights)` and `sum(weights)`.\n",
    "- Given a capacity, simulate the loading process day by day.\n",
    "- Shrink the search range based on whether the schedule fits within `days`.\n"
   ]
  },
  {
   "cell_type": "markdown",
   "metadata": {},
   "source": [
    "## Solution Overview\n",
    "The number of days needed decreases monotonically as capacity grows. Binary search the minimum capacity whose simulated schedule finishes within the deadline.\n"
   ]
  },
  {
   "cell_type": "markdown",
   "metadata": {},
   "source": [
    "## Detailed Explanation\n",
    "1. Set `left = max(weights)` to ensure any package fits, and `right = sum(weights)` as the upper bound.\n",
    "2. For a candidate capacity `mid`, traverse the packages while accumulating the current day's load.\n",
    "3. When the load would exceed `mid`, start a new day counter and reset the load.\n",
    "4. If the days used exceed `days`, increase capacity by setting `left = mid + 1`; otherwise reduce `right = mid`.\n",
    "5. Return the converged capacity.\n"
   ]
  },
  {
   "cell_type": "markdown",
   "metadata": {},
   "source": [
    "## Complexity Trade-off Table\n",
    "| Approach | Time Complexity | Space Complexity | Notes |\n",
    "| --- | --- | --- | --- |\n",
    "| Binary search on capacity | O(n log sum(weights)) | O(1) | Retains original order constraints |\n",
    "| Dynamic programming | O(n * days) | O(n * days) | Overkill and exceeds time limits |\n",
    "\n"
   ]
  },
  {
   "cell_type": "markdown",
   "metadata": {},
   "source": [
    "## Reference Implementation\n"
   ]
  },
  {
   "cell_type": "code",
   "execution_count": null,
   "metadata": {},
   "outputs": [],
   "source": [
    "from typing import List\n",
    "\n",
    "\n",
    "def ship_within_days(weights: List[int], days: int) -> int:\n",
    "    left, right = max(weights), sum(weights)\n",
    "    while left < right:\n",
    "        mid = left + (right - left) // 2\n",
    "        needed = 1\n",
    "        current = 0\n",
    "        for weight in weights:\n",
    "            if current + weight > mid:\n",
    "                needed += 1\n",
    "                current = 0\n",
    "            current += weight\n",
    "        if needed > days:\n",
    "            left = mid + 1\n",
    "        else:\n",
    "            right = mid\n",
    "    return left\n"
   ]
  },
  {
   "cell_type": "markdown",
   "metadata": {},
   "source": [
    "## Validation\n"
   ]
  },
  {
   "cell_type": "code",
   "execution_count": null,
   "metadata": {},
   "outputs": [],
   "source": [
    "cases = [\n",
    "    (([1, 2, 3, 4, 5, 6, 7, 8, 9, 10], 5), 15),\n",
    "    (([3, 2, 2, 4, 1, 4], 3), 6),\n",
    "    (([1, 2, 3, 1, 1], 4), 3),\n",
    "]\n",
    "for args, expected in cases:\n",
    "    result = ship_within_days(*args)\n",
    "    assert result == expected, f\"ship_within_days{args} -> {result}, expected {expected}\"\n"
   ]
  },
  {
   "cell_type": "markdown",
   "metadata": {},
   "source": [
    "## Complexity Analysis\n",
    "- Time Complexity: `O(n log sum(weights))` due to the binary search and linear simulation.\n",
    "- Space Complexity: `O(1)` auxiliary storage.\n",
    "- Bottleneck: Re-scanning the package list for each capacity check.\n",
    "\n"
   ]
  },
  {
   "cell_type": "markdown",
   "metadata": {},
   "source": [
    "## Edge Cases & Pitfalls\n",
    "- All packages fit in one day.\n",
    "- Each package must ship on its own day.\n",
    "- Large instances with tight deadlines that force high capacity.\n",
    "\n"
   ]
  },
  {
   "cell_type": "markdown",
   "metadata": {},
   "source": [
    "## Follow-up Variants\n",
    "- Add variable shipping costs and find the cheapest feasible plan.\n",
    "- Allow rearranging packages and compare with the fixed-order constraint.\n",
    "- Extend to multiple ships operating in parallel.\n",
    "- Provide a formal proof that `left = max(weights)` and `right = sum(weights)` tightly bracket the optimal capacity.\n",
    "\n"
   ]
  },
  {
   "cell_type": "markdown",
   "metadata": {},
   "source": [
    "## Takeaways\n",
    "- Binary search coupled with a feasibility simulation handles many scheduling workloads.\n",
    "- Lower and upper bounds derive from simple properties of the data.\n",
    "\n"
   ]
  },
  {
   "cell_type": "markdown",
   "metadata": {},
   "source": [
    "## Similar Problems\n",
    "| Problem ID | Problem Title | Technique |\n",
    "| --- | --- | --- |\n",
    "| 875 | Koko Eating Bananas | Rate binary search |\n",
    "| 218 | The Skyline Problem | Heap-based scheduling |\n",
    "\n"
   ]
  }
 ],
 "metadata": {
  "kernelspec": {
   "display_name": "Python 3 (ipykernel)",
   "language": "python",
   "name": "python3"
  },
  "language_info": {
   "codemirror_mode": {
    "name": "ipython",
    "version": 3
   },
   "file_extension": ".py",
   "mimetype": "text/x-python",
   "name": "python",
   "nbconvert_exporter": "python",
   "pygments_lexer": "ipython3",
   "version": "3.13.3"
  }
 },
 "nbformat": 4,
 "nbformat_minor": 5
}
