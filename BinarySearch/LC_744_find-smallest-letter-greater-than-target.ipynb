{
 "cells": [
  {
   "cell_type": "markdown",
   "metadata": {},
   "source": [
    "# 744. Find Smallest Letter Greater Than Target\n"
   ]
  },
  {
   "cell_type": "markdown",
   "metadata": {},
   "source": [
    "## Topic Alignment\n",
    "- **Role Relevance**: Locate the next character in an ordered alphabet.\n",
    "- **Scenario**: Implement a circular alphabet lookup for the smallest letter greater than the target.\n",
    "\n"
   ]
  },
  {
   "cell_type": "markdown",
   "metadata": {},
   "source": [
    "## Metadata Summary\n",
    "- Source: [Find Smallest Letter Greater Than Target](https://leetcode.com/problems/find-smallest-letter-greater-than-target/)\n",
    "- Tags: `Array`, `Binary Search`\n",
    "- Difficulty: Easy\n",
    "- Recommended Priority: Low\n"
   ]
  },
  {
   "cell_type": "markdown",
   "metadata": {},
   "source": [
    "## Problem Statement\n",
    "Return the smallest letter strictly greater than target; wrap around to the first letter if needed.\n"
   ]
  },
  {
   "cell_type": "markdown",
   "metadata": {},
   "source": [
    "## Progressive Hints\n",
    "- Hint 1: Use the `upper_bound` template to find the first letter greater than the target.\n",
    "- Hint 2: Wrap with modulo when the search runs past the end.\n",
    "\n"
   ]
  },
  {
   "cell_type": "markdown",
   "metadata": {},
   "source": [
    "## Solution Overview\n",
    "Binary search using a right-open interval and wrap the result with modulo when all characters are <= target.\n"
   ]
  },
  {
   "cell_type": "markdown",
   "metadata": {},
   "source": [
    "## Detailed Explanation\n",
    "1. Set `left = 0` and `right = len(letters)`.\n",
    "2. Move the left boundary rightward when `letters[mid] <= target`.\n",
    "3. Otherwise shift the right boundary left.\n",
    "4. Return `letters[left % len(letters)]` after the loop completes.\n",
    "\n"
   ]
  },
  {
   "cell_type": "markdown",
   "metadata": {},
   "source": [
    "## Complexity Trade-off Table\n",
    "| Approach | Time Complexity | Space Complexity | Notes |\n",
    "| --- | --- | --- | --- |\n",
    "| Binary search | O(log n) | O(1) | Efficient for sorted letters |\n",
    "| Linear scan | O(n) | O(1) | Only reasonable for tiny inputs |\n",
    "\n"
   ]
  },
  {
   "cell_type": "markdown",
   "metadata": {},
   "source": [
    "## Reference Implementation\n"
   ]
  },
  {
   "cell_type": "code",
   "metadata": {},
   "execution_count": null,
   "outputs": [],
   "source": [
    "from typing import List\n",
    "\n",
    "\n",
    "def next_greatest_letter(letters: List[str], target: str) -> str:\n",
    "    left, right = 0, len(letters)\n",
    "    while left < right:\n",
    "        mid = left + (right - left) // 2\n",
    "        if letters[mid] <= target:\n",
    "            left = mid + 1\n",
    "        else:\n",
    "            right = mid\n",
    "    return letters[left % len(letters)]\n"
   ]
  },
  {
   "cell_type": "markdown",
   "metadata": {},
   "source": [
    "## Validation\n"
   ]
  },
  {
   "cell_type": "code",
   "metadata": {},
   "execution_count": null,
   "outputs": [],
   "source": [
    "assert next_greatest_letter(['c','f','j'], 'a') == 'c'\n",
    "assert next_greatest_letter(['c','f','j'], 'c') == 'f'\n",
    "assert next_greatest_letter(['c','f','j'], 'j') == 'c'\n",
    "print('All tests passed for LC 744.')\n"
   ]
  },
  {
   "cell_type": "markdown",
   "metadata": {},
   "source": [
    "## Complexity Analysis\n",
    "- Time Complexity: O(log n).\n",
    "- Space Complexity: O(1).\n"
   ]
  },
  {
   "cell_type": "markdown",
   "metadata": {},
   "source": [
    "## Edge Cases & Pitfalls\n",
    "- Targets that are not smaller than the last character.\n",
    "- Arrays that contain a single character.\n",
    "\n"
   ]
  },
  {
   "cell_type": "markdown",
   "metadata": {},
   "source": [
    "## Follow-up Variants\n",
    "- Support a custom character ordering.\n",
    "- Return the distance to the closest character.\n",
    "- Generalize the wrap-around logic to arbitrary cyclic sequences beyond alphabet letters.\n",
    "\n"
   ]
  },
  {
   "cell_type": "markdown",
   "metadata": {},
   "source": [
    "## Takeaways\n",
    "- `upper_bound` with modulo handles cyclic alphabets.\n",
    "- Mirrors the insertion-position problem.\n",
    "\n"
   ]
  },
  {
   "cell_type": "markdown",
   "metadata": {},
   "source": [
    "## Similar Problems\n",
    "| Problem ID | Problem Title | Technique |\n",
    "| --- | --- | --- |\n",
    "| 35 | Search Insert Position | lower_bound |\n",
    "| 704 | Binary Search | Existence check |\n",
    "\n"
   ]
  }
 ],
 "metadata": {
  "kernelspec": {
   "display_name": "Python 3 (ipykernel)",
   "language": "python",
   "name": "python3"
  },
  "language_info": {
   "codemirror_mode": {
    "name": "ipython",
    "version": 3
   },
   "file_extension": ".py",
   "mimetype": "text/x-python",
   "name": "python",
   "nbconvert_exporter": "python",
   "pygments_lexer": "ipython3",
   "version": "3.13.3"
  }
 },
 "nbformat": 4,
 "nbformat_minor": 5
}
