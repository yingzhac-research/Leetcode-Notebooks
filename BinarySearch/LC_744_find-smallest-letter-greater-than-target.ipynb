{
  "cells": [
    {
      "cell_type": "markdown",
      "metadata": {},
      "source": [
        "# 744. Find Smallest Letter Greater Than Target\n"
      ]
    },
    {
      "cell_type": "markdown",
      "metadata": {},
      "source": [
        "## Topic Alignment\n",
        "- **Role Relevance**: 在有序字符集中寻找下一字符。\n",
        "- **Scenario**: 实现环形字母表时需要找最小大于目标的字符。\n"
      ]
    },
    {
      "cell_type": "markdown",
      "metadata": {},
      "source": [
        "## Metadata Summary\n",
        "- Source: [Find Smallest Letter Greater Than Target](https://leetcode.com/problems/find-smallest-letter-greater-than-target/)\n",
        "- Tags: `Array`, `Binary Search`\n",
        "- Difficulty: Easy\n",
        "- Recommended Priority: Low\n"
      ]
    },
    {
      "cell_type": "markdown",
      "metadata": {},
      "source": [
        "## Problem Statement\n",
        "Return the smallest letter strictly greater than target; wrap around to the first letter if needed.\n"
      ]
    },
    {
      "cell_type": "markdown",
      "metadata": {},
      "source": [
        "## Progressive Hints\n",
        "- Hint 1: upper_bound 模板，查找第一个大于 target 的位置。\n",
        "- Hint 2: 越界时通过取模回到首字母。\n"
      ]
    },
    {
      "cell_type": "markdown",
      "metadata": {},
      "source": [
        "## Solution Overview\n",
        "Binary search using a right-open interval and wrap the result with modulo when all characters are <= target.\n"
      ]
    },
    {
      "cell_type": "markdown",
      "metadata": {},
      "source": [
        "## Detailed Explanation\n",
        "1. 设 `left=0`, `right=len(letters)`。\n",
        "2. 当 `letters[mid] <= target` 时左边界右移。\n",
        "3. 否则右边界左移。\n",
        "4. 最终返回 `letters[left % len(letters)]`。\n"
      ]
    },
    {
      "cell_type": "markdown",
      "metadata": {},
      "source": [
        "## Complexity Trade-off Table\n",
        "| Approach | Time Complexity | Space Complexity | Notes |\n",
        "| --- | --- | --- | --- |\n",
        "| Binary search | O(log n) | O(1) | 高效 |\n",
        "| Linear scan | O(n) | O(1) | 适用于极小数据 |\n"
      ]
    },
    {
      "cell_type": "markdown",
      "metadata": {},
      "source": [
        "## Reference Implementation\n"
      ]
    },
    {
      "cell_type": "code",
      "metadata": {},
      "execution_count": null,
      "outputs": [],
      "source": [
        "from typing import List\n",
        "\n",
        "\n",
        "def next_greatest_letter(letters: List[str], target: str) -> str:\n",
        "    left, right = 0, len(letters)\n",
        "    while left < right:\n",
        "        mid = left + (right - left) // 2\n",
        "        if letters[mid] <= target:\n",
        "            left = mid + 1\n",
        "        else:\n",
        "            right = mid\n",
        "    return letters[left % len(letters)]\n"
      ]
    },
    {
      "cell_type": "markdown",
      "metadata": {},
      "source": [
        "## Validation\n"
      ]
    },
    {
      "cell_type": "code",
      "metadata": {},
      "execution_count": null,
      "outputs": [],
      "source": [
        "assert next_greatest_letter(['c','f','j'], 'a') == 'c'\n",
        "assert next_greatest_letter(['c','f','j'], 'c') == 'f'\n",
        "assert next_greatest_letter(['c','f','j'], 'j') == 'c'\n",
        "print('All tests passed for LC 744.')\n"
      ]
    },
    {
      "cell_type": "markdown",
      "metadata": {},
      "source": [
        "## Complexity Analysis\n",
        "- Time Complexity: O(log n).\n",
        "- Space Complexity: O(1).\n"
      ]
    },
    {
      "cell_type": "markdown",
      "metadata": {},
      "source": [
        "## Edge Cases & Pitfalls\n",
        "- 目标不小于最后一个字符。\n",
        "- 数组仅包含一个字符。\n"
      ]
    },
    {
      "cell_type": "markdown",
      "metadata": {},
      "source": [
        "## Follow-up Variants\n",
        "- 支持自定义字符顺序。\n",
        "- 返回与 target 最近字符的距离。\n"
      ]
    },
    {
      "cell_type": "markdown",
      "metadata": {},
      "source": [
        "## Takeaways\n",
        "- upper_bound 可通过取模实现环形逻辑。\n",
        "- 与插入位置问题相似。\n"
      ]
    },
    {
      "cell_type": "markdown",
      "metadata": {},
      "source": [
        "## Similar Problems\n",
        "| Problem ID | Problem Title | Technique |\n",
        "| --- | --- | --- |\n",
        "| 35 | Search Insert Position | lower_bound |\n",
        "| 704 | Binary Search | 存在性查找 |\n"
      ]
    }
  ],
  "metadata": {
    "kernelspec": {
      "display_name": "Python 3 (ipykernel)",
      "language": "python",
      "name": "python3"
    },
    "language_info": {
      "codemirror_mode": {
        "name": "ipython",
        "version": 3
      },
      "file_extension": ".py",
      "mimetype": "text/x-python",
      "name": "python",
      "nbconvert_exporter": "python",
      "pygments_lexer": "ipython3",
      "version": "3.13.3"
    }
  },
  "nbformat": 4,
  "nbformat_minor": 5
}