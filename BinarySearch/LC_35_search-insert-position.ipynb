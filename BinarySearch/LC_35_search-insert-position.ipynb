{
 "cells": [
  {
   "cell_type": "markdown",
   "metadata": {},
   "source": [
    "# 35. Search Insert Position\n"
   ]
  },
  {
   "cell_type": "markdown",
   "metadata": {},
   "source": [
    "## Topic Alignment\n",
    "- **Role Relevance**: Determine the insertion point that preserves ordering.\n",
    "- **Scenario**: Return the insertion index while maintaining a sorted array.\n",
    "\n"
   ]
  },
  {
   "cell_type": "markdown",
   "metadata": {},
   "source": [
    "## Metadata Summary\n",
    "- Source: [Search Insert Position](https://leetcode.com/problems/search-insert-position/)\n",
    "- Tags: `Array`, `Binary Search`\n",
    "- Difficulty: Easy\n",
    "- Recommended Priority: Medium\n"
   ]
  },
  {
   "cell_type": "markdown",
   "metadata": {},
   "source": [
    "## Problem Statement\n",
    "Return the index where the target should be inserted so order is preserved.\n"
   ]
  },
  {
   "cell_type": "markdown",
   "metadata": {},
   "source": [
    "## Progressive Hints\n",
    "- Hint 1: Treat the routine as the `lower_bound` template.\n",
    "- Hint 2: Use a half-open interval to avoid infinite loops.\n",
    "\n"
   ]
  },
  {
   "cell_type": "markdown",
   "metadata": {},
   "source": [
    "## Solution Overview\n",
    "Binary search for the first element not smaller than the target and return that index.\n"
   ]
  },
  {
   "cell_type": "markdown",
   "metadata": {},
   "source": [
    "## Detailed Explanation\n",
    "1. Initialize `left = 0` and `right = len(nums)`.\n",
    "2. Compare the midpoint with the target to decide which side to shrink.\n",
    "3. Return `left` when the loop completes.\n",
    "\n"
   ]
  },
  {
   "cell_type": "markdown",
   "metadata": {},
   "source": [
    "## Complexity Trade-off Table\n",
    "| Approach | Time Complexity | Space Complexity | Notes |\n",
    "| --- | --- | --- | --- |\n",
    "| Binary search | O(log n) | O(1) | Efficient |\n",
    "| Linear scan | O(n) | O(1) | Only viable for tiny arrays |\n",
    "\n"
   ]
  },
  {
   "cell_type": "markdown",
   "metadata": {},
   "source": [
    "## Reference Implementation\n"
   ]
  },
  {
   "cell_type": "code",
   "metadata": {},
   "execution_count": null,
   "outputs": [],
   "source": [
    "from typing import List\n",
    "\n",
    "\n",
    "def search_insert(nums: List[int], target: int) -> int:\n",
    "    left, right = 0, len(nums)\n",
    "    while left < right:\n",
    "        mid = left + (right - left) // 2\n",
    "        if nums[mid] < target:\n",
    "            left = mid + 1\n",
    "        else:\n",
    "            right = mid\n",
    "    return left\n"
   ]
  },
  {
   "cell_type": "markdown",
   "metadata": {},
   "source": [
    "## Validation\n"
   ]
  },
  {
   "cell_type": "code",
   "metadata": {},
   "execution_count": null,
   "outputs": [],
   "source": [
    "assert search_insert([1,3,5,6], 5) == 2\n",
    "assert search_insert([1,3,5,6], 2) == 1\n",
    "assert search_insert([1,3,5,6], 7) == 4\n",
    "print('All tests passed for LC 35.')\n"
   ]
  },
  {
   "cell_type": "markdown",
   "metadata": {},
   "source": [
    "## Complexity Analysis\n",
    "- Time Complexity: O(log n).\n",
    "- Space Complexity: O(1).\n",
    "- Practical Note: Python's C-optimized `bisect_left` has the same asymptotic cost but typically runs faster; the handwritten version maximizes interview transparency.\n",
    "\n"
   ]
  },
  {
   "cell_type": "markdown",
   "metadata": {},
   "source": [
    "## Edge Cases & Pitfalls\n",
    "- Target smaller than the first value or larger than the last.\n",
    "- Empty array inputs.\n",
    "\n"
   ]
  },
  {
   "cell_type": "markdown",
   "metadata": {},
   "source": [
    "## Follow-up Variants\n",
    "- Package the logic as a reusable `bisect_left` and measure the overhead versus the hand-rolled loop.\n",
    "- Extend the idea to row-wise insertion in a 2D matrix.\n",
    "- Compare benchmark results between Python's `bisect` module and the interview template across array sizes.\n",
    "\n"
   ]
  },
  {
   "cell_type": "markdown",
   "metadata": {},
   "source": [
    "## Takeaways\n",
    "- The lower_bound template directly returns the insertion point.\n",
    "- Half-open intervals reduce boundary mistakes.\n",
    "- Built-in helpers like `bisect_left` offer production-grade performance while the template clarifies the invariant.\n",
    "\n"
   ]
  },
  {
   "cell_type": "markdown",
   "metadata": {},
   "source": [
    "## Similar Problems\n",
    "| Problem ID | Problem Title | Technique |\n",
    "| --- | --- | --- |\n",
    "| 704 | Binary Search | Existence check |\n",
    "| 744 | Find Smallest Letter Greater Than Target | upper_bound |\n",
    "\n"
   ]
  }
 ],
 "metadata": {
  "kernelspec": {
   "display_name": "Python 3 (ipykernel)",
   "language": "python",
   "name": "python3"
  },
  "language_info": {
   "codemirror_mode": {
    "name": "ipython",
    "version": 3
   },
   "file_extension": ".py",
   "mimetype": "text/x-python",
   "name": "python",
   "nbconvert_exporter": "python",
   "pygments_lexer": "ipython3",
   "version": "3.13.3"
  }
 },
 "nbformat": 4,
 "nbformat_minor": 5
}
