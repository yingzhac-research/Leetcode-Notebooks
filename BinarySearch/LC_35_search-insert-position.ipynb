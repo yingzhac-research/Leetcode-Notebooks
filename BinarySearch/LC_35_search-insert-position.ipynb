{
  "cells": [
    {
      "cell_type": "markdown",
      "metadata": {},
      "source": [
        "# 35. Search Insert Position\n"
      ]
    },
    {
      "cell_type": "markdown",
      "metadata": {},
      "source": [
        "## Topic Alignment\n",
        "- **Role Relevance**: 确定新元素插入位置保持有序。\n",
        "- **Scenario**: 维护排序数组时需要返回插入索引。\n"
      ]
    },
    {
      "cell_type": "markdown",
      "metadata": {},
      "source": [
        "## Metadata Summary\n",
        "- Source: [Search Insert Position](https://leetcode.com/problems/search-insert-position/)\n",
        "- Tags: `Array`, `Binary Search`\n",
        "- Difficulty: Easy\n",
        "- Recommended Priority: Medium\n"
      ]
    },
    {
      "cell_type": "markdown",
      "metadata": {},
      "source": [
        "## Problem Statement\n",
        "Return the index where the target should be inserted so order is preserved.\n"
      ]
    },
    {
      "cell_type": "markdown",
      "metadata": {},
      "source": [
        "## Progressive Hints\n",
        "- Hint 1: 即 `lower_bound` 模板。\n",
        "- Hint 2: 采用右开区间可避免死循环。\n"
      ]
    },
    {
      "cell_type": "markdown",
      "metadata": {},
      "source": [
        "## Solution Overview\n",
        "Binary search for the first element not smaller than the target and return that index.\n"
      ]
    },
    {
      "cell_type": "markdown",
      "metadata": {},
      "source": [
        "## Detailed Explanation\n",
        "1. `left=0`, `right=len(nums)`。\n",
        "2. 比较中点与目标决定收缩方向。\n",
        "3. 循环结束返回 `left`。\n"
      ]
    },
    {
      "cell_type": "markdown",
      "metadata": {},
      "source": [
        "## Complexity Trade-off Table\n",
        "| Approach | Time Complexity | Space Complexity | Notes |\n",
        "| --- | --- | --- | --- |\n",
        "| Binary search | O(log n) | O(1) | 高效 |\n",
        "| Linear scan | O(n) | O(1) | 适用于小数组 |\n"
      ]
    },
    {
      "cell_type": "markdown",
      "metadata": {},
      "source": [
        "## Reference Implementation\n"
      ]
    },
    {
      "cell_type": "code",
      "metadata": {},
      "execution_count": null,
      "outputs": [],
      "source": [
        "from typing import List\n",
        "\n",
        "\n",
        "def search_insert(nums: List[int], target: int) -> int:\n",
        "    left, right = 0, len(nums)\n",
        "    while left < right:\n",
        "        mid = left + (right - left) // 2\n",
        "        if nums[mid] < target:\n",
        "            left = mid + 1\n",
        "        else:\n",
        "            right = mid\n",
        "    return left\n"
      ]
    },
    {
      "cell_type": "markdown",
      "metadata": {},
      "source": [
        "## Validation\n"
      ]
    },
    {
      "cell_type": "code",
      "metadata": {},
      "execution_count": null,
      "outputs": [],
      "source": [
        "assert search_insert([1,3,5,6], 5) == 2\n",
        "assert search_insert([1,3,5,6], 2) == 1\n",
        "assert search_insert([1,3,5,6], 7) == 4\n",
        "print('All tests passed for LC 35.')\n"
      ]
    },
    {
      "cell_type": "markdown",
      "metadata": {},
      "source": [
        "## Complexity Analysis\n",
        "- Time Complexity: O(log n).\n",
        "- Space Complexity: O(1).\n"
      ]
    },
    {
      "cell_type": "markdown",
      "metadata": {},
      "source": [
        "## Edge Cases & Pitfalls\n",
        "- 目标小于最小值或大于最大值。\n",
        "- 数组为空。\n"
      ]
    },
    {
      "cell_type": "markdown",
      "metadata": {},
      "source": [
        "## Follow-up Variants\n",
        "- 封装成通用 `bisect_left`。\n",
        "- 推广到二维矩阵行内插入。\n"
      ]
    },
    {
      "cell_type": "markdown",
      "metadata": {},
      "source": [
        "## Takeaways\n",
        "- lower_bound 模板可以直接返回插入点。\n",
        "- 半开区间写法减少边界错误。\n"
      ]
    },
    {
      "cell_type": "markdown",
      "metadata": {},
      "source": [
        "## Similar Problems\n",
        "| Problem ID | Problem Title | Technique |\n",
        "| --- | --- | --- |\n",
        "| 704 | Binary Search | 存在性判定 |\n",
        "| 744 | Find Smallest Letter Greater Than Target | upper_bound |\n"
      ]
    }
  ],
  "metadata": {
    "kernelspec": {
      "display_name": "Python 3 (ipykernel)",
      "language": "python",
      "name": "python3"
    },
    "language_info": {
      "codemirror_mode": {
        "name": "ipython",
        "version": 3
      },
      "file_extension": ".py",
      "mimetype": "text/x-python",
      "name": "python",
      "nbconvert_exporter": "python",
      "pygments_lexer": "ipython3",
      "version": "3.13.3"
    }
  },
  "nbformat": 4,
  "nbformat_minor": 5
}