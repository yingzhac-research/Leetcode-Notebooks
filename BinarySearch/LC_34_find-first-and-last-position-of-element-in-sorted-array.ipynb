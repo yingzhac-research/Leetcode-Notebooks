{
 "cells": [
  {
   "cell_type": "markdown",
   "metadata": {},
   "source": [
    "# 34. Find First and Last Position of Element in Sorted Array\n"
   ]
  },
  {
   "cell_type": "markdown",
   "metadata": {},
   "source": [
    "## Topic Alignment\n",
    "- **Role Relevance**: Locate the left and right boundaries of the target in one pass.\n",
    "- **Scenario**: Return the target interval from a sorted log without falling back to a linear scan.\n",
    "\n"
   ]
  },
  {
   "cell_type": "markdown",
   "metadata": {},
   "source": [
    "## Metadata Summary\n",
    "- Source: [Find First and Last Position of Element in Sorted Array](https://leetcode.com/problems/find-first-and-last-position-of-element-in-sorted-array/)\n",
    "- Tags: `Array`, `Binary Search`\n",
    "- Difficulty: Medium\n",
    "- Recommended Priority: High\n"
   ]
  },
  {
   "cell_type": "markdown",
   "metadata": {},
   "source": [
    "## Problem Statement\n",
    "Return the starting and ending index of target in a sorted array; return [-1, -1] if absent.\n"
   ]
  },
  {
   "cell_type": "markdown",
   "metadata": {},
   "source": [
    "## Progressive Hints\n",
    "- Hint 1: Implement `lower_bound` and `upper_bound` separately.\n",
    "- Hint 2: Verify that the target exists before returning.\n",
    "\n"
   ]
  },
  {
   "cell_type": "markdown",
   "metadata": {},
   "source": [
    "## Solution Overview\n",
    "Run two binary searches: the first finds the left boundary, the second finds the first index greater than target.\n"
   ]
  },
  {
   "cell_type": "markdown",
   "metadata": {},
   "source": [
    "## Detailed Explanation\n",
    "1. Use `lower_bound` to capture the leftmost occurrence.\n",
    "2. Call `lower_bound` on `target + 1` to find the slot after the right boundary.\n",
    "3. If the left index is out of range or the value there is not the target, return [-1, -1].\n",
    "4. Otherwise return `[start, end - 1]`.\n",
    "\n"
   ]
  },
  {
   "cell_type": "markdown",
   "metadata": {},
   "source": [
    "## Complexity Trade-off Table\n",
    "| Approach | Time Complexity | Space Complexity | Notes |\n",
    "| --- | --- | --- | --- |\n",
    "| Two binary searches | O(log n) | O(1) | Stable and robust |\n",
    "| Binary search + expansion | O(log n + k) | O(1) | Degrades when duplicates are long |\n",
    "\n"
   ]
  },
  {
   "cell_type": "markdown",
   "metadata": {},
   "source": [
    "## Reference Implementation\n"
   ]
  },
  {
   "cell_type": "code",
   "metadata": {},
   "execution_count": null,
   "outputs": [],
   "source": [
    "from typing import List\n",
    "\n",
    "\n",
    "def search_range(nums: List[int], target: int) -> List[int]:\n",
    "    def lower_bound(x: int) -> int:\n",
    "        left, right = 0, len(nums)\n",
    "        while left < right:\n",
    "            mid = left + (right - left) // 2\n",
    "            if nums[mid] < x:\n",
    "                left = mid + 1\n",
    "            else:\n",
    "                right = mid\n",
    "        return left\n",
    "\n",
    "    start = lower_bound(target)\n",
    "    end = lower_bound(target + 1) - 1\n",
    "    if start == len(nums) or nums[start] != target:\n",
    "        return [-1, -1]\n",
    "    return [start, end]\n"
   ]
  },
  {
   "cell_type": "markdown",
   "metadata": {},
   "source": [
    "## Validation\n"
   ]
  },
  {
   "cell_type": "code",
   "metadata": {},
   "execution_count": null,
   "outputs": [],
   "source": [
    "assert search_range([5,7,7,8,8,10], 8) == [3, 4]\n",
    "assert search_range([5,7,7,8,8,10], 6) == [-1, -1]\n",
    "assert search_range([], 0) == [-1, -1]\n",
    "print('All tests passed for LC 34.')\n"
   ]
  },
  {
   "cell_type": "markdown",
   "metadata": {},
   "source": [
    "## Complexity Analysis\n",
    "- Time Complexity: O(log n).\n",
    "- Space Complexity: O(1).\n"
   ]
  },
  {
   "cell_type": "markdown",
   "metadata": {},
   "source": [
    "## Edge Cases & Pitfalls\n",
    "- Empty array or target missing.\n",
    "- Target appears once or spans the entire array.\n",
    "\n"
   ]
  },
  {
   "cell_type": "markdown",
   "metadata": {},
   "source": [
    "## Follow-up Variants\n",
    "- Wrap shared helpers for `lower_bound` and `upper_bound`.\n",
    "- Maintain the range for streaming data.\n",
    "\n"
   ]
  },
  {
   "cell_type": "markdown",
   "metadata": {},
   "source": [
    "## Takeaways\n",
    "- Boundary search is a key binary search variant.\n",
    "- Left-closed, right-open intervals compose cleanly.\n",
    "\n"
   ]
  },
  {
   "cell_type": "markdown",
   "metadata": {},
   "source": [
    "## Similar Problems\n",
    "| Problem ID | Problem Title | Technique |\n",
    "| --- | --- | --- |\n",
    "| 35 | Search Insert Position | lower_bound |\n",
    "| 278 | First Bad Version | First true index |\n",
    "\n"
   ]
  }
 ],
 "metadata": {
  "kernelspec": {
   "display_name": "Python 3 (ipykernel)",
   "language": "python",
   "name": "python3"
  },
  "language_info": {
   "codemirror_mode": {
    "name": "ipython",
    "version": 3
   },
   "file_extension": ".py",
   "mimetype": "text/x-python",
   "name": "python",
   "nbconvert_exporter": "python",
   "pygments_lexer": "ipython3",
   "version": "3.13.3"
  }
 },
 "nbformat": 4,
 "nbformat_minor": 5
}
