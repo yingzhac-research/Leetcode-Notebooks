{
  "cells": [
    {
      "cell_type": "markdown",
      "metadata": {},
      "source": [
        "# 34. Find First and Last Position of Element in Sorted Array\n"
      ]
    },
    {
      "cell_type": "markdown",
      "metadata": {},
      "source": [
        "## Topic Alignment\n",
        "- **Role Relevance**: 一次定位目标的左右边界。\n",
        "- **Scenario**: 有序日志中需要返回目标范围而不退化为线性扫描。\n"
      ]
    },
    {
      "cell_type": "markdown",
      "metadata": {},
      "source": [
        "## Metadata Summary\n",
        "- Source: [Find First and Last Position of Element in Sorted Array](https://leetcode.com/problems/find-first-and-last-position-of-element-in-sorted-array/)\n",
        "- Tags: `Array`, `Binary Search`\n",
        "- Difficulty: Medium\n",
        "- Recommended Priority: High\n"
      ]
    },
    {
      "cell_type": "markdown",
      "metadata": {},
      "source": [
        "## Problem Statement\n",
        "Return the starting and ending index of target in a sorted array; return [-1, -1] if absent.\n"
      ]
    },
    {
      "cell_type": "markdown",
      "metadata": {},
      "source": [
        "## Progressive Hints\n",
        "- Hint 1: 分别实现 `lower_bound` 与 `upper_bound`。\n",
        "- Hint 2: 返回前确认目标确实存在。\n"
      ]
    },
    {
      "cell_type": "markdown",
      "metadata": {},
      "source": [
        "## Solution Overview\n",
        "Run two binary searches: the first finds the left boundary, the second finds the first index greater than target.\n"
      ]
    },
    {
      "cell_type": "markdown",
      "metadata": {},
      "source": [
        "## Detailed Explanation\n",
        "1. 使用 `lower_bound` 获取最左出现位置。\n",
        "2. 对 `target+1` 调用 `lower_bound` 得到右边界后一位。\n",
        "3. 若左边界越界或不等于目标则返回 [-1,-1]。\n",
        "4. 否则返回 `[start, end-1]`。\n"
      ]
    },
    {
      "cell_type": "markdown",
      "metadata": {},
      "source": [
        "## Complexity Trade-off Table\n",
        "| Approach | Time Complexity | Space Complexity | Notes |\n",
        "| --- | --- | --- | --- |\n",
        "| Two binary searches | O(log n) | O(1) | 稳定可靠 |\n",
        "| 二分 + 扩展 | O(log n + k) | O(1) | 大量重复时退化 |\n"
      ]
    },
    {
      "cell_type": "markdown",
      "metadata": {},
      "source": [
        "## Reference Implementation\n"
      ]
    },
    {
      "cell_type": "code",
      "metadata": {},
      "execution_count": null,
      "outputs": [],
      "source": [
        "from typing import List\n",
        "\n",
        "\n",
        "def search_range(nums: List[int], target: int) -> List[int]:\n",
        "    def lower_bound(x: int) -> int:\n",
        "        left, right = 0, len(nums)\n",
        "        while left < right:\n",
        "            mid = left + (right - left) // 2\n",
        "            if nums[mid] < x:\n",
        "                left = mid + 1\n",
        "            else:\n",
        "                right = mid\n",
        "        return left\n",
        "\n",
        "    start = lower_bound(target)\n",
        "    end = lower_bound(target + 1) - 1\n",
        "    if start == len(nums) or nums[start] != target:\n",
        "        return [-1, -1]\n",
        "    return [start, end]\n"
      ]
    },
    {
      "cell_type": "markdown",
      "metadata": {},
      "source": [
        "## Validation\n"
      ]
    },
    {
      "cell_type": "code",
      "metadata": {},
      "execution_count": null,
      "outputs": [],
      "source": [
        "assert search_range([5,7,7,8,8,10], 8) == [3, 4]\n",
        "assert search_range([5,7,7,8,8,10], 6) == [-1, -1]\n",
        "assert search_range([], 0) == [-1, -1]\n",
        "print('All tests passed for LC 34.')\n"
      ]
    },
    {
      "cell_type": "markdown",
      "metadata": {},
      "source": [
        "## Complexity Analysis\n",
        "- Time Complexity: O(log n).\n",
        "- Space Complexity: O(1).\n"
      ]
    },
    {
      "cell_type": "markdown",
      "metadata": {},
      "source": [
        "## Edge Cases & Pitfalls\n",
        "- 空数组或目标不存在。\n",
        "- 目标只出现一次或贯穿全部。\n"
      ]
    },
    {
      "cell_type": "markdown",
      "metadata": {},
      "source": [
        "## Follow-up Variants\n",
        "- 封装公共 `lower_bound` / `upper_bound`。\n",
        "- 滚动数据流场景下的维护方式。\n"
      ]
    },
    {
      "cell_type": "markdown",
      "metadata": {},
      "source": [
        "## Takeaways\n",
        "- 边界查找是二分的重要变体。\n",
        "- 左闭右开写法易于组合。\n"
      ]
    },
    {
      "cell_type": "markdown",
      "metadata": {},
      "source": [
        "## Similar Problems\n",
        "| Problem ID | Problem Title | Technique |\n",
        "| --- | --- | --- |\n",
        "| 35 | Search Insert Position | lower_bound |\n",
        "| 278 | First Bad Version | 首个满足条件 |\n"
      ]
    }
  ],
  "metadata": {
    "kernelspec": {
      "display_name": "Python 3 (ipykernel)",
      "language": "python",
      "name": "python3"
    },
    "language_info": {
      "codemirror_mode": {
        "name": "ipython",
        "version": 3
      },
      "file_extension": ".py",
      "mimetype": "text/x-python",
      "name": "python",
      "nbconvert_exporter": "python",
      "pygments_lexer": "ipython3",
      "version": "3.13.3"
    }
  },
  "nbformat": 4,
  "nbformat_minor": 5
}