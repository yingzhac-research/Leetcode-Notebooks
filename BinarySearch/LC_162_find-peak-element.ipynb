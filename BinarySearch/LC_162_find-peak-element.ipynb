{
 "cells": [
  {
   "cell_type": "markdown",
   "metadata": {},
   "source": [
    "# 162. Find Peak Element\n"
   ]
  },
  {
   "cell_type": "markdown",
   "metadata": {},
   "source": [
    "## Topic Alignment\n",
    "- **Role Relevance**: Locate local maxima in telemetry readings for anomaly triggers.\n",
    "- **Scenario**: Surface the top-performing experiment variant without scanning entire metric arrays.\n"
   ]
  },
  {
   "cell_type": "markdown",
   "metadata": {},
   "source": [
    "## Metadata Summary\n",
    "- Source: [Find Peak Element](https://leetcode.com/problems/find-peak-element/)\n",
    "- Tags: `Array`, `Binary Search`\n",
    "- Difficulty: Medium\n",
    "- Recommended Priority: Medium\n"
   ]
  },
  {
   "cell_type": "markdown",
   "metadata": {},
   "source": [
    "## Problem Statement\n",
    "A peak element in `nums` is an index `i` such that `nums[i] > nums[i - 1]` and `nums[i] > nums[i + 1]`. The first and last positions are considered to have neighbors of negative infinity. Given an array `nums`, return a peak element's index. If the array contains multiple peaks, return the index of any peak.\n",
    "\n"
   ]
  },
  {
   "cell_type": "markdown",
   "metadata": {},
   "source": [
    "## Progressive Hints\n",
    "- The gradient between `mid` and `mid + 1` reveals which side contains a peak.\n",
    "- Treat the edges as negative infinity to simplify boundary checks.\n",
    "- Because the slope changes direction only once, binary search can always find a peak.\n"
   ]
  },
  {
   "cell_type": "markdown",
   "metadata": {},
   "source": [
    "## Solution Overview\n",
    "Leverage the monotonic slope behavior: if `nums[mid] < nums[mid + 1]`, a peak must exist on the right; otherwise one lies on the left. Narrow the interval until a single index remains.\n"
   ]
  },
  {
   "cell_type": "markdown",
   "metadata": {},
   "source": [
    "## Detailed Explanation\n",
    "1. Use two pointers `left = 0` and `right = len(nums) - 1`.\n",
    "2. While `left < right`, compute `mid` and compare `nums[mid]` with `nums[mid + 1]`.\n",
    "3. If the slope ascends (`nums[mid] < nums[mid + 1]`), move `left = mid + 1`.\n",
    "4. Otherwise move `right = mid` because the plateau or descent ensures a peak on the left side.\n",
    "5. When the loop ends, `left` marks a valid peak index.\n"
   ]
  },
  {
   "cell_type": "markdown",
   "metadata": {},
   "source": [
    "## Complexity Trade-off Table\n",
    "| Approach | Time Complexity | Space Complexity | Notes |\n",
    "| --- | --- | --- | --- |\n",
    "| Binary search on slope | O(log n) | O(1) | Always converges to some peak |\n",
    "| Linear scan | O(n) | O(1) | Observes peaks directly but slower |\n",
    "\n"
   ]
  },
  {
   "cell_type": "markdown",
   "metadata": {},
   "source": [
    "## Reference Implementation\n"
   ]
  },
  {
   "cell_type": "code",
   "execution_count": null,
   "metadata": {},
   "outputs": [],
   "source": [
    "from typing import List\n",
    "\n",
    "\n",
    "def find_peak_element(nums: List[int]) -> int:\n",
    "    left, right = 0, len(nums) - 1\n",
    "    while left < right:\n",
    "        mid = left + (right - left) // 2\n",
    "        if nums[mid] < nums[mid + 1]:\n",
    "            left = mid + 1\n",
    "        else:\n",
    "            right = mid\n",
    "    return left\n"
   ]
  },
  {
   "cell_type": "markdown",
   "metadata": {},
   "source": [
    "## Validation\n"
   ]
  },
  {
   "cell_type": "code",
   "execution_count": null,
   "metadata": {},
   "outputs": [],
   "source": [
    "cases = [\n",
    "    (([1, 2, 3, 1],), 2),\n",
    "    (([1, 2, 1, 3, 5, 6, 4],), {1, 5}),\n",
    "    (([1],), 0),\n",
    "]\n",
    "for args, expected in cases:\n",
    "    result = find_peak_element(*args)\n",
    "    if isinstance(expected, set):\n",
    "        assert result in expected, f\"find_peak_element{args} -> {result}, expected one of {expected}\"\n",
    "    else:\n",
    "        assert result == expected, f\"find_peak_element{args} -> {result}, expected {expected}\"\n"
   ]
  },
  {
   "cell_type": "markdown",
   "metadata": {},
   "source": [
    "## Complexity Analysis\n",
    "- Time Complexity: `O(log n)` by halving the range each iteration.\n",
    "- Space Complexity: `O(1)` using only pointers.\n",
    "- Bottleneck: Array access at `mid + 1`, requiring guard logic for length one arrays.\n",
    "\n"
   ]
  },
  {
   "cell_type": "markdown",
   "metadata": {},
   "source": [
    "## Edge Cases & Pitfalls\n",
    "- Arrays with a single element.\n",
    "- Strictly increasing or decreasing arrays, where the peak sits at an end.\n",
    "- Plateaus that still qualify as peaks when the plateau edge drops.\n",
    "\n"
   ]
  },
  {
   "cell_type": "markdown",
   "metadata": {},
   "source": [
    "## Follow-up Variants\n",
    "- Derive a variant that returns all peak indices in linear time.\n",
    "- Extend the idea to 2D peak finding with divide-and-conquer columns.\n",
    "- Discuss noisy data by smoothing before search.\n",
    "\n"
   ]
  },
  {
   "cell_type": "markdown",
   "metadata": {},
   "source": [
    "## Takeaways\n",
    "- Comparing adjacent elements is enough to locate a peak.\n",
    "- Binary search finds any peak without requiring a sorted array.\n",
    "\n"
   ]
  },
  {
   "cell_type": "markdown",
   "metadata": {},
   "source": [
    "## Similar Problems\n",
    "| Problem ID | Problem Title | Technique |\n",
    "| --- | --- | --- |\n",
    "| 852 | Peak Index in a Mountain Array | Binary search on slope |\n",
    "| 1095 | Find in Mountain Array | Peak detection plus binary search |\n",
    "\n"
   ]
  }
 ],
 "metadata": {
  "kernelspec": {
   "display_name": "Python 3 (ipykernel)",
   "language": "python",
   "name": "python3"
  },
  "language_info": {
   "codemirror_mode": {
    "name": "ipython",
    "version": 3
   },
   "file_extension": ".py",
   "mimetype": "text/x-python",
   "name": "python",
   "nbconvert_exporter": "python",
   "pygments_lexer": "ipython3",
   "version": "3.13.3"
  }
 },
 "nbformat": 4,
 "nbformat_minor": 5
}
