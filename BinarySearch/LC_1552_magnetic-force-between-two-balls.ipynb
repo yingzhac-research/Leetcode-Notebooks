{
 "cells": [
  {
   "cell_type": "markdown",
   "metadata": {},
   "source": [
    "# 1552. Magnetic Force Between Two Balls\n"
   ]
  },
  {
   "cell_type": "markdown",
   "metadata": {},
   "source": [
    "## Topic Alignment\n",
    "- **Role Relevance**: Maximize spacing between resources placed along a linear topology.\n",
    "- **Scenario**: Decide rack placements to maximize minimum distance between servers given candidate slots.\n"
   ]
  },
  {
   "cell_type": "markdown",
   "metadata": {},
   "source": [
    "## Metadata Summary\n",
    "- Source: [Magnetic Force Between Two Balls](https://leetcode.com/problems/magnetic-force-between-two-balls/)\n",
    "- Tags: `Array`, `Binary Search`, `Greedy`\n",
    "- Difficulty: Medium\n",
    "- Recommended Priority: Medium\n"
   ]
  },
  {
   "cell_type": "markdown",
   "metadata": {},
   "source": [
    "## Problem Statement\n",
    "In the universe Earth C-137, Rick discovered a special form of magnetic force between balls. You are given an integer array `position` representing valid positions to place balls. You are also given an integer `m`, the number of balls to place.\n",
    "\n",
    "Place the balls in the positions such that the minimum pairwise distance between balls is maximized. Return the maximum possible value of this minimum distance.\n",
    "\n"
   ]
  },
  {
   "cell_type": "markdown",
   "metadata": {},
   "source": [
    "## Progressive Hints\n",
    "- Sort the positions first to reason about gaps.\n",
    "- Binary search the candidate minimum distance.\n",
    "- A greedy placement from left to right can test feasibility for a given distance.\n"
   ]
  },
  {
   "cell_type": "markdown",
   "metadata": {},
   "source": [
    "## Solution Overview\n",
    "After sorting positions, the feasibility of placing balls with minimum distance `d` is monotonic. Use binary search on `d` and greedily place balls while the distance constraint holds.\n"
   ]
  },
  {
   "cell_type": "markdown",
   "metadata": {},
   "source": [
    "## Detailed Explanation\n",
    "1. Sort `position` in ascending order.\n",
    "2. Binary search on `d` within `[1, position[-1] - position[0]]`.\n",
    "3. For a candidate `d`, place the first ball at `position[0]` and greedily attempt to place subsequent balls whenever the gap from the last placed ball is at least `d`.\n",
    "4. If at least `m` balls can be placed, record feasibility and move the lower bound up; otherwise decrease the distance.\n",
    "5. Continue until the largest feasible `d` remains.\n"
   ]
  },
  {
   "cell_type": "markdown",
   "metadata": {},
   "source": [
    "## Complexity Trade-off Table\n",
    "| Approach | Time Complexity | Space Complexity | Notes |\n",
    "| --- | --- | --- | --- |\n",
    "| Binary search on distance | O(n log range) | O(1) | Greedy placement validates feasibility quickly |\n",
    "| Brute-force distance testing | O(n^2) | O(1) | Infeasible for large inputs |\n",
    "\n"
   ]
  },
  {
   "cell_type": "markdown",
   "metadata": {},
   "source": [
    "## Reference Implementation\n"
   ]
  },
  {
   "cell_type": "code",
   "execution_count": null,
   "metadata": {},
   "outputs": [],
   "source": [
    "from typing import List\n",
    "\n",
    "\n",
    "def max_distance(position: List[int], m: int) -> int:\n",
    "    position.sort()\n",
    "    left, right = 1, position[-1] - position[0]\n",
    "    best = 0\n",
    "    while left <= right:\n",
    "        mid = left + (right - left) // 2\n",
    "        count = 1\n",
    "        last = position[0]\n",
    "        for pos in position[1:]:\n",
    "            if pos - last >= mid:\n",
    "                count += 1\n",
    "                last = pos\n",
    "                if count == m:\n",
    "                    break\n",
    "        if count >= m:\n",
    "            best = mid\n",
    "            left = mid + 1\n",
    "        else:\n",
    "            right = mid - 1\n",
    "    return best\n"
   ]
  },
  {
   "cell_type": "markdown",
   "metadata": {},
   "source": [
    "## Validation\n"
   ]
  },
  {
   "cell_type": "code",
   "execution_count": null,
   "metadata": {},
   "outputs": [],
   "source": [
    "cases = [\n",
    "    (([1, 2, 3, 4, 7], 3), 3),\n",
    "    (([5, 4, 3, 2, 1, 1000000000], 2), 999999999),\n",
    "    (([1, 2], 2), 1),\n",
    "]\n",
    "for args, expected in cases:\n",
    "    result = max_distance(*args)\n",
    "    assert result == expected, f\"max_distance{args} -> {result}, expected {expected}\"\n"
   ]
  },
  {
   "cell_type": "markdown",
   "metadata": {},
   "source": [
    "## Complexity Analysis\n",
    "- Time Complexity: `O(n log n + n log range)` for the initial sort plus the binary search with greedy checks.\n",
    "- Space Complexity: `O(1)` after sorting the array in place.\n",
    "- Bottleneck: Sorting dominates; each feasibility scan is linear.\n",
    "\n"
   ]
  },
  {
   "cell_type": "markdown",
   "metadata": {},
   "source": [
    "## Edge Cases & Pitfalls\n",
    "- Minimal span arrays where only one distance works.\n",
    "- Very large coordinate values that stress integer arithmetic.\n",
    "- Cases where multiple positions share the same coordinate.\n",
    "\n"
   ]
  },
  {
   "cell_type": "markdown",
   "metadata": {},
   "source": [
    "## Follow-up Variants\n",
    "- Handle dynamic insertions or deletions of positions.\n",
    "- Extend to two-dimensional coordinates using spatial trees.\n",
    "- Discuss randomized placement heuristics and compare.\n"
   ]
  },
  {
   "cell_type": "markdown",
   "metadata": {},
   "source": [
    "## Takeaways\n",
    "- Sorting exposes the monotonic structure needed for binary search.\n",
    "- Greedy placement often suffices for feasibility tests.\n",
    "\n"
   ]
  },
  {
   "cell_type": "markdown",
   "metadata": {},
   "source": [
    "## Similar Problems\n",
    "| Problem ID | Problem Title | Technique |\n",
    "| --- | --- | --- |\n",
    "| 1482 | Minimum Number of Days to Make m Bouquets | Consecutive feasibility |\n",
    "| 1231 | Divide Chocolate | Maximize minimum sweetness |\n",
    "\n"
   ]
  }
 ],
 "metadata": {
  "kernelspec": {
   "display_name": "Python 3 (ipykernel)",
   "language": "python",
   "name": "python3"
  },
  "language_info": {
   "codemirror_mode": {
    "name": "ipython",
    "version": 3
   },
   "file_extension": ".py",
   "mimetype": "text/x-python",
   "name": "python",
   "nbconvert_exporter": "python",
   "pygments_lexer": "ipython3",
   "version": "3.13.3"
  }
 },
 "nbformat": 4,
 "nbformat_minor": 5
}
