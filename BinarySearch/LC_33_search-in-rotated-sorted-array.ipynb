{
 "cells": [
  {
   "cell_type": "markdown",
   "metadata": {},
   "source": [
    "# 33. Search in Rotated Sorted Array\n"
   ]
  },
  {
   "cell_type": "markdown",
   "metadata": {},
   "source": [
    "## Topic Alignment\n",
    "- **Role Relevance**: Diagnose feature rollouts where sorted keys are rotated between batches.\n",
    "- **Scenario**: Retrieve a configuration by id from a rotated snapshot without scanning the entire list.\n"
   ]
  },
  {
   "cell_type": "markdown",
   "metadata": {},
   "source": [
    "## Metadata Summary\n",
    "- Source: [Search in Rotated Sorted Array](https://leetcode.com/problems/search-in-rotated-sorted-array/)\n",
    "- Tags: `Array`, `Binary Search`\n",
    "- Difficulty: Medium\n",
    "- Recommended Priority: High\n"
   ]
  },
  {
   "cell_type": "markdown",
   "metadata": {},
   "source": [
    "## Problem Statement\n",
    "You are given an integer array `nums` sorted in ascending order, then rotated at an unknown pivot between 1 and `len(nums)` times. The array contains unique values. You are also given an integer `target`. Return the index of `target` if it is present in `nums`; otherwise return `-1`.\n",
    "\n",
    "You must design an algorithm that runs in `O(log n)` time.\n",
    "\n"
   ]
  },
  {
   "cell_type": "markdown",
   "metadata": {},
   "source": [
    "## Progressive Hints\n",
    "- Keep the classic binary search shape while determining which half of the array remains sorted.\n",
    "- Compare `nums[left]` and `nums[mid]` to decide whether the left half is monotonic.\n",
    "- Once you know which half is sorted, check whether the target lies inside it before discarding the other side.\n"
   ]
  },
  {
   "cell_type": "markdown",
   "metadata": {},
   "source": [
    "## Solution Overview\n",
    "Maintain the standard binary search window. At each step decide which half is fully sorted and whether the target can lie there. Shrink the boundary accordingly until the target is found or the window collapses.\n"
   ]
  },
  {
   "cell_type": "markdown",
   "metadata": {},
   "source": [
    "## Detailed Explanation\n",
    "1. Initiate `left = 0` and `right = len(nums) - 1`.\n",
    "2. Recompute `mid` each loop and first check for a direct match.\n",
    "3. If the left half `[left, mid]` is sorted, verify whether the target falls inside it. Keep or discard that half accordingly.\n",
    "4. Otherwise the right half `[mid, right]` is sorted, so use the same containment test with that segment.\n",
    "5. Continue until `left` surpasses `right` to conclude the target is absent.\n"
   ]
  },
  {
   "cell_type": "markdown",
   "metadata": {},
   "source": [
    "## Complexity Trade-off Table\n",
    "| Approach | Time Complexity | Space Complexity | Notes |\n",
    "| --- | --- | --- | --- |\n",
    "| Rotated binary search | O(log n) | O(1) | Preserves logarithmic time by analyzing the sorted half |\n",
    "| Linear scan | O(n) | O(1) | Guaranteed but wastes the sorted structure |\n",
    "\n"
   ]
  },
  {
   "cell_type": "markdown",
   "metadata": {},
   "source": [
    "## Reference Implementation\n"
   ]
  },
  {
   "cell_type": "code",
   "execution_count": null,
   "metadata": {},
   "outputs": [],
   "source": [
    "from typing import List\n",
    "\n",
    "\n",
    "def search(nums: List[int], target: int) -> int:\n",
    "    left, right = 0, len(nums) - 1\n",
    "    while left <= right:\n",
    "        mid = left + (right - left) // 2\n",
    "        if nums[mid] == target:\n",
    "            return mid\n",
    "        if nums[left] <= nums[mid]:\n",
    "            if nums[left] <= target < nums[mid]:\n",
    "                right = mid - 1\n",
    "            else:\n",
    "                left = mid + 1\n",
    "        else:\n",
    "            if nums[mid] < target <= nums[right]:\n",
    "                left = mid + 1\n",
    "            else:\n",
    "                right = mid - 1\n",
    "    return -1\n"
   ]
  },
  {
   "cell_type": "markdown",
   "metadata": {},
   "source": [
    "## Validation\n"
   ]
  },
  {
   "cell_type": "code",
   "execution_count": null,
   "metadata": {},
   "outputs": [],
   "source": [
    "cases = [\n",
    "    (([4, 5, 6, 7, 0, 1, 2], 0), 4),\n",
    "    (([4, 5, 6, 7, 0, 1, 2], 3), -1),\n",
    "    (([1], 0), -1),\n",
    "    (([1, 3], 3), 1),\n",
    "]\n",
    "for args, expected in cases:\n",
    "    result = search(*args)\n",
    "    assert result == expected, f\"search{args} -> {result}, expected {expected}\"\n"
   ]
  },
  {
   "cell_type": "markdown",
   "metadata": {},
   "source": [
    "## Complexity Analysis\n",
    "- Time Complexity: `O(log n)` because the search range is halved each iteration.\n",
    "- Space Complexity: `O(1)` since the algorithm uses a constant number of variables.\n",
    "- Bottleneck: Branching logic to determine the sorted region.\n",
    "\n"
   ]
  },
  {
   "cell_type": "markdown",
   "metadata": {},
   "source": [
    "## Edge Cases & Pitfalls\n",
    "- Arrays of length one where the target is absent.\n",
    "- Pivot positions near the ends of the array.\n",
    "- Targets that lie exactly at the pivot or its neighbors.\n",
    "\n"
   ]
  },
  {
   "cell_type": "markdown",
   "metadata": {},
   "source": [
    "## Follow-up Variants\n",
    "- Extend the function to return the leftmost or rightmost occurrence when duplicates are allowed.\n",
    "- Compare the iterative solution with a recursive divide-and-conquer variant.\n",
    "- Discuss how the method changes when the array is rotated multiple times after incremental inserts.\n",
    "\n"
   ]
  },
  {
   "cell_type": "markdown",
   "metadata": {},
   "source": [
    "## Takeaways\n",
    "- Checking which half is sorted preserves the binary search invariant after rotation.\n",
    "- Bound checks must be strict to avoid infinite loops.\n",
    "\n"
   ]
  },
  {
   "cell_type": "markdown",
   "metadata": {},
   "source": [
    "## Similar Problems\n",
    "| Problem ID | Problem Title | Technique |\n",
    "| --- | --- | --- |\n",
    "| 81 | Search in Rotated Sorted Array II | Rotated binary search with duplicates |\n",
    "| 153 | Find Minimum in Rotated Sorted Array | Pivot localization |\n",
    "\n"
   ]
  }
 ],
 "metadata": {
  "kernelspec": {
   "display_name": "Python 3 (ipykernel)",
   "language": "python",
   "name": "python3"
  },
  "language_info": {
   "codemirror_mode": {
    "name": "ipython",
    "version": 3
   },
   "file_extension": ".py",
   "mimetype": "text/x-python",
   "name": "python",
   "nbconvert_exporter": "python",
   "pygments_lexer": "ipython3",
   "version": "3.13.3"
  }
 },
 "nbformat": 4,
 "nbformat_minor": 5
}
