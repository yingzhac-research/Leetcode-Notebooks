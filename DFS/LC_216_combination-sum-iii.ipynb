{
 "cells": [
  {
   "cell_type": "markdown",
   "metadata": {},
   "source": [
    "# 216. Combination Sum III"
   ]
  },
  {
   "cell_type": "markdown",
   "metadata": {},
   "source": [
    "## Topic Alignment\n",
    "- Enumerating fixed-length combinations under sum constraint fits workload allocations with capped team size or limited resource slots."
   ]
  },
  {
   "cell_type": "markdown",
   "metadata": {},
   "source": [
    "## Metadata 摘要\n",
    "- Source: https://leetcode.com/problems/combination-sum-iii/\n",
    "- Tags: Backtracking, DFS, Pruning\n",
    "- Difficulty: Medium\n",
    "- Priority: Medium"
   ]
  },
  {
   "cell_type": "markdown",
   "metadata": {},
   "source": [
    "## Problem Statement 原题描述\n",
    "Find all valid combinations of k numbers that sum up to n such that only numbers 1 through 9 are used and each number is used at most once."
   ]
  },
  {
   "cell_type": "markdown",
   "metadata": {},
   "source": [
    "## Progressive Hints\n",
    "- Hint 1: Numbers are small (1..9) and unique; recursion depth is limited to k.\n",
    "- Hint 2: Use backtracking with start index to enforce increasing order.\n",
    "- Hint 3: Prune when current sum or path length exceeds constraints."
   ]
  },
  {
   "cell_type": "markdown",
   "metadata": {},
   "source": [
    "## Solution Overview\n",
    "DFS(start, remaining, k_remaining) chooses next number from start..9. If k_remaining == 0 and remaining == 0, record path. Prune when remaining < 0 or k_remaining < 0. Break loops when next value > remaining."
   ]
  },
  {
   "cell_type": "markdown",
   "metadata": {},
   "source": [
    "## Detailed Explanation\n",
    "1. Use path to store current combination.\n",
    "2. If k_remaining == 0, check remaining == 0 to append solution.\n",
    "3. Iterate num from start to 9. If num > remaining, break. Append num, recurse with start=num+1, remaining-num, k_remaining-1, then pop."
   ]
  },
  {
   "cell_type": "markdown",
   "metadata": {},
   "source": [
    "## Complexity Trade-off Table\n",
    "| Approach | Time | Space | Notes |\n",
    "| --- | --- | --- | --- |\n",
    "| DFS with pruning | O(C(9,k)) | O(k) | Search space small, prune by remaining |\n",
    "| Bitmask enumeration | O(2^9) | O(1) | Iterate subsets and filter by length & sum |"
   ]
  },
  {
   "cell_type": "code",
   "execution_count": null,
   "metadata": {},
   "outputs": [],
   "source": [
    "from typing import List\n\n",
    "class Solution:\n",
    "    def combinationSum3(self, k: int, n: int) -> List[List[int]]:\n",
    "        ans: List[List[int]] = []\n",
    "        path: List[int] = []\n",
    "        def dfs(start: int, remaining: int, slots: int) -> None:\n",
    "            if slots == 0:\n",
    "                if remaining == 0:\n",
    "                    ans.append(path.copy())\n",
    "                return\n",
    "            for num in range(start, 10):\n",
    "                if num > remaining:\n",
    "                    break\n",
    "                path.append(num)\n",
    "                dfs(num + 1, remaining - num, slots - 1)\n",
    "                path.pop()\n",
    "        dfs(1, n, k)\n",
    "        return ans"
   ]
  },
  {
   "cell_type": "code",
   "execution_count": null,
   "metadata": {
    "tags": [
     "validation"
    ]
   },
   "outputs": [],
   "source": [
    "tests = [\n",
    "    ((3, 7), {(1,2,4)}),\n",
    "    ((3, 9), {(1,2,6),(1,3,5),(2,3,4)}),\n",
    "    ((4, 1), set())\n",
    "]\n",
    "solver = Solution()\n",
    "for (k, n), expected in tests:\n",
    "    actual = solver.combinationSum3(k, n)\n",
    "    assert {tuple(combo) for combo in actual} == expected\n",
    "print('All tests passed.')"
   ]
  },
  {
   "cell_type": "markdown",
   "metadata": {},
   "source": [
    "## Complexity Analysis\n",
    "- Time: O(C(9, k)) because at most choose k numbers from 1..9.\n",
    "- Space: O(k) recursion depth plus output storage."
   ]
  },
  {
   "cell_type": "markdown",
   "metadata": {},
   "source": [
    "## Edge Cases & Pitfalls\n",
    "- If remaining becomes negative, prune immediately.\n",
    "- When k > 9 or n too large, no solutions; recursion naturally returns empty.\n",
    "- Maintain strictly increasing numbers using start index."
   ]
  },
  {
   "cell_type": "markdown",
   "metadata": {},
   "source": [
    "## Follow-up Variants\n",
    "- Allow numbers beyond 9 or variable ranges.\n",
    "- Include additional constraints like maximum difference between numbers.\n",
    "- Return count of combinations modulo 1e9+7."
   ]
  },
  {
   "cell_type": "markdown",
   "metadata": {},
   "source": [
    "## Takeaways\n",
    "- Small candidate set enables aggressive pruning.\n",
    "- Track remaining slots and sum simultaneously to cut branches early.\n",
    "- Template reuses combination structure from general DFS patterns."
   ]
  },
  {
   "cell_type": "markdown",
   "metadata": {},
   "source": [
    "## Similar Problems\n",
    "| Problem ID | Problem Title | Technique |\n",
    "| --- | --- | --- |\n",
    "| LC 39 | Combination Sum | DFS with reuse |\n",
    "| LC 40 | Combination Sum II | DFS without reuse + duplicates |\n",
    "| LC 377 | Combination Sum IV | DP counting order-sensitive combinations |"
   ]
  }
 ],
 "metadata": {
  "kernelspec": {
   "display_name": "Python 3",
   "language": "python",
   "name": "python3"
  },
  "language_info": {
   "name": "python",
   "version": "3.10"
  }
 },
 "nbformat": 4,
 "nbformat_minor": 5
}