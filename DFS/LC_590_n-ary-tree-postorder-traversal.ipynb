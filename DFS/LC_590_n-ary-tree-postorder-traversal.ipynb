{
 "cells": [
  {
   "cell_type": "markdown",
   "metadata": {},
   "source": [
    "# 590. N-ary Tree Postorder Traversal"
   ]
  },
  {
   "cell_type": "markdown",
   "metadata": {},
   "source": [
    "## Topic Alignment\n",
    "- Iterative traversal for N-ary trees appears in scene graphs and dependency DAGs; stack-based postorder generalizes binary templates."
   ]
  },
  {
   "cell_type": "markdown",
   "metadata": {},
   "source": [
    "## Metadata 摘要\n",
    "- Source: https://leetcode.com/problems/n-ary-tree-postorder-traversal/\n",
    "- Tags: Tree, DFS, Stack\n",
    "- Difficulty: Easy\n",
    "- Priority: Medium"
   ]
  },
  {
   "cell_type": "markdown",
   "metadata": {},
   "source": [
    "## Problem Statement 原题描述\n",
    "Given the root of an N-ary tree, return the postorder traversal of its nodes' values."
   ]
  },
  {
   "cell_type": "markdown",
   "metadata": {},
   "source": [
    "## Progressive Hints\n",
    "- Hint 1: Postorder visits all children before the node itself.\n",
    "- Hint 2: Use a stack storing (node, visited_children_flag).\n",
    "- Hint 3: Push children in reverse order so leftmost child processed first."
   ]
  },
  {
   "cell_type": "markdown",
   "metadata": {},
   "source": [
    "## Solution Overview\n",
    "Simulate recursion: push (root, False). While stack non-empty, pop. If node not visited, push (node, True) then children reversed with visited=False. If visited True, append node value."
   ]
  },
  {
   "cell_type": "markdown",
   "metadata": {},
   "source": [
    "## Detailed Explanation\n",
    "1. Handle null root returning [].\n",
    "2. Stack holds tuples.\n",
    "3. For each pop: if visited flag False, push (node, True) then children reversed order.\n",
    "4. When visited True, append node.val. Ensures children processed before node."
   ]
  },
  {
   "cell_type": "markdown",
   "metadata": {},
   "source": [
    "## Complexity Trade-off Table\n",
    "| Approach | Time | Space | Notes |\n",
    "| --- | --- | --- | --- |\n",
    "| Stack with visited flag | O(n) | O(n) | Works for arbitrary branching factor |\n",
    "| Recursive DFS | O(n) | O(h) | Simpler but limited by recursion depth |"
   ]
  },
  {
   "cell_type": "code",
   "execution_count": null,
   "metadata": {},
   "outputs": [],
   "source": [
    "from typing import List, Optional\n\n",
    "class Node:\n",
    "    def __init__(self, val: int = 0, children: Optional[List['Node']] = None):\n",
    "        self.val = val\n",
    "        self.children = children if children is not None else []\n\n",
    "class Solution:\n",
    "    def postorder(self, root: Optional[Node]) -> List[int]:\n",
    "        if not root:\n",
    "            return []\n",
    "        ans: List[int] = []\n",
    "        stack: List[tuple[Node, bool]] = [(root, False)]\n",
    "        while stack:\n",
    "            node, visited = stack.pop()\n",
    "            if visited:\n",
    "                ans.append(node.val)\n",
    "            else:\n",
    "                stack.append((node, True))\n",
    "                for child in reversed(node.children):\n",
    "                    stack.append((child, False))\n",
    "        return ans"
   ]
  },
  {
   "cell_type": "code",
   "execution_count": null,
   "metadata": {
    "tags": [
     "validation"
    ]
   },
   "outputs": [],
   "source": [
    "def build_tree(data: List) -> Optional[Node]:\n",
    "    if not data:\n",
    "        return None\n",
    "    nodes = [Node(val) for val in data]\n",
    "    return nodes[0]\n",
    "# Build sample tree manually because input format varies.\n",
    "root = Node(1, [Node(3, [Node(5), Node(6)]), Node(2), Node(4)])\n",
    "solver = Solution()\n",
    "assert solver.postorder(root) == [5,6,3,2,4,1]\n",
    "print('All tests passed.')"
   ]
  },
  {
   "cell_type": "markdown",
   "metadata": {},
   "source": [
    "## Complexity Analysis\n",
    "- Time: O(n) iterating each node once.\n",
    "- Space: O(h) stack depth, worst case O(n)."
   ]
  },
  {
   "cell_type": "markdown",
   "metadata": {},
   "source": [
    "## Edge Cases & Pitfalls\n",
    "- Multiplying children order: push reversed to maintain left-to-right order in postorder.\n",
    "- Node may have zero children; ensure children list defaults to [].\n",
    "- With large branching factor, stack size may increase but remains manageable."
   ]
  },
  {
   "cell_type": "markdown",
   "metadata": {},
   "source": [
    "## Follow-up Variants\n",
    "- Extend to iterative preorder by adjusting push order.\n",
    "- Support streaming iterators that yield node values lazily.\n",
    "- Apply to DAGs by tracking in-degree (topological ordering)."
   ]
  },
  {
   "cell_type": "markdown",
   "metadata": {},
   "source": [
    "## Takeaways\n",
    "- Stack with visited flag generalizes binary-tree iterative patterns to N-ary trees.\n",
    "- Reversing child push order preserves natural left-to-right traversal.\n",
    "- Works well when recursion is unsafe due to large depth or limited call stack."
   ]
  },
  {
   "cell_type": "markdown",
   "metadata": {},
   "source": [
    "## Similar Problems\n",
    "| Problem ID | Problem Title | Technique |\n",
    "| --- | --- | --- |\n",
    "| LC 589 | N-ary Tree Preorder Traversal | Stack-based DFS |\n",
    "| LC 145 | Binary Tree Postorder Traversal | Iterative stack with visited flag |\n",
    "| LC 429 | N-ary Tree Level Order Traversal | BFS for breadth-wise processing |"
   ]
  }
 ],
 "metadata": {
  "kernelspec": {
   "display_name": "Python 3",
   "language": "python",
   "name": "python3"
  },
  "language_info": {
   "name": "python",
   "version": "3.10"
  }
 },
 "nbformat": 4,
 "nbformat_minor": 5
}