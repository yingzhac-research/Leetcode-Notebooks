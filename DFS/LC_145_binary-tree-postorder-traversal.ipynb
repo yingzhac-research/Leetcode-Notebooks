{
 "cells": [
  {
   "cell_type": "markdown",
   "id": "08fa2610",
   "metadata": {},
   "source": [
    "# 145. Binary Tree Postorder Traversal"
   ]
  },
  {
   "cell_type": "markdown",
   "id": "8a038ab8",
   "metadata": {},
   "source": [
    "## Topic Alignment\n",
    "- Iterative DFS with explicit stack is valuable when recursion depth is limited, common in production services processing large tree-shaped dependency graphs."
   ]
  },
  {
   "cell_type": "markdown",
   "id": "0ea5ae4a",
   "metadata": {},
   "source": [
    "## Metadata 摘要\n",
    "- Source: https://leetcode.com/problems/binary-tree-postorder-traversal/\n",
    "- Tags: Tree, DFS, Stack\n",
    "- Difficulty: Easy\n",
    "- Priority: Medium"
   ]
  },
  {
   "cell_type": "markdown",
   "id": "c809f167",
   "metadata": {},
   "source": [
    "## Problem Statement 原题描述\n",
    "Given the root of a binary tree, return the postorder traversal of its nodes' values.\n",
    "\n",
    "Postorder traversal visits the left subtree, then the right subtree, then the node itself."
   ]
  },
  {
   "cell_type": "markdown",
   "id": "7587e8e3",
   "metadata": {},
   "source": [
    "## Progressive Hints\n",
    "- Hint 1: A stack can simulate recursion when visiting nodes.\n",
    "- Hint 2: Track whether a node has been processed after its children.\n",
    "- Hint 3: Push nodes in the correct order so that processing sequence matches postorder."
   ]
  },
  {
   "cell_type": "markdown",
   "id": "e5808281",
   "metadata": {},
   "source": [
    "## Solution Overview\n",
    "Use an explicit stack storing (node, visited_flag). When we pop a node not yet visited, push it back marked as visited, then push its right and left children (unvisited). When we later pop the same node with visited_flag True, append its value. This mirrors recursion's postorder behavior without risking stack overflow."
   ]
  },
  {
   "cell_type": "markdown",
   "id": "cd519ed3",
   "metadata": {},
   "source": [
    "## Detailed Explanation\n",
    "1. Initialize stack = [(root, False)] if root exists.\n",
    "2. While stack is non-empty, pop the top (node, visited).\n",
    "3. If node is None, continue.\n",
    "4. If visited is True, append node.val to the answer.\n",
    "5. Otherwise, push (node, True) first, then (node.right, False), (node.left, False).\n",
    "6. Because stack is LIFO, left children are processed before right, and nodes are appended only after their children were handled.\n",
    "7. Complexity is O(n) time and O(n) space for the stack in the worst case."
   ]
  },
  {
   "cell_type": "markdown",
   "id": "1ae83a12",
   "metadata": {},
   "source": [
    "## Complexity Trade-off Table\n",
    "| Approach | Time | Space | Notes |\n",
    "| --- | --- | --- | --- |\n",
    "| Iterative stack with visited flag | O(n) | O(n) | Avoids recursion depth issues |\n",
    "| Reverse preorder trick | O(n) | O(n) | Build reversed preorder (node-right-left) then reverse list |\n",
    "| Recursive DFS | O(n) | O(h) | Simpler but risks recursion depth for skewed trees |"
   ]
  },
  {
   "cell_type": "code",
   "execution_count": null,
   "id": "56e55ac7",
   "metadata": {},
   "outputs": [],
   "source": [
    "from typing import List, Optional\n",
    "\n",
    "class TreeNode:\n",
    "    def __init__(self, val: int = 0, left: Optional['TreeNode'] = None, right: Optional['TreeNode'] = None):\n",
    "        self.val = val\n",
    "        self.left = left\n",
    "        self.right = right\n",
    "\n",
    "class Solution:\n",
    "    def postorderTraversal(self, root: Optional[TreeNode]) -> List[int]:\n",
    "        if not root:\n",
    "            return []\n",
    "        ans: List[int] = []\n",
    "        stack = [(root, False)]\n",
    "        while stack:\n",
    "            node, visited = stack.pop()\n",
    "            if not node:\n",
    "                continue\n",
    "            if visited:\n",
    "                ans.append(node.val)\n",
    "            else:\n",
    "                stack.append((node, True))\n",
    "                stack.append((node.right, False))\n",
    "                stack.append((node.left, False))\n",
    "        return ans"
   ]
  },
  {
   "cell_type": "code",
   "execution_count": null,
   "id": "b05d5693",
   "metadata": {
    "tags": [
     "validation"
    ]
   },
   "outputs": [],
   "source": [
    "def build_tree(values: List[Optional[int]]) -> Optional[TreeNode]:\n",
    "    if not values:\n",
    "        return None\n",
    "    nodes = [TreeNode(val) if val is not None else None for val in values]\n",
    "    kids = nodes[::-1]\n",
    "    root = kids.pop()\n",
    "    for node in nodes:\n",
    "        if node:\n",
    "            if kids:\n",
    "                node.left = kids.pop()\n",
    "            if kids:\n",
    "                node.right = kids.pop()\n",
    "    return root\n",
    "\n",
    "tests = [\n",
    "    ([1,None,2,3], [3,2,1]),\n",
    "    ([], []),\n",
    "    ([1], [1]),\n",
    "    ([1,2,3,4,5,6,7], [4,5,2,6,7,3,1])\n",
    "]\n",
    "solver = Solution()\n",
    "for arr, expected in tests:\n",
    "    tree = build_tree(arr)\n",
    "    assert solver.postorderTraversal(tree) == expected\n",
    "print('All tests passed.')"
   ]
  },
  {
   "cell_type": "markdown",
   "id": "22d7d5e1",
   "metadata": {},
   "source": [
    "## Complexity Analysis\n",
    "- Time: O(n) since each node is pushed and popped at most twice.\n",
    "- Space: O(n) worst-case stack usage (skewed tree)."
   ]
  },
  {
   "cell_type": "markdown",
   "id": "3f35f05f",
   "metadata": {},
   "source": [
    "## Edge Cases & Pitfalls\n",
    "- Ensure None nodes are ignored when popped.\n",
    "- Avoid reversing the result inside the loop; append only when visited flag is True.\n",
    "- Building the helper tree from level-order uses None placeholders to indicate missing children."
   ]
  },
  {
   "cell_type": "markdown",
   "id": "44d69f6f",
   "metadata": {},
   "source": [
    "## Follow-up Variants\n",
    "- Implement preorder and inorder traversals iteratively using the same stack pattern.\n",
    "- Extend traversal to N-ary trees where each node has arbitrary number of children.\n",
    "- Stream nodes lazily instead of returning a list (iterator design)."
   ]
  },
  {
   "cell_type": "markdown",
   "id": "b518d3e8",
   "metadata": {},
   "source": [
    "## Takeaways\n",
    "- Explicit stacks mimic recursion and avoid hitting recursion depth limits.\n",
    "- The visited-flag pattern generalizes to pre/in/post order by adjusting push order.\n",
    "- Tree traversal code benefits from helper builders for testing."
   ]
  },
  {
   "cell_type": "markdown",
   "id": "a0b79ca1",
   "metadata": {},
   "source": [
    "## Similar Problems\n",
    "| Problem ID | Problem Title | Technique |\n",
    "| --- | --- | --- |\n",
    "| LC 94 | Binary Tree Inorder Traversal | Iterative DFS |\n",
    "| LC 144 | Binary Tree Preorder Traversal | Stack-based DFS |\n",
    "| LC 102 | Binary Tree Level Order Traversal | BFS comparison |"
   ]
  }
 ],
 "metadata": {
  "kernelspec": {
   "display_name": "Python 3 (ipykernel)",
   "language": "python",
   "name": "python3"
  },
  "language_info": {
   "codemirror_mode": {
    "name": "ipython",
    "version": 3
   },
   "file_extension": ".py",
   "mimetype": "text/x-python",
   "name": "python",
   "nbconvert_exporter": "python",
   "pygments_lexer": "ipython3",
   "version": "3.13.3"
  }
 },
 "nbformat": 4,
 "nbformat_minor": 5
}