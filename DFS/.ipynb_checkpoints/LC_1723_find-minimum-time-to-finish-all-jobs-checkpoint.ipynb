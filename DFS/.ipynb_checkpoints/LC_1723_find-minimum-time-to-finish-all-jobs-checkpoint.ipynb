{
  "cells": [
    {
      "cell_type": "markdown",
      "metadata": {},
      "source": [
        "# 1723. Find Minimum Time to Finish All Jobs"
      ]
    },
    {
      "cell_type": "markdown",
      "metadata": {},
      "source": [
        "## Topic Alignment\n",
        "- Optimally assigning jobs to workers is core to distributed training or data processing pipelines; bitmask DFS with pruning yields minimal completion time."
      ]
    },
    {
      "cell_type": "markdown",
      "metadata": {},
      "source": [
        "## Metadata\n",
        "- Source: https://leetcode.com/problems/find-minimum-time-to-finish-all-jobs/\n",
        "- Tags: DFS, Bitmask, Backtracking\n",
        "- Difficulty: Hard\n",
        "- Priority: High"
      ]
    },
    {
      "cell_type": "markdown",
      "metadata": {},
      "source": [
        "## Problem Statement\n",
        "You are given an integer array jobs where jobs[i] is the time it takes to complete the i-th job, and an integer k workers. Assign every job to exactly one worker. The goal is to minimize the maximum working time of any worker. Return that minimum possible maximum time."
      ]
    },
    {
      "cell_type": "markdown",
      "metadata": {},
      "source": [
        "## Progressive Hints\n",
        "- Hint 1: Sort jobs descending to place heavier tasks first.\n",
        "- Hint 2: Use DFS to assign each job to a worker while tracking best solution.\n",
        "- Hint 3: Prune when current max load already exceeds best found or when assigning job to idle workers with same load leads to duplicates."
      ]
    },
    {
      "cell_type": "markdown",
      "metadata": {},
      "source": [
        "## Solution Overview\n",
        "Backtracking assignments: maintain array loads[k] representing worker loads. Place jobs[i] by trying each worker. Skip workers whose load equals previous worker to avoid symmetric states. Track global best answer and prune when partial load >= best."
      ]
    },
    {
      "cell_type": "markdown",
      "metadata": {},
      "source": [
        "## Detailed Explanation\n",
        "1. Sort jobs descending.\n",
        "2. DFS(index, loads) assigns jobs[index]. If index == len(jobs), update best with max(loads).\n",
        "3. For worker in 0..k-1: if loads[worker] + job <= best, assign and recurse.\n",
        "4. After recursion, backtrack. If loads[worker] was 0 before assignment, break to avoid symmetric permutations of idle workers.\n",
        "5. Prune when current max load already >= best."
      ]
    },
    {
      "cell_type": "markdown",
      "metadata": {},
      "source": [
        "## Complexity Trade-off Table\n",
        "| Approach | Time | Space | Notes |\n",
        "| --- | --- | --- | --- |\n",
        "| DFS with pruning | O(k^n) worst-case, heavily pruned | O(k) | Practical for n <= 12 |\n",
        "| Binary search + feasibility check | O(n log sum) | O(k) | Alternative using subset DP per mid |"
      ]
    },
    {
      "cell_type": "code",
      "execution_count": null,
      "metadata": {},
      "outputs": [],
      "source": [
        "from typing import List\n\n",
        "class Solution:\n",
        "    def minimumTimeRequired(self, jobs: List[int], k: int) -> int:\n",
        "        jobs.sort(reverse=True)\n",
        "        loads = [0] * k\n",
        "        best = sum(jobs)\n",
        "        def dfs(idx: int, current_max: int) -> None:\n",
        "            nonlocal best\n",
        "            if current_max >= best:\n",
        "                return\n",
        "            if idx == len(jobs):\n",
        "                best = min(best, current_max)\n",
        "                return\n",
        "            seen = set()\n",
        "            job = jobs[idx]\n",
        "            for worker in range(k):\n",
        "                load = loads[worker]\n",
        "                if load in seen:\n",
        "                    continue\n",
        "                if load + job >= best:\n",
        "                    continue\n",
        "                seen.add(load)\n",
        "                loads[worker] += job\n",
        "                dfs(idx + 1, max(current_max, loads[worker]))\n",
        "                loads[worker] -= job\n",
        "                if load == 0:\n",
        "                    break\n",
        "        dfs(0, 0)\n",
        "        return best"
      ]
    },
    {
      "cell_type": "code",
      "execution_count": null,
      "metadata": {
        "tags": [
          "validation"
        ]
      },
      "outputs": [],
      "source": [
        "tests = [\n",
        "    ([3,2,3], 3, 3),\n",
        "    ([1,2,4,7,8], 2, 11),\n",
        "    ([5,5,4,4,4,4], 2, 13)\n",
        "]\n",
        "solver = Solution()\n",
        "for jobs, workers, expected in tests:\n",
        "    assert solver.minimumTimeRequired(jobs[:], workers) == expected\n",
        "print('All tests passed.')"
      ]
    },
    {
      "cell_type": "markdown",
      "metadata": {},
      "source": [
        "## Complexity Analysis\n",
        "- Time: O(k^n) worst case but strong pruning and sorting make n ≤ 12 manageable.\n",
        "- Space: O(k) for loads array plus recursion depth n."
      ]
    },
    {
      "cell_type": "markdown",
      "metadata": {},
      "source": [
        "## Edge Cases & Pitfalls\n",
        "- Without sorting, branching factor grows drastically.\n",
        "- The seen set prevents assigning to multiple workers with identical loads, reducing duplication.\n",
        "- Always backtrack worker load after recursion."
      ]
    },
    {
      "cell_type": "markdown",
      "metadata": {},
      "source": [
        "## Follow-up Variants\n",
        "- Combine with binary search on answer + feasibility check using DP over subsets.\n",
        "- Introduce worker-specific speed multipliers or unavailability windows.\n",
        "- Return the assignment plan alongside minimal time."
      ]
    },
    {
      "cell_type": "markdown",
      "metadata": {},
      "source": [
        "## Takeaways\n",
        "- Sorting jobs descending and skipping duplicate loads greatly improves DFS efficiency.\n",
        "- Pruning whenever current max exceeds best is essential.\n",
        "- Template generalizes to other load balancing problems with small n."
      ]
    },
    {
      "cell_type": "markdown",
      "metadata": {},
      "source": [
        "## Similar Problems\n",
        "| Problem ID | Problem Title | Technique |\n",
        "| --- | --- | --- |\n",
        "| LC 1986 | Minimum Number of Work Sessions to Finish the Tasks | Bitmask DFS with memo |\n",
        "| LC 698 | Partition to K Equal Sum Subsets | DFS ensuring equal loads |\n",
        "| LC 875 | Koko Eating Bananas | Binary search baseline for comparison |"
      ]
    }
  ],
  "metadata": {
    "kernelspec": {
      "display_name": "Python 3",
      "language": "python",
      "name": "python3"
    },
    "language_info": {
      "name": "python",
      "version": "3.10"
    }
  },
  "nbformat": 4,
  "nbformat_minor": 5
}