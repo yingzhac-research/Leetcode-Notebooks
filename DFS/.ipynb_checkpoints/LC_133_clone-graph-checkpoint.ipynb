{
 "cells": [
  {
   "cell_type": "markdown",
   "metadata": {},
   "source": [
    "# 133. Clone Graph"
   ]
  },
  {
   "cell_type": "markdown",
   "metadata": {},
   "source": [
    "## Topic Alignment\n",
    "- Graph cloning is essential when duplicating data pipelines or experimentation graphs without mutating the original; DFS builds a copy while preserving connectivity." 
   ]
  },
  {
   "cell_type": "markdown",
   "metadata": {},
   "source": [
    "## Metadata 摘要\n",
    "- Source: https://leetcode.com/problems/clone-graph/\n",
    "- Tags: Graph, DFS, Hash Table\n",
    "- Difficulty: Medium\n",
    "- Priority: Medium"
   ]
  },
  {
   "cell_type": "markdown",
   "metadata": {},
   "source": [
    "## Problem Statement 原题描述\n",
    "Given a reference of a node in a connected undirected graph. Each node in the graph contains an integer value and a list of its neighbors. Return a deep copy (clone) of the graph."
   ]
  },
  {
   "cell_type": "markdown",
   "metadata": {},
   "source": [
    "## Progressive Hints\n",
    "- Hint 1: You need a mapping between original nodes and copied nodes.\n",
    "- Hint 2: DFS from the start node, and create neighbor copies recursively.\n",
    "- Hint 3: Ensure the graph is undirected; avoid revisiting nodes by caching clones."
   ]
  },
  {
   "cell_type": "markdown",
   "metadata": {},
   "source": [
    "## Solution Overview\n",
    "Perform DFS from the entry node. Maintain a dictionary mapping original nodes to their cloned counterparts. When visiting a node, create its clone if necessary, then recursively clone all neighbors, appending the cloned neighbor references. Because the graph is connected, every node will eventually be cloned, and the map prevents cycles from causing infinite recursion." 
   ]
  },
  {
   "cell_type": "markdown",
   "metadata": {},
   "source": [
    "## Detailed Explanation\n",
    "1. Handle null input by returning None.\n",
    "2. Use a dictionary `cloned` where `cloned[original] = copy`.\n",
    "3. Define dfs(node) that returns the clone. If node already in cloned, return it. Otherwise, create a new Node with the same value, store it, and DFS all neighbors, appending their clones.\n",
    "4. Because the graph is undirected and finite, recursion completes; complexity is linear in number of nodes plus edges."
   ]
  },
  {
   "cell_type": "markdown",
   "metadata": {},
   "source": [
    "## Complexity Trade-off Table\n",
    "| Approach | Time | Space | Notes |\n",
    "| --- | --- | --- | --- |\n",
    "| DFS with hash map | O(N + E) | O(N) | Natural recursion, handles cycles |\n",
    "| BFS cloning | O(N + E) | O(N) | Uses queue, similar complexity |\n",
    "| Iterative stack DFS | O(N + E) | O(N) | Avoids recursion depth concerns |"
   ]
  },
  {
   "cell_type": "code",
   "execution_count": null,
   "metadata": {},
   "outputs": [],
   "source": [
    "from collections import deque\n",
    "from typing import Dict, List, Optional\n\n",
    "class Node:\n",
    "    def __init__(self, val: int = 0, neighbors: Optional[List['Node']] = None):\n",
    "        self.val = val\n",
    "        self.neighbors = neighbors if neighbors is not None else []\n\n",
    "class Solution:\n",
    "    def cloneGraph(self, node: Optional[Node]) -> Optional[Node]:\n",
    "        if not node:\n",
    "            return None\n",
    "        cloned: Dict[Node, Node] = {}\n",
    "        def dfs(curr: Node) -> Node:\n",
    "            if curr in cloned:\n",
    "                return cloned[curr]\n",
    "            copy = Node(curr.val)\n",
    "            cloned[curr] = copy\n",
    "            for nei in curr.neighbors:\n",
    "                copy.neighbors.append(dfs(nei))\n",
    "            return copy\n",
    "        return dfs(node)"
   ]
  },
  {
   "cell_type": "code",
   "execution_count": null,
   "metadata": {
    "tags": [
     "validation"
    ]
   },
   "outputs": [],
   "source": [
    "def build_graph(adj_list: List[List[int]]) -> Optional[Node]:\n",
    "    if not adj_list:\n",
    "        return None\n",
    "    nodes = [Node(i + 1) for i in range(len(adj_list))]\n",
    "    for idx, neighbors in enumerate(adj_list):\n",
    "        nodes[idx].neighbors = [nodes[n - 1] for n in neighbors]\n",
    "    return nodes[0]\n\n",
    "def serialize_graph(node: Optional[Node]) -> List[List[int]]:\n",
    "    if not node:\n",
    "        return []\n",
    "    visited = {}\n",
    "    order: List[Node] = []\n",
    "    queue = deque([node])\n",
    "    while queue:\n",
    "        curr = queue.popleft()\n",
    "        if curr in visited:\n",
    "            continue\n",
    "        visited[curr] = len(order)\n",
    "        order.append(curr)\n",
    "        for nei in curr.neighbors:\n",
    "            if nei not in visited:\n",
    "                queue.append(nei)\n",
    "    result = []\n",
    "    for curr in order:\n",
    "        result.append([nei.val for nei in curr.neighbors])\n",
    "    return result\n\n",
    "tests = [\n",
    "    ([[2,4],[1,3],[2,4],[1,3]]),\n",
    "    ([[2],[1]]),\n",
    "    ([[2,3,4],[1,3],[1,2,4],[1,3]])\n",
    "]\n",
    "solver = Solution()\n",
    "for adj in tests:\n",
    "    original = build_graph(adj)\n",
    "    cloned = solver.cloneGraph(original)\n",
    "    assert serialize_graph(cloned) == adj\n",
    "print('All tests passed.')"
   ]
  },
  {
   "cell_type": "markdown",
   "metadata": {},
   "source": [
    "## Complexity Analysis\n",
    "- Time: O(N + E) because each node and edge is processed once.\n",
    "- Space: O(N) for the recursion stack and clone map."
   ]
  },
  {
   "cell_type": "markdown",
   "metadata": {},
   "source": [
    "## Edge Cases & Pitfalls\n",
    "- Graph could be a single node with no neighbors; handle null neighbor lists.\n",
    "- Ensure you do not create multiple clones of the same node.\n",
    "- Avoid mutating the original graph during cloning."
   ]
  },
  {
   "cell_type": "markdown",
   "metadata": {},
   "source": [
    "## Follow-up Variants\n",
    "- Clone a graph with directed edges and weighted connections.\n",
    "- Stream graph input and clone on the fly under memory constraints.\n",
    "- Detect and preserve additional metadata such as timestamps attached to edges."
   ]
  },
  {
   "cell_type": "markdown",
   "metadata": {},
   "source": [
    "## Takeaways\n",
    "- DFS with a visited map quickly clones cyclic graphs.\n",
    "- The recursion skeleton generalizes to BFS or iterative DFS easily.\n",
    "- Keeping helper builders for tests speeds up verification."
   ]
  },
  {
   "cell_type": "markdown",
   "metadata": {},
   "source": [
    "## Similar Problems\n",
    "| Problem ID | Problem Title | Technique |\n",
    "| --- | --- | --- |\n",
    "| LC 138 | Copy List with Random Pointer | DFS/BFS copying with hashmap |\n",
    "| LC 207 | Course Schedule | DFS cycle detection |\n",
    "| LC 332 | Reconstruct Itinerary | DFS graph traversal |"
   ]
  }
 ],
 "metadata": {
  "kernelspec": {
   "display_name": "Python 3",
   "language": "python",
   "name": "python3"
  },
  "language_info": {
   "name": "python",
   "version": "3.10"
  }
 },
 "nbformat": 4,
 "nbformat_minor": 5
}
