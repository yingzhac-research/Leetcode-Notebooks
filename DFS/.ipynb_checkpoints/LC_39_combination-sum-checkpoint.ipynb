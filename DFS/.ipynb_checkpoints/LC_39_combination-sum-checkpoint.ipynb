{
  "cells": [
    {
      "cell_type": "markdown",
      "metadata": {},
      "source": [
        "# 39. Combination Sum"
      ]
    },
    {
      "cell_type": "markdown",
      "metadata": {},
      "source": [
        "## Topic Alignment\n",
        "- Combination search with pruning resembles model architecture exploration and feature subset selection where early stopping avoids hopeless branches."
      ]
    },
    {
      "cell_type": "markdown",
      "metadata": {},
      "source": [
        "## Metadata\n",
        "- Source: https://leetcode.com/problems/combination-sum/\n",
        "- Tags: Backtracking, DFS, Pruning\n",
        "- Difficulty: Medium\n",
        "- Priority: High"
      ]
    },
    {
      "cell_type": "markdown",
      "metadata": {},
      "source": [
        "## Problem Statement\n",
        "Given an array of distinct integers candidates and a target integer target, return a list of all unique combinations of candidates where the chosen numbers sum to target. You may return the combinations in any order.\n\n",
        "The same number may be chosen from candidates an unlimited number of times. Two combinations are unique if the frequency of at least one of the chosen numbers is different."
      ]
    },
    {
      "cell_type": "markdown",
      "metadata": {},
      "source": [
        "## Progressive Hints\n",
        "- Hint 1: Sort the candidates to help prune branches and maintain non-decreasing order.\n",
        "- Hint 2: Use DFS to decide how many times to take each candidate before moving on.\n",
        "- Hint 3: Stop exploring once the remaining target becomes negative."
      ]
    },
    {
      "cell_type": "markdown",
      "metadata": {},
      "source": [
        "## Solution Overview\n",
        "Sort candidates to allow early pruning. DFS keeps track of the current index and remaining target. For each index, we decide either to include the candidate (and stay on the same index to allow reuse) or skip to the next index. Whenever the remainder hits zero, we record the path. Recursive unwinding ensures all valid combinations are found without duplicates."
      ]
    },
    {
      "cell_type": "markdown",
      "metadata": {},
      "source": [
        "## Detailed Explanation\n",
        "1. Sort candidates so that combinations are generated in non-decreasing order, simplifying duplicate avoidance.\n",
        "2. Define dfs(start, remainder, path).\n",
        "3. If remainder == 0, append path.copy() to results. If remainder < 0, return immediately (prune).\n",
        "4. Iterate i from start to len(candidates)-1. For each candidates[i], append to path, recurse with dfs(i, remainder - candidates[i], path), then pop.\n",
        "5. Because we never iterate indices less than start, we prevent permutations of the same combination from being added twice.\n",
        "6. Complexity depends on the solution space but pruning reduces exploration compared to brute force."
      ]
    },
    {
      "cell_type": "markdown",
      "metadata": {},
      "source": [
        "## Complexity Trade-off Table\n",
        "| Approach | Time | Space | Notes |\n",
        "| --- | --- | --- | --- |\n",
        "| DFS with pruning | O(S) | O(target / min + depth) | S denotes number of valid states explored |\n",
        "| DP counting combinations | O(n * target) | O(target) | Counts ways but does not enumerate actual combinations |"
      ]
    },
    {
      "cell_type": "code",
      "execution_count": null,
      "metadata": {},
      "outputs": [],
      "source": [
        "from typing import List\n\n",
        "class Solution:\n",
        "    def combinationSum(self, candidates: List[int], target: int) -> List[List[int]]:\n",
        "        candidates.sort()\n",
        "        ans: List[List[int]] = []\n",
        "        path: List[int] = []\n",
        "        def dfs(start: int, remainder: int) -> None:\n",
        "            if remainder == 0:\n",
        "                ans.append(path.copy())\n",
        "                return\n",
        "            for i in range(start, len(candidates)):\n",
        "                value = candidates[i]\n",
        "                if value > remainder:\n",
        "                    break\n",
        "                path.append(value)\n",
        "                dfs(i, remainder - value)\n",
        "                path.pop()\n",
        "        dfs(0, target)\n",
        "        return ans"
      ]
    },
    {
      "cell_type": "code",
      "execution_count": null,
      "metadata": {
        "tags": [
          "validation"
        ]
      },
      "outputs": [],
      "source": [
        "tests = [\n",
        "    (([2,3,6,7], 7), {\n",
        "        (2,2,3), (7,)\n",
        "    }),\n",
        "    (([2,3,5], 8), {\n",
        "        (2,2,2,2), (2,3,3), (3,5)\n",
        "    }),\n",
        "    (([2], 1), set()),\n",
        "    (([1], 2), {(1,1)})\n",
        "]\n",
        "solver = Solution()\n",
        "for (candidates, target), expected in tests:\n",
        "    actual = solver.combinationSum(candidates[:], target)\n",
        "    assert {tuple(combo) for combo in actual} == expected\n",
        "print('All tests passed.')"
      ]
    },
    {
      "cell_type": "markdown",
      "metadata": {},
      "source": [
        "## Complexity Analysis\n",
        "- Time: O(S) where S is the number of DFS states explored; bounded by combination count but pruned by ordering.\n",
        "- Space: O(target / min(candidates)) recursion depth plus output storage."
      ]
    },
    {
      "cell_type": "markdown",
      "metadata": {},
      "source": [
        "## Edge Cases & Pitfalls\n",
        "- Break early when value > remainder because candidates are sorted.\n",
        "- Do not advance index when reusing the same value; otherwise you miss unlimited reuse.\n",
        "- Input target may be small; ensure base cases handle zero and negative remainders correctly."
      ]
    },
    {
      "cell_type": "markdown",
      "metadata": {},
      "source": [
        "## Follow-up Variants\n",
        "- Restrict each candidate to be used at most once (Combination Sum II).\n",
        "- Add limits on combination length and adjust recursion to track count.\n",
        "- Return only the number of combinations instead of the actual lists."
      ]
    },
    {
      "cell_type": "markdown",
      "metadata": {},
      "source": [
        "## Takeaways\n",
        "- Sorting inputs unlocks effective pruning conditions.\n",
        "- Passing start index maintains non-decreasing order and prevents duplicates.\n",
        "- DFS with remainder tracking is efficient for sums with bounded target."
      ]
    },
    {
      "cell_type": "markdown",
      "metadata": {},
      "source": [
        "## Similar Problems\n",
        "| Problem ID | Problem Title | Technique |\n",
        "| --- | --- | --- |\n",
        "| LC 40 | Combination Sum II | DFS without reuse and duplicate pruning |\n",
        "| LC 77 | Combinations | DFS on choose k elements |\n",
        "| LC 216 | Combination Sum III | DFS with fixed length and digit constraints |"
      ]
    }
  ],
  "metadata": {
    "kernelspec": {
      "display_name": "Python 3",
      "language": "python",
      "name": "python3"
    },
    "language_info": {
      "name": "python",
      "version": "3.10"
    }
  },
  "nbformat": 4,
  "nbformat_minor": 5
}