{
  "cells": [
    {
      "cell_type": "markdown",
      "metadata": {},
      "source": [
        "# 1192. Critical Connections in a Network"
      ]
    },
    {
      "cell_type": "markdown",
      "metadata": {},
      "source": [
        "## Topic Alignment\n",
        "- Tarjan 低链接算法找桥，用于检测网络中断点/关键边。"
      ]
    },
    {
      "cell_type": "markdown",
      "metadata": {},
      "source": [
        "## Metadata 摘要\n",
        "- Source: https://leetcode.com/problems/critical-connections-in-a-network/\n",
        "- Tags: Graph, DFS, Tarjan\n",
        "- Difficulty: Hard\n",
        "- Priority: High"
      ]
    },
    {
      "cell_type": "markdown",
      "metadata": {},
      "source": [
        "## Problem Statement 原题描述\n",
        "Given an undirected connected graph with n nodes and a list of edges, return all critical connections (bridges). Removing a bridge increases the number of connected components."
      ]
    },
    {
      "cell_type": "markdown",
      "metadata": {},
      "source": [
        "## Progressive Hints\n",
        "- Hint 1: 关键边 = DFS 树中 low[v] > tin[u] 的边 (u,v)。\n",
        "- Hint 2: tin[u] 表示 u 首次被访问的时间戳，low[u] 表示通过回边能到达的最小时间戳。\n",
        "- Hint 3: DFS 时需要跳过父边；注意多重边/自环（LeetCode 输入无）。"
      ]
    },
    {
      "cell_type": "markdown",
      "metadata": {},
      "source": [
        "## Solution Overview\n",
        "使用 Tarjan 低链接：\n",
        "1. DFS 过程中记录 `tin[u]` 与 `low[u]`。\n",
        "2. 遍历邻居 v：若未访问，递归 DFS(v, u)，回溯后 `low[u] = min(low[u], low[v])`。\n",
        "3. 若 `low[v] > tin[u]`，则 (u,v) 是桥。\n",
        "4. 若 v 已访问且不是父节点，则 `low[u] = min(low[u], tin[v])`。"
      ]
    },
    {
      "cell_type": "markdown",
      "metadata": {},
      "source": [
        "## Detailed Explanation\n",
        "- 图可能是稠密或稀疏，邻接表存储。\n",
        "- time 计数器自增，确保每个节点赋唯一时间戳。\n",
        "- 结果可按任何顺序输出，题目要求二维列表。"
      ]
    },
    {
      "cell_type": "markdown",
      "metadata": {},
      "source": [
        "## Complexity Trade-off Table\n",
        "| Approach | Time | Space | Notes |\n",
        "| --- | --- | --- | --- |\n",
        "| Tarjan DFS | O(n + m) | O(n + m) | 单次深搜即可找到所有桥 |\n",
        "| 删除边逐一测试 | O(m * (n + m)) | O(n + m) | 会超时 |"
      ]
    },
    {
      "cell_type": "code",
      "execution_count": null,
      "metadata": {},
      "outputs": [],
      "source": [
        "from collections import defaultdict\nfrom typing import List\n\nclass Solution:\n    def criticalConnections(self, n: int, connections: List[List[int]]) -> List[List[int]]:\n        graph = defaultdict(list)\n        for u, v in connections:\n            graph[u].append(v)\n            graph[v].append(u)\n\n        tin = [-1] * n\n        low = [0] * n\n        time = 0\n        bridges: List[List[int]] = []\n\n        def dfs(u: int, parent: int) -> None:\n            nonlocal time\n            tin[u] = low[u] = time\n            time += 1\n            for v in graph[u]:\n                if v == parent:\n                    continue\n                if tin[v] == -1:\n                    dfs(v, u)\n                    low[u] = min(low[u], low[v])\n                    if low[v] > tin[u]:\n                        bridges.append([u, v])\n                else:\n                    low[u] = min(low[u], tin[v])\n\n        dfs(0, -1)\n        return bridges\n"
      ]
    },
    {
      "cell_type": "code",
      "execution_count": null,
      "metadata": {
        "tags": [
          "validation"
        ]
      },
      "outputs": [],
      "source": [
        "tests = [\n    (4, [[0,1],[1,2],[2,0],[1,3]], [[1,3]]),\n    (2, [[0,1]], [[0,1]])\n]\nsolver = Solution()\nfor n, edges, expected in tests:\n    result = solver.criticalConnections(n, edges)\n    assert sorted(map(sorted, result)) == sorted(map(sorted, expected))\nprint('All tests passed.')\n"
      ]
    },
    {
      "cell_type": "markdown",
      "metadata": {},
      "source": [
        "## Complexity Analysis\n",
        "- Time: O(n + m)，n 为节点数，m 为边数。\n",
        "- Space: O(n + m) 邻接表 + 递归栈。"
      ]
    },
    {
      "cell_type": "markdown",
      "metadata": {},
      "source": [
        "## Edge Cases & Pitfalls\n",
        "- 图保证连通；若不连通需对每个未访问节点调用 dfs。\n",
        "- 注意父边判断：`v == parent` 时继续。\n",
        "- 多重边和自环会影响判定，这里题目输入无此情况。"
      ]
    },
    {
      "cell_type": "markdown",
      "metadata": {},
      "source": [
        "## Follow-up Variants\n",
        "- 找割点（low[v] >= tin[u]）。\n",
        "- 查找强连通分量：Tarjan SCC 模板。\n",
        "- 动态维护桥：需要 Link-Cut Tree 或 DSU on tree 进阶技巧。"
      ]
    },
    {
      "cell_type": "markdown",
      "metadata": {},
      "source": [
        "## Takeaways\n",
        "- Tarjan 低链接通过比较 `low` 与 `tin` 判定关键边。\n",
        "- 图 DFS 需谨慎处理父边与回边。\n",
        "- 一次 DFS 即可枚举所有桥，时间复杂度线性。"
      ]
    },
    {
      "cell_type": "markdown",
      "metadata": {},
      "source": [
        "## Similar Problems\n",
        "| Problem ID | Problem Title | Technique |\n",
        "| --- | --- | --- |\n",
        "| LC 1519 | Number of Nodes in the Sub-Tree With the Same Label | 树形 DP (另一类) |\n",
        "| LC 310 | Minimum Height Trees | 层层剥叶拓扑 |\n",
        "| ---- | Articulation Points | Tarjan 割点模板 (可自练) |"
      ]
    }
  ],
  "metadata": {
    "kernelspec": {
      "display_name": "Python 3",
      "language": "python",
      "name": "python3"
    },
    "language_info": {
      "name": "python",
      "version": "3.10"
    }
  },
  "nbformat": 4,
  "nbformat_minor": 5
}