{
 "cells": [
  {
   "cell_type": "markdown",
   "metadata": {},
   "source": [
    "# 1986. Minimum Number of Work Sessions to Finish the Tasks"
   ]
  },
  {
   "cell_type": "markdown",
   "metadata": {},
   "source": [
    "## Topic Alignment\n",
    "- Scheduling tasks into fixed-length sessions mirrors ML pipeline batching; bitmask DFS with memo finds minimal sessions respecting capacity limits."
   ]
  },
  {
   "cell_type": "markdown",
   "metadata": {},
   "source": [
    "## Metadata 摘要\n",
    "- Source: https://leetcode.com/problems/minimum-number-of-work-sessions-to-finish-the-tasks/\n",
    "- Tags: DFS, Bitmask, Memoization\n",
    "- Difficulty: Medium\n",
    "- Priority: High"
   ]
  },
  {
   "cell_type": "markdown",
   "metadata": {},
   "source": [
    "## Problem Statement 原题描述\n",
    "You are given n tasks where task durations are tasks[i] and a sessionTime limit. Each work session can handle tasks up to sessionTime, sequentially. Find the minimum number of sessions needed to finish all tasks if tasks cannot be split across sessions."
   ]
  },
  {
   "cell_type": "markdown",
   "metadata": {},
   "source": [
    "## Progressive Hints\n",
    "- Hint 1: n <= 14 allows bitmask DP/DFS.\n",
    "- Hint 2: Sort tasks descending to place longer jobs first.\n",
    "- Hint 3: DFS tries to fit tasks into current session or start a new one; memoize (mask, current_time)."
   ]
  },
  {
   "cell_type": "markdown",
   "metadata": {},
   "source": [
    "## Solution Overview\n",
    "Use DFS with memoization: state (mask, remaining_time) denotes tasks already scheduled and remaining capacity in current session. Branch by selecting next unscheduled task. If duration <= remaining_time, schedule in current session; otherwise start a new session (increment count). Memoize minimal sessions from each state."
   ]
  },
  {
   "cell_type": "markdown",
   "metadata": {},
   "source": [
    "## Detailed Explanation\n",
    "1. Sort tasks descending.\n",
    "2. DFS returns minimum sessions needed given mask and remaining time in current session.\n",
    "3. If mask == full_mask return 1 if remaining_time != sessionTime else 0 (no new session).\n",
    "4. Iterate tasks; if unused, try to place. If duration <= remaining_time, result = dfs(mask|bit, remaining_time - duration).\n",
    "5. Also consider starting new session: 1 + dfs(mask|bit, sessionTime - duration).\n",
    "6. Take minimum of feasible choices, memoize by (mask, remaining_time)."
   ]
  },
  {
   "cell_type": "markdown",
   "metadata": {},
   "source": [
    "## Complexity Trade-off Table\n",
    "| Approach | Time | Space | Notes |\n",
    "| --- | --- | --- | --- |\n",
    "| DFS + memo | O(2^n * n) | O(2^n * sessionTime) | n <= 14 feasible |\n",
    "| Greedy | - | - | Fails on counterexamples |"
   ]
  },
  {
   "cell_type": "code",
   "execution_count": null,
   "metadata": {},
   "outputs": [],
   "source": [
    "from functools import lru_cache\n",
    "from typing import List\n\n",
    "class Solution:\n",
    "    def minSessions(self, tasks: List[int], sessionTime: int) -> int:\n",
    "        tasks.sort(reverse=True)\n",
    "        n = len(tasks)\n",
    "        full_mask = (1 << n) - 1\n",
    "        @lru_cache(None)\n",
    "        def dfs(mask: int, remaining: int) -> int:\n",
    "            if mask == full_mask:\n",
    "                return 0 if remaining == sessionTime else 1\n",
    "            best = float('inf')\n",
    "            for i in range(n):\n",
    "                bit = 1 << i\n",
    "                if mask & bit:\n",
    "                    continue\n",
    "                duration = tasks[i]\n",
    "                if duration <= remaining:\n",
    "                    best = min(best, dfs(mask | bit, remaining - duration))\n",
    "                else:\n",
    "                    best = min(best, 1 + dfs(mask | bit, sessionTime - duration))\n",
    "                if best == 0:\n",
    "                    break\n",
    "            return best\n",
    "        return dfs(0, sessionTime)"
   ]
  },
  {
   "cell_type": "code",
   "execution_count": null,
   "metadata": {
    "tags": [
     "validation"
    ]
   },
   "outputs": [],
   "source": [
    "tests = [\n",
    "    ([1,2,3], 3, 2),\n",
    "    ([3,3,3], 3, 3),\n",
    "    ([1,2,3,4,5], 15, 1),\n",
    "    ([1,2,3,4,5], 5, 4)\n",
    "]\n",
    "solver = Solution()\n",
    "for tasks, session, expected in tests:\n",
    "    assert solver.minSessions(tasks[:], session) == expected\n",
    "print('All tests passed.')"
   ]
  },
  {
   "cell_type": "markdown",
   "metadata": {},
   "source": [
    "## Complexity Analysis\n",
    "- Time: O(2^n * n) since each subset and next task combination is considered.\n",
    "- Space: O(2^n * sessionTime) in memo; recursion depth up to n."
   ]
  },
  {
   "cell_type": "markdown",
   "metadata": {},
   "source": [
    "## Edge Cases & Pitfalls\n",
    "- Sorting descending reduces branching because large tasks fill sessions quickly.\n",
    "- Remember to count ongoing session if remaining != sessionTime when all tasks scheduled.\n",
    "- Avoid exploring equivalent states by keeping tasks sorted and always considering first unused task positions."
   ]
  },
  {
   "cell_type": "markdown",
   "metadata": {},
   "source": [
    "## Follow-up Variants\n",
    "- Return actual session groupings along with count.\n",
    "- Allow preemption (splitting tasks); transform into bin packing with fractional items.\n",
    "- Add task transition costs or dependencies requiring topological ordering."
   ]
  },
  {
   "cell_type": "markdown",
   "metadata": {},
   "source": [
    "## Takeaways\n",
    "- Bitmask memoization is powerful for n ≤ 14 scheduling problems.\n",
    "- Sorting tasks descending prunes large parts of search space.\n",
    "- Representing states with remaining capacity keeps recursion decisions local."
   ]
  },
  {
   "cell_type": "markdown",
   "metadata": {},
   "source": [
    "## Similar Problems\n",
    "| Problem ID | Problem Title | Technique |\n",
    "| --- | --- | --- |\n",
    "| LC 1723 | Find Minimum Time to Finish All Jobs | Bitmask DP assigning jobs to workers |\n",
    "| LC 698 | Partition to K Equal Sum Subsets | Bitmask DFS with target sum |\n",
    "| LC 875 | Koko Eating Bananas | Binary search on time (contrast) |"
   ]
  }
 ],
 "metadata": {
  "kernelspec": {
   "display_name": "Python 3",
   "language": "python",
   "name": "python3"
  },
  "language_info": {
   "name": "python",
   "version": "3.10"
  }
 },
 "nbformat": 4,
 "nbformat_minor": 5
}