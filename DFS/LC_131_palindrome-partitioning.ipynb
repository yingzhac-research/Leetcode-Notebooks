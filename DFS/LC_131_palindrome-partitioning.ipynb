{
 "cells": [
  {
   "cell_type": "markdown",
   "id": "41552ee6",
   "metadata": {},
   "source": [
    "# 131. Palindrome Partitioning"
   ]
  },
  {
   "cell_type": "markdown",
   "id": "cdf660de",
   "metadata": {},
   "source": [
    "## Topic Alignment\n",
    "- String segmentation with DFS models tokenization or feature bucketing tasks where partitions must satisfy structural constraints, such as palindromic segments."
   ]
  },
  {
   "cell_type": "markdown",
   "id": "f6e00903",
   "metadata": {},
   "source": [
    "## Metadata 摘要\n",
    "- Source: https://leetcode.com/problems/palindrome-partitioning/\n",
    "- Tags: Backtracking, DFS\n",
    "- Difficulty: Medium\n",
    "- Priority: Medium"
   ]
  },
  {
   "cell_type": "markdown",
   "id": "5074753e",
   "metadata": {},
   "source": [
    "## Problem Statement 原题描述\n",
    "Given a string s, partition s such that every substring of the partition is a palindrome. Return all possible palindrome partitioning of s."
   ]
  },
  {
   "cell_type": "markdown",
   "id": "9aaa08d0",
   "metadata": {},
   "source": [
    "## Progressive Hints\n",
    "- Hint 1: Generate partitions using DFS by choosing cut positions.\n",
    "- Hint 2: Only extend a partition if the chosen substring is a palindrome.\n",
    "- Hint 3: Use a helper function to check palindromes, possibly caching results."
   ]
  },
  {
   "cell_type": "markdown",
   "id": "5973713d",
   "metadata": {},
   "source": [
    "## Solution Overview\n",
    "Perform DFS from index 0. At each position, iterate end indices forming substring s[start:end]. If palindrome, append to path and recurse from end. When reaching end of string, append copy of path. Use memoized palindrome checks to avoid repeated computation."
   ]
  },
  {
   "cell_type": "markdown",
   "id": "4c99924d",
   "metadata": {},
   "source": [
    "## Detailed Explanation\n",
    "1. Precompute or cache palindromic substrings via helper is_pal(l, r).\n",
    "2. DFS(start) explores all partitions beginning at index start.\n",
    "3. For end in range(start + 1, len(s) + 1): if s[start:end] palindrome, append to path, recurse DFS(end), then pop.\n",
    "4. When start == len(s), push path copy to answer.\n",
    "5. Complexity depends on number of partitions but pruning stops invalid branches early."
   ]
  },
  {
   "cell_type": "markdown",
   "id": "167a4c02",
   "metadata": {},
   "source": [
    "## Complexity Trade-off Table\n",
    "| Approach | Time | Space | Notes |\n",
    "| --- | --- | --- | --- |\n",
    "| DFS with memoized palindrome checks | O(n * 2^n) worst-case | O(n) recursion + output | Effective pruning for palindromes |\n",
    "| DP to build partitions | O(n^2) preprocessing + recursion | O(n^2) | Precompute palindrome table to speed checks |"
   ]
  },
  {
   "cell_type": "code",
   "execution_count": null,
   "id": "a2861cc7",
   "metadata": {},
   "outputs": [],
   "source": [
    "from functools import lru_cache\n",
    "from typing import List\n",
    "\n",
    "class Solution:\n",
    "    def partition(self, s: str) -> List[List[str]]:\n",
    "        ans: List[List[str]] = []\n",
    "        path: List[str] = []\n",
    "        @lru_cache(None)\n",
    "        def is_pal(l: int, r: int) -> bool:\n",
    "            substring = s[l:r]\n",
    "            return substring == substring[::-1]\n",
    "        def dfs(start: int) -> None:\n",
    "            if start == len(s):\n",
    "                ans.append(path.copy())\n",
    "                return\n",
    "            for end in range(start + 1, len(s) + 1):\n",
    "                if is_pal(start, end):\n",
    "                    path.append(s[start:end])\n",
    "                    dfs(end)\n",
    "                    path.pop()\n",
    "        dfs(0)\n",
    "        return ans"
   ]
  },
  {
   "cell_type": "code",
   "execution_count": null,
   "id": "05a1d8ec",
   "metadata": {
    "tags": [
     "validation"
    ]
   },
   "outputs": [],
   "source": [
    "tests = [\n",
    "    ('aab', {('a','a','b'), ('aa','b')}),\n",
    "    ('a', {('a',)}),\n",
    "    ('abba', {('a','b','b','a'), ('a','bb','a'), ('abba',)})\n",
    "]\n",
    "solver = Solution()\n",
    "for s, expected in tests:\n",
    "    actual = solver.partition(s)\n",
    "    assert {tuple(p) for p in actual} == expected\n",
    "print('All tests passed.')"
   ]
  },
  {
   "cell_type": "markdown",
   "id": "c12c81a7",
   "metadata": {},
   "source": [
    "## Complexity Analysis\n",
    "- Time: O(n * 2^n) in worst case (all characters identical).\n",
    "- Space: O(n) recursion + O(n * 2^n) to store answers."
   ]
  },
  {
   "cell_type": "markdown",
   "id": "561fd588",
   "metadata": {},
   "source": [
    "## Edge Cases & Pitfalls\n",
    "- Ensure palindrome check caches results; naive slicing in loop is acceptable for n <= 16 but memoization avoids repeated work.\n",
    "- Strings with length 0 should return [[]]; current template handles start == len(s) immediately.\n",
    "- Avoid mixing inclusive/exclusive indices; end is exclusive."
   ]
  },
  {
   "cell_type": "markdown",
   "id": "b7020157",
   "metadata": {},
   "source": [
    "## Follow-up Variants\n",
    "- Return minimum cuts to partition string into palindromes (Palindrome Partitioning II).\n",
    "- Count partitions rather than list them all.\n",
    "- Enforce maximum substring length or lexicographic constraints while partitioning."
   ]
  },
  {
   "cell_type": "markdown",
   "id": "a7159bd9",
   "metadata": {},
   "source": [
    "## Takeaways\n",
    "- Backtracking with substring validation is flexible for segmentation problems.\n",
    "- Caching expensive checks (palindrome) keeps recursion efficient.\n",
    "- Exclusive end index simplifies slicing semantics in Python."
   ]
  },
  {
   "cell_type": "markdown",
   "id": "d89814ce",
   "metadata": {},
   "source": [
    "## Similar Problems\n",
    "| Problem ID | Problem Title | Technique |\n",
    "| --- | --- | --- |\n",
    "| LC 132 | Palindrome Partitioning II | DFS + DP for min cuts |\n",
    "| LC 93 | Restore IP Addresses | DFS partitioning with validation |\n",
    "| LC 491 | Non-decreasing Subsequences | DFS with pruning |"
   ]
  }
 ],
 "metadata": {
  "kernelspec": {
   "display_name": "Python 3 (ipykernel)",
   "language": "python",
   "name": "python3"
  },
  "language_info": {
   "codemirror_mode": {
    "name": "ipython",
    "version": 3
   },
   "file_extension": ".py",
   "mimetype": "text/x-python",
   "name": "python",
   "nbconvert_exporter": "python",
   "pygments_lexer": "ipython3",
   "version": "3.13.3"
  }
 },
 "nbformat": 4,
 "nbformat_minor": 5
}