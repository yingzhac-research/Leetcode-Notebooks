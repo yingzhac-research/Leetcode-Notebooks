{
 "cells": [
  {
   "cell_type": "markdown",
   "metadata": {},
   "source": [
    "# 90. Subsets II"
   ]
  },
  {
   "cell_type": "markdown",
   "metadata": {},
   "source": [
    "## Topic Alignment\n",
    "- Generating unique subsets under duplicate inputs supports feature selection with repeated candidates while avoiding redundant lists."
   ]
  },
  {
   "cell_type": "markdown",
   "metadata": {},
   "source": [
    "## Metadata 摘要\n",
    "- Source: https://leetcode.com/problems/subsets-ii/\n",
    "- Tags: Backtracking, DFS, Pruning\n",
    "- Difficulty: Medium\n",
    "- Priority: Medium"
   ]
  },
  {
   "cell_type": "markdown",
   "metadata": {},
   "source": [
    "## Problem Statement 原题描述\n",
    "Given an integer array nums that may contain duplicates, return all possible subsets (the power set). The solution set must not contain duplicate subsets."
   ]
  },
  {
   "cell_type": "markdown",
   "metadata": {},
   "source": [
    "## Progressive Hints\n",
    "- Hint 1: Sort nums to group duplicates.\n",
    "- Hint 2: Use backtracking, and when you skip a duplicate, ensure it's only skipped if previous identical element was not chosen.\n",
    "- Hint 3: Record subset at each recursion level."
   ]
  },
  {
   "cell_type": "markdown",
   "metadata": {},
   "source": [
    "## Solution Overview\n",
    "Sort nums. DFS(start) appends current path to results, then iterates i from start to len(nums). Skip duplicates (i>start and nums[i]==nums[i-1]). Append nums[i], recurse with i+1, then pop."
   ]
  },
  {
   "cell_type": "markdown",
   "metadata": {},
   "source": [
    "## Detailed Explanation\n",
    "1. Sort nums.\n",
    "2. Add path copy to ans at the top of dfs.\n",
    "3. For each i in range(start, n): if i>start and nums[i]==nums[i-1], continue.\n",
    "4. Append nums[i], recurse dfs(i+1), pop afterwards.\n",
    "5. Works because duplicates are only used once per depth."
   ]
  },
  {
   "cell_type": "markdown",
   "metadata": {},
   "source": [
    "## Complexity Trade-off Table\n",
    "| Approach | Time | Space | Notes |\n",
    "| --- | --- | --- | --- |\n",
    "| DFS with duplicate skip | O(n * 2^n) | O(n) | Standard power set generation |\n",
    "| Bitmask with set filtering | O(n * 2^n) | O(n * 2^n) | Simpler but requires dedup via set |"
   ]
  },
  {
   "cell_type": "code",
   "execution_count": null,
   "metadata": {},
   "outputs": [],
   "source": [
    "from typing import List\n\n",
    "class Solution:\n",
    "    def subsetsWithDup(self, nums: List[int]) -> List[List[int]]:\n",
    "        nums.sort()\n",
    "        ans: List[List[int]] = []\n",
    "        path: List[int] = []\n",
    "        def dfs(start: int) -> None:\n",
    "            ans.append(path.copy())\n",
    "            for i in range(start, len(nums)):\n",
    "                if i > start and nums[i] == nums[i - 1]:\n",
    "                    continue\n",
    "                path.append(nums[i])\n",
    "                dfs(i + 1)\n",
    "                path.pop()\n",
    "        dfs(0)\n",
    "        return ans"
   ]
  },
  {
   "cell_type": "code",
   "execution_count": null,
   "metadata": {
    "tags": [
     "validation"
    ]
   },
   "outputs": [],
   "source": [
    "tests = [\n",
    "    ([1,2,2], {\n",
    "        (), (1,), (2,), (1,2), (2,2), (1,2,2)\n",
    "    }),\n",
    "    ([0], {(), (0,)})\n",
    "]\n",
    "solver = Solution()\n",
    "for nums, expected in tests:\n",
    "    actual = solver.subsetsWithDup(nums[:])\n",
    "    assert {tuple(subset) for subset in actual} == expected\n",
    "print('All tests passed.')"
   ]
  },
  {
   "cell_type": "markdown",
   "metadata": {},
   "source": [
    "## Complexity Analysis\n",
    "- Time: O(n * 2^n).\n",
    "- Space: O(n) recursion stack plus output storage."
   ]
  },
  {
   "cell_type": "markdown",
   "metadata": {},
   "source": [
    "## Edge Cases & Pitfalls\n",
    "- Sorting is mandatory; otherwise duplicate checks fail.\n",
    "- Append path copy before exploring deeper levels to include current subset.\n",
    "- For large n, result size grows exponentially; be mindful of memory."
   ]
  },
  {
   "cell_type": "markdown",
   "metadata": {},
   "source": [
    "## Follow-up Variants\n",
    "- Return subsets whose sum equals a threshold.\n",
    "- Stream subsets lazily with generator.\n",
    "- Combine with bitmask DP to count subsets satisfying constraints."
   ]
  },
  {
   "cell_type": "markdown",
   "metadata": {},
   "source": [
    "## Takeaways\n",
    "- Duplicate-skip pattern is ubiquitous in backtracking problems.\n",
    "- Append results on entry to capture all subset sizes.\n",
    "- Sorting and per-depth skip are key to dedup."
   ]
  },
  {
   "cell_type": "markdown",
   "metadata": {},
   "source": [
    "## Similar Problems\n",
    "| Problem ID | Problem Title | Technique |\n",
    "| --- | --- | --- |\n",
    "| LC 78 | Subsets | DFS without duplicates |\n",
    "| LC 39 | Combination Sum | DFS with unlimited reuse |\n",
    "| LC 491 | Non-decreasing Subsequences | DFS with dedup + ordering |"
   ]
  }
 ],
 "metadata": {
  "kernelspec": {
   "display_name": "Python 3",
   "language": "python",
   "name": "python3"
  },
  "language_info": {
   "name": "python",
   "version": "3.10"
  }
 },
 "nbformat": 4,
 "nbformat_minor": 5
}