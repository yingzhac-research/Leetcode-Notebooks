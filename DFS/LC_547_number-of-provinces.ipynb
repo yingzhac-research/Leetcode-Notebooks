{
 "cells": [
  {
   "cell_type": "markdown",
   "metadata": {},
   "source": [
    "# 547. Number of Provinces"
   ]
  },
  {
   "cell_type": "markdown",
   "metadata": {},
   "source": [
    "## Topic Alignment\n",
    "- Graph connectivity questions appear in ML system design when modelling clusters of related features, users, or services. DFS helps reason about strongly or weakly connected components in such graphs."
   ]
  },
  {
   "cell_type": "markdown",
   "metadata": {},
   "source": [
    "## Metadata 摘要\n",
    "- Source: https://leetcode.com/problems/number-of-provinces/\n",
    "- Tags: Graph, DFS, Union Find\n",
    "- Difficulty: Medium\n",
    "- Priority: High"
   ]
  },
  {
   "cell_type": "markdown",
   "metadata": {},
   "source": [
    "## Problem Statement 原题描述\n",
    "You are given an integer n and an n x n binary matrix isConnected where isConnected[i][j] = 1 when the i-th city and the j-th city are directly connected, and isConnected[i][j] = 0 otherwise. The matrix is symmetric and every city is connected to itself.\n\n",
    "A province is a group of cities that are directly or indirectly connected. Return the total number of provinces."
   ]
  },
  {
   "cell_type": "markdown",
   "metadata": {},
   "source": [
    "## Progressive Hints\n",
    "- Hint 1: Treat the matrix as an adjacency representation of an undirected graph; each city is a node.\n",
    "- Hint 2: When you visit a city, expand to all neighbors that have not been visited yet.\n",
    "- Hint 3: Count how many DFS launches you need to cover every city; that number is the answer."
   ]
  },
  {
   "cell_type": "markdown",
   "metadata": {},
   "source": [
    "## Solution Overview\n",
    "Perform depth-first search on the implicit graph given by the adjacency matrix. Maintaining a visited set ensures that each city is explored once. Launching DFS from every unvisited node yields the number of connected components. Alternative approaches include Union Find or BFS, but the DFS recursion is straightforward and matches the matrix size limits."
   ]
  },
  {
   "cell_type": "markdown",
   "metadata": {},
   "source": [
    "## Detailed Explanation\n",
    "1. Interpret isConnected as an adjacency matrix for an undirected graph of n nodes.\n",
    "2. Maintain a visited boolean array of length n.\n",
    "3. Iterate i from 0 to n-1. If city i has not been visited, increment the province count and run DFS(i).\n",
    "4. DFS(i) marks city i visited, then scans row i of the matrix. For any neighbor j with isConnected[i][j] == 1 and not yet visited, recursively DFS(j).\n",
    "5. Because the graph is undirected, recursion respects symmetry and eventually marks all nodes in the connected component.\n",
    "6. Complexity remains O(n^2) because each matrix entry may be inspected once, matching matrix traversal cost."
   ]
  },
  {
   "cell_type": "markdown",
   "metadata": {},
   "source": [
    "## Complexity Trade-off Table\n",
    "| Approach | Time | Space | Notes |\n",
    "| --- | --- | --- | --- |\n",
    "| DFS on adjacency matrix | O(n^2) | O(n) | Recursion depth bounded by n; inspects each entry at most once |\n",
    "| BFS (queue) | O(n^2) | O(n) | Similar traversal order using queue instead of recursion |\n",
    "| Union Find | O(n^2 * alpha(n)) | O(n) | Slightly more bookkeeping but avoids recursion |"
   ]
  },
  {
   "cell_type": "code",
   "execution_count": null,
   "metadata": {},
   "outputs": [],
   "source": [
    "from typing import List\n\n",
    "class Solution:\n",
    "    def findCircleNum(self, isConnected: List[List[int]]) -> int:\n",
    "        n = len(isConnected)\n",
    "        visited = [False] * n\n",
    "        def dfs(node: int) -> None:\n",
    "            visited[node] = True\n",
    "            row = isConnected[node]\n",
    "            for nei, connected in enumerate(row):\n",
    "                if connected and not visited[nei]:\n",
    "                    dfs(nei)\n",
    "        provinces = 0\n",
    "        for i in range(n):\n",
    "            if not visited[i]:\n",
    "                provinces += 1\n",
    "                dfs(i)\n",
    "        return provinces"
   ]
  },
  {
   "cell_type": "code",
   "execution_count": null,
   "metadata": {
    "tags": [
     "validation"
    ]
   },
   "outputs": [],
   "source": [
    "tests = [\n",
    "    ([[1,1,0],[1,1,0],[0,0,1]], 2),\n",
    "    ([[1,0,0],[0,1,0],[0,0,1]], 3),\n",
    "    ([[1,1,0,0],[1,1,1,0],[0,1,1,0],[0,0,0,1]], 2),\n",
    "    ([[1]], 1)\n",
    "]\n",
    "solver = Solution()\n",
    "for grid, expected in tests:\n",
    "    assert solver.findCircleNum(grid) == expected\n",
    "print('All tests passed.')"
   ]
  },
  {
   "cell_type": "markdown",
   "metadata": {},
   "source": [
    "## Complexity Analysis\n",
    "- Time: O(n^2) because we may inspect every cell of the adjacency matrix once.\n",
    "- Space: O(n) for the visited array plus recursion depth up to n."
   ]
  },
  {
   "cell_type": "markdown",
   "metadata": {},
   "source": [
    "## Edge Cases & Pitfalls\n",
    "- Empty matrix is not part of constraints, but single city (n = 1) should return 1.\n",
    "- Ensure symmetry is not assumed erroneously when scanning neighbors; always check the matrix entry.\n",
    "- Large dense matrices may cause deep recursion if the graph is chain-like; Python recursion depth is sufficient for n <= 200 but `sys.setrecursionlimit` can be applied if desired."
   ]
  },
  {
   "cell_type": "markdown",
   "metadata": {},
   "source": [
    "## Follow-up Variants\n",
    "- How would you return the actual grouping of cities, not just the count?\n",
    "- Suppose the graph is extremely sparse but n is large; how can you store it more efficiently and still count provinces quickly?\n",
    "- If edges carry travel costs, can you detect whether the graph is fully connected under a cost threshold?"
   ]
  },
  {
   "cell_type": "markdown",
   "metadata": {},
   "source": [
    "## Takeaways\n",
    "- DFS is a direct way to count connected components in undirected graphs.\n",
    "- Treat adjacency matrices as adjacency lists when scanning rows.\n",
    "- Always maintain visited state to avoid infinite loops."
   ]
  },
  {
   "cell_type": "markdown",
   "metadata": {},
   "source": [
    "## Similar Problems\n",
    "| Problem ID | Problem Title | Technique |\n",
    "| --- | --- | --- |\n",
    "| LC 200 | Number of Islands | Grid DFS |\n",
    "| LC 695 | Max Area of Island | DFS with area accumulation |\n",
    "| LC 417 | Pacific Atlantic Water Flow | DFS with pruning and memoization |"
   ]
  }
 ],
 "metadata": {
  "kernelspec": {
   "display_name": "Python 3",
   "language": "python",
   "name": "python3"
  },
  "language_info": {
   "name": "python",
   "version": "3.10"
  }
 },
 "nbformat": 4,
 "nbformat_minor": 5
}