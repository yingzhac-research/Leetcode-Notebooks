{
 "cells": [
  {
   "cell_type": "markdown",
   "metadata": {},
   "source": [
    "# 695. Max Area of Island"
   ]
  },
  {
   "cell_type": "markdown",
   "metadata": {},
   "source": [
    "## Topic Alignment\n",
    "- Measuring connected region sizes helps analyze telemetry heatmaps, e.g., contiguous error clusters in service grids."
   ]
  },
  {
   "cell_type": "markdown",
   "metadata": {},
   "source": [
    "## Metadata 摘要\n",
    "- Source: https://leetcode.com/problems/max-area-of-island/\n",
    "- Tags: Grid, DFS\n",
    "- Difficulty: Medium\n",
    "- Priority: Medium"
   ]
  },
  {
   "cell_type": "markdown",
   "metadata": {},
   "source": [
    "## Problem Statement 原题描述\n",
    "Given a non-empty 2D array grid of 0s and 1s, an island is a group of 1s connected 4-directionally. Return the maximum area of an island in grid. If there is no island, return 0."
   ]
  },
  {
   "cell_type": "markdown",
   "metadata": {},
   "source": [
    "## Progressive Hints\n",
    "- Hint 1: Traverse grid and start DFS whenever you encounter land.\n",
    "- Hint 2: Mark visited cells to avoid recounting.\n",
    "- Hint 3: Accumulate area during DFS and track the maximum."
   ]
  },
  {
   "cell_type": "markdown",
   "metadata": {},
   "source": [
    "## Solution Overview\n",
    "Perform DFS from each unvisited land cell, counting how many cells belong to that island. Update a global maximum. Mark visited cells by mutating grid to 0 or using a separate visited array."
   ]
  },
  {
   "cell_type": "markdown",
   "metadata": {},
   "source": [
    "## Detailed Explanation\n",
    "1. For each cell in grid, if it's 1, call dfs(r,c).\n",
    "2. dfs returns area: mark grid[r][c] = 0, initialize area = 1, iterate neighbors and accumulate area from recursive calls.\n",
    "3. Keep maximum area across all dfs calls.\n",
    "4. Complexity O(mn)."
   ]
  },
  {
   "cell_type": "markdown",
   "metadata": {},
   "source": [
    "## Complexity Trade-off Table\n",
    "| Approach | Time | Space | Notes |\n",
    "| --- | --- | --- | --- |\n",
    "| Recursive DFS | O(mn) | O(mn) worst-case stack | Simple and matches constraints (grid <= 50x50) |\n",
    "| Iterative DFS | O(mn) | O(mn) | Replace recursion with stack |\n",
    "| BFS | O(mn) | O(mn) | Similar area accumulation using queue |"
   ]
  },
  {
   "cell_type": "code",
   "execution_count": null,
   "metadata": {},
   "outputs": [],
   "source": [
    "from typing import List\n\n",
    "class Solution:\n",
    "    def maxAreaOfIsland(self, grid: List[List[int]]) -> int:\n",
    "        if not grid or not grid[0]:\n",
    "            return 0\n",
    "        rows, cols = len(grid), len(grid[0])\n",
    "        dirs = [(1,0), (-1,0), (0,1), (0,-1)]\n",
    "        def dfs(r: int, c: int) -> int:\n",
    "            if r < 0 or c < 0 or r >= rows or c >= cols or grid[r][c] == 0:\n",
    "                return 0\n",
    "            grid[r][c] = 0\n",
    "            area = 1\n",
    "            for dr, dc in dirs:\n",
    "                area += dfs(r + dr, c + dc)\n",
    "            return area\n",
    "        best = 0\n",
    "        for r in range(rows):\n",
    "            for c in range(cols):\n",
    "                if grid[r][c] == 1:\n",
    "                    best = max(best, dfs(r, c))\n",
    "        return best"
   ]
  },
  {
   "cell_type": "code",
   "execution_count": null,
   "metadata": {
    "tags": [
     "validation"
    ]
   },
   "outputs": [],
   "source": [
    "tests = [\n",
    "    ([[0,0,1,0,0,0,0,1,0,0,0,0,0],\n",
    "      [0,0,0,0,0,0,0,1,1,1,0,0,0],\n",
    "      [0,1,1,0,1,0,0,0,0,0,0,0,0],\n",
    "      [0,1,0,0,1,1,0,0,1,0,1,0,0],\n",
    "      [0,1,0,0,1,1,0,0,1,1,1,0,0],\n",
    "      [0,0,0,0,0,0,0,0,0,0,1,0,0],\n",
    "      [0,0,0,0,0,0,0,1,1,1,0,0,0],\n",
    "      [0,0,0,0,0,0,0,1,1,0,0,0,0]], 6),\n",
    "    ([[0,0,0,0,0,0,0,0]], 0),\n",
    "    ([[1,1,1],[1,0,1],[1,1,1]], 8)\n",
    "]\n",
    "solver = Solution()\n",
    "for grid, expected in tests:\n",
    "    grid_copy = [row[:] for row in grid]\n",
    "    assert solver.maxAreaOfIsland(grid_copy) == expected\n",
    "print('All tests passed.')"
   ]
  },
  {
   "cell_type": "markdown",
   "metadata": {},
   "source": [
    "## Complexity Analysis\n",
    "- Time: O(mn).\n",
    "- Space: O(mn) recursion depth in worst case (all land)."
   ]
  },
  {
   "cell_type": "markdown",
   "metadata": {},
   "source": [
    "## Edge Cases & Pitfalls\n",
    "- Remember to mark visited cells; otherwise same region is counted multiple times.\n",
    "- Single cell island should be handled gracefully.\n",
    "- Consider converting recursion to stack when grid dimensions are large."
   ]
  },
  {
   "cell_type": "markdown",
   "metadata": {},
   "source": [
    "## Follow-up Variants\n",
    "- Compute both area and perimeter per island.\n",
    "- Allow diagonal adjacency and adjust neighbor enumeration.\n",
    "- Track bounding boxes of islands to feed downstream clustering."
   ]
  },
  {
   "cell_type": "markdown",
   "metadata": {},
   "source": [
    "## Takeaways\n",
    "- DFS flood fill template extends naturally to counting metrics (area, perimeter).\n",
    "- Direction arrays keep neighbor traversal clean.\n",
    "- Mutating the grid simplifies visited bookkeeping."
   ]
  },
  {
   "cell_type": "markdown",
   "metadata": {},
   "source": [
    "## Similar Problems\n",
    "| Problem ID | Problem Title | Technique |\n",
    "| --- | --- | --- |\n",
    "| LC 200 | Number of Islands | DFS counting components |\n",
    "| LC 1020 | Number of Enclaves | DFS with boundary constraint |\n",
    "| LC 463 | Island Perimeter | DFS computing boundary |"
   ]
  }
 ],
 "metadata": {
  "kernelspec": {
   "display_name": "Python 3",
   "language": "python",
   "name": "python3"
  },
  "language_info": {
   "name": "python",
   "version": "3.10"
  }
 },
 "nbformat": 4,
 "nbformat_minor": 5
}