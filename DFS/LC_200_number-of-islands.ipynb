{
 "cells": [
  {
   "cell_type": "markdown",
   "metadata": {},
   "source": [
    "# 200. Number of Islands"
   ]
  },
  {
   "cell_type": "markdown",
   "metadata": {},
   "source": [
    "## Topic Alignment\n",
    "- Grid DFS appears in data labeling tasks such as identifying contiguous hot spots in telemetry heatmaps or segmenting connected regions in medical images."
   ]
  },
  {
   "cell_type": "markdown",
   "metadata": {},
   "source": [
    "## Metadata 摘要\n",
    "- Source: https://leetcode.com/problems/number-of-islands/\n",
    "- Tags: Grid, DFS, BFS\n",
    "- Difficulty: Medium\n",
    "- Priority: High"
   ]
  },
  {
   "cell_type": "markdown",
   "metadata": {},
   "source": [
    "## Problem Statement 原题描述\n",
    "Given an m x n 2D binary grid grid which represents a map of '1's (land) and '0's (water), return the number of islands.\n\n",
    "An island is surrounded by water and is formed by connecting adjacent lands horizontally or vertically. You may assume all four edges of the grid are surrounded by water."
   ]
  },
  {
   "cell_type": "markdown",
   "metadata": {},
   "source": [
    "## Progressive Hints\n",
    "- Hint 1: Treat each land cell as a node with up to four neighbors.\n",
    "- Hint 2: When you encounter land, flood-fill the entire connected component so you do not double-count it.\n",
    "- Hint 3: Remember to mark visited cells in-place or via a visited set to avoid revisiting."
   ]
  },
  {
   "cell_type": "markdown",
   "metadata": {},
   "source": [
    "## Solution Overview\n",
    "Scan the grid row by row. Upon seeing land, perform DFS to visit every connected land cell, marking them as water or visited to prevent repeat counting. Increment the island counter each time a fresh DFS is started. The DFS can be recursive or iterative; recursion is concise and acceptable for the constraint m, n <= 300."
   ]
  },
  {
   "cell_type": "markdown",
   "metadata": {},
   "source": [
    "## Detailed Explanation\n",
    "1. Maintain a visited matrix or mutate grid directly to record explored cells.\n",
    "2. Iterate through every cell (r, c). When grid[r][c] == '1', call dfs(r, c) and increment answer.\n",
    "3. dfs(r, c) first checks bounds and whether the cell is land. If so, mark it as water ('0') to denote visited.\n",
    "4. Recurse into neighbors using direction array DIRS = [(1,0), (-1,0), (0,1), (0,-1)].\n",
    "5. DFS completes in linear time proportional to the island size, ensuring each land cell is processed once."
   ]
  },
  {
   "cell_type": "markdown",
   "metadata": {},
   "source": [
    "## Complexity Trade-off Table\n",
    "| Approach | Time | Space | Notes |\n",
    "| --- | --- | --- | --- |\n",
    "| Recursive DFS | O(mn) | O(mn) worst-case stack | Simple implementation; recursion depth up to mn in degenerate cases |\n",
    "| Iterative DFS | O(mn) | O(mn) | Uses explicit stack, controls memory usage |\n",
    "| BFS | O(mn) | O(mn) | Queue-based flood fill with similar complexity |"
   ]
  },
  {
   "cell_type": "code",
   "execution_count": null,
   "metadata": {},
   "outputs": [],
   "source": [
    "from typing import List\n\n",
    "class Solution:\n",
    "    def numIslands(self, grid: List[List[str]]) -> int:\n",
    "        if not grid or not grid[0]:\n",
    "            return 0\n",
    "        rows, cols = len(grid), len(grid[0])\n",
    "        dirs = [(1, 0), (-1, 0), (0, 1), (0, -1)]\n",
    "        def dfs(r: int, c: int) -> None:\n",
    "            if r < 0 or c < 0 or r >= rows or c >= cols:\n",
    "                return\n",
    "            if grid[r][c] != '1':\n",
    "                return\n",
    "            grid[r][c] = '0'\n",
    "            for dr, dc in dirs:\n",
    "                dfs(r + dr, c + dc)\n",
    "        islands = 0\n",
    "        for r in range(rows):\n",
    "            for c in range(cols):\n",
    "                if grid[r][c] == '1':\n",
    "                    islands += 1\n",
    "                    dfs(r, c)\n",
    "        return islands"
   ]
  },
  {
   "cell_type": "code",
   "execution_count": null,
   "metadata": {
    "tags": [
     "validation"
    ]
   },
   "outputs": [],
   "source": [
    "tests = [\n",
    "    ([list('11110'), list('11010'), list('11000'), list('00000')], 1),\n",
    "    ([list('11000'), list('11000'), list('00100'), list('00011')], 3),\n",
    "    ([list('1')], 1),\n",
    "    ([list('0')], 0)\n",
    "]\n",
    "solver = Solution()\n",
    "for grid, expected in tests:\n",
    "    grid_copy = [row[:] for row in grid]\n",
    "    assert solver.numIslands(grid_copy) == expected\n",
    "print('All tests passed.')"
   ]
  },
  {
   "cell_type": "markdown",
   "metadata": {},
   "source": [
    "## Complexity Analysis\n",
    "- Time: O(mn) because each cell is visited at most once.\n",
    "- Space: O(mn) worst case recursion when the entire grid is land; typically O(min(m, n)) due to branch depth."
   ]
  },
  {
   "cell_type": "markdown",
   "metadata": {},
   "source": [
    "## Edge Cases & Pitfalls\n",
    "- Do not forget to mutate the grid or otherwise mark visited; failing to do so leads to infinite recursion.\n",
    "- Handle empty grid input to avoid index errors.\n",
    "- If recursion depth is a concern, convert to an explicit stack implementation."
   ]
  },
  {
   "cell_type": "markdown",
   "metadata": {},
   "source": [
    "## Follow-up Variants\n",
    "- Count island perimeters as you traverse each component.\n",
    "- Allow diagonal connections and adjust neighbor exploration accordingly.\n",
    "- Stream updates to the grid (land additions) and maintain island counts incrementally."
   ]
  },
  {
   "cell_type": "markdown",
   "metadata": {},
   "source": [
    "## Takeaways\n",
    "- Flood fill DFS is a standard tool for connected component counting on grids.\n",
    "- Marking visited cells in-place simplifies memory management.\n",
    "- Direction arrays keep grid traversal code concise and less error-prone."
   ]
  },
  {
   "cell_type": "markdown",
   "metadata": {},
   "source": [
    "## Similar Problems\n",
    "| Problem ID | Problem Title | Technique |\n",
    "| --- | --- | --- |\n",
    "| LC 695 | Max Area of Island | DFS counting area |\n",
    "| LC 733 | Flood Fill | DFS/BFS region repainting |\n",
    "| LC 1020 | Number of Enclaves | DFS with boundary guarding |"
   ]
  }
 ],
 "metadata": {
  "kernelspec": {
   "display_name": "Python 3",
   "language": "python",
   "name": "python3"
  },
  "language_info": {
   "name": "python",
   "version": "3.10"
  }
 },
 "nbformat": 4,
 "nbformat_minor": 5
}