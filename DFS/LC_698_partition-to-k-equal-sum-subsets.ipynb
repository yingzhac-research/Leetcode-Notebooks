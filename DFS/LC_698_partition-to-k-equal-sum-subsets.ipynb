{
 "cells": [
  {
   "cell_type": "markdown",
   "metadata": {},
   "source": [
    "# 698. Partition to K Equal Sum Subsets"
   ]
  },
  {
   "cell_type": "markdown",
   "metadata": {},
   "source": [
    "## Topic Alignment\n",
    "- Bitmask DFS captures workload partitioning where each resource must be uniquely assigned while balancing total effort across k slots."
   ]
  },
  {
   "cell_type": "markdown",
   "metadata": {},
   "source": [
    "## Metadata 摘要\n",
    "- Source: https://leetcode.com/problems/partition-to-k-equal-sum-subsets/\n",
    "- Tags: DFS, Bitmask, Memoization\n",
    "- Difficulty: Medium\n",
    "- Priority: High"
   ]
  },
  {
   "cell_type": "markdown",
   "metadata": {},
   "source": [
    "## Problem Statement 原题描述\n",
    "Given an integer array nums and an integer k, determine if it is possible to divide this array into k non-empty subsets whose sums are all equal."
   ]
  },
  {
   "cell_type": "markdown",
   "metadata": {},
   "source": [
    "## Progressive Hints\n",
    "- Hint 1: The total sum must be divisible by k; otherwise impossible.\n",
    "- Hint 2: Sort nums descending to prune earlier.\n",
    "- Hint 3: Use DFS with memoization on bitmask representing chosen elements and current subset sum."
   ]
  },
  {
   "cell_type": "markdown",
   "metadata": {},
   "source": [
    "## Solution Overview\n",
    "Sort descending. DFS(mask, current_sum, formed) picks next unused element. When current_sum == target, reset to 0 and increment formed subsets. Use memo to record states that fail. Once formed == k-1, succeed since remaining elements form final subset."
   ]
  },
  {
   "cell_type": "markdown",
   "metadata": {},
   "source": [
    "## Detailed Explanation\n",
    "1. Compute total sum; if total % k != 0 return False. Target = total // k.\n",
    "2. Sort nums descending; if max > target return False.\n",
    "3. DFS with memoization: parameters (mask, current_sum, completed_subsets).\n",
    "4. If completed_subsets == k - 1 return True. If current_sum == target, recurse with current_sum=0 and completed_subsets+1.\n",
    "5. For each index i, if unused and current_sum + nums[i] <= target, try selecting. Memoize failures."
   ]
  },
  {
   "cell_type": "markdown",
   "metadata": {},
   "source": [
    "## Complexity Trade-off Table\n",
    "| Approach | Time | Space | Notes |\n",
    "| --- | --- | --- | --- |\n",
    "| DFS + memo on bitmask | O(2^n * n) | O(2^n) | n <= 16 manageable |\n",
    "| Greedy/backtracking without memo | Exponential | O(n) | Often TLE |"
   ]
  },
  {
   "cell_type": "code",
   "execution_count": null,
   "metadata": {},
   "outputs": [],
   "source": [
    "from functools import lru_cache\n",
    "from typing import List\n\n",
    "class Solution:\n",
    "    def canPartitionKSubsets(self, nums: List[int], k: int) -> bool:\n",
    "        total = sum(nums)\n",
    "        if total % k != 0:\n",
    "            return False\n",
    "        target = total // k\n",
    "        nums.sort(reverse=True)\n",
    "        if nums[0] > target:\n",
    "            return False\n",
    "        n = len(nums)\n",
    "        full_mask = (1 << n) - 1\n",
    "        @lru_cache(None)\n",
    "        def dfs(mask: int, current_sum: int, completed: int) -> bool:\n",
    "            if completed == k - 1:\n",
    "                return True\n",
    "            if current_sum == target:\n",
    "                return dfs(mask, 0, completed + 1)\n",
    "            for i in range(n):\n",
    "                bit = 1 << i\n",
    "                if mask & bit:\n",
    "                    continue\n",
    "                value = nums[i]\n",
    "                if current_sum + value > target:\n",
    "                    continue\n",
    "                if dfs(mask | bit, current_sum + value, completed):\n",
    "                    return True\n",
    "                if current_sum == 0:\n",
    "                    break\n",
    "            return False\n",
    "        return dfs(0, 0, 0)"
   ]
  },
  {
   "cell_type": "code",
   "execution_count": null,
   "metadata": {
    "tags": [
     "validation"
    ]
   },
   "outputs": [],
   "source": [
    "tests = [\n",
    "    ([4,3,2,3,5,2,1], 4, True),\n",
    "    ([1,2,3,4], 3, False),\n",
    "    ([2,2,2,2,3,4,5], 4, False)\n",
    "]\n",
    "solver = Solution()\n",
    "for nums, k, expected in tests:\n",
    "    assert solver.canPartitionKSubsets(nums[:], k) == expected\n",
    "print('All tests passed.')"
   ]
  },
  {
   "cell_type": "markdown",
   "metadata": {},
   "source": [
    "## Complexity Analysis\n",
    "- Time: O(2^n * n) in worst case.\n",
    "- Space: O(2^n) memo entries plus recursion depth up to n."
   ]
  },
  {
   "cell_type": "markdown",
   "metadata": {},
   "source": [
    "## Edge Cases & Pitfalls\n",
    "- Sorting descending dramatically improves pruning.\n",
    "- Early break when current_sum == 0 prevents exploring permutations of identical selections.\n",
    "- Guarantee k <= n; if k == 1 return True, if k == n check all numbers equal target."
   ]
  },
  {
   "cell_type": "markdown",
   "metadata": {},
   "source": [
    "## Follow-up Variants\n",
    "- Return the actual subsets if partition exists.\n",
    "- Allow negative numbers; adjust pruning logic accordingly.\n",
    "- Optimize memory by storing mask only (derive current_sum from modulo)."
   ]
  },
  {
   "cell_type": "markdown",
   "metadata": {},
   "source": [
    "## Takeaways\n",
    "- Bitmask + memoization is effective for subset partition problems with n ≤ 16.\n",
    "- Strong pruning heuristics (sort, early break) drastically reduce search.\n",
    "- Once k-1 subsets formed, success is guaranteed because remaining numbers form the final subset."
   ]
  },
  {
   "cell_type": "markdown",
   "metadata": {},
   "source": [
    "## Similar Problems\n",
    "| Problem ID | Problem Title | Technique |\n",
    "| --- | --- | --- |\n",
    "| LC 473 | Matchsticks to Square | Bitmask DFS with memo |\n",
    "| LC 1723 | Find Minimum Time to Finish All Jobs | DP on subsets assigning loads |\n",
    "| LC 1986 | Minimum Number of Work Sessions to Finish the Tasks | Bitmask partitioning |"
   ]
  }
 ],
 "metadata": {
  "kernelspec": {
   "display_name": "Python 3",
   "language": "python",
   "name": "python3"
  },
  "language_info": {
   "name": "python",
   "version": "3.10"
  }
 },
 "nbformat": 4,
 "nbformat_minor": 5
}