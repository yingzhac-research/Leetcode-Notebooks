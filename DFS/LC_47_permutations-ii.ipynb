{
 "cells": [
  {
   "cell_type": "markdown",
   "metadata": {},
   "source": [
    "# 47. Permutations II"
   ]
  },
  {
   "cell_type": "markdown",
   "metadata": {},
   "source": [
    "## Topic Alignment\n",
    "- Handling duplicate candidates is vital in experimentation or configuration search where repeated elements must not produce redundant permutations."
   ]
  },
  {
   "cell_type": "markdown",
   "metadata": {},
   "source": [
    "## Metadata 摘要\n",
    "- Source: https://leetcode.com/problems/permutations-ii/\n",
    "- Tags: Backtracking, DFS\n",
    "- Difficulty: Medium\n",
    "- Priority: Medium"
   ]
  },
  {
   "cell_type": "markdown",
   "metadata": {},
   "source": [
    "## Problem Statement 原题描述\n",
    "Given a collection of numbers that might contain duplicates, return all possible unique permutations."
   ]
  },
  {
   "cell_type": "markdown",
   "metadata": {},
   "source": [
    "## Progressive Hints\n",
    "- Hint 1: Sort the numbers so duplicates cluster together.\n",
    "- Hint 2: During recursion, skip duplicating branches when the same value has not been used in the current depth.\n",
    "- Hint 3: Track used indices like in permutations with a visited array."
   ]
  },
  {
   "cell_type": "markdown",
   "metadata": {},
   "source": [
    "## Solution Overview\n",
    "Sort nums first. Use backtracking with a used array. At each depth, iterate indices; if nums[i] equals nums[i-1] and nums[i-1] has not been used in this depth, skip to avoid duplicate permutations. Append the number, recurse, then backtrack."
   ]
  },
  {
   "cell_type": "markdown",
   "metadata": {},
   "source": [
    "## Detailed Explanation\n",
    "1. Sort nums.\n",
    "2. Maintain path list and used boolean list.\n",
    "3. For each index i: if used[i] continue. If i>0 and nums[i]==nums[i-1] and used[i-1] is False, continue (because the previous identical number hasn't been placed at this depth).\n",
    "4. Choose nums[i], mark used[i], recurse, then backtrack.\n",
    "5. When path length equals len(nums), record a copy."
   ]
  },
  {
   "cell_type": "markdown",
   "metadata": {},
   "source": [
    "## Complexity Trade-off Table\n",
    "| Approach | Time | Space | Notes |\n",
    "| --- | --- | --- | --- |\n",
    "| Backtracking with duplicate skip | O(n * n!) | O(n + n!) | Prunes identical branches |\n",
    "| Counter-based recursion | O(n * n!) | O(n) | Use frequency map instead of used list |"
   ]
  },
  {
   "cell_type": "code",
   "execution_count": null,
   "metadata": {},
   "outputs": [],
   "source": [
    "from typing import List\n\n",
    "class Solution:\n",
    "    def permuteUnique(self, nums: List[int]) -> List[List[int]]:\n",
    "        nums.sort()\n",
    "        used = [False] * len(nums)\n",
    "        ans: List[List[int]] = []\n",
    "        path: List[int] = []\n",
    "        def backtrack() -> None:\n",
    "            if len(path) == len(nums):\n",
    "                ans.append(path.copy())\n",
    "                return\n",
    "            for i in range(len(nums)):\n",
    "                if used[i]:\n",
    "                    continue\n",
    "                if i > 0 and nums[i] == nums[i - 1] and not used[i - 1]:\n",
    "                    continue\n",
    "                used[i] = True\n",
    "                path.append(nums[i])\n",
    "                backtrack()\n",
    "                path.pop()\n",
    "                used[i] = False\n",
    "        backtrack()\n",
    "        return ans"
   ]
  },
  {
   "cell_type": "code",
   "execution_count": null,
   "metadata": {
    "tags": [
     "validation"
    ]
   },
   "outputs": [],
   "source": [
    "tests = [\n",
    "    ([1,1,2], {(1,1,2),(1,2,1),(2,1,1)}),\n",
    "    ([1,2,3], {tuple(p) for p in [[1,2,3],[1,3,2],[2,1,3],[2,3,1],[3,1,2],[3,2,1]]}),\n",
    "    ([2,2,1,1], {(1,1,2,2),(1,2,1,2),(1,2,2,1),(2,1,1,2),(2,1,2,1),(2,2,1,1)})\n",
    "]\n",
    "solver = Solution()\n",
    "for nums, expected in tests:\n",
    "    actual = solver.permuteUnique(nums[:])\n",
    "    assert {tuple(p) for p in actual} == expected\n",
    "print('All tests passed.')"
   ]
  },
  {
   "cell_type": "markdown",
   "metadata": {},
   "source": [
    "## Complexity Analysis\n",
    "- Time: O(n * n!) factoring permutations; duplicate pruning reduces constant factors.\n",
    "- Space: O(n) recursion stack plus output storage."
   ]
  },
  {
   "cell_type": "markdown",
   "metadata": {},
   "source": [
    "## Edge Cases & Pitfalls\n",
    "- Sort first so the duplicate check works.\n",
    "- Always copy the path when recording results.\n",
    "- Avoid using set of lists due to unhashable objects; convert to tuples for comparisons."
   ]
  },
  {
   "cell_type": "markdown",
   "metadata": {},
   "source": [
    "## Follow-up Variants\n",
    "- Generate permutations in lexicographic order without storing all results.\n",
    "- Introduce constraints (e.g., sum threshold) and prune branches early.\n",
    "- Apply the same technique to permutations of multisets in other languages (C++, Java)."
   ]
  },
  {
   "cell_type": "markdown",
   "metadata": {},
   "source": [
    "## Takeaways\n",
    "- Duplicate handling is achieved by checking the previous identical element's usage.\n",
    "- Sorting the input enables simple skip logic.\n",
    "- Backtracking templates remain consistent across variants."
   ]
  },
  {
   "cell_type": "markdown",
   "metadata": {},
   "source": [
    "## Similar Problems\n",
    "| Problem ID | Problem Title | Technique |\n",
    "| --- | --- | --- |\n",
    "| LC 90 | Subsets II | Backtracking with duplicate pruning |\n",
    "| LC 784 | Letter Case Permutation | DFS on choice tree |\n",
    "| LC 996 | Number of Squareful Arrays | Permutations with constraint pruning |"
   ]
  }
 ],
 "metadata": {
  "kernelspec": {
   "display_name": "Python 3",
   "language": "python",
   "name": "python3"
  },
  "language_info": {
   "name": "python",
   "version": "3.10"
  }
 },
 "nbformat": 4,
 "nbformat_minor": 5
}