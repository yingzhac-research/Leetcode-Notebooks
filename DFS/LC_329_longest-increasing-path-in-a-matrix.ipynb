{
 "cells": [
  {
   "cell_type": "markdown",
   "metadata": {},
   "source": [
    "# 329. Longest Increasing Path in a Matrix"
   ]
  },
  {
   "cell_type": "markdown",
   "metadata": {},
   "source": [
    "## Topic Alignment\n",
    "- Memoized DFS mirrors dynamic programming over feature grids, such as finding best monotonic transitions in recommender system states or path scoring in sequence models."
   ]
  },
  {
   "cell_type": "markdown",
   "metadata": {},
   "source": [
    "## Metadata 摘要\n",
    "- Source: https://leetcode.com/problems/longest-increasing-path-in-a-matrix/\n",
    "- Tags: DFS, Memoization, Topological Sort\n",
    "- Difficulty: Hard\n",
    "- Priority: High"
   ]
  },
  {
   "cell_type": "markdown",
   "metadata": {},
   "source": [
    "## Problem Statement 原题描述\n",
    "Given an m x n integers matrix, return the length of the longest strictly increasing path in the matrix.\n\n",
    "From each cell you can move in four directions: left, right, up, or down. You may not move diagonally or move outside the boundary of the matrix."
   ]
  },
  {
   "cell_type": "markdown",
   "metadata": {},
   "source": [
    "## Progressive Hints\n",
    "- Hint 1: Brute-force DFS from every cell would revisit subpaths many times.\n",
    "- Hint 2: Memoize the best path length starting from each cell.\n",
    "- Hint 3: Only move to neighbors with strictly greater values."
   ]
  },
  {
   "cell_type": "markdown",
   "metadata": {},
   "source": [
    "## Solution Overview\n",
    "Use DFS with memoization. For each cell (r, c), compute the longest ascending path starting there by exploring neighbors whose values are larger. Cache the result per cell so repeated visits become O(1). The final answer is the maximum cached length among all cells."
   ]
  },
  {
   "cell_type": "markdown",
   "metadata": {},
   "source": [
    "## Detailed Explanation\n",
    "1. Define dirs = [(1,0), (-1,0), (0,1), (0,-1)].\n",
    "2. Create a memo matrix of the same shape initialized to 0.\n",
    "3. DFS(r, c) checks memo[r][c]; if non-zero, return it. Otherwise, set best = 1 (the cell itself).\n",
    "4. For each neighbor (nr, nc), ensure it lies inside the grid and matrix[nr][nc] > matrix[r][c]. If so, candidate length = 1 + DFS(nr, nc), update best.\n",
    "5. Store best in memo[r][c] and return.\n",
    "6. Iterate all cells, compute DFS, and track the global maximum.\n",
    "7. Memoization ensures each cell is processed once, reducing complexity to O(mn)."
   ]
  },
  {
   "cell_type": "markdown",
   "metadata": {},
   "source": [
    "## Complexity Trade-off Table\n",
    "| Approach | Time | Space | Notes |\n",
    "| --- | --- | --- | --- |\n",
    "| DFS + memoization | O(mn) | O(mn) | Each cell computed once, recursion depth up to mn |\n",
    "| DP via topological order | O(mn log mn) | O(mn) | Sort cells by value, relax neighbors |"
   ]
  },
  {
   "cell_type": "code",
   "execution_count": null,
   "metadata": {},
   "outputs": [],
   "source": [
    "from typing import List\n\n",
    "class Solution:\n",
    "    def longestIncreasingPath(self, matrix: List[List[int]]) -> int:\n",
    "        if not matrix or not matrix[0]:\n",
    "            return 0\n",
    "        rows, cols = len(matrix), len(matrix[0])\n",
    "        memo = [[0] * cols for _ in range(rows)]\n",
    "        dirs = [(1, 0), (-1, 0), (0, 1), (0, -1)]\n",
    "        def dfs(r: int, c: int) -> int:\n",
    "            if memo[r][c]:\n",
    "                return memo[r][c]\n",
    "            best = 1\n",
    "            current = matrix[r][c]\n",
    "            for dr, dc in dirs:\n",
    "                nr, nc = r + dr, c + dc\n",
    "                if 0 <= nr < rows and 0 <= nc < cols and matrix[nr][nc] > current:\n",
    "                    candidate = 1 + dfs(nr, nc)\n",
    "                    if candidate > best:\n",
    "                        best = candidate\n",
    "            memo[r][c] = best\n",
    "            return best\n",
    "        return max(dfs(r, c) for r in range(rows) for c in range(cols))"
   ]
  },
  {
   "cell_type": "code",
   "execution_count": null,
   "metadata": {
    "tags": [
     "validation"
    ]
   },
   "outputs": [],
   "source": [
    "tests = [\n",
    "    (([[9,9,4],[6,6,8],[2,1,1]]), 4),\n",
    "    (([[3,4,5],[3,2,6],[2,2,1]]), 4),\n",
    "    (([[1]]), 1),\n",
    "    (([[7,8,9]]), 3)\n",
    "]\n",
    "solver = Solution()\n",
    "for matrix, expected in tests:\n",
    "    assert solver.longestIncreasingPath(matrix) == expected\n",
    "print('All tests passed.')"
   ]
  },
  {
   "cell_type": "markdown",
   "metadata": {},
   "source": [
    "## Complexity Analysis\n",
    "- Time: O(mn) because memoization guarantees each cell is computed once.\n",
    "- Space: O(mn) for the memo table plus recursion depth bounded by mn."
   ]
  },
  {
   "cell_type": "markdown",
   "metadata": {},
   "source": [
    "## Edge Cases & Pitfalls\n",
    "- Do not forget to include the current cell itself as length 1 baseline.\n",
    "- Ensure comparisons enforce strictly increasing transitions (> not >=).\n",
    "- Without memoization the solution times out for large grids due to exponential overlap."
   ]
  },
  {
   "cell_type": "markdown",
   "metadata": {},
   "source": [
    "## Follow-up Variants\n",
    "- Return the actual path of coordinates instead of length.\n",
    "- Allow diagonal moves; adjust neighbors accordingly.\n",
    "- If moves incur costs, compute the maximum weighted path with memoization."
   ]
  },
  {
   "cell_type": "markdown",
   "metadata": {},
   "source": [
    "## Takeaways\n",
    "- Memoization converts exponential DFS into linear complexity on DAG-like state spaces.\n",
    "- Precomputing directional offsets keeps grid transitions tidy.\n",
    "- Recursion depth equals path length; for safety an iterative stack version can be derived."
   ]
  },
  {
   "cell_type": "markdown",
   "metadata": {},
   "source": [
    "## Similar Problems\n",
    "| Problem ID | Problem Title | Technique |\n",
    "| --- | --- | --- |\n",
    "| LC 1289 | Minimum Falling Path Sum II | DP with memoization |\n",
    "| LC 741 | Cherry Pickup | DFS + DP on grids |\n",
    "| LC 688 | Knight Probability in Chessboard | Memoized DFS on moves |"
   ]
  }
 ],
 "metadata": {
  "kernelspec": {
   "display_name": "Python 3",
   "language": "python",
   "name": "python3"
  },
  "language_info": {
   "name": "python",
   "version": "3.10"
  }
 },
 "nbformat": 4,
 "nbformat_minor": 5
}