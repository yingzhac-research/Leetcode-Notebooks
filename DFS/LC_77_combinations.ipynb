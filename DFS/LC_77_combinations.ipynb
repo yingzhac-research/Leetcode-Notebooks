{
 "cells": [
  {
   "cell_type": "markdown",
   "metadata": {},
   "source": [
    "# 77. Combinations"
   ]
  },
  {
   "cell_type": "markdown",
   "metadata": {},
   "source": [
    "## Topic Alignment\n",
    "- Enumerating k-combinations models the selection of feature subsets or experiment groups without order, a common decision tree in ML workflows."
   ]
  },
  {
   "cell_type": "markdown",
   "metadata": {},
   "source": [
    "## Metadata 摘要\n",
    "- Source: https://leetcode.com/problems/combinations/\n",
    "- Tags: Backtracking, DFS\n",
    "- Difficulty: Medium\n",
    "- Priority: Medium"
   ]
  },
  {
   "cell_type": "markdown",
   "metadata": {},
   "source": [
    "## Problem Statement 原题描述\n",
    "Given two integers n and k, return all possible combinations of k numbers chosen from the range [1, n]. You may return the answer in any order."
   ]
  },
  {
   "cell_type": "markdown",
   "metadata": {},
   "source": [
    "## Progressive Hints\n",
    "- Hint 1: View the problem as deciding whether to include each integer in the combination.\n",
    "- Hint 2: Maintain start index to ensure increasing order and avoid duplicates.\n",
    "- Hint 3: Use pruning: if remaining numbers are insufficient, stop exploring that branch."
   ]
  },
  {
   "cell_type": "markdown",
   "metadata": {},
   "source": [
    "## Solution Overview\n",
    "Use backtracking: start from 1, append numbers sequentially while track length. When path length equals k, record it. Pre-calculate the maximum starting number allowed by bounding with n - (k - len(path)) + 1 so that enough numbers remain."
   ]
  },
  {
   "cell_type": "markdown",
   "metadata": {},
   "source": [
    "## Detailed Explanation\n",
    "1. Maintain path and iterate current number from start to n.\n",
    "2. Append current number, recurse with next start = current + 1.\n",
    "3. After recursion, pop the number and continue.\n",
    "4. To prune, if remaining numbers < (k - len(path)), break early using range boundaries.\n",
    "5. Complexity is O(C(n, k) * k)."
   ]
  },
  {
   "cell_type": "markdown",
   "metadata": {},
   "source": [
    "## Complexity Trade-off Table\n",
    "| Approach | Time | Space | Notes |\n",
    "| --- | --- | --- | --- |\n",
    "| DFS backtracking | O(C(n,k) * k) | O(k) | Enumerates combinations with pruning |\n",
    "| Iterative lexicographic generation | O(C(n,k) * k) | O(k) | Harder to reason about but avoids recursion |"
   ]
  },
  {
   "cell_type": "code",
   "execution_count": null,
   "metadata": {},
   "outputs": [],
   "source": [
    "from typing import List\n\n",
    "class Solution:\n",
    "    def combine(self, n: int, k: int) -> List[List[int]]:\n",
    "        ans: List[List[int]] = []\n",
    "        path: List[int] = []\n",
    "        def dfs(start: int) -> None:\n",
    "            if len(path) == k:\n",
    "                ans.append(path.copy())\n",
    "                return\n",
    "            max_start = n - (k - len(path)) + 1\n",
    "            for num in range(start, max_start + 1):\n",
    "                path.append(num)\n",
    "                dfs(num + 1)\n",
    "                path.pop()\n",
    "        dfs(1)\n",
    "        return ans"
   ]
  },
  {
   "cell_type": "code",
   "execution_count": null,
   "metadata": {
    "tags": [
     "validation"
    ]
   },
   "outputs": [],
   "source": [
    "tests = [\n",
    "    ((4, 2), {\n",
    "        (1,2),(1,3),(1,4),(2,3),(2,4),(3,4)\n",
    "    }),\n",
    "    ((1, 1), {(1,)})\n",
    "]\n",
    "solver = Solution()\n",
    "for (n, k), expected in tests:\n",
    "    actual = solver.combine(n, k)\n",
    "    assert {tuple(c) for c in actual} == expected\n",
    "print('All tests passed.')"
   ]
  },
  {
   "cell_type": "markdown",
   "metadata": {},
   "source": [
    "## Complexity Analysis\n",
    "- Time: O(C(n,k) * k) because each combination requires copying k elements.\n",
    "- Space: O(k) recursion depth plus output storage."
   ]
  },
  {
   "cell_type": "markdown",
   "metadata": {},
   "source": [
    "## Edge Cases & Pitfalls\n",
    "- k = 0 should return [[]]; current implementation handles by default if k==0 (zero-length path recorded).\n",
    "- Avoid iterating beyond range; use max_start to prune.\n",
    "- Input constraints allow n up to 20; recursion depth is manageable."
   ]
  },
  {
   "cell_type": "markdown",
   "metadata": {},
   "source": [
    "## Follow-up Variants\n",
    "- Generate combinations with sum constraint or product constraint.\n",
    "- Support streaming generation (iterators) for large n.\n",
    "- Count combinations only (without listing) using DP or combinatorics."
   ]
  },
  {
   "cell_type": "markdown",
   "metadata": {},
   "source": [
    "## Takeaways\n",
    "- Backtracking with start index ensures combinations remain sorted.\n",
    "- Pruning by remaining elements reduces recursion overhead.\n",
    "- Template generalizes to combinations of arbitrary candidate lists."
   ]
  },
  {
   "cell_type": "markdown",
   "metadata": {},
   "source": [
    "## Similar Problems\n",
    "| Problem ID | Problem Title | Technique |\n",
    "| --- | --- | --- |\n",
    "| LC 39 | Combination Sum | DFS with reuse allowed |\n",
    "| LC 216 | Combination Sum III | DFS with length constraint |\n",
    "| LC 78 | Subsets | DFS enumerating all subset sizes |"
   ]
  }
 ],
 "metadata": {
  "kernelspec": {
   "display_name": "Python 3",
   "language": "python",
   "name": "python3"
  },
  "language_info": {
   "name": "python",
   "version": "3.10"
  }
 },
 "nbformat": 4,
 "nbformat_minor": 5
}