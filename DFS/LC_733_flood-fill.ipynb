{
 "cells": [
  {
   "cell_type": "markdown",
   "metadata": {},
   "source": [
    "# 733. Flood Fill"
   ]
  },
  {
   "cell_type": "markdown",
   "metadata": {},
   "source": [
    "## Topic Alignment\n",
    "- Flood fill is widely used in image processing, segmentation, and connected component labeling for ML preprocessing."
   ]
  },
  {
   "cell_type": "markdown",
   "metadata": {},
   "source": [
    "## Metadata 摘要\n",
    "- Source: https://leetcode.com/problems/flood-fill/\n",
    "- Tags: Grid, DFS\n",
    "- Difficulty: Easy\n",
    "- Priority: Medium"
   ]
  },
  {
   "cell_type": "markdown",
   "metadata": {},
   "source": [
    "## Problem Statement 原题描述\n",
    "An image is represented by an m x n integer grid image where image[i][j] is the pixel value. Give the coordinates (sr, sc) of a starting pixel and a color, flood fill the image by changing all connected pixels of the starting color to the new color (4-directionally connected). Return the modified image."
   ]
  },
  {
   "cell_type": "markdown",
   "metadata": {},
   "source": [
    "## Progressive Hints\n",
    "- Hint 1: Remember the original color to determine which cells to recolor.\n",
    "- Hint 2: Use DFS or BFS to traverse connected pixels.\n",
    "- Hint 3: Avoid infinite loops by marking cells as visited or changing color immediately."
   ]
  },
  {
   "cell_type": "markdown",
   "metadata": {},
   "source": [
    "## Solution Overview\n",
    "If the original color equals the new color, return immediately. Otherwise, DFS from (sr, sc), recoloring each pixel and exploring neighbors with the original color. Stop when a pixel differs from the original color or falls out of bounds."
   ]
  },
  {
   "cell_type": "markdown",
   "metadata": {},
   "source": [
    "## Detailed Explanation\n",
    "1. Record original = image[sr][sc]; if original == color, return image.\n",
    "2. DFS(r,c): if pixel in bounds and equals original, set to color and recurse to neighbors.\n",
    "3. Use directions array for readability.\n",
    "4. Complexity O(mn)."
   ]
  },
  {
   "cell_type": "markdown",
   "metadata": {},
   "source": [
    "## Complexity Trade-off Table\n",
    "| Approach | Time | Space | Notes |\n",
    "| --- | --- | --- | --- |\n",
    "| DFS | O(mn) | O(mn) | Simple recursion; stack depth limited by component size |\n",
    "| BFS | O(mn) | O(mn) | Uses queue for level order fill |\n",
    "| Iterative stack | O(mn) | O(mn) | Manual stack avoid recursion limit |"
   ]
  },
  {
   "cell_type": "code",
   "execution_count": null,
   "metadata": {},
   "outputs": [],
   "source": [
    "from typing import List\n\n",
    "class Solution:\n",
    "    def floodFill(self, image: List[List[int]], sr: int, sc: int, color: int) -> List[List[int]]:\n",
    "        rows, cols = len(image), len(image[0])\n",
    "        original = image[sr][sc]\n",
    "        if original == color:\n",
    "            return image\n",
    "        dirs = [(1,0),(-1,0),(0,1),(0,-1)]\n",
    "        def dfs(r: int, c: int) -> None:\n",
    "            if r < 0 or c < 0 or r >= rows or c >= cols:\n",
    "                return\n",
    "            if image[r][c] != original:\n",
    "                return\n",
    "            image[r][c] = color\n",
    "            for dr, dc in dirs:\n",
    "                dfs(r + dr, c + dc)\n",
    "        dfs(sr, sc)\n",
    "        return image"
   ]
  },
  {
   "cell_type": "code",
   "execution_count": null,
   "metadata": {
    "tags": [
     "validation"
    ]
   },
   "outputs": [],
   "source": [
    "tests = [\n",
    "    (([[1,1,1],[1,1,0],[1,0,1]], 1, 1, 2), [[2,2,2],[2,2,0],[2,0,1]]),\n",
    "    (([[0,0,0],[0,0,0]], 0, 0, 0), [[0,0,0],[0,0,0]]),\n",
    "    (([[0,0,0],[0,1,1]], 1, 1, 1), [[0,0,0],[0,1,1]])\n",
    "]\n",
    "solver = Solution()\n",
    "for params, expected in tests:\n",
    "    image, sr, sc, color = params\n",
    "    actual = solver.floodFill([row[:] for row in image], sr, sc, color)\n",
    "    assert actual == expected\n",
    "print('All tests passed.')"
   ]
  },
  {
   "cell_type": "markdown",
   "metadata": {},
   "source": [
    "## Complexity Analysis\n",
    "- Time: O(mn).\n",
    "- Space: O(mn) recursion depth worst case when entire grid same color."
   ]
  },
  {
   "cell_type": "markdown",
   "metadata": {},
   "source": [
    "## Edge Cases & Pitfalls\n",
    "- Do not forget early exit when color equals original.\n",
    "- Recursion should not cross boundaries or recolor other colors.\n",
    "- For large grids, iterative stack avoids recursion limit issues."
   ]
  },
  {
   "cell_type": "markdown",
   "metadata": {},
   "source": [
    "## Follow-up Variants\n",
    "- Flood fill using 8-directional connectivity.\n",
    "- Limit fill to a maximum area threshold.\n",
    "- Apply flood fill to multi-channel images (RGB)."
   ]
  },
  {
   "cell_type": "markdown",
   "metadata": {},
   "source": [
    "## Takeaways\n",
    "- Flood fill is a fundamental DFS/BFS technique for region growing.\n",
    "- Always guard against recoloring with the same color.\n",
    "- Template integrates seamlessly into image-processing workflows."
   ]
  },
  {
   "cell_type": "markdown",
   "metadata": {},
   "source": [
    "## Similar Problems\n",
    "| Problem ID | Problem Title | Technique |\n",
    "| --- | --- | --- |\n",
    "| LC 200 | Number of Islands | DFS over grid |\n",
    "| LC 695 | Max Area of Island | DFS area accumulation |\n",
    "| LC 542 | 01 Matrix | BFS expansion (contrast with DFS) |"
   ]
  }
 ],
 "metadata": {
  "kernelspec": {
   "display_name": "Python 3",
   "language": "python",
   "name": "python3"
  },
  "language_info": {
   "name": "python",
   "version": "3.10"
  }
 },
 "nbformat": 4,
 "nbformat_minor": 5
}