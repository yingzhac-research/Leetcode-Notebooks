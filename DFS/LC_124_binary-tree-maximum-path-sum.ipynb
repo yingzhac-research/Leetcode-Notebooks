{
 "cells": [
  {
   "cell_type": "markdown",
   "metadata": {},
   "source": [
    "# 124. Binary Tree Maximum Path Sum"
   ]
  },
  {
   "cell_type": "markdown",
   "metadata": {},
   "source": [
    "## Topic Alignment\n",
    "- Tree DP is crucial for optimizing hierarchical models, such as computing best split gains across decision trees or aggregating scores along feature hierarchies.\n"
   ]
  },
  {
   "cell_type": "markdown",
   "metadata": {},
   "source": [
    "## Metadata 摘要\n",
    "- Source: https://leetcode.com/problems/binary-tree-maximum-path-sum/\n",
    "- Tags: Tree, DFS, DP\n",
    "- Difficulty: Hard\n",
    "- Priority: High"
   ]
  },
  {
   "cell_type": "markdown",
   "metadata": {},
   "source": [
    "## Problem Statement 原题描述\n",
    "Given the root of a binary tree, return the maximum path sum of any non-empty path. A path may start and end at any nodes, and must go downwards (parent-child connections)."
   ]
  },
  {
   "cell_type": "markdown",
   "metadata": {},
   "source": [
    "## Progressive Hints\n",
    "- Hint 1: A path may turn at most once; it consists of the current node plus the best gains from left and right subtrees.\n",
    "- Hint 2: When returning from recursion, you can only pass one side upward because a parent path cannot split.\n",
    "- Hint 3: Clamp negative gains to zero so they do not decrease the path sum.\n"
   ]
  },
  {
   "cell_type": "markdown",
   "metadata": {},
   "source": [
    "## Solution Overview\n",
    "Use post-order DFS. For each node compute the best downward path sum we can contribute to its parent (`gain`). Simultaneously track a global answer that considers `node.val + left_gain + right_gain` as a candidate best path going through the node. The returned gain is `node.val + max(left_gain, right_gain, 0)`.\n"
   ]
  },
  {
   "cell_type": "markdown",
   "metadata": {},
   "source": [
    "## Detailed Explanation\n",
    "1. Initialize `best = -inf` to store the global maximum path sum.\n",
    "2. Define a recursive helper `dfs(node)` that returns the maximum gain from this node down to leaves.\n",
    "3. Recursively compute `left_gain = max(dfs(node.left), 0)` and `right_gain = max(dfs(node.right), 0)`.\n",
    "4. Update `best = max(best, node.val + left_gain + right_gain)` to capture the highest split path passing through `node`.\n",
    "5. Return `node.val + max(left_gain, right_gain)` so the parent can extend only one side.\n",
    "6. After traversing the entire tree, `best` holds the answer.\n"
   ]
  },
  {
   "cell_type": "markdown",
   "metadata": {},
   "source": [
    "## Complexity Trade-off Table\n",
    "| Approach | Time | Space | Notes |\n",
    "| --- | --- | --- | --- |\n",
    "| Post-order DFS with gains | O(n) | O(h) | Single pass, optimal |\n",
    "| Enumerate all paths | Exponential | O(h) | Generates redundant combinations |\n",
    "| DP on tree converted to array | O(n) | O(n) | Requires heavy preprocessing |\n"
   ]
  },
  {
   "cell_type": "code",
   "execution_count": null,
   "metadata": {},
   "outputs": [],
   "source": [
    "from math import inf\nfrom typing import Optional\n\nclass TreeNode:\n    def __init__(self, val: int = 0, left: Optional['TreeNode'] = None, right: Optional['TreeNode'] = None):\n        self.val = val\n        self.left = left\n        self.right = right\n\nclass Solution:\n    def maxPathSum(self, root: Optional[TreeNode]) -> int:\n        self.best = -inf\n\n        def dfs(node: Optional[TreeNode]) -> int:\n            if not node:\n                return 0\n            left_gain = max(dfs(node.left), 0)\n            right_gain = max(dfs(node.right), 0)\n            current_sum = node.val + left_gain + right_gain\n            if current_sum > self.best:\n                self.best = current_sum\n            return node.val + max(left_gain, right_gain)\n\n        dfs(root)\n        return int(self.best)\n"
   ]
  },
  {
   "cell_type": "code",
   "execution_count": null,
   "metadata": {
    "tags": [
     "validation"
    ]
   },
   "outputs": [],
   "source": [
    "from collections import deque\n\ndef build_tree(values):\n    if not values:\n        return None\n    nodes = [TreeNode(v) if v is not None else None for v in values]\n    kids = deque(nodes[1:])\n    for node in nodes:\n        if node:\n            if kids:\n                node.left = kids.popleft()\n            if kids:\n                node.right = kids.popleft()\n    return nodes[0]\n\ntests = [\n    ([1,2,3], 6),\n    ([-10,9,20,None,None,15,7], 42),\n    ([2,-1], 2),\n]\nsolver = Solution()\nfor arr, expected in tests:\n    tree = build_tree(arr)\n    assert solver.maxPathSum(tree) == expected\nprint('All tests passed.')\n"
   ]
  },
  {
   "cell_type": "markdown",
   "metadata": {},
   "source": [
    "## Complexity Analysis\n",
    "- Time: O(n) because each node is visited once.\n",
    "- Space: O(h) for recursion depth, where `h` is the tree height.\n"
   ]
  },
  {
   "cell_type": "markdown",
   "metadata": {},
   "source": [
    "## Edge Cases & Pitfalls\n",
    "- The tree can contain negative numbers; clamping gains to zero ensures we avoid decreasing the path.\n",
    "- Initialize the global best to `-inf` so trees with all negative values return the largest (least negative) node.\n",
    "- Avoid sharing mutable state between recursive calls; use local variables and references.\n"
   ]
  },
  {
   "cell_type": "markdown",
   "metadata": {},
   "source": [
    "## Follow-up Variants\n",
    "- Track the path nodes by storing parent pointers when updating the global best.\n",
    "- Extend to k-ary trees by generalizing the gain calculation to consider the top two child gains.\n",
    "- Compute the maximum path sum constrained to at most K turns by augmenting the state with the number of turns.\n"
   ]
  },
  {
   "cell_type": "markdown",
   "metadata": {},
   "source": [
    "## Takeaways\n",
    "- Post-order traversal lets you combine child information before evaluating the parent.\n",
    "- Separating the global answer from the returned gain prevents double-counting paths.\n",
    "- Clamping negative gains is a standard trick for max-path problems in trees.\n"
   ]
  },
  {
   "cell_type": "markdown",
   "metadata": {},
   "source": [
    "## Similar Problems\n",
    "| Problem ID | Problem Title | Technique |\n",
    "| --- | --- | --- |\n",
    "| LC 543 | Diameter of Binary Tree | DFS tracking longest two paths |\n",
    "| LC 687 | Longest Univalue Path | DFS with path gains |\n",
    "| LC 1522 | Diameter of N-Ary Tree | Post-order DFS generalization |\n"
   ]
  }
 ],
 "metadata": {
  "kernelspec": {
   "display_name": "Python 3",
   "language": "python",
   "name": "python3"
  },
  "language_info": {
   "name": "python",
   "version": "3.10"
  }
 },
 "nbformat": 4,
 "nbformat_minor": 5
}