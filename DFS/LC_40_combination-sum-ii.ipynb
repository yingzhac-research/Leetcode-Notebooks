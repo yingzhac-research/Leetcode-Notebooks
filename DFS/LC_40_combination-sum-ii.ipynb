{
 "cells": [
  {
   "cell_type": "markdown",
   "metadata": {},
   "source": [
    "# 40. Combination Sum II"
   ]
  },
  {
   "cell_type": "markdown",
   "metadata": {},
   "source": [
    "## Topic Alignment\n",
    "- Selecting unique combinations with limited usage captures scenarios like assembling teams or resource bundles without repetition."
   ]
  },
  {
   "cell_type": "markdown",
   "metadata": {},
   "source": [
    "## Metadata 摘要\n",
    "- Source: https://leetcode.com/problems/combination-sum-ii/\n",
    "- Tags: Backtracking, DFS, Pruning\n",
    "- Difficulty: Medium\n",
    "- Priority: Medium"
   ]
  },
  {
   "cell_type": "markdown",
   "metadata": {},
   "source": [
    "## Problem Statement 原题描述\n",
    "Given a collection of candidate numbers (candidates) and a target number (target), find all unique combinations in candidates where the candidate numbers sum to target. Each number in candidates may only be used once."
   ]
  },
  {
   "cell_type": "markdown",
   "metadata": {},
   "source": [
    "## Progressive Hints\n",
    "- Hint 1: Sort candidates to help prune large numbers and skip duplicates.\n",
    "- Hint 2: When iterating at one depth, skip candidates[i] if it equals candidates[i-1] and i > start to avoid duplicate combinations.\n",
    "- Hint 3: Once candidate exceeds remaining target, break because of sorting."
   ]
  },
  {
   "cell_type": "markdown",
   "metadata": {},
   "source": [
    "## Solution Overview\n",
    "Sort candidates. In DFS(start, remainder), iterate i from start to len(candidates). Skip duplicates at same depth. If candidates[i] > remainder break. Include candidate, recurse with i+1 (since no reuse). Backtrack and continue."
   ]
  },
  {
   "cell_type": "markdown",
   "metadata": {},
   "source": [
    "## Detailed Explanation\n",
    "1. Sort candidates.\n",
    "2. DFS uses path list. Loop i from start to n-1.\n",
    "3. If i > start and candidates[i] == candidates[i-1], continue.\n",
    "4. If value > remainder, break.\n",
    "5. Append value, recurse dfs(i+1, remainder - value), pop value.\n",
    "6. When remainder == 0, add copy of path."
   ]
  },
  {
   "cell_type": "markdown",
   "metadata": {},
   "source": [
    "## Complexity Trade-off Table\n",
    "| Approach | Time | Space | Notes |\n",
    "| --- | --- | --- | --- |\n",
    "| DFS with pruning | O(S) | O(k) | S = number of explored states |\n",
    "| DP counting ways | O(n * target) | O(target) | Does not enumerate combinations |"
   ]
  },
  {
   "cell_type": "code",
   "execution_count": null,
   "metadata": {},
   "outputs": [],
   "source": [
    "from typing import List\n\n",
    "class Solution:\n",
    "    def combinationSum2(self, candidates: List[int], target: int) -> List[List[int]]:\n",
    "        candidates.sort()\n",
    "        ans: List[List[int]] = []\n",
    "        path: List[int] = []\n",
    "        def dfs(start: int, remainder: int) -> None:\n",
    "            if remainder == 0:\n",
    "                ans.append(path.copy())\n",
    "                return\n",
    "            for i in range(start, len(candidates)):\n",
    "                value = candidates[i]\n",
    "                if i > start and value == candidates[i - 1]:\n",
    "                    continue\n",
    "                if value > remainder:\n",
    "                    break\n",
    "                path.append(value)\n",
    "                dfs(i + 1, remainder - value)\n",
    "                path.pop()\n",
    "        dfs(0, target)\n",
    "        return ans"
   ]
  },
  {
   "cell_type": "code",
   "execution_count": null,
   "metadata": {
    "tags": [
     "validation"
    ]
   },
   "outputs": [],
   "source": [
    "tests = [\n",
    "    (([10,1,2,7,6,1,5], 8), {\n",
    "        (1,1,6),(1,2,5),(1,7),(2,6)\n",
    "    }),\n",
    "    (([2,5,2,1,2], 5), {(1,2,2),(5,)}),\n",
    "    (([1], 1), {(1,)})\n",
    "]\n",
    "solver = Solution()\n",
    "for (candidates, target), expected in tests:\n",
    "    actual = solver.combinationSum2(candidates[:], target)\n",
    "    assert {tuple(combo) for combo in actual} == expected\n",
    "print('All tests passed.')"
   ]
  },
  {
   "cell_type": "markdown",
   "metadata": {},
   "source": [
    "## Complexity Analysis\n",
    "- Time: O(S) where S depends on number of feasible states; worst-case exponential.\n",
    "- Space: O(k) recursion depth (k ≤ len(candidates))."
   ]
  },
  {
   "cell_type": "markdown",
   "metadata": {},
   "source": [
    "## Edge Cases & Pitfalls\n",
    "- Sorting before DFS is mandatory for duplicate skip.\n",
    "- Breaking when value > remainder is safe because of sorted order.\n",
    "- Ensure path copy is stored before backtracking."
   ]
  },
  {
   "cell_type": "markdown",
   "metadata": {},
   "source": [
    "## Follow-up Variants\n",
    "- Limit combination length to exactly k items.\n",
    "- Allow negative numbers; adjust pruning accordingly.\n",
    "- Count combinations rather than enumerate using DP."
   ]
  },
  {
   "cell_type": "markdown",
   "metadata": {},
   "source": [
    "## Takeaways\n",
    "- Duplicate skipping pattern is same as permutations II but for combinations.\n",
    "- Sorting enables monotonic pruning.\n",
    "- Template extends to other unique combination tasks."
   ]
  },
  {
   "cell_type": "markdown",
   "metadata": {},
   "source": [
    "## Similar Problems\n",
    "| Problem ID | Problem Title | Technique |\n",
    "| --- | --- | --- |\n",
    "| LC 39 | Combination Sum | DFS with reuse allowed |\n",
    "| LC 90 | Subsets II | DFS duplicates skip |\n",
    "| LC 216 | Combination Sum III | DFS with length constraint |"
   ]
  }
 ],
 "metadata": {
  "kernelspec": {
   "display_name": "Python 3",
   "language": "python",
   "name": "python3"
  },
  "language_info": {
   "name": "python",
   "version": "3.10"
  }
 },
 "nbformat": 4,
 "nbformat_minor": 5
}