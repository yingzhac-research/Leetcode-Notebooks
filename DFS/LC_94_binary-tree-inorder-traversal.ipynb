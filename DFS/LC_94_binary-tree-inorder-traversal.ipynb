{
 "cells": [
  {
   "cell_type": "markdown",
   "metadata": {},
   "source": [
    "# 94. Binary Tree Inorder Traversal"
   ]
  },
  {
   "cell_type": "markdown",
   "metadata": {},
   "source": [
    "## Topic Alignment\n",
    "- Iterative inorder traversal is handy when recursion depth might exceed Python limits (e.g., processing deep parse trees in production)."
   ]
  },
  {
   "cell_type": "markdown",
   "metadata": {},
   "source": [
    "## Metadata 摘要\n",
    "- Source: https://leetcode.com/problems/binary-tree-inorder-traversal/\n",
    "- Tags: Tree, DFS, Stack\n",
    "- Difficulty: Easy\n",
    "- Priority: Medium"
   ]
  },
  {
   "cell_type": "markdown",
   "metadata": {},
   "source": [
    "## Problem Statement 原题描述\n",
    "Given the root of a binary tree, return the inorder traversal of its nodes' values."
   ]
  },
  {
   "cell_type": "markdown",
   "metadata": {},
   "source": [
    "## Progressive Hints\n",
    "- Hint 1: Use a stack to simulate recursion; always go left first.\n",
    "- Hint 2: When reaching None, pop stack to visit node and traverse right subtree.\n",
    "- Hint 3: Continue until stack empty and current node null."
   ]
  },
  {
   "cell_type": "markdown",
   "metadata": {},
   "source": [
    "## Solution Overview\n",
    "Initialize an empty stack and set curr = root. While curr or stack non-empty, push left nodes into stack. When hitting None, pop stack, append node value, then move to right child."
   ]
  },
  {
   "cell_type": "markdown",
   "metadata": {},
   "source": [
    "## Detailed Explanation\n",
    "1. Use stack for nodes to visit.\n",
    "2. Outer loop runs while stack or curr exists.\n",
    "3. Inner while pushes curr into stack and move to curr.left.\n",
    "4. When curr becomes None, pop stack, record value, and set curr = node.right.\n",
    "5. Repeat until fully traversed."
   ]
  },
  {
   "cell_type": "markdown",
   "metadata": {},
   "source": [
    "## Complexity Trade-off Table\n",
    "| Approach | Time | Space | Notes |\n",
    "| --- | --- | --- | --- |\n",
    "| Iterative stack | O(n) | O(n) | Avoids recursion, handles deep trees |\n",
    "| Recursive | O(n) | O(h) | Simpler but risk stack overflow if h large |\n",
    "| Morris traversal | O(n) | O(1) | Threaded tree approach, modifies pointers temporarily |"
   ]
  },
  {
   "cell_type": "code",
   "execution_count": null,
   "metadata": {},
   "outputs": [],
   "source": [
    "from typing import List, Optional\n\n",
    "class TreeNode:\n",
    "    def __init__(self, val: int = 0, left: Optional['TreeNode'] = None, right: Optional['TreeNode'] = None):\n",
    "        self.val = val\n",
    "        self.left = left\n",
    "        self.right = right\n\n",
    "class Solution:\n",
    "    def inorderTraversal(self, root: Optional[TreeNode]) -> List[int]:\n",
    "        stack: List[TreeNode] = []\n",
    "        curr = root\n",
    "        ans: List[int] = []\n",
    "        while curr or stack:\n",
    "            while curr:\n",
    "                stack.append(curr)\n",
    "                curr = curr.left\n",
    "            curr = stack.pop()\n",
    "            ans.append(curr.val)\n",
    "            curr = curr.right\n",
    "        return ans"
   ]
  },
  {
   "cell_type": "code",
   "execution_count": null,
   "metadata": {
    "tags": [
     "validation"
    ]
   },
   "outputs": [],
   "source": [
    "def build_tree(values: List[Optional[int]]) -> Optional[TreeNode]:\n",
    "    if not values:\n",
    "        return None\n",
    "    nodes = [TreeNode(v) if v is not None else None for v in values]\n",
    "    kids = nodes[::-1]\n",
    "    root = kids.pop()\n",
    "    for node in nodes:\n",
    "        if node:\n",
    "            if kids:\n",
    "                node.left = kids.pop()\n",
    "            if kids:\n",
    "                node.right = kids.pop()\n",
    "    return root\n\n",
    "tests = [\n",
    "    ([1,None,2,3], [1,3,2]),\n",
    "    ([], []),\n",
    "    ([1], [1])\n",
    "]\n",
    "solver = Solution()\n",
    "for arr, expected in tests:\n",
    "    assert solver.inorderTraversal(build_tree(arr)) == expected\n",
    "print('All tests passed.')"
   ]
  },
  {
   "cell_type": "markdown",
   "metadata": {},
   "source": [
    "## Complexity Analysis\n",
    "- Time: O(n) visiting each node exactly once.\n",
    "- Space: O(h) where h is tree height; worst case O(n) for a skewed tree."
   ]
  },
  {
   "cell_type": "markdown",
   "metadata": {},
   "source": [
    "## Edge Cases & Pitfalls\n",
    "- Ensure solver handles empty tree (returns []).\n",
    "- Avoid forgetting to move to right child after visiting node.\n",
    "- Stack may grow to size h; ensure iterative approach still manageable."
   ]
  },
  {
   "cell_type": "markdown",
   "metadata": {},
   "source": [
    "## Follow-up Variants\n",
    "- Implement Morris traversal for O(1) space.\n",
    "- Extend to iterative inorder for n-ary trees (with child index tracking).\n",
    "- Combine with lazy generators to stream values."
   ]
  },
  {
   "cell_type": "markdown",
   "metadata": {},
   "source": [
    "## Takeaways\n",
    "- Stack-based inorder traversal mirrors recursion but avoids call stack limits.\n",
    "- Inorder yields sorted order for BSTs, useful for verification tasks.\n",
    "- Helper builders expedite test coverage."
   ]
  },
  {
   "cell_type": "markdown",
   "metadata": {},
   "source": [
    "## Similar Problems\n",
    "| Problem ID | Problem Title | Technique |\n",
    "| --- | --- | --- |\n",
    "| LC 144 | Binary Tree Preorder Traversal | Iterative stack traversal |\n",
    "| LC 145 | Binary Tree Postorder Traversal | Stack with visited flags |\n",
    "| LC 230 | Kth Smallest Element in a BST | Inorder traversal to track rank |"
   ]
  }
 ],
 "metadata": {
  "kernelspec": {
   "display_name": "Python 3",
   "language": "python",
   "name": "python3"
  },
  "language_info": {
   "name": "python",
   "version": "3.10"
  }
 },
 "nbformat": 4,
 "nbformat_minor": 5
}