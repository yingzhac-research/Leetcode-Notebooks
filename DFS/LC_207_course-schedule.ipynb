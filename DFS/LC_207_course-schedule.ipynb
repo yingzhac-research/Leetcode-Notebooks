{
 "cells": [
  {
   "cell_type": "markdown",
   "metadata": {},
   "source": [
    "# 207. Course Schedule"
   ]
  },
  {
   "cell_type": "markdown",
   "metadata": {},
   "source": [
    "## Topic Alignment\n",
    "- Course scheduling is analogous to pipeline dependency resolution; DFS cycle detection validates that feature or job graph has no deadlock."
   ]
  },
  {
   "cell_type": "markdown",
   "metadata": {},
   "source": [
    "## Metadata 摘要\n",
    "- Source: https://leetcode.com/problems/course-schedule/\n",
    "- Tags: Graph, DFS, Topological Sort\n",
    "- Difficulty: Medium\n",
    "- Priority: High"
   ]
  },
  {
   "cell_type": "markdown",
   "metadata": {},
   "source": [
    "## Problem Statement 原题描述\n",
    "There are a total of numCourses courses you have to take, labeled from 0 to numCourses - 1. You are given an array prerequisites where prerequisites[i] = [ai, bi] indicates that you must take course bi before course ai. Return true if you can finish all courses. Otherwise, return false."
   ]
  },
  {
   "cell_type": "markdown",
   "metadata": {},
   "source": [
    "## Progressive Hints\n",
    "- Hint 1: Model courses as nodes in a directed graph.\n",
    "- Hint 2: If there is a cycle, you cannot finish all courses.\n",
    "- Hint 3: DFS with state tracking (unvisited, visiting, visited) detects cycles efficiently."
   ]
  },
  {
   "cell_type": "markdown",
   "metadata": {},
   "source": [
    "## Solution Overview\n",
    "Build an adjacency list from prerequisites. For each node, run DFS with a color/state array: 0 = unvisited, 1 = visiting, 2 = visited. When exploring a node, mark it visiting. If a neighbor is already visiting, a cycle exists. Once all neighbors finish, mark the node visited. The graph is acyclic if all DFS traversals complete without finding a back edge."
   ]
  },
  {
   "cell_type": "markdown",
   "metadata": {},
   "source": [
    "## Detailed Explanation\n",
    "1. Build adjacency list graph of size numCourses.\n",
    "2. Initialize state array of length numCourses to 0.\n",
    "3. For each course, invoke dfs(i). If dfs returns False (cycle found), stop and return False.\n",
    "4. dfs(u) marks state[u] = 1, iterates neighbors v. If state[v] == 1, cycle; if state[v] == 0 and dfs(v) False, propagate failure. After exploring neighbors, set state[u] = 2 and return True.\n",
    "5. Complexity: O(V+E) time, O(V) space for recursion and state."
   ]
  },
  {
   "cell_type": "markdown",
   "metadata": {},
   "source": [
    "## Complexity Trade-off Table\n",
    "| Approach | Time | Space | Notes |\n",
    "| --- | --- | --- | --- |\n",
    "| DFS cycle detection | O(V + E) | O(V) | Simple to implement, detects back edges |\n",
    "| Kahn's algorithm (BFS) | O(V + E) | O(V) | Uses indegree queue to produce topological order |\n",
    "| Recursive postorder | O(V + E) | O(V) | Variation using stack or recursion for topological sort |"
   ]
  },
  {
   "cell_type": "code",
   "execution_count": null,
   "metadata": {},
   "outputs": [],
   "source": [
    "from typing import List\n\n",
    "class Solution:\n",
    "    def canFinish(self, numCourses: int, prerequisites: List[List[int]]) -> bool:\n",
    "        graph = [[] for _ in range(numCourses)]\n",
    "        for course, pre in prerequisites:\n",
    "            graph[pre].append(course)\n",
    "        state = [0] * numCourses\n",
    "        def dfs(node: int) -> bool:\n",
    "            if state[node] == 1:\n",
    "                return False\n",
    "            if state[node] == 2:\n",
    "                return True\n",
    "            state[node] = 1\n",
    "            for nei in graph[node]:\n",
    "                if not dfs(nei):\n",
    "                    return False\n",
    "            state[node] = 2\n",
    "            return True\n",
    "        for course in range(numCourses):\n",
    "            if not dfs(course):\n",
    "                return False\n",
    "        return True"
   ]
  },
  {
   "cell_type": "code",
   "execution_count": null,
   "metadata": {
    "tags": [
     "validation"
    ]
   },
   "outputs": [],
   "source": [
    "tests = [\n",
    "    ((2, [[1,0]]), True),\n",
    "    ((2, [[1,0],[0,1]]), False),\n",
    "    ((4, [[1,0],[2,1],[3,2]]), True),\n",
    "    ((3, [[0,1],[0,2],[1,2]]), True),\n",
    "    ((3, [[0,1],[1,2],[2,0]]), False)\n",
    "]\n",
    "solver = Solution()\n",
    "for (n, prereq), expected in tests:\n",
    "    assert solver.canFinish(n, prereq) == expected\n",
    "print('All tests passed.')"
   ]
  },
  {
   "cell_type": "markdown",
   "metadata": {},
   "source": [
    "## Complexity Analysis\n",
    "- Time: O(V + E) because every node and edge is visited once.\n",
    "- Space: O(V) for recursion stack and state array."
   ]
  },
  {
   "cell_type": "markdown",
   "metadata": {},
   "source": [
    "## Edge Cases & Pitfalls\n",
    "- Self prerequisite (a course requiring itself) must be caught as a cycle.\n",
    "- Graph may have disconnected components; ensure all nodes are checked.\n",
    "- When recursion depth is large, consider iterative DFS or BFS alternative."
   ]
  },
  {
   "cell_type": "markdown",
   "metadata": {},
   "source": [
    "## Follow-up Variants\n",
    "- Return one possible ordering (topological sort) if feasible.\n",
    "- Detect the minimum set of prerequisites to remove to make the schedule feasible.\n",
    "- Incorporate course durations to find minimum completion time with dependencies."
   ]
  },
  {
   "cell_type": "markdown",
   "metadata": {},
   "source": [
    "## Takeaways\n",
    "- DFS with tri-color states is a robust way to detect cycles.\n",
    "- Carefully differentiate between visiting and visited states.\n",
    "- The same template applies to many dependency validation problems."
   ]
  },
  {
   "cell_type": "markdown",
   "metadata": {},
   "source": [
    "## Similar Problems\n",
    "| Problem ID | Problem Title | Technique |\n",
    "| --- | --- | --- |\n",
    "| LC 210 | Course Schedule II | DFS for topological order |\n",
    "| LC 802 | Find Eventual Safe States | DFS detecting cycles |\n",
    "| LC 269 | Alien Dictionary | DFS with topo sort |"
   ]
  }
 ],
 "metadata": {
  "kernelspec": {
   "display_name": "Python 3",
   "language": "python",
   "name": "python3"
  },
  "language_info": {
   "name": "python",
   "version": "3.10"
  }
 },
 "nbformat": 4,
 "nbformat_minor": 5
}