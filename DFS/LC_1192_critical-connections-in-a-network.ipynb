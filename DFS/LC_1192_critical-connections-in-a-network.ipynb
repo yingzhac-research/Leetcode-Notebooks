{
 "cells": [
  {
   "cell_type": "markdown",
   "id": "71fd6854",
   "metadata": {},
   "source": [
    "# 1192. Critical Connections in a Network"
   ]
  },
  {
   "cell_type": "markdown",
   "id": "3dbb9010",
   "metadata": {},
   "source": [
    "## Topic Alignment\n",
    "- Finding bridges pinpoints single points of failure in large-scale services, an essential analysis for MLOps dependency graphs and data pipeline resilience.\n"
   ]
  },
  {
   "cell_type": "markdown",
   "id": "59900f06",
   "metadata": {},
   "source": [
    "## Metadata 摘要\n",
    "- Source: https://leetcode.com/problems/critical-connections-in-a-network/\n",
    "- Tags: Graph, DFS, Tarjan\n",
    "- Difficulty: Hard\n",
    "- Priority: High"
   ]
  },
  {
   "cell_type": "markdown",
   "id": "c5599716",
   "metadata": {},
   "source": [
    "## Problem Statement 原题描述\n",
    "Given an undirected connected graph with n nodes and a list of edges, return all critical connections (bridges). Removing a bridge increases the number of connected components."
   ]
  },
  {
   "cell_type": "markdown",
   "id": "52fbd6bb",
   "metadata": {},
   "source": [
    "## Progressive Hints\n",
    "- Hint 1: Run DFS and record discovery time `tin[u]` for each node.\n",
    "- Hint 2: Maintain `low[u]`, the earliest discovery time reachable from `u` through tree edges plus at most one back edge.\n",
    "- Hint 3: An edge `(u, v)` is critical if `low[v] > tin[u]`; it means `v` cannot reach `u` or its ancestors without that edge.\n"
   ]
  },
  {
   "cell_type": "markdown",
   "id": "a4166ac1",
   "metadata": {},
   "source": [
    "## Solution Overview\n",
    "Apply Tarjan's bridge-finding algorithm. Perform DFS, assigning monotonically increasing timestamps. For each outgoing edge `(u, v)`, recurse on unvisited neighbors, update `low[u]` with `low[v]`, and flag the edge as a bridge if `low[v] > tin[u]`. When the neighbor is already visited and not the parent, update `low[u]` with `tin[v]` to account for back edges.\n"
   ]
  },
  {
   "cell_type": "markdown",
   "id": "bf7e2dc8",
   "metadata": {},
   "source": [
    "## Detailed Explanation\n",
    "1. Build an adjacency list for the undirected graph.\n",
    "2. Maintain arrays `tin` and `low` sized `n`, initialized to `-1` to indicate unvisited nodes, plus a global timer starting at 0.\n",
    "3. For each unvisited node, call `dfs(u, parent)`:\n",
    "   - Set `tin[u] = low[u] = timer` and increment `timer`.\n",
    "   - Iterate neighbors `v`:\n",
    "     - Skip `parent` to avoid immediately retracing the tree edge.\n",
    "     - If `tin[v] == -1`, recurse `dfs(v, u)`, then update `low[u] = min(low[u], low[v])`. If `low[v] > tin[u]`, record `(u, v)` as a critical connection.\n",
    "     - Otherwise, update `low[u] = min(low[u], tin[v])` for back edges.\n",
    "4. Collect every edge flagged as critical and return the list.\n"
   ]
  },
  {
   "cell_type": "markdown",
   "id": "5d895684",
   "metadata": {},
   "source": [
    "## Complexity Trade-off Table\n",
    "| Approach | Time | Space | Notes |\n",
    "| --- | --- | --- | --- |\n",
    "| Tarjan DFS | O(n + m) | O(n + m) | Linear bridge detection |\n",
    "| Remove-edge + BFS per edge | O(m * (n + m)) | O(n + m) | Too slow for dense graphs |\n",
    "| Union-Find with offline queries | O(n + m α(n)) | O(n) | Works for batch deletions but less direct here |\n"
   ]
  },
  {
   "cell_type": "code",
   "execution_count": null,
   "id": "2f0bc15b",
   "metadata": {},
   "outputs": [],
   "source": [
    "from collections import defaultdict\n",
    "from typing import List\n",
    "\n",
    "class Solution:\n",
    "    def criticalConnections(self, n: int, connections: List[List[int]]) -> List[List[int]]:\n",
    "        graph = defaultdict(list)\n",
    "        for u, v in connections:\n",
    "            graph[u].append(v)\n",
    "            graph[v].append(u)\n",
    "\n",
    "        tin = [-1] * n\n",
    "        low = [0] * n\n",
    "        time = 0\n",
    "        bridges: List[List[int]] = []\n",
    "\n",
    "        def dfs(u: int, parent: int) -> None:\n",
    "            nonlocal time\n",
    "            tin[u] = low[u] = time\n",
    "            time += 1\n",
    "            for v in graph[u]:\n",
    "                if v == parent:\n",
    "                    continue\n",
    "                if tin[v] == -1:\n",
    "                    dfs(v, u)\n",
    "                    low[u] = min(low[u], low[v])\n",
    "                    if low[v] > tin[u]:\n",
    "                        bridges.append([u, v])\n",
    "                else:\n",
    "                    low[u] = min(low[u], tin[v])\n",
    "\n",
    "        dfs(0, -1)\n",
    "        return bridges\n"
   ]
  },
  {
   "cell_type": "code",
   "execution_count": null,
   "id": "39b37e1a",
   "metadata": {
    "tags": [
     "validation"
    ]
   },
   "outputs": [],
   "source": [
    "tests = [\n",
    "    (4, [[0,1],[1,2],[2,0],[1,3]], [[1,3]]),\n",
    "    (2, [[0,1]], [[0,1]])\n",
    "]\n",
    "solver = Solution()\n",
    "for n, edges, expected in tests:\n",
    "    result = solver.criticalConnections(n, edges)\n",
    "    assert sorted(map(sorted, result)) == sorted(map(sorted, expected))\n",
    "print('All tests passed.')\n"
   ]
  },
  {
   "cell_type": "markdown",
   "id": "7cfa7437",
   "metadata": {},
   "source": [
    "## Complexity Analysis\n",
    "- Time: O(n + m) because each edge is explored at most twice during DFS.\n",
    "- Space: O(n + m) for the adjacency list, recursion stack, and auxiliary arrays.\n"
   ]
  },
  {
   "cell_type": "markdown",
   "id": "27f4ba7c",
   "metadata": {},
   "source": [
    "## Edge Cases & Pitfalls\n",
    "- The graph is guaranteed connected, but the algorithm also works on disconnected graphs if you iterate over all nodes.\n",
    "- Use recursion limits or convert to an explicit stack for very large graphs to avoid stack overflow.\n",
    "- Remember to skip the immediate parent when processing neighbors to prevent false bridges.\n"
   ]
  },
  {
   "cell_type": "markdown",
   "id": "e05141b8",
   "metadata": {},
   "source": [
    "## Follow-up Variants\n",
    "- Return bridges grouped by connected component to plan targeted redundancy.\n",
    "- Support online addition/removal of edges using dynamic bridge-finding data structures.\n",
    "- Extend to directed graphs by computing strongly connected components and then identifying edges between SCCs.\n"
   ]
  },
  {
   "cell_type": "markdown",
   "id": "4e2b35c0",
   "metadata": {},
   "source": [
    "## Takeaways\n",
    "- Discovery time plus low-link values form the backbone of Tarjan's algorithms for bridges and articulation points.\n",
    "- Bridges indicate single points of failure; removing them splits the network.\n",
    "- Linear-time detection scales to massive production graphs where naive per-edge removal is infeasible.\n"
   ]
  },
  {
   "cell_type": "markdown",
   "id": "8dae118b",
   "metadata": {},
   "source": [
    "## Similar Problems\n",
    "| Problem ID | Problem Title | Technique |\n",
    "| --- | --- | --- |\n",
    "| LC 1135 | Connecting Cities With Minimum Cost | Minimum spanning tree to ensure connectivity |\n",
    "| LC 310 | Minimum Height Trees | Identify critical centers via topological trimming |\n",
    "| LC 323 | Number of Connected Components in an Undirected Graph | Union-Find / DFS for component counting |\n"
   ]
  }
 ],
 "metadata": {
  "kernelspec": {
   "display_name": "Python 3 (ipykernel)",
   "language": "python",
   "name": "python3"
  },
  "language_info": {
   "codemirror_mode": {
    "name": "ipython",
    "version": 3
   },
   "file_extension": ".py",
   "mimetype": "text/x-python",
   "name": "python",
   "nbconvert_exporter": "python",
   "pygments_lexer": "ipython3",
   "version": "3.13.3"
  }
 },
 "nbformat": 4,
 "nbformat_minor": 5
}