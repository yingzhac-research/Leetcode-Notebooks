{
 "cells": [
  {
   "cell_type": "markdown",
   "metadata": {},
   "source": [
    "# 236. Lowest Common Ancestor of a Binary Tree"
   ]
  },
  {
   "cell_type": "markdown",
   "metadata": {},
   "source": [
    "## Topic Alignment\n",
    "- Recursive DFS is a staple for relationship queries in hierarchical data, such as tracing common ancestors in organization or feature dependency trees."
   ]
  },
  {
   "cell_type": "markdown",
   "metadata": {},
   "source": [
    "## Metadata 摘要\n",
    "- Source: https://leetcode.com/problems/lowest-common-ancestor-of-a-binary-tree/\n",
    "- Tags: Tree, DFS\n",
    "- Difficulty: Medium\n",
    "- Priority: High"
   ]
  },
  {
   "cell_type": "markdown",
   "metadata": {},
   "source": [
    "## Problem Statement 原题描述\n",
    "Given a binary tree, find the lowest common ancestor (LCA) of two given nodes in the tree. According to the definition of LCA, the lowest common ancestor is the lowest node that has both nodes as descendants (where a node is allowed to be a descendant of itself)."
   ]
  },
  {
   "cell_type": "markdown",
   "metadata": {},
   "source": [
    "## Progressive Hints\n",
    "- Hint 1: Recurse into left and right subtrees to know if they contain p or q.\n",
    "- Hint 2: If one side finds p and the other finds q, current node is the LCA.\n",
    "- Hint 3: Propagate non-null results up the recursion stack."
   ]
  },
  {
   "cell_type": "markdown",
   "metadata": {},
   "source": [
    "## Solution Overview\n",
    "DFS from the root: if the current node is null or equal to one of the targets, return it. Otherwise, search left and right. If both sides return non-null, current node is the LCA; otherwise return whichever side found a target. This works because the recursion naturally walks the tree and bubbles up the relevant ancestor."
   ]
  },
  {
   "cell_type": "markdown",
   "metadata": {},
   "source": [
    "## Detailed Explanation\n",
    "1. Base case: if node is None or node equals p or q, return node.\n",
    "2. Recurse on left and right children.\n",
    "3. If both recursive calls return non-null, current node is LCA.\n",
    "4. Otherwise, return whichever side is non-null (meaning both nodes are in that subtree or one is in subtree and other is current node).\n",
    "5. Complexity: O(n) visiting each node once; O(h) recursion stack."
   ]
  },
  {
   "cell_type": "markdown",
   "metadata": {},
   "source": [
    "## Complexity Trade-off Table\n",
    "| Approach | Time | Space | Notes |\n",
    "| --- | --- | --- | --- |\n",
    "| Recursive DFS | O(n) | O(h) | Straightforward, h = tree height |\n",
    "| Parent pointers + traversal | O(n) | O(n) | Compute parent map, trace ancestors |\n",
    "| Binary lifting preprocessing | O(n log n) | O(n log n) | For multiple queries, preprocess ancestor table |"
   ]
  },
  {
   "cell_type": "code",
   "execution_count": null,
   "metadata": {},
   "outputs": [],
   "source": [
    "from typing import Optional\n\n",
    "class TreeNode:\n",
    "    def __init__(self, val: int = 0, left: Optional['TreeNode'] = None, right: Optional['TreeNode'] = None):\n",
    "        self.val = val\n",
    "        self.left = left\n",
    "        self.right = right\n\n",
    "class Solution:\n",
    "    def lowestCommonAncestor(self, root: Optional[TreeNode], p: TreeNode, q: TreeNode) -> Optional[TreeNode]:\n",
    "        if not root or root is p or root is q:\n",
    "            return root\n",
    "        left = self.lowestCommonAncestor(root.left, p, q)\n",
    "        right = self.lowestCommonAncestor(root.right, p, q)\n",
    "        if left and right:\n",
    "            return root\n",
    "        return left if left else right"
   ]
  },
  {
   "cell_type": "code",
   "execution_count": null,
   "metadata": {
    "tags": [
     "validation"
    ]
   },
   "outputs": [],
   "source": [
    "from collections import deque\n\n",
    "def build_tree(arr):\n",
    "    if not arr:\n",
    "        return None\n",
    "    nodes = [TreeNode(val) if val is not None else None for val in arr]\n",
    "    kids = deque(nodes[1:])\n",
    "    for node in nodes:\n",
    "        if node:\n",
    "            if kids:\n",
    "                node.left = kids.popleft()\n",
    "            if kids:\n",
    "                node.right = kids.popleft()\n",
    "    return nodes[0]\n\n",
    "def find_node(root, val):\n",
    "    stack = [root]\n",
    "    while stack:\n",
    "        node = stack.pop()\n",
    "        if not node:\n",
    "            continue\n",
    "        if node.val == val:\n",
    "            return node\n",
    "        stack.append(node.left)\n",
    "        stack.append(node.right)\n",
    "    return None\n\n",
    "tests = [\n",
    "    ([3,5,1,6,2,0,8,None,None,7,4], 5, 1, 3),\n",
    "    ([3,5,1,6,2,0,8,None,None,7,4], 5, 4, 5),\n",
    "    ([1,2], 1, 2, 1)\n",
    "]\n",
    "solver = Solution()\n",
    "for tree_vals, pv, qv, expected in tests:\n",
    "    root = build_tree(tree_vals)\n",
    "    p = find_node(root, pv)\n",
    "    q = find_node(root, qv)\n",
    "    result = solver.lowestCommonAncestor(root, p, q)\n",
    "    assert result and result.val == expected\n",
    "print('All tests passed.')"
   ]
  },
  {
   "cell_type": "markdown",
   "metadata": {},
   "source": [
    "## Complexity Analysis\n",
    "- Time: O(n) visiting every node at most once.\n",
    "- Space: O(h) recursion stack depth, h is tree height."
   ]
  },
  {
   "cell_type": "markdown",
   "metadata": {},
   "source": [
    "## Edge Cases & Pitfalls\n",
    "- Ensure nodes p, q exist in the tree; LeetCode guarantees this.\n",
    "- Tree may be skewed (degenerate), causing recursion depth ~ n; Python handles typical constraints but watch for > 1000 depth.\n",
    "- When p == q, immediately return that node."
   ]
  },
  {
   "cell_type": "markdown",
   "metadata": {},
   "source": [
    "## Follow-up Variants\n",
    "- Support multiple queries efficiently by preprocessing binary lifting tables.\n",
    "- Extend to forests or DAGs where nodes may have multiple parents.\n",
    "- Return path length or distance instead of just the ancestor."
   ]
  },
  {
   "cell_type": "markdown",
   "metadata": {},
   "source": [
    "## Takeaways\n",
    "- DFS naturally surfaces the lowest node containing both targets.\n",
    "- Recursion base cases must cover None and direct matches.\n",
    "- Reusing helper builders accelerates local validation."
   ]
  },
  {
   "cell_type": "markdown",
   "metadata": {},
   "source": [
    "## Similar Problems\n",
    "| Problem ID | Problem Title | Technique |\n",
    "| --- | --- | --- |\n",
    "| LC 235 | Lowest Common Ancestor of a BST | DFS leveraging BST property |\n",
    "| LC 1123 | Lowest Common Ancestor of Deepest Leaves | DFS with depth tracking |\n",
    "| LC 865 | Smallest Subtree with all the Deepest Nodes | DFS returning depth + node |"
   ]
  }
 ],
 "metadata": {
  "kernelspec": {
   "display_name": "Python 3",
   "language": "python",
   "name": "python3"
  },
  "language_info": {
   "name": "python",
   "version": "3.10"
  }
 },
 "nbformat": 4,
 "nbformat_minor": 5
}