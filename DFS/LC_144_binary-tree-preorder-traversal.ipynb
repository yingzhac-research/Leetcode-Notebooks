{
 "cells": [
  {
   "cell_type": "markdown",
   "metadata": {},
   "source": [
    "# 144. Binary Tree Preorder Traversal"
   ]
  },
  {
   "cell_type": "markdown",
   "metadata": {},
   "source": [
    "## Topic Alignment\n",
    "- Iterative preorder is useful for serializing trees or generating prefix expressions without recursion."
   ]
  },
  {
   "cell_type": "markdown",
   "metadata": {},
   "source": [
    "## Metadata 摘要\n",
    "- Source: https://leetcode.com/problems/binary-tree-preorder-traversal/\n",
    "- Tags: Tree, DFS, Stack\n",
    "- Difficulty: Easy\n",
    "- Priority: Medium"
   ]
  },
  {
   "cell_type": "markdown",
   "metadata": {},
   "source": [
    "## Problem Statement 原题描述\n",
    "Given the root of a binary tree, return the preorder traversal of its nodes' values."
   ]
  },
  {
   "cell_type": "markdown",
   "metadata": {},
   "source": [
    "## Progressive Hints\n",
    "- Hint 1: Preorder visits node, then left, then right.\n",
    "- Hint 2: Use stack; push right child first so left is processed next.\n",
    "- Hint 3: Continue until stack empty."
   ]
  },
  {
   "cell_type": "markdown",
   "metadata": {},
   "source": [
    "## Solution Overview\n",
    "Use stack initialized with root. While stack not empty, pop node, append value, push right child (if any) then left child (if any)."
   ]
  },
  {
   "cell_type": "markdown",
   "metadata": {},
   "source": [
    "## Detailed Explanation\n",
    "1. If root None, return [].\n",
    "2. Stack holds nodes to visit; append root.\n",
    "3. Pop node, append val. Push right, then left.\n",
    "4. Using LIFO ensures left subtree processed before right."
   ]
  },
  {
   "cell_type": "markdown",
   "metadata": {},
   "source": [
    "## Complexity Trade-off Table\n",
    "| Approach | Time | Space | Notes |\n",
    "| --- | --- | --- | --- |\n",
    "| Iterative stack | O(n) | O(n) | Avoid recursion |\n",
    "| Recursive | O(n) | O(h) | Simple but risk deep recursion |"
   ]
  },
  {
   "cell_type": "code",
   "execution_count": null,
   "metadata": {},
   "outputs": [],
   "source": [
    "from typing import List, Optional\n\n",
    "class TreeNode:\n",
    "    def __init__(self, val: int = 0, left: Optional['TreeNode'] = None, right: Optional['TreeNode'] = None):\n",
    "        self.val = val\n",
    "        self.left = left\n",
    "        self.right = right\n\n",
    "class Solution:\n",
    "    def preorderTraversal(self, root: Optional[TreeNode]) -> List[int]:\n",
    "        if not root:\n",
    "            return []\n",
    "        stack = [root]\n",
    "        ans: List[int] = []\n",
    "        while stack:\n",
    "            node = stack.pop()\n",
    "            if not node:\n",
    "                continue\n",
    "            ans.append(node.val)\n",
    "            if node.right:\n",
    "                stack.append(node.right)\n",
    "            if node.left:\n",
    "                stack.append(node.left)\n",
    "        return ans"
   ]
  },
  {
   "cell_type": "code",
   "execution_count": null,
   "metadata": {
    "tags": [
     "validation"
    ]
   },
   "outputs": [],
   "source": [
    "def build_tree(values: List[Optional[int]]) -> Optional[TreeNode]:\n",
    "    if not values:\n",
    "        return None\n",
    "    nodes = [TreeNode(v) if v is not None else None for v in values]\n",
    "    kids = nodes[::-1]\n",
    "    root = kids.pop()\n",
    "    for node in nodes:\n",
    "        if node:\n",
    "            if kids:\n",
    "                node.left = kids.pop()\n",
    "            if kids:\n",
    "                node.right = kids.pop()\n",
    "    return root\n\n",
    "tests = [\n",
    "    ([1,None,2,3], [1,2,3]),\n",
    "    ([], []),\n",
    "    ([1], [1])\n",
    "]\n",
    "solver = Solution()\n",
    "for arr, expected in tests:\n",
    "    assert solver.preorderTraversal(build_tree(arr)) == expected\n",
    "print('All tests passed.')"
   ]
  },
  {
   "cell_type": "markdown",
   "metadata": {},
   "source": [
    "## Complexity Analysis\n",
    "- Time: O(n).\n",
    "- Space: O(h) worst-case O(n) due to stack."
   ]
  },
  {
   "cell_type": "markdown",
   "metadata": {},
   "source": [
    "## Edge Cases & Pitfalls\n",
    "- Remember to push right before left to maintain preorder.\n",
    "- Handle empty tree; stack should start empty and return [].\n",
    "- Avoid using recursion to maintain iterative pattern."
   ]
  },
  {
   "cell_type": "markdown",
   "metadata": {},
   "source": [
    "## Follow-up Variants\n",
    "- Convert to generator returning nodes on demand.\n",
    "- Extend to iterative preorder for N-ary trees by pushing children reversed.\n",
    "- Combine with stack-based inorder to reconstruct tree from traversals."
   ]
  },
  {
   "cell_type": "markdown",
   "metadata": {},
   "source": [
    "## Takeaways\n",
    "- Iterative preorder is simple: pop, visit, push right, push left.\n",
    "- Works as foundation for tree serialization (prefix).\n",
    "- Stacks provide fine-grained control over traversal order."
   ]
  },
  {
   "cell_type": "markdown",
   "metadata": {},
   "source": [
    "## Similar Problems\n",
    "| Problem ID | Problem Title | Technique |\n",
    "| --- | --- | --- |\n",
    "| LC 94 | Binary Tree Inorder Traversal | Iterative stack |\n",
    "| LC 145 | Binary Tree Postorder Traversal | Stack with visited flag |\n",
    "| LC 589 | N-ary Tree Preorder Traversal | Stack-based DFS |"
   ]
  }
 ],
 "metadata": {
  "kernelspec": {
   "display_name": "Python 3",
   "language": "python",
   "name": "python3"
  },
  "language_info": {
   "name": "python",
   "version": "3.10"
  }
 },
 "nbformat": 4,
 "nbformat_minor": 5
}