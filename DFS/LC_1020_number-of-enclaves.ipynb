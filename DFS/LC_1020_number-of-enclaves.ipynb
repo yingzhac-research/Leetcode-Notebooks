{
 "cells": [
  {
   "cell_type": "markdown",
   "metadata": {},
   "source": [
    "# 1020. Number of Enclaves"
   ]
  },
  {
   "cell_type": "markdown",
   "metadata": {},
   "source": [
    "## Topic Alignment\n",
    "- Identifying enclaves helps reason about isolated clusters in spatial data, such as offline regions in connectivity heatmaps."
   ]
  },
  {
   "cell_type": "markdown",
   "metadata": {},
   "source": [
    "## Metadata 摘要\n",
    "- Source: https://leetcode.com/problems/number-of-enclaves/\n",
    "- Tags: Grid, DFS\n",
    "- Difficulty: Medium\n",
    "- Priority: Medium"
   ]
  },
  {
   "cell_type": "markdown",
   "metadata": {},
   "source": [
    "## Problem Statement 原题描述\n",
    "You are given an n x m binary matrix grid. A move consists of walking from one cell to another 4-directionally adjacent cell. A land cell is a cell with value 1. Return the number of land cells in grid for which we cannot walk off the boundary of the grid starting from that cell."
   ]
  },
  {
   "cell_type": "markdown",
   "metadata": {},
   "source": [
    "## Progressive Hints\n",
    "- Hint 1: Lands on the boundary can reach the edge; mark all land cells connected to boundary via DFS.\n",
    "- Hint 2: After removing boundary-connected lands, count remaining land cells.\n",
    "- Hint 3: Mutate grid or track visited to avoid recounting."
   ]
  },
  {
   "cell_type": "markdown",
   "metadata": {},
   "source": [
    "## Solution Overview\n",
    "Use DFS flood fill starting from boundary land cells to mark them as water (or visited). After this pass, iterate grid and count land cells that remain; they represent enclaves."
   ]
  },
  {
   "cell_type": "markdown",
   "metadata": {},
   "source": [
    "## Detailed Explanation\n",
    "1. Determine dimensions n, m.\n",
    "2. DFS each boundary cell (first/last row or column) if it's land, marking connected lands as water.\n",
    "3. After flood fill, iterate through grid counting cells still equal to 1.\n",
    "4. Complexity O(nm)."
   ]
  },
  {
   "cell_type": "markdown",
   "metadata": {},
   "source": [
    "## Complexity Trade-off Table\n",
    "| Approach | Time | Space | Notes |\n",
    "| --- | --- | --- | --- |\n",
    "| DFS from boundary | O(nm) | O(nm) | Mutates grid to eliminate reachable lands |\n",
    "| BFS from boundary | O(nm) | O(nm) | Equivalent using queue |\n",
    "| DSU grouping | O(nm α(nm)) | O(nm) | More complex, unnecessary here |"
   ]
  },
  {
   "cell_type": "code",
   "execution_count": null,
   "metadata": {},
   "outputs": [],
   "source": [
    "from typing import List\n\n",
    "class Solution:\n",
    "    def numEnclaves(self, grid: List[List[int]]) -> int:\n",
    "        if not grid or not grid[0]:\n",
    "            return 0\n",
    "        rows, cols = len(grid), len(grid[0])\n",
    "        dirs = [(1,0),(-1,0),(0,1),(0,-1)]\n",
    "        def dfs(r: int, c: int) -> None:\n",
    "            if r < 0 or c < 0 or r >= rows or c >= cols or grid[r][c] == 0:\n",
    "                return\n",
    "            grid[r][c] = 0\n",
    "            for dr, dc in dirs:\n",
    "                dfs(r + dr, c + dc)\n",
    "        for r in range(rows):\n",
    "            if grid[r][0] == 1:\n",
    "                dfs(r, 0)\n",
    "            if grid[r][cols - 1] == 1:\n",
    "                dfs(r, cols - 1)\n",
    "        for c in range(cols):\n",
    "            if grid[0][c] == 1:\n",
    "                dfs(0, c)\n",
    "            if grid[rows - 1][c] == 1:\n",
    "                dfs(rows - 1, c)\n",
    "        return sum(grid[r][c] for r in range(rows) for c in range(cols))"
   ]
  },
  {
   "cell_type": "code",
   "execution_count": null,
   "metadata": {
    "tags": [
     "validation"
    ]
   },
   "outputs": [],
   "source": [
    "tests = [\n",
    "    ([[0,0,0,0],[1,0,1,0],[0,1,1,0],[0,0,0,0]], 3),\n",
    "    ([[0,1,1,0],[0,0,1,0],[0,0,1,0],[0,0,0,0]], 0),\n",
    "    ([[1]], 0)\n",
    "]\n",
    "solver = Solution()\n",
    "for grid, expected in tests:\n",
    "    grid_copy = [row[:] for row in grid]\n",
    "    assert solver.numEnclaves(grid_copy) == expected\n",
    "print('All tests passed.')"
   ]
  },
  {
   "cell_type": "markdown",
   "metadata": {},
   "source": [
    "## Complexity Analysis\n",
    "- Time: O(nm).\n",
    "- Space: O(nm) recursion depth worst case."
   ]
  },
  {
   "cell_type": "markdown",
   "metadata": {},
   "source": [
    "## Edge Cases & Pitfalls\n",
    "- Single-cell islands on boundary should be removed.\n",
    "- Avoid double-counting by mutating grid to 0 during DFS.\n",
    "- Ensure loops cover all boundary rows and columns."
   ]
  },
  {
   "cell_type": "markdown",
   "metadata": {},
   "source": [
    "## Follow-up Variants\n",
    "- Return coordinates of enclave cells alongside count.\n",
    "- Support diagonal movement or custom adjacency definitions.\n",
    "- Stream updates to grid (land addition) and keep enclave count up to date."
   ]
  },
  {
   "cell_type": "markdown",
   "metadata": {},
   "source": [
    "## Takeaways\n",
    "- Boundary-first DFS pattern is common for isolating interior components.\n",
    "- Converting visited land to water simplifies final counting.\n",
    "- Approach parallels many flood-fill-based filters."
   ]
  },
  {
   "cell_type": "markdown",
   "metadata": {},
   "source": [
    "## Similar Problems\n",
    "| Problem ID | Problem Title | Technique |\n",
    "| --- | --- | --- |\n",
    "| LC 1254 | Number of Closed Islands | DFS on interior/boundary |\n",
    "| LC 130 | Surrounded Regions | DFS from boundary to preserve |\n",
    "| LC 695 | Max Area of Island | DFS area accumulation |"
   ]
  }
 ],
 "metadata": {
  "kernelspec": {
   "display_name": "Python 3",
   "language": "python",
   "name": "python3"
  },
  "language_info": {
   "name": "python",
   "version": "3.10"
  }
 },
 "nbformat": 4,
 "nbformat_minor": 5
}