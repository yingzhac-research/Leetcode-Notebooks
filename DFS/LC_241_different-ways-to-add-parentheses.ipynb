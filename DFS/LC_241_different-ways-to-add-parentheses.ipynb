{
 "cells": [
  {
   "cell_type": "markdown",
   "metadata": {},
   "source": [
    "# 241. Different Ways to Add Parentheses"
   ]
  },
  {
   "cell_type": "markdown",
   "metadata": {},
   "source": [
    "## Topic Alignment\n",
    "- Memoized divide-and-conquer mirrors expression evaluation planning in compilers or data query optimizers where sub-expression results get reused."
   ]
  },
  {
   "cell_type": "markdown",
   "metadata": {},
   "source": [
    "## Metadata 摘要\n",
    "- Source: https://leetcode.com/problems/different-ways-to-add-parentheses/\n",
    "- Tags: Divide and Conquer, DFS, Memoization\n",
    "- Difficulty: Medium\n",
    "- Priority: Medium"
   ]
  },
  {
   "cell_type": "markdown",
   "metadata": {},
   "source": [
    "## Problem Statement 原题描述\n",
    "Given a string expression of numbers and operators, return all possible results from computing all the different possible ways to group numbers and operators using parentheses."
   ]
  },
  {
   "cell_type": "markdown",
   "metadata": {},
   "source": [
    "## Progressive Hints\n",
    "- Hint 1: Every operator can serve as a split point between left and right sub-expressions.\n",
    "- Hint 2: Recursively compute all results for each side, then combine.\n",
    "- Hint 3: Memoize substring results to avoid exponential recomputation."
   ]
  },
  {
   "cell_type": "markdown",
   "metadata": {},
   "source": [
    "## Solution Overview\n",
    "Traverse expression, splitting on operators. For each operator, recursively evaluate left and right substrings (memoized). Combine results using the operator's arithmetic. If no operator exists in substring, parse it as integer."
   ]
  },
  {
   "cell_type": "markdown",
   "metadata": {},
   "source": [
    "## Detailed Explanation\n",
    "1. Memoize dfs(expr) where expr is substring.\n",
    "2. Iterate characters; when encountering '+', '-', or '*', split around index.\n",
    "3. Recursively get left and right result lists. Combine each pair using operator.\n",
    "4. If substring contains no operator, return [int(expr)].\n",
    "5. Memoization ensures each substring computed once."
   ]
  },
  {
   "cell_type": "markdown",
   "metadata": {},
   "source": [
    "## Complexity Trade-off Table\n",
    "| Approach | Time | Space | Notes |\n",
    "| --- | --- | --- | --- |\n",
    "| DFS + memoization | O(n * Catalan(n)) | O(n * Catalan(n)) | Reuses sub-expression results |\n",
    "| Plain recursion | Exponential | Exponential | Recomputes overlapping subproblems |"
   ]
  },
  {
   "cell_type": "code",
   "execution_count": null,
   "metadata": {},
   "outputs": [],
   "source": [
    "from functools import lru_cache\n",
    "from operator import add, sub, mul\n",
    "from typing import List, Callable\n\n",
    "OPS: dict[str, Callable[[int, int], int]] = {\n",
    "    '+': add,\n",
    "    '-': sub,\n",
    "    '*': mul\n",
    "}\n\n",
    "class Solution:\n",
    "    def diffWaysToCompute(self, expression: str) -> List[int]:\n",
    "        @lru_cache(None)\n",
    "        def dfs(expr: str) -> List[int]:\n",
    "            results: List[int] = []\n",
    "            for i, ch in enumerate(expr):\n",
    "                if ch in OPS:\n",
    "                    left = dfs(expr[:i])\n",
    "                    right = dfs(expr[i + 1:])\n",
    "                    for a in left:\n",
    "                        for b in right:\n",
    "                            results.append(OPS[ch](a, b))\n",
    "            if not results:\n",
    "                results.append(int(expr))\n",
    "            return results\n",
    "        return dfs(expression)"
   ]
  },
  {
   "cell_type": "code",
   "execution_count": null,
   "metadata": {
    "tags": [
     "validation"
    ]
   },
   "outputs": [],
   "source": [
    "tests = [\n",
    "    ('2-1-1', {0, 2}),\n",
    "    ('2*3-4*5', {-34, -14, -10, -10, 10})\n",
    "]\n",
    "solver = Solution()\n",
    "for expr, expected in tests:\n",
    "    assert set(solver.diffWaysToCompute(expr)) == expected\n",
    "print('All tests passed.')"
   ]
  },
  {
   "cell_type": "markdown",
   "metadata": {},
   "source": [
    "## Complexity Analysis\n",
    "- Time: O(n * Catalan(n)) because each operator split yields combinations of sub-results.\n",
    "- Space: O(n * Catalan(n)) for memoized lists; recursion depth is O(n)."
   ]
  },
  {
   "cell_type": "markdown",
   "metadata": {},
   "source": [
    "## Edge Cases & Pitfalls\n",
    "- Multi-digit numbers must be parsed correctly; splitting arises only on operators.\n",
    "- Memo key should be substring or indices; slicing cost is acceptable at n <= 20.\n",
    "- Remember to include duplicate results when different parenthesizations yield the same value."
   ]
  },
  {
   "cell_type": "markdown",
   "metadata": {},
   "source": [
    "## Follow-up Variants\n",
    "- Support division/exponent operators and define result rounding.\n",
    "- Return expression strings alongside values.\n",
    "- Optimize using dynamic programming on index ranges instead of substring slicing."
   ]
  },
  {
   "cell_type": "markdown",
   "metadata": {},
   "source": [
    "## Takeaways\n",
    "- Memoization avoids exponential blow-up inherent to expression enumeration.\n",
    "- Operator dispatch tables keep combination logic concise.\n",
    "- The divide-and-conquer structure aligns with Catalan-number combinatorics."
   ]
  },
  {
   "cell_type": "markdown",
   "metadata": {},
   "source": [
    "## Similar Problems\n",
    "| Problem ID | Problem Title | Technique |\n",
    "| --- | --- | --- |\n",
    "| LC 95 | Unique Binary Search Trees II | Catalan recursion + memoization |\n",
    "| LC 1130 | Minimum Cost Tree From Leaf Values | DP / divide-and-conquer on intervals |\n",
    "| LC 282 | Expression Add Operators | DFS exploring operator placements |"
   ]
  }
 ],
 "metadata": {
  "kernelspec": {
   "display_name": "Python 3",
   "language": "python",
   "name": "python3"
  },
  "language_info": {
   "name": "python",
   "version": "3.10"
  }
 },
 "nbformat": 4,
 "nbformat_minor": 5
}