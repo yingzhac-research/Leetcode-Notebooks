{
 "cells": [
  {
   "cell_type": "markdown",
   "metadata": {},
   "source": [
    "# 46. Permutations"
   ]
  },
  {
   "cell_type": "markdown",
   "metadata": {},
   "source": [
    "## Topic Alignment\n",
    "- Enumerating permutations mirrors feature engineering choices like ordering transformations or scheduling data pipeline steps; DFS backtracking provides exhaustive yet structured exploration."
   ]
  },
  {
   "cell_type": "markdown",
   "metadata": {},
   "source": [
    "## Metadata 摘要\n",
    "- Source: https://leetcode.com/problems/permutations/\n",
    "- Tags: Backtracking, DFS\n",
    "- Difficulty: Medium\n",
    "- Priority: High"
   ]
  },
  {
   "cell_type": "markdown",
   "metadata": {},
   "source": [
    "## Problem Statement 原题描述\n",
    "Given an array nums of distinct integers, return all the possible permutations. You may return the answer in any order."
   ]
  },
  {
   "cell_type": "markdown",
   "metadata": {},
   "source": [
    "## Progressive Hints\n",
    "- Hint 1: Think of constructing permutations by fixing one position at a time.\n",
    "- Hint 2: Use a visited structure or in-place swapping to avoid reusing numbers.\n",
    "- Hint 3: Append a copy of the current path when its length equals len(nums)."
   ]
  },
  {
   "cell_type": "markdown",
   "metadata": {},
   "source": [
    "## Solution Overview\n",
    "Backtracking explores a decision tree where each level chooses one unused number. We maintain a path array representing the current partial permutation and a used flag array. When the path length matches the input size, it forms a full permutation that we record. After exploring a branch we backtrack by unmarking the chosen number."
   ]
  },
  {
   "cell_type": "markdown",
   "metadata": {},
   "source": [
    "## Detailed Explanation\n",
    "1. Initialize an empty list path and a boolean list used to track whether nums[i] is already in the path.\n",
    "2. Define backtrack() that checks if len(path) == len(nums). If so, append path.copy() to answers.\n",
    "3. Otherwise, iterate through indices. For each unused index i, mark used[i] = True, append nums[i] to path, recurse, then pop and reset used[i] = False.\n",
    "4. The recursion depth is len(nums), and each level fans out to remaining unused numbers, generating n! permutations.\n",
    "5. The runtime is O(n * n!) due to copying lists; memory is O(n) for recursion plus O(n * n!) to store results."
   ]
  },
  {
   "cell_type": "markdown",
   "metadata": {},
   "source": [
    "## Complexity Trade-off Table\n",
    "| Approach | Time | Space | Notes |\n",
    "| --- | --- | --- | --- |\n",
    "| Backtracking with used flags | O(n * n!) | O(n + n * n!) | Straightforward recursion and copying |\n",
    "| In-place swapping | O(n * n!) | O(n) | Avoids separate used array but mutates nums during recursion |"
   ]
  },
  {
   "cell_type": "code",
   "execution_count": null,
   "metadata": {},
   "outputs": [],
   "source": [
    "from typing import List\n\n",
    "class Solution:\n",
    "    def permute(self, nums: List[int]) -> List[List[int]]:\n",
    "        ans: List[List[int]] = []\n",
    "        path: List[int] = []\n",
    "        used = [False] * len(nums)\n",
    "        def backtrack() -> None:\n",
    "            if len(path) == len(nums):\n",
    "                ans.append(path.copy())\n",
    "                return\n",
    "            for i, value in enumerate(nums):\n",
    "                if used[i]:\n",
    "                    continue\n",
    "                used[i] = True\n",
    "                path.append(value)\n",
    "                backtrack()\n",
    "                path.pop()\n",
    "                used[i] = False\n",
    "        backtrack()\n",
    "        return ans"
   ]
  },
  {
   "cell_type": "code",
   "execution_count": null,
   "metadata": {
    "tags": [
     "validation"
    ]
   },
   "outputs": [],
   "source": [
    "tests = [\n",
    "    ([1,2,3], {\n",
    "        (1,2,3), (1,3,2), (2,1,3), (2,3,1), (3,1,2), (3,2,1)\n",
    "    }),\n",
    "    ([0,1], {(0,1), (1,0)}),\n",
    "    ([1], {(1,)})\n",
    "]\n",
    "solver = Solution()\n",
    "for nums, expected in tests:\n",
    "    actual = solver.permute(nums)\n",
    "    assert {tuple(p) for p in actual} == expected\n",
    "print('All tests passed.')"
   ]
  },
  {
   "cell_type": "markdown",
   "metadata": {},
   "source": [
    "## Complexity Analysis\n",
    "- Time: O(n * n!) because the recursion explores every permutation and copies paths of length n.\n",
    "- Space: O(n) recursion stack and used array; plus O(n * n!) output storage."
   ]
  },
  {
   "cell_type": "markdown",
   "metadata": {},
   "source": [
    "## Edge Cases & Pitfalls\n",
    "- Ensure you append a copy of path, not the reference, before backtracking.\n",
    "- Input may contain up to 6 elements per LeetCode constraints; factorial growth is manageable but still heavy.\n",
    "- Since all numbers are distinct, no duplicate filtering is required; reuse this template with extra checks for repeated elements."
   ]
  },
  {
   "cell_type": "markdown",
   "metadata": {},
   "source": [
    "## Follow-up Variants\n",
    "- If nums contains duplicates, how do you avoid generating duplicate permutations?\n",
    "- How would you stream permutations in lexicographic order without storing all of them?\n",
    "- Can you adapt the approach to generate k-th permutation directly without enumerating all?"
   ]
  },
  {
   "cell_type": "markdown",
   "metadata": {},
   "source": [
    "## Takeaways\n",
    "- Backtracking naturally models decision trees with reversible choices.\n",
    "- Tracking used elements ensures each branch respects constraints.\n",
    "- Copying state prior to backtracking is necessary to avoid aliasing issues."
   ]
  },
  {
   "cell_type": "markdown",
   "metadata": {},
   "source": [
    "## Similar Problems\n",
    "| Problem ID | Problem Title | Technique |\n",
    "| --- | --- | --- |\n",
    "| LC 47 | Permutations II | Backtracking with duplicate pruning |\n",
    "| LC 77 | Combinations | DFS with early stopping |\n",
    "| LC 78 | Subsets | DFS generating power set |"
   ]
  }
 ],
 "metadata": {
  "kernelspec": {
   "display_name": "Python 3",
   "language": "python",
   "name": "python3"
  },
  "language_info": {
   "name": "python",
   "version": "3.10"
  }
 },
 "nbformat": 4,
 "nbformat_minor": 5
}