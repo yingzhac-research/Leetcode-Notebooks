{
 "cells": [
  {
   "cell_type": "markdown",
   "id": "33567bcf",
   "metadata": {},
   "source": [
    "# 464. Can I Win"
   ]
  },
  {
   "cell_type": "markdown",
   "id": "8209e57f",
   "metadata": {},
   "source": [
    "## Topic Alignment\n",
    "- Memoized DFS mirrors game-theoretic planning for resource allocation where state reuse avoids exponential blow-up."
   ]
  },
  {
   "cell_type": "markdown",
   "id": "5920decc",
   "metadata": {},
   "source": [
    "## Metadata 摘要\n",
    "- Source: https://leetcode.com/problems/can-i-win/\n",
    "- Tags: Game Theory, DFS, Memoization, Bitmask\n",
    "- Difficulty: Medium\n",
    "- Priority: High"
   ]
  },
  {
   "cell_type": "markdown",
   "id": "4344f3d9",
   "metadata": {},
   "source": [
    "## Problem Statement 原题描述\n",
    "Two players alternately choose integers from 1 to maxChoosableInteger without reuse. The running total increases by the chosen value, and the player whose move reaches or exceeds desiredTotal wins. Determine if the first player can force a win with optimal play."
   ]
  },
  {
   "cell_type": "markdown",
   "id": "6279b0d4",
   "metadata": {},
   "source": [
    "## Progressive Hints\n",
    "- Hint 1: If the sum of all numbers is less than desiredTotal, the first player cannot win.\n",
    "- Hint 2: Use bitmasks to represent which numbers are already taken.\n",
    "- Hint 3: A state is winning if any available move leads the opponent to a losing state."
   ]
  },
  {
   "cell_type": "markdown",
   "id": "023cb573",
   "metadata": {},
   "source": [
    "## Solution Overview\n",
    "Define dfs(mask, remaining) which returns True if the current player can force a win with the remaining total and already-used numbers encoded in mask. Iterate through numbers 1..max; if a number is unused and reaches remaining or leads to opponent failure, current state wins. Memoize results by mask and remaining to avoid recomputation."
   ]
  },
  {
   "cell_type": "markdown",
   "id": "30cbc0c7",
   "metadata": {},
   "source": [
    "## Detailed Explanation\n",
    "1. Handle trivial cases: desiredTotal <= 0 => True; if total sum of range is less than desiredTotal => False.\n",
    "2. Use functools.lru_cache to memoize dfs(mask, remaining).\n",
    "3. For each number i from 1..maxChoosableInteger, if unused (`mask & bit == 0`), check two winning conditions:\n",
    "   - i >= remaining (current player wins immediately).\n",
    "   - dfs(mask | bit, remaining - i) returns False (opponent cannot win).\n",
    "4. If no winning move exists, state is losing. Complexity is limited by 2^max states, with max <= 20."
   ]
  },
  {
   "cell_type": "markdown",
   "id": "169bc512",
   "metadata": {},
   "source": [
    "## Complexity Trade-off Table\n",
    "| Approach | Time | Space | Notes |\n",
    "| --- | --- | --- | --- |\n",
    "| DFS + memo (bitmask) | O(2^{max} * max) | O(2^{max}) | Practical for max ≤ 20 |\n",
    "| Plain minimax without memo | Exponential | Exponential | Recomputes identical states repeatedly |"
   ]
  },
  {
   "cell_type": "code",
   "execution_count": null,
   "id": "c33630ef",
   "metadata": {},
   "outputs": [],
   "source": [
    "from functools import lru_cache\n",
    "\n",
    "class Solution:\n",
    "    def canIWin(self, maxChoosableInteger: int, desiredTotal: int) -> bool:\n",
    "        if desiredTotal <= 0:\n",
    "            return True\n",
    "        total_sum = maxChoosableInteger * (maxChoosableInteger + 1) // 2\n",
    "        if total_sum < desiredTotal:\n",
    "            return False\n",
    "        @lru_cache(None)\n",
    "        def dfs(mask: int, remaining: int) -> bool:\n",
    "            for i in range(1, maxChoosableInteger + 1):\n",
    "                bit = 1 << (i - 1)\n",
    "                if mask & bit:\n",
    "                    continue\n",
    "                if i >= remaining:\n",
    "                    return True\n",
    "                if not dfs(mask | bit, remaining - i):\n",
    "                    return True\n",
    "            return False\n",
    "        return dfs(0, desiredTotal)"
   ]
  },
  {
   "cell_type": "code",
   "execution_count": null,
   "id": "4aeab312",
   "metadata": {
    "tags": [
     "validation"
    ]
   },
   "outputs": [],
   "source": [
    "tests = [\n",
    "    ((10, 11), False),\n",
    "    ((10, 0), True),\n",
    "    ((5, 6), True),\n",
    "    ((20, 210), False)\n",
    "]\n",
    "solver = Solution()\n",
    "for params, expected in tests:\n",
    "    assert solver.canIWin(*params) == expected\n",
    "print('All tests passed.')"
   ]
  },
  {
   "cell_type": "markdown",
   "id": "2c2512a7",
   "metadata": {},
   "source": [
    "## Complexity Analysis\n",
    "- Time: O(2^{max} * max). Many states prune early due to quick wins.\n",
    "- Space: O(2^{max}) memo entries plus recursion depth up to max."
   ]
  },
  {
   "cell_type": "markdown",
   "id": "ccb06408",
   "metadata": {},
   "source": [
    "## Edge Cases & Pitfalls\n",
    "- Always check if total_sum < desiredTotal before recursing; otherwise you may waste time.\n",
    "- Use bitmask for memo key; lists/tuples cause large memory overhead.\n",
    "- Python recursion depth easily handles <= 20 moves."
   ]
  },
  {
   "cell_type": "markdown",
   "id": "7036f747",
   "metadata": {},
   "source": [
    "## Follow-up Variants\n",
    "- Alter win condition to exact match (no overshoot) and adapt base cases.\n",
    "- Introduce penalties or rewards per move and compute optimal score difference.\n",
    "- Extend to three players by adding turn index into the memo state."
   ]
  },
  {
   "cell_type": "markdown",
   "id": "37cc3787",
   "metadata": {},
   "source": [
    "## Takeaways\n",
    "- Memoization turns exponential minimax into manageable complexity.\n",
    "- Bitmask state encoding is a standard trick for small maxChoosableInteger.\n",
    "- Early termination on guaranteed win/lose conditions saves time."
   ]
  },
  {
   "cell_type": "markdown",
   "id": "a1aef8bb",
   "metadata": {},
   "source": [
    "## Similar Problems\n",
    "| Problem ID | Problem Title | Technique |\n",
    "| --- | --- | --- |\n",
    "| LC 486 | Predict the Winner | Memoized minimax |\n",
    "| LC 877 | Stone Game | Game DP / memoization |\n",
    "| LC 698 | Partition to K Equal Sum Subsets | DFS + memo on bitmask |"
   ]
  }
 ],
 "metadata": {
  "kernelspec": {
   "display_name": "Python 3 (ipykernel)",
   "language": "python",
   "name": "python3"
  },
  "language_info": {
   "codemirror_mode": {
    "name": "ipython",
    "version": 3
   },
   "file_extension": ".py",
   "mimetype": "text/x-python",
   "name": "python",
   "nbconvert_exporter": "python",
   "pygments_lexer": "ipython3",
   "version": "3.13.3"
  }
 },
 "nbformat": 4,
 "nbformat_minor": 5
}