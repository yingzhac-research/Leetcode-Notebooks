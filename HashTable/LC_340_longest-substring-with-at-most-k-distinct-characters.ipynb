{
 "cells": [
  {
   "cell_type": "markdown",
   "metadata": {},
   "source": "# 340. Longest Substring with At Most K Distinct Characters"
  },
  {
   "cell_type": "markdown",
   "metadata": {},
   "source": "## Topic Alignment\n- **Role Relevance**: Captures scenarios where feature extraction pipelines must limit the variety of active tokens.\n- **Scenario**: Useful for enforcing bounded cardinality during streaming inference when only `k` feature groups can be loaded simultaneously."
  },
  {
   "cell_type": "markdown",
   "metadata": {},
   "source": "## Metadata Summary\n- Source: [LeetCode - Longest Substring with At Most K Distinct Characters](https://leetcode.com/problems/longest-substring-with-at-most-k-distinct-characters/)\n- Tags: `String`, `Sliding Window`, `Hash Table`\n- Difficulty: Hard\n- Recommended Priority: Medium"
  },
  {
   "cell_type": "markdown",
   "metadata": {},
   "source": "## Problem Statement\nGiven a string `s` and an integer `k`, return the length of the longest substring that contains at most `k` distinct characters."
  },
  {
   "cell_type": "markdown",
   "metadata": {},
   "source": "## Progressive Hints\n- Hint 1: Generalize the two distinct character solution by parameterizing the limit.\n- Hint 2: Maintain a hash map of counts for characters inside the window.\n- Hint 3: Shrink the window whenever the number of distinct characters exceeds `k`."
  },
  {
   "cell_type": "markdown",
   "metadata": {},
   "source": "## Solution Overview\nUse a sliding window with a hash map recording character frequencies. Expand the right pointer, and when the window holds more than `k` distinct characters, shrink from the left until the constraint is met again."
  },
  {
   "cell_type": "markdown",
   "metadata": {},
   "source": "## Detailed Explanation\n1. Handle `k == 0` by returning 0 immediately.\n2. Initialize `left = 0`, `best = 0`, and `counts = {}`.\n3. For each `right` index, increment the count of `s[right]`.\n4. While the number of keys in `counts` exceeds `k`, decrement `s[left]`, delete it when the count hits zero, and advance `left`.\n5. Update `best` using the current window length.\n6. Continue until the end of the string."
  },
  {
   "cell_type": "markdown",
   "metadata": {},
   "source": "## Complexity Trade-off Table\n| Approach | Time Complexity | Space Complexity | Notes |\n| --- | --- | --- | --- |\n| Brute-force all substrings | O(n^2) | O(1) | Fails for long inputs. |\n| Sliding window + hash map | O(n) | O(k) | Efficient, scales with limit `k`. |"
  },
  {
   "cell_type": "code",
   "metadata": {},
   "execution_count": null,
   "outputs": [],
   "source": "def lengthOfLongestSubstringKDistinct(s: str, k: int) -> int:\n    \"\"\"Return length of the longest substring containing at most k distinct characters.\"\"\"\n    if k == 0:\n        return 0\n    counts: dict[str, int] = {}\n    left = 0\n    best = 0\n\n    for right, char in enumerate(s):\n        counts[char] = counts.get(char, 0) + 1\n        while len(counts) > k:\n            left_char = s[left]\n            counts[left_char] -= 1\n            if counts[left_char] == 0:\n                del counts[left_char]\n            left += 1\n        best = max(best, right - left + 1)\n    return best\n"
  },
  {
   "cell_type": "markdown",
   "metadata": {},
   "source": "## Complexity Analysis\n- Time Complexity: `O(n)` since each index is visited at most twice.\n- Space Complexity: `O(k)` storing counts for at most `k` characters.\n- Bottleneck: Hash map maintenance; operations remain constant-time on average."
  },
  {
   "cell_type": "markdown",
   "metadata": {},
   "source": "## Edge Cases & Pitfalls\n- When `k` exceeds the number of distinct characters in `s`, the answer is `len(s)`.\n- An empty string returns 0 regardless of `k`.\n- Deleting characters from the map when counts drop to zero prevents stale entries."
  },
  {
   "cell_type": "markdown",
   "metadata": {},
   "source": "## Follow-up Variants\n- Emit the substring itself or all maximal substrings.\n- Apply weights or costs per character when shrinking the window.\n- Integrate with streaming inputs by maintaining a rolling window state."
  },
  {
   "cell_type": "markdown",
   "metadata": {},
   "source": "## Takeaways\n- Parameterizing the distinct character limit unifies many sliding-window problems.\n- Hash maps keep per-character counts precise without scanning the entire window.\n- The template scales to other bounded-distinct problems in data pipelines."
  },
  {
   "cell_type": "markdown",
   "metadata": {},
   "source": "## Similar Problems\n| Problem ID | Problem Title | Technique |\n| --- | --- | --- |\n| 159 | Longest Substring with At Most Two Distinct Characters | Sliding window + counts |\n| 3 | Longest Substring Without Repeating Characters | Sliding window uniqueness |\n| 340 | Longest Substring with At Most K Distinct Characters | Parameterized sliding window |"
  }
 ],
 "metadata": {
  "kernelspec": {
   "display_name": "Python 3",
   "language": "python",
   "name": "python3"
  },
  "language_info": {
   "name": "python",
   "version": "3"
  }
 },
 "nbformat": 4,
 "nbformat_minor": 5
}