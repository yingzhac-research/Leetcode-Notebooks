{
 "cells": [
  {
   "cell_type": "markdown",
   "metadata": {},
   "source": "# 27. Remove Element"
  },
  {
   "cell_type": "markdown",
   "metadata": {},
   "source": "## Topic Alignment\n- Combining hash tallies with write pointers keeps statistics for removed values while compacting the array.\n- Supports pipelines where filtered elements still need usage analytics (counts)."
  },
  {
   "cell_type": "markdown",
   "metadata": {},
   "source": "## Metadata 摘要\n- **Source**: [LeetCode](https://leetcode.com/problems/remove-element/)\n- **Tags**: Array, Hash Table, Two Pointers\n- **Difficulty**: Easy\n- **Priority**: Medium"
  },
  {
   "cell_type": "markdown",
   "metadata": {},
   "source": "## Problem Statement 原题描述\nGiven an integer array nums and an integer val, remove all occurrences of val in-place. The order of the remaining elements may change. Return the number of elements in nums that are not equal to val. The first k elements of nums should contain the final result."
  },
  {
   "cell_type": "markdown",
   "metadata": {},
   "source": "## Progressive Hints\n- **Hint 1**: 使用哈希表累积各值出现次数，同时在遇到 val 时跳过写入。\n- **Hint 2**: 写指针仅在写入非 val 时前进，确保前缀部分为保留元素。\n- **Hint 3**: 最终返回写指针即可表示有效长度。"
  },
  {
   "cell_type": "markdown",
   "metadata": {},
   "source": "## Solution Overview\nTrack value frequencies in a dictionary while streaming through the array; every non-target value is copied forward and contributes to the hash statistics."
  },
  {
   "cell_type": "markdown",
   "metadata": {},
   "source": "## Detailed Explanation\n\n1. 设写指针 write=0，并准备字典 stats 统计各值被处理次数。\n2. 遍历数组：若当前值等于目标 val，仅在 stats 中累加次数并继续；否则将其写入 `nums[write]`，更新 stats，并将 write 加一。\n3. 遍历结束后，前 write 个元素即为保留部分，stats 记录了所有值出现次数（包括被删除的目标值）。\n4. 返回 write 作为 k，剩余位置的值无须关心。"
  },
  {
   "cell_type": "markdown",
   "metadata": {},
   "source": "## Complexity Trade-off Table\n| Approach | Time | Space | Notes |\n| --- | --- | --- | --- |\n| 原地覆盖 + 统计字典 | O(n) | O(u) | 额外获取频次信息，方便监控。 |\n| 纯写指针 | O(n) | O(1) | 不需要额外统计时更轻量。 |\n| 末尾交换 | O(n) | O(1) | 允许打乱顺序，适合无序场景。 |"
  },
  {
   "cell_type": "code",
   "metadata": {},
   "execution_count": null,
   "outputs": [],
   "source": "from typing import List\n\n\ndef remove_element(nums: List[int], val: int) -> int:\n    stats: dict[int, int] = {}\n    write = 0\n    for num in nums:\n        stats[num] = stats.get(num, 0) + 1\n        if num == val:\n            continue\n        nums[write] = num\n        write += 1\n    return write\n\n\ndef run_tests() -> None:\n    tests = [\n        (([3, 2, 2, 3], 3), ([2, 2], 2)),\n        (([0, 1, 2, 2, 3, 0, 4, 2], 2), ([0, 1, 3, 0, 4], 5)),\n        (([], 0), ([], 0)),\n    ]\n    for (nums, target), (expected_prefix, expected_k) in tests:\n        k = remove_element(nums, target)\n        assert k == expected_k\n        assert nums[:k] == expected_prefix\n\n\nif __name__ == \"__main__\":\n    run_tests()"
  },
  {
   "cell_type": "markdown",
   "metadata": {},
   "source": "## Complexity Analysis\n- 单次遍历，hash 统计与写入均为 O(1) => O(n) 时间。\n- stats 存储不同值的频次 => O(u) 额外空间，u 为 distinct 数量。"
  },
  {
   "cell_type": "markdown",
   "metadata": {},
   "source": "## Edge Cases & Pitfalls\n- 当数组为空时返回 0。\n- val 不存在时应返回 len(nums)。\n- 全是 val 的数组应清空前缀并返回 0。"
  },
  {
   "cell_type": "markdown",
   "metadata": {},
   "source": "## Follow-up Variants\n- 如果需要同时统计每个值被删除的次数该如何输出？\n- 如何在流式数据中复用 stats 以监控删除率？"
  },
  {
   "cell_type": "markdown",
   "metadata": {},
   "source": "## Takeaways\n- 哈希统计可以在数据清洗阶段保留被删除项的洞察。\n- 写指针与哈希结合能兼顾调试与性能需求。"
  },
  {
   "cell_type": "markdown",
   "metadata": {},
   "source": "## Similar Problems\n| Problem ID | Problem Title | Technique |\n| --- | --- | --- |\n| 26 | Remove Duplicates from Sorted Array | Hash-marked compaction |\n| 283 | Move Zeroes | Stable overwrite |\n| 844 | Backspace String Compare | Streaming rewrite |"
  }
 ],
 "metadata": {
  "kernelspec": {
   "display_name": "Python 3",
   "language": "python",
   "name": "python3"
  },
  "language_info": {
   "name": "python",
   "version": "3.8"
  }
 },
 "nbformat": 4,
 "nbformat_minor": 5
}