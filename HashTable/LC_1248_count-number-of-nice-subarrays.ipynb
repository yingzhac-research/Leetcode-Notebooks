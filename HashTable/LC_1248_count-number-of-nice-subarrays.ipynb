{
 "cells": [
  {
   "cell_type": "markdown",
   "metadata": {},
   "source": "# 1248. Count Number of Nice Subarrays"
  },
  {
   "cell_type": "markdown",
   "metadata": {},
   "source": "## Topic Alignment\n- **Role Relevance**: Counting subarrays with exactly `k` events parallels identifying contiguous sessions with fixed anomaly counts.\n- **Scenario**: Useful for feature windows that demand a specific number of triggers or conversions."
  },
  {
   "cell_type": "markdown",
   "metadata": {},
   "source": "## Metadata Summary\n- Source: [LeetCode - Count Number of Nice Subarrays](https://leetcode.com/problems/count-number-of-nice-subarrays/)\n- Tags: `Array`, `Hash Table`, `Prefix Sum`\n- Difficulty: Medium\n- Recommended Priority: Medium"
  },
  {
   "cell_type": "markdown",
   "metadata": {},
   "source": "## Problem Statement\nGiven an array of integers `nums` and an integer `k`, return the number of nice subarrays. A nice subarray is one that contains exactly `k` odd numbers."
  },
  {
   "cell_type": "markdown",
   "metadata": {},
   "source": "## Progressive Hints\n- Hint 1: Treat odd numbers as `1` and even numbers as `0`.\n- Hint 2: The problem reduces to counting subarrays with sum `k`.\n- Hint 3: Use prefix sum counts similar to `Subarray Sum Equals K`."
  },
  {
   "cell_type": "markdown",
   "metadata": {},
   "source": "## Solution Overview\nConvert each number to its parity (odd = 1, even = 0), maintain prefix sums, and count subarrays summing to `k` using a hash map of prefix frequencies."
  },
  {
   "cell_type": "markdown",
   "metadata": {},
   "source": "## Detailed Explanation\n1. Initialize `counts` with `{0: 1}` and `prefix = 0`.\n2. Iterate through `nums`, adding `num % 2` to `prefix`.\n3. Add `counts[prefix - k]` to the total.\n4. Increment `counts[prefix]`.\n5. Return the total after the loop."
  },
  {
   "cell_type": "markdown",
   "metadata": {},
   "source": "## Complexity Trade-off Table\n| Approach | Time Complexity | Space Complexity | Notes |\n| --- | --- | --- | --- |\n| Sliding window | O(n) | O(1) | Works but requires careful double window logic. |\n| Prefix sum hash map | O(n) | O(n) | Straightforward and generalizable. |"
  },
  {
   "cell_type": "code",
   "metadata": {},
   "execution_count": null,
   "outputs": [],
   "source": "from collections import defaultdict\nfrom typing import List\n\n\ndef numberOfSubarrays(nums: List[int], k: int) -> int:\n    \"\"\"Count subarrays containing exactly k odd numbers using prefix sums.\"\"\"\n    counts = defaultdict(int)\n    counts[0] = 1\n    prefix = 0\n    total = 0\n\n    for value in nums:\n        prefix += value % 2  # Convert to parity.\n        total += counts[prefix - k]\n        counts[prefix] += 1\n    return total\n"
  },
  {
   "cell_type": "markdown",
   "metadata": {},
   "source": "## Complexity Analysis\n- Time Complexity: `O(n)` for one pass through the array.\n- Space Complexity: `O(n)` storing prefix counts.\n- Bottleneck: Hash map operations; remain constant on average."
  },
  {
   "cell_type": "markdown",
   "metadata": {},
   "source": "## Edge Cases & Pitfalls\n- When `k` exceeds the number of odd numbers, result is zero.\n- Large inputs require efficient dictionary operations; Python handles this well.\n- Ensure parity conversion uses modulus to avoid mistakes."
  },
  {
   "cell_type": "markdown",
   "metadata": {},
   "source": "## Follow-up Variants\n- Compute subarrays with at most `k` odd numbers using sliding windows.\n- Track subarrays for multiple `k` values simultaneously.\n- Extend to count subarrays with exactly `k` numbers satisfying other predicates."
  },
  {
   "cell_type": "markdown",
   "metadata": {},
   "source": "## Takeaways\n- Prefix-sum counting transforms parity problems into classic subarray-sum tasks.\n- Seed values in the map capture subarrays starting at index 0.\n- The method aligns with event-counting analyses in pipelines."
  },
  {
   "cell_type": "markdown",
   "metadata": {},
   "source": "## Similar Problems\n| Problem ID | Problem Title | Technique |\n| --- | --- | --- |\n| 560 | Subarray Sum Equals K | Prefix sum counting |\n| 930 | Binary Subarrays With Sum | Prefix parity counts |\n| 992 | Subarrays with K Different Integers | Sliding window counts |"
  }
 ],
 "metadata": {
  "kernelspec": {
   "display_name": "Python 3",
   "language": "python",
   "name": "python3"
  },
  "language_info": {
   "name": "python",
   "version": "3"
  }
 },
 "nbformat": 4,
 "nbformat_minor": 5
}