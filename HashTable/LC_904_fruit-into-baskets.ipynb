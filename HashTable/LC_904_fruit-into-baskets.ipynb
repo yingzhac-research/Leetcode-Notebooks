{
 "cells": [
  {
   "cell_type": "markdown",
   "id": "e2c860f9",
   "metadata": {},
   "source": [
    "# 904. Fruit Into Baskets"
   ]
  },
  {
   "cell_type": "markdown",
   "id": "e5732929",
   "metadata": {},
   "source": [
    "## Topic Alignment\n",
    "- **Role Relevance**: Managing small category budgets mirrors limiting concurrent feature families in deployment.\n",
    "- **Scenario**: Keeps only two most recent categories in view, akin to caching two feature namespaces during streaming inference."
   ]
  },
  {
   "cell_type": "markdown",
   "id": "487cda95",
   "metadata": {},
   "source": [
    "## Metadata Summary\n",
    "- Source: [LeetCode - Fruit Into Baskets](https://leetcode.com/problems/fruit-into-baskets/)\n",
    "- Tags: `Array`, `Sliding Window`, `Hash Table`\n",
    "- Difficulty: Medium\n",
    "- Recommended Priority: Medium"
   ]
  },
  {
   "cell_type": "markdown",
   "id": "598b5224",
   "metadata": {},
   "source": [
    "## Problem Statement\n",
    "You are given an integer array `fruits` where `fruits[i]` is the type of fruit on the `i`-th tree. You have two baskets, and each basket can only hold a single type of fruit. You want to pick as many fruits as possible while moving from left to right, picking at most one fruit from each tree. Return the maximum number of fruits you can pick."
   ]
  },
  {
   "cell_type": "markdown",
   "id": "d1de902e",
   "metadata": {},
   "source": [
    "## Progressive Hints\n",
    "- Hint 1: Use a sliding window to represent the range of trees picked.\n",
    "- Hint 2: Track fruit counts in the window using a hash map.\n",
    "- Hint 3: When more than two types appear, move the left pointer until only two remain."
   ]
  },
  {
   "cell_type": "markdown",
   "id": "47e9edc4",
   "metadata": {},
   "source": [
    "## Solution Overview\n",
    "Maintain a window representing the current contiguous segment of trees and a hash map counting fruit types within the window. Expand to the right, and shrink from the left whenever more than two types exist, updating the maximum length."
   ]
  },
  {
   "cell_type": "markdown",
   "id": "0870a24b",
   "metadata": {},
   "source": [
    "## Detailed Explanation\n",
    "1. Initialize `left = 0`, `best = 0`, and `counts = {}`.\n",
    "2. As `right` progresses, increment the count for `fruits[right]`.\n",
    "3. While `counts` contains more than two types, decrement `fruits[left]` and remove it when the count hits zero, then increment `left`.\n",
    "4. Update `best` with the window length `right - left + 1`.\n",
    "5. Return `best` after reaching the end."
   ]
  },
  {
   "cell_type": "markdown",
   "id": "aca3ecd3",
   "metadata": {},
   "source": [
    "## Complexity Trade-off Table\n",
    "| Approach | Time Complexity | Space Complexity | Notes |\n",
    "| --- | --- | --- | --- |\n",
    "| Try all segments | O(n^2) | O(1) | Too slow. |\n",
    "| Sliding window + hash map | O(n) | O(1) (max 3 entries) | Efficient; window maintains at most two fruit types. |"
   ]
  },
  {
   "cell_type": "code",
   "execution_count": null,
   "id": "c0ad9c5a",
   "metadata": {},
   "outputs": [],
   "source": [
    "from collections import defaultdict\n",
    "from typing import List\n",
    "\n",
    "\n",
    "def totalFruit(fruits: List[int]) -> int:\n",
    "    \"\"\"Return the maximum number of fruits picked with two basket types.\"\"\"\n",
    "    counts = defaultdict(int)\n",
    "    left = 0\n",
    "    best = 0\n",
    "\n",
    "    for right, fruit in enumerate(fruits):\n",
    "        counts[fruit] += 1\n",
    "        while len(counts) > 2:\n",
    "            left_fruit = fruits[left]\n",
    "            counts[left_fruit] -= 1\n",
    "            if counts[left_fruit] == 0:\n",
    "                del counts[left_fruit]\n",
    "            left += 1  # Shrink until only two types remain.\n",
    "        best = max(best, right - left + 1)\n",
    "    return best\n"
   ]
  },
  {
   "cell_type": "markdown",
   "id": "db0b45b8",
   "metadata": {},
   "source": [
    "## Complexity Analysis\n",
    "- Time Complexity: `O(n)` since each pointer traverses the array once.\n",
    "- Space Complexity: `O(1)` because at most three fruit types reside in the map simultaneously.\n",
    "- Bottleneck: Hash map updates per step, but they are constant-factor operations."
   ]
  },
  {
   "cell_type": "markdown",
   "id": "378de224",
   "metadata": {},
   "source": [
    "## Edge Cases & Pitfalls\n",
    "- Arrays shorter than two automatically succeed.\n",
    "- Repeated single-type arrays should return full length.\n",
    "- Removing fruit types from the map when counts hit zero is critical."
   ]
  },
  {
   "cell_type": "markdown",
   "id": "ea8bf088",
   "metadata": {},
   "source": [
    "## Follow-up Variants\n",
    "- Generalize to `k` baskets with at most `k` fruit types.\n",
    "- Track the actual fruits picked rather than just counts.\n",
    "- Handle streaming data by keeping a rolling window with identical logic."
   ]
  },
  {
   "cell_type": "markdown",
   "id": "ec8233c2",
   "metadata": {},
   "source": [
    "## Takeaways\n",
    "- Two-pointer windows plus hash maps manage bounded distinct counts gracefully.\n",
    "- Decrement-and-remove logic keeps memory footprint minimal.\n",
    "- Similar strategies apply to caching limited resource pools in production systems."
   ]
  },
  {
   "cell_type": "markdown",
   "id": "223669a0",
   "metadata": {},
   "source": [
    "## Similar Problems\n",
    "| Problem ID | Problem Title | Technique |\n",
    "| --- | --- | --- |\n",
    "| 159 | Longest Substring with At Most Two Distinct Characters | Sliding window + counts |\n",
    "| 340 | Longest Substring with At Most K Distinct Characters | Sliding window + hash map |\n",
    "| 1004 | Max Consecutive Ones III | Sliding window with constraint |"
   ]
  }
 ],
 "metadata": {
  "kernelspec": {
   "display_name": "Python 3 (ipykernel)",
   "language": "python",
   "name": "python3"
  },
  "language_info": {
   "codemirror_mode": {
    "name": "ipython",
    "version": 3
   },
   "file_extension": ".py",
   "mimetype": "text/x-python",
   "name": "python",
   "nbconvert_exporter": "python",
   "pygments_lexer": "ipython3",
   "version": "3.13.3"
  }
 },
 "nbformat": 4,
 "nbformat_minor": 5
}