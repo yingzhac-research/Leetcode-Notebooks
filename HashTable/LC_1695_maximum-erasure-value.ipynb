{
 "cells": [
  {
   "cell_type": "markdown",
   "metadata": {},
   "source": "# 1695. Maximum Erasure Value"
  },
  {
   "cell_type": "markdown",
   "metadata": {},
   "source": "## Topic Alignment\n- **Role Relevance**: Sliding windows with hash sets mimic maintaining unique feature batches while maximizing utility scores.\n- **Scenario**: Useful for deduplicating streaming IDs while preserving the highest cumulative value window."
  },
  {
   "cell_type": "markdown",
   "metadata": {},
   "source": "## Metadata Summary\n- Source: [LeetCode - Maximum Erasure Value](https://leetcode.com/problems/maximum-erasure-value/)\n- Tags: `Array`, `Sliding Window`, `Hash Table`\n- Difficulty: Medium\n- Recommended Priority: Medium"
  },
  {
   "cell_type": "markdown",
   "metadata": {},
   "source": "## Problem Statement\nYou are given an array of positive integers `nums`. Erase a subarray containing unique elements, and the score is the sum of the erased subarray. Return the maximum score you can achieve."
  },
  {
   "cell_type": "markdown",
   "metadata": {},
   "source": "## Progressive Hints\n- Hint 1: Maintain a sliding window with a hash set tracking unique elements.\n- Hint 2: Keep the running sum of the window as you expand and shrink.\n- Hint 3: When a duplicate occurs, move the left pointer forward until the duplicate is removed."
  },
  {
   "cell_type": "markdown",
   "metadata": {},
   "source": "## Solution Overview\nUse a sliding window with a hash set to ensure uniqueness. Maintain the current window sum and update the maximum whenever the window remains duplicate-free."
  },
  {
   "cell_type": "markdown",
   "metadata": {},
   "source": "## Detailed Explanation\n1. Initialize `left = 0`, `current_sum = 0`, `best = 0`, and an empty set `window`.\n2. Iterate `right` over the array. For each value, shrink the window from the left while the value already exists in the set, updating the sum and removing elements.\n3. Add the new value to the set and increment `current_sum`.\n4. Update `best` as the maximum of itself and `current_sum`.\n5. Continue until the end and return `best`."
  },
  {
   "cell_type": "markdown",
   "metadata": {},
   "source": "## Complexity Trade-off Table\n| Approach | Time Complexity | Space Complexity | Notes |\n| --- | --- | --- | --- |\n| Enumerate all unique subarrays | O(n^2) | O(n) | Too slow. |\n| Sliding window + hash set | O(n) | O(n) | Efficient; ensures uniqueness on the fly. |"
  },
  {
   "cell_type": "code",
   "metadata": {},
   "execution_count": null,
   "outputs": [],
   "source": "from typing import List\n\n\ndef maximumUniqueSubarray(nums: List[int]) -> int:\n    \"\"\"Return the maximum sum of a subarray with all unique elements.\"\"\"\n    seen: set[int] = set()\n    left = 0\n    current_sum = 0\n    best = 0\n\n    for right, value in enumerate(nums):\n        while value in seen:\n            seen.remove(nums[left])\n            current_sum -= nums[left]\n            left += 1  # Shrink until the duplicate is removed.\n        seen.add(value)\n        current_sum += value\n        best = max(best, current_sum)\n    return best\n"
  },
  {
   "cell_type": "markdown",
   "metadata": {},
   "source": "## Complexity Analysis\n- Time Complexity: `O(n)` because each element enters and leaves the window at most once.\n- Space Complexity: `O(n)` storing the unique elements in the current window.\n- Bottleneck: Hash set operations; average constant-time per update."
  },
  {
   "cell_type": "markdown",
   "metadata": {},
   "source": "## Edge Cases & Pitfalls\n- All numbers equal means the best score is the value of a single element.\n- Large arrays still run in linear time thanks to the two-pointer design.\n- Ensure `current_sum` updates correctly when shrinking."
  },
  {
   "cell_type": "markdown",
   "metadata": {},
   "source": "## Follow-up Variants\n- Track the indices of the optimal window for further processing.\n- Allow at most one duplicate by adjusting the removal logic.\n- Apply weights or decay factors to values when summing."
  },
  {
   "cell_type": "markdown",
   "metadata": {},
   "source": "## Takeaways\n- Hash sets integrate naturally with sliding windows to maintain uniqueness.\n- Maintaining a running sum avoids recomputing when the window grows or shrinks.\n- The approach fits deduplication tasks in data ingestion pipelines."
  },
  {
   "cell_type": "markdown",
   "metadata": {},
   "source": "## Similar Problems\n| Problem ID | Problem Title | Technique |\n| --- | --- | --- |\n| 3 | Longest Substring Without Repeating Characters | Sliding window + set |\n| 1004 | Max Consecutive Ones III | Sliding window constraint |\n| 159 | Longest Substring with At Most Two Distinct Characters | Sliding window + counts |"
  }
 ],
 "metadata": {
  "kernelspec": {
   "display_name": "Python 3",
   "language": "python",
   "name": "python3"
  },
  "language_info": {
   "name": "python",
   "version": "3"
  }
 },
 "nbformat": 4,
 "nbformat_minor": 5
}