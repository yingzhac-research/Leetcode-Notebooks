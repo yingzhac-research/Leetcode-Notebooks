{
 "cells": [
  {
   "cell_type": "markdown",
   "id": "61eeab5c",
   "metadata": {},
   "source": [
    "# 734. Sentence Similarity\n"
   ]
  },
  {
   "cell_type": "markdown",
   "id": "9c2c1091",
   "metadata": {},
   "source": [
    "## Topic Alignment\n",
    "- MLE Connection: Synonym lookup is central to NLP preprocessing and semantic matching.\n",
    "- Hash Table Role: Build an undirected adjacency list from word pairs for O(1) similarity checks.\n",
    "- Interview Angle: Combines graph thinking with straightforward hash-based lookups.\n"
   ]
  },
  {
   "cell_type": "markdown",
   "id": "71486eae",
   "metadata": {},
   "source": [
    "## Metadata Summary\n",
    "- Source: https://leetcode.com/problems/sentence-similarity/\n",
    "- Tags: Hash Table, Graph, String\n",
    "- Difficulty: Easy\n",
    "- Recommended Review Priority: Low\n"
   ]
  },
  {
   "cell_type": "markdown",
   "id": "eacc8918",
   "metadata": {},
   "source": [
    "## Problem Statement\n",
    "Given two sentences sentence1 and sentence2 each represented as a list of words, and a list of pairs of similar words, determine if the two sentences are similar. Two sentences are similar if they have the same length and each pair of corresponding words is either identical or appears as a pair (in either order) in the similarity list. Similarity is not transitive beyond the provided pairs.\n"
   ]
  },
  {
   "cell_type": "markdown",
   "id": "a1f86741",
   "metadata": {},
   "source": [
    "## Progressive Hints\n",
    "- Hint 1: Sentence similarity only cares about aligned word positions.\n",
    "- Hint 2: Construct a hash map from each word to the set of words it is similar to.\n",
    "- Hint 3: When comparing the sentences, check identical words first, then consult the adjacency map.\n"
   ]
  },
  {
   "cell_type": "markdown",
   "id": "9f606e93",
   "metadata": {},
   "source": [
    "## Solution Overview\n",
    "Normalize the similarity pairs into an undirected adjacency mapping. Iterate through the sentences in parallel and verify each aligned pair is either identical or present in the adjacency sets.\n"
   ]
  },
  {
   "cell_type": "markdown",
   "id": "5279fb65",
   "metadata": {},
   "source": [
    "## Detailed Explanation\n",
    "1. If the sentences differ in length, they cannot be similar.\n",
    "2. Build a dictionary `neighbors` where `neighbors[a]` contains every word paired with `a`.\n",
    "3. For each index i, compare `w1 = sentence1[i]` and `w2 = sentence2[i]`:\n",
    "   - If they are equal, continue.\n",
    "   - Otherwise, check whether `w2` is in `neighbors[w1]`.\n",
    "4. If any mismatch arises, return False. If the loop completes, return True.\n",
    "\n",
    "The mapping provides constant-time checks for direct similarity and respects the non-transitive constraint.\n"
   ]
  },
  {
   "cell_type": "markdown",
   "id": "8ce09cd2",
   "metadata": {},
   "source": [
    "## Complexity Trade-off Table\n",
    "| Approach | Time Complexity | Space Complexity |\n",
    "| --- | --- | --- |\n",
    "| Check each pair by scanning the list | O(n * m) | O(1) |\n",
    "| Hash map adjacency | O(n + m) | O(m) |\n"
   ]
  },
  {
   "cell_type": "markdown",
   "id": "98bfcb43",
   "metadata": {},
   "source": [
    "## Reference Implementation\n"
   ]
  },
  {
   "cell_type": "code",
   "execution_count": null,
   "id": "a57dced6",
   "metadata": {},
   "outputs": [],
   "source": [
    "from collections import defaultdict\n",
    "from typing import List\n",
    "\n",
    "\n",
    "class Solution:\n",
    "    def areSentencesSimilar(self, sentence1: List[str], sentence2: List[str], similarPairs: List[List[str]]) -> bool:\n",
    "        if len(sentence1) != len(sentence2):\n",
    "            return False\n",
    "\n",
    "        neighbors: defaultdict[str, set[str]] = defaultdict(set)\n",
    "        for a, b in similarPairs:\n",
    "            neighbors[a].add(b)\n",
    "            neighbors[b].add(a)\n",
    "\n",
    "        for w1, w2 in zip(sentence1, sentence2):\n",
    "            if w1 == w2:\n",
    "                continue\n",
    "            if w2 not in neighbors[w1]:\n",
    "                return False\n",
    "\n",
    "        return True\n"
   ]
  },
  {
   "cell_type": "markdown",
   "id": "41e5dece",
   "metadata": {},
   "source": [
    "## Complexity Analysis\n",
    "- Time Complexity: O(n + m) to build the adjacency map (m pairs) and scan n words.\n",
    "- Space Complexity: O(m) for storing similarity relationships.\n",
    "- Bottlenecks: Hash set membership checks dominate but stay constant time.\n"
   ]
  },
  {
   "cell_type": "markdown",
   "id": "dbcacade",
   "metadata": {},
   "source": [
    "## Edge Cases & Pitfalls\n",
    "- Similarity is not transitive; do not attempt union-find unless the problem variant requires it.\n",
    "- An empty similarity list means sentences must be identical word by word.\n",
    "- Store pairs in both directions to satisfy the symmetric similarity requirement.\n"
   ]
  },
  {
   "cell_type": "markdown",
   "id": "85d63420",
   "metadata": {},
   "source": [
    "## Follow-up Variants\n",
    "- Support transitive similarity by taking the transitive closure using BFS or Union-Find.\n",
    "- Handle multi-word phrases rather than individual tokens.\n",
    "- Return the first index of mismatch alongside the boolean result for debugging.\n"
   ]
  },
  {
   "cell_type": "markdown",
   "id": "14374b0b",
   "metadata": {},
   "source": [
    "## Takeaways\n",
    "- Adjacency maps allow constant-time membership checks for direct relationships.\n",
    "- Always interpret problem constraints literally; similarity is non-transitive here.\n",
    "- Preprocessing pairs before comparing sentences keeps the main loop simple.\n"
   ]
  },
  {
   "cell_type": "markdown",
   "id": "714b79f1",
   "metadata": {},
   "source": [
    "## Similar Problems\n",
    "| Problem ID | Problem Title | Technique |\n",
    "| --- | --- | --- |\n",
    "| 737 | Sentence Similarity II | Union-Find |\n",
    "| 205 | Isomorphic Strings | Bidirectional mapping |\n",
    "| 290 | Word Pattern | Hash-based alignment |\n"
   ]
  }
 ],
 "metadata": {
  "kernelspec": {
   "display_name": "Python 3 (ipykernel)",
   "language": "python",
   "name": "python3"
  },
  "language_info": {
   "codemirror_mode": {
    "name": "ipython",
    "version": 3
   },
   "file_extension": ".py",
   "mimetype": "text/x-python",
   "name": "python",
   "nbconvert_exporter": "python",
   "pygments_lexer": "ipython3",
   "version": "3.13.3"
  }
 },
 "nbformat": 4,
 "nbformat_minor": 5
}