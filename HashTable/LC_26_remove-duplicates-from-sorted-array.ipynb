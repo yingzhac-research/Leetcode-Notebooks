{
 "cells": [
  {
   "cell_type": "markdown",
   "metadata": {},
   "source": "# 26. Remove Duplicates from Sorted Array"
  },
  {
   "cell_type": "markdown",
   "metadata": {},
   "source": "## Topic Alignment\n- Value-to-index hashing helps surface dedup invariants that translate into stable compaction steps.\n- Records support pipelines where unique keys must be preserved while streaming data."
  },
  {
   "cell_type": "markdown",
   "metadata": {},
   "source": "## Metadata 摘要\n- **Source**: [LeetCode](https://leetcode.com/problems/remove-duplicates-from-sorted-array/)\n- **Tags**: Array, Hash Table, Two Pointers\n- **Difficulty**: Easy\n- **Priority**: High"
  },
  {
   "cell_type": "markdown",
   "metadata": {},
   "source": "## Problem Statement 原题描述\nGiven an integer array nums sorted in non-decreasing order, remove the duplicates in-place so that each unique element appears only once. The relative order of the elements should be kept the same. Because it is impossible to change the length of the array in place, you must place the result in the first part of the array nums. More formally, if there are k elements after removing the duplicates, then the first k elements of nums should hold the final result. Return k."
  },
  {
   "cell_type": "markdown",
   "metadata": {},
   "source": "## Progressive Hints\n- **Hint 1**: 哈希表可以帮助跟踪每个值是否已经写入，避免重复覆盖。\n- **Hint 2**: 利用数组有序性，首见元素即可直接写入前缀区域。\n- **Hint 3**: 维护写指针返回长度，同时保留字典以便调试统计。"
  },
  {
   "cell_type": "markdown",
   "metadata": {},
   "source": "## Solution Overview\nUse a dictionary to record whether a value has appeared; each new value is written to the next slot, yielding an in-place unique prefix while the hash map captures value-to-position mapping."
  },
  {
   "cell_type": "markdown",
   "metadata": {},
   "source": "## Detailed Explanation\n\n1. 初始化写指针 write=0，并准备字典 seen 记录每个值被写入的位置。\n2. 遍历数组：若当前数未出现在 seen 中，记录 `seen[val] = write`，并将其写到 `nums[write]`，随后 `write += 1`。\n3. 数组有序确保第一次见到的值就是该值的最终位置，后续重复值将被跳过。\n4. 遍历结束后，返回 write 作为唯一元素个数，前 write 个位置即为结果，其余位置值保持原样无影响。"
  },
  {
   "cell_type": "markdown",
   "metadata": {},
   "source": "## Complexity Trade-off Table\n| Approach | Time | Space | Notes |\n| --- | --- | --- | --- |\n| 使用集合/字典去重再写回 | O(n) | O(n) | 逻辑简单但额外空间较多。 |\n| 哈希标记 + 就地写入 | O(n) | O(n) | 保留哈希诊断信息，同时保持输出前缀正确。 |\n| 纯双指针 | O(n) | O(1) | 最优空间，但少了值到位置的映射调试信息。 |"
  },
  {
   "cell_type": "code",
   "metadata": {},
   "execution_count": null,
   "outputs": [],
   "source": "from typing import List\n\n\ndef remove_duplicates(nums: List[int]) -> int:\n    if not nums:\n        return 0\n    seen: dict[int, int] = {}\n    write = 0\n    for val in nums:\n        if val in seen:\n            continue\n        seen[val] = write\n        nums[write] = val\n        write += 1\n    return write\n\n\ndef run_tests() -> None:\n    tests = [\n        ([1, 1, 2], ([1, 2], 2)),\n        ([0, 0, 1, 1, 1, 2, 2, 3, 3, 4], ([0, 1, 2, 3, 4], 5)),\n        ([1], ([1], 1)),\n    ]\n    for nums, (expected_prefix, expected_k) in tests:\n        k = remove_duplicates(nums)\n        assert k == expected_k\n        assert nums[:k] == expected_prefix\n\n\nif __name__ == \"__main__\":\n    run_tests()"
  },
  {
   "cell_type": "markdown",
   "metadata": {},
   "source": "## Complexity Analysis\n- 字典与写指针各访问一次数组 => O(n) 时间。\n- seen 存储每个唯一值的位置 => O(u) 额外空间，u 为不同元素个数。"
  },
  {
   "cell_type": "markdown",
   "metadata": {},
   "source": "## Edge Cases & Pitfalls\n- 全是重复值时应返回 1 并保留首元素。\n- 单元素数组要直接返回 1。\n- 包含负数、零时逻辑不变。"
  },
  {
   "cell_type": "markdown",
   "metadata": {},
   "source": "## Follow-up Variants\n- 如何扩展到允许每个值最多出现 m 次？\n- 如果输入流按块刷新，如何在保留哈希的前提下进行增量更新？"
  },
  {
   "cell_type": "markdown",
   "metadata": {},
   "source": "## Takeaways\n- 哈希映射可以帮助调试和验证写入位置，尤其在复杂数据管道中。\n- 即使最终方案用双指针，理解值到位置的映射依然有助于分类总结。"
  },
  {
   "cell_type": "markdown",
   "metadata": {},
   "source": "## Similar Problems\n| Problem ID | Problem Title | Technique |\n| --- | --- | --- |\n| 80 | Remove Duplicates from Sorted Array II | Value-count tracking |\n| 27 | Remove Element | Selective overwrite |\n| 283 | Move Zeroes | Stable compaction |"
  }
 ],
 "metadata": {
  "kernelspec": {
   "display_name": "Python 3",
   "language": "python",
   "name": "python3"
  },
  "language_info": {
   "name": "python",
   "version": "3.8"
  }
 },
 "nbformat": 4,
 "nbformat_minor": 5
}