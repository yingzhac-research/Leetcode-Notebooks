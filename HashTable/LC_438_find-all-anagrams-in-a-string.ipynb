{
 "cells": [
  {
   "cell_type": "markdown",
   "id": "c7837de9",
   "metadata": {},
   "source": [
    "# 438. Find All Anagrams in a String"
   ]
  },
  {
   "cell_type": "markdown",
   "id": "78ac135d",
   "metadata": {},
   "source": [
    "## Topic Alignment\n",
    "- **Role Relevance**: Sliding windows with frequency maps underpin real-time feature matching in streaming ML systems.\n",
    "- **Scenario**: Detecting all anagrammatic substrings parallels searching for token permutations in log sequences."
   ]
  },
  {
   "cell_type": "markdown",
   "id": "8f702442",
   "metadata": {},
   "source": [
    "## Metadata Summary\n",
    "- Source: [LeetCode - Find All Anagrams in a String](https://leetcode.com/problems/find-all-anagrams-in-a-string/)\n",
    "- Tags: `Hash Table`, `Sliding Window`, `String`\n",
    "- Difficulty: Medium\n",
    "- Recommended Priority: High"
   ]
  },
  {
   "cell_type": "markdown",
   "id": "a54aa95b",
   "metadata": {},
   "source": [
    "## Problem Statement\n",
    "Given two strings `s` and `p`, return an array of all the start indices of `p`'s anagrams in `s`. You may return the answer in any order."
   ]
  },
  {
   "cell_type": "markdown",
   "id": "301cab5a",
   "metadata": {},
   "source": [
    "## Progressive Hints\n",
    "- Hint 1: Use a sliding window of length `len(p)` over `s`.\n",
    "- Hint 2: Maintain character counts for the window and compare with `p`'s counts.\n",
    "- Hint 3: Track how many characters match to avoid comparing full arrays each time."
   ]
  },
  {
   "cell_type": "markdown",
   "id": "324c1fe3",
   "metadata": {},
   "source": [
    "## Solution Overview\n",
    "Maintain a fixed-size sliding window across `s` while tracking character frequency differences; when the window aligns with `p`'s counts, append the starting index to the answer list."
   ]
  },
  {
   "cell_type": "markdown",
   "id": "2abc5429",
   "metadata": {},
   "source": [
    "## Detailed Explanation\n",
    "1. Count characters in `p` using a fixed-size array.\n",
    "2. Slide a window over `s`, adding the new character and removing the outgoing one from the difference array.\n",
    "3. Maintain a counter representing how many character counts currently match `p`.\n",
    "4. When all counts align, record the window's starting index.\n",
    "5. Continue until the window has traversed the string."
   ]
  },
  {
   "cell_type": "markdown",
   "id": "e045ea03",
   "metadata": {},
   "source": [
    "## Complexity Trade-off Table\n",
    "| Approach | Time Complexity | Space Complexity | Notes |\n",
    "| --- | --- | --- | --- |\n",
    "| Sort substrings | O(n * L log L) | O(1) | Too slow for long strings. |\n",
    "| Sliding window counts | O(n) | O(1) | Optimal leveraging constant alphabet size. |"
   ]
  },
  {
   "cell_type": "code",
   "execution_count": null,
   "id": "be5d75a1",
   "metadata": {},
   "outputs": [],
   "source": [
    "from typing import List\n",
    "\n",
    "\n",
    "def findAnagrams(s: str, p: str) -> List[int]:\n",
    "    \"\"\"Return start indices of anagrams of p within s.\"\"\"\n",
    "    if len(p) > len(s):\n",
    "        return []\n",
    "\n",
    "    target = [0] * 26\n",
    "    window = [0] * 26\n",
    "    for ch in p:\n",
    "        target[ord(ch) - ord('a')] += 1\n",
    "\n",
    "    matches = 0\n",
    "    for i in range(26):\n",
    "        if target[i] == 0:\n",
    "            matches += 1  # Pre-count letters absent from p.\n",
    "\n",
    "    result = []\n",
    "    left = 0\n",
    "    for right, ch in enumerate(s):\n",
    "        idx = ord(ch) - ord('a')\n",
    "        window[idx] += 1\n",
    "        if window[idx] == target[idx]:\n",
    "            matches += 1\n",
    "        elif window[idx] == target[idx] + 1:\n",
    "            matches -= 1  # Window now has excess of this char.\n",
    "\n",
    "        if right - left + 1 > len(p):\n",
    "            left_idx = ord(s[left]) - ord('a')\n",
    "            if window[left_idx] == target[left_idx]:\n",
    "                matches -= 1\n",
    "            elif window[left_idx] == target[left_idx] + 1:\n",
    "                matches += 1  # Removing excess realigns counts.\n",
    "            window[left_idx] -= 1\n",
    "            left += 1\n",
    "\n",
    "        if matches == 26:\n",
    "            result.append(left)\n",
    "    return result\n"
   ]
  },
  {
   "cell_type": "markdown",
   "id": "8099f2f9",
   "metadata": {},
   "source": [
    "## Complexity Analysis\n",
    "- Time Complexity: `O(n)` where `n` is the length of `s`, since each character enters and leaves the window once.\n",
    "- Space Complexity: `O(1)` because arrays of length 26 store counts.\n",
    "- Bottleneck: Maintaining matches; the algorithm keeps updates constant per step."
   ]
  },
  {
   "cell_type": "markdown",
   "id": "fc10c487",
   "metadata": {},
   "source": [
    "## Edge Cases & Pitfalls\n",
    "- When `p` is longer than `s`, return an empty list immediately.\n",
    "- Keep careful track of match increments and decrements to avoid off-by-one errors.\n",
    "- Sliding windows require synchronized updates to both entry and exit characters."
   ]
  },
  {
   "cell_type": "markdown",
   "id": "5a6905b4",
   "metadata": {},
   "source": [
    "## Follow-up Variants\n",
    "- Support Unicode by switching to dictionaries.\n",
    "- Return the substrings themselves for auditing.\n",
    "- Adapt to streaming inputs by combining with rolling hashes."
   ]
  },
  {
   "cell_type": "markdown",
   "id": "c21befea",
   "metadata": {},
   "source": [
    "## Takeaways\n",
    "- Sliding windows with hash-based counts efficiently detect permutations.\n",
    "- Tracking aggregate match metrics prevents expensive full-array comparisons.\n",
    "- The technique generalizes to many substring matching tasks in telemetry data."
   ]
  },
  {
   "cell_type": "markdown",
   "id": "a316bce3",
   "metadata": {},
   "source": [
    "## Similar Problems\n",
    "| Problem ID | Problem Title | Technique |\n",
    "| --- | --- | --- |\n",
    "| 242 | Valid Anagram | Frequency comparison |\n",
    "| 567 | Permutation in String | Sliding window counts |\n",
    "| 187 | Repeated DNA Sequences | Hashing fixed-length substrings |"
   ]
  }
 ],
 "metadata": {
  "kernelspec": {
   "display_name": "Python 3 (ipykernel)",
   "language": "python",
   "name": "python3"
  },
  "language_info": {
   "codemirror_mode": {
    "name": "ipython",
    "version": 3
   },
   "file_extension": ".py",
   "mimetype": "text/x-python",
   "name": "python",
   "nbconvert_exporter": "python",
   "pygments_lexer": "ipython3",
   "version": "3.13.3"
  }
 },
 "nbformat": 4,
 "nbformat_minor": 5
}
