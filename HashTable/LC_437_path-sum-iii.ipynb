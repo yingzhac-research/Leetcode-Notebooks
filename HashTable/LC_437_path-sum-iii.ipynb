{
 "cells": [
  {
   "cell_type": "markdown",
   "metadata": {},
   "source": [
    "# 437. Path Sum III\n"
   ]
  },
  {
   "cell_type": "markdown",
   "metadata": {},
   "source": [
    "## Topic Alignment\n",
    "- MLE Connection: Cumulative feature attribution along decision trees requires quick prefix lookups when exploring candidate splits.\n",
    "- Hash Table Role: Map running prefix sums to frequency counts so we can query prefixSum - target in O(1) during DFS.\n",
    "- Interview Angle: Blends tree traversal with stateful hash maps, testing careful backtracking and duplicate counting avoidance.\n"
   ]
  },
  {
   "cell_type": "markdown",
   "metadata": {},
   "source": [
    "## Metadata Summary\n",
    "- Source: https://leetcode.com/problems/path-sum-iii/\n",
    "- Tags: Tree, Depth-First Search, Hash Table\n",
    "- Difficulty: Medium\n",
    "- Recommended Review Priority: High\n"
   ]
  },
  {
   "cell_type": "markdown",
   "metadata": {},
   "source": [
    "## Problem Statement\n",
    "You are given the root of a binary tree and an integer targetSum. Return the number of paths where the sum of the values along the path equals targetSum. The path does not need to start at the root or end at a leaf, but it must always move downward from parent nodes to child nodes.\n"
   ]
  },
  {
   "cell_type": "markdown",
   "metadata": {},
   "source": [
    "## Progressive Hints\n",
    "- Hint 1: Track the running prefix sum on the current root-to-node path.\n",
    "- Hint 2: If you know the current prefix sum, how can you count prior prefixes that form targetSum when paired with the current node?\n",
    "- Hint 3: Maintain a hash map of prefixSum -> count and update it as you descend and backtrack in DFS.\n"
   ]
  },
  {
   "cell_type": "markdown",
   "metadata": {},
   "source": [
    "## Solution Overview\n",
    "Traverse the tree with DFS while keeping a running prefix sum. For every node we need the number of earlier prefixes whose value equals currentPrefix - targetSum. A hash map keyed by prefix sum counts gives us that answer in O(1). We increment the current prefix before exploring children and decrement after backtracking to keep the scope local to the active path.\n"
   ]
  },
  {
   "cell_type": "markdown",
   "metadata": {},
   "source": [
    "## Detailed Explanation\n",
    "We perform a depth-first traversal starting from the root. At each node we compute the running prefix sum along the path from the root to the current node. Any ancestor path that ends at this node contributes to the target if `prefixCurrent - targetSum` exists in the hash map of previously seen prefix sums.\n",
    "\n",
    "Algorithm steps:\n",
    "1. Initialize a hash map `prefix_count` with `{0: 1}` so paths that start at the current node are counted when prefix equals target.\n",
    "2. When visiting a node, add its value to the running sum.\n",
    "3. Increase the answer by `prefix_count[running_sum - targetSum]` because those prefixes complete a target path ending here.\n",
    "4. Increment `prefix_count[running_sum]` before exploring children, so descendants know this prefix exists.\n",
    "5. Recurse into left and right children.\n",
    "6. After returning, decrement `prefix_count[running_sum]` to remove the current node from the active path, preventing cross-branch contamination.\n",
    "\n",
    "This approach ensures each node is processed once and the hash map mirrors the call stack state. It avoids enumerating all node pairs, reducing complexity from O(n^2) to O(n).\n"
   ]
  },
  {
   "cell_type": "markdown",
   "metadata": {},
   "source": [
    "## Complexity Trade-off Table\n",
    "| Approach | Time Complexity | Space Complexity |\n",
    "| --- | --- | --- |\n",
    "| Naive DFS exploring every start node | O(n^2) worst case | O(h) |\n",
    "| DFS with prefix sum hash map | O(n) | O(h) recursion + O(h) hash map |\n"
   ]
  },
  {
   "cell_type": "markdown",
   "metadata": {},
   "source": [
    "## Reference Implementation\n"
   ]
  },
  {
   "cell_type": "code",
   "metadata": {},
   "execution_count": null,
   "outputs": [],
   "source": [
    "from collections import defaultdict\n",
    "from typing import Optional\n",
    "\n",
    "\n",
    "class TreeNode:\n",
    "    def __init__(self, val: int = 0, left: Optional['TreeNode'] = None, right: Optional['TreeNode'] = None):\n",
    "        self.val = val\n",
    "        self.left = left\n",
    "        self.right = right\n",
    "\n",
    "\n",
    "class Solution:\n",
    "    def pathSum(self, root: Optional[TreeNode], targetSum: int) -> int:\n",
    "        prefix_count = defaultdict(int)\n",
    "        prefix_count[0] = 1  # Empty path provides baseline for paths starting at current node.\n",
    "\n",
    "        def dfs(node: Optional[TreeNode], running_sum: int) -> int:\n",
    "            if not node:\n",
    "                return 0\n",
    "\n",
    "            running_sum += node.val\n",
    "            total_paths = prefix_count[running_sum - targetSum]\n",
    "            prefix_count[running_sum] += 1  # Expose current prefix to descendants.\n",
    "\n",
    "            total_paths += dfs(node.left, running_sum)\n",
    "            total_paths += dfs(node.right, running_sum)\n",
    "\n",
    "            prefix_count[running_sum] -= 1  # Backtrack to keep state local to current path.\n",
    "            return total_paths\n",
    "\n",
    "        return dfs(root, 0)\n"
   ]
  },
  {
   "cell_type": "markdown",
   "metadata": {},
   "source": [
    "## Complexity Analysis\n",
    "- Time Complexity: O(n) because each node is visited once and each visit performs O(1) hash map operations.\n",
    "- Space Complexity: O(h) for the recursion stack plus O(h) for the hash map in the worst case of a skewed tree of height h.\n",
    "- Bottlenecks: Maintaining the prefix sum map during traversal is the dominant cost but remains linear.\n"
   ]
  },
  {
   "cell_type": "markdown",
   "metadata": {},
   "source": [
    "## Edge Cases & Pitfalls\n",
    "- Empty trees should return 0.\n",
    "- Negative node values cannot be ignored; pruning based on sign will miss valid paths.\n",
    "- Always decrement the prefix count when unwinding recursion to avoid counting paths across sibling branches.\n"
   ]
  },
  {
   "cell_type": "markdown",
   "metadata": {},
   "source": [
    "## Follow-up Variants\n",
    "- Extend to count paths whose sum falls within an inclusive range [L, R].\n",
    "- Modify to return the actual node sequences for auditing purposes.\n",
    "- Adapt the technique to directed acyclic graphs with a single parent for each node.\n"
   ]
  },
  {
   "cell_type": "markdown",
   "metadata": {},
   "source": [
    "## Takeaways\n",
    "- Prefix sums extend naturally from arrays to trees when paired with recursion.\n",
    "- Shared mutable state must be carefully managed to avoid double counting.\n",
    "- Pre-seeding the map with 0 elegantly covers paths that start at the current node.\n"
   ]
  },
  {
   "cell_type": "markdown",
   "metadata": {},
   "source": [
    "## Similar Problems\n",
    "| Problem ID | Problem Title | Technique |\n",
    "| --- | --- | --- |\n",
    "| 112 | Path Sum | DFS with running sums |\n",
    "| 560 | Subarray Sum Equals K | Prefix sums with hash map |\n",
    "| 124 | Binary Tree Maximum Path Sum | Recursive accumulation |\n"
   ]
  }
 ],
 "metadata": {
  "kernelspec": {
   "display_name": "Python 3",
   "language": "python",
   "name": "python3"
  },
  "language_info": {
   "name": "python",
   "version": "3.10"
  }
 },
 "nbformat": 4,
 "nbformat_minor": 5
}