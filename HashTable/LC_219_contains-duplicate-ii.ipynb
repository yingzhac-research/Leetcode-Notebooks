{
 "cells": [
  {
   "cell_type": "markdown",
   "id": "65b69a23",
   "metadata": {},
   "source": [
    "# 219. Contains Duplicate II\n"
   ]
  },
  {
   "cell_type": "markdown",
   "id": "bf6dc790",
   "metadata": {},
   "source": [
    "## Topic Alignment\n",
    "- MLE Connection: Detects repeated signals within a sliding window, mirroring time-series deduplication.\n",
    "- Hash Table Role: Track the most recent index for each value to test the distance constraint in O(1).\n",
    "- Interview Angle: Combines hash maps with windowing logic for efficient duplicate detection.\n"
   ]
  },
  {
   "cell_type": "markdown",
   "id": "88db4516",
   "metadata": {},
   "source": [
    "## Metadata Summary\n",
    "- Source: https://leetcode.com/problems/contains-duplicate-ii/\n",
    "- Tags: Array, Hash Table, Sliding Window\n",
    "- Difficulty: Easy\n",
    "- Recommended Review Priority: High\n"
   ]
  },
  {
   "cell_type": "markdown",
   "id": "841be6fe",
   "metadata": {},
   "source": [
    "## Problem Statement\n",
    "Given an integer array nums and an integer k, return true if there exist two distinct indices i and j such that nums[i] == nums[j] and abs(i - j) <= k.\n"
   ]
  },
  {
   "cell_type": "markdown",
   "id": "02c41372",
   "metadata": {},
   "source": [
    "## Progressive Hints\n",
    "- Hint 1: Each value only needs to remember its latest occurrence.\n",
    "- Hint 2: Use a dictionary from value to index and update as you scan.\n",
    "- Hint 3: Check the distance condition whenever you see a repeated value.\n"
   ]
  },
  {
   "cell_type": "markdown",
   "id": "d258da8a",
   "metadata": {},
   "source": [
    "## Solution Overview\n",
    "Scan the array once, storing the latest index for each value in a dictionary. When encountering a value again, compare indices; if the difference is within k, return true. Update the stored index to the current one regardless.\n"
   ]
  },
  {
   "cell_type": "markdown",
   "id": "ca5bff8a",
   "metadata": {},
   "source": [
    "## Detailed Explanation\n",
    "1. Initialize an empty dictionary `last_index`.\n",
    "2. Iterate over the array with index i:\n",
    "   - If nums[i] is in `last_index` and `i - last_index[nums[i]] <= k`, return True.\n",
    "   - Otherwise, store or update `last_index[nums[i]] = i`.\n",
    "3. If the loop finishes without finding a valid pair, return False.\n",
    "\n",
    "This stores only one index per value and ensures O(1) lookup per element.\n"
   ]
  },
  {
   "cell_type": "markdown",
   "id": "52ca30e5",
   "metadata": {},
   "source": [
    "## Complexity Trade-off Table\n",
    "| Approach | Time Complexity | Space Complexity |\n",
    "| --- | --- | --- |\n",
    "| Brute force window scan | O(n * k) | O(1) |\n",
    "| Hash map of last positions | O(n) | O(min(n, k)) |\n"
   ]
  },
  {
   "cell_type": "markdown",
   "id": "0442252a",
   "metadata": {},
   "source": [
    "## Reference Implementation\n"
   ]
  },
  {
   "cell_type": "code",
   "execution_count": null,
   "id": "0e074ed1",
   "metadata": {},
   "outputs": [],
   "source": [
    "class Solution:\n",
    "    def containsNearbyDuplicate(self, nums: list[int], k: int) -> bool:\n",
    "        last_index: dict[int, int] = {}\n",
    "\n",
    "        for i, value in enumerate(nums):\n",
    "            if value in last_index and i - last_index[value] <= k:\n",
    "                return True\n",
    "            last_index[value] = i  # Update to the most recent index.\n",
    "\n",
    "        return False\n"
   ]
  },
  {
   "cell_type": "markdown",
   "id": "50be2230",
   "metadata": {},
   "source": [
    "## Complexity Analysis\n",
    "- Time Complexity: O(n) because the array is scanned once with constant-time map operations.\n",
    "- Space Complexity: O(min(n, k)) since at most k distinct values are tracked in a window of size k.\n",
    "- Bottlenecks: The dictionary storing integers keeps memory overhead modest.\n"
   ]
  },
  {
   "cell_type": "markdown",
   "id": "3a386cbf",
   "metadata": {},
   "source": [
    "## Edge Cases & Pitfalls\n",
    "- k = 0 should always return False because i and j must be distinct.\n",
    "- Updating the stored index is crucial; otherwise earlier positions may falsely satisfy the constraint later.\n",
    "- Negative values are valid dictionary keys and need no special handling.\n"
   ]
  },
  {
   "cell_type": "markdown",
   "id": "92e9d0d4",
   "metadata": {},
   "source": [
    "## Follow-up Variants\n",
    "- Return the actual pair of indices rather than a boolean result.\n",
    "- Support streaming input with a moving window and report duplicates dynamically.\n",
    "- Generalize to arrays where duplicates are allowed only if their distance is within a value-specific range.\n"
   ]
  },
  {
   "cell_type": "markdown",
   "id": "92e62257",
   "metadata": {},
   "source": [
    "## Takeaways\n",
    "- Tracking the most relevant metadata keeps hash maps lightweight.\n",
    "- Sliding window constraints often reduce to maintaining recent occurrences.\n",
    "- Early exit conditions dramatically cut runtime in detection tasks.\n"
   ]
  },
  {
   "cell_type": "markdown",
   "id": "0150c7c9",
   "metadata": {},
   "source": [
    "## Similar Problems\n",
    "| Problem ID | Problem Title | Technique |\n",
    "| --- | --- | --- |\n",
    "| 217 | Contains Duplicate | Hash set membership |\n",
    "| 220 | Contains Duplicate III | Ordered buckets |\n",
    "| 3 | Longest Substring Without Repeating Characters | Sliding window |\n"
   ]
  }
 ],
 "metadata": {
  "kernelspec": {
   "display_name": "Python 3 (ipykernel)",
   "language": "python",
   "name": "python3"
  },
  "language_info": {
   "codemirror_mode": {
    "name": "ipython",
    "version": 3
   },
   "file_extension": ".py",
   "mimetype": "text/x-python",
   "name": "python",
   "nbconvert_exporter": "python",
   "pygments_lexer": "ipython3",
   "version": "3.13.3"
  }
 },
 "nbformat": 4,
 "nbformat_minor": 5
}