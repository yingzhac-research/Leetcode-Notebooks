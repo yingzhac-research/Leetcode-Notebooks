{
 "cells": [
  {
   "cell_type": "markdown",
   "id": "e8a1f60a",
   "metadata": {},
   "source": [
    "# 957. Prison Cells After N Days\n"
   ]
  },
  {
   "cell_type": "markdown",
   "id": "7d12fee8",
   "metadata": {},
   "source": [
    "## Topic Alignment\n",
    "- MLE Connection: Modeling finite-state systems with cycle detection supports feature evolution simulations.\n",
    "- Hash Table Role: Store seen cell states keyed by bitmask to detect loops and jump ahead.\n",
    "- Interview Angle: Demonstrates hashing immutable state representations and leveraging modular arithmetic to skip redundant work.\n"
   ]
  },
  {
   "cell_type": "markdown",
   "id": "a55cb72e",
   "metadata": {},
   "source": [
    "## Metadata Summary\n",
    "- Source: https://leetcode.com/problems/prison-cells-after-n-days/\n",
    "- Tags: Array, Hash Table, Simulation\n",
    "- Difficulty: Medium\n",
    "- Recommended Review Priority: Medium\n"
   ]
  },
  {
   "cell_type": "markdown",
   "id": "ecdf211e",
   "metadata": {},
   "source": [
    "## Problem Statement\n",
    "There are 8 prison cells in a row, each either occupied (1) or vacant (0). Each day, cells change state according to the following rule: if a cell has two adjacent neighbors in the same state, it becomes occupied; otherwise it becomes vacant. Both ends have a single neighbor outside the array and are always treated as vacant. Given an array cells representing the initial state and an integer n, return the state of the prison after n days.\n"
   ]
  },
  {
   "cell_type": "markdown",
   "id": "e6de2bfb",
   "metadata": {},
   "source": [
    "## Progressive Hints\n",
    "- Hint 1: Each day depends only on the previous state; there are at most 2^6 distinct interior patterns.\n",
    "- Hint 2: Encode the interior cells as a bitmask so you can store previously seen states in a hash map.\n",
    "- Hint 3: Once a state repeats, you have found a cycle and can jump ahead by taking n modulo the cycle length.\n"
   ]
  },
  {
   "cell_type": "markdown",
   "id": "5e2ffb66",
   "metadata": {},
   "source": [
    "## Solution Overview\n",
    "Simulate the transition function while caching each encountered state in a hash map from bitmask to day index. When a repeat is detected, compute the remaining days modulo the cycle length and fast-forward to the final state without iterating the entire n days.\n"
   ]
  },
  {
   "cell_type": "markdown",
   "id": "ae7df0b2",
   "metadata": {},
   "source": [
    "## Detailed Explanation\n",
    "Because there are only 8 cells and the two edges always become 0 after the first day, the system has at most 2^6 unique states. We can encode the state as an integer bitmask (using only the interior cells) or as a tuple and store it in a dictionary mapping to the day index when it first appears.\n",
    "\n",
    "Algorithm steps:\n",
    "1. Convert the current cell configuration into a tuple to serve as a hashable key.\n",
    "2. Iterate day by day. For each day, compute the next cell state by checking neighbors.\n",
    "3. If the newly produced state is already in the dictionary, a cycle of length `cycle = current_day - first_seen_day` is found.\n",
    "4. Reduce the remaining steps `remaining = (n - current_day) % cycle` and replay the transition that many times to reach the final state.\n",
    "5. Return the state after all simulated days.\n",
    "\n",
    "This strategy turns a potentially billion-step simulation into at most a few dozen iterations thanks to cycle detection.\n"
   ]
  },
  {
   "cell_type": "markdown",
   "id": "2a55d417",
   "metadata": {},
   "source": [
    "## Complexity Trade-off Table\n",
    "| Approach | Time Complexity | Space Complexity |\n",
    "| --- | --- | --- |\n",
    "| Straight simulation for n days | O(n) | O(1) |\n",
    "| Cycle detection with hash map | O(states) <= O(2^6) | O(states) |\n"
   ]
  },
  {
   "cell_type": "markdown",
   "id": "665ee0b7",
   "metadata": {},
   "source": [
    "## Reference Implementation\n"
   ]
  },
  {
   "cell_type": "code",
   "execution_count": null,
   "id": "c57b42bf",
   "metadata": {},
   "outputs": [],
   "source": [
    "from typing import List, Tuple\n",
    "\n",
    "\n",
    "class Solution:\n",
    "    def prisonAfterNDays(self, cells: List[int], n: int) -> List[int]:\n",
    "        seen: dict[Tuple[int, ...], int] = {}\n",
    "        state = tuple(cells)\n",
    "        day = 0\n",
    "\n",
    "        while day < n:\n",
    "            if state in seen:\n",
    "                cycle_length = day - seen[state]\n",
    "                remaining = (n - day) % cycle_length\n",
    "                for _ in range(remaining):\n",
    "                    state = self._next_state(state)\n",
    "                return list(state)\n",
    "\n",
    "            seen[state] = day\n",
    "            state = self._next_state(state)\n",
    "            day += 1\n",
    "\n",
    "        return list(state)\n",
    "\n",
    "    def _next_state(self, state: Tuple[int, ...]) -> Tuple[int, ...]:\n",
    "        next_cells = [0] * len(state)\n",
    "        for i in range(1, len(state) - 1):\n",
    "            next_cells[i] = int(state[i - 1] == state[i + 1])\n",
    "        return tuple(next_cells)\n"
   ]
  },
  {
   "cell_type": "markdown",
   "id": "896fd44c",
   "metadata": {},
   "source": [
    "## Complexity Analysis\n",
    "- Time Complexity: O(min(n, S)), where S is the number of distinct states (<= 64). Once a cycle is detected the remaining steps are reduced modulo S.\n",
    "- Space Complexity: O(S) to store the first occurrence of each state.\n",
    "- Bottlenecks: Hashing small tuples and iterating the cycle remainder dominate but are negligible.\n"
   ]
  },
  {
   "cell_type": "markdown",
   "id": "b48dcb29",
   "metadata": {},
   "source": [
    "## Edge Cases & Pitfalls\n",
    "- Handle n so large that the cycle detection logic must trigger; skipping the modulo step causes timeouts.\n",
    "- Ensure edges are always zero after the first transition; do not read out-of-bounds neighbors.\n",
    "- Use an immutable structure (tuple) as the hash key to avoid accidental mutation between iterations.\n"
   ]
  },
  {
   "cell_type": "markdown",
   "id": "a1d38d83",
   "metadata": {},
   "source": [
    "## Follow-up Variants\n",
    "- Generalize to k cells or multi-dimensional grids and analyze state-space growth.\n",
    "- Track and return the cycle length explicitly in addition to the final state.\n",
    "- Introduce stochastic transitions and estimate convergence using Monte Carlo simulation.\n"
   ]
  },
  {
   "cell_type": "markdown",
   "id": "c5c353b8",
   "metadata": {},
   "source": [
    "## Takeaways\n",
    "- Small state spaces invite cycle detection to replace long simulations.\n",
    "- Hashing normalized representations is a powerful way to memoize visited configurations.\n",
    "- Modulo arithmetic converts repeated patterns into constant-time skips.\n"
   ]
  },
  {
   "cell_type": "markdown",
   "id": "4590a596",
   "metadata": {},
   "source": [
    "## Similar Problems\n",
    "| Problem ID | Problem Title | Technique |\n",
    "| --- | --- | --- |\n",
    "| 202 | Happy Number | Cycle detection |\n",
    "| 142 | Linked List Cycle II | Detecting cycles |\n",
    "| 266 | Palindrome Permutation | State hashing |\n"
   ]
  }
 ],
 "metadata": {
  "kernelspec": {
   "display_name": "Python 3 (ipykernel)",
   "language": "python",
   "name": "python3"
  },
  "language_info": {
   "codemirror_mode": {
    "name": "ipython",
    "version": 3
   },
   "file_extension": ".py",
   "mimetype": "text/x-python",
   "name": "python",
   "nbconvert_exporter": "python",
   "pygments_lexer": "ipython3",
   "version": "3.13.3"
  }
 },
 "nbformat": 4,
 "nbformat_minor": 5
}