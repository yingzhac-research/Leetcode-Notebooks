{
 "cells": [
  {
   "cell_type": "markdown",
   "id": "6fdf38e3",
   "metadata": {},
   "source": [
    "# 380. Insert Delete GetRandom O(1)"
   ]
  },
  {
   "cell_type": "markdown",
   "id": "f7ec1d05",
   "metadata": {},
   "source": [
    "## Topic Alignment\n",
    "- **Role Relevance**: Random sampling with constant-time updates supports reservoir sampling and experience replay buffers.\n",
    "- **Scenario**: Useful for maintaining candidate pools that require uniform random picks for A/B testing pipelines."
   ]
  },
  {
   "cell_type": "markdown",
   "id": "83e2ac0c",
   "metadata": {},
   "source": [
    "## Metadata Summary\n",
    "- Source: [LeetCode - Insert Delete GetRandom O(1)](https://leetcode.com/problems/insert-delete-getrandom-o1/)\n",
    "- Tags: `Hash Table`, `Design`\n",
    "- Difficulty: Medium\n",
    "- Recommended Priority: Medium"
   ]
  },
  {
   "cell_type": "markdown",
   "id": "6388c865",
   "metadata": {},
   "source": [
    "## Problem Statement\n",
    "Implement the `RandomizedSet` class:\n",
    "- `RandomizedSet()` initializes the set.\n",
    "- `bool insert(int val)` inserts `val` into the set. Returns `True` if the element was not present, `False` otherwise.\n",
    "- `bool remove(int val)` removes `val` if present. Returns `True` when removed, otherwise `False`.\n",
    "- `int getRandom()` returns a random element from the current set, with each element having equal probability.\n",
    "\n",
    "All operations must run in average `O(1)` time."
   ]
  },
  {
   "cell_type": "markdown",
   "id": "a8bb3faa",
   "metadata": {},
   "source": [
    "## Progressive Hints\n",
    "- Hint 1: Use an array to support random access.\n",
    "- Hint 2: Track element positions in a hash map for O(1) deletions by swapping with the last element.\n",
    "- Hint 3: Remove from the array tail to keep deletions constant time."
   ]
  },
  {
   "cell_type": "markdown",
   "id": "130aecfd",
   "metadata": {},
   "source": [
    "## Solution Overview\n",
    "Maintain a dynamic array of values plus a hash map that stores each value's index in the array, enabling O(1) insertions, deletions, and random selection."
   ]
  },
  {
   "cell_type": "markdown",
   "id": "de253863",
   "metadata": {},
   "source": [
    "## Detailed Explanation\n",
    "1. Store elements in a list to allow O(1) random access.\n",
    "2. Keep a dictionary mapping each value to its position in the list.\n",
    "3. On insert, append the value if absent and record its index.\n",
    "4. On remove, swap the element with the last list item, update indices, pop the tail, and delete the dictionary entry.\n",
    "5. On getRandom, choose a random index from the list and return the value."
   ]
  },
  {
   "cell_type": "markdown",
   "id": "ac62d4d0",
   "metadata": {},
   "source": [
    "## Complexity Trade-off Table\n",
    "| Approach | Time Complexity | Space Complexity | Notes |\n",
    "| --- | --- | --- | --- |\n",
    "| Array + hash map | O(1) | O(n) | Balanced performance and simplicity. |"
   ]
  },
  {
   "cell_type": "code",
   "execution_count": null,
   "id": "5f087643",
   "metadata": {},
   "outputs": [],
   "source": [
    "import random\n",
    "\n",
    "\n",
    "class RandomizedSet:\n",
    "    \"\"\"Randomized set supporting O(1) insert, delete, and getRandom.\"\"\"\n",
    "\n",
    "    def __init__(self):\n",
    "        self.values = []  # Store elements for random access.\n",
    "        self.indices = {}  # Map value to its index in the list.\n",
    "\n",
    "    def insert(self, val: int) -> bool:\n",
    "        if val in self.indices:\n",
    "            return False\n",
    "        self.indices[val] = len(self.values)\n",
    "        self.values.append(val)\n",
    "        return True\n",
    "\n",
    "    def remove(self, val: int) -> bool:\n",
    "        if val not in self.indices:\n",
    "            return False\n",
    "        idx = self.indices[val]\n",
    "        last_val = self.values[-1]\n",
    "        self.values[idx] = last_val  # Move last element into removed spot.\n",
    "        self.indices[last_val] = idx\n",
    "        self.values.pop()\n",
    "        del self.indices[val]\n",
    "        return True\n",
    "\n",
    "    def getRandom(self) -> int:\n",
    "        return random.choice(self.values)  # Uniform random selection.\n"
   ]
  },
  {
   "cell_type": "markdown",
   "id": "58b4ae95",
   "metadata": {},
   "source": [
    "## Complexity Analysis\n",
    "- Time Complexity: `O(1)` average per operation.\n",
    "- Space Complexity: `O(n)` for storing elements and their indices.\n",
    "- Bottleneck: Random selection relies on `random.choice`, which is O(1)."
   ]
  },
  {
   "cell_type": "markdown",
   "id": "981c9ad7",
   "metadata": {},
   "source": [
    "## Edge Cases & Pitfalls\n",
    "- Removing from an empty set should return `False`.\n",
    "- Ensure the dictionary updates when the removed value is already at the tail.\n",
    "- Random selection requires at least one element; constraints guarantee valid usage when called.\n",
    "- Careful with duplicate inserts; they should return `False`."
   ]
  },
  {
   "cell_type": "markdown",
   "id": "e6e67591",
   "metadata": {},
   "source": [
    "## Follow-up Variants\n",
    "- Support duplicate elements by storing counts and randomizing over total occurrences.\n",
    "- Add weighted random sampling based on value importance.\n",
    "- Persist the set across sessions for reproducible experiments."
   ]
  },
  {
   "cell_type": "markdown",
   "id": "8e99a65b",
   "metadata": {},
   "source": [
    "## Takeaways\n",
    "- Pairing arrays with hash maps unlocks constant-time operations with random access.\n",
    "- Swapping with the tail is a common trick to delete in O(1).\n",
    "- Uniform sampling is vital for unbiased evaluation in ML workflows."
   ]
  },
  {
   "cell_type": "markdown",
   "id": "c181556e",
   "metadata": {},
   "source": [
    "## Similar Problems\n",
    "| Problem ID | Problem Title | Technique |\n",
    "| --- | --- | --- |\n",
    "| 381 | Insert Delete GetRandom O(1) - Duplicates allowed | Hash map with counts |\n",
    "| 710 | Random Pick with Blacklist | Hash map remapping |\n",
    "| 398 | Random Pick Index | Reservoir sampling |"
   ]
  }
 ],
 "metadata": {
  "kernelspec": {
   "display_name": "Python 3 (ipykernel)",
   "language": "python",
   "name": "python3"
  },
  "language_info": {
   "codemirror_mode": {
    "name": "ipython",
    "version": 3
   },
   "file_extension": ".py",
   "mimetype": "text/x-python",
   "name": "python",
   "nbconvert_exporter": "python",
   "pygments_lexer": "ipython3",
   "version": "3.13.3"
  }
 },
 "nbformat": 4,
 "nbformat_minor": 5
}