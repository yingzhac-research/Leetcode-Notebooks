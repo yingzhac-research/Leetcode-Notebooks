{
 "cells": [
  {
   "cell_type": "markdown",
   "id": "c72c8d25",
   "metadata": {},
   "source": [
    "# 451. Sort Characters By Frequency"
   ]
  },
  {
   "cell_type": "markdown",
   "id": "1ea13c52",
   "metadata": {},
   "source": [
    "## Topic Alignment\n",
    "- **Role Relevance**: Character frequency sorting reflects feature ranking tasks based on occurrence counts in ML preprocessing.\n",
    "- **Scenario**: Useful for prioritizing categorical feature values by popularity before encoding or sampling."
   ]
  },
  {
   "cell_type": "markdown",
   "id": "2f1d5413",
   "metadata": {},
   "source": [
    "## Metadata Summary\n",
    "- Source: [LeetCode - Sort Characters By Frequency](https://leetcode.com/problems/sort-characters-by-frequency/)\n",
    "- Tags: `Hash Table`, `String`, `Bucket Sort`\n",
    "- Difficulty: Medium\n",
    "- Recommended Priority: Medium"
   ]
  },
  {
   "cell_type": "markdown",
   "id": "cffe4de5",
   "metadata": {},
   "source": [
    "## Problem Statement\n",
    "Given a string `s`, sort it in decreasing order based on the frequency of characters. Return the sorted string. If multiple answers are possible, return any of them."
   ]
  },
  {
   "cell_type": "markdown",
   "id": "23fd9608",
   "metadata": {},
   "source": [
    "## Progressive Hints\n",
    "- Hint 1: Count each character's frequency using a hash map.\n",
    "- Hint 2: Bucket characters by their frequency to avoid repeated sorting.\n",
    "- Hint 3: Build the result by traversing buckets from high to low frequency."
   ]
  },
  {
   "cell_type": "markdown",
   "id": "34d81ca0",
   "metadata": {},
   "source": [
    "## Solution Overview\n",
    "Compute character frequencies with a hash map, place characters into buckets indexed by frequency, then concatenate characters from highest to lowest frequency to form the result string."
   ]
  },
  {
   "cell_type": "markdown",
   "id": "ce9c60e2",
   "metadata": {},
   "source": [
    "## Detailed Explanation\n",
    "1. Iterate through `s` and count character occurrences in a dictionary.\n",
    "2. Create a list of buckets where index `i` holds characters that appear exactly `i` times.\n",
    "3. Populate the buckets using the frequency map.\n",
    "4. Traverse the buckets from high to low, appending each character `freq` times to the output builder.\n",
    "5. Join the builder into a final string and return it."
   ]
  },
  {
   "cell_type": "markdown",
   "id": "a7f96c1e",
   "metadata": {},
   "source": [
    "## Complexity Trade-off Table\n",
    "| Approach | Time Complexity | Space Complexity | Notes |\n",
    "| --- | --- | --- | --- |\n",
    "| Sort pairs by frequency | O(n log n) | O(n) | Simple but slower for long strings. |\n",
    "| Bucket by frequency | O(n) | O(n) | Meets linear time by leveraging counts. |"
   ]
  },
  {
   "cell_type": "code",
   "execution_count": null,
   "id": "d2052491",
   "metadata": {},
   "outputs": [],
   "source": [
    "from collections import Counter\n",
    "\n",
    "\n",
    "def frequencySort(s: str) -> str:\n",
    "    \"\"\"Return s sorted by descending character frequency.\"\"\"\n",
    "    freq = Counter(s)\n",
    "    buckets = [[] for _ in range(len(s) + 1)]\n",
    "    for char, count in freq.items():\n",
    "        buckets[count].append(char)  # Group characters with identical counts.\n",
    "\n",
    "    result_chars = []\n",
    "    for count in range(len(buckets) - 1, 0, -1):\n",
    "        for char in buckets[count]:\n",
    "            result_chars.append(char * count)  # Repeat char according to frequency.\n",
    "    return ''.join(result_chars)\n"
   ]
  },
  {
   "cell_type": "markdown",
   "id": "dd69902e",
   "metadata": {},
   "source": [
    "## Complexity Analysis\n",
    "- Time Complexity: `O(n)` where `n` is the length of `s`, as counting and bucket traversal are linear.\n",
    "- Space Complexity: `O(n)` for the frequency map and buckets.\n",
    "- Bottleneck: Building the result string; Python handles large concatenations efficiently via list join."
   ]
  },
  {
   "cell_type": "markdown",
   "id": "a6857b71",
   "metadata": {},
   "source": [
    "## Edge Cases & Pitfalls\n",
    "- Multiple characters may share the same frequency; bucket traversal handles ties automatically.\n",
    "- Extremely long strings require careful memory management but remain linear.\n",
    "- Remember that digits and mixed case letters are valid inputs."
   ]
  },
  {
   "cell_type": "markdown",
   "id": "b630eb67",
   "metadata": {},
   "source": [
    "## Follow-up Variants\n",
    "- Return top-k frequent characters instead of the full string.\n",
    "- Provide a stable ordering using secondary sorting criteria.\n",
    "- Extend to Unicode by using dictionaries instead of fixed-size arrays."
   ]
  },
  {
   "cell_type": "markdown",
   "id": "3b1977b7",
   "metadata": {},
   "source": [
    "## Takeaways\n",
    "- Bucket sort is a natural companion to hash-based frequency counting.\n",
    "- Separating counting from ordering clarifies the algorithm structure.\n",
    "- Frequency-driven ranking is common in feature engineering workflows."
   ]
  },
  {
   "cell_type": "markdown",
   "id": "f5367723",
   "metadata": {},
   "source": [
    "## Similar Problems\n",
    "| Problem ID | Problem Title | Technique |\n",
    "| --- | --- | --- |\n",
    "| 347 | Top K Frequent Elements | Hash map + bucket sort |\n",
    "| 692 | Top K Frequent Words | Frequency with heap |\n",
    "| 451 | Sort Characters By Frequency | Bucketed frequency ranking |"
   ]
  }
 ],
 "metadata": {
  "kernelspec": {
   "display_name": "Python 3 (ipykernel)",
   "language": "python",
   "name": "python3"
  },
  "language_info": {
   "codemirror_mode": {
    "name": "ipython",
    "version": 3
   },
   "file_extension": ".py",
   "mimetype": "text/x-python",
   "name": "python",
   "nbconvert_exporter": "python",
   "pygments_lexer": "ipython3",
   "version": "3.13.3"
  }
 },
 "nbformat": 4,
 "nbformat_minor": 5
}