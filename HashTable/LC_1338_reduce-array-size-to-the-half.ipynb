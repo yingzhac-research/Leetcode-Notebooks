{
 "cells": [
  {
   "cell_type": "markdown",
   "id": "28ebac7c",
   "metadata": {},
   "source": [
    "# 1338. Reduce Array Size to the Half\n"
   ]
  },
  {
   "cell_type": "markdown",
   "id": "30365062",
   "metadata": {},
   "source": [
    "## Topic Alignment\n",
    "- MLE Connection: Pruning least informative features mirrors cutting dataset size via frequency-based heuristics.\n",
    "- Hash Table Role: Count element frequencies and bucket them by occurrence to greedily remove the largest contributors.\n",
    "- Interview Angle: Combines frequency maps with greedy selection using sorting or buckets.\n"
   ]
  },
  {
   "cell_type": "markdown",
   "id": "cfefd4f0",
   "metadata": {},
   "source": [
    "## Metadata Summary\n",
    "- Source: https://leetcode.com/problems/reduce-array-size-to-the-half/\n",
    "- Tags: Array, Hash Table, Greedy\n",
    "- Difficulty: Medium\n",
    "- Recommended Review Priority: High\n"
   ]
  },
  {
   "cell_type": "markdown",
   "id": "2392c21a",
   "metadata": {},
   "source": [
    "## Problem Statement\n",
    "Given an array of integers arr, you can choose a set of integers and remove all their occurrences from the array. Return the minimum size of the set such that removing those integers makes the size of the array at most half of its original size.\n"
   ]
  },
  {
   "cell_type": "markdown",
   "id": "bd3a4e54",
   "metadata": {},
   "source": [
    "## Progressive Hints\n",
    "- Hint 1: Count how often each distinct value appears.\n",
    "- Hint 2: Removing the most frequent values first reduces the array size fastest.\n",
    "- Hint 3: Sort counts or use bucket sort to accumulate removals until at least half the elements are covered.\n"
   ]
  },
  {
   "cell_type": "markdown",
   "id": "ee0e9535",
   "metadata": {},
   "source": [
    "## Solution Overview\n",
    "Build a frequency map, sort counts in descending order, and greedily remove the highest frequencies until at least half the array is eliminated. Count how many distinct values were removed.\n"
   ]
  },
  {
   "cell_type": "markdown",
   "id": "73f06a41",
   "metadata": {},
   "source": [
    "## Detailed Explanation\n",
    "1. Use a Counter to compute `freq[value]` for every distinct value in arr.\n",
    "2. Sort the frequency values in descending order.\n",
    "3. Iterate through the sorted counts, maintaining `removed` as the total number of elements removed and `chosen` as the number of values selected.\n",
    "4. Stop when `removed` reaches at least half the original array size and return `chosen`.\n",
    "\n",
    "A bucket sort variant can achieve linear time, but sorting the counts is usually sufficient for n up to 10^5.\n"
   ]
  },
  {
   "cell_type": "markdown",
   "id": "a6ca43cb",
   "metadata": {},
   "source": [
    "## Complexity Trade-off Table\n",
    "| Approach | Time Complexity | Space Complexity |\n",
    "| --- | --- | --- |\n",
    "| Sort frequencies | O(n log n) | O(n) |\n",
    "| Bucket sort frequencies | O(n) | O(n) |\n"
   ]
  },
  {
   "cell_type": "markdown",
   "id": "6a3b27d2",
   "metadata": {},
   "source": [
    "## Reference Implementation\n"
   ]
  },
  {
   "cell_type": "code",
   "execution_count": null,
   "id": "a0e47c86",
   "metadata": {},
   "outputs": [],
   "source": [
    "from collections import Counter\n",
    "from typing import List\n",
    "\n",
    "\n",
    "class Solution:\n",
    "    def minSetSize(self, arr: List[int]) -> int:\n",
    "        freq = Counter(arr)\n",
    "        counts = sorted(freq.values(), reverse=True)\n",
    "\n",
    "        removed = 0\n",
    "        chosen = 0\n",
    "        target = (len(arr) + 1) // 2\n",
    "\n",
    "        for count in counts:\n",
    "            removed += count\n",
    "            chosen += 1\n",
    "            if removed >= target:\n",
    "                return chosen\n",
    "\n",
    "        return chosen\n"
   ]
  },
  {
   "cell_type": "markdown",
   "id": "8ec1209d",
   "metadata": {},
   "source": [
    "## Complexity Analysis\n",
    "- Time Complexity: O(n log n) to sort the frequency counts.\n",
    "- Space Complexity: O(n) to store the frequency map and sorted counts.\n",
    "- Bottlenecks: Sorting dominates; the greedy accumulation is linear.\n"
   ]
  },
  {
   "cell_type": "markdown",
   "id": "67dcdf57",
   "metadata": {},
   "source": [
    "## Edge Cases & Pitfalls\n",
    "- Compute the removal target with ceiling division to handle odd lengths correctly.\n",
    "- A single dominant value may satisfy the condition alone; the loop must return 1 in that case.\n",
    "- Bucket sort is optional but beneficial if counts are heavily skewed and n is large.\n"
   ]
  },
  {
   "cell_type": "markdown",
   "id": "f8f046f2",
   "metadata": {},
   "source": [
    "## Follow-up Variants\n",
    "- Output the actual set of values removed instead of just its size.\n",
    "- Use bucket sort to achieve O(n) time when arr length is extremely large.\n",
    "- Consider weighted deletions where removing a value has an associated cost.\n"
   ]
  },
  {
   "cell_type": "markdown",
   "id": "4ecc3ff9",
   "metadata": {},
   "source": [
    "## Takeaways\n",
    "- Frequency counting plus greedy selection is a standard reduction strategy.\n",
    "- Sorting frequencies provides a simple yet effective heuristic.\n",
    "- Careful threshold calculations prevent off-by-one errors when halving sizes.\n"
   ]
  },
  {
   "cell_type": "markdown",
   "id": "075eb630",
   "metadata": {},
   "source": [
    "## Similar Problems\n",
    "| Problem ID | Problem Title | Technique |\n",
    "| --- | --- | --- |\n",
    "| 347 | Top K Frequent Elements | Frequency sorting |\n",
    "| 451 | Sort Characters by Frequency | Bucket counts |\n",
    "| 2085 | Count Common Words With One Occurrence | Hash counting |\n"
   ]
  }
 ],
 "metadata": {
  "kernelspec": {
   "display_name": "Python 3 (ipykernel)",
   "language": "python",
   "name": "python3"
  },
  "language_info": {
   "codemirror_mode": {
    "name": "ipython",
    "version": 3
   },
   "file_extension": ".py",
   "mimetype": "text/x-python",
   "name": "python",
   "nbconvert_exporter": "python",
   "pygments_lexer": "ipython3",
   "version": "3.13.3"
  }
 },
 "nbformat": 4,
 "nbformat_minor": 5
}