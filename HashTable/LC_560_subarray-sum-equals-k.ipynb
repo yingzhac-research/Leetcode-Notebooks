{
 "cells": [
  {
   "cell_type": "markdown",
   "id": "91605b40",
   "metadata": {},
   "source": [
    "# 560. Subarray Sum Equals K"
   ]
  },
  {
   "cell_type": "markdown",
   "id": "ed91fa97",
   "metadata": {},
   "source": [
    "## Topic Alignment\n",
    "- **Role Relevance**: Prefix-sum hash maps power streaming aggregations and anomaly detection in logs.\n",
    "- **Scenario**: Useful for monitoring rolling sums in metrics pipelines, such as detecting windows matching target thresholds."
   ]
  },
  {
   "cell_type": "markdown",
   "id": "3c5f2937",
   "metadata": {},
   "source": [
    "## Metadata Summary\n",
    "- Source: [LeetCode - Subarray Sum Equals K](https://leetcode.com/problems/subarray-sum-equals-k/)\n",
    "- Tags: `Array`, `Hash Table`, `Prefix Sum`\n",
    "- Difficulty: Medium\n",
    "- Recommended Priority: High"
   ]
  },
  {
   "cell_type": "markdown",
   "id": "b26eb97d",
   "metadata": {},
   "source": [
    "## Problem Statement\n",
    "Given an array of integers `nums` and an integer `k`, return the total number of subarrays whose sum equals `k`."
   ]
  },
  {
   "cell_type": "markdown",
   "id": "a1add176",
   "metadata": {},
   "source": [
    "## Progressive Hints\n",
    "- Hint 1: Subarray sums can be derived from prefix sums.\n",
    "- Hint 2: If `prefix[j] - prefix[i] == k`, then subarray `(i, j]` sums to `k`.\n",
    "- Hint 3: Keep a hash map counting how often each prefix sum has occurred as you scan the array."
   ]
  },
  {
   "cell_type": "markdown",
   "id": "70fa3e63",
   "metadata": {},
   "source": [
    "## Solution Overview\n",
    "Use a running prefix sum and a hash map that tracks how many times each sum has occurred. For each new prefix sum, increment the answer by the number of times `current_sum - k` has been seen."
   ]
  },
  {
   "cell_type": "markdown",
   "id": "618c0b44",
   "metadata": {},
   "source": [
    "## Detailed Explanation\n",
    "1. Initialize a dictionary with `{0: 1}` to handle subarrays starting at index 0.\n",
    "2. Iterate through `nums`, accumulating `current_sum`.\n",
    "3. For each element, the number of subarrays ending at the current index with sum `k` equals the count of `(current_sum - k)` seen so far.\n",
    "4. Add that count to the result.\n",
    "5. Update the dictionary with the new `current_sum`.\n",
    "6. Continue until the array is fully processed."
   ]
  },
  {
   "cell_type": "markdown",
   "id": "587cef3b",
   "metadata": {},
   "source": [
    "## Complexity Trade-off Table\n",
    "| Approach | Time Complexity | Space Complexity | Notes |\n",
    "| --- | --- | --- | --- |\n",
    "| Brute force | O(n^2) | O(1) | Too slow for large inputs. |\n",
    "| Prefix sum hash map | O(n) | O(n) | Efficient and meets constraints. |"
   ]
  },
  {
   "cell_type": "code",
   "execution_count": null,
   "id": "3e3fc128",
   "metadata": {},
   "outputs": [],
   "source": [
    "from collections import defaultdict\n",
    "from typing import List\n",
    "\n",
    "\n",
    "def subarraySum(nums: List[int], k: int) -> int:\n",
    "    \"\"\"Count subarrays whose sum equals k using prefix sums.\"\"\"\n",
    "    prefix_counts = defaultdict(int)\n",
    "    prefix_counts[0] = 1  # Empty prefix baseline.\n",
    "    current_sum = 0\n",
    "    result = 0\n",
    "\n",
    "    for num in nums:\n",
    "        current_sum += num\n",
    "        result += prefix_counts[current_sum - k]  # Count matching prefixes.\n",
    "        prefix_counts[current_sum] += 1  # Record current prefix.\n",
    "    return result\n"
   ]
  },
  {
   "cell_type": "markdown",
   "id": "89d94cef",
   "metadata": {},
   "source": [
    "## Complexity Analysis\n",
    "- Time Complexity: `O(n)` since each element is processed once.\n",
    "- Space Complexity: `O(n)` in the worst case due to distinct prefix sums.\n",
    "- Bottleneck: Hash map operations for prefix counts."
   ]
  },
  {
   "cell_type": "markdown",
   "id": "9444c025",
   "metadata": {},
   "source": [
    "## Edge Cases & Pitfalls\n",
    "- Negative numbers are allowed, so sliding windows alone do not work.\n",
    "- Multiple zeros require accurate prefix counts to capture overlapping subarrays.\n",
    "- Large arrays need efficient dictionary operations to maintain performance."
   ]
  },
  {
   "cell_type": "markdown",
   "id": "e2c2365e",
   "metadata": {},
   "source": [
    "## Follow-up Variants\n",
    "- Track the actual subarray indices by storing lists of positions per prefix sum.\n",
    "- Apply the technique in two dimensions using prefix-sum matrices.\n",
    "- Stream the array elements and maintain counts in an online fashion."
   ]
  },
  {
   "cell_type": "markdown",
   "id": "64def0e6",
   "metadata": {},
   "source": [
    "## Takeaways\n",
    "- Prefix sums combined with hash maps unlock linear-time subarray counting.\n",
    "- Initializing the map with zero handles subarrays starting at index 0 elegantly.\n",
    "- This pattern appears in monitoring target metrics across telemetry streams."
   ]
  },
  {
   "cell_type": "markdown",
   "id": "2fa4d81d",
   "metadata": {},
   "source": [
    "## Similar Problems\n",
    "| Problem ID | Problem Title | Technique |\n",
    "| --- | --- | --- |\n",
    "| 437 | Path Sum III | Prefix sums on trees |\n",
    "| 523 | Continuous Subarray Sum | Prefix sums with modulo |\n",
    "| 1248 | Count Number of Nice Subarrays | Prefix sum with target counts |"
   ]
  }
 ],
 "metadata": {
  "kernelspec": {
   "display_name": "Python 3 (ipykernel)",
   "language": "python",
   "name": "python3"
  },
  "language_info": {
   "codemirror_mode": {
    "name": "ipython",
    "version": 3
   },
   "file_extension": ".py",
   "mimetype": "text/x-python",
   "name": "python",
   "nbconvert_exporter": "python",
   "pygments_lexer": "ipython3",
   "version": "3.13.3"
  }
 },
 "nbformat": 4,
 "nbformat_minor": 5
}