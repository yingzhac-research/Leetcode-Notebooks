{
 "cells": [
  {
   "cell_type": "markdown",
   "id": "2ffd7531",
   "metadata": {},
   "source": [
    "# 1331. Rank Transform of an Array\n"
   ]
  },
  {
   "cell_type": "markdown",
   "id": "d6cf5350",
   "metadata": {},
   "source": [
    "## Topic Alignment\n",
    "- MLE Connection: Rank transforms mirror feature normalization during preprocessing.\n",
    "- Hash Table Role: Map each distinct value to its compressed rank for efficient lookups.\n",
    "- Interview Angle: Demonstrates combining sorting with hash-based value compression.\n"
   ]
  },
  {
   "cell_type": "markdown",
   "id": "c4aa814a",
   "metadata": {},
   "source": [
    "## Metadata Summary\n",
    "- Source: https://leetcode.com/problems/rank-transform-of-an-array/\n",
    "- Tags: Array, Hash Table, Sorting\n",
    "- Difficulty: Easy\n",
    "- Recommended Review Priority: Medium\n"
   ]
  },
  {
   "cell_type": "markdown",
   "id": "6082efee",
   "metadata": {},
   "source": [
    "## Problem Statement\n",
    "Given an array of integers arr, replace each element with its rank. The rank represents how large the element is compared to other unique values, starting at 1 for the smallest value. Equal elements should receive the same rank, and ranks should be consecutive integers.\n"
   ]
  },
  {
   "cell_type": "markdown",
   "id": "a5bb34bd",
   "metadata": {},
   "source": [
    "## Progressive Hints\n",
    "- Hint 1: Sort the unique values to determine their rank order.\n",
    "- Hint 2: Build a dictionary mapping value to rank based on the sorted unique list.\n",
    "- Hint 3: Apply the mapping back to the original array to produce the rank transform.\n"
   ]
  },
  {
   "cell_type": "markdown",
   "id": "f1cd4272",
   "metadata": {},
   "source": [
    "## Solution Overview\n",
    "Create a sorted list of unique values, assign ranks sequentially, and store them in a dictionary. Map each original element through the dictionary to produce the resulting array.\n"
   ]
  },
  {
   "cell_type": "markdown",
   "id": "9501a2d2",
   "metadata": {},
   "source": [
    "## Detailed Explanation\n",
    "1. Extract the set of unique values using `sorted(set(arr))`.\n",
    "2. Enumerate this sorted list, assigning ranks starting at 1 (i + 1).\n",
    "3. Store value -> rank in a dictionary `rank_map`.\n",
    "4. Generate the result by replacing each arr[i] with `rank_map[arr[i]]`.\n",
    "\n",
    "This ensures equal values share ranks while maintaining ascending order ranks.\n"
   ]
  },
  {
   "cell_type": "markdown",
   "id": "26f1f8b6",
   "metadata": {},
   "source": [
    "## Complexity Trade-off Table\n",
    "| Approach | Time Complexity | Space Complexity |\n",
    "| --- | --- | --- |\n",
    "| Sort unique values and map | O(n log n) | O(n) |\n",
    "| Binary search per element | O(n log n) | O(1) |\n"
   ]
  },
  {
   "cell_type": "markdown",
   "id": "f2484a4d",
   "metadata": {},
   "source": [
    "## Reference Implementation\n"
   ]
  },
  {
   "cell_type": "code",
   "execution_count": null,
   "id": "a5d99034",
   "metadata": {},
   "outputs": [],
   "source": [
    "class Solution:\n",
    "    def arrayRankTransform(self, arr: list[int]) -> list[int]:\n",
    "        if not arr:\n",
    "            return []\n",
    "\n",
    "        sorted_unique = sorted(set(arr))\n",
    "        rank_map = {value: rank for rank, value in enumerate(sorted_unique, start=1)}\n",
    "\n",
    "        return [rank_map[value] for value in arr]\n"
   ]
  },
  {
   "cell_type": "markdown",
   "id": "c9545cea",
   "metadata": {},
   "source": [
    "## Complexity Analysis\n",
    "- Time Complexity: O(n log n) due to sorting the unique values.\n",
    "- Space Complexity: O(n) to store the rank mapping and the output array.\n",
    "- Bottlenecks: Sorting dominates; dictionary lookups are constant time.\n"
   ]
  },
  {
   "cell_type": "markdown",
   "id": "2356795f",
   "metadata": {},
   "source": [
    "## Edge Cases & Pitfalls\n",
    "- Handle empty arrays gracefully by returning an empty list.\n",
    "- Negative values should be included in the ordering without adjustments.\n",
    "- Ensure ranks start at 1, not 0, to match the problem statement.\n"
   ]
  },
  {
   "cell_type": "markdown",
   "id": "74840a4a",
   "metadata": {},
   "source": [
    "## Follow-up Variants\n",
    "- Support streaming rank updates as new values append to the array.\n",
    "- Apply rank transform to multi-dimensional arrays by flattening and reshaping.\n",
    "- Combine rank transform with normalization to map ranks into [0, 1].\n"
   ]
  },
  {
   "cell_type": "markdown",
   "id": "fcdcc600",
   "metadata": {},
   "source": [
    "## Takeaways\n",
    "- Hash maps efficiently bridge sorted unique values back to the original order.\n",
    "- Value compression is a common prerequisite for Fenwick trees and segment trees.\n",
    "- Deduplicating via set before sorting reduces overhead when duplicates are common.\n"
   ]
  },
  {
   "cell_type": "markdown",
   "id": "5ec16211",
   "metadata": {},
   "source": [
    "## Similar Problems\n",
    "| Problem ID | Problem Title | Technique |\n",
    "| --- | --- | --- |\n",
    "| 1122 | Relative Sort Array | Custom ordering |\n",
    "| 274 | H-Index | Sorting with ranks |\n",
    "| 1333 | Filter Restaurants by Vegan-Friendly | Ranking with filters |\n"
   ]
  }
 ],
 "metadata": {
  "kernelspec": {
   "display_name": "Python 3 (ipykernel)",
   "language": "python",
   "name": "python3"
  },
  "language_info": {
   "codemirror_mode": {
    "name": "ipython",
    "version": 3
   },
   "file_extension": ".py",
   "mimetype": "text/x-python",
   "name": "python",
   "nbconvert_exporter": "python",
   "pygments_lexer": "ipython3",
   "version": "3.13.3"
  }
 },
 "nbformat": 4,
 "nbformat_minor": 5
}