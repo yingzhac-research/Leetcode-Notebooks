{
 "cells": [
  {
   "cell_type": "markdown",
   "id": "67667ecf",
   "metadata": {},
   "source": [
    "# 202. Happy Number"
   ]
  },
  {
   "cell_type": "markdown",
   "id": "6a873704",
   "metadata": {},
   "source": [
    "## Topic Alignment\n",
    "- **Role Relevance**: Cycle detection techniques apply to iterative feature transformations, ensuring convergence of normalizers.\n",
    "- **Scenario**: Prevent infinite loops in feature hashing pipelines where repeated transformations must stabilize."
   ]
  },
  {
   "cell_type": "markdown",
   "id": "cebaff62",
   "metadata": {},
   "source": [
    "## Metadata Summary\n",
    "- Source: [LeetCode - Happy Number](https://leetcode.com/problems/happy-number/)\n",
    "- Tags: `Hash Table`, `Math`\n",
    "- Difficulty: Easy\n",
    "- Recommended Priority: Medium"
   ]
  },
  {
   "cell_type": "markdown",
   "id": "63e0042a",
   "metadata": {},
   "source": [
    "## Problem Statement\n",
    "Write an algorithm to determine if a number `n` is happy.\n",
    "\n",
    "A happy number is defined by the following process:\n",
    "- Starting with any positive integer, replace the number by the sum of the squares of its digits.\n",
    "- Repeat the process until the number equals 1 (where it will stay), or it loops endlessly in a cycle that does not include 1.\n",
    "- Those numbers for which this process ends in 1 are happy."
   ]
  },
  {
   "cell_type": "markdown",
   "id": "6d0ef7a0",
   "metadata": {},
   "source": [
    "## Progressive Hints\n",
    "- Hint 1: Track previously seen numbers to detect loops.\n",
    "- Hint 2: Alternatively, apply Floyd's cycle detection using two iterators.\n",
    "- Hint 3: Precompute digit square sums for better clarity if desired."
   ]
  },
  {
   "cell_type": "markdown",
   "id": "95df326d",
   "metadata": {},
   "source": [
    "## Solution Overview\n",
    "Iteratively compute the digit-square sum while recording numbers seen; if 1 is reached, the number is happy. If a previously seen sum reappears, a cycle exists and the number is unhappy."
   ]
  },
  {
   "cell_type": "markdown",
   "id": "ed85df0f",
   "metadata": {},
   "source": [
    "## Detailed Explanation\n",
    "1. Define a helper to compute the sum of squared digits for a given integer.\n",
    "2. Initialize a set to store numbers encountered during the sequence.\n",
    "3. Repeatedly transform `n` into its digit-square sum.\n",
    "4. If the result is 1, return `True`.\n",
    "5. If the result has been seen before, return `False` because a loop was detected.\n",
    "6. Otherwise continue the process."
   ]
  },
  {
   "cell_type": "markdown",
   "id": "0163f646",
   "metadata": {},
   "source": [
    "## Complexity Trade-off Table\n",
    "| Approach | Time Complexity | Space Complexity | Notes |\n",
    "| --- | --- | --- | --- |\n",
    "| Hash set cycle detection | O(log n) | O(log n) | Clear and simple. |\n",
    "| Floyd's cycle detection | O(log n) | O(1) | Saves memory but slightly trickier. |"
   ]
  },
  {
   "cell_type": "code",
   "execution_count": null,
   "id": "563f2e0b",
   "metadata": {},
   "outputs": [],
   "source": [
    "def isHappy(n: int) -> bool:\n",
    "    \"\"\"Determine whether repeated digit-square sums converge to 1.\"\"\"\n",
    "    def next_value(value: int) -> int:\n",
    "        total = 0\n",
    "        while value > 0:\n",
    "            digit = value % 10\n",
    "            total += digit * digit\n",
    "            value //= 10\n",
    "        return total\n",
    "\n",
    "    seen = set()\n",
    "    while n != 1 and n not in seen:\n",
    "        seen.add(n)  # Record current value to detect loops.\n",
    "        n = next_value(n)\n",
    "    return n == 1\n"
   ]
  },
  {
   "cell_type": "markdown",
   "id": "c04977db",
   "metadata": {},
   "source": [
    "## Complexity Analysis\n",
    "- Time Complexity: `O(log n)` because the number of digits shrinks rapidly, leading to a bounded cycle length.\n",
    "- Space Complexity: `O(log n)` for the seen set capturing intermediate values.\n",
    "- Bottleneck: Iterative digit extraction and squaring dominate runtime."
   ]
  },
  {
   "cell_type": "markdown",
   "id": "1076d09c",
   "metadata": {},
   "source": [
    "## Edge Cases & Pitfalls\n",
    "- Input of 1 is trivially happy.\n",
    "- Large numbers converge quickly; ensure integer operations remain efficient.\n",
    "- Avoid infinite loops by checking membership before repeating the process."
   ]
  },
  {
   "cell_type": "markdown",
   "id": "a912787f",
   "metadata": {},
   "source": [
    "## Follow-up Variants\n",
    "- Return the length of the cycle detected for analytical purposes.\n",
    "- Apply the same process in different bases to explore generalized happy numbers.\n",
    "- Use Floyd's cycle detection to reduce memory consumption in constrained environments."
   ]
  },
  {
   "cell_type": "markdown",
   "id": "5ab9236a",
   "metadata": {},
   "source": [
    "## Takeaways\n",
    "- Hash sets provide an easy pattern for cycle detection in iterative sequences.\n",
    "- Breaking complex transformations into helper functions improves clarity.\n",
    "- Cycle detection is critical when validating convergence guarantees in ML preprocessing."
   ]
  },
  {
   "cell_type": "markdown",
   "id": "d128610c",
   "metadata": {},
   "source": [
    "## Similar Problems\n",
    "| Problem ID | Problem Title | Technique |\n",
    "| --- | --- | --- |\n",
    "| 141 | Linked List Cycle | Cycle detection |\n",
    "| 202 | Happy Number | Hash set cycle detection |\n",
    "| 442 | Find All Duplicates in an Array | Hashing for seen elements |"
   ]
  }
 ],
 "metadata": {
  "kernelspec": {
   "display_name": "Python 3 (ipykernel)",
   "language": "python",
   "name": "python3"
  },
  "language_info": {
   "codemirror_mode": {
    "name": "ipython",
    "version": 3
   },
   "file_extension": ".py",
   "mimetype": "text/x-python",
   "name": "python",
   "nbconvert_exporter": "python",
   "pygments_lexer": "ipython3",
   "version": "3.13.3"
  }
 },
 "nbformat": 4,
 "nbformat_minor": 5
}