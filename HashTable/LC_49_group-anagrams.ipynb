{
 "cells": [
  {
   "cell_type": "markdown",
   "id": "28fa60a1",
   "metadata": {},
   "source": [
    "# 49. Group Anagrams"
   ]
  },
  {
   "cell_type": "markdown",
   "id": "50511016",
   "metadata": {},
   "source": [
    "## Topic Alignment\n",
    "- **Role Relevance**: Clustering tokens by normalized form mirrors feature bucketing for text preprocessing in ML pipelines.\n",
    "- **Scenario**: Helps deduplicate query terms or surface candidate synonyms during data cleaning stages."
   ]
  },
  {
   "cell_type": "markdown",
   "id": "873d806b",
   "metadata": {},
   "source": [
    "## Metadata Summary\n",
    "- Source: [LeetCode - Group Anagrams](https://leetcode.com/problems/group-anagrams/)\n",
    "- Tags: `Array`, `Hash Table`, `String`\n",
    "- Difficulty: Medium\n",
    "- Recommended Priority: High"
   ]
  },
  {
   "cell_type": "markdown",
   "id": "2bc6c7d3",
   "metadata": {},
   "source": [
    "## Problem Statement\n",
    "Given an array of strings `strs`, group the anagrams together. You can return the answer in any order.\n",
    "\n",
    "An anagram is a word or phrase formed by rearranging the letters of another word or phrase, using all the original letters exactly once."
   ]
  },
  {
   "cell_type": "markdown",
   "id": "f34b8227",
   "metadata": {},
   "source": [
    "## Progressive Hints\n",
    "- Hint 1: Sorting each word provides a canonical representation for grouping.\n",
    "- Hint 2: Alternatively, use character frequency counts as the hash key to avoid sorting costs.\n",
    "- Hint 3: Store groups in a dictionary keyed by the canonical form and append words as you traverse the list."
   ]
  },
  {
   "cell_type": "markdown",
   "id": "15724cf0",
   "metadata": {},
   "source": [
    "## Solution Overview\n",
    "Transform each word into a canonical signature that represents its letter composition (either sorted string or frequency tuple), then group words by that signature using a hash map."
   ]
  },
  {
   "cell_type": "markdown",
   "id": "fea8bf27",
   "metadata": {},
   "source": [
    "## Detailed Explanation\n",
    "1. Initialize a dictionary mapping from signature to the list of words.\n",
    "2. For each string, compute a 26-length count tuple describing letter frequencies.\n",
    "3. Use the tuple as the key; append the original string to the map entry.\n",
    "4. After processing all words, return the dictionary values as grouped anagrams.\n",
    "\n",
    "The frequency tuple approach avoids repeated string sorting and keeps the key generation O(L)."
   ]
  },
  {
   "cell_type": "markdown",
   "id": "a7552331",
   "metadata": {},
   "source": [
    "## Complexity Trade-off Table\n",
    "| Approach | Time Complexity | Space Complexity | Notes |\n",
    "| --- | --- | --- | --- |\n",
    "| Sort each string | O(n * L log L) | O(n * L) | Simple but sorting costs dominate for long strings. |\n",
    "| Frequency tuple key | O(n * L) | O(n * L) | Optimal for lowercase alphabet; trades memory for speed. |"
   ]
  },
  {
   "cell_type": "code",
   "execution_count": null,
   "id": "7ac6f063",
   "metadata": {},
   "outputs": [],
   "source": [
    "from collections import defaultdict\n",
    "from typing import List\n",
    "\n",
    "\n",
    "def groupAnagrams(strs: List[str]) -> List[List[str]]:\n",
    "    \"\"\"Group words that are anagrams using character frequency signatures.\"\"\"\n",
    "    groups = defaultdict(list)\n",
    "    for word in strs:\n",
    "        counts = [0] * 26\n",
    "        for char in word:\n",
    "            counts[ord(char) - ord('a')] += 1  # Count each letter.\n",
    "        signature = tuple(counts)  # Use tuple as hashable key.\n",
    "        groups[signature].append(word)\n",
    "    return list(groups.values())\n"
   ]
  },
  {
   "cell_type": "markdown",
   "id": "2d9f0282",
   "metadata": {},
   "source": [
    "## Complexity Analysis\n",
    "- Time Complexity: `O(n * L)` where `n` is the number of words and `L` is the average word length.\n",
    "- Space Complexity: `O(n * L)` to store grouped words and their signatures.\n",
    "- Bottleneck: Building and hashing the frequency tuples dominates runtime."
   ]
  },
  {
   "cell_type": "markdown",
   "id": "bbb155f8",
   "metadata": {},
   "source": [
    "## Edge Cases & Pitfalls\n",
    "- Handle empty strings; they form a valid anagram group.\n",
    "- Ensure the signature accounts for all 26 letters even if absent.\n",
    "- Beware of mutating lists used as keys; tuples are required for hashing."
   ]
  },
  {
   "cell_type": "markdown",
   "id": "64a9c012",
   "metadata": {},
   "source": [
    "## Follow-up Variants\n",
    "- Support Unicode characters by expanding the signature dimension dynamically.\n",
    "- Provide counts of groups rather than the grouped words themselves for analytics.\n",
    "- Stream inputs and emit group IDs on the fly using consistent hashing."
   ]
  },
  {
   "cell_type": "markdown",
   "id": "262ccbf5",
   "metadata": {},
   "source": [
    "## Takeaways\n",
    "- Canonical representations let hash tables cluster equivalent data efficiently.\n",
    "- Frequency vectors are a common trick in NLP preprocessing for ML pipelines.\n",
    "- Separating signature generation from grouping keeps the solution modular."
   ]
  },
  {
   "cell_type": "markdown",
   "id": "cd4ca609",
   "metadata": {},
   "source": [
    "## Similar Problems\n",
    "| Problem ID | Problem Title | Technique |\n",
    "| --- | --- | --- |\n",
    "| 242 | Valid Anagram | Frequency counting |\n",
    "| 451 | Sort Characters By Frequency | Hash map frequencies with sorting |\n",
    "| 187 | Repeated DNA Sequences | Hashing fixed-length strings |"
   ]
  }
 ],
 "metadata": {
  "kernelspec": {
   "display_name": "Python 3 (ipykernel)",
   "language": "python",
   "name": "python3"
  },
  "language_info": {
   "codemirror_mode": {
    "name": "ipython",
    "version": 3
   },
   "file_extension": ".py",
   "mimetype": "text/x-python",
   "name": "python",
   "nbconvert_exporter": "python",
   "pygments_lexer": "ipython3",
   "version": "3.13.3"
  }
 },
 "nbformat": 4,
 "nbformat_minor": 5
}