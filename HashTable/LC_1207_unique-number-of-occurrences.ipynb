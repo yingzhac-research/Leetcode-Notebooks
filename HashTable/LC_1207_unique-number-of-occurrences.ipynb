{
 "cells": [
  {
   "cell_type": "markdown",
   "id": "7241f8e0",
   "metadata": {},
   "source": [
    "# 1207. Unique Number of Occurrences"
   ]
  },
  {
   "cell_type": "markdown",
   "id": "f6726bbc",
   "metadata": {},
   "source": [
    "## Topic Alignment\n",
    "- **Role Relevance**: Ensuring frequency uniqueness mirrors validating categorical feature distributions for leakage detection.\n",
    "- **Scenario**: Helps confirm no two feature values share identical counts when enforcing quotas in datasets."
   ]
  },
  {
   "cell_type": "markdown",
   "id": "3eff5b50",
   "metadata": {},
   "source": [
    "## Metadata Summary\n",
    "- Source: [LeetCode - Unique Number of Occurrences](https://leetcode.com/problems/unique-number-of-occurrences/)\n",
    "- Tags: `Hash Table`, `Array`\n",
    "- Difficulty: Easy\n",
    "- Recommended Priority: Medium"
   ]
  },
  {
   "cell_type": "markdown",
   "id": "ea892534",
   "metadata": {},
   "source": [
    "## Problem Statement\n",
    "Given an array of integers `arr`, return `True` if the number of occurrences of each value in `arr` is unique. Otherwise, return `False`."
   ]
  },
  {
   "cell_type": "markdown",
   "id": "7d054711",
   "metadata": {},
   "source": [
    "## Progressive Hints\n",
    "- Hint 1: Count each value's frequency with a hash map.\n",
    "- Hint 2: Insert the frequency counts into a set to detect duplicates.\n",
    "- Hint 3: If any frequency repeats, the condition fails."
   ]
  },
  {
   "cell_type": "markdown",
   "id": "38c78018",
   "metadata": {},
   "source": [
    "## Solution Overview\n",
    "Count occurrences with a hash map, then ensure all frequency counts are unique by comparing set size with the number of distinct values."
   ]
  },
  {
   "cell_type": "markdown",
   "id": "50a75cad",
   "metadata": {},
   "source": [
    "## Detailed Explanation\n",
    "1. Traverse `arr` to tally occurrences using a dictionary.\n",
    "2. Create a set from the frequency values.\n",
    "3. If the set size differs from the number of keys, some frequencies duplicate and the answer is `False`.\n",
    "4. Otherwise, return `True`."
   ]
  },
  {
   "cell_type": "markdown",
   "id": "f09f73bf",
   "metadata": {},
   "source": [
    "## Complexity Trade-off Table\n",
    "| Approach | Time Complexity | Space Complexity | Notes |\n",
    "| --- | --- | --- | --- |\n",
    "| Sort frequencies | O(n log n) | O(1) | Simpler but slower. |\n",
    "| Hash map + set | O(n) | O(n) | Linear time with additional memory. |"
   ]
  },
  {
   "cell_type": "code",
   "execution_count": null,
   "id": "088ced56",
   "metadata": {},
   "outputs": [],
   "source": [
    "from collections import Counter\n",
    "from typing import List\n",
    "\n",
    "\n",
    "def uniqueOccurrences(arr: List[int]) -> bool:\n",
    "    \"\"\"Return True if all occurrence counts are unique.\"\"\"\n",
    "    freq = Counter(arr)\n",
    "    counts = set()\n",
    "    for count in freq.values():\n",
    "        if count in counts:\n",
    "            return False  # Duplicate frequency found.\n",
    "        counts.add(count)\n",
    "    return True\n"
   ]
  },
  {
   "cell_type": "markdown",
   "id": "2c4900ca",
   "metadata": {},
   "source": [
    "## Complexity Analysis\n",
    "- Time Complexity: `O(n)` where `n` is the length of `arr`.\n",
    "- Space Complexity: `O(n)` for the frequency map and set.\n",
    "- Bottleneck: Frequency counting; still linear and efficient for constraint limits."
   ]
  },
  {
   "cell_type": "markdown",
   "id": "6ce8c135",
   "metadata": {},
   "source": [
    "## Edge Cases & Pitfalls\n",
    "- Single-element arrays always return `True`.\n",
    "- Negative numbers are handled seamlessly by the counter.\n",
    "- Ensure the set stores counts, not values."
   ]
  },
  {
   "cell_type": "markdown",
   "id": "dc7055b6",
   "metadata": {},
   "source": [
    "## Follow-up Variants\n",
    "- Report which values share duplicate frequencies.\n",
    "- Handle streaming data by maintaining counts incrementally.\n",
    "- Extend to multi-dimensional data (e.g., per-feature frequencies) with nested maps."
   ]
  },
  {
   "cell_type": "markdown",
   "id": "33787a54",
   "metadata": {},
   "source": [
    "## Takeaways\n",
    "- Hash maps paired with sets provide quick uniqueness checks.\n",
    "- Counting patterns like this frequently surface in data validation steps.\n",
    "- Keeping logic declarative simplifies reasoning about constraints."
   ]
  },
  {
   "cell_type": "markdown",
   "id": "946d269c",
   "metadata": {},
   "source": [
    "## Similar Problems\n",
    "| Problem ID | Problem Title | Technique |\n",
    "| --- | --- | --- |\n",
    "| 451 | Sort Characters By Frequency | Frequency analysis |\n",
    "| 347 | Top K Frequent Elements | Hash map counting |\n",
    "| 205 | Isomorphic Strings | Mapping uniqueness |"
   ]
  }
 ],
 "metadata": {
  "kernelspec": {
   "display_name": "Python 3 (ipykernel)",
   "language": "python",
   "name": "python3"
  },
  "language_info": {
   "codemirror_mode": {
    "name": "ipython",
    "version": 3
   },
   "file_extension": ".py",
   "mimetype": "text/x-python",
   "name": "python",
   "nbconvert_exporter": "python",
   "pygments_lexer": "ipython3",
   "version": "3.13.3"
  }
 },
 "nbformat": 4,
 "nbformat_minor": 5
}