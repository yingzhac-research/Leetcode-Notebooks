{
 "cells": [
  {
   "cell_type": "markdown",
   "metadata": {},
   "source": "# 451. Sort Characters By Frequency"
  },
  {
   "cell_type": "markdown",
   "metadata": {},
   "source": "## Topic Alignment\n- **Role Relevance**: Character frequency sorting reflects feature ranking tasks based on occurrence counts in ML preprocessing.\n- **Scenario**: Useful for prioritizing categorical feature values by popularity before encoding or sampling."
  },
  {
   "cell_type": "markdown",
   "metadata": {},
   "source": "## Metadata Summary\n- Source: [LeetCode - Sort Characters By Frequency](https://leetcode.com/problems/sort-characters-by-frequency/)\n- Tags: `Hash Table`, `String`, `Bucket Sort`\n- Difficulty: Medium\n- Recommended Priority: Medium"
  },
  {
   "cell_type": "markdown",
   "metadata": {},
   "source": "## Problem Statement\nGiven a string `s`, sort it in decreasing order based on the frequency of characters. Return the sorted string. If multiple answers are possible, return any of them."
  },
  {
   "cell_type": "markdown",
   "metadata": {},
   "source": "## Constraints\n- `1 <= s.length <= 5 * 10^5`\n- `s` consists of uppercase and lowercase English letters and digits"
  },
  {
   "cell_type": "markdown",
   "metadata": {},
   "source": "## Progressive Hints\n- Hint 1: Count each character's frequency using a hash map.\n- Hint 2: Bucket characters by their frequency to avoid repeated sorting.\n- Hint 3: Build the result by traversing buckets from high to low frequency."
  },
  {
   "cell_type": "markdown",
   "metadata": {},
   "source": "## Solution Overview\nCompute character frequencies with a hash map, place characters into buckets indexed by frequency, then concatenate characters from highest to lowest frequency to form the result string."
  },
  {
   "cell_type": "markdown",
   "metadata": {},
   "source": "## Detailed Explanation\n1. Iterate through `s` and count character occurrences in a dictionary.\n2. Create a list of buckets where index `i` holds characters that appear exactly `i` times.\n3. Populate the buckets using the frequency map.\n4. Traverse the buckets from high to low, appending each character `freq` times to the output builder.\n5. Join the builder into a final string and return it."
  },
  {
   "cell_type": "markdown",
   "metadata": {},
   "source": "## Complexity Trade-off Table\n| Approach | Time Complexity | Space Complexity | Notes |\n| --- | --- | --- | --- |\n| Sort pairs by frequency | O(n log n) | O(n) | Simple but slower for long strings. |\n| Bucket by frequency | O(n) | O(n) | Meets linear time by leveraging counts. |"
  },
  {
   "cell_type": "code",
   "metadata": {},
   "execution_count": null,
   "outputs": [],
   "source": "from collections import Counter\n\n\ndef frequencySort(s: str) -> str:\n    \"\"\"Return s sorted by descending character frequency.\"\"\"\n    freq = Counter(s)\n    buckets = [[] for _ in range(len(s) + 1)]\n    for char, count in freq.items():\n        buckets[count].append(char)  # Group characters with identical counts.\n\n    result_chars = []\n    for count in range(len(buckets) - 1, 0, -1):\n        for char in buckets[count]:\n            result_chars.append(char * count)  # Repeat char according to frequency.\n    return ''.join(result_chars)\n"
  },
  {
   "cell_type": "markdown",
   "metadata": {},
   "source": "## Complexity Analysis\n- Time Complexity: `O(n)` where `n` is the length of `s`, as counting and bucket traversal are linear.\n- Space Complexity: `O(n)` for the frequency map and buckets.\n- Bottleneck: Building the result string; Python handles large concatenations efficiently via list join."
  },
  {
   "cell_type": "markdown",
   "metadata": {},
   "source": "## Edge Cases & Pitfalls\n- Multiple characters may share the same frequency; bucket traversal handles ties automatically.\n- Extremely long strings require careful memory management but remain linear.\n- Remember that digits and mixed case letters are valid inputs."
  },
  {
   "cell_type": "markdown",
   "metadata": {},
   "source": "## Follow-up Variants\n- Return top-k frequent characters instead of the full string.\n- Provide a stable ordering using secondary sorting criteria.\n- Extend to Unicode by using dictionaries instead of fixed-size arrays."
  },
  {
   "cell_type": "markdown",
   "metadata": {},
   "source": "## Takeaways\n- Bucket sort is a natural companion to hash-based frequency counting.\n- Separating counting from ordering clarifies the algorithm structure.\n- Frequency-driven ranking is common in feature engineering workflows."
  },
  {
   "cell_type": "markdown",
   "metadata": {},
   "source": "## Similar Problems\n| Problem ID | Problem Title | Technique |\n| --- | --- | --- |\n| 347 | Top K Frequent Elements | Hash map + bucket sort |\n| 692 | Top K Frequent Words | Frequency with heap |\n| 451 | Sort Characters By Frequency | Bucketed frequency ranking |"
  }
 ],
 "metadata": {
  "kernelspec": {
   "display_name": "Python 3",
   "language": "python",
   "name": "python3"
  },
  "language_info": {
   "name": "python",
   "version": "3"
  }
 },
 "nbformat": 4,
 "nbformat_minor": 5
}