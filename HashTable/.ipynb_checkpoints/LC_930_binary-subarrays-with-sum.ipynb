{
 "cells": [
  {
   "cell_type": "markdown",
   "metadata": {},
   "source": "# 930. Binary Subarrays With Sum"
  },
  {
   "cell_type": "markdown",
   "metadata": {},
   "source": "## Topic Alignment\n- **Role Relevance**: Counting binary-encoded events is common in monitoring feature flags or on/off signals in ML pipelines.\n- **Scenario**: Finds all time windows where activations sum to a specified threshold."
  },
  {
   "cell_type": "markdown",
   "metadata": {},
   "source": "## Metadata Summary\n- Source: [LeetCode - Binary Subarrays With Sum](https://leetcode.com/problems/binary-subarrays-with-sum/)\n- Tags: `Array`, `Hash Table`, `Prefix Sum`\n- Difficulty: Medium\n- Recommended Priority: Medium"
  },
  {
   "cell_type": "markdown",
   "metadata": {},
   "source": "## Problem Statement\nGiven a binary array `nums` and an integer `goal`, return the number of non-empty subarrays with a sum equal to `goal`."
  },
  {
   "cell_type": "markdown",
   "metadata": {},
   "source": "## Constraints\n- `1 <= nums.length <= 3 * 10^4`\n- `nums[i]` is `0` or `1`\n- `0 <= goal <= nums.length`"
  },
  {
   "cell_type": "markdown",
   "metadata": {},
   "source": "## Progressive Hints\n- Hint 1: Use prefix sums to transform subarray sum queries into differences.\n- Hint 2: Maintain counts of prefix sums seen so far.\n- Hint 3: For each new prefix sum `curr`, add counts of `curr - goal` to the answer."
  },
  {
   "cell_type": "markdown",
   "metadata": {},
   "source": "## Solution Overview\nAccumulate prefix sums and use a hash map to track how often each has occurred; for every prefix, the number of subarrays ending at the current index with sum `goal` equals the count of `current_sum - goal` seen so far."
  },
  {
   "cell_type": "markdown",
   "metadata": {},
   "source": "## Detailed Explanation\n1. Initialize `counts` with `{0: 1}` to represent an empty prefix.\n2. Iterate through `nums`, updating `prefix_sum`.\n3. Add `counts[prefix_sum - goal]` to the result.\n4. Increment `counts[prefix_sum]`.\n5. Continue to the end."
  },
  {
   "cell_type": "markdown",
   "metadata": {},
   "source": "## Complexity Trade-off Table\n| Approach | Time Complexity | Space Complexity | Notes |\n| --- | --- | --- | --- |\n| Sliding window (goal > 0) | O(n) | O(1) | Works only for positive goal; fails for zero. |\n| Prefix sum hash map | O(n) | O(n) | Uniformly handles all goal values. |"
  },
  {
   "cell_type": "code",
   "metadata": {},
   "execution_count": null,
   "outputs": [],
   "source": "from collections import defaultdict\nfrom typing import List\n\n\ndef numSubarraysWithSum(nums: List[int], goal: int) -> int:\n    \"\"\"Count binary subarrays summing to goal via prefix counts.\"\"\"\n    counts = defaultdict(int)\n    counts[0] = 1\n    prefix = 0\n    total = 0\n\n    for value in nums:\n        prefix += value\n        total += counts[prefix - goal]  # Subarrays ending here hitting goal.\n        counts[prefix] += 1\n    return total\n"
  },
  {
   "cell_type": "markdown",
   "metadata": {},
   "source": "## Complexity Analysis\n- Time Complexity: `O(n)` where `n` is the array length.\n- Space Complexity: `O(n)` storing prefix counts.\n- Bottleneck: Hash map access; averages constant time."
  },
  {
   "cell_type": "markdown",
   "metadata": {},
   "source": "## Edge Cases & Pitfalls\n- Goal zero requires counting stretches of zeros; prefix technique handles this gracefully.\n- Arrays with all ones still work, producing combinations as expected.\n- Ensure prefix sums fit within Python integers; they do for given constraints."
  },
  {
   "cell_type": "markdown",
   "metadata": {},
   "source": "## Follow-up Variants\n- Output the actual subarrays or their indices.\n- Extend to multi-target counting by tracking multiple goals simultaneously.\n- Integrate with streaming data using rolling prefix maps."
  },
  {
   "cell_type": "markdown",
   "metadata": {},
   "source": "## Takeaways\n- Prefix-sum hash maps elegantly count subarrays with specific totals.\n- Initial seeding with zero prefix is crucial for subarrays beginning at index 0.\n- The approach readily generalizes beyond binary inputs with minimal changes."
  },
  {
   "cell_type": "markdown",
   "metadata": {},
   "source": "## Similar Problems\n| Problem ID | Problem Title | Technique |\n| --- | --- | --- |\n| 560 | Subarray Sum Equals K | Prefix sum counting |\n| 523 | Continuous Subarray Sum | Prefix sum with modulo |\n| 1248 | Count Number of Nice Subarrays | Prefix parity counts |"
  }
 ],
 "metadata": {
  "kernelspec": {
   "display_name": "Python 3",
   "language": "python",
   "name": "python3"
  },
  "language_info": {
   "name": "python",
   "version": "3"
  }
 },
 "nbformat": 4,
 "nbformat_minor": 5
}