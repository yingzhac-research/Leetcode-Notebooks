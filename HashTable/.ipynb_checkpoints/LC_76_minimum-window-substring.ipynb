{
 "cells": [
  {
   "cell_type": "markdown",
   "metadata": {},
   "source": "# 76. Minimum Window Substring"
  },
  {
   "cell_type": "markdown",
   "metadata": {},
   "source": "## Topic Alignment\n- **Role Relevance**: Minimum window coverage parallels selecting the smallest data slice containing all required features.\n- **Scenario**: Useful for constructing minimal payloads that satisfy all feature dependencies in inference requests."
  },
  {
   "cell_type": "markdown",
   "metadata": {},
   "source": "## Metadata Summary\n- Source: [LeetCode - Minimum Window Substring](https://leetcode.com/problems/minimum-window-substring/)\n- Tags: `String`, `Sliding Window`, `Hash Table`\n- Difficulty: Hard\n- Recommended Priority: High"
  },
  {
   "cell_type": "markdown",
   "metadata": {},
   "source": "## Problem Statement\nGiven two strings `s` and `t`, return the minimum window substring of `s` such that every character in `t` (including duplicates) is included in the window. If no such substring exists, return an empty string."
  },
  {
   "cell_type": "markdown",
   "metadata": {},
   "source": "## Constraints\n- `1 <= s.length, t.length <= 10^5`\n- `s` and `t` consist of uppercase and lowercase English letters"
  },
  {
   "cell_type": "markdown",
   "metadata": {},
   "source": "## Progressive Hints\n- Hint 1: Count required characters using a hash map.\n- Hint 2: Expand the right pointer to include characters until all requirements are met.\n- Hint 3: Shrink from the left while requirements remain satisfied to maintain minimal length."
  },
  {
   "cell_type": "markdown",
   "metadata": {},
   "source": "## Solution Overview\nMaintain two frequency hash maps: one for requirements from `t`, and one for the sliding window. Expand the window to satisfy all required counts, then contract it while still valid to discover minimal-length windows."
  },
  {
   "cell_type": "markdown",
   "metadata": {},
   "source": "## Detailed Explanation\n1. Build a dictionary `need` counting characters in `t`. Track how many distinct characters still need to be satisfied via `required`.\n2. Slide `right` over `s`, adding characters to `window` counts and decrementing `required` when a needed count is met.\n3. When `required` reaches zero, attempt to shrink from the left, updating the best window when smaller substrings remain valid.\n4. Remove left characters from `window`, increasing `required` once a required count falls below target.\n5. Continue scanning to evaluate all possible windows."
  },
  {
   "cell_type": "markdown",
   "metadata": {},
   "source": "## Complexity Trade-off Table\n| Approach | Time Complexity | Space Complexity | Notes |\n| --- | --- | --- | --- |\n| Expand all substrings | O(n^2) | O(1) | Too slow for large inputs. |\n| Sliding window + hash maps | O(n) | O(alphabet) | Efficient; each pointer moves at most n steps. |"
  },
  {
   "cell_type": "code",
   "metadata": {},
   "execution_count": null,
   "outputs": [],
   "source": "from collections import Counter\n\n\ndef minWindow(s: str, t: str) -> str:\n    \"\"\"Return the smallest substring of s containing all characters of t.\"\"\"\n    if not t or not s:\n        return \"\"\n\n    need = Counter(t)\n    window: dict[str, int] = {}\n    required = len(need)\n    formed = 0\n    left = 0\n    best = (float(\"inf\"), 0, 0)  # (length, left, right)\n\n    for right, char in enumerate(s):\n        window[char] = window.get(char, 0) + 1  # Include char in window.\n        if char in need and window[char] == need[char]:\n            formed += 1  # Requirement satisfied for this char.\n\n        while left <= right and formed == required:\n            if right - left + 1 < best[0]:\n                best = (right - left + 1, left, right)\n\n            left_char = s[left]\n            window[left_char] -= 1  # Shrink window from left.\n            if left_char in need and window[left_char] < need[left_char]:\n                formed -= 1  # Requirement broken.\n            left += 1\n\n    if best[0] == float(\"inf\"):\n        return \"\"\n    return s[best[1]: best[2] + 1]\n"
  },
  {
   "cell_type": "markdown",
   "metadata": {},
   "source": "## Complexity Analysis\n- Time Complexity: `O(n)` where `n` is the length of `s`, since each pointer moves forward at most once.\n- Space Complexity: `O(alphabet)` for the frequency maps.\n- Bottleneck: Hash map updates dominate but are constant-time on average."
  },
  {
   "cell_type": "markdown",
   "metadata": {},
   "source": "## Edge Cases & Pitfalls\n- If `t` contains characters absent from `s`, return an empty string.\n- Be careful to include duplicates; counts must match exactly.\n- Large strings require efficient updates to avoid timeouts."
  },
  {
   "cell_type": "markdown",
   "metadata": {},
   "source": "## Follow-up Variants\n- Track multiple target strings simultaneously using separate counters.\n- Handle Unicode input by switching to default dictionaries.\n- Provide all minimal windows instead of just one."
  },
  {
   "cell_type": "markdown",
   "metadata": {},
   "source": "## Takeaways\n- Balancing window counts against requirements is a canonical two-pointer + hash technique.\n- Maintaining aggregate satisfaction state (`formed`) avoids repeated full scans.\n- The pattern generalizes to resource allocation problems with minimal coverage."
  },
  {
   "cell_type": "markdown",
   "metadata": {},
   "source": "## Similar Problems\n| Problem ID | Problem Title | Technique |\n| --- | --- | --- |\n| 567 | Permutation in String | Sliding window + frequency difference |\n| 438 | Find All Anagrams in a String | Fixed-size window counts |\n| 239 | Sliding Window Maximum | Deque-based window maintenance |"
  }
 ],
 "metadata": {
  "kernelspec": {
   "display_name": "Python 3",
   "language": "python",
   "name": "python3"
  },
  "language_info": {
   "name": "python",
   "version": "3"
  }
 },
 "nbformat": 4,
 "nbformat_minor": 5
}