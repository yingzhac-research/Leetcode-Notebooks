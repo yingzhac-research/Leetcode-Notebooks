{
 "cells": [
  {
   "cell_type": "markdown",
   "metadata": {},
   "source": "# 159. Longest Substring with At Most Two Distinct Characters"
  },
  {
   "cell_type": "markdown",
   "metadata": {},
   "source": "## Topic Alignment\n- **Role Relevance**: Models the constraint of tracking at most two active feature states in streaming systems.\n- **Scenario**: Useful when services must operate on a rolling window while limiting concurrent categorical variants (e.g., A/B cohorts)."
  },
  {
   "cell_type": "markdown",
   "metadata": {},
   "source": "## Metadata Summary\n- Source: [LeetCode - Longest Substring with At Most Two Distinct Characters](https://leetcode.com/problems/longest-substring-with-at-most-two-distinct-characters/)\n- Tags: `String`, `Sliding Window`, `Hash Table`\n- Difficulty: Medium\n- Recommended Priority: Medium"
  },
  {
   "cell_type": "markdown",
   "metadata": {},
   "source": "## Problem Statement\nGiven a string `s`, return the length of the longest substring that contains at most two distinct characters."
  },
  {
   "cell_type": "markdown",
   "metadata": {},
   "source": "## Constraints\n- `1 <= s.length <= 10^5`\n- `s` consists of English letters"
  },
  {
   "cell_type": "markdown",
   "metadata": {},
   "source": "## Progressive Hints\n- Hint 1: Maintain a sliding window defined by two pointers.\n- Hint 2: Use a hash map to track counts of characters currently in the window.\n- Hint 3: When more than two distinct characters appear, shrink the window from the left until only two remain."
  },
  {
   "cell_type": "markdown",
   "metadata": {},
   "source": "## Solution Overview\nEmploy a sliding window with a hash map storing character frequencies. Expand the right edge while the window has at most two distinct characters; otherwise, move the left edge forward and decrement counts to restore validity."
  },
  {
   "cell_type": "markdown",
   "metadata": {},
   "source": "## Detailed Explanation\n1. Initialize `left = 0`, `best = 0`, and an empty dictionary `counts`.\n2. Iterate `right` over indices of `s`. For each character, increment its count in `counts`.\n3. While the dictionary contains more than two keys, move `left` forward, decrementing the count of the outgoing character and deleting it when the count hits zero.\n4. Update `best` with the current window length `right - left + 1`.\n5. Repeat until the end of the string and return `best`."
  },
  {
   "cell_type": "markdown",
   "metadata": {},
   "source": "## Complexity Trade-off Table\n| Approach | Time Complexity | Space Complexity | Notes |\n| --- | --- | --- | --- |\n| Enumerate all substrings | O(n^2) | O(1) | Too slow for large strings. |\n| Sliding window + hash map | O(n) | O(1) | Optimal; keeps at most three entries in the map. |"
  },
  {
   "cell_type": "code",
   "metadata": {},
   "execution_count": null,
   "outputs": [],
   "source": "def lengthOfLongestSubstringTwoDistinct(s: str) -> int:\n    \"\"\"Return length of the longest substring containing at most two distinct characters.\"\"\"\n    counts: dict[str, int] = {}\n    left = 0\n    best = 0\n\n    for right, char in enumerate(s):\n        counts[char] = counts.get(char, 0) + 1  # Track character frequency in window.\n        while len(counts) > 2:\n            left_char = s[left]\n            counts[left_char] -= 1\n            if counts[left_char] == 0:\n                del counts[left_char]  # Remove char when it leaves the window completely.\n            left += 1\n        best = max(best, right - left + 1)\n    return best\n"
  },
  {
   "cell_type": "markdown",
   "metadata": {},
   "source": "## Complexity Analysis\n- Time Complexity: `O(n)` because each pointer moves at most once across the string.\n- Space Complexity: `O(1)` bounded by the size of the alphabet (maximum three keys).\n- Bottleneck: Hash map updates per character; constant-time on average."
  },
  {
   "cell_type": "markdown",
   "metadata": {},
   "source": "## Edge Cases & Pitfalls\n- Single-character strings trivially return 1.\n- Highly diverse strings force frequent shrinking but remain linear time.\n- Ensure characters are removed from the map when counts reach zero to avoid infinite loops."
  },
  {
   "cell_type": "markdown",
   "metadata": {},
   "source": "## Follow-up Variants\n- Extend to at most `k` distinct characters (see LC 340).\n- Track the substring itself or all maximal windows.\n- Apply the same logic to streaming data with limited distinct token capacity."
  },
  {
   "cell_type": "markdown",
   "metadata": {},
   "source": "## Takeaways\n- Sliding windows paired with hash maps enable constant-time maintenance of distinct counts.\n- Constraining the window by distinct characters is a common interview pattern.\n- The approach generalizes to resource-bounded tracking tasks in ML platforms."
  },
  {
   "cell_type": "markdown",
   "metadata": {},
   "source": "## Similar Problems\n| Problem ID | Problem Title | Technique |\n| --- | --- | --- |\n| 3 | Longest Substring Without Repeating Characters | Sliding window uniqueness |\n| 340 | Longest Substring with At Most K Distinct Characters | Sliding window + hash map |\n| 904 | Fruit Into Baskets | Window with limited categories |"
  }
 ],
 "metadata": {
  "kernelspec": {
   "display_name": "Python 3",
   "language": "python",
   "name": "python3"
  },
  "language_info": {
   "name": "python",
   "version": "3"
  }
 },
 "nbformat": 4,
 "nbformat_minor": 5
}