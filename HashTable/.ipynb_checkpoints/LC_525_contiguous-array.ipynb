{
 "cells": [
  {
   "cell_type": "markdown",
   "metadata": {},
   "source": "# 525. Contiguous Array"
  },
  {
   "cell_type": "markdown",
   "metadata": {},
   "source": "## Topic Alignment\n- **Role Relevance**: Prefix-sum parity tracking mirrors balancing events (e.g., clicks vs. skips) in user telemetry.\n- **Scenario**: Helps detect longest equal-count windows crucial for fairness or bias analysis."
  },
  {
   "cell_type": "markdown",
   "metadata": {},
   "source": "## Metadata Summary\n- Source: [LeetCode - Contiguous Array](https://leetcode.com/problems/contiguous-array/)\n- Tags: `Array`, `Hash Table`, `Prefix Sum`\n- Difficulty: Medium\n- Recommended Priority: High"
  },
  {
   "cell_type": "markdown",
   "metadata": {},
   "source": "## Problem Statement\nGiven a binary array `nums`, return the maximum length of a contiguous subarray with an equal number of 0 and 1."
  },
  {
   "cell_type": "markdown",
   "metadata": {},
   "source": "## Constraints\n- `1 <= nums.length <= 10^5`\n- `nums[i]` is `0` or `1`"
  },
  {
   "cell_type": "markdown",
   "metadata": {},
   "source": "## Progressive Hints\n- Hint 1: Interpret 0 as -1 so the problem reduces to finding a zero-sum subarray.\n- Hint 2: Track the earliest index for each prefix sum.\n- Hint 3: When the same prefix sum reappears, the subarray between indices has balanced zeros and ones."
  },
  {
   "cell_type": "markdown",
   "metadata": {},
   "source": "## Solution Overview\nTransform zeros to -1, maintain a running prefix sum, and use a hash map to record the first index each sum appears; the longest span between equal sums yields the answer."
  },
  {
   "cell_type": "markdown",
   "metadata": {},
   "source": "## Detailed Explanation\n1. Initialize `prefix_sum = 0` and a dictionary storing `{0: -1}` to handle subarrays starting at index 0.\n2. For each element, add 1 for ones and -1 for zeros to the prefix sum.\n3. If the prefix sum has been seen before, update the answer with the distance to the previous index.\n4. If unseen, record the current index for that sum.\n5. Continue until the array ends."
  },
  {
   "cell_type": "markdown",
   "metadata": {},
   "source": "## Complexity Trade-off Table\n| Approach | Time Complexity | Space Complexity | Notes |\n| --- | --- | --- | --- |\n| Brute force | O(n^2) | O(1) | Too slow for large arrays. |\n| Prefix sum hash map | O(n) | O(n) | Linear-time solution leveraging earliest indices. |"
  },
  {
   "cell_type": "code",
   "metadata": {},
   "execution_count": null,
   "outputs": [],
   "source": "from typing import List\n\n\ndef findMaxLength(nums: List[int]) -> int:\n    \"\"\"Return length of longest subarray with equal zeros and ones.\"\"\"\n    prefix_sum = 0\n    first_index = {0: -1}  # Prefix sum -> earliest index.\n    best = 0\n\n    for i, value in enumerate(nums):\n        prefix_sum += 1 if value == 1 else -1\n        if prefix_sum in first_index:\n            best = max(best, i - first_index[prefix_sum])  # Found balanced window.\n        else:\n            first_index[prefix_sum] = i  # Record earliest occurrence.\n    return best\n"
  },
  {
   "cell_type": "markdown",
   "metadata": {},
   "source": "## Complexity Analysis\n- Time Complexity: `O(n)` since each element contributes constant work.\n- Space Complexity: `O(n)` storing prefix sums.\n- Bottleneck: Hash map lookups; still constant on average."
  },
  {
   "cell_type": "markdown",
   "metadata": {},
   "source": "## Edge Cases & Pitfalls\n- Inputs without balanced counts return 0.\n- Ensure the baseline `{0: -1}` is present to capture prefixes.\n- Using integers instead of storing sequences keeps memory manageable."
  },
  {
   "cell_type": "markdown",
   "metadata": {},
   "source": "## Follow-up Variants\n- Track the actual indices of the longest balanced subarray.\n- Extend to ternary arrays with balancing constraints.\n- Apply the technique to streaming data by maintaining prefix states."
  },
  {
   "cell_type": "markdown",
   "metadata": {},
   "source": "## Takeaways\n- Prefix sums plus hash maps efficiently capture balanced segments.\n- Recording first occurrences avoids repeated scanning.\n- The strategy generalizes to many parity and difference tracking tasks."
  },
  {
   "cell_type": "markdown",
   "metadata": {},
   "source": "## Similar Problems\n| Problem ID | Problem Title | Technique |\n| --- | --- | --- |\n| 560 | Subarray Sum Equals K | Prefix sum counting |\n| 1248 | Count Number of Nice Subarrays | Prefix sum of odd counts |\n| 523 | Continuous Subarray Sum | Prefix sum with modulo |"
  }
 ],
 "metadata": {
  "kernelspec": {
   "display_name": "Python 3",
   "language": "python",
   "name": "python3"
  },
  "language_info": {
   "name": "python",
   "version": "3"
  }
 },
 "nbformat": 4,
 "nbformat_minor": 5
}