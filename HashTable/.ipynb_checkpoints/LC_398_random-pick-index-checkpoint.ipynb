{
  "cells": [
    {
      "cell_type": "markdown",
      "metadata": {},
      "source": [
        "# 398. Random Pick Index\n"
      ]
    },
    {
      "cell_type": "markdown",
      "metadata": {},
      "source": [
        "## Topic Alignment\n",
        "- MLE Connection: Uniformly sampling indices for frequent values parallels balanced data replay.\n",
        "- Hash Table Role: Store indices per value for deterministic sampling or support reservoir sampling when memory is constrained.\n",
        "- Interview Angle: Highlights trade-offs between precomputation and streaming-friendly reservoir sampling.\n"
      ]
    },
    {
      "cell_type": "markdown",
      "metadata": {},
      "source": [
        "## Metadata Summary\n",
        "- Source: https://leetcode.com/problems/random-pick-index/\n",
        "- Tags: Hash Table, Reservoir Sampling\n",
        "- Difficulty: Medium\n",
        "- Recommended Review Priority: Medium\n"
      ]
    },
    {
      "cell_type": "markdown",
      "metadata": {},
      "source": [
        "## Problem Statement\n",
        "Given an integer array nums with possible duplicates and a target value, implement the Solution class that supports pick(target) returning a random index i such that nums[i] == target. Each valid index must have the same probability of being chosen.\n"
      ]
    },
    {
      "cell_type": "markdown",
      "metadata": {},
      "source": [
        "## Constraints\n",
        "- 1 <= nums.length <= 2 * 10^4.\n",
        "- -10^7 <= nums[i] <= 10^7.\n",
        "- pick will be called at most 10^4 times.\n",
        "- It is guaranteed that target exists in the array when pick is called.\n"
      ]
    },
    {
      "cell_type": "markdown",
      "metadata": {},
      "source": [
        "## Progressive Hints\n",
        "- Hint 1: Preprocessing the array allows O(1) picks later at the cost of extra space.\n",
        "- Hint 2: Store all indices for each value in a dictionary and sample uniformly using random.choice.\n",
        "- Hint 3: Alternatively, reservoir sampling can be used for O(1) space if preprocessing is disallowed.\n"
      ]
    },
    {
      "cell_type": "markdown",
      "metadata": {},
      "source": [
        "## Solution Overview\n",
        "During initialization, build a dictionary mapping each value to the list of indices where it occurs. The pick method uses random.choice on the stored list to guarantee uniform selection.\n"
      ]
    },
    {
      "cell_type": "markdown",
      "metadata": {},
      "source": [
        "## Detailed Explanation\n",
        "1. In __init__, iterate through nums and append each index to `positions[value]`.\n",
        "2. In pick(target), retrieve `positions[target]` and return random.choice of that list.\n",
        "3. Because each index appears exactly once in the list, the chosen index is uniform.\n",
        "\n",
        "If memory were constrained, reservoir sampling could produce the same effect in streaming time, but the precomputed dictionary keeps each call O(1).\n"
      ]
    },
    {
      "cell_type": "markdown",
      "metadata": {},
      "source": [
        "## Complexity Trade-off Table\n",
        "| Approach | Time Complexity | Space Complexity |\n",
        "| --- | --- | --- |\n",
        "| Reservoir sampling per pick | O(n) per pick | O(1) |\n",
        "| Precompute value -> indices | O(n) preprocess + O(1) per pick | O(n) |\n"
      ]
    },
    {
      "cell_type": "markdown",
      "metadata": {},
      "source": [
        "## Reference Implementation\n"
      ]
    },
    {
      "cell_type": "code",
      "metadata": {},
      "execution_count": null,
      "outputs": [],
      "source": [
        "import random\n",
        "from collections import defaultdict\n",
        "from typing import List\n",
        "\n",
        "\n",
        "class Solution:\n",
        "    def __init__(self, nums: List[int]):\n",
        "        self.positions: defaultdict[int, List[int]] = defaultdict(list)\n",
        "        for idx, value in enumerate(nums):\n",
        "            self.positions[value].append(idx)\n",
        "\n",
        "    def pick(self, target: int) -> int:\n",
        "        indices = self.positions[target]\n",
        "        return random.choice(indices)\n"
      ]
    },
    {
      "cell_type": "markdown",
      "metadata": {},
      "source": [
        "## Complexity Analysis\n",
        "- Time Complexity: O(n) preprocessing in the constructor, and O(1) expected time per pick.\n",
        "- Space Complexity: O(n) to store indices for every value.\n",
        "- Bottlenecks: Random choice over stored lists; dictionary lookups are constant time.\n"
      ]
    },
    {
      "cell_type": "markdown",
      "metadata": {},
      "source": [
        "## Edge Cases & Pitfalls\n",
        "- Ensure uniform randomness by using the standard library instead of manual random arithmetic.\n",
        "- Storing indices in sorted order is unnecessary but harmless.\n",
        "- The class must handle repeated pick calls without mutating stored positions.\n"
      ]
    },
    {
      "cell_type": "markdown",
      "metadata": {},
      "source": [
        "## Follow-up Variants\n",
        "- Implement the reservoir sampling version that uses O(1) additional space.\n",
        "- Support deletions or insertions while preserving uniform selection semantics.\n",
        "- Allow weighted picks where each index has a custom probability weight.\n"
      ]
    },
    {
      "cell_type": "markdown",
      "metadata": {},
      "source": [
        "## Takeaways\n",
        "- Preprocessing for repeated queries pays off when queries greatly outnumber array size.\n",
        "- Reservoir sampling remains a valuable alternative when memory is limited.\n",
        "- Hash maps provide a natural inverted index from values to positions.\n"
      ]
    },
    {
      "cell_type": "markdown",
      "metadata": {},
      "source": [
        "## Similar Problems\n",
        "| Problem ID | Problem Title | Technique |\n",
        "| --- | --- | --- |\n",
        "| 528 | Random Pick with Weight | Prefix sum sampling |\n",
        "| 710 | Random Pick with Blacklist | Remapping |\n",
        "| 384 | Shuffle an Array | Randomization |\n"
      ]
    }
  ],
  "metadata": {
    "kernelspec": {
      "display_name": "Python 3",
      "language": "python",
      "name": "python3"
    },
    "language_info": {
      "name": "python",
      "version": "3.10"
    }
  },
  "nbformat": 4,
  "nbformat_minor": 5
}