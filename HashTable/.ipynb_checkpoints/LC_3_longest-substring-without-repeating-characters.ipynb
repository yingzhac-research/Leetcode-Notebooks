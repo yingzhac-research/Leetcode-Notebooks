{
 "cells": [
  {
   "cell_type": "markdown",
   "metadata": {},
   "source": "# 3. Longest Substring Without Repeating Characters"
  },
  {
   "cell_type": "markdown",
   "metadata": {},
   "source": "## Topic Alignment\n- **Role Relevance**: Sliding windows with hash maps monitor uniqueness constraints in streaming logs or feature sets.\n- **Scenario**: Helps ensure request IDs or session tokens stay unique within rolling windows in ML data pipelines."
  },
  {
   "cell_type": "markdown",
   "metadata": {},
   "source": "## Metadata Summary\n- Source: [LeetCode - Longest Substring Without Repeating Characters](https://leetcode.com/problems/longest-substring-without-repeating-characters/)\n- Tags: `String`, `Sliding Window`, `Hash Table`\n- Difficulty: Medium\n- Recommended Priority: High"
  },
  {
   "cell_type": "markdown",
   "metadata": {},
   "source": "## Problem Statement\nGiven a string `s`, find the length of the longest substring without repeating characters."
  },
  {
   "cell_type": "markdown",
   "metadata": {},
   "source": "## Constraints\n- `0 <= s.length <= 5 * 10^4`\n- `s` consists of English letters, digits, symbols, and spaces"
  },
  {
   "cell_type": "markdown",
   "metadata": {},
   "source": "## Progressive Hints\n- Hint 1: Maintain a moving window defined by two indices.\n- Hint 2: Use a hash map to record the latest index of each character.\n- Hint 3: When a duplicate appears, move the left pointer just beyond its previous occurrence."
  },
  {
   "cell_type": "markdown",
   "metadata": {},
   "source": "## Solution Overview\nUse two pointers to maintain a sliding window and a hash map mapping characters to their latest index. When a duplicate is encountered, jump the left pointer forward to avoid shrinking the window character by character."
  },
  {
   "cell_type": "markdown",
   "metadata": {},
   "source": "## Detailed Explanation\n1. Initialize `left = 0`, `best = 0`, and an empty dictionary `last_seen`.\n2. Iterate `right` over the string. For each character, check if it appeared within the current window using `last_seen`.\n3. If the character was seen, update `left` to `max(left, last_seen[char] + 1)` to skip over the previous occurrence.\n4. Update `last_seen[char] = right` and compute the window length `right - left + 1`, updating `best` when larger.\n5. Return `best` after scanning the string."
  },
  {
   "cell_type": "markdown",
   "metadata": {},
   "source": "## Complexity Trade-off Table\n| Approach | Time Complexity | Space Complexity | Notes |\n| --- | --- | --- | --- |\n| Brute-force all substrings | O(n^2) | O(min(n, alphabet)) | Impractical for long strings. |\n| Sliding window + hash map | O(n) | O(min(n, alphabet)) | Efficient with direct index jumps. |"
  },
  {
   "cell_type": "code",
   "metadata": {},
   "execution_count": null,
   "outputs": [],
   "source": "def lengthOfLongestSubstring(s: str) -> int:\n    \"\"\"Return the length of the longest substring without repeating characters.\"\"\"\n    last_seen: dict[str, int] = {}\n    left = 0\n    best = 0\n\n    for right, char in enumerate(s):\n        if char in last_seen and last_seen[char] >= left:\n            left = last_seen[char] + 1  # Move window start past the duplicate.\n        last_seen[char] = right  # Record latest index.\n        current_length = right - left + 1\n        best = max(best, current_length)\n    return best\n"
  },
  {
   "cell_type": "markdown",
   "metadata": {},
   "source": "## Complexity Analysis\n- Time Complexity: `O(n)` because each character enters and leaves the window at most once.\n- Space Complexity: `O(min(n, alphabet))` storing the latest indices for distinct characters.\n- Bottleneck: Hash map lookups dominate but remain constant-time on average."
  },
  {
   "cell_type": "markdown",
   "metadata": {},
   "source": "## Edge Cases & Pitfalls\n- Empty strings should return 0.\n- Strings with all identical characters produce length 1.\n- Ensure the left pointer only moves forward to avoid shrinking the window incorrectly."
  },
  {
   "cell_type": "markdown",
   "metadata": {},
   "source": "## Follow-up Variants\n- Return the substring itself instead of its length.\n- Adapt to streaming characters where you must continuously output current maximum.\n- Extend to handle multibyte characters by adjusting hashing strategy."
  },
  {
   "cell_type": "markdown",
   "metadata": {},
   "source": "## Takeaways\n- Hash maps allow constant-time detection of duplicates within sliding windows.\n- Jumping the left pointer prevents quadratic behavior.\n- The pattern underpins many real-time uniqueness checks in systems."
  },
  {
   "cell_type": "markdown",
   "metadata": {},
   "source": "## Similar Problems\n| Problem ID | Problem Title | Technique |\n| --- | --- | --- |\n| 159 | Longest Substring with At Most Two Distinct Characters | Sliding window + frequency map |\n| 340 | Longest Substring with At Most K Distinct Characters | Sliding window + hash map |\n| 76 | Minimum Window Substring | Sliding window + frequency balance |"
  }
 ],
 "metadata": {
  "kernelspec": {
   "display_name": "Python 3",
   "language": "python",
   "name": "python3"
  },
  "language_info": {
   "name": "python",
   "version": "3"
  }
 },
 "nbformat": 4,
 "nbformat_minor": 5
}