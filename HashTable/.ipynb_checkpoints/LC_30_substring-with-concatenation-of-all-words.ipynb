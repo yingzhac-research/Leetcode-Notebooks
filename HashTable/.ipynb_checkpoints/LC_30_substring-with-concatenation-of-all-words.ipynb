{
 "cells": [
  {
   "cell_type": "markdown",
   "metadata": {},
   "source": "# 30. Substring with Concatenation of All Words"
  },
  {
   "cell_type": "markdown",
   "metadata": {},
   "source": "## Topic Alignment\n- **Role Relevance**: Mirrors validating that a window contains all tokens from a feature bundle.\n- **Scenario**: Useful for log scanning where every required keyword must appear exactly once in arbitrary order."
  },
  {
   "cell_type": "markdown",
   "metadata": {},
   "source": "## Metadata Summary\n- Source: [LeetCode - Substring with Concatenation of All Words](https://leetcode.com/problems/substring-with-concatenation-of-all-words/)\n- Tags: `String`, `Sliding Window`, `Hash Table`\n- Difficulty: Hard\n- Recommended Priority: High"
  },
  {
   "cell_type": "markdown",
   "metadata": {},
   "source": "## Problem Statement\nYou are given a string `s` and an array of strings `words`. All the strings in `words` are of the same length. Return all starting indices of substrings in `s` that are a concatenation of each word in `words` exactly once in any order, without any intervening characters."
  },
  {
   "cell_type": "markdown",
   "metadata": {},
   "source": "## Constraints\n- `1 <= s.length <= 10^4`\n- `1 <= words.length <= 5000`\n- `1 <= words[i].length <= 30`\n- `s` and `words[i]` consist of lowercase English letters"
  },
  {
   "cell_type": "markdown",
   "metadata": {},
   "source": "## Progressive Hints\n- Hint 1: Each valid window has total length `len(words) * word_len`.\n- Hint 2: Use a frequency map for `words` and scan `s` with multiple offsets modulo `word_len`.\n- Hint 3: Maintain counts of words in the current window and shrink when any word appears too many times."
  },
  {
   "cell_type": "markdown",
   "metadata": {},
   "source": "## Solution Overview\nSlide a window in increments of `word_len` for each possible starting offset. Use a hash map to count how many instances of each word appear in the window and adjust the window boundaries to maintain valid counts."
  },
  {
   "cell_type": "markdown",
   "metadata": {},
   "source": "## Detailed Explanation\n1. Build `required` as a frequency map of `words`. Let `word_len` be the length of each word and `window_len = word_len * len(words)`.\n2. For each offset in `[0, word_len)`, use two pointers `left` and `right` that move in steps of `word_len`.\n3. Extract the word at `right`, update its count in `seen`, and increment a `matched` counter when the word count matches the requirement.\n4. While any word exceeds its required count, move `left` forward by `word_len`, decrementing counts and adjusting `matched`.\n5. When `matched` equals the number of distinct words and the window size equals `window_len`, record `left` as a valid start.\n6. Continue scanning all offsets."
  },
  {
   "cell_type": "markdown",
   "metadata": {},
   "source": "## Complexity Trade-off Table\n| Approach | Time Complexity | Space Complexity | Notes |\n| --- | --- | --- | --- |\n| Check every substring naively | O(n * words_len) | O(words_len) | Excessive repetition of work. |\n| Sliding window by word length | O(n) | O(words_len) | Efficient; leverages hash maps for word counts. |"
  },
  {
   "cell_type": "code",
   "metadata": {},
   "execution_count": null,
   "outputs": [],
   "source": "from collections import Counter\nfrom typing import List\n\n\ndef findSubstring(s: str, words: List[str]) -> List[int]:\n    \"\"\"Return starting indices where words concatenate exactly once each.\"\"\"\n    if not s or not words:\n        return []\n\n    word_len = len(words[0])\n    total_words = len(words)\n    window_len = word_len * total_words\n    required = Counter(words)\n    result: List[int] = []\n\n    for offset in range(word_len):\n        left = offset\n        seen = Counter()\n        matched = 0  # Number of words matching required frequency.\n\n        for right in range(offset, len(s) - word_len + 1, word_len):\n            word = s[right:right + word_len]\n            if word in required:\n                seen[word] += 1\n                if seen[word] == required[word]:\n                    matched += 1\n                while seen[word] > required[word]:\n                    left_word = s[left:left + word_len]\n                    if seen[left_word] == required[left_word]:\n                        matched -= 1\n                    seen[left_word] -= 1\n                    left += word_len\n                if matched == len(required) and right - left + word_len == window_len:\n                    result.append(left)\n            else:\n                seen.clear()\n                matched = 0\n                left = right + word_len\n    return result\n"
  },
  {
   "cell_type": "markdown",
   "metadata": {},
   "source": "## Complexity Analysis\n- Time Complexity: `O(n)` where `n` is the length of `s`, since each word-sized chunk is visited a constant number of times.\n- Space Complexity: `O(m)` where `m` is the number of distinct words.\n- Bottleneck: Counter updates for each word chunk; manageable due to fixed word length."
  },
  {
   "cell_type": "markdown",
   "metadata": {},
   "source": "## Edge Cases & Pitfalls\n- If `s` is shorter than the concatenation length, return an empty list.\n- Words may repeat in `words`; ensure counts are respected.\n- Resets are required whenever a non-matching word appears."
  },
  {
   "cell_type": "markdown",
   "metadata": {},
   "source": "## Follow-up Variants\n- Allow wildcards within words by normalizing tokens before counting.\n- Return the substrings themselves for debugging pipelines.\n- Handle variable word lengths by tokenizing `s` first (increases complexity)."
  },
  {
   "cell_type": "markdown",
   "metadata": {},
   "source": "## Takeaways\n- Sliding windows with step sizes aligned to token boundaries avoid redundant work.\n- Hash maps balance inclusions and excess counts succinctly.\n- The technique reflects log parsing tasks where orderless token bundles must be detected."
  },
  {
   "cell_type": "markdown",
   "metadata": {},
   "source": "## Similar Problems\n| Problem ID | Problem Title | Technique |\n| --- | --- | --- |\n| 438 | Find All Anagrams in a String | Fixed-size window counts |\n| 567 | Permutation in String | Sliding window permutation detection |\n| 76 | Minimum Window Substring | Variable window covering |"
  }
 ],
 "metadata": {
  "kernelspec": {
   "display_name": "Python 3",
   "language": "python",
   "name": "python3"
  },
  "language_info": {
   "name": "python",
   "version": "3"
  }
 },
 "nbformat": 4,
 "nbformat_minor": 5
}