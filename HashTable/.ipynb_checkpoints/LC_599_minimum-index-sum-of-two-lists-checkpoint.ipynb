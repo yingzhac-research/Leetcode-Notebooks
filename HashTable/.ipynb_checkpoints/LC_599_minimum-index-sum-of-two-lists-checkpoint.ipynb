{
  "cells": [
    {
      "cell_type": "markdown",
      "metadata": {},
      "source": [
        "# 599. Minimum Index Sum of Two Lists\n"
      ]
    },
    {
      "cell_type": "markdown",
      "metadata": {},
      "source": [
        "## Topic Alignment\n",
        "- MLE Connection: Aligning candidate features from two sources mirrors overlapping favorite items lists.\n",
        "- Hash Table Role: Map restaurant names to indices in the first list for O(1) lookups when scanning the second.\n",
        "- Interview Angle: Combines dictionary construction with best-score tracking.\n"
      ]
    },
    {
      "cell_type": "markdown",
      "metadata": {},
      "source": [
        "## Metadata Summary\n",
        "- Source: https://leetcode.com/problems/minimum-index-sum-of-two-lists/\n",
        "- Tags: Array, Hash Table\n",
        "- Difficulty: Easy\n",
        "- Recommended Review Priority: Medium\n"
      ]
    },
    {
      "cell_type": "markdown",
      "metadata": {},
      "source": [
        "## Problem Statement\n",
        "Given two lists of strings list1 and list2 representing the favorite restaurants of two people, return a list of common restaurants with the least index sum. The index sum of a common restaurant is the sum of its index in list1 and list2. Return all restaurants with the minimum index sum in any order.\n"
      ]
    },
    {
      "cell_type": "markdown",
      "metadata": {},
      "source": [
        "## Constraints\n",
        "- 1 <= list1.length, list2.length <= 1000.\n",
        "- 1 <= list1[i].length, list2[i].length <= 30.\n",
        "- list1[i] and list2[i] consist of spaces and uppercase/lowercase letters.\n",
        "- list1 and list2 contain unique strings.\n"
      ]
    },
    {
      "cell_type": "markdown",
      "metadata": {},
      "source": [
        "## Progressive Hints\n",
        "- Hint 1: Build a dictionary from restaurant name to index for list1.\n",
        "- Hint 2: Scan list2 and compute the index sum only when the restaurant exists in the dictionary.\n",
        "- Hint 3: Track the minimum sum seen so far and collect all restaurants that match it.\n"
      ]
    },
    {
      "cell_type": "markdown",
      "metadata": {},
      "source": [
        "## Solution Overview\n",
        "Precompute `index_map` from restaurant name to its index in list1. Then iterate list2, checking membership, computing the index sum, updating the minimum, and appending names that tie for the best sum.\n"
      ]
    },
    {
      "cell_type": "markdown",
      "metadata": {},
      "source": [
        "## Detailed Explanation\n",
        "1. Build `index_map = {name: idx for idx, name in enumerate(list1)}`.\n",
        "2. Initialize `best_sum = inf` and `result = []`.\n",
        "3. For each `(idx2, name)` in list2:\n",
        "   - If name not in `index_map`, continue.\n",
        "   - Compute `current_sum = idx2 + index_map[name]`.\n",
        "   - If `current_sum < best_sum`, update `best_sum` and reset `result = [name]`.\n",
        "   - If `current_sum == best_sum`, append `name` to `result`.\n",
        "4. Return `result` after the scan.\n",
        "\n",
        "Hash lookups keep the scan linear in the combined list lengths.\n"
      ]
    },
    {
      "cell_type": "markdown",
      "metadata": {},
      "source": [
        "## Complexity Trade-off Table\n",
        "| Approach | Time Complexity | Space Complexity |\n",
        "| --- | --- | --- |\n",
        "| Nested loop over both lists | O(n * m) | O(1) |\n",
        "| Hash map + single pass | O(n + m) | O(n) |\n"
      ]
    },
    {
      "cell_type": "markdown",
      "metadata": {},
      "source": [
        "## Reference Implementation\n"
      ]
    },
    {
      "cell_type": "code",
      "metadata": {},
      "execution_count": null,
      "outputs": [],
      "source": [
        "from math import inf\n",
        "from typing import List\n",
        "\n",
        "\n",
        "class Solution:\n",
        "    def findRestaurant(self, list1: List[str], list2: List[str]) -> List[str]:\n",
        "        index_map = {name: idx for idx, name in enumerate(list1)}\n",
        "        best_sum = inf\n",
        "        result: List[str] = []\n",
        "\n",
        "        for idx2, name in enumerate(list2):\n",
        "            if name not in index_map:\n",
        "                continue\n",
        "            current_sum = idx2 + index_map[name]\n",
        "            if current_sum < best_sum:\n",
        "                best_sum = current_sum\n",
        "                result = [name]\n",
        "            elif current_sum == best_sum:\n",
        "                result.append(name)\n",
        "\n",
        "        return result\n"
      ]
    },
    {
      "cell_type": "markdown",
      "metadata": {},
      "source": [
        "## Complexity Analysis\n",
        "- Time Complexity: O(n + m) for building the map and scanning the second list.\n",
        "- Space Complexity: O(n) to store the indices of the first list.\n",
        "- Bottlenecks: Dictionary lookups dominate but are constant time.\n"
      ]
    },
    {
      "cell_type": "markdown",
      "metadata": {},
      "source": [
        "## Edge Cases & Pitfalls\n",
        "- Multiple restaurants can share the same minimum sum; do not discard ties.\n",
        "- Restaurant names can include spaces; avoid splitting on spaces when parsing.\n",
        "- If there is no common restaurant, the result should remain empty.\n"
      ]
    },
    {
      "cell_type": "markdown",
      "metadata": {},
      "source": [
        "## Follow-up Variants\n",
        "- Extend to handle more than two lists by summing across all indices.\n",
        "- Return the minimum index sum value alongside the restaurant names.\n",
        "- Support incremental updates where restaurants are added to either list on the fly.\n"
      ]
    },
    {
      "cell_type": "markdown",
      "metadata": {},
      "source": [
        "## Takeaways\n",
        "- Inverted indexes accelerate lookups across datasets.\n",
        "- Tracking the current best score and its candidates is a reusable pattern.\n",
        "- Hash maps often replace nested loops with linear scans.\n"
      ]
    },
    {
      "cell_type": "markdown",
      "metadata": {},
      "source": [
        "## Similar Problems\n",
        "| Problem ID | Problem Title | Technique |\n",
        "| --- | --- | --- |\n",
        "| 1 | Two Sum | Value to index map |\n",
        "| 350 | Intersection of Two Arrays II | Frequency mapping |\n",
        "| 1331 | Rank Transform of an Array | Value compression |\n"
      ]
    }
  ],
  "metadata": {
    "kernelspec": {
      "display_name": "Python 3",
      "language": "python",
      "name": "python3"
    },
    "language_info": {
      "name": "python",
      "version": "3.10"
    }
  },
  "nbformat": 4,
  "nbformat_minor": 5
}