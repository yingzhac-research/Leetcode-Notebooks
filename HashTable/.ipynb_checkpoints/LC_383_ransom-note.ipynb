{
 "cells": [
  {
   "cell_type": "markdown",
   "metadata": {},
   "source": "# 383. Ransom Note"
  },
  {
   "cell_type": "markdown",
   "metadata": {},
   "source": "## Topic Alignment\n- **Role Relevance**: Mirrors validating resource availability when constructing feature payloads from limited vocabularies.\n- **Scenario**: Ensures inference services have the necessary tokens available in embedding dictionaries before serving."
  },
  {
   "cell_type": "markdown",
   "metadata": {},
   "source": "## Metadata Summary\n- Source: [LeetCode - Ransom Note](https://leetcode.com/problems/ransom-note/)\n- Tags: `Hash Table`, `String`\n- Difficulty: Easy\n- Recommended Priority: Medium"
  },
  {
   "cell_type": "markdown",
   "metadata": {},
   "source": "## Problem Statement\nGiven two strings `ransomNote` and `magazine`, return `True` if `ransomNote` can be constructed by using the letters from `magazine`, otherwise return `False`.\n\nEach letter in `magazine` can only be used once in `ransomNote`."
  },
  {
   "cell_type": "markdown",
   "metadata": {},
   "source": "## Constraints\n- `1 <= ransomNote.length, magazine.length <= 10^5`\n- `ransomNote` and `magazine` consist of lowercase English letters"
  },
  {
   "cell_type": "markdown",
   "metadata": {},
   "source": "## Progressive Hints\n- Hint 1: Count how many times each character appears in the magazine.\n- Hint 2: Consume counts when building the ransom note.\n- Hint 3: Early exit if any required character is missing or insufficient."
  },
  {
   "cell_type": "markdown",
   "metadata": {},
   "source": "## Solution Overview\nUse a frequency hash map for the magazine and decrement counts while iterating the ransom note to ensure each character is available."
  },
  {
   "cell_type": "markdown",
   "metadata": {},
   "source": "## Detailed Explanation\n1. Initialize an array of size 26 (or dictionary) to count magazine letters.\n2. Increase the count for each character found in the magazine.\n3. Iterate through the ransom note, decrementing the appropriate counts.\n4. If any count drops below zero, the ransom note cannot be formed; return `False`.\n5. If the loop completes, return `True`."
  },
  {
   "cell_type": "markdown",
   "metadata": {},
   "source": "## Complexity Trade-off Table\n| Approach | Time Complexity | Space Complexity | Notes |\n| --- | --- | --- | --- |\n| Frequency array | O(m + n) | O(1) | Efficient for lowercase letters. |\n| Dictionary counts | O(m + n) | O(k) | Flexible for larger alphabets. |"
  },
  {
   "cell_type": "code",
   "metadata": {},
   "execution_count": null,
   "outputs": [],
   "source": "def canConstruct(ransomNote: str, magazine: str) -> bool:\n    \"\"\"Check if ransomNote can be built from magazine characters.\"\"\"\n    counts = [0] * 26\n    for ch in magazine:\n        counts[ord(ch) - ord('a')] += 1  # Record supply.\n    for ch in ransomNote:\n        idx = ord(ch) - ord('a')\n        counts[idx] -= 1  # Consume supply.\n        if counts[idx] < 0:\n            return False  # Not enough characters.\n    return True\n"
  },
  {
   "cell_type": "markdown",
   "metadata": {},
   "source": "## Complexity Analysis\n- Time Complexity: `O(m + n)` where `m` and `n` are lengths of the magazine and ransom note.\n- Space Complexity: `O(1)` using a fixed-size count array.\n- Bottleneck: Counting characters; still linear."
  },
  {
   "cell_type": "markdown",
   "metadata": {},
   "source": "## Edge Cases & Pitfalls\n- Ransom note longer than magazine automatically fails after counts go negative.\n- Large inputs require efficient loops; avoid repeated string operations.\n- Works seamlessly when characters repeat frequently, as counts handle multiplicity."
  },
  {
   "cell_type": "markdown",
   "metadata": {},
   "source": "## Follow-up Variants\n- Track leftover letters for auditing by returning counts.\n- Support uppercase and lowercase simultaneously by doubling alphabet size.\n- Handle streaming magazine data where letters arrive incrementally."
  },
  {
   "cell_type": "markdown",
   "metadata": {},
   "source": "## Takeaways\n- Frequency maps are ideal for supply-demand validation tasks.\n- Early exits keep latency low when deficits are common.\n- The pattern frequently appears in text-based feature validation pipelines."
  },
  {
   "cell_type": "markdown",
   "metadata": {},
   "source": "## Similar Problems\n| Problem ID | Problem Title | Technique |\n| --- | --- | --- |\n| 389 | Find the Difference | ASCII count difference |\n| 242 | Valid Anagram | Frequency comparison |\n| 567 | Permutation in String | Sliding window counts |"
  }
 ],
 "metadata": {
  "kernelspec": {
   "display_name": "Python 3",
   "language": "python",
   "name": "python3"
  },
  "language_info": {
   "name": "python",
   "version": "3"
  }
 },
 "nbformat": 4,
 "nbformat_minor": 5
}