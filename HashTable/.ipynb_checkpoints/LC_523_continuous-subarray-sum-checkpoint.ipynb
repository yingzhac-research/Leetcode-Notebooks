{
 "cells": [
  {
   "cell_type": "markdown",
   "metadata": {},
   "source": "# 523. Continuous Subarray Sum"
  },
  {
   "cell_type": "markdown",
   "metadata": {},
   "source": "## Topic Alignment\n- **Role Relevance**: Detecting periodicities via modulo arithmetic aligns with monitoring service request cycles.\n- **Scenario**: Helps flag sequences whose aggregated metrics hit multiples of a threshold, common in batch processing."
  },
  {
   "cell_type": "markdown",
   "metadata": {},
   "source": "## Metadata Summary\n- Source: [LeetCode - Continuous Subarray Sum](https://leetcode.com/problems/continuous-subarray-sum/)\n- Tags: `Array`, `Hash Table`, `Prefix Sum`\n- Difficulty: Medium\n- Recommended Priority: Medium"
  },
  {
   "cell_type": "markdown",
   "metadata": {},
   "source": "## Problem Statement\nGiven an integer array `nums` and an integer `k`, return `True` if `nums` has a continuous subarray of size at least two whose elements sum up to a multiple of `k`, or `False` otherwise."
  },
  {
   "cell_type": "markdown",
   "metadata": {},
   "source": "## Constraints\n- `1 <= nums.length <= 10^5`\n- `0 <= nums[i] <= 10^9`\n- `0 <= k <= 2^31 - 1`"
  },
  {
   "cell_type": "markdown",
   "metadata": {},
   "source": "## Progressive Hints\n- Hint 1: Track prefix sums modulo `k` (ignore when `k` equals zero).\n- Hint 2: Store the earliest index each remainder appears.\n- Hint 3: A remainder repeating with a gap of at least two indices indicates a valid subarray."
  },
  {
   "cell_type": "markdown",
   "metadata": {},
   "source": "## Solution Overview\nIterate through the array maintaining prefix sums; record mod `k` remainders and ensure repeats span at least two indices to satisfy the length constraint."
  },
  {
   "cell_type": "markdown",
   "metadata": {},
   "source": "## Detailed Explanation\n1. Handle `k == 0` separately by checking consecutive zeros.\n2. Otherwise maintain `prefix_sum` and compute `remainder = prefix_sum % k`.\n3. Store the first index where each remainder occurs.\n4. If the remainder repeats and the subarray length is at least two, return `True`.\n5. Continue scanning; if no subarray satisfies the condition, return `False`."
  },
  {
   "cell_type": "markdown",
   "metadata": {},
   "source": "## Complexity Trade-off Table\n| Approach | Time Complexity | Space Complexity | Notes |\n| --- | --- | --- | --- |\n| Brute force | O(n^2) | O(1) | Too slow. |\n| Prefix modulo tracking | O(n) | O(min(n, k)) | Efficient with hash map. |"
  },
  {
   "cell_type": "code",
   "metadata": {},
   "execution_count": null,
   "outputs": [],
   "source": "from typing import List\n\n\ndef checkSubarraySum(nums: List[int], k: int) -> bool:\n    \"\"\"Check if a length>=2 subarray sums to a multiple of k.\"\"\"\n    if k == 0:\n        for i in range(1, len(nums)):\n            if nums[i] == 0 and nums[i - 1] == 0:\n                return True  # Two consecutive zeros sum to 0.\n        return False\n\n    remainder_index = {0: -1}  # Remainder -> earliest index.\n    prefix = 0\n\n    for i, value in enumerate(nums):\n        prefix = (prefix + value) % k\n        if prefix in remainder_index:\n            if i - remainder_index[prefix] >= 2:\n                return True\n        else:\n            remainder_index[prefix] = i\n    return False\n"
  },
  {
   "cell_type": "markdown",
   "metadata": {},
   "source": "## Complexity Analysis\n- Time Complexity: `O(n)` processing each element once.\n- Space Complexity: `O(min(n, k))` storing remainders.\n- Bottleneck: Hash map lookups; manageable at average constant time."
  },
  {
   "cell_type": "markdown",
   "metadata": {},
   "source": "## Edge Cases & Pitfalls\n- When `k` is zero, only consecutive zeros qualify.\n- Large `k` values mean remainders range widely; map remains sparse.\n- Ensure the subarray length restriction (>=2) is enforced."
  },
  {
   "cell_type": "markdown",
   "metadata": {},
   "source": "## Follow-up Variants\n- Return the actual subarray indices when they exist.\n- Support dynamic updates to `nums` via prefix difference maintenance.\n- Generalize to modulus ranges (e.g., subarrays summing to `k * m + b`)."
  },
  {
   "cell_type": "markdown",
   "metadata": {},
   "source": "## Takeaways\n- Prefix modulo tracking detects cyclic patterns efficiently.\n- Storing first occurrences ensures longest possible spans.\n- Properly handling edge cases like `k=0` is critical for correctness."
  },
  {
   "cell_type": "markdown",
   "metadata": {},
   "source": "## Similar Problems\n| Problem ID | Problem Title | Technique |\n| --- | --- | --- |\n| 974 | Subarray Sums Divisible by K | Prefix modulo counts |\n| 560 | Subarray Sum Equals K | Prefix sum differences |\n| 930 | Binary Subarrays With Sum | Prefix sum counting |"
  }
 ],
 "metadata": {
  "kernelspec": {
   "display_name": "Python 3",
   "language": "python",
   "name": "python3"
  },
  "language_info": {
   "name": "python",
   "version": "3"
  }
 },
 "nbformat": 4,
 "nbformat_minor": 5
}