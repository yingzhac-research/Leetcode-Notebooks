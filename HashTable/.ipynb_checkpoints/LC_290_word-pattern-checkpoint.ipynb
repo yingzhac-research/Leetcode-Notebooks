{
  "cells": [
    {
      "cell_type": "markdown",
      "metadata": {},
      "source": [
        "# 290. Word Pattern\n"
      ]
    },
    {
      "cell_type": "markdown",
      "metadata": {},
      "source": [
        "## Topic Alignment\n",
        "- MLE Connection: Enforcing bijective token alignments mirrors vocabulary mappings in NLP preprocessing.\n",
        "- Hash Table Role: Dual dictionaries map pattern characters to words and vice versa to prevent collisions.\n",
        "- Interview Angle: Tests ability to normalize inputs (splitting words) and maintain consistent associations.\n"
      ]
    },
    {
      "cell_type": "markdown",
      "metadata": {},
      "source": [
        "## Metadata Summary\n",
        "- Source: https://leetcode.com/problems/word-pattern/\n",
        "- Tags: Hash Table, String\n",
        "- Difficulty: Easy\n",
        "- Recommended Review Priority: Medium\n"
      ]
    },
    {
      "cell_type": "markdown",
      "metadata": {},
      "source": [
        "## Problem Statement\n",
        "Given a pattern containing lowercase letters and a string s containing space-separated words, determine if s follows the same pattern. Each character in the pattern should map to exactly one word in s, and no two characters may map to the same word.\n"
      ]
    },
    {
      "cell_type": "markdown",
      "metadata": {},
      "source": [
        "## Constraints\n",
        "- 1 <= pattern.length <= 300.\n",
        "- The number of words in s is in the range [1, 300].\n",
        "- pattern[i] is a lowercase English letter.\n",
        "- s consists of lowercase English letters separated by single spaces.\n"
      ]
    },
    {
      "cell_type": "markdown",
      "metadata": {},
      "source": [
        "## Progressive Hints\n",
        "- Hint 1: Split the string into words and compare the counts with the pattern length first.\n",
        "- Hint 2: Use two dictionaries to enforce the bijection between pattern characters and words.\n",
        "- Hint 3: Check and update both mappings as you iterate; any mismatch should fail fast.\n"
      ]
    },
    {
      "cell_type": "markdown",
      "metadata": {},
      "source": [
        "## Solution Overview\n",
        "Tokenize s into words and iterate alongside the pattern. Maintain `char_to_word` and `word_to_char` dictionaries. If either mapping conflicts with the current pair, return False. Finishing the loop without conflicts confirms the pattern.\n"
      ]
    },
    {
      "cell_type": "markdown",
      "metadata": {},
      "source": [
        "## Detailed Explanation\n",
        "1. Split `s` on spaces to produce the words array.\n",
        "2. If the length of words differs from the pattern length, the mapping cannot be one-to-one.\n",
        "3. Iterate i from 0 to len(pattern) - 1:\n",
        "   - If pattern[i] already maps to a word, ensure it equals words[i].\n",
        "   - If words[i] already maps to a character, ensure it equals pattern[i].\n",
        "   - Otherwise, record the new mapping in both dictionaries.\n",
        "\n",
        "This enforces injectivity in both directions and validates the bijection condition.\n"
      ]
    },
    {
      "cell_type": "markdown",
      "metadata": {},
      "source": [
        "## Complexity Trade-off Table\n",
        "| Approach | Time Complexity | Space Complexity |\n",
        "| --- | --- | --- |\n",
        "| Nested comparisons for each pair | O(n^2) | O(1) |\n",
        "| Dual hash maps | O(n) | O(n) |\n"
      ]
    },
    {
      "cell_type": "markdown",
      "metadata": {},
      "source": [
        "## Reference Implementation\n"
      ]
    },
    {
      "cell_type": "code",
      "metadata": {},
      "execution_count": null,
      "outputs": [],
      "source": [
        "class Solution:\n",
        "    def wordPattern(self, pattern: str, s: str) -> bool:\n",
        "        words = s.split()\n",
        "        if len(pattern) != len(words):\n",
        "            return False\n",
        "\n",
        "        char_to_word: dict[str, str] = {}\n",
        "        word_to_char: dict[str, str] = {}\n",
        "\n",
        "        for ch, word in zip(pattern, words):\n",
        "            if ch in char_to_word and char_to_word[ch] != word:\n",
        "                return False\n",
        "            if word in word_to_char and word_to_char[word] != ch:\n",
        "                return False\n",
        "            char_to_word[ch] = word\n",
        "            word_to_char[word] = ch\n",
        "\n",
        "        return True\n"
      ]
    },
    {
      "cell_type": "markdown",
      "metadata": {},
      "source": [
        "## Complexity Analysis\n",
        "- Time Complexity: O(n) where n is the number of characters/words because each pair is processed once.\n",
        "- Space Complexity: O(k) where k is the number of unique pattern characters (bounded by n).\n",
        "- Bottlenecks: Splitting the string dominates the work but remains linear.\n"
      ]
    },
    {
      "cell_type": "markdown",
      "metadata": {},
      "source": [
        "## Edge Cases & Pitfalls\n",
        "- Leading or trailing spaces are not present per constraints, but multiple spaces would break naive splitting.\n",
        "- Words are case-sensitive; \"Dog\" and \"dog\" must be treated differently.\n",
        "- Reject patterns where the number of words differs from the number of pattern characters before mapping.\n"
      ]
    },
    {
      "cell_type": "markdown",
      "metadata": {},
      "source": [
        "## Follow-up Variants\n",
        "- Allow wildcards in the pattern that can map to any unused word and analyze the resulting constraints.\n",
        "- Extend to phrase patterns where each token can map to multiple consecutive words.\n",
        "- Slide a window over s and count substrings that follow the given pattern.\n"
      ]
    },
    {
      "cell_type": "markdown",
      "metadata": {},
      "source": [
        "## Takeaways\n",
        "- Maintaining bijections requires symmetric bookkeeping with hash maps.\n",
        "- Always validate lengths early to avoid unnecessary processing.\n",
        "- String tokenization plus mapping is common in parsing-style interview questions.\n"
      ]
    },
    {
      "cell_type": "markdown",
      "metadata": {},
      "source": [
        "## Similar Problems\n",
        "| Problem ID | Problem Title | Technique |\n",
        "| --- | --- | --- |\n",
        "| 205 | Isomorphic Strings | Bidirectional mapping |\n",
        "| 291 | Word Pattern II | Backtracking with maps |\n",
        "| 890 | Find and Replace Pattern | Canonical signature |\n"
      ]
    }
  ],
  "metadata": {
    "kernelspec": {
      "display_name": "Python 3",
      "language": "python",
      "name": "python3"
    },
    "language_info": {
      "name": "python",
      "version": "3.10"
    }
  },
  "nbformat": 4,
  "nbformat_minor": 5
}