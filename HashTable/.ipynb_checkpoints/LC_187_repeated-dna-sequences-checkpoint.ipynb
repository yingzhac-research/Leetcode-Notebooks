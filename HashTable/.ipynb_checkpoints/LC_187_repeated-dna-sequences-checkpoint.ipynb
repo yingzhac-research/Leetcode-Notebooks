{
 "cells": [
  {
   "cell_type": "markdown",
   "metadata": {},
   "source": "# 187. Repeated DNA Sequences"
  },
  {
   "cell_type": "markdown",
   "metadata": {},
   "source": "## Topic Alignment\n- **Role Relevance**: Detecting repeated patterns in sequences aligns with identifying recurring token windows in genomic or telemetry pipelines.\n- **Scenario**: Supports caching or alerting when specific 10-length patterns resurface in streaming data."
  },
  {
   "cell_type": "markdown",
   "metadata": {},
   "source": "## Metadata Summary\n- Source: [LeetCode - Repeated DNA Sequences](https://leetcode.com/problems/repeated-dna-sequences/)\n- Tags: `String`, `Sliding Window`, `Hash Table`\n- Difficulty: Medium\n- Recommended Priority: Medium"
  },
  {
   "cell_type": "markdown",
   "metadata": {},
   "source": "## Problem Statement\nGiven a string `s` representing a DNA sequence, return all the 10-letter-long sequences (substrings) that occur more than once in `s`."
  },
  {
   "cell_type": "markdown",
   "metadata": {},
   "source": "## Constraints\n- `1 <= s.length <= 10^5`\n- `s[i]` is `'A'`, `'C'`, `'G'`, or `'T'`"
  },
  {
   "cell_type": "markdown",
   "metadata": {},
   "source": "## Progressive Hints\n- Hint 1: Use a sliding window of fixed length 10.\n- Hint 2: Track seen substrings in a hash set and record those encountered twice.\n- Hint 3: Consider rolling hash or bit encoding for optimized memory (optional)."
  },
  {
   "cell_type": "markdown",
   "metadata": {},
   "source": "## Solution Overview\nSlide a window of length 10 across the DNA string. Use a hash set to store sequences seen once and another set for duplicates to ensure each repeated sequence is reported only once."
  },
  {
   "cell_type": "markdown",
   "metadata": {},
   "source": "## Detailed Explanation\n1. Initialize `seen_once` and `seen_twice` as empty sets.\n2. Iterate over all substrings of length 10.\n3. If a substring is already in `seen_once`, add it to `seen_twice`.\n4. Otherwise insert it into `seen_once`.\n5. At the end, return the list of sequences in `seen_twice`."
  },
  {
   "cell_type": "markdown",
   "metadata": {},
   "source": "## Complexity Trade-off Table\n| Approach | Time Complexity | Space Complexity | Notes |\n| --- | --- | --- | --- |\n| Naive counting via nested loops | O(n^2) | O(1) | Too slow. |\n| Sliding window + hash sets | O(n) | O(n) | Efficient and direct. |"
  },
  {
   "cell_type": "code",
   "metadata": {},
   "execution_count": null,
   "outputs": [],
   "source": "from typing import List\n\n\ndef findRepeatedDnaSequences(s: str) -> List[str]:\n    \"\"\"Return all 10-letter DNA sequences that occur more than once.\"\"\"\n    if len(s) < 10:\n        return []\n    seen_once: set[str] = set()\n    seen_twice: set[str] = set()\n\n    for i in range(len(s) - 9):\n        window = s[i:i + 10]\n        if window in seen_once:\n            seen_twice.add(window)  # Encountered again; record as duplicate.\n        else:\n            seen_once.add(window)\n    return list(seen_twice)\n"
  },
  {
   "cell_type": "markdown",
   "metadata": {},
   "source": "## Complexity Analysis\n- Time Complexity: `O(n)` where `n` is the length of `s`, since each 10-length window is processed once.\n- Space Complexity: `O(n)` storing windows in sets; can be reduced with bit encoding.\n- Bottleneck: String slicing; can be optimized with rolling hash if needed."
  },
  {
   "cell_type": "markdown",
   "metadata": {},
   "source": "## Edge Cases & Pitfalls\n- Strings shorter than 10 yield no results.\n- Highly repetitive sequences may produce many duplicates; sets prevent redundant reporting.\n- Rolling hash implementations must handle collisions carefully if used."
  },
  {
   "cell_type": "markdown",
   "metadata": {},
   "source": "## Follow-up Variants\n- Implement rolling hash to reduce memory usage.\n- Return counts of repetitions rather than just the sequences.\n- Support variable substring lengths determined at runtime."
  },
  {
   "cell_type": "markdown",
   "metadata": {},
   "source": "## Takeaways\n- Fixed-length sliding windows pair naturally with hash sets for duplicate detection.\n- Separation of first-seen and repeated tracking avoids duplicate outputs.\n- Techniques extend to genomic analytics and repeated-event monitoring."
  },
  {
   "cell_type": "markdown",
   "metadata": {},
   "source": "## Similar Problems\n| Problem ID | Problem Title | Technique |\n| --- | --- | --- |\n| 3 | Longest Substring Without Repeating Characters | Sliding window uniqueness |\n| 438 | Find All Anagrams in a String | Sliding window counts |\n| 992 | Subarrays with K Different Integers | Sliding window frequency control |"
  }
 ],
 "metadata": {
  "kernelspec": {
   "display_name": "Python 3",
   "language": "python",
   "name": "python3"
  },
  "language_info": {
   "name": "python",
   "version": "3"
  }
 },
 "nbformat": 4,
 "nbformat_minor": 5
}