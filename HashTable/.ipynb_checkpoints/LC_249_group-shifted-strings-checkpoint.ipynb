{
  "cells": [
    {
      "cell_type": "markdown",
      "metadata": {},
      "source": [
        "# 249. Group Shifted Strings\n"
      ]
    },
    {
      "cell_type": "markdown",
      "metadata": {},
      "source": [
        "## Topic Alignment\n",
        "- MLE Connection: Normalizing cyclic feature shifts mirrors handling rotational invariance in embedding spaces.\n",
        "- Hash Table Role: Map strings to their shift-invariant signature so anagrams under shifting cluster together.\n",
        "- Interview Angle: Tests ability to design canonical representations for equivalence classes.\n"
      ]
    },
    {
      "cell_type": "markdown",
      "metadata": {},
      "source": [
        "## Metadata Summary\n",
        "- Source: https://leetcode.com/problems/group-shifted-strings/\n",
        "- Tags: Hash Table, String\n",
        "- Difficulty: Medium\n",
        "- Recommended Review Priority: Medium\n"
      ]
    },
    {
      "cell_type": "markdown",
      "metadata": {},
      "source": [
        "## Problem Statement\n",
        "Strings are considered shifted if each character in one string can be shifted forward the same number of positions in the alphabet to match the other string, wrapping around from 'z' to 'a'. Given an array of strings, group all the shifted strings together.\n"
      ]
    },
    {
      "cell_type": "markdown",
      "metadata": {},
      "source": [
        "## Constraints\n",
        "- 1 <= strings.length <= 200.\n",
        "- 1 <= strings[i].length <= 50.\n",
        "- strings[i] consists of lowercase English letters.\n"
      ]
    },
    {
      "cell_type": "markdown",
      "metadata": {},
      "source": [
        "## Progressive Hints\n",
        "- Hint 1: Two strings in the same group have identical differences between adjacent characters modulo 26.\n",
        "- Hint 2: Encode the difference pattern as the signature key in a hash map.\n",
        "- Hint 3: Remember to treat single-character strings as a special case with an empty pattern.\n"
      ]
    },
    {
      "cell_type": "markdown",
      "metadata": {},
      "source": [
        "## Solution Overview\n",
        "Generate a signature for each string using the difference between consecutive characters modulo 26. Use a dictionary from signature to list of strings. Finally, return the grouped lists.\n"
      ]
    },
    {
      "cell_type": "markdown",
      "metadata": {},
      "source": [
        "## Detailed Explanation\n",
        "1. For each string s:\n",
        "   - If len(s) == 1, treat its signature as an empty tuple because all single characters belong together if they are identical.\n",
        "   - Otherwise, compute `( (ord(s[i+1]) - ord(s[i])) % 26 for i in range(len(s) - 1) )`.\n",
        "2. Use the tuple of differences as the hash key and append the original string to the list.\n",
        "3. After processing all strings, collect the groups from the dictionary values.\n",
        "\n",
        "This signature is invariant under uniform shifts because it relies on relative differences.\n"
      ]
    },
    {
      "cell_type": "markdown",
      "metadata": {},
      "source": [
        "## Complexity Trade-off Table\n",
        "| Approach | Time Complexity | Space Complexity |\n",
        "| --- | --- | --- |\n",
        "| Compare each string with every other | O(n^2 * L) | O(1) |\n",
        "| Signature hash map | O(n * L) | O(n * L) |\n"
      ]
    },
    {
      "cell_type": "markdown",
      "metadata": {},
      "source": [
        "## Reference Implementation\n"
      ]
    },
    {
      "cell_type": "code",
      "metadata": {},
      "execution_count": null,
      "outputs": [],
      "source": [
        "from collections import defaultdict\n",
        "from typing import List, Tuple\n",
        "\n",
        "\n",
        "class Solution:\n",
        "    def groupStrings(self, strings: List[str]) -> List[List[str]]:\n",
        "        groups: defaultdict[Tuple[int, ...], List[str]] = defaultdict(list)\n",
        "\n",
        "        for s in strings:\n",
        "            if len(s) == 1:\n",
        "                signature: Tuple[int, ...] = tuple()\n",
        "            else:\n",
        "                diffs = []\n",
        "                for i in range(len(s) - 1):\n",
        "                    diffs.append((ord(s[i + 1]) - ord(s[i])) % 26)\n",
        "                signature = tuple(diffs)\n",
        "            groups[signature].append(s)\n",
        "\n",
        "        return list(groups.values())\n"
      ]
    },
    {
      "cell_type": "markdown",
      "metadata": {},
      "source": [
        "## Complexity Analysis\n",
        "- Time Complexity: O(n * L), where L is the maximum string length, because each string contributes one pass to compute differences.\n",
        "- Space Complexity: O(n * L) for storing signatures and grouped strings.\n",
        "- Bottlenecks: Building difference arrays is linear per string and dominates the runtime.\n"
      ]
    },
    {
      "cell_type": "markdown",
      "metadata": {},
      "source": [
        "## Edge Cases & Pitfalls\n",
        "- Remember the modulo wrap from 'z' to 'a' to keep differences in [0, 25].\n",
        "- Single-character strings must be grouped with identical characters; an empty signature keeps them separate by value.\n",
        "- Sorting output groups is optional; preserve insertion order unless problem requires otherwise.\n"
      ]
    },
    {
      "cell_type": "markdown",
      "metadata": {},
      "source": [
        "## Follow-up Variants\n",
        "- Sort strings within each group to produce deterministic output.\n",
        "- Group strings by allowing both forward and backward uniform shifts.\n",
        "- Extend to handle uppercase letters by normalizing cases separately.\n"
      ]
    },
    {
      "cell_type": "markdown",
      "metadata": {},
      "source": [
        "## Takeaways\n",
        "- Designing canonical signatures is powerful for recognizing equivalence classes.\n",
        "- Relative differences yield shift-invariant features.\n",
        "- Hash maps of signatures enable grouping in linear time relative to total input size.\n"
      ]
    },
    {
      "cell_type": "markdown",
      "metadata": {},
      "source": [
        "## Similar Problems\n",
        "| Problem ID | Problem Title | Technique |\n",
        "| --- | --- | --- |\n",
        "| 49 | Group Anagrams | Sorted signature |\n",
        "| 438 | Find All Anagrams in a String | Frequency signature |\n",
        "| 266 | Palindrome Permutation | Hash signature |\n"
      ]
    }
  ],
  "metadata": {
    "kernelspec": {
      "display_name": "Python 3",
      "language": "python",
      "name": "python3"
    },
    "language_info": {
      "name": "python",
      "version": "3.10"
    }
  },
  "nbformat": 4,
  "nbformat_minor": 5
}