{
 "cells": [
  {
   "cell_type": "markdown",
   "metadata": {},
   "source": "# 424. Longest Repeating Character Replacement"
  },
  {
   "cell_type": "markdown",
   "metadata": {},
   "source": "## Topic Alignment\n- **Role Relevance**: Balancing replacement budgets resembles enforcing mutation limits in data augmentation pipelines.\n- **Scenario**: Useful for estimating how many edits fit within latency budgets while preserving dominant signals."
  },
  {
   "cell_type": "markdown",
   "metadata": {},
   "source": "## Metadata Summary\n- Source: [LeetCode - Longest Repeating Character Replacement](https://leetcode.com/problems/longest-repeating-character-replacement/)\n- Tags: `String`, `Sliding Window`, `Hash Table`\n- Difficulty: Medium\n- Recommended Priority: Medium"
  },
  {
   "cell_type": "markdown",
   "metadata": {},
   "source": "## Problem Statement\nGiven a string `s` and an integer `k`, return the length of the longest substring that can be obtained by replacing at most `k` characters so that all characters in the substring are the same."
  },
  {
   "cell_type": "markdown",
   "metadata": {},
   "source": "## Constraints\n- `1 <= s.length <= 10^5`\n- `s` consists of uppercase English letters\n- `0 <= k <= s.length`"
  },
  {
   "cell_type": "markdown",
   "metadata": {},
   "source": "## Progressive Hints\n- Hint 1: Maintain a sliding window and track character frequencies inside it.\n- Hint 2: You only need to know the count of the most frequent character in the window.\n- Hint 3: Expand the window greedily and shrink when replacements needed exceed `k`."
  },
  {
   "cell_type": "markdown",
   "metadata": {},
   "source": "## Solution Overview\nUse two pointers with a hash map counting characters inside the window. Keep the maximum frequency seen; if the window size minus this max exceeds `k`, shrink from the left until the condition is satisfied."
  },
  {
   "cell_type": "markdown",
   "metadata": {},
   "source": "## Detailed Explanation\n1. Initialize `left = 0`, `best = 0`, and `counts` as a dictionary.\n2. Iterate `right` over `s`, incrementing the count for `s[right]` and updating `max_count`.\n3. While the window length minus `max_count` exceeds `k`, decrement the count of `s[left]` and move `left` forward.\n4. Update `best` with the maximum window length observed.\n5. Return `best` after processing."
  },
  {
   "cell_type": "markdown",
   "metadata": {},
   "source": "## Complexity Trade-off Table\n| Approach | Time Complexity | Space Complexity | Notes |\n| --- | --- | --- | --- |\n| Consider all substrings | O(n^2) | O(1) | Too slow. |\n| Sliding window + freq map | O(n) | O(alphabet) | Efficient; `max_count` guides shrinking. |"
  },
  {
   "cell_type": "code",
   "metadata": {},
   "execution_count": null,
   "outputs": [],
   "source": "def characterReplacement(s: str, k: int) -> int:\n    \"\"\"Return length of the longest substring transformable into repeated chars with <= k replacements.\"\"\"\n    counts: dict[str, int] = {}\n    left = 0\n    best = 0\n    max_count = 0  # Highest frequency within current window.\n\n    for right, char in enumerate(s):\n        counts[char] = counts.get(char, 0) + 1\n        max_count = max(max_count, counts[char])\n\n        # Shrink window if replacements needed exceed k.\n        while (right - left + 1) - max_count > k:\n            left_char = s[left]\n            counts[left_char] -= 1\n            left += 1\n        best = max(best, right - left + 1)\n    return best\n"
  },
  {
   "cell_type": "markdown",
   "metadata": {},
   "source": "## Complexity Analysis\n- Time Complexity: `O(n)` since each pointer advances at most `n` steps.\n- Space Complexity: `O(alphabet)` for the counts dictionary.\n- Bottleneck: Maintaining `max_count`, which is updated in `O(1)` per step."
  },
  {
   "cell_type": "markdown",
   "metadata": {},
   "source": "## Edge Cases & Pitfalls\n- When `k` is large, the entire string may be the answer.\n- `max_count` need not be recomputed during shrinking; the current value remains valid.\n- Ensure uppercase assumption matches problem constraints."
  },
  {
   "cell_type": "markdown",
   "metadata": {},
   "source": "## Follow-up Variants\n- Extend to lowercase or mixed-case alphabets.\n- Return the substring itself.\n- Allow a per-character replacement cost instead of uniform `k`."
  },
  {
   "cell_type": "markdown",
   "metadata": {},
   "source": "## Takeaways\n- Tracking the most frequent character clarifies when a window violates constraints.\n- Two-pointer strategies with hash maps excel at managing variable-length constraints.\n- The method supports diverse quality-control and noise-budget tasks in ML pipelines."
  },
  {
   "cell_type": "markdown",
   "metadata": {},
   "source": "## Similar Problems\n| Problem ID | Problem Title | Technique |\n| --- | --- | --- |\n| 1004 | Max Consecutive Ones III | Sliding window with replacement budget |\n| 159 | Longest Substring with At Most Two Distinct Characters | Sliding window + hash map |\n| 3 | Longest Substring Without Repeating Characters | Sliding window uniqueness |"
  }
 ],
 "metadata": {
  "kernelspec": {
   "display_name": "Python 3",
   "language": "python",
   "name": "python3"
  },
  "language_info": {
   "name": "python",
   "version": "3"
  }
 },
 "nbformat": 4,
 "nbformat_minor": 5
}