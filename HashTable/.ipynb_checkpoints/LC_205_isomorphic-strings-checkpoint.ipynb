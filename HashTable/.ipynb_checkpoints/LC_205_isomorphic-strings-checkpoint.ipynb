{
  "cells": [
    {
      "cell_type": "markdown",
      "metadata": {},
      "source": [
        "# 205. Isomorphic Strings\n"
      ]
    },
    {
      "cell_type": "markdown",
      "metadata": {},
      "source": [
        "## Topic Alignment\n",
        "- MLE Connection: Validating bijective feature mappings mirrors vocabulary alignment tasks.\n",
        "- Hash Table Role: Maintain forward and reverse character maps to guarantee one-to-one correspondence.\n",
        "- Interview Angle: Highlights bidirectional hash map usage and collision handling in string transforms.\n"
      ]
    },
    {
      "cell_type": "markdown",
      "metadata": {},
      "source": [
        "## Metadata Summary\n",
        "- Source: https://leetcode.com/problems/isomorphic-strings/\n",
        "- Tags: Hash Table, String\n",
        "- Difficulty: Easy\n",
        "- Recommended Review Priority: Medium\n"
      ]
    },
    {
      "cell_type": "markdown",
      "metadata": {},
      "source": [
        "## Problem Statement\n",
        "Given two strings s and t, determine if they are isomorphic. Two strings are isomorphic if the characters in s can be replaced to get t, with each occurrence of a character in s mapped to another character while preserving order. No two characters may map to the same character, but a character may map to itself.\n"
      ]
    },
    {
      "cell_type": "markdown",
      "metadata": {},
      "source": [
        "## Constraints\n",
        "- 1 <= s.length, t.length <= 5 * 10^4.\n",
        "- s and t consist of ASCII characters.\n"
      ]
    },
    {
      "cell_type": "markdown",
      "metadata": {},
      "source": [
        "## Progressive Hints\n",
        "- Hint 1: Mapping only in one direction is not enough to prevent collisions.\n",
        "- Hint 2: Maintain two hash maps: s -> t and t -> s to enforce a bijection.\n",
        "- Hint 3: Iterate both strings simultaneously, verifying and updating the mappings at each step.\n"
      ]
    },
    {
      "cell_type": "markdown",
      "metadata": {},
      "source": [
        "## Solution Overview\n",
        "Walk through the strings in parallel while maintaining two dictionaries. Each new pair is stored both ways, and any inconsistency (missing or conflicting mapping) immediately invalidates the isomorphism.\n"
      ]
    },
    {
      "cell_type": "markdown",
      "metadata": {},
      "source": [
        "## Detailed Explanation\n",
        "A bijection requires that each character in s maps to exactly one character in t and vice versa. We maintain two dictionaries:\n",
        "- `forward` stores s[i] -> t[i].\n",
        "- `reverse` stores t[i] -> s[i].\n",
        "\n",
        "For every index i:\n",
        "1. If s[i] already has a mapped character in `forward`, ensure it equals t[i].\n",
        "2. If t[i] already has a mapped character in `reverse`, ensure it equals s[i].\n",
        "3. If both checks pass, record the new mapping.\n",
        "\n",
        "If any check fails, the strings are not isomorphic. Completing the scan without conflicts confirms isomorphism.\n"
      ]
    },
    {
      "cell_type": "markdown",
      "metadata": {},
      "source": [
        "## Complexity Trade-off Table\n",
        "| Approach | Time Complexity | Space Complexity |\n",
        "| --- | --- | --- |\n",
        "| For each char search entire map for conflicts | O(n * sigma) | O(sigma) |\n",
        "| Dual hash maps (optimal) | O(n) | O(sigma) |\n"
      ]
    },
    {
      "cell_type": "markdown",
      "metadata": {},
      "source": [
        "## Reference Implementation\n"
      ]
    },
    {
      "cell_type": "code",
      "metadata": {},
      "execution_count": null,
      "outputs": [],
      "source": [
        "class Solution:\n",
        "    def isIsomorphic(self, s: str, t: str) -> bool:\n",
        "        forward: dict[str, str] = {}\n",
        "        reverse: dict[str, str] = {}\n",
        "\n",
        "        for ch_s, ch_t in zip(s, t):\n",
        "            if ch_s in forward and forward[ch_s] != ch_t:\n",
        "                return False\n",
        "            if ch_t in reverse and reverse[ch_t] != ch_s:\n",
        "                return False\n",
        "            forward[ch_s] = ch_t\n",
        "            reverse[ch_t] = ch_s\n",
        "\n",
        "        return True\n"
      ]
    },
    {
      "cell_type": "markdown",
      "metadata": {},
      "source": [
        "## Complexity Analysis\n",
        "- Time Complexity: O(n) because each character pair is processed once with O(1) dictionary operations.\n",
        "- Space Complexity: O(sigma) where sigma is the alphabet size (<= 256 for ASCII).\n",
        "- Bottlenecks: Hash lookups dominate but remain constant time.\n"
      ]
    },
    {
      "cell_type": "markdown",
      "metadata": {},
      "source": [
        "## Edge Cases & Pitfalls\n",
        "- Strings of different lengths cannot be isomorphic and should be rejected immediately.\n",
        "- Tracking only one direction permits collisions, producing false positives.\n",
        "- Remember that characters may include spaces or punctuation; do not assume lowercase letters only.\n"
      ]
    },
    {
      "cell_type": "markdown",
      "metadata": {},
      "source": [
        "## Follow-up Variants\n",
        "- Determine whether two strings are k-isomorphic when up to k mismatches are allowed.\n",
        "- Count the number of distinct isomorphic mappings instead of merely checking existence.\n",
        "- Generalize to word-level mappings rather than character-level mappings.\n"
      ]
    },
    {
      "cell_type": "markdown",
      "metadata": {},
      "source": [
        "## Takeaways\n",
        "- Bidirectional hash maps enforce bijections cleanly.\n",
        "- Early exits on inconsistency keep the implementation efficient and simple.\n",
        "- String isomorphism problems illustrate the importance of symmetric constraints.\n"
      ]
    },
    {
      "cell_type": "markdown",
      "metadata": {},
      "source": [
        "## Similar Problems\n",
        "| Problem ID | Problem Title | Technique |\n",
        "| --- | --- | --- |\n",
        "| 290 | Word Pattern | Two-way mapping |\n",
        "| 890 | Find and Replace Pattern | Pattern-based hashing |\n",
        "| 734 | Sentence Similarity | Hash map adjacency |\n"
      ]
    }
  ],
  "metadata": {
    "kernelspec": {
      "display_name": "Python 3",
      "language": "python",
      "name": "python3"
    },
    "language_info": {
      "name": "python",
      "version": "3.10"
    }
  },
  "nbformat": 4,
  "nbformat_minor": 5
}