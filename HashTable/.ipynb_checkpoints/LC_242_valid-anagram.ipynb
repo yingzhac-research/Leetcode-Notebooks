{
 "cells": [
  {
   "cell_type": "markdown",
   "metadata": {},
   "source": "# 242. Valid Anagram"
  },
  {
   "cell_type": "markdown",
   "metadata": {},
   "source": "## Topic Alignment\n- **Role Relevance**: Checking multiset equality matches validating tokenized text between offline and online pipelines.\n- **Scenario**: Ensures preprocessed feature strings remain consistent across distributed systems."
  },
  {
   "cell_type": "markdown",
   "metadata": {},
   "source": "## Metadata Summary\n- Source: [LeetCode - Valid Anagram](https://leetcode.com/problems/valid-anagram/)\n- Tags: `Hash Table`, `String`\n- Difficulty: Easy\n- Recommended Priority: Medium"
  },
  {
   "cell_type": "markdown",
   "metadata": {},
   "source": "## Problem Statement\nGiven two strings `s` and `t`, return `True` if `t` is an anagram of `s`, and `False` otherwise.\n\nAn anagram uses all original letters exactly once."
  },
  {
   "cell_type": "markdown",
   "metadata": {},
   "source": "## Constraints\n- `1 <= s.length, t.length <= 5 * 10^4`\n- `s` and `t` consist of lowercase English letters"
  },
  {
   "cell_type": "markdown",
   "metadata": {},
   "source": "## Progressive Hints\n- Hint 1: Sort both strings to compare canonical forms.\n- Hint 2: Alternatively, track character counts to avoid sorting overhead.\n- Hint 3: Remember to check lengths first to short-circuit obvious mismatches."
  },
  {
   "cell_type": "markdown",
   "metadata": {},
   "source": "## Solution Overview\nCompare letter frequencies between the two strings by counting characters in one and decrementing while scanning the other, verifying both end at zero counts."
  },
  {
   "cell_type": "markdown",
   "metadata": {},
   "source": "## Detailed Explanation\n1. If the strings have different lengths, return `False` immediately.\n2. Initialize an array of length 26 to count letters from `s`.\n3. Increment counts for each character in `s`.\n4. Decrement counts while iterating `t`.\n5. If any count becomes negative, `t` has an extra character.\n6. After processing, verify all counts return to zero; if so, the strings are anagrams."
  },
  {
   "cell_type": "markdown",
   "metadata": {},
   "source": "## Complexity Trade-off Table\n| Approach | Time Complexity | Space Complexity | Notes |\n| --- | --- | --- | --- |\n| Sorting | O(n log n) | O(1) | Simple but slower for large strings. |\n| Frequency counting | O(n) | O(1) | Optimal for fixed alphabet size. |"
  },
  {
   "cell_type": "code",
   "metadata": {},
   "execution_count": null,
   "outputs": [],
   "source": "def isAnagram(s: str, t: str) -> bool:\n    \"\"\"Return True if t is an anagram of s using frequency counting.\"\"\"\n    if len(s) != len(t):\n        return False\n    counts = [0] * 26\n    for char in s:\n        counts[ord(char) - ord('a')] += 1  # Increment for s.\n    for char in t:\n        idx = ord(char) - ord('a')\n        counts[idx] -= 1  # Decrement for t.\n        if counts[idx] < 0:\n            return False  # t has an extra character.\n    return True\n"
  },
  {
   "cell_type": "markdown",
   "metadata": {},
   "source": "## Complexity Analysis\n- Time Complexity: `O(n)` where `n` is the length of the strings.\n- Space Complexity: `O(1)` because the counts array has constant size 26.\n- Bottleneck: Character counting loops dominate but remain linear."
  },
  {
   "cell_type": "markdown",
   "metadata": {},
   "source": "## Edge Cases & Pitfalls\n- Empty strings are trivially anagrams; constraints exclude them but logic still works.\n- Ensure you subtract and check counts to detect extra characters promptly.\n- Non-lowercase variants require larger alphabets or dictionaries."
  },
  {
   "cell_type": "markdown",
   "metadata": {},
   "source": "## Follow-up Variants\n- Support Unicode or wide character sets via dictionaries.\n- Count the number of distinct anagram groups in a corpus.\n- Build streaming checks where characters arrive incrementally."
  },
  {
   "cell_type": "markdown",
   "metadata": {},
   "source": "## Takeaways\n- Frequency counting is a classic hash-table-based approach for string equality checks.\n- Early mismatch detection improves latency in production services.\n- The technique extends readily to bigger alphabets with dictionary-based counts."
  },
  {
   "cell_type": "markdown",
   "metadata": {},
   "source": "## Similar Problems\n| Problem ID | Problem Title | Technique |\n| --- | --- | --- |\n| 49 | Group Anagrams | Hash map grouping |\n| 383 | Ransom Note | Frequency comparison |\n| 438 | Find All Anagrams in a String | Sliding window counting |"
  }
 ],
 "metadata": {
  "kernelspec": {
   "display_name": "Python 3",
   "language": "python",
   "name": "python3"
  },
  "language_info": {
   "name": "python",
   "version": "3"
  }
 },
 "nbformat": 4,
 "nbformat_minor": 5
}