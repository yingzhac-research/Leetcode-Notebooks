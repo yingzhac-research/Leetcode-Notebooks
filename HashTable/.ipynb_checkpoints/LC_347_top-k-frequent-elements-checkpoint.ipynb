{
 "cells": [
  {
   "cell_type": "markdown",
   "metadata": {},
   "source": "# 347. Top K Frequent Elements"
  },
  {
   "cell_type": "markdown",
   "metadata": {},
   "source": "## Topic Alignment\n- **Role Relevance**: Identifying heavy hitters is essential for feature selection and monitoring drift in ML systems.\n- **Scenario**: Helps surface top queries, entities, or categorical features for model introspection."
  },
  {
   "cell_type": "markdown",
   "metadata": {},
   "source": "## Metadata Summary\n- Source: [LeetCode - Top K Frequent Elements](https://leetcode.com/problems/top-k-frequent-elements/)\n- Tags: `Array`, `Hash Table`, `Heap`\n- Difficulty: Medium\n- Recommended Priority: High"
  },
  {
   "cell_type": "markdown",
   "metadata": {},
   "source": "## Problem Statement\nGiven an integer array `nums` and an integer `k`, return the `k` most frequent elements. You may return the answer in any order. The algorithm must run in better than `O(n log n)` time."
  },
  {
   "cell_type": "markdown",
   "metadata": {},
   "source": "## Constraints\n- `1 <= nums.length <= 10^5`\n- `-10^4 <= nums[i] <= 10^4`\n- `1 <= k <= unique elements in nums`"
  },
  {
   "cell_type": "markdown",
   "metadata": {},
   "source": "## Progressive Hints\n- Hint 1: Count element frequencies with a hash map.\n- Hint 2: Use a bucket array indexed by frequency or a heap to extract top counts quickly.\n- Hint 3: Bucket sort delivers linear time by grouping numbers by occurrence count."
  },
  {
   "cell_type": "markdown",
   "metadata": {},
   "source": "## Solution Overview\nCompute frequencies with a hash map, then bucket numbers by their frequencies and scan buckets from high to low to collect the top `k` elements in linear time."
  },
  {
   "cell_type": "markdown",
   "metadata": {},
   "source": "## Detailed Explanation\n1. Count each number's occurrences using a dictionary.\n2. Create buckets where index `i` stores numbers appearing `i` times.\n3. Iterate buckets in reverse order to gather the most frequent elements.\n4. Stop once `k` elements have been collected."
  },
  {
   "cell_type": "markdown",
   "metadata": {},
   "source": "## Complexity Trade-off Table\n| Approach | Time Complexity | Space Complexity | Notes |\n| --- | --- | --- | --- |\n| Heap of size k | O(n log k) | O(n) | Works well when k is small. |\n| Bucket sort on frequency | O(n) | O(n) | Meets the strict runtime requirement. |"
  },
  {
   "cell_type": "code",
   "metadata": {},
   "execution_count": null,
   "outputs": [],
   "source": "from collections import defaultdict\nfrom typing import List\n\n\ndef topKFrequent(nums: List[int], k: int) -> List[int]:\n    \"\"\"Return the k elements with highest frequency using bucket sort.\"\"\"\n    freq = defaultdict(int)\n    for num in nums:\n        freq[num] += 1  # Count each occurrence.\n\n    buckets = [[] for _ in range(len(nums) + 1)]\n    for num, count in freq.items():\n        buckets[count].append(num)  # Place number in bucket by frequency.\n\n    result = []\n    for count in range(len(buckets) - 1, 0, -1):\n        for num in buckets[count]:\n            result.append(num)\n            if len(result) == k:\n                return result\n    return result\n"
  },
  {
   "cell_type": "markdown",
   "metadata": {},
   "source": "## Complexity Analysis\n- Time Complexity: `O(n)` because counting and bucket traversal are linear in input size.\n- Space Complexity: `O(n)` for the frequency map and buckets.\n- Bottleneck: Bucket creation and iteration; both remain linear."
  },
  {
   "cell_type": "markdown",
   "metadata": {},
   "source": "## Edge Cases & Pitfalls\n- Ensure k equals the number of unique elements; the loops still work.\n- Negative numbers are handled naturally by dictionary keys.\n- When many elements share frequencies, order within buckets is arbitrary."
  },
  {
   "cell_type": "markdown",
   "metadata": {},
   "source": "## Follow-up Variants\n- Stream the data and maintain top-k using a min-heap.\n- Return not just the elements but also their relative frequencies.\n- Extend to strings or more complex keys by reusing the same counting logic."
  },
  {
   "cell_type": "markdown",
   "metadata": {},
   "source": "## Takeaways\n- Combining hash maps with bucket structures yields linear-time heavy hitter detection.\n- Frequency analysis is central to monitoring feature drift in production ML.\n- Flexibility in output order simplifies implementation without harming utility."
  },
  {
   "cell_type": "markdown",
   "metadata": {},
   "source": "## Similar Problems\n| Problem ID | Problem Title | Technique |\n| --- | --- | --- |\n| 692 | Top K Frequent Words | Hash map + heap |\n| 451 | Sort Characters By Frequency | Hash map + bucket sort |\n| 973 | K Closest Points to Origin | Heap selection |"
  }
 ],
 "metadata": {
  "kernelspec": {
   "display_name": "Python 3",
   "language": "python",
   "name": "python3"
  },
  "language_info": {
   "name": "python",
   "version": "3"
  }
 },
 "nbformat": 4,
 "nbformat_minor": 5
}