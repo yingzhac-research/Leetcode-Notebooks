{
 "cells": [
  {
   "cell_type": "markdown",
   "metadata": {},
   "source": "# 567. Permutation in String"
  },
  {
   "cell_type": "markdown",
   "metadata": {},
   "source": "## Topic Alignment\n- **Role Relevance**: Detecting permutations mirrors verifying token sets in query normalization.\n- **Scenario**: Applicable for catching reordered feature bundles in streaming validation."
  },
  {
   "cell_type": "markdown",
   "metadata": {},
   "source": "## Metadata Summary\n- Source: [LeetCode - Permutation in String](https://leetcode.com/problems/permutation-in-string/)\n- Tags: `String`, `Sliding Window`, `Hash Table`\n- Difficulty: Medium\n- Recommended Priority: Medium"
  },
  {
   "cell_type": "markdown",
   "metadata": {},
   "source": "## Problem Statement\nGiven two strings `s1` and `s2`, return `True` if `s2` contains a permutation of `s1`. Otherwise, return `False`."
  },
  {
   "cell_type": "markdown",
   "metadata": {},
   "source": "## Constraints\n- `1 <= s1.length, s2.length <= 10^4`\n- `s1` and `s2` consist of lowercase English letters"
  },
  {
   "cell_type": "markdown",
   "metadata": {},
   "source": "## Progressive Hints\n- Hint 1: Use a sliding window of length `len(s1)` over `s2`.\n- Hint 2: Maintain letter counts of the window and compare against `s1`.\n- Hint 3: Track how many counts currently match to avoid full comparisons each step."
  },
  {
   "cell_type": "markdown",
   "metadata": {},
   "source": "## Solution Overview\nApply a fixed-length sliding window with two hash maps (or arrays). Update counts as the window moves and check if all character counts align with `s1`."
  },
  {
   "cell_type": "markdown",
   "metadata": {},
   "source": "## Detailed Explanation\n1. Build `need` as the character frequency map for `s1`.\n2. Slide a window of length `len(s1)` across `s2`, updating `window` counts incrementally.\n3. Maintain a match counter; when `window[c] == need[c]`, increment matches; decrement when the condition breaks.\n4. If matches equals the alphabet size (26), the window is a permutation.\n5. Continue until the end; return `False` if no match found."
  },
  {
   "cell_type": "markdown",
   "metadata": {},
   "source": "## Complexity Trade-off Table\n| Approach | Time Complexity | Space Complexity | Notes |\n| --- | --- | --- | --- |\n| Check every substring | O(n * m) | O(1) | Too slow for long strings. |\n| Sliding window + counts | O(n) | O(1) | Efficient, uses fixed-size arrays for counts. |"
  },
  {
   "cell_type": "code",
   "metadata": {},
   "execution_count": null,
   "outputs": [],
   "source": "from typing import List\n\n\ndef checkInclusion(s1: str, s2: str) -> bool:\n    \"\"\"Return True if any permutation of s1 appears in s2.\"\"\"\n    if len(s1) > len(s2):\n        return False\n\n    need = [0] * 26\n    window = [0] * 26\n    for ch in s1:\n        need[ord(ch) - ord('a')] += 1\n\n    matches = 0\n    for i in range(26):\n        if need[i] == 0:\n            matches += 1\n\n    left = 0\n    for right, ch in enumerate(s2):\n        idx = ord(ch) - ord('a')\n        window[idx] += 1\n        if window[idx] == need[idx]:\n            matches += 1\n        elif window[idx] == need[idx] + 1:\n            matches -= 1\n\n        if right - left + 1 > len(s1):\n            left_idx = ord(s2[left]) - ord('a')\n            if window[left_idx] == need[left_idx]:\n                matches -= 1\n            elif window[left_idx] == need[left_idx] + 1:\n                matches += 1\n            window[left_idx] -= 1\n            left += 1\n\n        if matches == 26:\n            return True\n    return False\n"
  },
  {
   "cell_type": "markdown",
   "metadata": {},
   "source": "## Complexity Analysis\n- Time Complexity: `O(n)` where `n` is the length of `s2`, since each character is processed once.\n- Space Complexity: `O(1)` using fixed-size arrays of length 26.\n- Bottleneck: Count updates; they remain constant-time per character."
  },
  {
   "cell_type": "markdown",
   "metadata": {},
   "source": "## Edge Cases & Pitfalls\n- When `s1` has repeated characters, ensure counts match exactly.\n- If `s1` is longer than `s2`, early exit with `False`.\n- Managing match increments/decrements carefully avoids off-by-one logic errors."
  },
  {
   "cell_type": "markdown",
   "metadata": {},
   "source": "## Follow-up Variants\n- Support Unicode by switching to dictionaries.\n- Return all start indices of permutations instead of just existence.\n- Handle streaming input where characters arrive incrementally."
  },
  {
   "cell_type": "markdown",
   "metadata": {},
   "source": "## Takeaways\n- Two pointers plus count tracking can detect permutations without recomputation.\n- Fixed-size arrays outperform dictionaries when the alphabet is constrained.\n- The method generalizes to many pattern-matching tasks in text analytics."
  },
  {
   "cell_type": "markdown",
   "metadata": {},
   "source": "## Similar Problems\n| Problem ID | Problem Title | Technique |\n| --- | --- | --- |\n| 438 | Find All Anagrams in a String | Sliding window permutation detection |\n| 242 | Valid Anagram | Frequency comparison |\n| 76 | Minimum Window Substring | Sliding window + counts |"
  }
 ],
 "metadata": {
  "kernelspec": {
   "display_name": "Python 3",
   "language": "python",
   "name": "python3"
  },
  "language_info": {
   "name": "python",
   "version": "3"
  }
 },
 "nbformat": 4,
 "nbformat_minor": 5
}