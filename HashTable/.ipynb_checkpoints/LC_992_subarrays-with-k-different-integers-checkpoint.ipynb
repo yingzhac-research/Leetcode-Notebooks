{
 "cells": [
  {
   "cell_type": "markdown",
   "metadata": {},
   "source": "# 992. Subarrays with K Different Integers"
  },
  {
   "cell_type": "markdown",
   "metadata": {},
   "source": "## Topic Alignment\n- **Role Relevance**: Counting windows by distinct categories mirrors feature diversity tracking for telemetry segments.\n- **Scenario**: Helps measure how many observation windows contain exactly `k` unique events when auditing data streams."
  },
  {
   "cell_type": "markdown",
   "metadata": {},
   "source": "## Metadata Summary\n- Source: [LeetCode - Subarrays with K Different Integers](https://leetcode.com/problems/subarrays-with-k-different-integers/)\n- Tags: `Array`, `Sliding Window`, `Hash Table`\n- Difficulty: Hard\n- Recommended Priority: High"
  },
  {
   "cell_type": "markdown",
   "metadata": {},
   "source": "## Problem Statement\nGiven an integer array `nums` and an integer `k`, return the number of subarrays that contain exactly `k` different integers."
  },
  {
   "cell_type": "markdown",
   "metadata": {},
   "source": "## Constraints\n- `1 <= nums.length <= 2 * 10^4`\n- `1 <= nums[i], k <= nums.length`"
  },
  {
   "cell_type": "markdown",
   "metadata": {},
   "source": "## Progressive Hints\n- Hint 1: Count subarrays with at most `k` distinct numbers.\n- Hint 2: Use the identity `exactly_k = at_most_k - at_most_{k-1}`.\n- Hint 3: Maintain a sliding window with a hash map counting occurrences."
  },
  {
   "cell_type": "markdown",
   "metadata": {},
   "source": "## Solution Overview\nImplement a helper that counts subarrays with at most `k` distinct numbers using a sliding window and hash map. Subtract results for `k-1` to obtain the count of subarrays with exactly `k` distinct numbers."
  },
  {
   "cell_type": "markdown",
   "metadata": {},
   "source": "## Detailed Explanation\n1. Define `at_most(k)` which returns the number of subarrays with at most `k` distinct integers.\n2. Inside `at_most`, use a sliding window with a dictionary counting frequencies. Shrink from the left when distinct counts exceed `k`.\n3. Accumulate the number of valid subarrays by adding the current window length at each step.\n4. Compute `at_most(k) - at_most(k - 1)` to obtain the exact count."
  },
  {
   "cell_type": "markdown",
   "metadata": {},
   "source": "## Complexity Trade-off Table\n| Approach | Time Complexity | Space Complexity | Notes |\n| --- | --- | --- | --- |\n| Enumerate all subarrays | O(n^2) | O(n) | Too slow. |\n| Sliding window + hash map | O(n) | O(n) | Efficient; helper handles distinct limits. |"
  },
  {
   "cell_type": "code",
   "metadata": {},
   "execution_count": null,
   "outputs": [],
   "source": "from collections import defaultdict\nfrom typing import List\n\n\ndef subarraysWithKDistinct(nums: List[int], k: int) -> int:\n    \"\"\"Return the count of subarrays containing exactly k distinct integers.\"\"\"\n    def at_most(distinct: int) -> int:\n        counts = defaultdict(int)\n        left = 0\n        total = 0\n        unique = 0\n        for right, value in enumerate(nums):\n            if counts[value] == 0:\n                unique += 1\n            counts[value] += 1\n            while unique > distinct:\n                left_value = nums[left]\n                counts[left_value] -= 1\n                if counts[left_value] == 0:\n                    unique -= 1\n                left += 1\n            total += right - left + 1  # All subarrays ending at right are valid.\n        return total\n\n    return at_most(k) - at_most(k - 1)\n"
  },
  {
   "cell_type": "markdown",
   "metadata": {},
   "source": "## Complexity Analysis\n- Time Complexity: `O(n)` since each element enters and leaves each helper window once.\n- Space Complexity: `O(n)` in the worst case when all numbers are distinct.\n- Bottleneck: Dictionary maintenance for counts; manageable on average."
  },
  {
   "cell_type": "markdown",
   "metadata": {},
   "source": "## Edge Cases & Pitfalls\n- When `k` exceeds the number of distinct elements, the answer is 0.\n- Ensure `k - 1` is handled correctly when `k = 0` (unused here due to constraints).\n- Large inputs require efficient dictionary operations; Python's dict suffices."
  },
  {
   "cell_type": "markdown",
   "metadata": {},
   "source": "## Follow-up Variants\n- Track subarrays with at least `k` distinct integers using combination of helpers.\n- Adapt to subarrays with exactly `k` distinct even/odd types via value mapping.\n- Provide actual subarray ranges instead of just counts (adds complexity)."
  },
  {
   "cell_type": "markdown",
   "metadata": {},
   "source": "## Takeaways\n- Sliding window helpers for `at most` counts simplify exact-count questions.\n- Hash maps manage distinct counts without expensive scans.\n- This template appears in recommendation diversity and feature cardinality analytics."
  },
  {
   "cell_type": "markdown",
   "metadata": {},
   "source": "## Similar Problems\n| Problem ID | Problem Title | Technique |\n| --- | --- | --- |\n| 340 | Longest Substring with At Most K Distinct Characters | Sliding window + hash map |\n| 1248 | Count Number of Nice Subarrays | Prefix parity counts |\n| 930 | Binary Subarrays With Sum | Prefix sum counting |"
  }
 ],
 "metadata": {
  "kernelspec": {
   "display_name": "Python 3",
   "language": "python",
   "name": "python3"
  },
  "language_info": {
   "name": "python",
   "version": "3"
  }
 },
 "nbformat": 4,
 "nbformat_minor": 5
}