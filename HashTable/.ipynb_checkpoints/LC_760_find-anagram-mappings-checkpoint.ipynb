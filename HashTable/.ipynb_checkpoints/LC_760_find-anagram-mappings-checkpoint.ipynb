{
  "cells": [
    {
      "cell_type": "markdown",
      "metadata": {},
      "source": [
        "# 760. Find Anagram Mappings\n"
      ]
    },
    {
      "cell_type": "markdown",
      "metadata": {},
      "source": [
        "## Topic Alignment\n",
        "- MLE Connection: Aligning token permutations mirrors syncing shuffled feature orders.\n",
        "- Hash Table Role: Map values in array B to a queue of indices so duplicates are handled correctly.\n",
        "- Interview Angle: Demonstrates storing multiple positions per value for deterministic reconstruction.\n"
      ]
    },
    {
      "cell_type": "markdown",
      "metadata": {},
      "source": [
        "## Metadata Summary\n",
        "- Source: https://leetcode.com/problems/find-anagram-mappings/\n",
        "- Tags: Array, Hash Table\n",
        "- Difficulty: Easy\n",
        "- Recommended Review Priority: Low\n"
      ]
    },
    {
      "cell_type": "markdown",
      "metadata": {},
      "source": [
        "## Problem Statement\n",
        "Given two integer arrays A and B where B is an anagram of A, return any anagram mapping P such that B[P[i]] == A[i] for all i. Each value occurs the same number of times in both arrays.\n"
      ]
    },
    {
      "cell_type": "markdown",
      "metadata": {},
      "source": [
        "## Constraints\n",
        "- 1 <= A.length == B.length <= 1000.\n",
        "- 0 <= A[i], B[i] <= 10^5.\n",
        "- B is an anagram of A.\n"
      ]
    },
    {
      "cell_type": "markdown",
      "metadata": {},
      "source": [
        "## Progressive Hints\n",
        "- Hint 1: Each value in B may appear multiple times; you need all their positions.\n",
        "- Hint 2: Store indices of each value in a queue to pop the next unused position.\n",
        "- Hint 3: While scanning A, pop from the value's index list to build the mapping.\n"
      ]
    },
    {
      "cell_type": "markdown",
      "metadata": {},
      "source": [
        "## Solution Overview\n",
        "Create a dictionary mapping each value in B to a queue (list) of indices where it appears. Then iterate through A and pop an index from the corresponding list to build the mapping array.\n"
      ]
    },
    {
      "cell_type": "markdown",
      "metadata": {},
      "source": [
        "## Detailed Explanation\n",
        "1. Traverse B and append each index j to `positions[B[j]]`.\n",
        "2. Initialize an empty list `mapping`.\n",
        "3. For each value v in A:\n",
        "   - Pop the last index from `positions[v]` (or use deque for O(1) pops).\n",
        "   - Append that index to `mapping`.\n",
        "4. Return `mapping` after processing all elements.\n",
        "\n",
        "Using lists as stacks works because any order is acceptable; using deque preserves encounter order if desired.\n"
      ]
    },
    {
      "cell_type": "markdown",
      "metadata": {},
      "source": [
        "## Complexity Trade-off Table\n",
        "| Approach | Time Complexity | Space Complexity |\n",
        "| --- | --- | --- |\n",
        "| For each A[i] search B linearly | O(n^2) | O(1) |\n",
        "| Hash map from value to indices | O(n) | O(n) |\n"
      ]
    },
    {
      "cell_type": "markdown",
      "metadata": {},
      "source": [
        "## Reference Implementation\n"
      ]
    },
    {
      "cell_type": "code",
      "metadata": {},
      "execution_count": null,
      "outputs": [],
      "source": [
        "from collections import defaultdict\n",
        "from typing import List\n",
        "\n",
        "\n",
        "class Solution:\n",
        "    def anagramMappings(self, A: List[int], B: List[int]) -> List[int]:\n",
        "        positions: defaultdict[int, List[int]] = defaultdict(list)\n",
        "        for idx, value in enumerate(B):\n",
        "            positions[value].append(idx)\n",
        "\n",
        "        mapping: List[int] = []\n",
        "        for value in A:\n",
        "            mapping.append(positions[value].pop())\n",
        "\n",
        "        return mapping\n"
      ]
    },
    {
      "cell_type": "markdown",
      "metadata": {},
      "source": [
        "## Complexity Analysis\n",
        "- Time Complexity: O(n) to build the positions map and another O(n) to produce the output.\n",
        "- Space Complexity: O(n) to store indices for each value.\n",
        "- Bottlenecks: Hash lookups and list pops are constant time on average.\n"
      ]
    },
    {
      "cell_type": "markdown",
      "metadata": {},
      "source": [
        "## Edge Cases & Pitfalls\n",
        "- Do not assume values are unique; failing to store multiple indices leads to reuse errors.\n",
        "- Ensure pops do not occur on empty lists; the problem guarantees B is an anagram of A.\n",
        "- Using pop(0) would make the solution O(n^2); pop from the end or use deque.\n"
      ]
    },
    {
      "cell_type": "markdown",
      "metadata": {},
      "source": [
        "## Follow-up Variants\n",
        "- Return the lexicographically smallest mapping by always taking the smallest available index.\n",
        "- Handle cases where arrays contain extremely large integers by hashing their string representation.\n",
        "- Support streaming updates where B changes over time and mappings must be refreshed.\n"
      ]
    },
    {
      "cell_type": "markdown",
      "metadata": {},
      "source": [
        "## Takeaways\n",
        "- Hash maps can store multiple positions per value to handle duplicates gracefully.\n",
        "- Stack or queue semantics matter for maintaining desired ordering.\n",
        "- Preprocessing one array enables O(1) lookups when aligning against another.\n"
      ]
    },
    {
      "cell_type": "markdown",
      "metadata": {},
      "source": [
        "## Similar Problems\n",
        "| Problem ID | Problem Title | Technique |\n",
        "| --- | --- | --- |\n",
        "| 49 | Group Anagrams | Signature grouping |\n",
        "| 1122 | Relative Sort Array | Index mapping |\n",
        "| 1331 | Rank Transform of an Array | Value compression |\n"
      ]
    }
  ],
  "metadata": {
    "kernelspec": {
      "display_name": "Python 3",
      "language": "python",
      "name": "python3"
    },
    "language_info": {
      "name": "python",
      "version": "3.10"
    }
  },
  "nbformat": 4,
  "nbformat_minor": 5
}