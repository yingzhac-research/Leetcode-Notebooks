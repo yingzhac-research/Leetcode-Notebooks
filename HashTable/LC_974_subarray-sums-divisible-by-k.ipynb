{
 "cells": [
  {
   "cell_type": "markdown",
   "metadata": {},
   "source": "# 974. Subarray Sums Divisible by K"
  },
  {
   "cell_type": "markdown",
   "metadata": {},
   "source": "## Topic Alignment\n- **Role Relevance**: Modulo-based prefix sums help detect cyclic patterns in telemetry, such as periodic load spikes.\n- **Scenario**: Applicable when aggregating batched requests that must align with shard counts or time buckets."
  },
  {
   "cell_type": "markdown",
   "metadata": {},
   "source": "## Metadata Summary\n- Source: [LeetCode - Subarray Sums Divisible by K](https://leetcode.com/problems/subarray-sums-divisible-by-k/)\n- Tags: `Array`, `Hash Table`, `Prefix Sum`\n- Difficulty: Medium\n- Recommended Priority: High"
  },
  {
   "cell_type": "markdown",
   "metadata": {},
   "source": "## Problem Statement\nGiven an integer array `nums` and an integer `k`, return the number of non-empty subarrays whose sum is divisible by `k`."
  },
  {
   "cell_type": "markdown",
   "metadata": {},
   "source": "## Progressive Hints\n- Hint 1: Two prefix sums with the same remainder imply the subarray between them is divisible by `k`.\n- Hint 2: Normalize remainders to stay within `[0, k)` even for negative numbers.\n- Hint 3: Track remainder counts in a hash map and accumulate combinations."
  },
  {
   "cell_type": "markdown",
   "metadata": {},
   "source": "## Solution Overview\nMaintain running prefix sums, compute their modulo `k`, and count how many times each remainder has appeared; for each new remainder, add the existing count to the answer and update the map."
  },
  {
   "cell_type": "markdown",
   "metadata": {},
   "source": "## Detailed Explanation\n1. Initialize a dictionary `counts` with `{0: 1}` to account for subarrays starting at index 0.\n2. Iterate through `nums`, updating a running sum.\n3. Compute `remainder = running_sum % k` (Python handles negatives appropriately).\n4. Add `counts[remainder]` to the result.\n5. Increment `counts[remainder]`.\n6. Continue through the array."
  },
  {
   "cell_type": "markdown",
   "metadata": {},
   "source": "## Complexity Trade-off Table\n| Approach | Time Complexity | Space Complexity | Notes |\n| --- | --- | --- | --- |\n| Brute force | O(n^2) | O(1) | Fails for large inputs. |\n| Prefix sum modulo | O(n) | O(k) | Efficient with hash map storage. |"
  },
  {
   "cell_type": "code",
   "metadata": {},
   "execution_count": null,
   "outputs": [],
   "source": "from collections import defaultdict\nfrom typing import List\n\n\ndef subarraysDivByK(nums: List[int], k: int) -> int:\n    \"\"\"Count subarrays whose sum is divisible by k using prefix remainders.\"\"\"\n    counts = defaultdict(int)\n    counts[0] = 1  # Empty prefix remainder.\n    total = 0\n    running = 0\n\n    for value in nums:\n        running += value\n        remainder = running % k\n        total += counts[remainder]  # Subarrays ending here matching this remainder.\n        counts[remainder] += 1\n    return total\n"
  },
  {
   "cell_type": "markdown",
   "metadata": {},
   "source": "## Complexity Analysis\n- Time Complexity: `O(n)` where `n` is the length of `nums`.\n- Space Complexity: `O(k)` at most, storing counts for each remainder.\n- Bottleneck: Hash map updates; average constant time per element."
  },
  {
   "cell_type": "markdown",
   "metadata": {},
   "source": "## Edge Cases & Pitfalls\n- Negative values require careful modulo handling; Python's `%` already returns non-negative remainders.\n- When `k` is large, the map remains sparse but manageable.\n- Subarrays of length 1 contribute when individual elements are divisible by `k`."
  },
  {
   "cell_type": "markdown",
   "metadata": {},
   "source": "## Follow-up Variants\n- Track actual subarray indices for auditing.\n- Extend to 2D matrices using prefix-sum grids.\n- Support queries that change `k` dynamically by recomputing or caching remainders."
  },
  {
   "cell_type": "markdown",
   "metadata": {},
   "source": "## Takeaways\n- Modulo arithmetic with prefix sums elegantly captures divisibility patterns.\n- Seed counts with zero remainder to handle prefixes naturally.\n- These techniques appear in seasonality analysis and request batching validations."
  },
  {
   "cell_type": "markdown",
   "metadata": {},
   "source": "## Similar Problems\n| Problem ID | Problem Title | Technique |\n| --- | --- | --- |\n| 523 | Continuous Subarray Sum | Prefix sum modulo tracking |\n| 560 | Subarray Sum Equals K | Prefix sum differences |\n| 930 | Binary Subarrays With Sum | Prefix counts for target sums |"
  }
 ],
 "metadata": {
  "kernelspec": {
   "display_name": "Python 3",
   "language": "python",
   "name": "python3"
  },
  "language_info": {
   "name": "python",
   "version": "3"
  }
 },
 "nbformat": 4,
 "nbformat_minor": 5
}