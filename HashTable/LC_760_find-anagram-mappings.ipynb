{
 "cells": [
  {
   "cell_type": "markdown",
   "id": "a7bc61c8",
   "metadata": {},
   "source": [
    "# 760. Find Anagram Mappings\n"
   ]
  },
  {
   "cell_type": "markdown",
   "id": "db274278",
   "metadata": {},
   "source": [
    "## Topic Alignment\n",
    "- MLE Connection: Aligning token permutations mirrors syncing shuffled feature orders.\n",
    "- Hash Table Role: Map values in array B to a queue of indices so duplicates are handled correctly.\n",
    "- Interview Angle: Demonstrates storing multiple positions per value for deterministic reconstruction.\n"
   ]
  },
  {
   "cell_type": "markdown",
   "id": "fa7aff72",
   "metadata": {},
   "source": [
    "## Metadata Summary\n",
    "- Source: https://leetcode.com/problems/find-anagram-mappings/\n",
    "- Tags: Array, Hash Table\n",
    "- Difficulty: Easy\n",
    "- Recommended Review Priority: Low\n"
   ]
  },
  {
   "cell_type": "markdown",
   "id": "644d3597",
   "metadata": {},
   "source": [
    "## Problem Statement\n",
    "Given two integer arrays A and B where B is an anagram of A, return any anagram mapping P such that B[P[i]] == A[i] for all i. Each value occurs the same number of times in both arrays.\n"
   ]
  },
  {
   "cell_type": "markdown",
   "id": "913704ca",
   "metadata": {},
   "source": [
    "## Premium Note\n",
    "- This is a LeetCode Premium problem. Per the updated notebook rules, include the official sample input/output for convenient review.\n"
   ]
  },
  {
   "cell_type": "markdown",
   "id": "4f9aaeb7",
   "metadata": {},
   "source": [
    "## Examples\n",
    "- Input: `A = [12, 28, 46, 32, 50]`, `B = [50, 12, 32, 46, 28]`\n",
    "- Output: `[1, 4, 3, 2, 0]`\n",
    "- Explanation: `B[1] = 12` corresponds to `A[0]`, `B[4] = 28` corresponds to `A[1]`, and so on so that `B[P[i]] = A[i]`.\n"
   ]
  },
  {
   "cell_type": "markdown",
   "id": "cc67da38",
   "metadata": {},
   "source": [
    "## Progressive Hints\n",
    "- Hint 1: Each value in B may appear multiple times; you need all their positions.\n",
    "- Hint 2: Store indices of each value in a queue to pop the next unused position.\n",
    "- Hint 3: While scanning A, pop from the value's index list to build the mapping.\n"
   ]
  },
  {
   "cell_type": "markdown",
   "id": "1fe2c491",
   "metadata": {},
   "source": [
    "## Solution Overview\n",
    "Create a dictionary mapping each value in B to a queue (list) of indices where it appears. Then iterate through A and pop an index from the corresponding list to build the mapping array.\n"
   ]
  },
  {
   "cell_type": "markdown",
   "id": "9ee54357",
   "metadata": {},
   "source": [
    "## Detailed Explanation\n",
    "1. Traverse B and append each index j to `positions[B[j]]`.\n",
    "2. Initialize an empty list `mapping`.\n",
    "3. For each value v in A:\n",
    "   - Pop the last index from `positions[v]` (or use deque for O(1) pops).\n",
    "   - Append that index to `mapping`.\n",
    "4. Return `mapping` after processing all elements.\n",
    "\n",
    "Using lists as stacks works because any order is acceptable; using deque preserves encounter order if desired.\n"
   ]
  },
  {
   "cell_type": "markdown",
   "id": "44f70f1a",
   "metadata": {},
   "source": [
    "## Complexity Trade-off Table\n",
    "| Approach | Time Complexity | Space Complexity |\n",
    "| --- | --- | --- |\n",
    "| For each A[i] search B linearly | O(n^2) | O(1) |\n",
    "| Hash map from value to indices | O(n) | O(n) |\n"
   ]
  },
  {
   "cell_type": "markdown",
   "id": "faf8c98c",
   "metadata": {},
   "source": [
    "## Reference Implementation\n"
   ]
  },
  {
   "cell_type": "code",
   "execution_count": null,
   "id": "1c94d565",
   "metadata": {},
   "outputs": [],
   "source": [
    "from collections import defaultdict\n",
    "from typing import List\n",
    "\n",
    "\n",
    "class Solution:\n",
    "    def anagramMappings(self, A: List[int], B: List[int]) -> List[int]:\n",
    "        positions: defaultdict[int, List[int]] = defaultdict(list)\n",
    "        for idx, value in enumerate(B):\n",
    "            positions[value].append(idx)\n",
    "\n",
    "        mapping: List[int] = []\n",
    "        for value in A:\n",
    "            mapping.append(positions[value].pop())\n",
    "\n",
    "        return mapping\n"
   ]
  },
  {
   "cell_type": "markdown",
   "id": "080784d2",
   "metadata": {},
   "source": [
    "## Complexity Analysis\n",
    "- Time Complexity: O(n) to build the positions map and another O(n) to produce the output.\n",
    "- Space Complexity: O(n) to store indices for each value.\n",
    "- Bottlenecks: Hash lookups and list pops are constant time on average.\n"
   ]
  },
  {
   "cell_type": "markdown",
   "id": "736f111c",
   "metadata": {},
   "source": [
    "## Edge Cases & Pitfalls\n",
    "- Do not assume values are unique; failing to store multiple indices leads to reuse errors.\n",
    "- Ensure pops do not occur on empty lists; the problem guarantees B is an anagram of A.\n",
    "- Using pop(0) would make the solution O(n^2); pop from the end or use deque.\n"
   ]
  },
  {
   "cell_type": "markdown",
   "id": "423900d5",
   "metadata": {},
   "source": [
    "## Follow-up Variants\n",
    "- Return the lexicographically smallest mapping by always taking the smallest available index.\n",
    "- Handle cases where arrays contain extremely large integers by hashing their string representation.\n",
    "- Support streaming updates where B changes over time and mappings must be refreshed.\n"
   ]
  },
  {
   "cell_type": "markdown",
   "id": "7ed14dc1",
   "metadata": {},
   "source": [
    "## Takeaways\n",
    "- Hash maps can store multiple positions per value to handle duplicates gracefully.\n",
    "- Stack or queue semantics matter for maintaining desired ordering.\n",
    "- Preprocessing one array enables O(1) lookups when aligning against another.\n"
   ]
  },
  {
   "cell_type": "markdown",
   "id": "8060243c",
   "metadata": {},
   "source": [
    "## Similar Problems\n",
    "| Problem ID | Problem Title | Technique |\n",
    "| --- | --- | --- |\n",
    "| 49 | Group Anagrams | Signature grouping |\n",
    "| 1122 | Relative Sort Array | Index mapping |\n",
    "| 1331 | Rank Transform of an Array | Value compression |\n"
   ]
  }
 ],
 "metadata": {
  "kernelspec": {
   "display_name": "Python 3 (ipykernel)",
   "language": "python",
   "name": "python3"
  },
  "language_info": {
   "codemirror_mode": {
    "name": "ipython",
    "version": 3
   },
   "file_extension": ".py",
   "mimetype": "text/x-python",
   "name": "python",
   "nbconvert_exporter": "python",
   "pygments_lexer": "ipython3",
   "version": "3.13.3"
  }
 },
 "nbformat": 4,
 "nbformat_minor": 5
}