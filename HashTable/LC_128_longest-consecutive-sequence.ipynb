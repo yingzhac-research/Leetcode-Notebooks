{
 "cells": [
  {
   "cell_type": "markdown",
   "id": "860a68fb",
   "metadata": {},
   "source": [
    "# 128. Longest Consecutive Sequence"
   ]
  },
  {
   "cell_type": "markdown",
   "id": "fe10bfdd",
   "metadata": {},
   "source": [
    "## Topic Alignment\n",
    "- **Role Relevance**: Detecting consecutive runs assists in time-series anomaly windows or feature bucketing for sequential events.\n",
    "- **Scenario**: Useful for finding streaks in user behavior logs or sensor data during model feature engineering."
   ]
  },
  {
   "cell_type": "markdown",
   "id": "7d399617",
   "metadata": {},
   "source": [
    "## Metadata Summary\n",
    "- Source: [LeetCode - Longest Consecutive Sequence](https://leetcode.com/problems/longest-consecutive-sequence/)\n",
    "- Tags: `Array`, `Hash Table`\n",
    "- Difficulty: Medium\n",
    "- Recommended Priority: High"
   ]
  },
  {
   "cell_type": "markdown",
   "id": "80e9de70",
   "metadata": {},
   "source": [
    "## Problem Statement\n",
    "Given an unsorted array of integers `nums`, return the length of the longest consecutive elements sequence.\n",
    "\n",
    "You must write an algorithm that runs in `O(n)` time."
   ]
  },
  {
   "cell_type": "markdown",
   "id": "162aeb73",
   "metadata": {},
   "source": [
    "## Progressive Hints\n",
    "- Hint 1: A sorting-based approach is `O(n log n)`, but the problem demands linear time.\n",
    "- Hint 2: A hash set allows constant-time checks for the presence of neighbors.\n",
    "- Hint 3: Only start counting streaks at numbers that are sequence heads (`num - 1` absent)."
   ]
  },
  {
   "cell_type": "markdown",
   "id": "2e0f0e0b",
   "metadata": {},
   "source": [
    "## Solution Overview\n",
    "Insert all numbers into a hash set, then iterate through them. For each number that is the start of a sequence, extend forward while consecutive numbers exist, tracking the longest run."
   ]
  },
  {
   "cell_type": "markdown",
   "id": "7fcf7d73",
   "metadata": {},
   "source": [
    "## Detailed Explanation\n",
    "1. Load all numbers into a hash set for O(1) membership checks.\n",
    "2. For each number, determine whether it begins a sequence by checking if `num - 1` is absent.\n",
    "3. If it is a start, count forward while `current + 1` exists in the set, updating the best length found.\n",
    "4. Skip numbers that are not starts; their sequences have already been counted.\n",
    "5. Return the maximum length discovered."
   ]
  },
  {
   "cell_type": "markdown",
   "id": "12acd25a",
   "metadata": {},
   "source": [
    "## Complexity Trade-off Table\n",
    "| Approach | Time Complexity | Space Complexity | Notes |\n",
    "| --- | --- | --- | --- |\n",
    "| Sort and scan | O(n log n) | O(1) | Simpler but violates the linear requirement. |\n",
    "| Hash set streak detection | O(n) | O(n) | Meets the time target with extra memory. |"
   ]
  },
  {
   "cell_type": "code",
   "execution_count": null,
   "id": "7b164fb6",
   "metadata": {},
   "outputs": [],
   "source": [
    "from typing import List\n",
    "\n",
    "\n",
    "def longestConsecutive(nums: List[int]) -> int:\n",
    "    \"\"\"Return the length of the longest consecutive integer sequence.\"\"\"\n",
    "    num_set = set(nums)\n",
    "    best = 0\n",
    "\n",
    "    for num in num_set:\n",
    "        if num - 1 in num_set:\n",
    "            continue  # Not a sequence start.\n",
    "        length = 1\n",
    "        current = num\n",
    "        while current + 1 in num_set:\n",
    "            current += 1\n",
    "            length += 1\n",
    "        best = max(best, length)\n",
    "    return best\n"
   ]
  },
  {
   "cell_type": "markdown",
   "id": "c91153be",
   "metadata": {},
   "source": [
    "## Complexity Analysis\n",
    "- Time Complexity: `O(n)` because each number is processed at most twice (as start and during expansion).\n",
    "- Space Complexity: `O(n)` to store the hash set of numbers.\n",
    "- Bottleneck: Hash lookups dominate; Python's set ensures average constant time."
   ]
  },
  {
   "cell_type": "markdown",
   "id": "28e6489f",
   "metadata": {},
   "source": [
    "## Edge Cases & Pitfalls\n",
    "- Empty arrays should return zero.\n",
    "- Duplicate numbers must not inflate counts; the set representation naturally ignores duplicates.\n",
    "- Handle negative numbers seamlessly because the consecutive logic is value-based, not index-based."
   ]
  },
  {
   "cell_type": "markdown",
   "id": "3c64341a",
   "metadata": {},
   "source": [
    "## Follow-up Variants\n",
    "- Track the actual sequence elements rather than just its length.\n",
    "- Adapt to streams by maintaining a disjoint-set or interval map for dynamic updates.\n",
    "- Extend to detect near-consecutive runs with tolerances (e.g., gaps up to size k)."
   ]
  },
  {
   "cell_type": "markdown",
   "id": "6ad4f873",
   "metadata": {},
   "source": [
    "## Takeaways\n",
    "- Hash sets enable constant-time membership checks critical for linear-time streak detection.\n",
    "- Only initiating work at sequence starts avoids redundant iteration.\n",
    "- Patterns like this appear in log processing and user-session analytics."
   ]
  },
  {
   "cell_type": "markdown",
   "id": "2d5285e7",
   "metadata": {},
   "source": [
    "## Similar Problems\n",
    "| Problem ID | Problem Title | Technique |\n",
    "| --- | --- | --- |\n",
    "| 164 | Maximum Gap | Bucket sort for order statistics |\n",
    "| 200 | Number of Islands | Hash-based visited tracking |\n",
    "| 785 | Is Graph Bipartite? | Hash-based coloring |"
   ]
  }
 ],
 "metadata": {
  "kernelspec": {
   "display_name": "Python 3 (ipykernel)",
   "language": "python",
   "name": "python3"
  },
  "language_info": {
   "codemirror_mode": {
    "name": "ipython",
    "version": 3
   },
   "file_extension": ".py",
   "mimetype": "text/x-python",
   "name": "python",
   "nbconvert_exporter": "python",
   "pygments_lexer": "ipython3",
   "version": "3.13.3"
  }
 },
 "nbformat": 4,
 "nbformat_minor": 5
}