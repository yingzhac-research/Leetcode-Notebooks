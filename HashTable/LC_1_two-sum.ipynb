{
 "cells": [
  {
   "cell_type": "markdown",
   "id": "0973460d",
   "metadata": {},
   "source": [
    "# 1. Two Sum"
   ]
  },
  {
   "cell_type": "markdown",
   "id": "f4a2fb4a",
   "metadata": {},
   "source": [
    "## Topic Alignment\n",
    "- **Role Relevance**: Demonstrates rapid feature lookup using hash tables, common in feature stores and embedding retrieval for MLE/AI pipelines.\n",
    "- **Scenario**: Helps design low-latency joins between streaming signals (e.g., matching user/item events) when orchestrating inference services."
   ]
  },
  {
   "cell_type": "markdown",
   "id": "ca54ea9c",
   "metadata": {},
   "source": [
    "## Metadata Summary\n",
    "- Source: [LeetCode - Two Sum](https://leetcode.com/problems/two-sum/)\n",
    "- Tags: `Array`, `Hash Table`\n",
    "- Difficulty: Easy\n",
    "- Recommended Priority: High"
   ]
  },
  {
   "cell_type": "markdown",
   "id": "8104e213",
   "metadata": {},
   "source": [
    "## Problem Statement\n",
    "Given an integer array `nums` and an integer `target`, return indices of the two numbers such that they add up to `target`.\n",
    "\n",
    "You may assume that each input would have exactly one solution, and you may not use the same element twice.\n",
    "\n",
    "You can return the answer in any order."
   ]
  },
  {
   "cell_type": "markdown",
   "id": "124a51f9",
   "metadata": {},
   "source": [
    "## Progressive Hints\n",
    "- Hint 1: Start by checking all possible pairs to establish a brute-force baseline and its cost.\n",
    "- Hint 2: Notice that once you fix one element, you only need to know whether the complementary value exists.\n",
    "- Hint 3: Store previously seen numbers in a hash map so you can find the complement in constant time during a single pass."
   ]
  },
  {
   "cell_type": "markdown",
   "id": "2eea8324",
   "metadata": {},
   "source": [
    "## Solution Overview\n",
    "Use a hash map to store each value's index while scanning the array once. For each number, compute its complement (`target - value`) and immediately return the pair when the complement has already been seen. This replaces the quadratic pair search with linear time lookup via hashing."
   ]
  },
  {
   "cell_type": "markdown",
   "id": "2b4df94a",
   "metadata": {},
   "source": [
    "## Detailed Explanation\n",
    "1. Initialize an empty dictionary `seen` that maps a value to its index.\n",
    "2. Iterate through `nums` with both index and value.\n",
    "3. For each value, compute `complement = target - value` which is the number needed to reach the target.\n",
    "4. If `complement` already exists in `seen`, return the stored index and the current index because together they meet the target.\n",
    "5. Otherwise record the current value and its index in `seen`, then continue scanning.\n",
    "6. Because the problem guarantees one solution, the loop will exit with a successful pair; if defensive programming is needed, raising an exception afterwards signals inconsistent input.\n",
    "\n",
    "This approach leans on constant-time average lookups of a hash table, trading a little extra memory for a large performance gain over the brute-force O(n^2) search."
   ]
  },
  {
   "cell_type": "markdown",
   "id": "812e5f93",
   "metadata": {},
   "source": [
    "## Complexity Trade-off Table\n",
    "| Approach | Time Complexity | Space Complexity | Notes |\n",
    "| --- | --- | --- | --- |\n",
    "| Brute force pair scan | O(n^2) | O(1) | Easy to implement; too slow for large arrays. |\n",
    "| Hash map single pass | O(n) | O(n) | Optimal balance of simplicity and performance for this problem. |"
   ]
  },
  {
   "cell_type": "code",
   "execution_count": null,
   "id": "f877ffe6",
   "metadata": {},
   "outputs": [],
   "source": [
    "from typing import List\n",
    "\n",
    "\n",
    "def twoSum(nums: List[int], target: int) -> List[int]:\n",
    "    \"\"\"Return indices of the two numbers in nums that add up to target.\"\"\"\n",
    "    seen_indices = {}\n",
    "    for index, value in enumerate(nums):\n",
    "        complement = target - value  # Complement value needed to reach the target sum.\n",
    "        if complement in seen_indices:  # Found a previously seen value that completes the pair.\n",
    "            return [seen_indices[complement], index]\n",
    "        seen_indices[value] = index  # Record the index for potential complements later in the scan.\n",
    "    raise ValueError(\"Input does not contain exactly one solution as promised.\")\n"
   ]
  },
  {
   "cell_type": "markdown",
   "id": "f2cc12de",
   "metadata": {},
   "source": [
    "## Complexity Analysis\n",
    "- Time Complexity: `O(n)` because each element is processed once and hash lookups are O(1) on average.\n",
    "- Space Complexity: `O(n)` in the worst case when storing every element in the hash map before finding the complement.\n",
    "- Primary Bottleneck: Hash table operations; in degenerate cases where hashing collides heavily, performance may degrade, though Python's implementation keeps this unlikely."
   ]
  },
  {
   "cell_type": "markdown",
   "id": "0adad117",
   "metadata": {},
   "source": [
    "## Edge Cases & Pitfalls\n",
    "- Duplicate values must be handled carefully to avoid using the same index twice; storing indices in the map prevents this.\n",
    "- Large positive and negative numbers still fit within standard integer range but check for overflow in languages that require it.\n",
    "- Inputs that break the \"exactly one solution\" promise should trigger a clear error path for debugging."
   ]
  },
  {
   "cell_type": "markdown",
   "id": "51c75936",
   "metadata": {},
   "source": [
    "## Follow-up Variants\n",
    "- Support returning all unique index pairs that meet the target instead of just one.\n",
    "- Handle streaming data where new values arrive continuously and lookups must stay amortized O(1).\n",
    "- Adapt the approach to multi-sum problems (three or more numbers) using sorted arrays and multiple pointers."
   ]
  },
  {
   "cell_type": "markdown",
   "id": "7b26ab0f",
   "metadata": {},
   "source": [
    "## Takeaways\n",
    "- Hash maps provide a simple template for transforming quadratic search problems into linear ones.\n",
    "- Tracking indices alongside values is essential when the task asks for positions rather than numbers.\n",
    "- Validating problem guarantees (e.g., exactly one solution) keeps implementations robust during integration tests."
   ]
  },
  {
   "cell_type": "markdown",
   "metadata": {},
   "source": "## Similar Problems\n| Problem ID | Problem Title | Technique |\n| --- | --- | --- |\n| 167 | Two Sum II - Input Array Is Sorted | Two pointers on sorted input |\n| 15 | 3Sum | Sorting with two pointers |\n| 170 | Two Sum III - Data Structure Design | Hash map with counts |"
  }
 ],
 "metadata": {
  "kernelspec": {
   "display_name": "Python 3 (ipykernel)",
   "language": "python",
   "name": "python3"
  },
  "language_info": {
   "codemirror_mode": {
    "name": "ipython",
    "version": 3
   },
   "file_extension": ".py",
   "mimetype": "text/x-python",
   "name": "python",
   "nbconvert_exporter": "python",
   "pygments_lexer": "ipython3",
   "version": "3.13.3"
  }
 },
 "nbformat": 4,
 "nbformat_minor": 5
}