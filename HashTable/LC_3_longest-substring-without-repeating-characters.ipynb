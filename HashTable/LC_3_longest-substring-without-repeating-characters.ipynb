{
 "cells": [
  {
   "cell_type": "markdown",
   "id": "11abbba8",
   "metadata": {},
   "source": [
    "# 3. Longest Substring Without Repeating Characters"
   ]
  },
  {
   "cell_type": "markdown",
   "id": "ae587a1a",
   "metadata": {},
   "source": [
    "## Topic Alignment\n",
    "- **Role Relevance**: Sliding windows with hash maps monitor uniqueness constraints in streaming logs or feature sets.\n",
    "- **Scenario**: Helps ensure request IDs or session tokens stay unique within rolling windows in ML data pipelines."
   ]
  },
  {
   "cell_type": "markdown",
   "id": "1259975b",
   "metadata": {},
   "source": [
    "## Metadata Summary\n",
    "- Source: [LeetCode - Longest Substring Without Repeating Characters](https://leetcode.com/problems/longest-substring-without-repeating-characters/)\n",
    "- Tags: `String`, `Sliding Window`, `Hash Table`\n",
    "- Difficulty: Medium\n",
    "- Recommended Priority: High"
   ]
  },
  {
   "cell_type": "markdown",
   "id": "32644201",
   "metadata": {},
   "source": [
    "## Problem Statement\n",
    "Given a string `s`, find the length of the longest substring without repeating characters."
   ]
  },
  {
   "cell_type": "markdown",
   "id": "021ae0b7",
   "metadata": {},
   "source": [
    "## Progressive Hints\n",
    "- Hint 1: Maintain a moving window defined by two indices.\n",
    "- Hint 2: Use a hash map to record the latest index of each character.\n",
    "- Hint 3: When a duplicate appears, move the left pointer just beyond its previous occurrence."
   ]
  },
  {
   "cell_type": "markdown",
   "id": "534ddef3",
   "metadata": {},
   "source": [
    "## Solution Overview\n",
    "Use two pointers to maintain a sliding window and a hash map mapping characters to their latest index. When a duplicate is encountered, jump the left pointer forward to avoid shrinking the window character by character."
   ]
  },
  {
   "cell_type": "markdown",
   "id": "36d12529",
   "metadata": {},
   "source": [
    "## Detailed Explanation\n",
    "1. Initialize `left = 0`, `best = 0`, and an empty dictionary `last_seen`.\n",
    "2. Iterate `right` over the string. For each character, check if it appeared within the current window using `last_seen`.\n",
    "3. If the character was seen, update `left` to `max(left, last_seen[char] + 1)` to skip over the previous occurrence.\n",
    "4. Update `last_seen[char] = right` and compute the window length `right - left + 1`, updating `best` when larger.\n",
    "5. Return `best` after scanning the string."
   ]
  },
  {
   "cell_type": "markdown",
   "id": "9062bb3b",
   "metadata": {},
   "source": [
    "## Complexity Trade-off Table\n",
    "| Approach | Time Complexity | Space Complexity | Notes |\n",
    "| --- | --- | --- | --- |\n",
    "| Brute-force all substrings | O(n^2) | O(min(n, alphabet)) | Impractical for long strings. |\n",
    "| Sliding window + hash map | O(n) | O(min(n, alphabet)) | Efficient with direct index jumps. |"
   ]
  },
  {
   "cell_type": "code",
   "execution_count": null,
   "id": "b069dcee",
   "metadata": {},
   "outputs": [],
   "source": [
    "def lengthOfLongestSubstring(s: str) -> int:\n",
    "    \"\"\"Return the length of the longest substring without repeating characters.\"\"\"\n",
    "    last_seen: dict[str, int] = {}\n",
    "    left = 0\n",
    "    best = 0\n",
    "\n",
    "    for right, char in enumerate(s):\n",
    "        if char in last_seen and last_seen[char] >= left:\n",
    "            left = last_seen[char] + 1  # Move window start past the duplicate.\n",
    "        last_seen[char] = right  # Record latest index.\n",
    "        current_length = right - left + 1\n",
    "        best = max(best, current_length)\n",
    "    return best\n"
   ]
  },
  {
   "cell_type": "markdown",
   "id": "d087c3b0",
   "metadata": {},
   "source": [
    "## Complexity Analysis\n",
    "- Time Complexity: `O(n)` because each character enters and leaves the window at most once.\n",
    "- Space Complexity: `O(min(n, alphabet))` storing the latest indices for distinct characters.\n",
    "- Bottleneck: Hash map lookups dominate but remain constant-time on average."
   ]
  },
  {
   "cell_type": "markdown",
   "id": "c9a4d81b",
   "metadata": {},
   "source": [
    "## Edge Cases & Pitfalls\n",
    "- Empty strings should return 0.\n",
    "- Strings with all identical characters produce length 1.\n",
    "- Ensure the left pointer only moves forward to avoid shrinking the window incorrectly."
   ]
  },
  {
   "cell_type": "markdown",
   "id": "597cbf0e",
   "metadata": {},
   "source": [
    "## Follow-up Variants\n",
    "- Return the substring itself instead of its length.\n",
    "- Adapt to streaming characters where you must continuously output current maximum.\n",
    "- Extend to handle multibyte characters by adjusting hashing strategy."
   ]
  },
  {
   "cell_type": "markdown",
   "id": "6dade539",
   "metadata": {},
   "source": [
    "## Takeaways\n",
    "- Hash maps allow constant-time detection of duplicates within sliding windows.\n",
    "- Jumping the left pointer prevents quadratic behavior.\n",
    "- The pattern underpins many real-time uniqueness checks in systems."
   ]
  },
  {
   "cell_type": "markdown",
   "id": "f42ad9f9",
   "metadata": {},
   "source": [
    "## Similar Problems\n",
    "| Problem ID | Problem Title | Technique |\n",
    "| --- | --- | --- |\n",
    "| 159 | Longest Substring with At Most Two Distinct Characters | Sliding window + frequency map |\n",
    "| 340 | Longest Substring with At Most K Distinct Characters | Sliding window + hash map |\n",
    "| 76 | Minimum Window Substring | Sliding window + frequency balance |"
   ]
  }
 ],
 "metadata": {
  "kernelspec": {
   "display_name": "Python 3 (ipykernel)",
   "language": "python",
   "name": "python3"
  },
  "language_info": {
   "codemirror_mode": {
    "name": "ipython",
    "version": 3
   },
   "file_extension": ".py",
   "mimetype": "text/x-python",
   "name": "python",
   "nbconvert_exporter": "python",
   "pygments_lexer": "ipython3",
   "version": "3.13.3"
  }
 },
 "nbformat": 4,
 "nbformat_minor": 5
}