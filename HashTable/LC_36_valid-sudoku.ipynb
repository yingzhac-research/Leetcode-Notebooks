{
 "cells": [
  {
   "cell_type": "markdown",
   "id": "914445f0",
   "metadata": {},
   "source": [
    "# 36. Valid Sudoku"
   ]
  },
  {
   "cell_type": "markdown",
   "id": "00be88e1",
   "metadata": {},
   "source": [
    "## Topic Alignment\n",
    "- **Role Relevance**: Validating Sudoku grids mirrors feature-quality checks where categorical encodings must obey exclusivity constraints.\n",
    "- **Scenario**: Ensuring no duplicated features per bucket aligns with monitoring deduplication in data ingestion for recommendation systems."
   ]
  },
  {
   "cell_type": "markdown",
   "id": "062412d9",
   "metadata": {},
   "source": [
    "## Metadata Summary\n",
    "- Source: [LeetCode - Valid Sudoku](https://leetcode.com/problems/valid-sudoku/)\n",
    "- Tags: `Array`, `Hash Table`, `Matrix`\n",
    "- Difficulty: Medium\n",
    "- Recommended Priority: High"
   ]
  },
  {
   "cell_type": "markdown",
   "id": "20c7df27",
   "metadata": {},
   "source": [
    "## Problem Statement\n",
    "Determine if a 9 x 9 Sudoku board is valid. Only the filled cells need to be validated according to the following rules:\n",
    "\n",
    "1. Each row must contain the digits 1-9 without repetition.\n",
    "2. Each column must contain the digits 1-9 without repetition.\n",
    "3. Each of the nine 3 x 3 sub-boxes must contain the digits 1-9 without repetition.\n",
    "\n",
    "The board may be partially filled, where empty cells are represented by the character `.`."
   ]
  },
  {
   "cell_type": "markdown",
   "id": "dc673ef1",
   "metadata": {},
   "source": [
    "## Progressive Hints\n",
    "- Hint 1: Start by enforcing the three validity rules separately to avoid mixing logic.\n",
    "- Hint 2: Use hash sets to record seen digits per row, column, and sub-box.\n",
    "- Hint 3: Encode sub-box identity using integer division to map cells into 3 x 3 buckets."
   ]
  },
  {
   "cell_type": "markdown",
   "id": "f61d42d6",
   "metadata": {},
   "source": [
    "## Solution Overview\n",
    "Scan every cell once while tracking the digits seen per row, per column, and per 3 x 3 sub-box using hash sets. If a digit repeats in any tracking structure, the board is invalid; otherwise it is valid."
   ]
  },
  {
   "cell_type": "markdown",
   "id": "8121c0e6",
   "metadata": {},
   "source": [
    "## Detailed Explanation\n",
    "1. Prepare three arrays of sets: one per row, one per column, and one for sub-boxes indexed by `(r // 3) * 3 + (c // 3)`.\n",
    "2. Iterate over each cell. Skip empty cells marked `.` to focus on filled values.\n",
    "3. When encountering a digit, check whether it already exists in the row, column, or sub-box set.\n",
    "4. If any check fails, return `False` early.\n",
    "5. Otherwise insert the digit into the corresponding row, column, and sub-box sets.\n",
    "6. Finish scanning the grid. If no duplicates were encountered, return `True`."
   ]
  },
  {
   "cell_type": "markdown",
   "id": "5b299700",
   "metadata": {},
   "source": [
    "## Complexity Trade-off Table\n",
    "| Approach | Time Complexity | Space Complexity | Notes |\n",
    "| --- | --- | --- | --- |\n",
    "| Sets per row/column/box | O(81) | O(81) | Straightforward and readable, leveraging Python sets. |\n",
    "| Bitmask encoding | O(81) | O(1) | Memory efficient but requires careful bit manipulation. |"
   ]
  },
  {
   "cell_type": "code",
   "execution_count": null,
   "id": "4e8e90fa",
   "metadata": {},
   "outputs": [],
   "source": [
    "from typing import List\n",
    "\n",
    "\n",
    "def isValidSudoku(board: List[List[str]]) -> bool:\n",
    "    \"\"\"Return True if the partially filled Sudoku board is valid.\"\"\"\n",
    "    rows = [set() for _ in range(9)]\n",
    "    cols = [set() for _ in range(9)]\n",
    "    boxes = [set() for _ in range(9)]\n",
    "\n",
    "    for r in range(9):\n",
    "        for c in range(9):\n",
    "            value = board[r][c]\n",
    "            if value == '.':\n",
    "                continue  # Ignore empty cells.\n",
    "            box_index = (r // 3) * 3 + (c // 3)  # Map to 3x3 sub-box.\n",
    "            if value in rows[r] or value in cols[c] or value in boxes[box_index]:\n",
    "                return False  # Duplicate detected in row, column, or box.\n",
    "            rows[r].add(value)\n",
    "            cols[c].add(value)\n",
    "            boxes[box_index].add(value)\n",
    "    return True\n"
   ]
  },
  {
   "cell_type": "markdown",
   "id": "05ef65ff",
   "metadata": {},
   "source": [
    "## Complexity Analysis\n",
    "- Time Complexity: `O(81)` because the algorithm inspects each cell in the 9 x 9 grid exactly once.\n",
    "- Space Complexity: `O(81)` for storing seen digits across rows, columns, and sub-boxes.\n",
    "- Bottleneck: Hash set insertions and lookups dominate, but they are constant-time on average."
   ]
  },
  {
   "cell_type": "markdown",
   "id": "9604f31e",
   "metadata": {},
   "source": [
    "## Edge Cases & Pitfalls\n",
    "- Ensure sub-box indices are computed correctly; off-by-one errors are common.\n",
    "- Skip placeholder cells to avoid treating `.` as a digit.\n",
    "- Validate only what is present; the input may be unsolvable yet still valid.\n",
    "- Remember that the same digit may appear across rows so long as it is unique inside each row, column, and box."
   ]
  },
  {
   "cell_type": "markdown",
   "id": "d2371bb4",
   "metadata": {},
   "source": [
    "## Follow-up Variants\n",
    "- Extend to validate boards of size `n^2 x n^2` with dynamic box sizes.\n",
    "- Use bitmasks to decrease memory footprint when integrating into performance-critical services.\n",
    "- Combine with a backtracking solver to produce valid completions for data augmentation."
   ]
  },
  {
   "cell_type": "markdown",
   "id": "63fa269c",
   "metadata": {},
   "source": [
    "## Takeaways\n",
    "- Hash sets provide a clean way to enforce uniqueness constraints on structured data.\n",
    "- Decomposing grid validation into row, column, and sub-box checks keeps logic modular.\n",
    "- Early exits improve latency when invalid configurations are common in data streams."
   ]
  },
  {
   "cell_type": "markdown",
   "id": "95239bb1",
   "metadata": {},
   "source": [
    "## Similar Problems\n",
    "| Problem ID | Problem Title | Technique |\n",
    "| --- | --- | --- |\n",
    "| 37 | Sudoku Solver | Backtracking with constraint tracking |\n",
    "| 73 | Set Matrix Zeroes | Grid scanning with bookkeeping |\n",
    "| 266 | Palindrome Permutation | Frequency counting via hash map |"
   ]
  }
 ],
 "metadata": {
  "kernelspec": {
   "display_name": "Python 3 (ipykernel)",
   "language": "python",
   "name": "python3"
  },
  "language_info": {
   "codemirror_mode": {
    "name": "ipython",
    "version": 3
   },
   "file_extension": ".py",
   "mimetype": "text/x-python",
   "name": "python",
   "nbconvert_exporter": "python",
   "pygments_lexer": "ipython3",
   "version": "3.13.3"
  }
 },
 "nbformat": 4,
 "nbformat_minor": 5
}