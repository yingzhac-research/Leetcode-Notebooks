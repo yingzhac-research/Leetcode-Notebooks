{
 "cells": [
  {
   "cell_type": "markdown",
   "metadata": {},
   "source": [
    "# 236. Lowest Common Ancestor of a Binary Tree\n"
   ]
  },
  {
   "cell_type": "markdown",
   "metadata": {},
   "source": [
    "## Topic Alignment\n",
    "- LCA queries are ubiquitous in permission hierarchies and debugging lineage for feature pipelines.\n",
    "- Determining shared ancestors supports impact analysis when decommissioning subtree resources.\n"
   ]
  },
  {
   "cell_type": "markdown",
   "metadata": {},
   "source": [
    "## Metadata Summary\n",
    "- Source: [Lowest Common Ancestor of a Binary Tree](https://leetcode.com/problems/lowest-common-ancestor-of-a-binary-tree/)\n",
    "- Tags: `Binary Tree`, `DFS`\n",
    "- Difficulty: Medium\n",
    "- Recommended Priority: High\n"
   ]
  },
  {
   "cell_type": "markdown",
   "metadata": {},
   "source": [
    "## Problem Statement\n",
    "Given a binary tree, find the lowest common ancestor (LCA) of two given nodes in the tree. The LCA is defined as the lowest node that has both nodes as descendants (where a node is allowed to be a descendant of itself).\n"
   ]
  },
  {
   "cell_type": "markdown",
   "metadata": {},
   "source": [
    "## Progressive Hints\n",
    "- Hint 1: Use post-order traversal so you know whether a child contains either target before returning.\n",
    "- Hint 2: If both left and right subtrees report a match, the current node is the LCA.\n",
    "- Hint 3: Propagate the found node upward so ancestors can reuse the result without re-searching.\n"
   ]
  },
  {
   "cell_type": "markdown",
   "metadata": {},
   "source": [
    "## Solution Overview\n",
    "Recurse from the root. For each node, search its left and right subtrees. If both subcalls return non-null, the current node is the lowest common ancestor. Otherwise forward whichever non-null child result you found. Return the current node when it matches either target, so matches bubble up.\n"
   ]
  },
  {
   "cell_type": "markdown",
   "metadata": {},
   "source": [
    "## Detailed Explanation\n",
    "1. If the current node is `None`, return `None`.\n",
    "2. If the node equals `p` or `q`, return the node itself.\n",
    "3. Recursively search the left subtree; store the result in `left`.\n",
    "4. Recursively search the right subtree; store the result in `right`.\n",
    "5. If both `left` and `right` are non-null, return the current node because each side contains one target.\n",
    "6. Otherwise return `left` if it is non-null, else `right`.\n"
   ]
  },
  {
   "cell_type": "markdown",
   "metadata": {},
   "source": [
    "## Complexity Trade-off Table\n",
    "| Approach | Time Complexity | Space Complexity | Notes |\n",
    "| --- | --- | --- | --- |\n",
    "| Recursive DFS | O(n) | O(h) | Single pass; recursion depth equals tree height |\n",
    "| Parent pointers + ancestors set | O(n) | O(n) | Walk up from one node storing ancestors, then climb the other |\n",
    "| Binary lifting preprocessing | O(n log n) | O(n log n) | Handles millions of offline queries efficiently |\n"
   ]
  },
  {
   "cell_type": "markdown",
   "metadata": {},
   "source": [
    "## Reference Implementation\n"
   ]
  },
  {
   "cell_type": "code",
   "execution_count": null,
   "metadata": {},
   "outputs": [],
   "source": [
    "from typing import Optional\n",
    "\n",
    "\n",
    "class TreeNode:\n",
    "    def __init__(self, val: int = 0, left: Optional['TreeNode'] = None, right: Optional['TreeNode'] = None):\n",
    "        self.val = val\n",
    "        self.left = left\n",
    "        self.right = right\n",
    "\n",
    "\n",
    "class Solution:\n",
    "    def lowestCommonAncestor(self, root: Optional[TreeNode], p: TreeNode, q: TreeNode) -> Optional[TreeNode]:\n",
    "        if not root or root == p or root == q:\n",
    "            return root\n",
    "        left = self.lowestCommonAncestor(root.left, p, q)\n",
    "        right = self.lowestCommonAncestor(root.right, p, q)\n",
    "        if left and right:\n",
    "            return root\n",
    "        return left if left else right\n"
   ]
  },
  {
   "cell_type": "markdown",
   "metadata": {},
   "source": [
    "## Validation\n"
   ]
  },
  {
   "cell_type": "code",
   "execution_count": null,
   "metadata": {},
   "outputs": [],
   "source": [
    "def build_tree(values):\n",
    "    nodes = [None if val is None else TreeNode(val) for val in values]\n",
    "    kids = nodes[::-1]\n",
    "    root = kids.pop() if kids else None\n",
    "    for node in nodes:\n",
    "        if node:\n",
    "            if kids:\n",
    "                node.left = kids.pop()\n",
    "            if kids:\n",
    "                node.right = kids.pop()\n",
    "    return root, nodes\n",
    "\n",
    "cases = [\n",
    "    ([3,5,1,6,2,0,8,None,None,7,4], 5, 1, 3),\n",
    "    ([3,5,1,6,2,0,8,None,None,7,4], 5, 4, 5),\n",
    "]\n",
    "solver = Solution()\n",
    "for tree_vals, p_val, q_val, expected in cases:\n",
    "    root, nodes = build_tree(tree_vals)\n",
    "    lookup = {node.val: node for node in nodes if node}\n",
    "    result = solver.lowestCommonAncestor(root, lookup[p_val], lookup[q_val])\n",
    "    assert result.val == expected, f\"LCA({p_val}, {q_val}) -> {result.val}, expected {expected}\"\n"
   ]
  },
  {
   "cell_type": "markdown",
   "metadata": {},
   "source": [
    "## Complexity Analysis\n",
    "- Time: O(n) in the worst case because every node might be visited.\n",
    "- Space: O(h) for recursion (worst-case O(n) on skewed trees).\n",
    "- Bottleneck: None for single queries; multiple queries warrant preprocessing.\n"
   ]
  },
  {
   "cell_type": "markdown",
   "metadata": {},
   "source": [
    "## Edge Cases & Pitfalls\n",
    "- If `p` equals `q`, the answer is that node itself.\n",
    "- Ensure both nodes exist in the tree; the problem guarantees they do.\n",
    "- Pay attention to non-binary extensions—this solution assumes a binary tree structure.\n"
   ]
  },
  {
   "cell_type": "markdown",
   "metadata": {},
   "source": [
    "## Follow-up Variants\n",
    "- Preprocess parent pointers and depth to answer multiple queries with binary lifting.\n",
    "- Handle trees with parent references by walking upward and marking visited ancestors.\n",
    "- Extend to lowest common ancestor of k nodes by intersecting their ancestor sets.\n"
   ]
  },
  {
   "cell_type": "markdown",
   "metadata": {},
   "source": [
    "## Takeaways\n",
    "- Post-order traversal lets you combine child search results cleanly.\n",
    "- Short-circuiting when both sides return non-null avoids extra work.\n",
    "- LCA primitives are building blocks for many tree and graph algorithms.\n"
   ]
  },
  {
   "cell_type": "markdown",
   "metadata": {},
   "source": [
    "## Similar Problems\n",
    "| Problem ID | Problem Title | Technique |\n",
    "| --- | --- | --- |\n",
    "| 235 | Lowest Common Ancestor of a BST | Exploit BST ordering to walk down |\n",
    "| 1676 | Lowest Common Ancestor of a Binary Tree IV | LCA across multiple nodes |\n",
    "| 1123 | Lowest Common Ancestor of Deepest Leaves | Combine depth tracking with LCA |\n"
   ]
  }
 ],
 "metadata": {
  "kernelspec": {
   "display_name": "Python 3 (ipykernel)",
   "language": "python",
   "name": "python3"
  },
  "language_info": {
   "codemirror_mode": {
    "name": "ipython",
    "version": 3
   },
   "file_extension": ".py",
   "mimetype": "text/x-python",
   "name": "python",
   "nbconvert_exporter": "python",
   "pygments_lexer": "ipython3",
   "version": "3.13.3"
  }
 },
 "nbformat": 4,
 "nbformat_minor": 5
}