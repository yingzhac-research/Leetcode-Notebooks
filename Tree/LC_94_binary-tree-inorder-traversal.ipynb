{
 "cells": [
  {
   "cell_type": "markdown",
   "metadata": {},
   "source": [
    "# 94. Binary Tree Inorder Traversal\n"
   ]
  },
  {
   "cell_type": "markdown",
   "metadata": {},
   "source": [
    "## Topic Alignment\n",
    "- Inorder traversal exposes sorted values in BST-backed catalogs used for ranking or reporting.\n",
    "- Serves as a baseline for validating iterator implementations over tree structures.\n"
   ]
  },
  {
   "cell_type": "markdown",
   "metadata": {},
   "source": [
    "## Metadata Summary\n",
    "- Source: [Binary Tree Inorder Traversal](https://leetcode.com/problems/binary-tree-inorder-traversal/)\n",
    "- Tags: `Binary Tree`, `Stack`, `DFS`\n",
    "- Difficulty: Easy\n",
    "- Recommended Priority: High\n"
   ]
  },
  {
   "cell_type": "markdown",
   "metadata": {},
   "source": [
    "## Problem Statement\n",
    "Given the root of a binary tree, return the inorder traversal of its nodes' values. Inorder traversal visits the left subtree, then the current node, then the right subtree.\n"
   ]
  },
  {
   "cell_type": "markdown",
   "metadata": {},
   "source": [
    "## Progressive Hints\n",
    "- Hint 1: Inorder order is left subtree, current node, then right subtree.\n",
    "- Hint 2: Use a stack to simulate recursion if call-stack depth is a concern.\n",
    "- Hint 3: Maintain a current pointer that walks down left edges before collecting values.\n"
   ]
  },
  {
   "cell_type": "markdown",
   "metadata": {},
   "source": [
    "## Solution Overview\n",
    "Implement iterative inorder traversal. Push nodes while walking left, pop to record values, then move to the right child. Repeat until both the stack and current pointer are empty.\n"
   ]
  },
  {
   "cell_type": "markdown",
   "metadata": {},
   "source": [
    "## Detailed Explanation\n",
    "1. Initialize an empty stack and set `curr = root`.\n",
    "2. While `curr` is not `None`, push it on the stack and move to `curr.left`.\n",
    "3. When you reach `None`, pop from the stack, record the node's value, and set `curr = node.right`.\n",
    "4. Continue the loop while either the stack or `curr` is non-empty; collected values appear in inorder.\n"
   ]
  },
  {
   "cell_type": "markdown",
   "metadata": {},
   "source": [
    "## Complexity Trade-off Table\n",
    "| Approach | Time Complexity | Space Complexity | Notes |\n",
    "| --- | --- | --- | --- |\n",
    "| Iterative stack traversal | O(n) | O(h) | Controls recursion explicitly |\n",
    "| Recursive traversal | O(n) | O(h) | Concise but limited by recursion depth |\n",
    "| Morris traversal | O(n) | O(1) | Temporarily rewires tree to achieve constant space |\n"
   ]
  },
  {
   "cell_type": "markdown",
   "metadata": {},
   "source": [
    "## Reference Implementation\n"
   ]
  },
  {
   "cell_type": "code",
   "execution_count": null,
   "metadata": {},
   "outputs": [],
   "source": [
    "from typing import List, Optional\n",
    "\n",
    "\n",
    "class TreeNode:\n",
    "    def __init__(self, val: int = 0, left: Optional['TreeNode'] = None, right: Optional['TreeNode'] = None):\n",
    "        self.val = val\n",
    "        self.left = left\n",
    "        self.right = right\n",
    "\n",
    "\n",
    "class Solution:\n",
    "    def inorderTraversal(self, root: Optional[TreeNode]) -> List[int]:\n",
    "        result: List[int] = []\n",
    "        stack: List[TreeNode] = []\n",
    "        current = root\n",
    "        while current or stack:\n",
    "            while current:\n",
    "                stack.append(current)\n",
    "                current = current.left\n",
    "            node = stack.pop()\n",
    "            result.append(node.val)\n",
    "            current = node.right\n",
    "        return result\n"
   ]
  },
  {
   "cell_type": "markdown",
   "metadata": {},
   "source": [
    "## Validation\n"
   ]
  },
  {
   "cell_type": "code",
   "execution_count": null,
   "metadata": {},
   "outputs": [],
   "source": [
    "def build_tree(values):\n",
    "    nodes = [None if val is None else TreeNode(val) for val in values]\n",
    "    kids = nodes[::-1]\n",
    "    root = kids.pop() if kids else None\n",
    "    for node in nodes:\n",
    "        if node:\n",
    "            if kids:\n",
    "                node.left = kids.pop()\n",
    "            if kids:\n",
    "                node.right = kids.pop()\n",
    "    return root\n",
    "\n",
    "cases = [\n",
    "    ([1,None,2,3], [1,3,2]),\n",
    "    ([], []),\n",
    "    ([1], [1]),\n",
    "]\n",
    "solver = Solution()\n",
    "for tree_vals, expected in cases:\n",
    "    root = build_tree(tree_vals)\n",
    "    result = solver.inorderTraversal(root)\n",
    "    assert result == expected, f\"inorderTraversal({tree_vals}) -> {result}, expected {expected}\"\n"
   ]
  },
  {
   "cell_type": "markdown",
   "metadata": {},
   "source": [
    "## Complexity Analysis\n",
    "- Time: O(n) because every node is visited exactly once.\n",
    "- Space: O(h) for the stack, with `h` being tree height.\n",
    "- Bottleneck: Deep skewed trees make `h` close to `n`, increasing stack usage.\n"
   ]
  },
  {
   "cell_type": "markdown",
   "metadata": {},
   "source": [
    "## Edge Cases & Pitfalls\n",
    "- Handle empty trees by returning an empty list.\n",
    "- Ensure you move to the right child after visiting a node to prevent infinite loops.\n",
    "- Avoid pushing nodes twice; only push while walking left.\n"
   ]
  },
  {
   "cell_type": "markdown",
   "metadata": {},
   "source": [
    "## Follow-up Variants\n",
    "- Derive preorder or postorder traversals using similar stack patterns.\n",
    "- Implement Morris traversal for constant extra space.\n",
    "- Build a generator that yields values lazily for streaming use cases.\n"
   ]
  },
  {
   "cell_type": "markdown",
   "metadata": {},
   "source": [
    "## Takeaways\n",
    "- Iterative traversals mirror recursion closely once you manage the stack explicitly.\n",
    "- Inorder order is essential for BST operations because it surfaces values in sorted order.\n",
    "- Understanding traversal templates accelerates many tree-manipulation problems.\n"
   ]
  },
  {
   "cell_type": "markdown",
   "metadata": {},
   "source": [
    "## Similar Problems\n",
    "| Problem ID | Problem Title | Technique |\n",
    "| --- | --- | --- |\n",
    "| 144 | Binary Tree Preorder Traversal | Iterative stack traversal |\n",
    "| 145 | Binary Tree Postorder Traversal | Two-stack or reversed preorder |\n",
    "| 173 | Binary Search Tree Iterator | Controlled inorder traversal |\n"
   ]
  }
 ],
 "metadata": {
  "kernelspec": {
   "display_name": "Python 3 (ipykernel)",
   "language": "python",
   "name": "python3"
  },
  "language_info": {
   "codemirror_mode": {
    "name": "ipython",
    "version": 3
   },
   "file_extension": ".py",
   "mimetype": "text/x-python",
   "name": "python",
   "nbconvert_exporter": "python",
   "pygments_lexer": "ipython3",
   "version": "3.13.3"
  }
 },
 "nbformat": 4,
 "nbformat_minor": 5
}