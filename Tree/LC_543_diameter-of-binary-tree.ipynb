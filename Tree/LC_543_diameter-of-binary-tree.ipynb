{
 "cells": [
  {
   "cell_type": "markdown",
   "metadata": {},
   "source": [
    "# 543. Diameter of Binary Tree\n"
   ]
  },
  {
   "cell_type": "markdown",
   "metadata": {},
   "source": [
    "## Topic Alignment\n",
    "- Tree diameters quantify communication latency between farthest nodes in distributed services.\n",
    "- Useful for understanding worst-case propagation delays in feature dependency graphs.\n"
   ]
  },
  {
   "cell_type": "markdown",
   "metadata": {},
   "source": [
    "## Metadata Summary\n",
    "- Source: [Diameter of Binary Tree](https://leetcode.com/problems/diameter-of-binary-tree/)\n",
    "- Tags: `Binary Tree`, `DFS`\n",
    "- Difficulty: Easy\n",
    "- Recommended Priority: Medium\n"
   ]
  },
  {
   "cell_type": "markdown",
   "metadata": {},
   "source": [
    "## Problem Statement\n",
    "Given the root of a binary tree, return the length of the diameter of the tree. The diameter is defined as the number of edges in the longest path between any two nodes.\n"
   ]
  },
  {
   "cell_type": "markdown",
   "metadata": {},
   "source": [
    "## Progressive Hints\n",
    "- Hint 1: The diameter through a node equals the sum of the two longest downward paths from that node.\n",
    "- Hint 2: Track a global maximum while you compute subtree heights.\n",
    "- Hint 3: Clamp negative gains to zero is unnecessary here because edge counts are non-negative, but the pattern mirrors max-path problems.\n"
   ]
  },
  {
   "cell_type": "markdown",
   "metadata": {},
   "source": [
    "## Solution Overview\n",
    "Use DFS to compute the height of each subtree. For every node, consider the path length formed by its left and right heights. Update a global maximum with this value. Return the height to the parent so the calculation can continue upwards.\n"
   ]
  },
  {
   "cell_type": "markdown",
   "metadata": {},
   "source": [
    "## Detailed Explanation\n",
    "1. Define a helper `height(node)` that returns the longest downward path length from `node`.\n",
    "2. If `node` is `None`, return 0.\n",
    "3. Recursively compute `left = height(node.left)` and `right = height(node.right)`.\n",
    "4. Update `diameter = max(diameter, left + right)` because this path passes through `node`.\n",
    "5. Return `max(left, right) + 1` so the parent can extend the longer branch by one edge.\n"
   ]
  },
  {
   "cell_type": "markdown",
   "metadata": {},
   "source": [
    "## Complexity Trade-off Table\n",
    "| Approach | Time Complexity | Space Complexity | Notes |\n",
    "| --- | --- | --- | --- |\n",
    "| DFS with global max | O(n) | O(h) | Single traversal; `h` is tree height |\n",
    "| Recompute heights per node | O(n·h) | O(h) | Inefficient; recalculates subtree heights repeatedly |\n"
   ]
  },
  {
   "cell_type": "markdown",
   "metadata": {},
   "source": [
    "## Reference Implementation\n"
   ]
  },
  {
   "cell_type": "code",
   "execution_count": null,
   "metadata": {},
   "outputs": [],
   "source": [
    "from typing import Optional\n",
    "\n",
    "\n",
    "class TreeNode:\n",
    "    def __init__(self, val: int = 0, left: Optional['TreeNode'] = None, right: Optional['TreeNode'] = None):\n",
    "        self.val = val\n",
    "        self.left = left\n",
    "        self.right = right\n",
    "\n",
    "\n",
    "class Solution:\n",
    "    def diameterOfBinaryTree(self, root: Optional[TreeNode]) -> int:\n",
    "        max_diameter = 0\n",
    "\n",
    "        def height(node: Optional[TreeNode]) -> int:\n",
    "            nonlocal max_diameter\n",
    "            if not node:\n",
    "                return 0\n",
    "            left = height(node.left)\n",
    "            right = height(node.right)\n",
    "            max_diameter = max(max_diameter, left + right)\n",
    "            return max(left, right) + 1\n",
    "\n",
    "        height(root)\n",
    "        return max_diameter\n"
   ]
  },
  {
   "cell_type": "markdown",
   "metadata": {},
   "source": [
    "## Validation\n"
   ]
  },
  {
   "cell_type": "code",
   "execution_count": null,
   "metadata": {},
   "outputs": [],
   "source": [
    "def build_tree(values):\n",
    "    nodes = [None if val is None else TreeNode(val) for val in values]\n",
    "    kids = nodes[::-1]\n",
    "    root = kids.pop() if kids else None\n",
    "    for node in nodes:\n",
    "        if node:\n",
    "            if kids:\n",
    "                node.left = kids.pop()\n",
    "            if kids:\n",
    "                node.right = kids.pop()\n",
    "    return root\n",
    "\n",
    "cases = [\n",
    "    ([1,2,3,4,5], 3),\n",
    "    ([1,2], 1),\n",
    "    ([], 0),\n",
    "]\n",
    "solver = Solution()\n",
    "for tree_vals, expected in cases:\n",
    "    root = build_tree(tree_vals)\n",
    "    result = solver.diameterOfBinaryTree(root)\n",
    "    assert result == expected, f\"diameterOfBinaryTree({tree_vals}) -> {result}, expected {expected}\"\n"
   ]
  },
  {
   "cell_type": "markdown",
   "metadata": {},
   "source": [
    "## Complexity Analysis\n",
    "- Time: O(n) because every node contributes once to the height and diameter update.\n",
    "- Space: O(h) for recursion depth.\n",
    "- Bottleneck: Deep trees could exhaust recursion depth, but no additional structures are required.\n"
   ]
  },
  {
   "cell_type": "markdown",
   "metadata": {},
   "source": [
    "## Edge Cases & Pitfalls\n",
    "- For single-node trees, the diameter is 0 (no edges).\n",
    "- Ensure you count edges, not nodes; returning `left + right` correctly counts edges.\n",
    "- Maintain a global variable rather than recomputing maxima on the way back up.\n"
   ]
  },
  {
   "cell_type": "markdown",
   "metadata": {},
   "source": [
    "## Follow-up Variants\n",
    "- Return both the diameter length and the actual path by recording parents.\n",
    "- Extend to weighted trees where edges have costs; accumulate weights instead of edge counts.\n",
    "- Compute diameters for every node (aka eccentricity) to profile latency distribution.\n"
   ]
  },
  {
   "cell_type": "markdown",
   "metadata": {},
   "source": [
    "## Takeaways\n",
    "- Augmenting a height calculation with a global metric is a common tree DP pattern.\n",
    "- Post-order traversal ensures child heights are ready before you evaluate the current node.\n",
    "- The algorithm naturally generalizes to other additive metrics like path sums.\n"
   ]
  },
  {
   "cell_type": "markdown",
   "metadata": {},
   "source": [
    "## Similar Problems\n",
    "| Problem ID | Problem Title | Technique |\n",
    "| --- | --- | --- |\n",
    "| 543 | Diameter of Binary Tree | (current) |\n",
    "| 124 | Binary Tree Maximum Path Sum | DFS combining child gains |\n",
    "| 687 | Longest Univalue Path | DFS tracking longest same-value arms |\n"
   ]
  }
 ],
 "metadata": {
  "kernelspec": {
   "display_name": "Python 3 (ipykernel)",
   "language": "python",
   "name": "python3"
  },
  "language_info": {
   "codemirror_mode": {
    "name": "ipython",
    "version": 3
   },
   "file_extension": ".py",
   "mimetype": "text/x-python",
   "name": "python",
   "nbconvert_exporter": "python",
   "pygments_lexer": "ipython3",
   "version": "3.13.3"
  }
 },
 "nbformat": 4,
 "nbformat_minor": 5
}