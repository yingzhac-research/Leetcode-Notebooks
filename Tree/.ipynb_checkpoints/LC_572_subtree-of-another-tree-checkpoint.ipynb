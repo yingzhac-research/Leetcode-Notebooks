{
 "cells": [
  {
   "cell_type": "markdown",
   "metadata": {},
   "source": [
    "# 572. Subtree of Another Tree\n"
   ]
  },
  {
   "cell_type": "markdown",
   "metadata": {},
   "source": [
    "## Topic Alignment\n",
    "- **Role Relevance**: \u68c0\u67e5\u914d\u7f6e\u5b50\u6811\u662f\u5426\u5d4c\u5165\u5728\u4e3b\u914d\u7f6e\u4e2d.\n",
    "- **Scenario**: \u5728\u6a21\u677f\u590d\u7528\u65f6\u786e\u8ba4\u5b50\u6d41\u7a0b\u662f\u5426\u5b58\u5728\u4e8e\u4e3b\u6d41\u7a0b\u6811\u5185.\n"
   ]
  },
  {
   "cell_type": "markdown",
   "metadata": {},
   "source": [
    "## Metadata Summary\n",
    "- Source: [Subtree of Another Tree](https://leetcode.com/problems/subtree-of-another-tree/)\n",
    "- Tags: `Binary Tree`, `DFS`\n",
    "- Difficulty: Easy\n",
    "- Recommended Priority: Low\n"
   ]
  },
  {
   "cell_type": "markdown",
   "metadata": {},
   "source": [
    "## Problem Statement\n",
    "Given the roots of two binary trees root and subRoot, return true if root contains a subtree that is structurally identical to subRoot and has the same node values.\n"
   ]
  },
  {
   "cell_type": "markdown",
   "metadata": {},
   "source": [
    "## Progressive Hints\n",
    "- \u904d\u5386\u4e3b\u6811\u6bcf\u4e2a\u8282\u70b9\u4f5c\u4e3a\u6f5c\u5728\u8d77\u70b9, \u8c03\u7528\u76f8\u7b49\u5224\u65ad.\n",
    "- \u7f16\u5199 helper \u51fd\u6570\u5224\u65ad\u4e24\u68f5\u6811\u662f\u5426\u5b8c\u5168\u76f8\u540c.\n",
    "- \u53ef\u63d0\u524d\u526a\u679d: \u82e5\u5269\u4f59\u8282\u70b9\u6570\u91cf\u4e0d\u8db3\u6216\u503c\u4e0d\u5339\u914d\u76f4\u63a5\u8fd4\u56de false.\n"
   ]
  },
  {
   "cell_type": "markdown",
   "metadata": {},
   "source": [
    "## Solution Overview\n",
    "\u5bf9\u4e3b\u6811\u8fdb\u884c DFS, \u6bcf\u9047\u5230\u76f8\u540c\u503c\u8282\u70b9\u5c31\u6bd4\u8f83\u7ed3\u6784\u662f\u5426\u4e00\u81f4, \u4efb\u4e00\u5339\u914d\u5373\u8fd4\u56de true.\n"
   ]
  },
  {
   "cell_type": "markdown",
   "metadata": {},
   "source": [
    "## Detailed Explanation\n",
    "1. \u82e5 subRoot \u4e3a\u7a7a, \u4efb\u610f\u6811\u90fd\u5305\u542b\u5b83, \u8fd4\u56de true.\n",
    "2. \u82e5 root \u4e3a\u7a7a\u4f46 subRoot \u975e\u7a7a, \u8fd4\u56de false.\n",
    "3. \u82e5\u5f53\u524d\u8282\u70b9\u4e0e subRoot \u76f8\u540c, \u8c03\u7528\u76f8\u7b49\u51fd\u6570\u786e\u8ba4\u6574\u68f5\u5b50\u6811\u5339\u914d.\n",
    "4. \u5426\u5219\u9012\u5f52\u68c0\u67e5\u5de6\u53f3\u5b50\u6811.\n"
   ]
  },
  {
   "cell_type": "markdown",
   "metadata": {},
   "source": [
    "## Complexity Trade-off Table\n",
    "| Approach | Time Complexity | Space Complexity | Notes |\n",
    "| --- | --- | --- | --- |\n",
    "| DFS + \u5339\u914d | O(n * m) \u6700\u574f | O(h) | \u7b80\u5355\u6613\u5199, \u53ef\u9002\u5ea6\u526a\u679d |\n",
    "| \u5e8f\u5217\u5316\u6bd4\u8f83 | O(n + m) | O(n + m) | \u9700\u5904\u7406\u54c8\u5e0c\u6216\u5b57\u7b26\u4e32\u51b2\u7a81 |\n"
   ]
  },
  {
   "cell_type": "markdown",
   "metadata": {},
   "source": [
    "## Reference Implementation\n"
   ]
  },
  {
   "cell_type": "code",
   "execution_count": null,
   "metadata": {},
   "outputs": [],
   "source": [
    "from typing import Optional\n",
    "\n",
    "\n",
    "class TreeNode:\n",
    "    def __init__(self, val: int = 0, left: Optional['TreeNode'] = None, right: Optional['TreeNode'] = None):\n",
    "        self.val = val\n",
    "        self.left = left\n",
    "        self.right = right\n",
    "\n",
    "\n",
    "class Solution:\n",
    "    def isSubtree(self, root: Optional[TreeNode], subRoot: Optional[TreeNode]) -> bool:\n",
    "        if not subRoot:\n",
    "            return True\n",
    "        if not root:\n",
    "            return False\n",
    "        if self._same_tree(root, subRoot):\n",
    "            return True\n",
    "        return self.isSubtree(root.left, subRoot) or self.isSubtree(root.right, subRoot)\n",
    "\n",
    "    def _same_tree(self, a: Optional[TreeNode], b: Optional[TreeNode]) -> bool:\n",
    "        if not a and not b:\n",
    "            return True\n",
    "        if not a or not b:\n",
    "            return False\n",
    "        if a.val != b.val:\n",
    "            return False\n",
    "        return self._same_tree(a.left, b.left) and self._same_tree(a.right, b.right)\n"
   ]
  },
  {
   "cell_type": "markdown",
   "metadata": {},
   "source": [
    "## Validation\n"
   ]
  },
  {
   "cell_type": "code",
   "execution_count": null,
   "metadata": {},
   "outputs": [],
   "source": [
    "def build_tree(values):\n",
    "    nodes = [None if val is None else TreeNode(val) for val in values]\n",
    "    kids = nodes[::-1]\n",
    "    root = kids.pop() if kids else None\n",
    "    for node in nodes:\n",
    "        if node:\n",
    "            if kids:\n",
    "                node.left = kids.pop()\n",
    "            if kids:\n",
    "                node.right = kids.pop()\n",
    "    return root\n",
    "\n",
    "cases = [\n",
    "    ([3,4,5,1,2], [4,1,2], True),\n",
    "    ([3,4,5,1,2,None,None,None,None,0], [4,1,2], False),\n",
    "]\n",
    "solver = Solution()\n",
    "for root_vals, sub_vals, expected in cases:\n",
    "    root = build_tree(root_vals)\n",
    "    sub_root = build_tree(sub_vals)\n",
    "    result = solver.isSubtree(root, sub_root)\n",
    "    assert result == expected, f\"isSubtree({root_vals}, {sub_vals}) -> {result}, expected {expected}\"\n"
   ]
  },
  {
   "cell_type": "markdown",
   "metadata": {},
   "source": [
    "## Complexity Analysis\n",
    "- \u65f6\u95f4\u590d\u6742\u5ea6: \u6700\u574f O(n * m), \u5e73\u5747\u60c5\u51b5\u4e0b\u526a\u679d\u7f13\u89e3.\n",
    "- \u7a7a\u95f4\u590d\u6742\u5ea6: O(h), \u9012\u5f52\u6808.\n",
    "- \u74f6\u9888: \u91cd\u590d\u6bd4\u8f83\u5b50\u6811\u65f6\u7684\u5197\u4f59\u904d\u5386.\n"
   ]
  },
  {
   "cell_type": "markdown",
   "metadata": {},
   "source": [
    "## Edge Cases & Pitfalls\n",
    "- subRoot \u4e3a\u7a7a\u65f6\u8fd4\u56de true.\n",
    "- root \u4e3a\u7a7a\u65f6\u8fd4\u56de false.\n",
    "- \u8282\u70b9\u503c\u91cd\u590d\u5bfc\u81f4\u591a\u6b21\u5339\u914d\u5c1d\u8bd5.\n"
   ]
  },
  {
   "cell_type": "markdown",
   "metadata": {},
   "source": [
    "## Follow-up Variants\n",
    "- \u4f7f\u7528\u54c8\u5e0c\u6216\u5e8f\u5217\u5316\u51cf\u5c11\u91cd\u590d\u6bd4\u8f83.\n",
    "- \u652f\u6301\u52a8\u6001\u63d2\u5165\u5220\u9664\u5b50\u6811\u5e76\u5b9e\u65f6\u68c0\u6d4b.\n",
    "- \u6269\u5c55\u5230\u5e26\u6743\u503c\u6216\u591a\u53c9\u6811.\n"
   ]
  },
  {
   "cell_type": "markdown",
   "metadata": {},
   "source": [
    "## Takeaways\n",
    "- \u5b50\u6811\u6bd4\u8f83\u901a\u5e38\u9700\u8981\u5148\u5224\u65ad\u6839\u503c\u518d\u6df1\u5165\u6bd4\u8f83.\n",
    "- \u7ed3\u6784\u4e0e\u6570\u503c\u90fd\u5fc5\u987b\u5339\u914d\u624d\u7b97\u5b50\u6811.\n"
   ]
  },
  {
   "cell_type": "markdown",
   "metadata": {},
   "source": [
    "## Similar Problems\n",
    "| Problem ID | Problem Title | Technique |\n",
    "| --- | --- | --- |\n",
    "| 100 | Same Tree | \u7ed3\u6784\u6bd4\u8f83 |\n",
    "| 652 | Find Duplicate Subtrees | \u5e8f\u5217\u5316\u54c8\u5e0c |\n"
   ]
  }
 ],
 "metadata": {
  "kernelspec": {
   "display_name": "Python 3 (ipykernel)",
   "language": "python",
   "name": "python3"
  },
  "language_info": {
   "codemirror_mode": {
    "name": "ipython",
    "version": 3
   },
   "file_extension": ".py",
   "mimetype": "text/x-python",
   "name": "python",
   "nbconvert_exporter": "python",
   "pygments_lexer": "ipython3",
   "version": "3.13.3"
  }
 },
 "nbformat": 4,
 "nbformat_minor": 5
}
