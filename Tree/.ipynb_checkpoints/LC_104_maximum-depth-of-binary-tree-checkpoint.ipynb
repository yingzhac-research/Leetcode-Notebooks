{
 "cells": [
  {
   "cell_type": "markdown",
   "metadata": {},
   "source": [
    "# 104. Maximum Depth of Binary Tree\n"
   ]
  },
  {
   "cell_type": "markdown",
   "metadata": {},
   "source": [
    "## Topic Alignment\n",
    "- **Role Relevance**: \u4f30\u7b97\u63a8\u7406\u56fe\u7684\u6700\u957f\u4f9d\u8d56\u94fe\u957f\u5ea6.\n",
    "- **Scenario**: \u8bc4\u4f30\u6a21\u578b\u914d\u7f6e\u6811\u7684\u6700\u5927\u6df1\u5ea6\u4ee5\u8bbe\u7f6e\u6808\u7a7a\u95f4.\n"
   ]
  },
  {
   "cell_type": "markdown",
   "metadata": {},
   "source": [
    "## Metadata Summary\n",
    "- Source: [Maximum Depth of Binary Tree](https://leetcode.com/problems/maximum-depth-of-binary-tree/)\n",
    "- Tags: `Binary Tree`, `DFS`\n",
    "- Difficulty: Easy\n",
    "- Recommended Priority: Medium\n"
   ]
  },
  {
   "cell_type": "markdown",
   "metadata": {},
   "source": [
    "## Problem Statement\n",
    "Given the root of a binary tree, return its maximum depth. The maximum depth is the number of nodes along the longest path from the root node down to a leaf.\n"
   ]
  },
  {
   "cell_type": "markdown",
   "metadata": {},
   "source": [
    "## Progressive Hints\n",
    "- \u9012\u5f52\u65f6\u4ece\u53f6\u5b50\u5411\u4e0a\u56de\u4f20\u9ad8\u5ea6\u5e76\u9009\u62e9\u8f83\u5927\u503c.\n",
    "- \u7a7a\u8282\u70b9\u9ad8\u5ea6\u4e3a 0, \u53f6\u5b50\u9ad8\u5ea6\u4e3a 1.\n",
    "- \u4e5f\u53ef\u4ee5\u4f7f\u7528 BFS \u7edf\u8ba1\u5c42\u6570, \u9700\u8981\u5c42\u7ea7\u8ba1\u6570.\n"
   ]
  },
  {
   "cell_type": "markdown",
   "metadata": {},
   "source": [
    "## Solution Overview\n",
    "\u901a\u8fc7\u6df1\u5ea6\u4f18\u5148\u904d\u5386\u9012\u5f52\u8ba1\u7b97\u5de6\u53f3\u5b50\u6811\u9ad8\u5ea6, \u8fd4\u56de\u6700\u5927\u503c\u52a0\u4e00.\n"
   ]
  },
  {
   "cell_type": "markdown",
   "metadata": {},
   "source": [
    "## Detailed Explanation\n",
    "1. \u82e5\u8282\u70b9\u4e3a\u7a7a\u8fd4\u56de 0.\n",
    "2. \u5206\u522b\u9012\u5f52\u8ba1\u7b97\u5de6\u5b50\u6811\u4e0e\u53f3\u5b50\u6811\u7684\u6700\u5927\u6df1\u5ea6.\n",
    "3. \u5f53\u524d\u8282\u70b9\u6df1\u5ea6\u7b49\u4e8e max(left, right) + 1.\n",
    "4. \u6839\u8282\u70b9\u8fd4\u56de\u503c\u5373\u6574\u68f5\u6811\u7684\u6700\u5927\u6df1\u5ea6.\n"
   ]
  },
  {
   "cell_type": "markdown",
   "metadata": {},
   "source": [
    "## Complexity Trade-off Table\n",
    "| Approach | Time Complexity | Space Complexity | Notes |\n",
    "| --- | --- | --- | --- |\n",
    "| DFS \u9012\u5f52 | O(n) | O(h) | \u7b80\u6d01\u76f4\u89c2, \u6808\u6df1\u4e0e\u6811\u9ad8\u4e00\u81f4 |\n",
    "| BFS \u5c42\u5e8f | O(n) | O(n) | \u901a\u8fc7\u8ba1\u6570\u5c42\u6570\u5b9e\u73b0, \u66f4\u9002\u5408\u8fed\u4ee3\u73af\u5883 |\n"
   ]
  },
  {
   "cell_type": "markdown",
   "metadata": {},
   "source": [
    "## Reference Implementation\n"
   ]
  },
  {
   "cell_type": "code",
   "execution_count": null,
   "metadata": {},
   "outputs": [],
   "source": [
    "from typing import Optional\n",
    "\n",
    "\n",
    "class TreeNode:\n",
    "    def __init__(self, val: int = 0, left: Optional['TreeNode'] = None, right: Optional['TreeNode'] = None):\n",
    "        self.val = val\n",
    "        self.left = left\n",
    "        self.right = right\n",
    "\n",
    "\n",
    "class Solution:\n",
    "    def maxDepth(self, root: Optional[TreeNode]) -> int:\n",
    "        if not root:\n",
    "            return 0\n",
    "        left_depth = self.maxDepth(root.left)\n",
    "        right_depth = self.maxDepth(root.right)\n",
    "        return max(left_depth, right_depth) + 1\n"
   ]
  },
  {
   "cell_type": "markdown",
   "metadata": {},
   "source": [
    "## Validation\n"
   ]
  },
  {
   "cell_type": "code",
   "execution_count": null,
   "metadata": {},
   "outputs": [],
   "source": [
    "def build_tree(values):\n",
    "    nodes = [None if val is None else TreeNode(val) for val in values]\n",
    "    kids = nodes[::-1]\n",
    "    root = kids.pop() if kids else None\n",
    "    for node in nodes:\n",
    "        if node:\n",
    "            if kids:\n",
    "                node.left = kids.pop()\n",
    "            if kids:\n",
    "                node.right = kids.pop()\n",
    "    return root\n",
    "\n",
    "cases = [\n",
    "    ([3,9,20,None,None,15,7], 3),\n",
    "    ([], 0),\n",
    "    ([1,2,3,4,None,None,5], 3),\n",
    "]\n",
    "solver = Solution()\n",
    "for tree_vals, expected in cases:\n",
    "    root = build_tree(tree_vals)\n",
    "    result = solver.maxDepth(root)\n",
    "    assert result == expected, f\"maxDepth({tree_vals}) -> {result}, expected {expected}\"\n"
   ]
  },
  {
   "cell_type": "markdown",
   "metadata": {},
   "source": [
    "## Complexity Analysis\n",
    "- \u65f6\u95f4\u590d\u6742\u5ea6: O(n), \u6bcf\u4e2a\u8282\u70b9\u8bbf\u95ee\u4e00\u6b21.\n",
    "- \u7a7a\u95f4\u590d\u6742\u5ea6: O(h), \u9012\u5f52\u6808\u9ad8\u5ea6\u968f\u6811\u9ad8\u589e\u957f.\n",
    "- \u74f6\u9888: \u9ad8\u5ea6\u903c\u8fd1 n \u65f6\u9012\u5f52\u6df1\u5ea6\u53ef\u80fd\u5bfc\u81f4\u6808\u6ea2\u51fa.\n"
   ]
  },
  {
   "cell_type": "markdown",
   "metadata": {},
   "source": [
    "## Edge Cases & Pitfalls\n",
    "- \u7a7a\u6811\u8fd4\u56de 0.\n",
    "- \u53ea\u6709\u4e00\u4e2a\u8282\u70b9\u7684\u6811\u8fd4\u56de 1.\n",
    "- \u6781\u5ea6\u4e0d\u5e73\u8861\u7684\u94fe\u5f0f\u7ed3\u6784.\n"
   ]
  },
  {
   "cell_type": "markdown",
   "metadata": {},
   "source": [
    "## Follow-up Variants\n",
    "- \u6539\u5199\u4e3a\u5c3e\u9012\u5f52\u6216\u663e\u5f0f\u6808\u5b9e\u73b0\u4ee5\u89c4\u907f\u6808\u9650\u5236.\n",
    "- \u540c\u65f6\u7edf\u8ba1\u6700\u77ed\u8def\u5f84\u6216\u53f6\u5b50\u5c42\u7ea7\u5206\u5e03.\n",
    "- \u5728 BFS \u4e2d\u8bb0\u5f55\u6bcf\u5c42\u8282\u70b9\u6570\u91cf\u8f85\u52a9\u8c03\u8bd5.\n"
   ]
  },
  {
   "cell_type": "markdown",
   "metadata": {},
   "source": [
    "## Takeaways\n",
    "- \u6700\u5927\u6df1\u5ea6\u95ee\u9898\u4f53\u73b0\u4e86\u6811\u5f62 DP \u7684\u57fa\u7840\u601d\u8def.\n",
    "- \u9012\u5f52\u8fd4\u56de\u503c\u53ef\u4ee3\u8868\u5b50\u95ee\u9898\u7b54\u6848\u5e76\u9010\u5c42\u7ec4\u5408.\n"
   ]
  },
  {
   "cell_type": "markdown",
   "metadata": {},
   "source": [
    "## Similar Problems\n",
    "| Problem ID | Problem Title | Technique |\n",
    "| --- | --- | --- |\n",
    "| 559 | Maximum Depth of N-ary Tree | DFS \u7edf\u8ba1\u6df1\u5ea6 |\n",
    "| 111 | Minimum Depth of Binary Tree | BFS \u6216 DFS \u5224\u53f6\u5b50 |\n"
   ]
  }
 ],
 "metadata": {
  "kernelspec": {
   "display_name": "Python 3 (ipykernel)",
   "language": "python",
   "name": "python3"
  },
  "language_info": {
   "codemirror_mode": {
    "name": "ipython",
    "version": 3
   },
   "file_extension": ".py",
   "mimetype": "text/x-python",
   "name": "python",
   "nbconvert_exporter": "python",
   "pygments_lexer": "ipython3",
   "version": "3.13.3"
  }
 },
 "nbformat": 4,
 "nbformat_minor": 5
}
