{
 "cells": [
  {
   "cell_type": "markdown",
   "metadata": {},
   "source": [
    "# 543. Diameter of Binary Tree\n"
   ]
  },
  {
   "cell_type": "markdown",
   "metadata": {},
   "source": [
    "## Topic Alignment\n",
    "- **Role Relevance**: \u8861\u91cf\u6d41\u7a0b\u56fe\u7684\u6700\u957f\u5ef6\u8fdf\u94fe\u8def\u957f\u5ea6.\n",
    "- **Scenario**: \u8bc4\u4f30\u670d\u52a1\u4f9d\u8d56\u6811\u4e2d\u6700\u957f\u7684\u8bf7\u6c42\u8def\u5f84\u4ee5\u9884\u4f30 SLA.\n"
   ]
  },
  {
   "cell_type": "markdown",
   "metadata": {},
   "source": [
    "## Metadata Summary\n",
    "- Source: [Diameter of Binary Tree](https://leetcode.com/problems/diameter-of-binary-tree/)\n",
    "- Tags: `Binary Tree`, `DFS`\n",
    "- Difficulty: Easy\n",
    "- Recommended Priority: Medium\n"
   ]
  },
  {
   "cell_type": "markdown",
   "metadata": {},
   "source": [
    "## Problem Statement\n",
    "Given the root of a binary tree, return the length of the diameter of the tree. The diameter is defined as the number of edges in the longest path between any two nodes.\n"
   ]
  },
  {
   "cell_type": "markdown",
   "metadata": {},
   "source": [
    "## Progressive Hints\n",
    "- \u76f4\u5f84\u53ef\u80fd\u7a7f\u8fc7\u67d0\u4e2a\u8282\u70b9\u7684\u5de6\u53f3\u5b50\u6811, \u56e0\u6b64\u9700\u8981\u540c\u65f6\u8bb0\u5f55\u5de6\u9ad8\u548c\u53f3\u9ad8.\n",
    "- \u9012\u5f52\u8fd4\u56de\u9ad8\u5ea6, \u540c\u65f6\u66f4\u65b0\u5168\u5c40\u6700\u5927\u76f4\u5f84.\n",
    "- \u6ce8\u610f\u8ba1\u7b97\u7684\u662f\u8fb9\u6570\u800c\u975e\u8282\u70b9\u6570.\n"
   ]
  },
  {
   "cell_type": "markdown",
   "metadata": {},
   "source": [
    "## Solution Overview\n",
    "\u901a\u8fc7\u9012\u5f52\u8ba1\u7b97\u5404\u8282\u70b9\u9ad8\u5ea6\u5e76\u66f4\u65b0\u5de6\u53f3\u9ad8\u5ea6\u4e4b\u548c\u7684\u6700\u5927\u503c, \u5f97\u5230\u6574\u68f5\u6811\u7684\u76f4\u5f84.\n"
   ]
  },
  {
   "cell_type": "markdown",
   "metadata": {},
   "source": [
    "## Detailed Explanation\n",
    "1. \u5b9a\u4e49\u9012\u5f52\u51fd\u6570\u8fd4\u56de\u5f53\u524d\u8282\u70b9\u9ad8\u5ea6.\n",
    "2. \u9012\u5f52\u8ba1\u7b97\u5de6\u9ad8\u4e0e\u53f3\u9ad8, \u76f4\u5f84\u5019\u9009\u4e3a left + right.\n",
    "3. \u4f7f\u7528\u5916\u90e8\u53d8\u91cf\u8bb0\u5f55\u76f4\u5f84\u6700\u5927\u503c.\n",
    "4. \u8fd4\u56de max(left, right) + 1 \u4f5c\u4e3a\u5f53\u524d\u9ad8\u5ea6.\n"
   ]
  },
  {
   "cell_type": "markdown",
   "metadata": {},
   "source": [
    "## Complexity Trade-off Table\n",
    "| Approach | Time Complexity | Space Complexity | Notes |\n",
    "| --- | --- | --- | --- |\n",
    "| DFS \u7edf\u8ba1\u9ad8\u5ea6 | O(n) | O(h) | \u5355\u6b21\u904d\u5386\u5b8c\u6210\u8ba1\u7b97 |\n",
    "| \u53cc\u91cd DFS | O(n) | O(h) | \u5148\u627e\u8fdc\u70b9\u518d\u626b\u4e00\u6b21, \u903b\u8f91\u66f4\u590d\u6742 |\n"
   ]
  },
  {
   "cell_type": "markdown",
   "metadata": {},
   "source": [
    "## Reference Implementation\n"
   ]
  },
  {
   "cell_type": "code",
   "execution_count": null,
   "metadata": {},
   "outputs": [],
   "source": [
    "from typing import Optional\n",
    "\n",
    "\n",
    "class TreeNode:\n",
    "    def __init__(self, val: int = 0, left: Optional['TreeNode'] = None, right: Optional['TreeNode'] = None):\n",
    "        self.val = val\n",
    "        self.left = left\n",
    "        self.right = right\n",
    "\n",
    "\n",
    "class Solution:\n",
    "    def diameterOfBinaryTree(self, root: Optional[TreeNode]) -> int:\n",
    "        max_diameter = 0\n",
    "\n",
    "        def height(node: Optional[TreeNode]) -> int:\n",
    "            nonlocal max_diameter\n",
    "            if not node:\n",
    "                return 0\n",
    "            left = height(node.left)\n",
    "            right = height(node.right)\n",
    "            max_diameter = max(max_diameter, left + right)\n",
    "            return max(left, right) + 1\n",
    "\n",
    "        height(root)\n",
    "        return max_diameter\n"
   ]
  },
  {
   "cell_type": "markdown",
   "metadata": {},
   "source": [
    "## Validation\n"
   ]
  },
  {
   "cell_type": "code",
   "execution_count": null,
   "metadata": {},
   "outputs": [],
   "source": [
    "def build_tree(values):\n",
    "    nodes = [None if val is None else TreeNode(val) for val in values]\n",
    "    kids = nodes[::-1]\n",
    "    root = kids.pop() if kids else None\n",
    "    for node in nodes:\n",
    "        if node:\n",
    "            if kids:\n",
    "                node.left = kids.pop()\n",
    "            if kids:\n",
    "                node.right = kids.pop()\n",
    "    return root\n",
    "\n",
    "cases = [\n",
    "    ([1,2,3,4,5], 3),\n",
    "    ([1,2], 1),\n",
    "    ([], 0),\n",
    "]\n",
    "solver = Solution()\n",
    "for tree_vals, expected in cases:\n",
    "    root = build_tree(tree_vals)\n",
    "    result = solver.diameterOfBinaryTree(root)\n",
    "    assert result == expected, f\"diameterOfBinaryTree({tree_vals}) -> {result}, expected {expected}\"\n"
   ]
  },
  {
   "cell_type": "markdown",
   "metadata": {},
   "source": [
    "## Complexity Analysis\n",
    "- \u65f6\u95f4\u590d\u6742\u5ea6: O(n), \u6bcf\u4e2a\u8282\u70b9\u8bbf\u95ee\u4e00\u6b21.\n",
    "- \u7a7a\u95f4\u590d\u6742\u5ea6: O(h), \u9012\u5f52\u6808\u9ad8\u5ea6.\n",
    "- \u74f6\u9888: \u5168\u6811\u904d\u5386\u7684\u9012\u5f52\u5f00\u9500.\n"
   ]
  },
  {
   "cell_type": "markdown",
   "metadata": {},
   "source": [
    "## Edge Cases & Pitfalls\n",
    "- \u5355\u8282\u70b9\u6811\u7684\u76f4\u5f84\u4e3a 0.\n",
    "- \u5de6\u6216\u53f3\u5b50\u6811\u4e3a\u7a7a\u65f6\u76f4\u5f84\u5728\u53e6\u4e00\u4fa7.\n",
    "- \u7ebf\u6027\u94fe\u7ed3\u6784\u76f4\u5f84\u4e3a\u8282\u70b9\u6570\u51cf\u4e00.\n"
   ]
  },
  {
   "cell_type": "markdown",
   "metadata": {},
   "source": [
    "## Follow-up Variants\n",
    "- \u8fd4\u56de\u76f4\u5f84\u8def\u5f84\u4e0a\u7684\u8282\u70b9\u800c\u4e0d\u4ec5\u662f\u957f\u5ea6.\n",
    "- \u6269\u5c55\u5230\u52a0\u6743\u8fb9\u4ee5\u8ba1\u7b97\u6700\u957f\u8def\u5f84\u6743\u91cd.\n",
    "- \u7ed3\u5408\u5e76\u67e5\u96c6\u5904\u7406\u52a8\u6001\u8fde\u8fb9\u60c5\u5f62.\n"
   ]
  },
  {
   "cell_type": "markdown",
   "metadata": {},
   "source": [
    "## Takeaways\n",
    "- \u76f4\u5f84\u95ee\u9898\u4f53\u73b0\u4e86\u6811\u5f62 DP \u540c\u6b65\u8ba1\u7b97\u591a\u7ef4\u4fe1\u606f.\n",
    "- nonlocal \u53d8\u91cf\u4fbf\u4e8e\u5728\u9012\u5f52\u4e2d\u7ef4\u62a4\u5168\u5c40\u7b54\u6848.\n"
   ]
  },
  {
   "cell_type": "markdown",
   "metadata": {},
   "source": [
    "## Similar Problems\n",
    "| Problem ID | Problem Title | Technique |\n",
    "| --- | --- | --- |\n",
    "| 124 | Binary Tree Maximum Path Sum | \u8def\u5f84\u548c\u6700\u5927\u5316 |\n",
    "| 687 | Longest Univalue Path | \u7edf\u8ba1\u540c\u503c\u8def\u5f84 |\n"
   ]
  }
 ],
 "metadata": {
  "kernelspec": {
   "display_name": "Python 3 (ipykernel)",
   "language": "python",
   "name": "python3"
  },
  "language_info": {
   "codemirror_mode": {
    "name": "ipython",
    "version": 3
   },
   "file_extension": ".py",
   "mimetype": "text/x-python",
   "name": "python",
   "nbconvert_exporter": "python",
   "pygments_lexer": "ipython3",
   "version": "3.13.3"
  }
 },
 "nbformat": 4,
 "nbformat_minor": 5
}
