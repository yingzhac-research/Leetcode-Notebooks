{
 "cells": [
  {
   "cell_type": "markdown",
   "metadata": {},
   "source": [
    "# 297. Serialize and Deserialize Binary Tree\n"
   ]
  },
  {
   "cell_type": "markdown",
   "metadata": {},
   "source": [
    "## Topic Alignment\n",
    "- Serialization is required when persisting model topologies or transmitting tree structures between services.\n",
    "- Reliable encode/decode routines underpin configuration snapshots and replayable experiments.\n"
   ]
  },
  {
   "cell_type": "markdown",
   "metadata": {},
   "source": [
    "## Metadata Summary\n",
    "- Source: [Serialize and Deserialize Binary Tree](https://leetcode.com/problems/serialize-and-deserialize-binary-tree/)\n",
    "- Tags: `Binary Tree`, `Design`, `BFS`\n",
    "- Difficulty: Hard\n",
    "- Recommended Priority: High\n"
   ]
  },
  {
   "cell_type": "markdown",
   "metadata": {},
   "source": [
    "## Problem Statement\n",
    "Design an algorithm to serialize and deserialize a binary tree. Serialization converts the tree to a string, and deserialization reconstructs the exact original tree from that string.\n"
   ]
  },
  {
   "cell_type": "markdown",
   "metadata": {},
   "source": [
    "## Progressive Hints\n",
    "- Hint 1: Pick a traversal order (preorder is common) and include null markers to preserve structure.\n",
    "- Hint 2: During deserialization, consume the serialized tokens in the same order they were produced.\n",
    "- Hint 3: Use iterators to avoid repeated slicing or popping from the front of a list.\n"
   ]
  },
  {
   "cell_type": "markdown",
   "metadata": {},
   "source": [
    "## Solution Overview\n",
    "Serialize the tree via preorder traversal, appending a sentinel such as `#` for null children. Join the tokens with a delimiter. To deserialize, split the string back into tokens and rebuild the tree recursively, consuming tokens in preorder.\n"
   ]
  },
  {
   "cell_type": "markdown",
   "metadata": {},
   "source": [
    "## Detailed Explanation\n",
    "1. For serialization, define a helper that appends the node value to a list and recurses on left then right.\n",
    "2. When encountering a `None`, append the sentinel instead of recursing further.\n",
    "3. After traversal, join the token list with commas to produce the serialized string.\n",
    "4. For deserialization, convert the string back into an iterator of tokens.\n",
    "5. Recursively consume tokens: if the current token is the sentinel, return `None`; otherwise create a node and build its left and right children.\n",
    "6. Return the root reconstructed from the iterator.\n"
   ]
  },
  {
   "cell_type": "markdown",
   "metadata": {},
   "source": [
    "## Complexity Trade-off Table\n",
    "| Approach | Time Complexity | Space Complexity | Notes |\n",
    "| --- | --- | --- | --- |\n",
    "| Preorder with sentinel | O(n) | O(n) | Simple and bijective representation |\n",
    "| Level-order serialization | O(n) | O(n) | Produces a breadth-first form; longer strings for sparse trees |\n",
    "| Binary encoding (custom) | O(n) | O(n) | Compact but harder to debug |\n"
   ]
  },
  {
   "cell_type": "markdown",
   "metadata": {},
   "source": [
    "## Reference Implementation\n"
   ]
  },
  {
   "cell_type": "code",
   "execution_count": null,
   "metadata": {},
   "outputs": [],
   "source": [
    "from collections import deque\n",
    "from typing import Optional\n",
    "\n",
    "\n",
    "class TreeNode:\n",
    "    def __init__(self, val: int = 0, left: Optional['TreeNode'] = None, right: Optional['TreeNode'] = None):\n",
    "        self.val = val\n",
    "        self.left = left\n",
    "        self.right = right\n",
    "\n",
    "\n",
    "class Codec:\n",
    "    def serialize(self, root: Optional[TreeNode]) -> str:\n",
    "        if not root:\n",
    "            return ''\n",
    "        queue: deque[Optional[TreeNode]] = deque([root])\n",
    "        output: list[str] = []\n",
    "        while queue:\n",
    "            node = queue.popleft()\n",
    "            if node:\n",
    "                output.append(str(node.val))\n",
    "                queue.append(node.left)\n",
    "                queue.append(node.right)\n",
    "            else:\n",
    "                output.append('#')\n",
    "        while output and output[-1] == '#':\n",
    "            output.pop()\n",
    "        return ','.join(output)\n",
    "\n",
    "    def deserialize(self, data: str) -> Optional[TreeNode]:\n",
    "        if not data:\n",
    "            return None\n",
    "        values = data.split(',')\n",
    "        root = TreeNode(int(values[0]))\n",
    "        queue: deque[TreeNode] = deque([root])\n",
    "        index = 1\n",
    "        while queue and index < len(values):\n",
    "            node = queue.popleft()\n",
    "            if index < len(values) and values[index] != '#':\n",
    "                node.left = TreeNode(int(values[index]))\n",
    "                queue.append(node.left)\n",
    "            index += 1\n",
    "            if index < len(values) and values[index] != '#':\n",
    "                node.right = TreeNode(int(values[index]))\n",
    "                queue.append(node.right)\n",
    "            index += 1\n",
    "        return root\n"
   ]
  },
  {
   "cell_type": "markdown",
   "metadata": {},
   "source": [
    "## Validation\n"
   ]
  },
  {
   "cell_type": "code",
   "execution_count": null,
   "metadata": {},
   "outputs": [],
   "source": [
    "def compare(a: Optional[TreeNode], b: Optional[TreeNode]) -> bool:\n",
    "    if not a and not b:\n",
    "        return True\n",
    "    if not a or not b:\n",
    "        return False\n",
    "    return a.val == b.val and compare(a.left, b.left) and compare(a.right, b.right)\n",
    "\n",
    "codec = Codec()\n",
    "root = TreeNode(1, TreeNode(2), TreeNode(3, TreeNode(4), TreeNode(5)))\n",
    "data = codec.serialize(root)\n",
    "restored = codec.deserialize(data)\n",
    "assert compare(root, restored), 'Tree should be identical after round trip'\n",
    "assert codec.serialize(None) == '', 'Empty tree serialization should be empty string'\n"
   ]
  },
  {
   "cell_type": "markdown",
   "metadata": {},
   "source": [
    "## Complexity Analysis\n",
    "- Time: O(n) to serialize and O(n) to deserialize, visiting every node once.\n",
    "- Space: O(n) for the token list or recursion stack during deserialization.\n",
    "- Bottleneck: String size grows linearly with the number of nodes and sentinels.\n"
   ]
  },
  {
   "cell_type": "markdown",
   "metadata": {},
   "source": [
    "## Edge Cases & Pitfalls\n",
    "- Ensure leaf children emit sentinel markers; otherwise structure cannot be recovered.\n",
    "- Avoid using characters that conflict with the chosen delimiter.\n",
    "- Handle empty input by returning `None` immediately.\n"
   ]
  },
  {
   "cell_type": "markdown",
   "metadata": {},
   "source": [
    "## Follow-up Variants\n",
    "- Serialize into binary format for compact storage when bandwidth is constrained.\n",
    "- Support streaming by writing tokens to a generator rather than building a full list.\n",
    "- Add version headers or checksum fields to detect corruption during transport.\n"
   ]
  },
  {
   "cell_type": "markdown",
   "metadata": {},
   "source": [
    "## Takeaways\n",
    "- Matching traversal order between serialization and deserialization guarantees correctness.\n",
    "- Sentinels are a simple yet powerful way to preserve null structure.\n",
    "- Iterator-based reconstruction avoids quadratic behavior from repeated list pops.\n"
   ]
  },
  {
   "cell_type": "markdown",
   "metadata": {},
   "source": [
    "## Similar Problems\n",
    "| Problem ID | Problem Title | Technique |\n",
    "| --- | --- | --- |\n",
    "| 449 | Serialize and Deserialize BST | Exploits BST property to omit sentinels |\n",
    "| 652 | Find Duplicate Subtrees | Serialization to detect duplicates |\n",
    "| 428 | Serialize and Deserialize N-ary Tree | Extends preorder to variable arity |\n"
   ]
  }
 ],
 "metadata": {
  "kernelspec": {
   "display_name": "Python 3 (ipykernel)",
   "language": "python",
   "name": "python3"
  },
  "language_info": {
   "codemirror_mode": {
    "name": "ipython",
    "version": 3
   },
   "file_extension": ".py",
   "mimetype": "text/x-python",
   "name": "python",
   "nbconvert_exporter": "python",
   "pygments_lexer": "ipython3",
   "version": "3.13.3"
  }
 },
 "nbformat": 4,
 "nbformat_minor": 5
}