{
 "cells": [
  {
   "cell_type": "markdown",
   "metadata": {},
   "source": [
    "# 110. Balanced Binary Tree\n"
   ]
  },
  {
   "cell_type": "markdown",
   "metadata": {},
   "source": [
    "## Topic Alignment\n",
    "- Balance checks ensure tree-backed indexes do not degrade query latency in serving systems.\n",
    "- Validating height differences is common when rolling out schema migrations that manipulate tree shapes.\n"
   ]
  },
  {
   "cell_type": "markdown",
   "metadata": {},
   "source": [
    "## Metadata Summary\n",
    "- Source: [Balanced Binary Tree](https://leetcode.com/problems/balanced-binary-tree/)\n",
    "- Tags: `Binary Tree`, `DFS`\n",
    "- Difficulty: Easy\n",
    "- Recommended Priority: Medium\n"
   ]
  },
  {
   "cell_type": "markdown",
   "metadata": {},
   "source": [
    "## Problem Statement\n",
    "Given a binary tree, determine if it is height-balanced. A height-balanced tree is defined as a binary tree in which the left and right subtrees of every node differ in height by no more than one.\n"
   ]
  },
  {
   "cell_type": "markdown",
   "metadata": {},
   "source": [
    "## Progressive Hints\n",
    "- Hint 1: Use a post-order traversal that returns the height of each subtree.\n",
    "- Hint 2: Encode an imbalance with a sentinel (for example `-1`) so you can short-circuit once detected.\n",
    "- Hint 3: Immediately stop exploring a branch if either child reports it is already unbalanced.\n"
   ]
  },
  {
   "cell_type": "markdown",
   "metadata": {},
   "source": [
    "## Solution Overview\n",
    "Traverse the tree bottom-up. For each node, recursively obtain the heights of the left and right subtrees. If the absolute difference exceeds one, propagate a failure marker upward. Otherwise return the height `max(left, right) + 1`. The tree is balanced if the root call does not return the failure marker.\n"
   ]
  },
  {
   "cell_type": "markdown",
   "metadata": {},
   "source": [
    "## Detailed Explanation\n",
    "1. Define a helper that returns the subtree height, or `-1` if the subtree is unbalanced.\n",
    "2. Recursively compute `left = helper(node.left)`. If `left` is `-1`, bubble up `-1` immediately.\n",
    "3. Recursively compute `right = helper(node.right)` and perform the same early exit.\n",
    "4. If `abs(left - right) > 1`, return `-1`; otherwise return `max(left, right) + 1`.\n",
    "5. The tree is balanced when the helper invoked on the root returns a non-negative value.\n"
   ]
  },
  {
   "cell_type": "markdown",
   "metadata": {},
   "source": [
    "## Complexity Trade-off Table\n",
    "| Approach | Time Complexity | Space Complexity | Notes |\n",
    "| --- | --- | --- | --- |\n",
    "| Bottom-up DFS with sentinel | O(n) | O(h) | Visits each node once; early exits on imbalance |\n",
    "| Naive height recomputation | O(n·h) | O(h) | Recomputes heights per node; fails on skewed trees |\n"
   ]
  },
  {
   "cell_type": "markdown",
   "metadata": {},
   "source": [
    "## Reference Implementation\n"
   ]
  },
  {
   "cell_type": "code",
   "execution_count": null,
   "metadata": {},
   "outputs": [],
   "source": [
    "from typing import Optional\n",
    "\n",
    "\n",
    "class TreeNode:\n",
    "    def __init__(self, val: int = 0, left: Optional['TreeNode'] = None, right: Optional['TreeNode'] = None):\n",
    "        self.val = val\n",
    "        self.left = left\n",
    "        self.right = right\n",
    "\n",
    "\n",
    "class Solution:\n",
    "    def isBalanced(self, root: Optional[TreeNode]) -> bool:\n",
    "        def height(node: Optional[TreeNode]) -> int:\n",
    "            if not node:\n",
    "                return 0\n",
    "            left = height(node.left)\n",
    "            if left == -1:\n",
    "                return -1\n",
    "            right = height(node.right)\n",
    "            if right == -1:\n",
    "                return -1\n",
    "            if abs(left - right) > 1:\n",
    "                return -1\n",
    "            return max(left, right) + 1\n",
    "\n",
    "        return height(root) != -1\n"
   ]
  },
  {
   "cell_type": "markdown",
   "metadata": {},
   "source": [
    "## Validation\n"
   ]
  },
  {
   "cell_type": "code",
   "execution_count": null,
   "metadata": {},
   "outputs": [],
   "source": [
    "def build_tree(values):\n",
    "    nodes = [None if val is None else TreeNode(val) for val in values]\n",
    "    kids = nodes[::-1]\n",
    "    root = kids.pop() if kids else None\n",
    "    for node in nodes:\n",
    "        if node:\n",
    "            if kids:\n",
    "                node.left = kids.pop()\n",
    "            if kids:\n",
    "                node.right = kids.pop()\n",
    "    return root\n",
    "\n",
    "cases = [\n",
    "    ([3,9,20,None,None,15,7], True),\n",
    "    ([1,2,2,3,3,None,None,4,4], False),\n",
    "    ([], True),\n",
    "]\n",
    "solver = Solution()\n",
    "for tree_vals, expected in cases:\n",
    "    root = build_tree(tree_vals)\n",
    "    result = solver.isBalanced(root)\n",
    "    assert result == expected, f\"isBalanced({tree_vals}) -> {result}, expected {expected}\"\n"
   ]
  },
  {
   "cell_type": "markdown",
   "metadata": {},
   "source": [
    "## Complexity Analysis\n",
    "- Time: O(n) because each node contributes to the height calculation at most once.\n",
    "- Space: O(h) for recursion where `h` is tree height.\n",
    "- Bottleneck: Still traverses the whole tree even when only one deep branch is unbalanced.\n"
   ]
  },
  {
   "cell_type": "markdown",
   "metadata": {},
   "source": [
    "## Edge Cases & Pitfalls\n",
    "- Treat an empty tree as balanced.\n",
    "- Single-node trees should return `True`.\n",
    "- Remember to propagate the sentinel upward so you do not continue work after detecting an imbalance.\n"
   ]
  },
  {
   "cell_type": "markdown",
   "metadata": {},
   "source": [
    "## Follow-up Variants\n",
    "- Extend the helper to also report the size of each subtree for capacity planning.\n",
    "- Support k-ary trees by generalizing the height comparison to all children.\n",
    "- Maintain balance information dynamically while inserting or deleting nodes.\n"
   ]
  },
  {
   "cell_type": "markdown",
   "metadata": {},
   "source": [
    "## Takeaways\n",
    "- Combining height computation with balance verification avoids redundant traversals.\n",
    "- Using sentinel values is an effective pattern for early exits in recursive algorithms.\n",
    "- Bottom-up reasoning is a hallmark of many tree-dynamic-programming problems.\n"
   ]
  },
  {
   "cell_type": "markdown",
   "metadata": {},
   "source": [
    "## Similar Problems\n",
    "| Problem ID | Problem Title | Technique |\n",
    "| --- | --- | --- |\n",
    "| 104 | Maximum Depth of Binary Tree | DFS height accumulation |\n",
    "| 543 | Diameter of Binary Tree | DFS tracking two longest paths |\n",
    "| 124 | Binary Tree Maximum Path Sum | DFS combining child gains |\n"
   ]
  }
 ],
 "metadata": {
  "kernelspec": {
   "display_name": "Python 3 (ipykernel)",
   "language": "python",
   "name": "python3"
  },
  "language_info": {
   "codemirror_mode": {
    "name": "ipython",
    "version": 3
   },
   "file_extension": ".py",
   "mimetype": "text/x-python",
   "name": "python",
   "nbconvert_exporter": "python",
   "pygments_lexer": "ipython3",
   "version": "3.13.3"
  }
 },
 "nbformat": 4,
 "nbformat_minor": 5
}