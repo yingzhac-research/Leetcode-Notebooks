{
 "cells": [
  {
   "cell_type": "markdown",
   "metadata": {},
   "source": [
    "# 102. Binary Tree Level Order Traversal\n"
   ]
  },
  {
   "cell_type": "markdown",
   "metadata": {},
   "source": [
    "## Topic Alignment\n",
    "- Level-order traversals underpin hierarchical logging pipelines that aggregate metrics per depth.\n",
    "- Useful when exporting tree structures to JSON for visualization because each level is already grouped.\n"
   ]
  },
  {
   "cell_type": "markdown",
   "metadata": {},
   "source": [
    "## Metadata Summary\n",
    "- Source: [Binary Tree Level Order Traversal](https://leetcode.com/problems/binary-tree-level-order-traversal/)\n",
    "- Tags: `Binary Tree`, `BFS`\n",
    "- Difficulty: Medium\n",
    "- Recommended Priority: High\n"
   ]
  },
  {
   "cell_type": "markdown",
   "metadata": {},
   "source": [
    "## Problem Statement\n",
    "Given the root of a binary tree, return the level order traversal of its nodes' values as a list of lists. Level order traversal visits nodes level by level from left to right.\n"
   ]
  },
  {
   "cell_type": "markdown",
   "metadata": {},
   "source": [
    "## Progressive Hints\n",
    "- Hint 1: Use a queue so you can process the tree breadth-first, level by level.\n",
    "- Hint 2: Capture `len(queue)` before iterating so you know how many nodes belong to the current level.\n",
    "- Hint 3: Append children in left-to-right order to preserve the required output sequencing.\n"
   ]
  },
  {
   "cell_type": "markdown",
   "metadata": {},
   "source": [
    "## Solution Overview\n",
    "Perform a breadth-first search starting from the root. At each iteration record the queue length, pop exactly that many nodes, collect their values, and enqueue their non-null children. Append the collected level values to the answer. Repeat until the queue is empty, yielding an array of arrays ordered from top to bottom.\n"
   ]
  },
  {
   "cell_type": "markdown",
   "metadata": {},
   "source": [
    "## Detailed Explanation\n",
    "1. Return an empty list immediately if `root` is `None`.\n",
    "2. Initialize a queue with the root node and an empty output list `levels`.\n",
    "3. While the queue is not empty:\n",
    "   - Store `size = len(queue)` and initialize an empty list `level`.\n",
    "   - Loop `size` times, each time popping the left-most node, appending its value to `level`, and enqueueing its left and right children when they exist.\n",
    "   - Append `level` to `levels`.\n",
    "4. After the loop, return `levels` which now contains one list per depth.\n"
   ]
  },
  {
   "cell_type": "markdown",
   "metadata": {},
   "source": [
    "## Complexity Trade-off Table\n",
    "| Approach | Time Complexity | Space Complexity | Notes |\n",
    "| --- | --- | --- | --- |\n",
    "| BFS with queue | O(n) | O(n) | Processes nodes level by level; queue stores one level at a time |\n",
    "| DFS with depth buckets | O(n) | O(h) | Recursively appends values to lists indexed by depth |\n"
   ]
  },
  {
   "cell_type": "markdown",
   "metadata": {},
   "source": [
    "## Reference Implementation\n"
   ]
  },
  {
   "cell_type": "code",
   "execution_count": null,
   "metadata": {},
   "outputs": [],
   "source": [
    "from collections import deque\n",
    "from typing import List, Optional\n",
    "\n",
    "\n",
    "class TreeNode:\n",
    "    def __init__(self, val: int = 0, left: Optional['TreeNode'] = None, right: Optional['TreeNode'] = None):\n",
    "        self.val = val\n",
    "        self.left = left\n",
    "        self.right = right\n",
    "\n",
    "\n",
    "class Solution:\n",
    "    def levelOrder(self, root: Optional[TreeNode]) -> List[List[int]]:\n",
    "        if not root:\n",
    "            return []\n",
    "        queue: deque[TreeNode] = deque([root])\n",
    "        levels: List[List[int]] = []\n",
    "        while queue:\n",
    "            level_size = len(queue)\n",
    "            level_values: List[int] = []\n",
    "            for _ in range(level_size):\n",
    "                node = queue.popleft()\n",
    "                level_values.append(node.val)\n",
    "                if node.left:\n",
    "                    queue.append(node.left)\n",
    "                if node.right:\n",
    "                    queue.append(node.right)\n",
    "            levels.append(level_values)\n",
    "        return levels\n"
   ]
  },
  {
   "cell_type": "markdown",
   "metadata": {},
   "source": [
    "## Validation\n"
   ]
  },
  {
   "cell_type": "code",
   "execution_count": null,
   "metadata": {},
   "outputs": [],
   "source": [
    "def build_tree(values):\n",
    "    nodes = [None if val is None else TreeNode(val) for val in values]\n",
    "    kids = nodes[::-1]\n",
    "    root = kids.pop() if kids else None\n",
    "    for node in nodes:\n",
    "        if node:\n",
    "            if kids:\n",
    "                node.left = kids.pop()\n",
    "            if kids:\n",
    "                node.right = kids.pop()\n",
    "    return root\n",
    "\n",
    "cases = [\n",
    "    ([3,9,20,None,None,15,7], [[3],[9,20],[15,7]]),\n",
    "    ([], []),\n",
    "    ([1], [[1]]),\n",
    "]\n",
    "solver = Solution()\n",
    "for tree_vals, expected in cases:\n",
    "    root = build_tree(tree_vals)\n",
    "    result = solver.levelOrder(root)\n",
    "    assert result == expected, f\"levelOrder({tree_vals}) -> {result}, expected {expected}\"\n"
   ]
  },
  {
   "cell_type": "markdown",
   "metadata": {},
   "source": [
    "## Complexity Analysis\n",
    "- Time: O(n) because each node is enqueued and dequeued exactly once.\n",
    "- Space: O(n) in the worst case when the bottom level contains roughly n/2 nodes.\n",
    "- Bottleneck: Queue storage on wide, balanced trees.\n"
   ]
  },
  {
   "cell_type": "markdown",
   "metadata": {},
   "source": [
    "## Edge Cases & Pitfalls\n",
    "- Handle the empty tree by returning `[]` instead of `[[]]`.\n",
    "- Single-node trees should still produce one level containing just the root value.\n",
    "- Skip `None` children so you never enqueue placeholder nodes.\n"
   ]
  },
  {
   "cell_type": "markdown",
   "metadata": {},
   "source": [
    "## Follow-up Variants\n",
    "- Produce zigzag order by reversing every other level before appending.\n",
    "- Compute per-level aggregates such as sums or averages alongside the traversal.\n",
    "- Stream the traversal for very large trees by yielding each level instead of materializing the entire list.\n"
   ]
  },
  {
   "cell_type": "markdown",
   "metadata": {},
   "source": [
    "## Takeaways\n",
    "- BFS with a queue is the canonical way to generate top-down level groupings.\n",
    "- Capturing the queue length upfront cleanly separates levels.\n",
    "- The pattern adapts to many metrics by adjusting the per-node work inside the level loop.\n"
   ]
  },
  {
   "cell_type": "markdown",
   "metadata": {},
   "source": [
    "## Similar Problems\n",
    "| Problem ID | Problem Title | Technique |\n",
    "| --- | --- | --- |\n",
    "| 103 | Binary Tree Zigzag Level Order Traversal | BFS with alternating output order |\n",
    "| 515 | Find Largest Value in Each Tree Row | BFS computing per-level maximums |\n",
    "| 637 | Average of Levels in Binary Tree | BFS or DFS computing averages |\n"
   ]
  }
 ],
 "metadata": {
  "kernelspec": {
   "display_name": "Python 3 (ipykernel)",
   "language": "python",
   "name": "python3"
  },
  "language_info": {
   "codemirror_mode": {
    "name": "ipython",
    "version": 3
   },
   "file_extension": ".py",
   "mimetype": "text/x-python",
   "name": "python",
   "nbconvert_exporter": "python",
   "pygments_lexer": "ipython3",
   "version": "3.13.3"
  }
 },
 "nbformat": 4,
 "nbformat_minor": 5
}