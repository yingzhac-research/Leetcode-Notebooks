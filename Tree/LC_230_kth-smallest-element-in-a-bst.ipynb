{
 "cells": [
  {
   "cell_type": "markdown",
   "metadata": {},
   "source": [
    "# 230. Kth Smallest Element in a BST\n"
   ]
  },
  {
   "cell_type": "markdown",
   "metadata": {},
   "source": [
    "## Topic Alignment\n",
    "- Order-statistic queries are common in ranking systems where items are stored in BST-backed indices.\n",
    "- Supports on-call tooling that needs to peek at the k-th configuration without materializing the whole list.\n"
   ]
  },
  {
   "cell_type": "markdown",
   "metadata": {},
   "source": [
    "## Metadata Summary\n",
    "- Source: [Kth Smallest Element in a BST](https://leetcode.com/problems/kth-smallest-element-in-a-bst/)\n",
    "- Tags: `Binary Search Tree`, `Inorder`\n",
    "- Difficulty: Medium\n",
    "- Recommended Priority: High\n"
   ]
  },
  {
   "cell_type": "markdown",
   "metadata": {},
   "source": [
    "## Problem Statement\n",
    "Given the root of a binary search tree and an integer k, return the k-th smallest value (1-indexed) of all the values of the nodes in the tree.\n"
   ]
  },
  {
   "cell_type": "markdown",
   "metadata": {},
   "source": [
    "## Progressive Hints\n",
    "- Hint 1: In-order traversal of a BST yields values in ascending order.\n",
    "- Hint 2: Track how many nodes have been visited; stop once you reach `k`.\n",
    "- Hint 3: An iterative traversal with a stack avoids recursion limits if the tree is deep.\n"
   ]
  },
  {
   "cell_type": "markdown",
   "metadata": {},
   "source": [
    "## Solution Overview\n",
    "Perform an in-order traversal. As you visit nodes, increment a counter. When the counter equals `k`, capture the current node's value and stop exploring. Return the recorded value.\n"
   ]
  },
  {
   "cell_type": "markdown",
   "metadata": {},
   "source": [
    "## Detailed Explanation\n",
    "1. Initialize a stack (or rely on recursion) to perform in-order traversal.\n",
    "2. Traverse left children until you reach a `None`, pushing nodes onto the stack.\n",
    "3. Pop from the stack, decrement `k`, and if `k == 0` return the node's value.\n",
    "4. Move to the right child and repeat the process until the answer is found.\n"
   ]
  },
  {
   "cell_type": "markdown",
   "metadata": {},
   "source": [
    "## Complexity Trade-off Table\n",
    "| Approach | Time Complexity | Space Complexity | Notes |\n",
    "| --- | --- | --- | --- |\n",
    "| In-order traversal | O(h + k) | O(h) | Visits nodes until the k-th smallest; `h` is tree height |\n",
    "| Recursive traversal | O(h + k) | O(h) | Same asymptotics, simpler code if recursion is acceptable |\n",
    "| Min-heap over nodes | O(n log n) | O(n) | Overkill; useful only when tree is not a BST |\n"
   ]
  },
  {
   "cell_type": "markdown",
   "metadata": {},
   "source": [
    "## Reference Implementation\n"
   ]
  },
  {
   "cell_type": "code",
   "execution_count": null,
   "metadata": {},
   "outputs": [],
   "source": [
    "from typing import Optional\n",
    "\n",
    "\n",
    "class TreeNode:\n",
    "    def __init__(self, val: int = 0, left: Optional['TreeNode'] = None, right: Optional['TreeNode'] = None):\n",
    "        self.val = val\n",
    "        self.left = left\n",
    "        self.right = right\n",
    "\n",
    "\n",
    "class Solution:\n",
    "    def kthSmallest(self, root: Optional[TreeNode], k: int) -> int:\n",
    "        stack = []\n",
    "        current = root\n",
    "        while True:\n",
    "            while current:\n",
    "                stack.append(current)\n",
    "                current = current.left\n",
    "            current = stack.pop()\n",
    "            k -= 1\n",
    "            if k == 0:\n",
    "                return current.val\n",
    "            current = current.right\n"
   ]
  },
  {
   "cell_type": "markdown",
   "metadata": {},
   "source": [
    "## Validation\n"
   ]
  },
  {
   "cell_type": "code",
   "execution_count": null,
   "metadata": {},
   "outputs": [],
   "source": [
    "def build_tree(values):\n",
    "    nodes = [None if val is None else TreeNode(val) for val in values]\n",
    "    kids = nodes[::-1]\n",
    "    root = kids.pop() if kids else None\n",
    "    for node in nodes:\n",
    "        if node:\n",
    "            if kids:\n",
    "                node.left = kids.pop()\n",
    "            if kids:\n",
    "                node.right = kids.pop()\n",
    "    return root\n",
    "\n",
    "cases = [\n",
    "    ([3,1,4,None,2], 1, 1),\n",
    "    ([5,3,6,2,4,None,None,1], 3, 3),\n",
    "]\n",
    "solver = Solution()\n",
    "for tree_vals, k, expected in cases:\n",
    "    root = build_tree(tree_vals)\n",
    "    result = solver.kthSmallest(root, k)\n",
    "    assert result == expected, f\"kthSmallest({tree_vals}, {k}) -> {result}, expected {expected}\"\n"
   ]
  },
  {
   "cell_type": "markdown",
   "metadata": {},
   "source": [
    "## Complexity Analysis\n",
    "- Time: O(h + k) because we traverse down to the k-th node and stop early.\n",
    "- Space: O(h) for the traversal stack.\n",
    "- Bottleneck: Fully degenerate trees push `h` close to `n`, increasing both time and space.\n"
   ]
  },
  {
   "cell_type": "markdown",
   "metadata": {},
   "source": [
    "## Edge Cases & Pitfalls\n",
    "- Validate that `k` is within `[1, n]`; the problem guarantees it but production code should check.\n",
    "- Remember that duplicates do not exist in standard BST definitions; if they did, clarify ordering rules.\n",
    "- Avoid scanning the entire tree when `k` is small—stop as soon as the answer is found.\n"
   ]
  },
  {
   "cell_type": "markdown",
   "metadata": {},
   "source": [
    "## Follow-up Variants\n",
    "- Handle frequent updates by augmenting each node with the size of its left subtree.\n",
    "- Support k-th largest queries by traversing in reverse (right, node, left).\n",
    "- Extend to streaming scenarios by maintaining a min-heap of size `k` when the tree property is absent.\n"
   ]
  },
  {
   "cell_type": "markdown",
   "metadata": {},
   "source": [
    "## Takeaways\n",
    "- BST invariants let you answer order-statistic queries with partial traversals.\n",
    "- Converting recursion to an explicit stack is straightforward and more robust under varying tree shapes.\n",
    "- Augmenting nodes with subtree sizes is a natural optimization when queries are numerous.\n"
   ]
  },
  {
   "cell_type": "markdown",
   "metadata": {},
   "source": [
    "## Similar Problems\n",
    "| Problem ID | Problem Title | Technique |\n",
    "| --- | --- | --- |\n",
    "| 173 | Binary Search Tree Iterator | Controlled in-order traversal |\n",
    "| 538 | Convert BST to Greater Tree | Reverse in-order accumulation |\n",
    "| 703 | Kth Largest Element in a Stream | Heap maintaining k-th order statistic |\n"
   ]
  }
 ],
 "metadata": {
  "kernelspec": {
   "display_name": "Python 3 (ipykernel)",
   "language": "python",
   "name": "python3"
  },
  "language_info": {
   "codemirror_mode": {
    "name": "ipython",
    "version": 3
   },
   "file_extension": ".py",
   "mimetype": "text/x-python",
   "name": "python",
   "nbconvert_exporter": "python",
   "pygments_lexer": "ipython3",
   "version": "3.13.3"
  }
 },
 "nbformat": 4,
 "nbformat_minor": 5
}