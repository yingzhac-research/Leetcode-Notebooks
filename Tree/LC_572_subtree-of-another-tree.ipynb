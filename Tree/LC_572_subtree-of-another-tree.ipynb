{
 "cells": [
  {
   "cell_type": "markdown",
   "metadata": {},
   "source": [
    "# 572. Subtree of Another Tree\n"
   ]
  },
  {
   "cell_type": "markdown",
   "metadata": {},
   "source": [
    "## Topic Alignment\n",
    "- Subtree matching supports configuration drift detection when comparing asset snapshots.\n",
    "- Helps validate template reuse by confirming that a candidate tree embeds within a larger structure.\n"
   ]
  },
  {
   "cell_type": "markdown",
   "metadata": {},
   "source": [
    "## Metadata Summary\n",
    "- Source: [Subtree of Another Tree](https://leetcode.com/problems/subtree-of-another-tree/)\n",
    "- Tags: `Binary Tree`, `DFS`\n",
    "- Difficulty: Easy\n",
    "- Recommended Priority: Low\n"
   ]
  },
  {
   "cell_type": "markdown",
   "metadata": {},
   "source": [
    "## Problem Statement\n",
    "Given the roots of two binary trees root and subRoot, return true if root contains a subtree that is structurally identical to subRoot and has the same node values.\n"
   ]
  },
  {
   "cell_type": "markdown",
   "metadata": {},
   "source": [
    "## Progressive Hints\n",
    "- Hint 1: Traverse the larger tree; whenever you find a node with the same value as the smaller tree's root, compare subtrees.\n",
    "- Hint 2: A helper that checks structural equality of two trees keeps the code clean.\n",
    "- Hint 3: Early exit once a match is found to avoid unnecessary work.\n"
   ]
  },
  {
   "cell_type": "markdown",
   "metadata": {},
   "source": [
    "## Solution Overview\n",
    "Perform DFS over the main tree. For each node, invoke a `sameTree` helper that recursively checks whether two trees match in value and structure. If any node matches, return `True`; otherwise continue searching.\n"
   ]
  },
  {
   "cell_type": "markdown",
   "metadata": {},
   "source": [
    "## Detailed Explanation\n",
    "1. If the smaller tree `subRoot` is `None`, return `True` because an empty tree is trivially a subtree.\n",
    "2. If the main tree `root` is `None`, return `False` because there is nothing left to match.\n",
    "3. If `root.val == subRoot.val` and `sameTree(root, subRoot)` returns `True`, return `True`.\n",
    "4. Recursively check the left and right children by calling `isSubtree(root.left, subRoot)` or `isSubtree(root.right, subRoot)`.\n",
    "5. The `sameTree` helper returns `True` only when both nodes match and their respective children also match.\n"
   ]
  },
  {
   "cell_type": "markdown",
   "metadata": {},
   "source": [
    "## Complexity Trade-off Table\n",
    "| Approach | Time Complexity | Space Complexity | Notes |\n",
    "| --- | --- | --- | --- |\n",
    "| DFS with tree comparison | O(n·m) worst case | O(h) | `n` nodes in root, `m` nodes in subRoot; good average-case |\n",
    "| Serialize + substring search | O(n + m) | O(n + m) | Convert to strings and use KMP; careful with delimiters |\n",
    "| Hash-based subtree matching | O(n) average | O(n) | Merkle-hash style comparison with collision considerations |\n"
   ]
  },
  {
   "cell_type": "markdown",
   "metadata": {},
   "source": [
    "## Reference Implementation\n"
   ]
  },
  {
   "cell_type": "code",
   "execution_count": null,
   "metadata": {},
   "outputs": [],
   "source": [
    "from typing import Optional\n",
    "\n",
    "\n",
    "class TreeNode:\n",
    "    def __init__(self, val: int = 0, left: Optional['TreeNode'] = None, right: Optional['TreeNode'] = None):\n",
    "        self.val = val\n",
    "        self.left = left\n",
    "        self.right = right\n",
    "\n",
    "\n",
    "class Solution:\n",
    "    def isSubtree(self, root: Optional[TreeNode], subRoot: Optional[TreeNode]) -> bool:\n",
    "        if not subRoot:\n",
    "            return True\n",
    "        if not root:\n",
    "            return False\n",
    "        if self._same_tree(root, subRoot):\n",
    "            return True\n",
    "        return self.isSubtree(root.left, subRoot) or self.isSubtree(root.right, subRoot)\n",
    "\n",
    "    def _same_tree(self, a: Optional[TreeNode], b: Optional[TreeNode]) -> bool:\n",
    "        if not a and not b:\n",
    "            return True\n",
    "        if not a or not b:\n",
    "            return False\n",
    "        if a.val != b.val:\n",
    "            return False\n",
    "        return self._same_tree(a.left, b.left) and self._same_tree(a.right, b.right)\n"
   ]
  },
  {
   "cell_type": "markdown",
   "metadata": {},
   "source": [
    "## Validation\n"
   ]
  },
  {
   "cell_type": "code",
   "execution_count": null,
   "metadata": {},
   "outputs": [],
   "source": [
    "def build_tree(values):\n",
    "    nodes = [None if val is None else TreeNode(val) for val in values]\n",
    "    kids = nodes[::-1]\n",
    "    root = kids.pop() if kids else None\n",
    "    for node in nodes:\n",
    "        if node:\n",
    "            if kids:\n",
    "                node.left = kids.pop()\n",
    "            if kids:\n",
    "                node.right = kids.pop()\n",
    "    return root\n",
    "\n",
    "cases = [\n",
    "    ([3,4,5,1,2], [4,1,2], True),\n",
    "    ([3,4,5,1,2,None,None,None,None,0], [4,1,2], False),\n",
    "]\n",
    "solver = Solution()\n",
    "for root_vals, sub_vals, expected in cases:\n",
    "    root = build_tree(root_vals)\n",
    "    sub_root = build_tree(sub_vals)\n",
    "    result = solver.isSubtree(root, sub_root)\n",
    "    assert result == expected, f\"isSubtree({root_vals}, {sub_vals}) -> {result}, expected {expected}\"\n"
   ]
  },
  {
   "cell_type": "markdown",
   "metadata": {},
   "source": [
    "## Complexity Analysis\n",
    "- Time: O(n·m) in the worst case (degenerate trees), but typically faster when values diverge early.\n",
    "- Space: O(h) for recursion, where `h` is height of the main tree.\n",
    "- Bottleneck: Repeated equality checks on large identical subtrees.\n"
   ]
  },
  {
   "cell_type": "markdown",
   "metadata": {},
   "source": [
    "## Edge Cases & Pitfalls\n",
    "- Remember that identical structure and values are both required.\n",
    "- Treat a `None` `subRoot` as a valid subtree of any tree.\n",
    "- Avoid global state inside the equality helper; rely on return values instead.\n"
   ]
  },
  {
   "cell_type": "markdown",
   "metadata": {},
   "source": [
    "## Follow-up Variants\n",
    "- Use tree hashing (e.g., rolling hash) to compare subtrees in near-linear time.\n",
    "- Support subtree counts instead of boolean existence to measure duplication.\n",
    "- Extend to unordered trees by comparing multisets of child hashes.\n"
   ]
  },
  {
   "cell_type": "markdown",
   "metadata": {},
   "source": [
    "## Takeaways\n",
    "- Decomposing the problem into traversal plus equality testing keeps the logic modular.\n",
    "- Early exits dramatically improve performance when mismatches are common.\n",
    "- Serialization or hashing techniques can optimize repeated comparisons when performance is critical.\n"
   ]
  },
  {
   "cell_type": "markdown",
   "metadata": {},
   "source": [
    "## Similar Problems\n",
    "| Problem ID | Problem Title | Technique |\n",
    "| --- | --- | --- |\n",
    "| 100 | Same Tree | Recursive equality check |\n",
    "| 101 | Symmetric Tree | Mirror comparison |\n",
    "| 652 | Find Duplicate Subtrees | Deduplicate using hashing or serialization |\n"
   ]
  }
 ],
 "metadata": {
  "kernelspec": {
   "display_name": "Python 3 (ipykernel)",
   "language": "python",
   "name": "python3"
  },
  "language_info": {
   "codemirror_mode": {
    "name": "ipython",
    "version": 3
   },
   "file_extension": ".py",
   "mimetype": "text/x-python",
   "name": "python",
   "nbconvert_exporter": "python",
   "pygments_lexer": "ipython3",
   "version": "3.13.3"
  }
 },
 "nbformat": 4,
 "nbformat_minor": 5
}