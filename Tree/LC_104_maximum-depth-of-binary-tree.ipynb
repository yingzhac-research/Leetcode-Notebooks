{
 "cells": [
  {
   "cell_type": "markdown",
   "metadata": {},
   "source": [
    "# 104. Maximum Depth of Binary Tree\n"
   ]
  },
  {
   "cell_type": "markdown",
   "metadata": {},
   "source": [
    "## Topic Alignment\n",
    "- Maximum depth estimation guides recursion limits for tree-shaped configurations in production systems.\n",
    "- Helps characterize worst-case latency in hierarchical inference pipelines by measuring the longest dependency chain.\n"
   ]
  },
  {
   "cell_type": "markdown",
   "metadata": {},
   "source": [
    "## Metadata Summary\n",
    "- Source: [Maximum Depth of Binary Tree](https://leetcode.com/problems/maximum-depth-of-binary-tree/)\n",
    "- Tags: `Binary Tree`, `DFS`\n",
    "- Difficulty: Easy\n",
    "- Recommended Priority: Medium\n"
   ]
  },
  {
   "cell_type": "markdown",
   "metadata": {},
   "source": [
    "## Problem Statement\n",
    "Given the root of a binary tree, return its maximum depth. The maximum depth is the number of nodes along the longest path from the root node down to a leaf.\n"
   ]
  },
  {
   "cell_type": "markdown",
   "metadata": {},
   "source": [
    "## Progressive Hints\n",
    "- Hint 1: Define a recursive helper that returns the height of a subtree.\n",
    "- Hint 2: The height of a `None` node is zero; leaf nodes contribute one.\n",
    "- Hint 3: You can also compute depth iteratively with BFS by counting levels if recursion is constrained.\n"
   ]
  },
  {
   "cell_type": "markdown",
   "metadata": {},
   "source": [
    "## Solution Overview\n",
    "Use depth-first search. For each node, recursively compute the maximum depth of its left and right subtrees, add one for the current node, and return the maximum of the two. The final answer is the value returned for the root.\n"
   ]
  },
  {
   "cell_type": "markdown",
   "metadata": {},
   "source": [
    "## Detailed Explanation\n",
    "1. If the current node is `None`, return `0` because empty subtrees contribute no depth.\n",
    "2. Recursively compute `left = maxDepth(node.left)` and `right = maxDepth(node.right)`.\n",
    "3. The depth contributed by this node is `max(left, right) + 1`.\n",
    "4. The root call returns the maximum depth of the entire tree.\n"
   ]
  },
  {
   "cell_type": "markdown",
   "metadata": {},
   "source": [
    "## Complexity Trade-off Table\n",
    "| Approach | Time Complexity | Space Complexity | Notes |\n",
    "| --- | --- | --- | --- |\n",
    "| Recursive DFS | O(n) | O(h) | Simple implementation; recursion depth equals tree height `h` |\n",
    "| Iterative BFS | O(n) | O(n) | Counts levels using a queue; avoids recursion but uses extra memory |\n"
   ]
  },
  {
   "cell_type": "markdown",
   "metadata": {},
   "source": [
    "## Reference Implementation\n"
   ]
  },
  {
   "cell_type": "code",
   "execution_count": null,
   "metadata": {},
   "outputs": [],
   "source": [
    "from typing import Optional\n",
    "\n",
    "\n",
    "class TreeNode:\n",
    "    def __init__(self, val: int = 0, left: Optional['TreeNode'] = None, right: Optional['TreeNode'] = None):\n",
    "        self.val = val\n",
    "        self.left = left\n",
    "        self.right = right\n",
    "\n",
    "\n",
    "class Solution:\n",
    "    def maxDepth(self, root: Optional[TreeNode]) -> int:\n",
    "        if not root:\n",
    "            return 0\n",
    "        left_depth = self.maxDepth(root.left)\n",
    "        right_depth = self.maxDepth(root.right)\n",
    "        return max(left_depth, right_depth) + 1\n"
   ]
  },
  {
   "cell_type": "markdown",
   "metadata": {},
   "source": [
    "## Validation\n"
   ]
  },
  {
   "cell_type": "code",
   "execution_count": null,
   "metadata": {},
   "outputs": [],
   "source": [
    "def build_tree(values):\n",
    "    nodes = [None if val is None else TreeNode(val) for val in values]\n",
    "    kids = nodes[::-1]\n",
    "    root = kids.pop() if kids else None\n",
    "    for node in nodes:\n",
    "        if node:\n",
    "            if kids:\n",
    "                node.left = kids.pop()\n",
    "            if kids:\n",
    "                node.right = kids.pop()\n",
    "    return root\n",
    "\n",
    "cases = [\n",
    "    ([3,9,20,None,None,15,7], 3),\n",
    "    ([], 0),\n",
    "    ([1,2,3,4,None,None,5], 3),\n",
    "]\n",
    "solver = Solution()\n",
    "for tree_vals, expected in cases:\n",
    "    root = build_tree(tree_vals)\n",
    "    result = solver.maxDepth(root)\n",
    "    assert result == expected, f\"maxDepth({tree_vals}) -> {result}, expected {expected}\"\n"
   ]
  },
  {
   "cell_type": "markdown",
   "metadata": {},
   "source": [
    "## Complexity Analysis\n",
    "- Time: O(n) since each node is visited exactly once.\n",
    "- Space: O(h) for the recursion stack where `h` is the tree height (worst case O(n) on a skewed tree).\n",
    "- Bottleneck: Very deep trees may exceed Python's default recursion limit.\n"
   ]
  },
  {
   "cell_type": "markdown",
   "metadata": {},
   "source": [
    "## Edge Cases & Pitfalls\n",
    "- Return 0 for an empty tree.\n",
    "- Ensure single-node trees return 1 rather than 0.\n",
    "- Watch for degenerate linked-list shaped trees that push recursion depth to the limit.\n"
   ]
  },
  {
   "cell_type": "markdown",
   "metadata": {},
   "source": [
    "## Follow-up Variants\n",
    "- Rewrite the solution iteratively with an explicit stack to avoid recursion limits.\n",
    "- Track both maximum and minimum depth in one traversal for additional analytics.\n",
    "- Annotate nodes with their depth while traversing to support downstream queries.\n"
   ]
  },
  {
   "cell_type": "markdown",
   "metadata": {},
   "source": [
    "## Takeaways\n",
    "- Tree DP problems often boil down to combining child answers with the current node's contribution.\n",
    "- Base cases such as returning 0 for `None` keep recursion concise and correct.\n",
    "- Recognizing when a BFS level count is equivalent helps switch strategies if recursion is problematic.\n"
   ]
  },
  {
   "cell_type": "markdown",
   "metadata": {},
   "source": [
    "## Similar Problems\n",
    "| Problem ID | Problem Title | Technique |\n",
    "| --- | --- | --- |\n",
    "| 559 | Maximum Depth of N-ary Tree | DFS height aggregation |\n",
    "| 111 | Minimum Depth of Binary Tree | BFS or DFS with leaf detection |\n",
    "| 110 | Balanced Binary Tree | DFS returning height plus balance flag |\n"
   ]
  }
 ],
 "metadata": {
  "kernelspec": {
   "display_name": "Python 3 (ipykernel)",
   "language": "python",
   "name": "python3"
  },
  "language_info": {
   "codemirror_mode": {
    "name": "ipython",
    "version": 3
   },
   "file_extension": ".py",
   "mimetype": "text/x-python",
   "name": "python",
   "nbconvert_exporter": "python",
   "pygments_lexer": "ipython3",
   "version": "3.13.3"
  }
 },
 "nbformat": 4,
 "nbformat_minor": 5
}