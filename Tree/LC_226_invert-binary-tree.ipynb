{
 "cells": [
  {
   "cell_type": "markdown",
   "metadata": {},
   "source": [
    "# 226. Invert Binary Tree\n"
   ]
  },
  {
   "cell_type": "markdown",
   "metadata": {},
   "source": [
    "## Topic Alignment\n",
    "- Inverting trees is analogous to mirroring feature hierarchies for data augmentation.\n",
    "- Swapping subtrees helps validate serializer symmetry in infrastructure tests.\n"
   ]
  },
  {
   "cell_type": "markdown",
   "metadata": {},
   "source": [
    "## Metadata Summary\n",
    "- Source: [Invert Binary Tree](https://leetcode.com/problems/invert-binary-tree/)\n",
    "- Tags: `Binary Tree`, `DFS`\n",
    "- Difficulty: Easy\n",
    "- Recommended Priority: Low\n"
   ]
  },
  {
   "cell_type": "markdown",
   "metadata": {},
   "source": [
    "## Problem Statement\n",
    "Given the root of a binary tree, invert the tree and return its root. Inverting a tree swaps every left child with its right child recursively.\n"
   ]
  },
  {
   "cell_type": "markdown",
   "metadata": {},
   "source": [
    "## Progressive Hints\n",
    "- Hint 1: Recursively swap the left and right children of every node.\n",
    "- Hint 2: Base cases are simple: `None` nodes invert to `None`.\n",
    "- Hint 3: An iterative BFS or stack-based approach works identically if recursion depth is a concern.\n"
   ]
  },
  {
   "cell_type": "markdown",
   "metadata": {},
   "source": [
    "## Solution Overview\n",
    "Traverse the tree, swapping each node's left and right child. The order of traversal does not matter as long as every node is processed. Returning the root after all swaps produces the inverted tree.\n"
   ]
  },
  {
   "cell_type": "markdown",
   "metadata": {},
   "source": [
    "## Detailed Explanation\n",
    "1. If the current node is `None`, return `None`.\n",
    "2. Swap the left and right child references.\n",
    "3. Recursively invert the (new) left subtree and the (new) right subtree.\n",
    "4. Return the node so parent calls receive the updated subtree.\n"
   ]
  },
  {
   "cell_type": "markdown",
   "metadata": {},
   "source": [
    "## Complexity Trade-off Table\n",
    "| Approach | Time Complexity | Space Complexity | Notes |\n",
    "| --- | --- | --- | --- |\n",
    "| Recursive DFS | O(n) | O(h) | Minimal code; recursion depth equals tree height |\n",
    "| Iterative BFS | O(n) | O(n) | Uses a queue to swap children level by level |\n",
    "| Iterative stack | O(n) | O(h) | Explicit stack avoids recursion while limiting memory |\n"
   ]
  },
  {
   "cell_type": "markdown",
   "metadata": {},
   "source": [
    "## Reference Implementation\n"
   ]
  },
  {
   "cell_type": "code",
   "execution_count": null,
   "metadata": {},
   "outputs": [],
   "source": [
    "from typing import Optional\n",
    "\n",
    "\n",
    "class TreeNode:\n",
    "    def __init__(self, val: int = 0, left: Optional['TreeNode'] = None, right: Optional['TreeNode'] = None):\n",
    "        self.val = val\n",
    "        self.left = left\n",
    "        self.right = right\n",
    "\n",
    "\n",
    "class Solution:\n",
    "    def invertTree(self, root: Optional[TreeNode]) -> Optional[TreeNode]:\n",
    "        if not root:\n",
    "            return None\n",
    "        root.left, root.right = root.right, root.left\n",
    "        self.invertTree(root.left)\n",
    "        self.invertTree(root.right)\n",
    "        return root\n"
   ]
  },
  {
   "cell_type": "markdown",
   "metadata": {},
   "source": [
    "## Validation\n"
   ]
  },
  {
   "cell_type": "code",
   "execution_count": null,
   "metadata": {},
   "outputs": [],
   "source": [
    "def build_tree(values):\n",
    "    nodes = [None if val is None else TreeNode(val) for val in values]\n",
    "    kids = nodes[::-1]\n",
    "    root = kids.pop() if kids else None\n",
    "    for node in nodes:\n",
    "        if node:\n",
    "            if kids:\n",
    "                node.left = kids.pop()\n",
    "            if kids:\n",
    "                node.right = kids.pop()\n",
    "    return root\n",
    "\n",
    "def serialize(root):\n",
    "    output = []\n",
    "    queue = [root]\n",
    "    while queue:\n",
    "        node = queue.pop(0)\n",
    "        if node:\n",
    "            output.append(node.val)\n",
    "            queue.append(node.left)\n",
    "            queue.append(node.right)\n",
    "        else:\n",
    "            output.append(None)\n",
    "    while output and output[-1] is None:\n",
    "        output.pop()\n",
    "    return output\n",
    "\n",
    "cases = [\n",
    "    ([4,2,7,1,3,6,9], [4,7,2,9,6,3,1]),\n",
    "    ([2,1,3], [2,3,1]),\n",
    "    ([], []),\n",
    "]\n",
    "solver = Solution()\n",
    "for tree_vals, expected in cases:\n",
    "    root = build_tree(tree_vals)\n",
    "    result = solver.invertTree(root)\n",
    "    assert serialize(result) == expected, f\"invertTree({tree_vals}) -> {serialize(result)}, expected {expected}\"\n"
   ]
  },
  {
   "cell_type": "markdown",
   "metadata": {},
   "source": [
    "## Complexity Analysis\n",
    "- Time: O(n) because each node is visited exactly once.\n",
    "- Space: O(h) recursion stack in the DFS version (worst-case O(n) for a path-like tree).\n",
    "- Bottleneck: None; the operation is purely structural.\n"
   ]
  },
  {
   "cell_type": "markdown",
   "metadata": {},
   "source": [
    "## Edge Cases & Pitfalls\n",
    "- Ensure you swap child pointers before recursing; swapping afterward re-inverts subtrees.\n",
    "- Remember to handle single-child nodes—the `None` branch still needs to be traversed (it returns immediately).\n",
    "- Do not forget to return the node so parent calls keep their links.\n"
   ]
  },
  {
   "cell_type": "markdown",
   "metadata": {},
   "source": [
    "## Follow-up Variants\n",
    "- Invert only subtrees that satisfy a predicate (for example, nodes above a certain depth).\n",
    "- Mirror an N-ary tree by reversing the children list at each node.\n",
    "- Compose inversion with serialization to verify that the process is reversible.\n"
   ]
  },
  {
   "cell_type": "markdown",
   "metadata": {},
   "source": [
    "## Takeaways\n",
    "- Structural tree transformations are often a single pass of local swaps.\n",
    "- Recursive and iterative traversals are interchangeable once you understand the state needed per node.\n",
    "- Always reason about pointer updates when mutating reference-based data structures.\n"
   ]
  },
  {
   "cell_type": "markdown",
   "metadata": {},
   "source": [
    "## Similar Problems\n",
    "| Problem ID | Problem Title | Technique |\n",
    "| --- | --- | --- |\n",
    "| 101 | Symmetric Tree | Mirror comparison of two subtrees |\n",
    "| 226 | Invert Binary Tree | (current) |\n",
    "| 617 | Merge Two Binary Trees | Recursive structural manipulation |\n"
   ]
  }
 ],
 "metadata": {
  "kernelspec": {
   "display_name": "Python 3 (ipykernel)",
   "language": "python",
   "name": "python3"
  },
  "language_info": {
   "codemirror_mode": {
    "name": "ipython",
    "version": 3
   },
   "file_extension": ".py",
   "mimetype": "text/x-python",
   "name": "python",
   "nbconvert_exporter": "python",
   "pygments_lexer": "ipython3",
   "version": "3.13.3"
  }
 },
 "nbformat": 4,
 "nbformat_minor": 5
}