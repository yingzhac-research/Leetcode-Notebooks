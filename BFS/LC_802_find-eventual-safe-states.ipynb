{
 "cells": [
  {
   "cell_type": "markdown",
   "metadata": {},
   "source": [
    "# 802. Find Eventual Safe States"
   ]
  },
  {
   "cell_type": "markdown",
   "metadata": {},
   "source": [
    "## Topic Alignment\n",
    "- Identifying terminal states in directed graphs enables safety analysis for workflows, catching loops that could stall automated ML pipelines.\n"
   ]
  },
  {
   "cell_type": "markdown",
   "metadata": {},
   "source": [
    "## Metadata 摘要\n",
    "- Source: https://leetcode.com/problems/find-eventual-safe-states/\n",
    "- Tags: BFS, Graph, Topological Sort\n",
    "- Difficulty: Medium\n",
    "- Priority: Medium"
   ]
  },
  {
   "cell_type": "markdown",
   "metadata": {},
   "source": [
    "## Problem Statement 原题描述\n",
    "A node is safe if every path starting from it eventually ends in a terminal node (outdegree 0). Return all safe nodes in ascending order."
   ]
  },
  {
   "cell_type": "markdown",
   "metadata": {},
   "source": [
    "## Progressive Hints\n",
    "- Hint 1: Reverse the graph—edges become `v → u` if the original graph had `u → v`.\n",
    "- Hint 2: Nodes with outdegree zero are safe; treat them as starting points.\n",
    "- Hint 3: Use reverse topological BFS: as you remove edges leading into safe nodes, new safe nodes appear.\n"
   ]
  },
  {
   "cell_type": "markdown",
   "metadata": {},
   "source": [
    "## Solution Overview\n",
    "Compute outdegrees for all nodes and build a reverse adjacency list. Initialize a queue with nodes whose outdegree is zero. Pop nodes, mark them safe, and decrement the outdegree of their predecessors. When a predecessor's outdegree becomes zero, enqueue it. The nodes processed by this reverse BFS are the eventual safe states.\n"
   ]
  },
  {
   "cell_type": "markdown",
   "metadata": {},
   "source": [
    "## Detailed Explanation\n",
    "1. Let `n` be the number of nodes. Create `outdeg[i] = len(graph[i])` and `reverse[v]` as a list of predecessors.\n",
    "2. Populate a queue with all nodes where `outdeg[i] == 0`.\n",
    "3. Maintain a boolean array `safe` initialized to `False`.\n",
    "4. While the queue has nodes:\n",
    "   - Pop `u`; mark `safe[u] = True`.\n",
    "   - For each predecessor `p` in `reverse[u]`, decrement `outdeg[p]`.\n",
    "   - If `outdeg[p]` becomes zero, enqueue `p`.\n",
    "5. After BFS, collect all indices `i` where `safe[i]` holds, sort them, and return.\n"
   ]
  },
  {
   "cell_type": "markdown",
   "metadata": {},
   "source": [
    "## Complexity Trade-off Table\n",
    "| Approach | Time | Space | Notes |\n",
    "| --- | --- | --- | --- |\n",
    "| Reverse BFS (topological pruning) | O(n + m) | O(n + m) | Efficient and iterative |\n",
    "| DFS with state colors | O(n + m) | O(n) | Requires recursion; color states as safe/unsafe |\n",
    "| Repeated simulation | Potentially exponential | O(n) | Naively following paths without memoization |\n"
   ]
  },
  {
   "cell_type": "code",
   "execution_count": null,
   "metadata": {},
   "outputs": [],
   "source": [
    "from collections import deque\n",
    "from typing import List\n\n",
    "class Solution:\n",
    "    def eventualSafeNodes(self, graph: List[List[int]]) -> List[int]:\n",
    "        n = len(graph)\n",
    "        reverse = [[] for _ in range(n)]\n",
    "        outdegree = [0] * n\n",
    "        for u, neighbors in enumerate(graph):\n",
    "            outdegree[u] = len(neighbors)\n",
    "            for v in neighbors:\n",
    "                reverse[v].append(u)\n",
    "        queue = deque([i for i, deg in enumerate(outdegree) if deg == 0])\n",
    "        safe = [False] * n\n",
    "        while queue:\n",
    "            node = queue.popleft()\n",
    "            safe[node] = True\n",
    "            for prev in reverse[node]:\n",
    "                outdegree[prev] -= 1\n",
    "                if outdegree[prev] == 0:\n",
    "                    queue.append(prev)\n",
    "        return [i for i, ok in enumerate(safe) if ok]\n"
   ]
  },
  {
   "cell_type": "code",
   "execution_count": null,
   "metadata": {
    "tags": [
     "validation"
    ]
   },
   "outputs": [],
   "source": [
    "tests = [\n",
    "    ([[1,2],[2,3],[5],[0],[5],[],[]], [2,4,5,6]),\n",
    "    ([[1,2,3,4],[1,2],[3,4],[0,4],[]], [4])\n",
    "]\n",
    "solver = Solution()\n",
    "for graph, expected in tests:\n",
    "    assert solver.eventualSafeNodes(graph) == expected\n",
    "print('All tests passed.')\n"
   ]
  },
  {
   "cell_type": "markdown",
   "metadata": {},
   "source": [
    "## Complexity Analysis\n",
    "- Time: O(n + m) where `m` is the number of edges.\n",
    "- Space: O(n + m) for the reverse graph, outdegree array, and queue.\n"
   ]
  },
  {
   "cell_type": "markdown",
   "metadata": {},
   "source": [
    "## Edge Cases & Pitfalls\n",
    "- Graph nodes with self-loops are never safe; the algorithm handles this because their outdegree never drops to zero.\n",
    "- Ensure you populate the reverse graph correctly; missing edges will mark unsafe nodes as safe.\n",
    "- Sorting the result is necessary because the problem expects ascending order.\n"
   ]
  },
  {
   "cell_type": "markdown",
   "metadata": {},
   "source": [
    "## Follow-up Variants\n",
    "- Return the size of the largest safe component by running BFS on the induced subgraph of safe nodes.\n",
    "- Support dynamic edge additions by recomputing outdegrees incrementally.\n",
    "- Identify nodes that are part of cycles versus those merely reaching cycles by storing timestamps in the DFS variant.\n"
   ]
  },
  {
   "cell_type": "markdown",
   "metadata": {},
   "source": [
    "## Takeaways\n",
    "- Reversing edge directions turns sink detection into a straightforward BFS problem.\n",
    "- Outdegree tracking is a powerful complement to indegree-based topological techniques.\n",
    "- The method mirrors deadlock detection in distributed systems by eliminating safe tasks first.\n"
   ]
  },
  {
   "cell_type": "markdown",
   "metadata": {},
   "source": [
    "## Similar Problems\n",
    "| Problem ID | Problem Title | Technique |\n",
    "| --- | --- | --- |\n",
    "| LC 207 | Course Schedule | Kahn's algorithm on indegree |\n",
    "| LC 210 | Course Schedule II | Produces topological ordering |\n",
    "| LC 2360 | Longest Cycle in a Directed Graph | Detect cycles with DFS |\n"
   ]
  }
 ],
 "metadata": {
  "kernelspec": {
   "display_name": "Python 3",
   "language": "python",
   "name": "python3"
  },
  "language_info": {
   "name": "python",
   "version": "3.10"
  }
 },
 "nbformat": 4,
 "nbformat_minor": 5
}