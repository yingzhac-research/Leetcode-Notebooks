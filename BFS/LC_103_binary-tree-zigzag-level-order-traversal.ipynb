{
 "cells": [
  {
   "cell_type": "markdown",
   "metadata": {},
   "source": [
    "# 103. Binary Tree Zigzag Level Order Traversal"
   ]
  },
  {
   "cell_type": "markdown",
   "metadata": {},
   "source": [
    "## Topic Alignment\n",
    "- Zigzag traversals show up when rendering hierarchical dashboards where alternating orientation improves readability or when simulating pipelined breadth-first processing with parity-specific logic.\n"
   ]
  },
  {
   "cell_type": "markdown",
   "metadata": {},
   "source": [
    "## Metadata 摘要\n",
    "- Source: https://leetcode.com/problems/binary-tree-zigzag-level-order-traversal/\n",
    "- Tags: BFS, Tree\n",
    "- Difficulty: Medium\n",
    "- Priority: Medium"
   ]
  },
  {
   "cell_type": "markdown",
   "metadata": {},
   "source": [
    "## Problem Statement 原题描述\n",
    "Return the zigzag level order traversal of a binary tree: the first level is left-to-right, the next right-to-left, and so on."
   ]
  },
  {
   "cell_type": "markdown",
   "metadata": {},
   "source": [
    "## Progressive Hints\n",
    "- Hint 1: Reuse standard level-order traversal to collect nodes level by level.\n",
    "- Hint 2: Track the parity (even/odd) of the current level to decide whether to reverse its order.\n",
    "- Hint 3: Alternately append values in forward or reversed order instead of physically reversing the queue.\n"
   ]
  },
  {
   "cell_type": "markdown",
   "metadata": {},
   "source": [
    "## Solution Overview\n",
    "We perform BFS just like LC 102 but maintain a boolean `left_to_right`. For each level, gather node values in a list. If `left_to_right` is `False`, reverse the list (or append values to the front using a deque) before adding it to the result. Flip the boolean after each level.\n"
   ]
  },
  {
   "cell_type": "markdown",
   "metadata": {},
   "source": [
    "## Detailed Explanation\n",
    "1. Early exit with `[]` when the root is `None`.\n",
    "2. Initialize a queue with the root and set `left_to_right = True`.\n",
    "3. While the queue is non-empty:\n",
    "   - Store `size = len(queue)` and create an empty `level` list.\n",
    "   - Iterate `size` times: pop a node, append its value, enqueue its children.\n",
    "   - If `left_to_right` is `False`, reverse `level` (or build it using `appendleft`).\n",
    "   - Append `level` to the answer and toggle `left_to_right`.\n",
    "4. Return the list of levels.\n"
   ]
  },
  {
   "cell_type": "markdown",
   "metadata": {},
   "source": [
    "## Complexity Trade-off Table\n",
    "| Approach | Time | Space | Notes |\n",
    "| --- | --- | --- | --- |\n",
    "| BFS + post-level reversal | O(n) | O(n) | Simple to implement; reversal cost is linear in level width |\n",
    "| BFS + deque accumulation | O(n) | O(n) | Avoids explicit reverse by pushing to either end |\n",
    "| DFS with depth tracking | O(n) | O(h) | Requires inserting values at the correct position manually |\n"
   ]
  },
  {
   "cell_type": "code",
   "execution_count": null,
   "metadata": {},
   "outputs": [],
   "source": [
    "from collections import deque\n",
    "from typing import List, Optional\n\n",
    "class TreeNode:\n",
    "    def __init__(self, val: int = 0, left: Optional['TreeNode'] = None, right: Optional['TreeNode'] = None):\n",
    "        self.val = val\n",
    "        self.left = left\n",
    "        self.right = right\n\n",
    "class Solution:\n",
    "    def zigzagLevelOrder(self, root: Optional[TreeNode]) -> List[List[int]]:\n",
    "        if not root:\n",
    "            return []\n",
    "        result: List[List[int]] = []\n",
    "        queue = deque([root])\n",
    "        left_to_right = True\n",
    "        while queue:\n",
    "            size = len(queue)\n",
    "            level: List[int] = []\n",
    "            for _ in range(size):\n",
    "                node = queue.popleft()\n",
    "                if left_to_right:\n",
    "                    level.append(node.val)\n",
    "                else:\n",
    "                    level.insert(0, node.val)\n",
    "                if node.left:\n",
    "                    queue.append(node.left)\n",
    "                if node.right:\n",
    "                    queue.append(node.right)\n",
    "            result.append(level)\n",
    "            left_to_right = not left_to_right\n",
    "        return result\n"
   ]
  },
  {
   "cell_type": "code",
   "execution_count": null,
   "metadata": {
    "tags": [
     "validation"
    ]
   },
   "outputs": [],
   "source": [
    "def build_tree(values: List[Optional[int]]) -> Optional[TreeNode]:\n",
    "    if not values:\n",
    "        return None\n",
    "    nodes = [TreeNode(v) if v is not None else None for v in values]\n",
    "    kids = nodes[::-1]\n",
    "    root = kids.pop()\n",
    "    for node in nodes:\n",
    "        if node:\n",
    "            if kids:\n",
    "                node.left = kids.pop()\n",
    "            if kids:\n",
    "                node.right = kids.pop()\n",
    "    return root\n\n",
    "tests = [\n",
    "    ([3,9,20,None,None,15,7], [[3],[20,9],[15,7]]),\n",
    "    ([1,2,3,4,None,None,5], [[1],[3,2],[4,5]])\n",
    "solver = Solution()\n",
    "for arr, expected in tests:\n",
    "    assert solver.zigzagLevelOrder(build_tree(arr)) == expected\n",
    "print('All tests passed.')\n"
   ]
  },
  {
   "cell_type": "markdown",
   "metadata": {},
   "source": [
    "## Complexity Analysis\n",
    "- Time: O(n) overall; each node is processed once and reversals cost at most the level width.\n",
    "- Space: O(n) for the queue and result container.\n"
   ]
  },
  {
   "cell_type": "markdown",
   "metadata": {},
   "source": [
    "## Edge Cases & Pitfalls\n",
    "- Do not reverse the queue itself; only reverse the collected values per level.\n",
    "- Remember to toggle the direction after finishing each level, not after each node.\n",
    "- Using `list.insert(0, val)` inside the inner loop is O(n²); prefer reversing once or using a deque.\n"
   ]
  },
  {
   "cell_type": "markdown",
   "metadata": {},
   "source": [
    "## Follow-up Variants\n",
    "- Output only the zigzag order without level boundaries by flattening the result at the end.\n",
    "- Combine zigzag traversal with additional per-level aggregation, such as sums or maximums.\n",
    "- Apply the same idea to N-ary trees by enqueuing all children in their natural order and flipping the level orientation.\n"
   ]
  },
  {
   "cell_type": "markdown",
   "metadata": {},
   "source": [
    "## Takeaways\n",
    "- Zigzag order is just level order plus an alternating direction flag.\n",
    "- Building the level list before reversing keeps the queue logic identical to plain BFS.\n",
    "- Deques provide O(1) insertion at both ends when you want to avoid `reverse()` on large levels.\n"
   ]
  },
  {
   "cell_type": "markdown",
   "metadata": {},
   "source": [
    "## Similar Problems\n",
    "| Problem ID | Problem Title | Technique |\n",
    "| --- | --- | --- |\n",
    "| LC 102 | Binary Tree Level Order Traversal | Standard BFS traversal |\n",
    "| LC 107 | Binary Tree Level Order Traversal II | BFS with final reversal |\n",
    "| LC 429 | N-ary Tree Level Order Traversal | BFS generalized to arbitrary branching |\n"
   ]
  }
 ],
 "metadata": {
  "kernelspec": {
   "display_name": "Python 3",
   "language": "python",
   "name": "python3"
  },
  "language_info": {
   "name": "python",
   "version": "3.10"
  }
 },
 "nbformat": 4,
 "nbformat_minor": 5
}