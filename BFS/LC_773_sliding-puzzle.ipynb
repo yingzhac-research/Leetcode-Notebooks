{
 "cells": [
  {
   "cell_type": "markdown",
   "metadata": {},
   "source": [
    "# 773. Sliding Puzzle"
   ]
  },
  {
   "cell_type": "markdown",
   "metadata": {},
   "source": [
    "## Topic Alignment\n",
    "- Sliding puzzle BFS captures state-space searches with constrained swaps, similar to optimizing feature ordering or limited permutation adjustments.\n"
   ]
  },
  {
   "cell_type": "markdown",
   "metadata": {},
   "source": [
    "## Metadata 摘要\n",
    "- Source: https://leetcode.com/problems/sliding-puzzle/\n",
    "- Tags: BFS, State Graph\n",
    "- Difficulty: Hard\n",
    "- Priority: High"
   ]
  },
  {
   "cell_type": "markdown",
   "metadata": {},
   "source": [
    "## Problem Statement 原题描述\n",
    "You are given a 2x3 board containing numbers 1..5 and a blank represented by 0. In one move, you can swap the blank with an adjacent number. Return the least number of moves needed to reach the target configuration `[[1,2,3],[4,5,0]]`, or -1 if impossible."
   ]
  },
  {
   "cell_type": "markdown",
   "metadata": {},
   "source": [
    "## Progressive Hints\n",
    "- Hint 1: Represent the board as a string (e.g., `'123450'`) so swaps become easy.\n",
    "- Hint 2: Precompute which indices can swap with the zero position to avoid recalculating neighbors.\n",
    "- Hint 3: BFS explores configurations by depth; stop when the target `'123450'` is dequeued.\n"
   ]
  },
  {
   "cell_type": "markdown",
   "metadata": {},
   "source": [
    "## Solution Overview\n",
    "Serialize the 2×3 board into a six-character string. Use BFS where each state swaps the `'0'` tile with its legal neighbors. Maintain a visited set of strings. The first time we pop the target configuration we return the number of moves taken. If no solution exists, BFS exhausts all reachable states and returns `-1`.\n"
   ]
  },
  {
   "cell_type": "markdown",
   "metadata": {},
   "source": [
    "## Detailed Explanation\n",
    "1. Convert the starting board into a string.\n",
    "2. Define adjacency for each index of `'0'`: `[ (1,3), (0,2,4), (1,5), (0,4), (1,3,5), (2,4) ]`.\n",
    "3. Initialize a queue with the starting state and depth 0; mark it visited.\n",
    "4. While the queue is not empty:\n",
    "   - Pop `(state, depth)`.\n",
    "   - If `state == target`, return `depth`.\n",
    "   - Find the index of `'0'`; for each neighbor index, swap to produce a new string.\n",
    "   - If unseen, enqueue `(new_state, depth + 1)` and mark visited.\n",
    "5. If the queue empties, return `-1` (the puzzle is unsolvable from this configuration).\n"
   ]
  },
  {
   "cell_type": "markdown",
   "metadata": {},
   "source": [
    "## Complexity Trade-off Table\n",
    "| Approach | Time | Space | Notes |\n",
    "| --- | --- | --- | --- |\n",
    "| BFS on 2×3 states | O(6!) | O(6!) | Explores all reachable permutations |\n",
    "| Bidirectional BFS | O(6! / 2) | O(6!) | Faster in practice but more bookkeeping |\n",
    "| IDA* | ~O(6!) | O(depth) | Optimal with heuristic but more complex |\n"
   ]
  },
  {
   "cell_type": "code",
   "execution_count": null,
   "metadata": {},
   "outputs": [],
   "source": [
    "from collections import deque\n",
    "from typing import List\n\n",
    "class Solution:\n",
    "    def slidingPuzzle(self, board: List[List[int]]) -> int:\n",
    "        target = \"123450\"\n",
    "        start = ''.join(str(num) for row in board for num in row)\n",
    "        if start == target:\n",
    "            return 0\n",
    "        neighbors = {\n",
    "            0: [1, 3],\n",
    "            1: [0, 2, 4],\n",
    "            2: [1, 5],\n",
    "            3: [0, 4],\n",
    "            4: [1, 3, 5],\n",
    "            5: [2, 4]\n",
    "        }\n",
    "        queue = deque([(start, 0)])\n",
    "        visited = {start}\n",
    "        while queue:\n",
    "            state, steps = queue.popleft()\n",
    "            zero_idx = state.index('0')\n",
    "            for nxt in neighbors[zero_idx]:\n",
    "                state_list = list(state)\n",
    "                state_list[zero_idx], state_list[nxt] = state_list[nxt], state_list[zero_idx]\n",
    "                new_state = ''.join(state_list)\n",
    "                if new_state == target:\n",
    "                    return steps + 1\n",
    "                if new_state not in visited:\n",
    "                    visited.add(new_state)\n",
    "                    queue.append((new_state, steps + 1))\n",
    "        return -1\n"
   ]
  },
  {
   "cell_type": "code",
   "execution_count": null,
   "metadata": {
    "tags": [
     "validation"
    ]
   },
   "outputs": [],
   "source": [
    "tests = [\n",
    "    ([[1,2,3],[4,0,5]], 1),\n",
    "    ([[1,2,3],[5,4,0]], -1),\n",
    "    ([[4,1,2],[5,0,3]], 5)\n",
    "]\n",
    "solver = Solution()\n",
    "for board, expected in tests:\n",
    "    assert solver.slidingPuzzle(board) == expected\n",
    "print('All tests passed.')\n"
   ]
  },
  {
   "cell_type": "markdown",
   "metadata": {},
   "source": [
    "## Complexity Analysis\n",
    "- Time: O(6!) in the worst case because the state space is limited to 720 permutations.\n",
    "- Space: O(6!) to store visited states.\n"
   ]
  },
  {
   "cell_type": "markdown",
   "metadata": {},
   "source": [
    "## Edge Cases & Pitfalls\n",
    "- Not all permutations are solvable; BFS naturally handles this by exhausting the reachable set.\n",
    "- Avoid re-enqueuing states by marking them visited immediately after creation.\n",
    "- Be mindful of string concatenation costs—use list conversions when swapping characters.\n"
   ]
  },
  {
   "cell_type": "markdown",
   "metadata": {},
   "source": [
    "## Follow-up Variants\n",
    "- Generalize to a 3×3 (8-puzzle) board; the state space grows to 9! / 2 and requires heuristics.\n",
    "- Track the actual move sequence by storing the action taken to reach each state.\n",
    "- Integrate heuristics (Manhattan distance) and switch to A* for faster convergence on larger boards.\n"
   ]
  },
  {
   "cell_type": "markdown",
   "metadata": {},
   "source": [
    "## Takeaways\n",
    "- BFS is tractable for tiny puzzles thanks to the small state space.\n",
    "- Precomputing swap positions keeps neighbor generation fast and bug-free.\n",
    "- State serialization (strings) dramatically simplifies hashing and comparison.\n"
   ]
  },
  {
   "cell_type": "markdown",
   "metadata": {},
   "source": [
    "## Similar Problems\n",
    "| Problem ID | Problem Title | Technique |\n",
    "| --- | --- | --- |\n",
    "| LC 752 | Open the Lock | BFS on small discrete state space |\n",
    "| LC 854 | K-Similar Strings | BFS with swaps and pruning |\n",
    "| LC 2097 | Valid Arrangement of Pairs | Graph traversal with permutation-like state space |\n"
   ]
  }
 ],
 "metadata": {
  "kernelspec": {
   "display_name": "Python 3",
   "language": "python",
   "name": "python3"
  },
  "language_info": {
   "name": "python",
   "version": "3.10"
  }
 },
 "nbformat": 4,
 "nbformat_minor": 5
}