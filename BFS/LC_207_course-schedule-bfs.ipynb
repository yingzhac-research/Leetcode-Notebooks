{
 "cells": [
  {
   "cell_type": "markdown",
   "metadata": {},
   "source": [
    "# 207. Course Schedule (BFS Version)"
   ]
  },
  {
   "cell_type": "markdown",
   "metadata": {},
   "source": [
    "## Topic Alignment\n",
    "- Topological sorting models dependency scheduling for training jobs and feature pipelines where tasks must respect prerequisite DAGs.\n"
   ]
  },
  {
   "cell_type": "markdown",
   "metadata": {},
   "source": [
    "## Metadata 摘要\n",
    "- Source: https://leetcode.com/problems/course-schedule/\n",
    "- Tags: BFS, Topological Sort, Graph\n",
    "- Difficulty: Medium\n",
    "- Priority: High"
   ]
  },
  {
   "cell_type": "markdown",
   "metadata": {},
   "source": [
    "## Problem Statement 原题描述\n",
    "Given numCourses and prerequisites `[[a,b]]` meaning take b before a, determine if it is possible to finish all courses (i.e., the graph has no cycle)."
   ]
  },
  {
   "cell_type": "markdown",
   "metadata": {},
   "source": [
    "## Progressive Hints\n",
    "- Hint 1: Interpret each prerequisite pair `(a, b)` as an edge `b → a`.\n",
    "- Hint 2: Compute indegrees for each course; courses with indegree zero can be taken immediately.\n",
    "- Hint 3: Perform Kahn's algorithm (BFS on indegree-zero nodes) to produce a valid ordering.\n"
   ]
  },
  {
   "cell_type": "markdown",
   "metadata": {},
   "source": [
    "## Solution Overview\n",
    "Construct the directed graph and indegree array. Push all courses with indegree zero into a queue. Repeatedly pop a course, append it to the schedule, and decrement indegrees of its neighbors. When a neighbor's indegree drops to zero, enqueue it. If we process all `numCourses` nodes, scheduling is possible; otherwise a cycle exists.\n"
   ]
  },
  {
   "cell_type": "markdown",
   "metadata": {},
   "source": [
    "## Detailed Explanation\n",
    "1. Initialize an adjacency list `graph` with `numCourses` empty lists and an `indegree` array of zeros.\n",
    "2. For each prerequisite `(course, pre)`, append `course` to `graph[pre]` and increment `indegree[course]`.\n",
    "3. Fill a queue with all nodes whose indegree is zero.\n",
    "4. While the queue is non-empty:\n",
    "   - Pop a course `u` and increment a processed counter.\n",
    "   - For each neighbor `v` in `graph[u]`, decrement `indegree[v]`.\n",
    "   - If `indegree[v]` becomes zero, enqueue `v`.\n",
    "5. After BFS, return `processed == numCourses`.\n"
   ]
  },
  {
   "cell_type": "markdown",
   "metadata": {},
   "source": [
    "## Complexity Trade-off Table\n",
    "| Approach | Time | Space | Notes |\n",
    "| --- | --- | --- | --- |\n",
    "| Kahn's algorithm (BFS) | O(n + m) | O(n + m) | Produces a valid order or detects cycles |\n",
    "| DFS with cycle detection | O(n + m) | O(n + m) | Uses recursion and color marking |\n",
    "| Repeated scanning for zero indegree | O(n²) | O(n + m) | Simpler but slower for dense graphs |\n"
   ]
  },
  {
   "cell_type": "code",
   "execution_count": null,
   "metadata": {},
   "outputs": [],
   "source": [
    "from collections import deque\n",
    "from typing import List\n\n",
    "class Solution:\n",
    "    def canFinish(self, numCourses: int, prerequisites: List[List[int]]) -> bool:\n",
    "        graph = [[] for _ in range(numCourses)]\n",
    "        indegree = [0] * numCourses\n",
    "        for course, pre in prerequisites:\n",
    "            graph[pre].append(course)\n",
    "            indegree[course] += 1\n",
    "        queue = deque([i for i in range(numCourses) if indegree[i] == 0])\n",
    "        taken = 0\n",
    "        while queue:\n",
    "            node = queue.popleft()\n",
    "            taken += 1\n",
    "            for nei in graph[node]:\n",
    "                indegree[nei] -= 1\n",
    "                if indegree[nei] == 0:\n",
    "                    queue.append(nei)\n",
    "        return taken == numCourses\n"
   ]
  },
  {
   "cell_type": "code",
   "execution_count": null,
   "metadata": {
    "tags": [
     "validation"
    ]
   },
   "outputs": [],
   "source": [
    "tests = [\n",
    "    ((2, [[1,0]]), True),\n",
    "    ((2, [[1,0],[0,1]]), False),\n",
    "    ((3, [[1,0],[2,1]]), True)\n",
    "]\n",
    "solver = Solution()\n",
    "for (n, prereq), expected in tests:\n",
    "    assert solver.canFinish(n, prereq) == expected\n",
    "print('All tests passed.')\n"
   ]
  },
  {
   "cell_type": "markdown",
   "metadata": {},
   "source": [
    "## Complexity Analysis\n",
    "- Time: O(n + m) where `n = numCourses` and `m = len(prerequisites)`.\n",
    "- Space: O(n + m) for the adjacency list, indegree array, and queue.\n"
   ]
  },
  {
   "cell_type": "markdown",
   "metadata": {},
   "source": [
    "## Edge Cases & Pitfalls\n",
    "- A disconnected set of courses is fine as long as each component is acyclic.\n",
    "- Beware of off-by-one mistakes when building the adjacency list (edge direction matters).\n",
    "- If prerequisites contain duplicates, the indegree increments multiple times and should be respected.\n"
   ]
  },
  {
   "cell_type": "markdown",
   "metadata": {},
   "source": [
    "## Follow-up Variants\n",
    "- Return the actual course order (Kahn's algorithm already builds one).\n",
    "- Detect and report which courses participate in a cycle when scheduling fails.\n",
    "- Support dynamic addition or removal of prerequisites by maintaining indegree counts incrementally.\n"
   ]
  },
  {
   "cell_type": "markdown",
   "metadata": {},
   "source": [
    "## Takeaways\n",
    "- Topological sorting by BFS is the canonical approach to dependency scheduling.\n",
    "- Indegree bookkeeping provides constant-time detection of newly available tasks.\n",
    "- Cycle detection arises naturally: if any nodes remain with indegree > 0, the graph is cyclic.\n"
   ]
  },
  {
   "cell_type": "markdown",
   "metadata": {},
   "source": [
    "## Similar Problems\n",
    "| Problem ID | Problem Title | Technique |\n",
    "| --- | --- | --- |\n",
    "| LC 210 | Course Schedule II | Kahn's algorithm producing an explicit order |\n",
    "| LC 802 | Find Eventual Safe States | Reverse graph topological pruning |\n",
    "| LC 444 | Sequence Reconstruction | Verify uniqueness of topo order |\n"
   ]
  }
 ],
 "metadata": {
  "kernelspec": {
   "display_name": "Python 3",
   "language": "python",
   "name": "python3"
  },
  "language_info": {
   "name": "python",
   "version": "3.10"
  }
 },
 "nbformat": 4,
 "nbformat_minor": 5
}