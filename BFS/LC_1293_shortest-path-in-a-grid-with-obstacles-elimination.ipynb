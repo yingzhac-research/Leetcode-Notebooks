{
 "cells": [
  {
   "cell_type": "markdown",
   "metadata": {},
   "source": [
    "# 1293. Shortest Path in a Grid with Obstacles Elimination"
   ]
  },
  {
   "cell_type": "markdown",
   "metadata": {},
   "source": [
    "## Topic Alignment\n",
    "- State-augmented BFS models scenarios where planners may consume limited budget to bypass obstacles, analogous to resource-constrained routing in robotics or feature toggling during automated experimentation.\n"
   ]
  },
  {
   "cell_type": "markdown",
   "metadata": {},
   "source": [
    "## Metadata 摘要\n",
    "- Source: https://leetcode.com/problems/shortest-path-in-a-grid-with-obstacles-elimination/\n",
    "- Tags: BFS, Grid, State Search\n",
    "- Difficulty: Hard\n",
    "- Priority: High"
   ]
  },
  {
   "cell_type": "markdown",
   "metadata": {},
   "source": [
    "## Problem Statement 原题描述\n",
    "You are given an m x n grid with obstacles (1) and empty cells (0), plus an integer k representing the maximum number of obstacles you can eliminate. Return the minimum number of steps to move from (0,0) to (m-1,n-1) with at most k eliminations, or -1 if impossible."
   ]
  },
  {
   "cell_type": "markdown",
   "metadata": {},
   "source": [
    "## Progressive Hints\n",
    "- Hint 1: Encode the state as `(row, col, remaining_eliminations)`.\n",
    "- Hint 2: Keep a best-remaining-k record per cell so you do not revisit it with an inferior budget.\n",
    "- Hint 3: Early exit once you reach the bottom-right corner; BFS guarantees it is optimal.\n"
   ]
  },
  {
   "cell_type": "markdown",
   "metadata": {},
   "source": [
    "## Solution Overview\n",
    "This is a shortest-path problem on an implicit graph whose nodes store both a grid location and how many obstacles can still be removed. Run BFS starting from `(0, 0, k)`. When expanding to a neighbor containing a `1`, consume one elimination. If the new state improves the remaining budget recorded for that cell, push it into the queue. The first time we poll `(m-1, n-1)` we have found the shortest path length.\n"
   ]
  },
  {
   "cell_type": "markdown",
   "metadata": {},
   "source": [
    "## Detailed Explanation\n",
    "1. Handle the trivial case `m == 1` and `n == 1` by returning 0.\n",
    "2. If `k` is large enough to bypass every obstacle along the Manhattan path (`k >= m + n - 2`), return that distance directly.\n",
    "3. Initialize a queue with `(0, 0, k)` and a `visited` matrix that stores the best remaining budget seen for each cell (initialize to `-1`).\n",
    "4. While the queue is non-empty:\n",
    "   - For the current BFS level, iterate over all states.\n",
    "   - When popping `(r, c, remaining)`, return the steps if `(r, c)` is the target.\n",
    "   - Otherwise, iterate the four directional moves; compute `(nr, nc)` and the new budget `nk = remaining - grid[nr][nc]`.\n",
    "   - Skip invalid coordinates or states where `nk < 0` or `visited[nr][nc] >= nk`.\n",
    "   - Update `visited[nr][nc] = nk` and enqueue `(nr, nc, nk)`.\n",
    "5. Increase the step counter after processing one level.\n",
    "6. Return `-1` if the queue empties without reaching the target.\n"
   ]
  },
  {
   "cell_type": "markdown",
   "metadata": {},
   "source": [
    "## Complexity Trade-off Table\n",
    "| Approach | Time | Space | Notes |\n",
    "| --- | --- | --- | --- |\n",
    "| BFS with state `(r, c, k)` | O(m * n * k) | O(m * n) | Visits each cell for each feasible remaining budget |\n",
    "| Dijkstra on weighted graph | O(m * n * k log(mnk)) | O(m * n * k) | Overkill because weights are only 0 or 1 |\n",
    "| DFS with pruning | Exponential | O(m * n) | Cannot guarantee optimality; likely to TLE |\n"
   ]
  },
  {
   "cell_type": "code",
   "execution_count": null,
   "metadata": {},
   "outputs": [],
   "source": [
    "from collections import deque\n",
    "from typing import List\n\n",
    "class Solution:\n",
    "    def shortestPath(self, grid: List[List[int]], k: int) -> int:\n",
    "        rows, cols = len(grid), len(grid[0])\n",
    "        if rows == 1 and cols == 1:\n",
    "            return 0\n",
    "        if k >= rows + cols - 2:\n",
    "            return rows + cols - 2\n",
    "        dirs = [(1,0),(-1,0),(0,1),(0,-1)]\n",
    "        visited = [[-1] * cols for _ in range(rows)]\n",
    "        queue = deque([(0, 0, k)])\n",
    "        visited[0][0] = k\n",
    "        steps = 0\n",
    "        while queue:\n",
    "            for _ in range(len(queue)):\n",
    "                r, c, remain = queue.popleft()\n",
    "                if r == rows - 1 and c == cols - 1:\n",
    "                    return steps\n",
    "                for dr, dc in dirs:\n",
    "                    nr, nc = r + dr, c + dc\n",
    "                    if 0 <= nr < rows and 0 <= nc < cols:\n",
    "                        nk = remain - grid[nr][nc]\n",
    "                        if nk < 0:\n",
    "                            continue\n",
    "                        if visited[nr][nc] >= nk:\n",
    "                            continue\n",
    "                        visited[nr][nc] = nk\n",
    "                        queue.append((nr, nc, nk))\n",
    "            steps += 1\n",
    "        return -1\n"
   ]
  },
  {
   "cell_type": "code",
   "execution_count": null,
   "metadata": {
    "tags": [
     "validation"
    ]
   },
   "outputs": [],
   "source": [
    "tests = [\n",
    "    (([[0,0,0],[1,1,0],[0,0,0],[0,1,1],[0,0,0]], 1), 6),\n",
    "    (([[0,1,1],[1,1,1],[1,0,0]], 1), -1),\n",
    "    (([[0,0],[0,0]], 0), 2)\n",
    "]\n",
    "solver = Solution()\n",
    "for (grid, k), expected in tests:\n",
    "    grid_copy = [row[:] for row in grid]\n",
    "    assert solver.shortestPath(grid_copy, k) == expected\n",
    "print('All tests passed.')\n"
   ]
  },
  {
   "cell_type": "markdown",
   "metadata": {},
   "source": [
    "## Complexity Analysis\n",
    "- Time: O(m * n * k) since each pair `(cell, remaining)` is processed at most once.\n",
    "- Space: O(m * n) for the queue and the `visited` budget table.\n"
   ]
  },
  {
   "cell_type": "markdown",
   "metadata": {},
   "source": [
    "## Edge Cases & Pitfalls\n",
    "- Handle the case where `k` already exceeds the Manhattan distance—no BFS needed.\n",
    "- Do not revisit a cell with the same or smaller remaining budget; it would create redundant work.\n",
    "- Copy the grid before mutating it if the caller expects the original grid to remain unchanged (tests here clone rows).\n"
   ]
  },
  {
   "cell_type": "markdown",
   "metadata": {},
   "source": [
    "## Follow-up Variants\n",
    "- Return the actual path by storing predecessors together with each state.\n",
    "- Allow different costs for removing obstacles; convert to Dijkstra with weighted edges.\n",
    "- Support multiple agents with shared elimination budget by extending the state to include agent identifiers.\n"
   ]
  },
  {
   "cell_type": "markdown",
   "metadata": {},
   "source": [
    "## Takeaways\n",
    "- Augmenting BFS state with remaining resources is a common pattern for constrained shortest-path problems.\n",
    "- Tracking the best budget seen per cell is analogous to dynamic programming and keeps the search polynomial.\n",
    "- Recognizing when `k` trivially satisfies the Manhattan distance yields a quick optimization.\n"
   ]
  },
  {
   "cell_type": "markdown",
   "metadata": {},
   "source": [
    "## Similar Problems\n",
    "| Problem ID | Problem Title | Technique |\n",
    "| --- | --- | --- |\n",
    "| LC 1091 | Shortest Path in Binary Matrix | BFS with 8-direction movement |\n",
    "| LC 864 | Shortest Path to Get All Keys | BFS with state augmentation for collected keys |\n",
    "| LC 499 | The Maze III | BFS/priority search with stateful positions |\n"
   ]
  }
 ],
 "metadata": {
  "kernelspec": {
   "display_name": "Python 3",
   "language": "python",
   "name": "python3"
  },
  "language_info": {
   "name": "python",
   "version": "3.10"
  }
 },
 "nbformat": 4,
 "nbformat_minor": 5
}