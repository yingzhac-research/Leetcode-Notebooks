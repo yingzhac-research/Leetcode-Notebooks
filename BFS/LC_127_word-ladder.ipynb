{
 "cells": [
  {
   "cell_type": "markdown",
   "metadata": {},
   "source": [
    "# 127. Word Ladder"
   ]
  },
  {
   "cell_type": "markdown",
   "metadata": {},
   "source": [
    "## Topic Alignment\n",
    "- Bi-directional BFS over string states mirrors feature search in AutoML pipelines where we must transition between related configurations under tight cost budgets.\n"
   ]
  },
  {
   "cell_type": "markdown",
   "metadata": {},
   "source": [
    "## Metadata 摘要\n",
    "- Source: https://leetcode.com/problems/word-ladder/\n",
    "- Tags: BFS, Bidirectional Search, Strings\n",
    "- Difficulty: Hard\n",
    "- Priority: High\n"
   ]
  },
  {
   "cell_type": "markdown",
   "metadata": {},
   "source": [
    "## Problem Statement 原题描述\n",
    "Given two words `beginWord` and `endWord` plus a dictionary `wordList`, return the length of the shortest transformation sequence from `beginWord` to `endWord`. Each step may change exactly one letter and the intermediate word must appear in `wordList`. Return `0` if the transformation is impossible.\n"
   ]
  },
  {
   "cell_type": "markdown",
   "metadata": {},
   "source": [
    "## Progressive Hints\n",
    "- Hint 1: Think of each word as a node; edges connect words that differ by one character.\n",
    "- Hint 2: Pre-computing generic patterns such as `h*t` helps you find neighbors quickly.\n",
    "- Hint 3: Meet in the middle with bi-directional BFS to cut the branching factor down.\n"
   ]
  },
  {
   "cell_type": "markdown",
   "metadata": {},
   "source": [
    "## Solution Overview\n",
    "Use bidirectional BFS: start one frontier from `beginWord` and the other from `endWord`. At each round, expand the smaller frontier by replacing every letter with `a..z`, forming candidate words. When a candidate appears in the opposite frontier we have connected the two searches; the depth is the ladder length. Removing used words from the dictionary prevents revisits.\n"
   ]
  },
  {
   "cell_type": "markdown",
   "metadata": {},
   "source": [
    "## Detailed Explanation\n",
    "1. Load `wordList` into a hash set for `O(1)` lookups; immediately return `0` if `endWord` is absent.\n",
    "2. Initialize `front` with `beginWord` and `back` with `endWord`; keep a `level` counter starting at 1.\n",
    "3. Always expand the smaller frontier to limit the branching factor.\n",
    "4. For each word in the frontier, iterate each character position and substitute letters `a..z` to generate neighbors.\n",
    "5. If a neighbor exists in the opposite frontier we have connected the ladders; return `level + 1`.\n",
    "6. Otherwise, add unseen neighbors to the next frontier and remove them from the dictionary to avoid revisits.\n",
    "7. When the frontier empties without meeting the other side, no path exists and the answer is `0`.\n"
   ]
  },
  {
   "cell_type": "markdown",
   "metadata": {},
   "source": [
    "## Complexity Trade-off Table\n",
    "| Approach | Time | Space | Notes |\n",
    "| --- | --- | --- | --- |\n",
    "| Bidirectional BFS | O(L * 26 * N) | O(N) | L = word length, N = dictionary size |\n",
    "| Single-source BFS | O(L * 26 * N) | O(N) | Twice as many layers to explore |\n",
    "| Preprocessed graph + BFS | O(L * N + E) | O(N + E) | Explicitly materializes adjacency; heavy on memory |\n"
   ]
  },
  {
   "cell_type": "code",
   "execution_count": null,
   "metadata": {},
   "outputs": [],
   "source": [
    "from typing import List\n\n",
    "class Solution:\n",
    "    def ladderLength(self, beginWord: str, endWord: str, wordList: List[str]) -> int:\n",
    "        word_set = set(wordList)\n",
    "        if endWord not in word_set:\n",
    "            return 0\n",
    "        front = {beginWord}\n",
    "        back = {endWord}\n",
    "        word_set.discard(beginWord)\n",
    "        word_len = len(beginWord)\n",
    "        level = 1\n",
    "        while front and back:\n",
    "            if len(front) > len(back):\n",
    "                front, back = back, front\n",
    "            next_front = set()\n",
    "            for word in front:\n",
    "                word_chars = list(word)\n",
    "                for i in range(word_len):\n",
    "                    original = word_chars[i]\n",
    "                    for ch in 'abcdefghijklmnopqrstuvwxyz':\n",
    "                        if ch == original:\n",
    "                            continue\n",
    "                        word_chars[i] = ch\n",
    "                        candidate = ''.join(word_chars)\n",
    "                        if candidate in back:\n",
    "                            return level + 1\n",
    "                        if candidate in word_set:\n",
    "                            word_set.remove(candidate)\n",
    "                            next_front.add(candidate)\n",
    "                    word_chars[i] = original\n",
    "            front = next_front\n",
    "            level += 1\n",
    "        return 0\n"
   ]
  },
  {
   "cell_type": "code",
   "execution_count": null,
   "metadata": {
    "tags": [
     "validation"
    ]
   },
   "outputs": [],
   "source": [
    "tests = [\n",
    "    ((\"hit\", \"cog\", ['hot','dot','dog','lot','log','cog']), 5),\n",
    "    ((\"hit\", \"cog\", ['hot','dot','dog','lot','log']), 0)\n",
    "]\n",
    "solver = Solution()\n",
    "for (begin, end, words), expected in tests:\n",
    "    assert solver.ladderLength(begin, end, words) == expected\n",
    "print('All tests passed.')\n"
   ]
  },
  {
   "cell_type": "markdown",
   "metadata": {},
   "source": [
    "## Complexity Analysis\n",
    "- Time: O(L * 26 * N) because every level visits each word once and enumerates L substitutions.\n",
    "- Space: O(N) to store the dictionary and the two frontiers.\n"
   ]
  },
  {
   "cell_type": "markdown",
   "metadata": {},
   "source": [
    "## Edge Cases & Pitfalls\n",
    "- If `endWord` is not in the dictionary the answer must be `0`.\n",
    "- Avoid revisiting words: remove them from the dictionary as soon as they enter a frontier.\n",
    "- Remember to swap frontiers so you always expand the smaller side; otherwise the search may time out on dense dictionaries.\n"
   ]
  },
  {
   "cell_type": "markdown",
   "metadata": {},
   "source": [
    "## Follow-up Variants\n",
    "- Return the actual transformation sequence by backtracking parents from the meeting point.\n",
    "- Count the number of distinct shortest ladders by augmenting BFS with path counts.\n",
    "- Limit transformations to a custom alphabet (e.g., DNA bases) by changing the replacement loop.\n"
   ]
  },
  {
   "cell_type": "markdown",
   "metadata": {},
   "source": [
    "## Takeaways\n",
    "- Meet-in-the-middle BFS drastically reduces the branching factor for unweighted shortest path problems.\n",
    "- Removing visited words from the dictionary achieves constant-time deduplication.\n",
    "- Representing string neighbors via per-position substitutions keeps the implementation concise.\n"
   ]
  },
  {
   "cell_type": "markdown",
   "metadata": {},
   "source": [
    "## Similar Problems\n",
    "| Problem ID | Problem Title | Technique |\n",
    "| --- | --- | --- |\n",
    "| LC 752 | Open the Lock | Bidirectional BFS on digit states |\n",
    "| LC 433 | Minimum Genetic Mutation | BFS on fixed-length strings |\n",
    "| LC 126 | Word Ladder II | BFS + backtracking to enumerate all shortest paths |\n"
   ]
  }
 ],
 "metadata": {
  "kernelspec": {
   "display_name": "Python 3",
   "language": "python",
   "name": "python3"
  },
  "language_info": {
   "name": "python",
   "version": "3.10"
  }
 },
 "nbformat": 4,
 "nbformat_minor": 5
}