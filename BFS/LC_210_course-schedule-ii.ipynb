{
 "cells": [
  {
   "cell_type": "markdown",
   "metadata": {},
   "source": [
    "# 210. Course Schedule II"
   ]
  },
  {
   "cell_type": "markdown",
   "metadata": {},
   "source": [
    "## Topic Alignment\n",
    "- Generating a concrete topological order helps orchestrate complex ML workflows where data preparation, training, and evaluation steps have dependencies.\n"
   ]
  },
  {
   "cell_type": "markdown",
   "metadata": {},
   "source": [
    "## Metadata 摘要\n",
    "- Source: https://leetcode.com/problems/course-schedule-ii/\n",
    "- Tags: BFS, Topological Sort\n",
    "- Difficulty: Medium\n",
    "- Priority: High"
   ]
  },
  {
   "cell_type": "markdown",
   "metadata": {},
   "source": [
    "## Problem Statement 原题描述\n",
    "Return one possible order to finish all courses given prerequisites. If impossible, return an empty array."
   ]
  },
  {
   "cell_type": "markdown",
   "metadata": {},
   "source": [
    "## Progressive Hints\n",
    "- Hint 1: Build an adjacency list and indegree array as in Course Schedule I.\n",
    "- Hint 2: Start with all zero-indegree courses and process them via BFS.\n",
    "- Hint 3: Append each popped course to an answer list to materialize the ordering.\n"
   ]
  },
  {
   "cell_type": "markdown",
   "metadata": {},
   "source": [
    "## Solution Overview\n",
    "We apply Kahn's algorithm. Initialize the queue with zero-indegree nodes. While the queue is non-empty, dequeue a course, append it to the ordering, and decrement the indegrees of its outgoing neighbors. When a neighbor hits indegree zero, enqueue it. After processing, if the ordering length equals `numCourses`, return it; otherwise a cycle exists and we return an empty list.\n"
   ]
  },
  {
   "cell_type": "markdown",
   "metadata": {},
   "source": [
    "## Detailed Explanation\n",
    "1. Create adjacency lists and indegree counts from `prerequisites`.\n",
    "2. Initialize a queue with all courses whose indegree equals zero.\n",
    "3. Maintain an `order` list.\n",
    "4. While the queue has nodes:\n",
    "   - Pop `u` and append it to `order`.\n",
    "   - For each neighbor `v`, decrement `indegree[v]`.\n",
    "   - When `indegree[v]` becomes zero, enqueue `v`.\n",
    "5. After BFS, if `len(order) == numCourses`, return `order`; otherwise return `[]`.\n"
   ]
  },
  {
   "cell_type": "markdown",
   "metadata": {},
   "source": [
    "## Complexity Trade-off Table\n",
    "| Approach | Time | Space | Notes |\n",
    "| --- | --- | --- | --- |\n",
    "| Kahn's algorithm | O(n + m) | O(n + m) | Produces one valid ordering |\n",
    "| DFS post-order stack | O(n + m) | O(n + m) | Reverse the finishing order of DFS |\n",
    "| Iterative indegree scan | O(n²) | O(n + m) | Simpler conceptually but inefficient |\n"
   ]
  },
  {
   "cell_type": "code",
   "execution_count": null,
   "metadata": {},
   "outputs": [],
   "source": [
    "from collections import deque\n",
    "from typing import List\n\n",
    "class Solution:\n",
    "    def findOrder(self, numCourses: int, prerequisites: List[List[int]]) -> List[int]:\n",
    "        graph = [[] for _ in range(numCourses)]\n",
    "        indegree = [0] * numCourses\n",
    "        for course, pre in prerequisites:\n",
    "            graph[pre].append(course)\n",
    "            indegree[course] += 1\n",
    "        queue = deque([i for i in range(numCourses) if indegree[i] == 0])\n",
    "        order: List[int] = []\n",
    "        while queue:\n",
    "            node = queue.popleft()\n",
    "            order.append(node)\n",
    "            for nei in graph[node]:\n",
    "                indegree[nei] -= 1\n",
    "                if indegree[nei] == 0:\n",
    "                    queue.append(nei)\n",
    "        return order if len(order) == numCourses else []\n"
   ]
  },
  {
   "cell_type": "code",
   "execution_count": null,
   "metadata": {
    "tags": [
     "validation"
    ]
   },
   "outputs": [],
   "source": [
    "tests = [\n",
    "    ((2, [[1,0]]), {(0,1)}),\n",
    "    ((4, [[1,0],[2,0],[3,1],[3,2]]), {(0,1,2,3),(0,2,1,3)}),\n",
    "    ((1, []), {(0,)})\n",
    "]\n",
    "solver = Solution()\n",
    "for (n, prereq), expected_set in tests:\n",
    "    order = tuple(solver.findOrder(n, prereq))\n",
    "    assert order in expected_set, order\n",
    "print('All tests passed.')\n"
   ]
  },
  {
   "cell_type": "markdown",
   "metadata": {},
   "source": [
    "## Complexity Analysis\n",
    "- Time: O(n + m) with `n = numCourses`, `m = len(prerequisites)`.\n",
    "- Space: O(n + m) for the adjacency list, indegree array, queue, and output order.\n"
   ]
  },
  {
   "cell_type": "markdown",
   "metadata": {},
   "source": [
    "## Edge Cases & Pitfalls\n",
    "- Multiple valid orders may exist; any topological ordering is acceptable.\n",
    "- When the graph has a cycle, the queue will eventually empty while some indegrees remain positive—check the final length.\n",
    "- Avoid duplicate decrements if prerequisites contain repeated edges.\n"
   ]
  },
  {
   "cell_type": "markdown",
   "metadata": {},
   "source": [
    "## Follow-up Variants\n",
    "- Detect whether the topological order is unique by tracking when the queue size exceeds one.\n",
    "- Incorporate course durations and compute the earliest completion time by layering dynamic programming on top of the order.\n",
    "- Support streaming prerequisites by recomputing incremental indegree updates.\n"
   ]
  },
  {
   "cell_type": "markdown",
   "metadata": {},
   "source": [
    "## Takeaways\n",
    "- Producing an explicit ordering only requires augmenting Course Schedule I with an output list.\n",
    "- Kahn's algorithm is stable and avoids recursion limits, making it enterprise friendly.\n",
    "- The queue often encodes the set of tasks currently unblocked for parallel execution.\n"
   ]
  },
  {
   "cell_type": "markdown",
   "metadata": {},
   "source": [
    "## Similar Problems\n",
    "| Problem ID | Problem Title | Technique |\n",
    "| --- | --- | --- |\n",
    "| LC 207 | Course Schedule | Detect feasibility via Kahn's algorithm |\n",
    "| LC 802 | Find Eventual Safe States | Reverse topological pruning |\n",
    "| LC 269 | Alien Dictionary | Topological sort on inferred character graph |\n"
   ]
  }
 ],
 "metadata": {
  "kernelspec": {
   "display_name": "Python 3",
   "language": "python",
   "name": "python3"
  },
  "language_info": {
   "name": "python",
   "version": "3.10"
  }
 },
 "nbformat": 4,
 "nbformat_minor": 5
}