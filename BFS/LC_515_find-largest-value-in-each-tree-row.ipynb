{
 "cells": [
  {
   "cell_type": "markdown",
   "metadata": {},
   "source": [
    "# 515. Find Largest Value in Each Tree Row"
   ]
  },
  {
   "cell_type": "markdown",
   "metadata": {},
   "source": [
    "## Topic Alignment\n",
    "- Computing per-level aggregates supports explainability tooling for gradient-boosted trees, where analysts inspect extrema per depth.\n"
   ]
  },
  {
   "cell_type": "markdown",
   "metadata": {},
   "source": [
    "## Metadata 摘要\n",
    "- Source: https://leetcode.com/problems/find-largest-value-in-each-tree-row/\n",
    "- Tags: BFS, Tree\n",
    "- Difficulty: Medium\n",
    "- Priority: Medium"
   ]
  },
  {
   "cell_type": "markdown",
   "metadata": {},
   "source": [
    "## Problem Statement 原题描述\n",
    "Return the largest value in each row of a binary tree."
   ]
  },
  {
   "cell_type": "markdown",
   "metadata": {},
   "source": [
    "## Progressive Hints\n",
    "- Hint 1: Run level-order traversal to group nodes per depth.\n",
    "- Hint 2: Maintain the maximum value encountered while visiting nodes in the same level.\n",
    "- Hint 3: Append each level's maximum to the answer list before proceeding to the next level.\n"
   ]
  },
  {
   "cell_type": "markdown",
   "metadata": {},
   "source": [
    "## Solution Overview\n",
    "This is LC 102 with a per-level reduction. For each level, iterate over the nodes in the queue, track the maximum value encountered, and append it to the result. The queue logic remains identical to level-order traversal.\n"
   ]
  },
  {
   "cell_type": "markdown",
   "metadata": {},
   "source": [
    "## Detailed Explanation\n",
    "1. Return `[]` if the tree is empty.\n",
    "2. Initialize a queue with the root node.\n",
    "3. While the queue contains nodes:\n",
    "   - Let `size = len(queue)` and set `level_max = -inf`.\n",
    "   - Pop `size` nodes; for each, update `level_max` and enqueue the node's non-null children.\n",
    "   - Append `level_max` to the output list.\n",
    "4. Return the list of maxima.\n"
   ]
  },
  {
   "cell_type": "markdown",
   "metadata": {},
   "source": [
    "## Complexity Trade-off Table\n",
    "| Approach | Time | Space | Notes |\n",
    "| --- | --- | --- | --- |\n",
    "| BFS with running maximum | O(n) | O(n) | Single pass; stores queue of current level |\n",
    "| DFS with depth table | O(n) | O(h) | Maintain an array of maxima indexed by depth |\n"
   ]
  },
  {
   "cell_type": "code",
   "execution_count": null,
   "metadata": {},
   "outputs": [],
   "source": [
    "from collections import deque\n",
    "from typing import List, Optional\n\n",
    "class TreeNode:\n",
    "    def __init__(self, val: int = 0, left: Optional['TreeNode'] = None, right: Optional['TreeNode'] = None):\n",
    "        self.val = val\n",
    "        self.left = left\n",
    "        self.right = right\n\n",
    "class Solution:\n",
    "    def largestValues(self, root: Optional[TreeNode]) -> List[int]:\n",
    "        if not root:\n",
    "            return []\n",
    "        res: List[int] = []\n",
    "        queue = deque([root])\n",
    "        while queue:\n",
    "            size = len(queue)\n",
    "            level_max = float('-inf')\n",
    "            for _ in range(size):\n",
    "                node = queue.popleft()\n",
    "                level_max = max(level_max, node.val)\n",
    "                if node.left:\n",
    "                    queue.append(node.left)\n",
    "                if node.right:\n",
    "                    queue.append(node.right)\n",
    "            res.append(level_max)\n",
    "        return res\n"
   ]
  },
  {
   "cell_type": "code",
   "execution_count": null,
   "metadata": {
    "tags": [
     "validation"
    ]
   },
   "outputs": [],
   "source": [
    "def build_tree(values: List[Optional[int]]) -> Optional[TreeNode]:\n",
    "    if not values:\n",
    "        return None\n",
    "    nodes = [TreeNode(v) if v is not None else None for v in values]\n",
    "    kids = nodes[::-1]\n",
    "    root = kids.pop()\n",
    "    for node in nodes:\n",
    "        if node:\n",
    "            if kids:\n",
    "                node.left = kids.pop()\n",
    "            if kids:\n",
    "                node.right = kids.pop()\n",
    "    return root\n\n",
    "tests = [\n",
    "    ([1,3,2,5,3,None,9], [1,3,9]),\n",
    "    ([1,2,3], [1,3])\n",
    "]\n",
    "solver = Solution()\n",
    "for arr, expected in tests:\n",
    "    assert solver.largestValues(build_tree(arr)) == expected\n",
    "print('All tests passed.')\n"
   ]
  },
  {
   "cell_type": "markdown",
   "metadata": {},
   "source": [
    "## Complexity Analysis\n",
    "- Time: O(n) because each node contributes exactly once.\n",
    "- Space: O(n) for the queue at the widest level.\n"
   ]
  },
  {
   "cell_type": "markdown",
   "metadata": {},
   "source": [
    "## Edge Cases & Pitfalls\n",
    "- Initialization of `level_max` should use `-inf` (or the first node's value) to handle negative node values.\n",
    "- Do not forget to enqueue both left and right children when they exist.\n",
    "- For skewed trees, the queue shrinks to O(h) but the algorithm remains valid.\n"
   ]
  },
  {
   "cell_type": "markdown",
   "metadata": {},
   "source": [
    "## Follow-up Variants\n",
    "- Produce level averages or sums instead of maxima by changing the aggregation.\n",
    "- Track the level index of the maximum element to feed into logging/monitoring systems.\n",
    "- Combine with zigzag ordering to surface maxima in alternating orientation.\n"
   ]
  },
  {
   "cell_type": "markdown",
   "metadata": {},
   "source": [
    "## Takeaways\n",
    "- Level-order traversal is a flexible skeleton for computing per-depth statistics.\n",
    "- Tracking a single scalar per level keeps the algorithm memory efficient.\n",
    "- The approach readily generalizes to other commutative aggregations like min or sum.\n"
   ]
  },
  {
   "cell_type": "markdown",
   "metadata": {},
   "source": [
    "## Similar Problems\n",
    "| Problem ID | Problem Title | Technique |\n",
    "| --- | --- | --- |\n",
    "| LC 102 | Binary Tree Level Order Traversal | BFS framework reused here |\n",
    "| LC 103 | Binary Tree Zigzag Level Order Traversal | BFS with direction alternation |\n",
    "| LC 637 | Average of Levels in Binary Tree | BFS computing means per level |\n"
   ]
  }
 ],
 "metadata": {
  "kernelspec": {
   "display_name": "Python 3",
   "language": "python",
   "name": "python3"
  },
  "language_info": {
   "name": "python",
   "version": "3.10"
  }
 },
 "nbformat": 4,
 "nbformat_minor": 5
}