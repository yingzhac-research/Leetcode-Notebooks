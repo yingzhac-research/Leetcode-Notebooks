{
 "cells": [
  {
   "cell_type": "markdown",
   "id": "829acb9e",
   "metadata": {},
   "source": [
    "# 1765. Map of Highest Peak"
   ]
  },
  {
   "cell_type": "markdown",
   "id": "b9294f29",
   "metadata": {},
   "source": [
    "## Topic Alignment\n",
    "- Multi-source BFS models diffusion processes, such as propagating latency information from data centers or filling elevation maps in procedural content generation.\n"
   ]
  },
  {
   "cell_type": "markdown",
   "id": "e9c328fc",
   "metadata": {},
   "source": [
    "## Metadata 摘要\n",
    "- Source: https://leetcode.com/problems/map-of-highest-peak/\n",
    "- Tags: BFS, Multi-source, Grid\n",
    "- Difficulty: Medium\n",
    "- Priority: Medium"
   ]
  },
  {
   "cell_type": "markdown",
   "id": "39d2778e",
   "metadata": {},
   "source": [
    "## Problem Statement 原题描述\n",
    "You are given a binary matrix isWater, where 1 represents water and 0 land. Assign each cell a height following: water cells have height 0, adjacent cells (4-directionally) must differ by at most 1, and heights should be non-negative. Return any height assignment that maximizes the highest peak."
   ]
  },
  {
   "cell_type": "markdown",
   "id": "ca628c3d",
   "metadata": {},
   "source": [
    "## Progressive Hints\n",
    "- Hint 1: All water cells start with height 0; land heights expand outward from these sources.\n",
    "- Hint 2: Seed the BFS queue with every water cell simultaneously.\n",
    "- Hint 3: Assign `height + 1` to neighbors only when the new value improves on what is stored.\n"
   ]
  },
  {
   "cell_type": "markdown",
   "id": "6b7b4cfd",
   "metadata": {},
   "source": [
    "## Solution Overview\n",
    "Treat every water cell as a distance-zero source. Run multi-source BFS: enqueue all water coordinates with height 0, then expand in four directions. Whenever you reach an unassigned land cell, set its height to the parent height plus one and enqueue it. BFS ensures that the first time we assign a cell we use the smallest possible height.\n"
   ]
  },
  {
   "cell_type": "markdown",
   "id": "3f66ae82",
   "metadata": {},
   "source": [
    "## Detailed Explanation\n",
    "1. Let `height` be an `m × n` array initialized with `-1`.\n",
    "2. Push all water cells `(r, c)` with height 0 into the queue and set `height[r][c] = 0`.\n",
    "3. While the queue is not empty:\n",
    "   - Pop `(r, c)`.\n",
    "   - For each of the four directions, compute `(nr, nc)`.\n",
    "   - If `(nr, nc)` is inside the grid and `height[nr][nc] == -1`, set `height[nr][nc] = height[r][c] + 1` and enqueue `(nr, nc)`.\n",
    "4. Continue until the queue empties; all land cells will have the minimum distance to the nearest water source.\n",
    "5. Return `height`.\n"
   ]
  },
  {
   "cell_type": "markdown",
   "id": "f2c498c8",
   "metadata": {},
   "source": [
    "## Complexity Trade-off Table\n",
    "| Approach | Time | Space | Notes |\n",
    "| --- | --- | --- | --- |\n",
    "| Multi-source BFS | O(mn) | O(mn) | Each cell enqueues at most once |\n",
    "| Repeated single-source BFS | O(kmn) | O(mn) | `k` water cells; redundant work |\n",
    "| Dynamic programming sweeps | O(mn) | O(1) | Requires careful forward/backward passes, less intuitive |\n"
   ]
  },
  {
   "cell_type": "code",
   "execution_count": null,
   "id": "5cb86a12",
   "metadata": {},
   "outputs": [],
   "source": [
    "from collections import deque\n",
    "from typing import List\n",
    "\n",
    "class Solution:\n",
    "    def highestPeak(self, isWater: List[List[int]]) -> List[List[int]]:\n",
    "        rows, cols = len(isWater), len(isWater[0])\n",
    "        height = [[-1] * cols for _ in range(rows)]\n",
    "        queue = deque()\n",
    "        for r in range(rows):\n",
    "            for c in range(cols):\n",
    "                if isWater[r][c] == 1:\n",
    "                    height[r][c] = 0\n",
    "                    queue.append((r, c))\n",
    "        dirs = [(1,0),(-1,0),(0,1),(0,-1)]\n",
    "        while queue:\n",
    "            r, c = queue.popleft()\n",
    "            for dr, dc in dirs:\n",
    "                nr, nc = r + dr, c + dc\n",
    "                if 0 <= nr < rows and 0 <= nc < cols and height[nr][nc] == -1:\n",
    "                    height[nr][nc] = height[r][c] + 1\n",
    "                    queue.append((nr, nc))\n",
    "        return height\n"
   ]
  },
  {
   "cell_type": "code",
   "execution_count": null,
   "id": "d1b17dff",
   "metadata": {
    "tags": [
     "validation"
    ]
   },
   "outputs": [],
   "source": [
    "tests = [\n",
    "    ([[0,1],[0,0]], [[1,0],[2,1]]),\n",
    "    ([[1,0,0],[0,0,0],[0,0,1]], [[0,1,2],[1,2,1],[2,1,0]])\n",
    "]\n",
    "solver = Solution()\n",
    "for grid, expected in tests:\n",
    "    assert solver.highestPeak(grid) == expected\n",
    "print('All tests passed.')\n"
   ]
  },
  {
   "cell_type": "markdown",
   "id": "0da7594d",
   "metadata": {},
   "source": [
    "## Complexity Analysis\n",
    "- Time: O(mn) because each cell is visited at most once and we inspect four neighbors per visit.\n",
    "- Space: O(mn) for the queue and the height matrix.\n"
   ]
  },
  {
   "cell_type": "markdown",
   "id": "05f04a47",
   "metadata": {},
   "source": [
    "## Edge Cases & Pitfalls\n",
    "- If the grid is all land, the BFS will still assign heights by expanding outward from the first inserted cell—initialize carefully.\n",
    "- Ensure you do not overwrite an already assigned height; BFS guarantees minimal values only on first visit.\n",
    "- Watch for large grids: using Python lists for the queue (instead of `collections.deque`) would cause O(n²) behavior.\n"
   ]
  },
  {
   "cell_type": "markdown",
   "id": "c90699e5",
   "metadata": {},
   "source": [
    "## Follow-up Variants\n",
    "- Support diagonal adjacency by extending the direction list, producing Chebyshev distance instead of Manhattan distance.\n",
    "- Compute both the minimum and maximum distance to water by running BFS from land cells as well.\n",
    "- Attach terrain costs to each cell and switch to Dijkstra to model varying slopes.\n"
   ]
  },
  {
   "cell_type": "markdown",
   "id": "1c315fd0",
   "metadata": {},
   "source": [
    "## Takeaways\n",
    "- Multi-source BFS is the go-to tool whenever many starting points expand simultaneously.\n",
    "- A sentinel initialization (e.g., `-1`) helps detect unassigned cells cleanly.\n",
    "- The algorithm generalizes to any flood-fill style propagation on grids.\n"
   ]
  },
  {
   "cell_type": "markdown",
   "id": "c562068a",
   "metadata": {},
   "source": [
    "## Similar Problems\n",
    "| Problem ID | Problem Title | Technique |\n",
    "| --- | --- | --- |\n",
    "| LC 542 | 01 Matrix | Multi-source BFS for nearest zero |\n",
    "| LC 286 | Walls and Gates | BFS from gates across rooms |\n",
    "| LC 994 | Rotting Oranges | Multi-source BFS with time steps |\n"
   ]
  }
 ],
 "metadata": {
  "kernelspec": {
   "display_name": "Python 3 (ipykernel)",
   "language": "python",
   "name": "python3"
  },
  "language_info": {
   "codemirror_mode": {
    "name": "ipython",
    "version": 3
   },
   "file_extension": ".py",
   "mimetype": "text/x-python",
   "name": "python",
   "nbconvert_exporter": "python",
   "pygments_lexer": "ipython3",
   "version": "3.13.3"
  }
 },
 "nbformat": 4,
 "nbformat_minor": 5
}
