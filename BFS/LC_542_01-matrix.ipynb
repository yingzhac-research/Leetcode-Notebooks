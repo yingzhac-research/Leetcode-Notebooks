{
 "cells": [
  {
   "cell_type": "markdown",
   "metadata": {},
   "source": [
    "# 542. 01 Matrix"
   ]
  },
  {
   "cell_type": "markdown",
   "metadata": {},
   "source": [
    "## Topic Alignment\n",
    "- Multi-source BFS captures distance transforms used in computer vision and nearest-facility modeling for service placement.\n"
   ]
  },
  {
   "cell_type": "markdown",
   "metadata": {},
   "source": [
    "## Metadata 摘要\n",
    "- Source: https://leetcode.com/problems/01-matrix/\n",
    "- Tags: BFS, Multi-source, Grid\n",
    "- Difficulty: Medium\n",
    "- Priority: High"
   ]
  },
  {
   "cell_type": "markdown",
   "metadata": {},
   "source": [
    "## Problem Statement 原题描述\n",
    "Given an m x n binary matrix mat, return the distance of the nearest 0 for each cell. Distance is measured in terms of number of steps moved to neighboring cells (up/down/left/right)."
   ]
  },
  {
   "cell_type": "markdown",
   "metadata": {},
   "source": [
    "## Progressive Hints\n",
    "- Hint 1: Start from every zero cell simultaneously because they are distance zero.\n",
    "- Hint 2: Initialize other cells to `inf` and relax distances when you find a closer zero.\n",
    "- Hint 3: Push neighbors only when you update their distance to a smaller value.\n"
   ]
  },
  {
   "cell_type": "markdown",
   "metadata": {},
   "source": [
    "## Solution Overview\n",
    "Seed a queue with all zero-valued cells and set their distance to zero. For each dequeued cell `(r, c)`, inspect its four neighbors. If the neighbor's current distance exceeds `dist[r][c] + 1`, update it and enqueue the neighbor. BFS guarantees the first distance assigned is minimal because all edges have unweighted cost 1.\n"
   ]
  },
  {
   "cell_type": "markdown",
   "metadata": {},
   "source": [
    "## Detailed Explanation\n",
    "1. Initialize a `dist` matrix filled with `inf` and a queue.\n",
    "2. Iterate the grid; for each zero, set `dist[r][c] = 0` and enqueue `(r, c)`.\n",
    "3. While the queue is not empty:\n",
    "   - Pop `(r, c)` and read `dist[r][c]`.\n",
    "   - For each of the four directions, compute `(nr, nc)`.\n",
    "   - If inside bounds and `dist[nr][nc] > dist[r][c] + 1`, update it and enqueue `(nr, nc)`.\n",
    "4. Return `dist` once BFS finishes.\n"
   ]
  },
  {
   "cell_type": "markdown",
   "metadata": {},
   "source": [
    "## Complexity Trade-off Table\n",
    "| Approach | Time | Space | Notes |\n",
    "| --- | --- | --- | --- |\n",
    "| Multi-source BFS | O(mn) | O(mn) | Straightforward and optimal |\n",
    "| Dynamic programming (two passes) | O(mn) | O(1) | Requires two directional sweeps |\n",
    "| Individual BFS from each cell | O((mn)²) | O(mn) | Inefficient and times out |\n"
   ]
  },
  {
   "cell_type": "code",
   "execution_count": null,
   "metadata": {},
   "outputs": [],
   "source": [
    "from collections import deque\n",
    "from typing import List\n\n",
    "class Solution:\n",
    "    def updateMatrix(self, mat: List[List[int]]) -> List[List[int]]:\n",
    "        rows, cols = len(mat), len(mat[0])\n",
    "        dist = [[float('inf')] * cols for _ in range(rows)]\n",
    "        queue = deque()\n",
    "        for r in range(rows):\n",
    "            for c in range(cols):\n",
    "                if mat[r][c] == 0:\n",
    "                    dist[r][c] = 0\n",
    "                    queue.append((r, c))\n",
    "        dirs = [(1,0),(-1,0),(0,1),(0,-1)]\n",
    "        while queue:\n",
    "            r, c = queue.popleft()\n",
    "            for dr, dc in dirs:\n",
    "                nr, nc = r + dr, c + dc\n",
    "                if 0 <= nr < rows and 0 <= nc < cols:\n",
    "                    if dist[nr][nc] > dist[r][c] + 1:\n",
    "                        dist[nr][nc] = dist[r][c] + 1\n",
    "                        queue.append((nr, nc))\n",
    "        return dist\n"
   ]
  },
  {
   "cell_type": "code",
   "execution_count": null,
   "metadata": {
    "tags": [
     "validation"
    ]
   },
   "outputs": [],
   "source": [
    "tests = [\n",
    "    ([[0,0,0],[0,1,0],[0,0,0]], [[0,0,0],[0,1,0],[0,0,0]]),\n",
    "    ([[0,0,0],[0,1,0],[1,1,1]], [[0,0,0],[0,1,0],[1,2,1]])\n",
    "]\n",
    "solver = Solution()\n",
    "for mat, expected in tests:\n",
    "    assert solver.updateMatrix(mat) == expected\n",
    "print('All tests passed.')\n"
   ]
  },
  {
   "cell_type": "markdown",
   "metadata": {},
   "source": [
    "## Complexity Analysis\n",
    "- Time: O(mn) because each cell is enqueued at most once after its distance improves.\n",
    "- Space: O(mn) for the queue and distance matrix.\n"
   ]
  },
  {
   "cell_type": "markdown",
   "metadata": {},
   "source": [
    "## Edge Cases & Pitfalls\n",
    "- Grids may contain only zeros; BFS still works and returns zeros everywhere.\n",
    "- Ensure `dist` comparisons use `>` rather than `>=` to avoid redundant enqueues.\n",
    "- Some implementations mutate the grid in place, but keeping a separate matrix preserves the original input.\n"
   ]
  },
  {
   "cell_type": "markdown",
   "metadata": {},
   "source": [
    "## Follow-up Variants\n",
    "- Return both the distance matrix and the coordinates of the nearest zero by storing parent pointers.\n",
    "- Allow diagonal moves for Chebyshev distance by extending the direction list to eight offsets.\n",
    "- Incorporate weighted steps and use Dijkstra instead of BFS.\n"
   ]
  },
  {
   "cell_type": "markdown",
   "metadata": {},
   "source": [
    "## Takeaways\n",
    "- Multi-source BFS is ideal when many sources propagate equally through the graph.\n",
    "- Updating distance only when strictly better prevents exponential queue growth.\n",
    "- The approach parallels heat diffusion and shortest-path distance transforms in image processing.\n"
   ]
  },
  {
   "cell_type": "markdown",
   "metadata": {},
   "source": [
    "## Similar Problems\n",
    "| Problem ID | Problem Title | Technique |\n",
    "| --- | --- | --- |\n",
    "| LC 1765 | Map of Highest Peak | Multi-source BFS expanding heights |\n",
    "| LC 994 | Rotting Oranges | Multi-source BFS with time tracking |\n",
    "| LC 286 | Walls and Gates | BFS from multiple gates |\n"
   ]
  }
 ],
 "metadata": {
  "kernelspec": {
   "display_name": "Python 3",
   "language": "python",
   "name": "python3"
  },
  "language_info": {
   "name": "python",
   "version": "3.10"
  }
 },
 "nbformat": 4,
 "nbformat_minor": 5
}