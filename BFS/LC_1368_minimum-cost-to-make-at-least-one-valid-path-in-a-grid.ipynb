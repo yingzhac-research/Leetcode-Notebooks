{
 "cells": [
  {
   "cell_type": "markdown",
   "metadata": {},
   "source": [
    "# 1368. Minimum Cost to Make at Least One Valid Path in a Grid"
   ]
  },
  {
   "cell_type": "markdown",
   "metadata": {},
   "source": [
    "## Topic Alignment\n",
    "- 0-1 BFS is a lightweight alternative to Dijkstra when edge weights are only 0 or 1, matching routing problems in control systems and low-latency scheduling for inference pipelines.\n"
   ]
  },
  {
   "cell_type": "markdown",
   "metadata": {},
   "source": [
    "## Metadata 摘要\n",
    "- Source: https://leetcode.com/problems/minimum-cost-to-make-at-least-one-valid-path-in-a-grid/\n",
    "- Tags: 0-1 BFS, Grid\n",
    "- Difficulty: Hard\n",
    "- Priority: High"
   ]
  },
  {
   "cell_type": "markdown",
   "metadata": {},
   "source": [
    "## Problem Statement 原题描述\n",
    "Each cell in the grid has an arrow pointing to one of the four directions. Moving in the indicated direction costs 0; changing direction costs 1. Find the minimum cost to move from (0,0) to (m-1,n-1)."
   ]
  },
  {
   "cell_type": "markdown",
   "metadata": {},
   "source": [
    "## Progressive Hints\n",
    "- Hint 1: Each cell points to a preferred direction; following it costs 0, deviating costs 1.\n",
    "- Hint 2: Use a deque so zero-cost moves are examined before cost-one moves.\n",
    "- Hint 3: Maintain a distance matrix; only push a neighbor when you discover a cheaper cost.\n"
   ]
  },
  {
   "cell_type": "markdown",
   "metadata": {},
   "source": [
    "## Solution Overview\n",
    "Interpret the grid as a directed graph. From each cell you can move up, down, left, or right. Continuing along the cell's prescribed arrow incurs no additional cost, whereas changing direction adds 1. Apply 0-1 BFS: keep a deque, pop from the left, and push neighbors to the front for zero-cost transitions or to the back for cost-one transitions. Update the distance table whenever a cheaper cost is found.\n"
   ]
  },
  {
   "cell_type": "markdown",
   "metadata": {},
   "source": [
    "## Detailed Explanation\n",
    "1. Map directions: `1` → right, `2` → left, `3` → down, `4` → up.\n",
    "2. Initialize `dist` with `inf` and set `dist[0][0] = 0`; enqueue `(0, 0)`.\n",
    "3. While the deque is not empty, pop `(r, c)`.\n",
    "4. For each of the four directions, compute `(nr, nc)` and the associated cost (`0` if the index matches `grid[r][c]`, else `1`).\n",
    "5. If the new cost `dist[r][c] + cost` is smaller than `dist[nr][nc]`, update it.\n",
    "6. Push `(nr, nc)` to the front when `cost == 0`, otherwise push to the back.\n",
    "7. Continue until the deque empties; the answer is `dist[m-1][n-1]`.\n"
   ]
  },
  {
   "cell_type": "markdown",
   "metadata": {},
   "source": [
    "## Complexity Trade-off Table\n",
    "| Approach | Time | Space | Notes |\n",
    "| --- | --- | --- | --- |\n",
    "| 0-1 BFS | O(mn) | O(mn) | Linear time thanks to two-phase queue handling |\n",
    "| Dijkstra (priority queue) | O(mn log(mn)) | O(mn) | Simpler to reason about but slower |\n",
    "| Bellman-Ford | O(m²n²) | O(mn) | Overkill for 0/1 costs |\n"
   ]
  },
  {
   "cell_type": "code",
   "execution_count": null,
   "metadata": {},
   "outputs": [],
   "source": [
    "from collections import deque\n",
    "from math import inf\n",
    "from typing import List\n\n",
    "class Solution:\n",
    "    def minCost(self, grid: List[List[int]]) -> int:\n",
    "        m, n = len(grid), len(grid[0])\n",
    "        dirs = [(0, 1), (0, -1), (1, 0), (-1, 0)]\n",
    "        dist = [[inf] * n for _ in range(m)]\n",
    "        dist[0][0] = 0\n",
    "        dq = deque([(0, 0)])\n",
    "        while dq:\n",
    "            r, c = dq.popleft()\n",
    "            if dist[r][c] < 0:\n",
    "                continue\n",
    "            for idx, (dr, dc) in enumerate(dirs, start=1):\n",
    "                nr, nc = r + dr, c + dc\n",
    "                if 0 <= nr < m and 0 <= nc < n:\n",
    "                    cost = 0 if grid[r][c] == idx else 1\n",
    "                    new_dist = dist[r][c] + cost\n",
    "                    if new_dist < dist[nr][nc]:\n",
    "                        dist[nr][nc] = new_dist\n",
    "                        if cost == 0:\n",
    "                            dq.appendleft((nr, nc))\n",
    "                        else:\n",
    "                            dq.append((nr, nc))\n",
    "        return dist[m - 1][n - 1]\n"
   ]
  },
  {
   "cell_type": "code",
   "execution_count": null,
   "metadata": {
    "tags": [
     "validation"
    ]
   },
   "outputs": [],
   "source": [
    "tests = [\n",
    "    ([[1,1,3],[3,2,2],[1,1,4]], 0),\n",
    "    ([[1,2],[4,3]], 1),\n",
    "    ([[2,2,2],[2,2,2]], 3)\n",
    "]\n",
    "solver = Solution()\n",
    "for grid, expected in tests:\n",
    "    assert solver.minCost(grid) == expected\n",
    "print('All tests passed.')\n"
   ]
  },
  {
   "cell_type": "markdown",
   "metadata": {},
   "source": [
    "## Complexity Analysis\n",
    "- Time: O(mn) because each cell can relax each direction at most once with 0-1 BFS ordering.\n",
    "- Space: O(mn) for the distance matrix and the deque.\n"
   ]
  },
  {
   "cell_type": "markdown",
   "metadata": {},
   "source": [
    "## Edge Cases & Pitfalls\n",
    "- Remember that the cell’s value encodes the direction of the outgoing arrow, not the cost itself.\n",
    "- Without pushing zero-cost edges to the deque front you lose optimal ordering and may revisit states unnecessarily.\n",
    "- Beware of negative sentinel values in the deque when reusing arrays; initialize `dist` properly.\n"
   ]
  },
  {
   "cell_type": "markdown",
   "metadata": {},
   "source": [
    "## Follow-up Variants\n",
    "- Track the actual path by storing predecessor coordinates together with each relaxation.\n",
    "- Allow diagonals or additional directions by extending the direction map and indices.\n",
    "- Replace costs with arbitrary non-negative weights and switch to Dijkstra accordingly.\n"
   ]
  },
  {
   "cell_type": "markdown",
   "metadata": {},
   "source": [
    "## Takeaways\n",
    "- 0-1 BFS combines the clarity of BFS with the optimality of Dijkstra for two-level weights.\n",
    "- The deque push ordering (front vs back) is the essential trick to maintain monotonic costs.\n",
    "- Efficient distance tables turn many grid problems into graph problems with manageable complexity.\n"
   ]
  },
  {
   "cell_type": "markdown",
   "metadata": {},
   "source": [
    "## Similar Problems\n",
    "| Problem ID | Problem Title | Technique |\n",
    "| --- | --- | --- |\n",
    "| LC 1293 | Shortest Path in a Grid with Obstacles Elimination | BFS with state augmentation |\n",
    "| LC 505 | The Maze II | Dijkstra/0-1 BFS on grids |\n",
    "| LC 778 | Swim in Rising Water | Dijkstra on weighted cells |\n"
   ]
  }
 ],
 "metadata": {
  "kernelspec": {
   "display_name": "Python 3",
   "language": "python",
   "name": "python3"
  },
  "language_info": {
   "name": "python",
   "version": "3.10"
  }
 },
 "nbformat": 4,
 "nbformat_minor": 5
}