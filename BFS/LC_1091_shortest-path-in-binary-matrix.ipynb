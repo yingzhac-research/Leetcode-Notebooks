{
 "cells": [
  {
   "cell_type": "markdown",
   "metadata": {},
   "source": [
    "# 1091. Shortest Path in Binary Matrix"
   ]
  },
  {
   "cell_type": "markdown",
   "metadata": {},
   "source": [
    "## Topic Alignment\n",
    "- Shortest-path search on binary grids overlaps with robot motion planning and cost-aware routing for data-center scheduling, where each step corresponds to moving between feasible states.\n"
   ]
  },
  {
   "cell_type": "markdown",
   "metadata": {},
   "source": [
    "## Metadata 摘要\n",
    "- Source: https://leetcode.com/problems/shortest-path-in-binary-matrix/\n",
    "- Tags: BFS, Grid\n",
    "- Difficulty: Medium\n",
    "- Priority: High"
   ]
  },
  {
   "cell_type": "markdown",
   "metadata": {},
   "source": [
    "## Problem Statement 原题描述\n",
    "Given an n x n binary matrix grid, return the length of the shortest clear path from top-left to bottom-right. A path is clear if all visited cells are 0 and moves can be made in 8 directions. Return -1 if no such path exists."
   ]
  },
  {
   "cell_type": "markdown",
   "metadata": {},
   "source": [
    "## Progressive Hints\n",
    "- Hint 1: Treat each cell as a node with up to eight neighbors—diagonals included.\n",
    "- Hint 2: Push `(row, col, distance)` triples into the queue so you know how many steps have elapsed when you reach the target.\n",
    "- Hint 3: Mark cells as visited the moment they enter the queue to avoid revisiting them from longer paths.\n"
   ]
  },
  {
   "cell_type": "markdown",
   "metadata": {},
   "source": [
    "## Solution Overview\n",
    "Run BFS starting from `(0, 0)` when both the start and end cells are clear. At every dequeue operation, expand the eight surrounding offsets. Skip coordinates that fall outside the grid, are blocked by a `1`, or were already visited. The first time you pop the bottom-right corner, the associated distance is the length of the shortest clear path. If the queue empties first, no path exists and the answer is `-1`.\n"
   ]
  },
  {
   "cell_type": "markdown",
   "metadata": {},
   "source": [
    "## Detailed Explanation\n",
    "1. Guard: if either the start or end cell is `1`, return `-1` immediately.\n",
    "2. Initialize a queue with `(0, 0, 1)` where the last component holds the path length so far.\n",
    "3. Maintain an `n × n` boolean grid for visited flags; mark `(0, 0)` as visited before enqueuing.\n",
    "4. While the queue is non-empty, pop the front triple `(r, c, dist)`.\n",
    "5. If `(r, c)` equals `(n-1, n-1)`, return `dist` because BFS guarantees minimal steps.\n",
    "6. For each of the eight directional deltas, compute `(nr, nc)`; when inside bounds, unvisited, and `grid[nr][nc] == 0`, mark visited and enqueue `(nr, nc, dist + 1)`.\n",
    "7. If the loop finishes without reaching the target, return `-1`.\n"
   ]
  },
  {
   "cell_type": "markdown",
   "metadata": {},
   "source": [
    "## Complexity Trade-off Table\n",
    "| Approach | Time | Space | Notes |\n",
    "| --- | --- | --- | --- |\n",
    "| BFS (queue) | O(n²) | O(n²) | Optimal for unweighted grids and returns the shortest path length |\n",
    "| DFS backtracking | Exponential | O(n²) | Explores many redundant paths and cannot guarantee optimality |\n",
    "| A* with heuristic | O(n² log n) | O(n²) | Needs an admissible heuristic; more code for marginal gain |\n"
   ]
  },
  {
   "cell_type": "code",
   "execution_count": null,
   "metadata": {},
   "outputs": [],
   "source": [
    "from collections import deque\n",
    "from typing import List\n\n",
    "class Solution:\n",
    "    def shortestPathBinaryMatrix(self, grid: List[List[int]]) -> int:\n",
    "        n = len(grid)\n",
    "        if grid[0][0] == 1 or grid[n - 1][n - 1] == 1:\n",
    "            return -1\n",
    "        dirs = [\n",
    "            (-1, -1), (-1, 0), (-1, 1),\n",
    "            (0, -1),           (0, 1),\n",
    "            (1, -1),  (1, 0),  (1, 1)\n",
    "        ]\n",
    "        queue = deque([(0, 0, 1)])\n",
    "        visited = [[False] * n for _ in range(n)]\n",
    "        visited[0][0] = True\n",
    "        while queue:\n",
    "            r, c, dist = queue.popleft()\n",
    "            if r == n - 1 and c == n - 1:\n",
    "                return dist\n",
    "            for dr, dc in dirs:\n",
    "                nr, nc = r + dr, c + dc\n",
    "                if 0 <= nr < n and 0 <= nc < n:\n",
    "                    if not visited[nr][nc] and grid[nr][nc] == 0:\n",
    "                        visited[nr][nc] = True\n",
    "                        queue.append((nr, nc, dist + 1))\n",
    "        return -1"
   ]
  },
  {
   "cell_type": "code",
   "execution_count": null,
   "metadata": {
    "tags": [
     "validation"
    ]
   },
   "outputs": [],
   "source": [
    "tests = [\n",
    "    ([[0,1],[1,0]], 2),\n",
    "    ([[0,0,0],[1,1,0],[1,1,0]], 4),\n",
    "    ([[1,0,0],[1,1,0],[1,1,0]], -1)\n",
    "]\n",
    "solver = Solution()\n",
    "for grid, expected in tests:\n",
    "    grid_copy = [row[:] for row in grid]\n",
    "    assert solver.shortestPathBinaryMatrix(grid_copy) == expected\n",
    "print('All tests passed.')"
   ]
  },
  {
   "cell_type": "markdown",
   "metadata": {},
   "source": [
    "## Complexity Analysis\n",
    "- Time: O(n²) because each cell is visited at most once and we scan eight neighbors per cell.\n",
    "- Space: O(n²) for the queue plus the visited grid.\n"
   ]
  },
  {
   "cell_type": "markdown",
   "metadata": {},
   "source": [
    "## Edge Cases & Pitfalls\n",
    "- Both start and target must be zeros; fail fast otherwise.\n",
    "- Enqueueing without marking visited may lead to exponential duplication.\n",
    "- Remember to include diagonal offsets; forgetting them changes the answer.\n"
   ]
  },
  {
   "cell_type": "markdown",
   "metadata": {},
   "source": [
    "## Follow-up Variants\n",
    "- Return the actual path by storing parent pointers during BFS.\n",
    "- If diagonal moves have different weights, switch to Dijkstra or 0-1 BFS depending on the weights.\n",
    "- Consider multiple starting sources and compute the shortest path to any target cell by seeding the queue with all sources.\n"
   ]
  },
  {
   "cell_type": "markdown",
   "metadata": {},
   "source": [
    "## Takeaways\n",
    "- BFS with a distance counter is the template for shortest paths on unweighted graphs.\n",
    "- Precomputing the list of directional offsets keeps the neighbor logic clean.\n",
    "- Marking visited on enqueue prevents enqueuing the same cell multiple times from different parents.\n"
   ]
  },
  {
   "cell_type": "markdown",
   "metadata": {},
   "source": [
    "## Similar Problems\n",
    "| Problem ID | Problem Title | Technique |\n",
    "| --- | --- | --- |\n",
    "| LC 1293 | Shortest Path in a Grid with Obstacles Elimination | BFS with state `(row, col, remaining_k)` |\n",
    "| LC 490 | The Maze | BFS over rolling positions |\n",
    "| LC 542 | 01 Matrix | Multi-source BFS for nearest zero |\n"
   ]
  }
 ],
 "metadata": {
  "kernelspec": {
   "display_name": "Python 3",
   "language": "python",
   "name": "python3"
  },
  "language_info": {
   "name": "python",
   "version": "3.10"
  }
 },
 "nbformat": 4,
 "nbformat_minor": 5
}