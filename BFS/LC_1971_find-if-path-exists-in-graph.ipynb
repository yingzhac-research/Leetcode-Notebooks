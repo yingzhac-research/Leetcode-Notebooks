{
 "cells": [
  {
   "cell_type": "markdown",
   "metadata": {},
   "source": [
    "# 1971. Find if Path Exists in Graph"
   ]
  },
  {
   "cell_type": "markdown",
   "metadata": {},
   "source": [
    "## Topic Alignment\n",
    "- Reachability checks on sparse graphs appear in dependency resolution, knowledge graph traversal, and feature lineage analysis for MLOps pipelines.\n"
   ]
  },
  {
   "cell_type": "markdown",
   "metadata": {},
   "source": [
    "## Metadata 摘要\n",
    "- Source: https://leetcode.com/problems/find-if-path-exists-in-graph/\n",
    "- Tags: BFS, Graph\n",
    "- Difficulty: Easy\n",
    "- Priority: Medium"
   ]
  },
  {
   "cell_type": "markdown",
   "metadata": {},
   "source": [
    "## Problem Statement 原题描述\n",
    "Given an undirected graph with n nodes numbered 0..n-1 and an edge list, determine whether there is a path between source and destination. Return True/False."
   ]
  },
  {
   "cell_type": "markdown",
   "metadata": {},
   "source": [
    "## Progressive Hints\n",
    "- Hint 1: Build an adjacency list from the edge list; the graph is undirected.\n",
    "- Hint 2: Use BFS or DFS starting at `source`; stop early if you reach `destination`.\n",
    "- Hint 3: Maintain a visited set to avoid infinite loops in cyclic graphs.\n"
   ]
  },
  {
   "cell_type": "markdown",
   "metadata": {},
   "source": [
    "## Solution Overview\n",
    "Construct the adjacency list and run BFS from `source`. Pop nodes from the queue, enqueue their neighbors when unseen, and return `True` as soon as `destination` is popped (or discovered). If BFS completes without finding the destination, return `False`. DFS provides the same complexity but BFS avoids recursion depth concerns.\n"
   ]
  },
  {
   "cell_type": "markdown",
   "metadata": {},
   "source": [
    "## Detailed Explanation\n",
    "1. Initialize `graph` as a list of lists (or `defaultdict(list)`).\n",
    "2. For every undirected edge `(u, v)`, append `v` to `graph[u]` and `u` to `graph[v]`.\n",
    "3. Start BFS with a queue containing `source` and mark it visited.\n",
    "4. While the queue is not empty:\n",
    "   - Pop a node `u`.\n",
    "   - If `u == destination`, return `True`.\n",
    "   - Iterate neighbors `v` in `graph[u]`; if unseen, mark visited and enqueue.\n",
    "5. If the queue empties, no path exists—return `False`.\n"
   ]
  },
  {
   "cell_type": "markdown",
   "metadata": {},
   "source": [
    "## Complexity Trade-off Table\n",
    "| Approach | Time | Space | Notes |\n",
    "| --- | --- | --- | --- |\n",
    "| BFS / DFS traversal | O(n + m) | O(n + m) | Single pass through vertices and edges |\n",
    "| Union-Find | O(n + m α(n)) | O(n) | Preprocess connectivity; queries become O(1) |\n",
    "| Floyd-Warshall | O(n³) | O(n²) | Overkill, computes all-pairs reachability |\n"
   ]
  },
  {
   "cell_type": "code",
   "execution_count": null,
   "metadata": {},
   "outputs": [],
   "source": [
    "from collections import deque, defaultdict\n",
    "from typing import List\n\n",
    "class Solution:\n",
    "    def validPath(self, n: int, edges: List[List[int]], source: int, destination: int) -> bool:\n",
    "        if source == destination:\n",
    "            return True\n",
    "        graph = defaultdict(list)\n",
    "        for u, v in edges:\n",
    "            graph[u].append(v)\n",
    "            graph[v].append(u)\n",
    "        queue = deque([source])\n",
    "        visited = {source}\n",
    "        while queue:\n",
    "            node = queue.popleft()\n",
    "            if node == destination:\n",
    "                return True\n",
    "            for nei in graph[node]:\n",
    "                if nei not in visited:\n",
    "                    visited.add(nei)\n",
    "                    queue.append(nei)\n",
    "        return False\n"
   ]
  },
  {
   "cell_type": "code",
   "execution_count": null,
   "metadata": {
    "tags": [
     "validation"
    ]
   },
   "outputs": [],
   "source": [
    "tests = [\n",
    "    ((3, [[0,1],[1,2],[2,0]], 0, 2), True),\n",
    "    ((6, [[0,1],[0,2],[3,5],[5,4],[4,3]], 0, 5), False)\n",
    "]\n",
    "solver = Solution()\n",
    "for args, expected in tests:\n",
    "    assert solver.validPath(*args) == expected\n",
    "print('All tests passed.')\n"
   ]
  },
  {
   "cell_type": "markdown",
   "metadata": {},
   "source": [
    "## Complexity Analysis\n",
    "- Time: O(n + m) where `n` is the number of nodes and `m` the number of edges.\n",
    "- Space: O(n + m) for the adjacency list and the visited set.\n"
   ]
  },
  {
   "cell_type": "markdown",
   "metadata": {},
   "source": [
    "## Edge Cases & Pitfalls\n",
    "- If `source == destination`, return `True` even if there are no edges.\n",
    "- The graph may be disconnected; guard against empty adjacency lists.\n",
    "- Avoid recursion for large graphs to prevent stack overflows—iterative BFS is safer.\n"
   ]
  },
  {
   "cell_type": "markdown",
   "metadata": {},
   "source": [
    "## Follow-up Variants\n",
    "- Handle multiple connectivity queries by preprocessing with Union-Find.\n",
    "- Support dynamic edge insertions with incremental connectivity structures.\n",
    "- Determine the shortest path length by recording distances alongside BFS.\n"
   ]
  },
  {
   "cell_type": "markdown",
   "metadata": {},
   "source": [
    "## Takeaways\n",
    "- Graph reachability is a fundamental primitive for dependency analysis and safety checks.\n",
    "- BFS and DFS share the same asymptotic cost; choose based on recursion depth tolerance.\n",
    "- Union-Find precomputation pays off when queries far outnumber updates.\n"
   ]
  },
  {
   "cell_type": "markdown",
   "metadata": {},
   "source": [
    "## Similar Problems\n",
    "| Problem ID | Problem Title | Technique |\n",
    "| --- | --- | --- |\n",
    "| LC 797 | All Paths From Source to Target | DFS over DAGs |\n",
    "| LC 261 | Graph Valid Tree | BFS/DFS plus tree validation |\n",
    "| LC 785 | Is Graph Bipartite? | BFS with coloring |\n"
   ]
  }
 ],
 "metadata": {
  "kernelspec": {
   "display_name": "Python 3",
   "language": "python",
   "name": "python3"
  },
  "language_info": {
   "name": "python",
   "version": "3.10"
  }
 },
 "nbformat": 4,
 "nbformat_minor": 5
}