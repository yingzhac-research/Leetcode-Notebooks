{
 "cells": [
  {
   "cell_type": "markdown",
   "metadata": {},
   "source": [
    "# 279. Perfect Squares"
   ]
  },
  {
   "cell_type": "markdown",
   "metadata": {},
   "source": [
    "## Topic Alignment\n",
    "- BFS on integer states is useful for modeling minimal transformation costs, such as rounding resource allocation to square capacities in hardware planning.\n"
   ]
  },
  {
   "cell_type": "markdown",
   "metadata": {},
   "source": [
    "## Metadata 摘要\n",
    "- Source: https://leetcode.com/problems/perfect-squares/\n",
    "- Tags: BFS, Math\n",
    "- Difficulty: Medium\n",
    "- Priority: Medium"
   ]
  },
  {
   "cell_type": "markdown",
   "metadata": {},
   "source": [
    "## Problem Statement 原题描述\n",
    "Given an integer n, return the least number of perfect square numbers that sum to n."
   ]
  },
  {
   "cell_type": "markdown",
   "metadata": {},
   "source": [
    "## Progressive Hints\n",
    "- Hint 1: Think of each integer `x` as a node whose neighbors are `x - s` for all square numbers `s ≤ x`.\n",
    "- Hint 2: BFS levels correspond to how many squares we have used so far.\n",
    "- Hint 3: Stop the search once you hit zero—it represents a complete decomposition.\n"
   ]
  },
  {
   "cell_type": "markdown",
   "metadata": {},
   "source": [
    "## Solution Overview\n",
    "BFS explores the search tree where each node subtracts a perfect square. Starting from `n`, generate all `n - square` values. The distance (level) at which we first reach zero is the minimal number of squares. Track visited remainders to avoid cycles and redundant work.\n"
   ]
  },
  {
   "cell_type": "markdown",
   "metadata": {},
   "source": [
    "## Detailed Explanation\n",
    "1. Precompute all perfect squares `s` such that `s ≤ n`.\n",
    "2. Initialize a queue with `(n, 0)` where the second element counts how many squares we have used.\n",
    "3. Maintain a `visited` set containing `n`.\n",
    "4. While the queue is not empty:\n",
    "   - Pop `(value, steps)`.\n",
    "   - For each `sq` in `squares`:\n",
    "     - Let `next_val = value - sq`.\n",
    "     - If `next_val == 0`, return `steps + 1`.\n",
    "     - If `next_val < 0`, break (squares are increasing).\n",
    "     - If `next_val` is unseen, add it to `visited` and enqueue `(next_val, steps + 1)`.\n",
    "5. The BFS must eventually find zero; otherwise fall back to returning 0 (defensive guard).\n"
   ]
  },
  {
   "cell_type": "markdown",
   "metadata": {},
   "source": [
    "## Complexity Trade-off Table\n",
    "| Approach | Time | Space | Notes |\n",
    "| --- | --- | --- | --- |\n",
    "| BFS on remainders | O(n * sqrt(n)) | O(n) | Visits each remainder at most once |\n",
    "| DP (bottom-up) | O(n * sqrt(n)) | O(n) | Computes minimal counts using DP |\n",
    "| Number theory (Lagrange) | O(1) | O(1) | Uses the four-square theorem but harder to recall |\n"
   ]
  },
  {
   "cell_type": "code",
   "execution_count": null,
   "metadata": {},
   "outputs": [],
   "source": [
    "from collections import deque\n\n",
    "class Solution:\n",
    "    def numSquares(self, n: int) -> int:\n",
    "        squares = []\n",
    "        i = 1\n",
    "        while i * i <= n:\n",
    "            squares.append(i * i)\n",
    "            i += 1\n",
    "        queue = deque([(n, 0)])\n",
    "        visited = {n}\n",
    "        while queue:\n",
    "            value, steps = queue.popleft()\n",
    "            for sq in squares:\n",
    "                nxt = value - sq\n",
    "                if nxt == 0:\n",
    "                    return steps + 1\n",
    "                if nxt < 0:\n",
    "                    break\n",
    "                if nxt not in visited:\n",
    "                    visited.add(nxt)\n",
    "                    queue.append((nxt, steps + 1))\n",
    "        return 0\n"
   ]
  },
  {
   "cell_type": "code",
   "execution_count": null,
   "metadata": {
    "tags": [
     "validation"
    ]
   },
   "outputs": [],
   "source": [
    "tests = [\n",
    "    (12, 3),\n",
    "    (13, 2),\n",
    "    (1, 1),\n",
    "    (43, 3)\n",
    "]\n",
    "solver = Solution()\n",
    "for n, expected in tests:\n",
    "    assert solver.numSquares(n) == expected\n",
    "print('All tests passed.')\n"
   ]
  },
  {
   "cell_type": "markdown",
   "metadata": {},
   "source": [
    "## Complexity Analysis\n",
    "- Time: O(n * sqrt(n)) because each integer visits at most `sqrt(n)` neighbors.\n",
    "- Space: O(n) for the queue and the visited set.\n"
   ]
  },
  {
   "cell_type": "markdown",
   "metadata": {},
   "source": [
    "## Edge Cases & Pitfalls\n",
    "- If `n` itself is a perfect square the answer is 1—BFS returns immediately.\n",
    "- Break the square loop once `value - sq < 0` to avoid unnecessary work.\n",
    "- Remember to mark remainders as visited; otherwise the search explodes.\n"
   ]
  },
  {
   "cell_type": "markdown",
   "metadata": {},
   "source": [
    "## Follow-up Variants\n",
    "- Output one actual decomposition by storing parent pointers and backtracking from zero.\n",
    "- Limit the number of repetitions allowed for each square and encode it in the BFS state.\n",
    "- Generalize to perfect cubes or k-th powers by adjusting the square list.\n"
   ]
  },
  {
   "cell_type": "markdown",
   "metadata": {},
   "source": [
    "## Takeaways\n",
    "- Integer BFS provides clear intuition for minimal-step decompositions.\n",
    "- Precomputing candidate moves (square numbers) keeps the inner loop efficient.\n",
    "- The technique parallels coin-change BFS or shortest path in unweighted state graphs.\n"
   ]
  },
  {
   "cell_type": "markdown",
   "metadata": {},
   "source": [
    "## Similar Problems\n",
    "| Problem ID | Problem Title | Technique |\n",
    "| --- | --- | --- |\n",
    "| LC 322 | Coin Change | BFS/DP on amounts |\n",
    "| LC 279 | Perfect Squares | (current) |\n",
    "| LC 127 | Word Ladder | BFS on string transformations |\n"
   ]
  }
 ],
 "metadata": {
  "kernelspec": {
   "display_name": "Python 3",
   "language": "python",
   "name": "python3"
  },
  "language_info": {
   "name": "python",
   "version": "3.10"
  }
 },
 "nbformat": 4,
 "nbformat_minor": 5
}