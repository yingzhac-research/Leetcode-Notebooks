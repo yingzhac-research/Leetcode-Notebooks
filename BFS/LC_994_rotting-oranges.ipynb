{
 "cells": [
  {
   "cell_type": "markdown",
   "metadata": {},
   "source": [
    "# 994. Rotting Oranges"
   ]
  },
  {
   "cell_type": "markdown",
   "metadata": {},
   "source": [
    "## Topic Alignment\n",
    "- Multi-source BFS with time tracking models contagion spread, network failure propagation, and diffusion simulations for operations teams.\n"
   ]
  },
  {
   "cell_type": "markdown",
   "metadata": {},
   "source": [
    "## Metadata 摘要\n",
    "- Source: https://leetcode.com/problems/rotting-oranges/\n",
    "- Tags: BFS, Multi-source, Grid\n",
    "- Difficulty: Medium\n",
    "- Priority: Medium"
   ]
  },
  {
   "cell_type": "markdown",
   "metadata": {},
   "source": [
    "## Problem Statement 原题描述\n",
    "You are given an m x n grid where each cell can be 0 (empty), 1 (fresh orange), or 2 (rotten orange). Every minute, fresh oranges adjacent (4-directionally) to rotten ones become rotten. Return the minimum time needed for all oranges to rot, or -1 if impossible."
   ]
  },
  {
   "cell_type": "markdown",
   "metadata": {},
   "source": [
    "## Progressive Hints\n",
    "- Hint 1: Treat all initially rotten oranges as time-zero sources.\n",
    "- Hint 2: Use BFS to spread rot to adjacent fresh oranges minute by minute.\n",
    "- Hint 3: Track how many fresh oranges remain; if some survive after BFS, return `-1`.\n"
   ]
  },
  {
   "cell_type": "markdown",
   "metadata": {},
   "source": [
    "## Solution Overview\n",
    "Enqueue all rotten oranges with timestamp 0 and count the total number of fresh oranges. Each BFS layer represents one minute. When popping a rotten orange, infect its four neighbors if they are fresh, decrementing the fresh counter. Keep track of the last minute processed. After BFS finishes, if no fresh oranges remain, return the elapsed minutes; otherwise, `-1`.\n"
   ]
  },
  {
   "cell_type": "markdown",
   "metadata": {},
   "source": [
    "## Detailed Explanation\n",
    "1. Iterate through the grid, enqueuing all cells with value 2 (`rotten`) along with time 0, and count cells with value 1 (`fresh`).\n",
    "2. While the queue is not empty:\n",
    "   - Pop `(r, c, minute)` and update `answer = max(answer, minute)`.\n",
    "   - For each of the four neighbors `(nr, nc)`, if the cell is fresh, convert it to rotten, decrement the fresh counter, and enqueue `(nr, nc, minute + 1)`.\n",
    "3. After BFS, if `fresh` is zero, return `answer`; otherwise return `-1`.\n"
   ]
  },
  {
   "cell_type": "markdown",
   "metadata": {},
   "source": [
    "## Complexity Trade-off Table\n",
    "| Approach | Time | Space | Notes |\n",
    "| --- | --- | --- | --- |\n",
    "| Multi-source BFS | O(mn) | O(mn) | Each orange enqueues once |\n",
    "| Repeated grid scans | O((mn)²) | O(1) | Inefficient repeated propagation |\n",
    "| DFS per fresh orange | O(mn) | O(mn) | Requires extra bookkeeping to avoid cycles |\n"
   ]
  },
  {
   "cell_type": "code",
   "execution_count": null,
   "metadata": {},
   "outputs": [],
   "source": [
    "from collections import deque\n",
    "from typing import List\n\n",
    "class Solution:\n",
    "    def orangesRotting(self, grid: List[List[int]]) -> int:\n",
    "        rows, cols = len(grid), len(grid[0])\n",
    "        queue = deque()\n",
    "        fresh = 0\n",
    "        for r in range(rows):\n",
    "            for c in range(cols):\n",
    "                if grid[r][c] == 2:\n",
    "                    queue.append((r, c))\n",
    "                elif grid[r][c] == 1:\n",
    "                    fresh += 1\n",
    "        if fresh == 0:\n",
    "            return 0\n",
    "        minutes = 0\n",
    "        dirs = [(1,0),(-1,0),(0,1),(0,-1)]\n",
    "        while queue and fresh > 0:\n",
    "            for _ in range(len(queue)):\n",
    "                r, c = queue.popleft()\n",
    "                for dr, dc in dirs:\n",
    "                    nr, nc = r + dr, c + dc\n",
    "                    if 0 <= nr < rows and 0 <= nc < cols and grid[nr][nc] == 1:\n",
    "                        grid[nr][nc] = 2\n",
    "                        fresh -= 1\n",
    "                        queue.append((nr, nc))\n",
    "            minutes += 1\n",
    "        return minutes if fresh == 0 else -1\n"
   ]
  },
  {
   "cell_type": "code",
   "execution_count": null,
   "metadata": {
    "tags": [
     "validation"
    ]
   },
   "outputs": [],
   "source": [
    "tests = [\n",
    "    ([[2,1,1],[1,1,0],[0,1,1]], 4),\n",
    "    ([[2,1,1],[0,1,1],[1,0,1]], -1),\n",
    "    ([[0,2]], 0)\n",
    "]\n",
    "solver = Solution()\n",
    "for grid, expected in tests:\n",
    "    grid_copy = [row[:] for row in grid]\n",
    "    assert solver.orangesRotting(grid_copy) == expected\n",
    "print('All tests passed.')\n"
   ]
  },
  {
   "cell_type": "markdown",
   "metadata": {},
   "source": [
    "## Complexity Analysis\n",
    "- Time: O(mn) since each cell is processed at most once.\n",
    "- Space: O(mn) for the queue in the worst case.\n"
   ]
  },
  {
   "cell_type": "markdown",
   "metadata": {},
   "source": [
    "## Edge Cases & Pitfalls\n",
    "- If there are no fresh oranges initially, return 0 immediately.\n",
    "- Ensure newly rotten oranges are marked before enqueuing to avoid duplicate infections.\n",
    "- BFS timestamp increments per layer; do not simply return queue length.\n"
   ]
  },
  {
   "cell_type": "markdown",
   "metadata": {},
   "source": [
    "## Follow-up Variants\n",
    "- Report which minute each orange rots by storing the minute in a separate matrix.\n",
    "- Allow diagonal infection or distance-dependent decay times by adjusting neighbor generation.\n",
    "- Model repeated cycles where oranges can recover after a cooldown, requiring additional state.\n"
   ]
  },
  {
   "cell_type": "markdown",
   "metadata": {},
   "source": [
    "## Takeaways\n",
    "- Multi-source BFS naturally simulates simultaneous propagation processes.\n",
    "- Counting remaining targets (fresh oranges) provides an efficient termination check.\n",
    "- Tracking time alongside queue entries is cleaner than managing manual level loops.\n"
   ]
  },
  {
   "cell_type": "markdown",
   "metadata": {},
   "source": [
    "## Similar Problems\n",
    "| Problem ID | Problem Title | Technique |\n",
    "| --- | --- | --- |\n",
    "| LC 542 | 01 Matrix | Multi-source BFS for nearest zero |\n",
    "| LC 286 | Walls and Gates | BFS from gates with distance tracking |\n",
    "| LC 847 | Shortest Path Visiting All Nodes | BFS with state and time components |\n"
   ]
  }
 ],
 "metadata": {
  "kernelspec": {
   "display_name": "Python 3",
   "language": "python",
   "name": "python3"
  },
  "language_info": {
   "name": "python",
   "version": "3.10"
  }
 },
 "nbformat": 4,
 "nbformat_minor": 5
}