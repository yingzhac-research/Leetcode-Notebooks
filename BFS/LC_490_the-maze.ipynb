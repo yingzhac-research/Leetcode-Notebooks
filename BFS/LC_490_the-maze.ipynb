{
 "cells": [
  {
   "cell_type": "markdown",
   "metadata": {},
   "source": [
    "# 490. The Maze"
   ]
  },
  {
   "cell_type": "markdown",
   "metadata": {},
   "source": [
    "## Topic Alignment\n",
    "- Maze rolling problems mirror robotics path planning where movement continues until a stop condition, a common motif in warehouses and autonomous navigation.\n"
   ]
  },
  {
   "cell_type": "markdown",
   "metadata": {},
   "source": [
    "## Metadata 摘要\n",
    "- Source: https://leetcode.com/problems/the-maze/\n",
    "- Tags: BFS, Grid\n",
    "- Difficulty: Medium\n",
    "- Priority: Medium"
   ]
  },
  {
   "cell_type": "markdown",
   "metadata": {},
   "source": [
    "## Problem Statement 原题描述\n",
    "Given a maze represented by a binary matrix (0 = empty, 1 = wall), a ball can roll continuously in one direction until hitting a wall. Determine if the ball can stop at the destination cell from a given start cell."
   ]
  },
  {
   "cell_type": "markdown",
   "metadata": {},
   "source": [
    "## Progressive Hints\n",
    "- Hint 1: Each move rolls in a direction until you hit a wall; the stopping cell is the neighbor in the graph.\n",
    "- Hint 2: BFS or DFS can traverse these stop positions; mark visited on stop positions only.\n",
    "- Hint 3: When you reach the destination, return `True`; otherwise continue until the queue empties.\n"
   ]
  },
  {
   "cell_type": "markdown",
   "metadata": {},
   "source": [
    "## Solution Overview\n",
    "Use BFS over stopping positions. From each cell, attempt to roll in four directions, moving until the next step hits a wall or boundary. Step back to the last valid position and enqueue it if unseen. Continue until you either dequeue the destination (return `True`) or exhaust the queue (return `False`).\n"
   ]
  },
  {
   "cell_type": "markdown",
   "metadata": {},
   "source": [
    "## Detailed Explanation\n",
    "1. Initialize a queue with the start position and mark it visited.\n",
    "2. While the queue is non-empty:\n",
    "   - Pop `(r, c)`; if it equals the destination, return `True`.\n",
    "   - For each direction `(dr, dc)` in up/down/left/right:\n",
    "     - Set `(nr, nc) = (r, c)` and roll while the next cell is within bounds and empty.\n",
    "     - After the loop, step back one cell to the last valid position.\n",
    "     - If that stop cell has not been visited, mark visited and enqueue it.\n",
    "3. If BFS completes without reaching the destination, return `False`.\n"
   ]
  },
  {
   "cell_type": "markdown",
   "metadata": {},
   "source": [
    "## Complexity Trade-off Table\n",
    "| Approach | Time | Space | Notes |\n",
    "| --- | --- | --- | --- |\n",
    "| BFS on stop cells | O(mn) | O(mn) | Each stop position is processed once |\n",
    "| DFS on stop cells | O(mn) | O(mn) | Same complexity, but recursion may overflow |\n",
    "| Dijkstra | O(mn log mn) | O(mn) | Needed if we want minimal distance rather than reachability |\n"
   ]
  },
  {
   "cell_type": "code",
   "execution_count": null,
   "metadata": {},
   "outputs": [],
   "source": [
    "from collections import deque\n",
    "from typing import List\n\n",
    "class Solution:\n",
    "    def hasPath(self, maze: List[List[int]], start: List[int], destination: List[int]) -> bool:\n",
    "        rows, cols = len(maze), len(maze[0])\n",
    "        dirs = [(1,0), (-1,0), (0,1), (0,-1)]\n",
    "        sr, sc = start\n",
    "        dr, dc = destination\n",
    "        queue = deque([(sr, sc)])\n",
    "        visited = [[False] * cols for _ in range(rows)]\n",
    "        visited[sr][sc] = True\n",
    "        while queue:\n",
    "            r, c = queue.popleft()\n",
    "            if r == dr and c == dc:\n",
    "                return True\n",
    "            for drc, dcc in dirs:\n",
    "                nr, nc = r, c\n",
    "                while 0 <= nr + drc < rows and 0 <= nc + dcc < cols and maze[nr + drc][nc + dcc] == 0:\n",
    "                    nr += drc\n",
    "                    nc += dcc\n",
    "                if not visited[nr][nc]:\n",
    "                    visited[nr][nc] = True\n",
    "                    queue.append((nr, nc))\n",
    "        return False\n"
   ]
  },
  {
   "cell_type": "code",
   "execution_count": null,
   "metadata": {
    "tags": [
     "validation"
    ]
   },
   "outputs": [],
   "source": [
    "tests = [\n",
    "    (([[0,0,1,0,0],[0,0,0,0,0],[0,0,0,1,0],[1,1,0,1,1],[0,0,0,0,0]], [0,4], [4,4]), True),\n",
    "    (([[0,0,1,0,0],[0,0,0,0,0],[0,0,0,1,0],[1,1,0,1,1],[0,0,0,0,0]], [0,4], [3,2]), False)\n",
    "]\n",
    "solver = Solution()\n",
    "for (maze, start, dest), expected in tests:\n",
    "    maze_copy = [row[:] for row in maze]\n",
    "    assert solver.hasPath(maze_copy, start, dest) == expected\n",
    "print('All tests passed.')\n"
   ]
  },
  {
   "cell_type": "markdown",
   "metadata": {},
   "source": [
    "## Complexity Analysis\n",
    "- Time: O(mn) because each cell can become a stopping point at most once per direction.\n",
    "- Space: O(mn) for the visited grid and queue.\n"
   ]
  },
  {
   "cell_type": "markdown",
   "metadata": {},
   "source": [
    "## Edge Cases & Pitfalls\n",
    "- Do not mark intermediate rolling cells as visited; only the stop position matters.\n",
    "- Remember to backtrack one step after overshooting into a wall.\n",
    "- The start could already equal the destination; handle that before the BFS loop.\n"
   ]
  },
  {
   "cell_type": "markdown",
   "metadata": {},
   "source": [
    "## Follow-up Variants\n",
    "- Compute the length of the shortest path by storing distances alongside the queue.\n",
    "- Add teleporters or weighted edges and switch to Dijkstra or A* search.\n",
    "- Extend to 3D mazes by adding movement along the third axis.\n"
   ]
  },
  {
   "cell_type": "markdown",
   "metadata": {},
   "source": [
    "## Takeaways\n",
    "- Rolling movement problems require redefining neighbors as stopping locations rather than immediate adjacent cells.\n",
    "- BFS and DFS remain applicable once the neighbor definition is adjusted.\n",
    "- Efficient simulation relies on carefully managing bounds and wall checks.\n"
   ]
  },
  {
   "cell_type": "markdown",
   "metadata": {},
   "source": [
    "## Similar Problems\n",
    "| Problem ID | Problem Title | Technique |\n",
    "| --- | --- | --- |\n",
    "| LC 505 | The Maze II | Dijkstra to minimize distance in rolling mazes |\n",
    "| LC 499 | The Maze III | Dijkstra with lexicographic tie-breaking |\n",
    "| LC 1091 | Shortest Path in Binary Matrix | Grid BFS with standard one-step moves |\n"
   ]
  }
 ],
 "metadata": {
  "kernelspec": {
   "display_name": "Python 3",
   "language": "python",
   "name": "python3"
  },
  "language_info": {
   "name": "python",
   "version": "3.10"
  }
 },
 "nbformat": 4,
 "nbformat_minor": 5
}