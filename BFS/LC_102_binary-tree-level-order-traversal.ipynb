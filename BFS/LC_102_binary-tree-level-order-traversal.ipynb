{
 "cells": [
  {
   "cell_type": "markdown",
   "metadata": {},
   "source": [
    "# 102. Binary Tree Level Order Traversal"
   ]
  },
  {
   "cell_type": "markdown",
   "metadata": {},
   "source": [
    "## Topic Alignment\n",
    "- Level-order traversals underpin model serving pipelines that need hierarchical aggregation, such as computing per-depth statistics on decision trees or breadth-first serialization of feature stores.\n"
   ]
  },
  {
   "cell_type": "markdown",
   "metadata": {},
   "source": [
    "## Metadata 摘要\n",
    "- Source: https://leetcode.com/problems/binary-tree-level-order-traversal/\n",
    "- Tags: BFS, Tree\n",
    "- Difficulty: Medium\n",
    "- Priority: High"
   ]
  },
  {
   "cell_type": "markdown",
   "metadata": {},
   "source": [
    "## Problem Statement 原题描述\n",
    "Given the root of a binary tree, return the level order traversal of its nodes' values (from left to right, level by level)."
   ]
  },
  {
   "cell_type": "markdown",
   "metadata": {},
   "source": [
    "## Progressive Hints\n",
    "- Hint 1: Use a queue to process the tree one level at a time.\n",
    "- Hint 2: Track the current queue size so you know how many nodes belong to this level.\n",
    "- Hint 3: Append children to the queue in left-to-right order to preserve ordering per level.\n"
   ]
  },
  {
   "cell_type": "markdown",
   "metadata": {},
   "source": [
    "## Solution Overview\n",
    "Perform BFS starting from the root. For each level, record the queue length `size`, pop exactly `size` nodes, append their values to a temporary array, and enqueue their children. Append the temporary array to the answer. Repeat until the queue empties, yielding a top-down level order traversal.\n"
   ]
  },
  {
   "cell_type": "markdown",
   "metadata": {},
   "source": [
    "## Detailed Explanation\n",
    "1. Return an empty list if the root is `None`.\n",
    "2. Initialize a queue with the root node and an empty `levels` list.\n",
    "3. While the queue is not empty:\n",
    "   - Store `size = len(queue)`.\n",
    "   - Create an empty `level` list.\n",
    "   - Iterate `size` times, each time popping the left-most node.\n",
    "   - Append the node value to `level` and enqueue its non-null children.\n",
    "   - After the loop, append `level` to `levels`.\n",
    "4. Once traversal completes, `levels` contains the breadth-first order.\n"
   ]
  },
  {
   "cell_type": "markdown",
   "metadata": {},
   "source": [
    "## Complexity Trade-off Table\n",
    "| Approach | Time | Space | Notes |\n",
    "| --- | --- | --- | --- |\n",
    "| BFS with queue | O(n) | O(n) | Classic template; queue holds at most one level |\n",
    "| DFS with depth accumulator | O(n) | O(h) | Uses recursion and tracks depth parameter |\n"
   ]
  },
  {
   "cell_type": "code",
   "execution_count": null,
   "metadata": {},
   "outputs": [],
   "source": [
    "from collections import deque\n",
    "from typing import List, Optional\n\n",
    "class TreeNode:\n",
    "    def __init__(self, val: int = 0, left: Optional['TreeNode'] = None, right: Optional['TreeNode'] = None):\n",
    "        self.val = val\n",
    "        self.left = left\n",
    "        self.right = right\n\n",
    "class Solution:\n",
    "    def levelOrder(self, root: Optional[TreeNode]) -> List[List[int]]:\n",
    "        if not root:\n",
    "            return []\n",
    "        levels: List[List[int]] = []\n",
    "        queue = deque([root])\n",
    "        while queue:\n",
    "            size = len(queue)\n",
    "            level: List[int] = []\n",
    "            for _ in range(size):\n",
    "                node = queue.popleft()\n",
    "                level.append(node.val)\n",
    "                if node.left:\n",
    "                    queue.append(node.left)\n",
    "                if node.right:\n",
    "                    queue.append(node.right)\n",
    "            levels.append(level)\n",
    "        return levels\n"
   ]
  },
  {
   "cell_type": "code",
   "execution_count": null,
   "metadata": {
    "tags": [
     "validation"
    ]
   },
   "outputs": [],
   "source": [
    "def build_tree(values: List[Optional[int]]) -> Optional[TreeNode]:\n",
    "    if not values:\n",
    "        return None\n",
    "    nodes = [TreeNode(v) if v is not None else None for v in values]\n",
    "    kids = nodes[::-1]\n",
    "    root = kids.pop()\n",
    "    for node in nodes:\n",
    "        if node:\n",
    "            if kids:\n",
    "                node.left = kids.pop()\n",
    "            if kids:\n",
    "                node.right = kids.pop()\n",
    "    return root\n\n",
    "tests = [\n",
    "    ([3,9,20,None,None,15,7], [[3],[9,20],[15,7]]),\n",
    "    ([1], [[1]]),\n",
    "    ([], [])\n",
    "]\n",
    "solver = Solution()\n",
    "for arr, expected in tests:\n",
    "    assert solver.levelOrder(build_tree(arr)) == expected\n",
    "print('All tests passed.')\n"
   ]
  },
  {
   "cell_type": "markdown",
   "metadata": {},
   "source": [
    "## Complexity Analysis\n",
    "- Time: O(n) because we visit each node exactly once.\n",
    "- Space: O(n) in the worst case when the bottom level contains n/2 nodes.\n"
   ]
  },
  {
   "cell_type": "markdown",
   "metadata": {},
   "source": [
    "## Edge Cases & Pitfalls\n",
    "- Handle the empty tree explicitly—return `[]` instead of `[[]]`.\n",
    "- Ensure each level uses a freshly constructed list; reusing the same list will alias results.\n",
    "- Enqueue children only if they exist to avoid `None` entries in the traversal.\n"
   ]
  },
  {
   "cell_type": "markdown",
   "metadata": {},
   "source": [
    "## Follow-up Variants\n",
    "- Compute per-level statistics such as sums, averages, or maximums while traversing.\n",
    "- Produce a bottom-up traversal by collecting levels then reversing at the end.\n",
    "- Stream the traversal as an iterator for very large trees so the consumer can process levels lazily.\n"
   ]
  },
  {
   "cell_type": "markdown",
   "metadata": {},
   "source": [
    "## Takeaways\n",
    "- BFS with a queue is the canonical approach for level-order tree problems.\n",
    "- Capturing the queue length before processing maintains clean level boundaries.\n",
    "- The pattern easily adapts to augment each level with custom aggregations.\n"
   ]
  },
  {
   "cell_type": "markdown",
   "metadata": {},
   "source": [
    "## Similar Problems\n",
    "| Problem ID | Problem Title | Technique |\n",
    "| --- | --- | --- |\n",
    "| LC 103 | Binary Tree Zigzag Level Order Traversal | BFS with alternating output order |\n",
    "| LC 515 | Find Largest Value in Each Tree Row | BFS computing per-level aggregates |\n",
    "| LC 637 | Average of Levels in Binary Tree | BFS or DFS with rolling averages |\n"
   ]
  }
 ],
 "metadata": {
  "kernelspec": {
   "display_name": "Python 3",
   "language": "python",
   "name": "python3"
  },
  "language_info": {
   "name": "python",
   "version": "3.10"
  }
 },
 "nbformat": 4,
 "nbformat_minor": 5
}