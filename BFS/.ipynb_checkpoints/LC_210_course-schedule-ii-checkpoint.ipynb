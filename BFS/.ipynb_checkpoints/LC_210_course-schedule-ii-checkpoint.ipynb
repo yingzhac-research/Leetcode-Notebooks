{
  "cells": [
    {
      "cell_type": "markdown",
      "metadata": {},
      "source": [
        "# 210. Course Schedule II"
      ]
    },
    {
      "cell_type": "markdown",
      "metadata": {},
      "source": [
        "## Topic Alignment\n",
        "- ；Kahn BFS 。\n"
      ]
    },
    {
      "cell_type": "markdown",
      "metadata": {},
      "source": [
        "## Metadata\n",
        "- Source: https://leetcode.com/problems/course-schedule-ii/\n",
        "- Tags: BFS, Topological Sort, Graph\n",
        "- Difficulty: Medium\n",
        "- Priority: High"
      ]
    },
    {
      "cell_type": "markdown",
      "metadata": {},
      "source": [
        "## Problem Statement\n",
        "Return one possible order to finish all courses given prerequisites. If impossible, return an empty array."
      ]
    },
    {
      "cell_type": "markdown",
      "metadata": {},
      "source": [
        "## Progressive Hints\n",
        "- Hint 1:  LC 207 。\n",
        "- Hint 2:  0 ，。\n",
        "- Hint 3: ，。\n"
      ]
    },
    {
      "cell_type": "markdown",
      "metadata": {},
      "source": [
        "## Solution Overview\n",
        "Kahn BFS：， 0 。，， 0 。，，。\n"
      ]
    },
    {
      "cell_type": "markdown",
      "metadata": {},
      "source": [
        "## Detailed Explanation\n",
        "1.  `graph[pre] -> course`  `indegree[course]`。\n",
        "2.  0 。\n",
        "3. BFS： `node`， `order`。 `nei`，`indegree[nei] -= 1`， 0 。\n",
        "4.  `len(order) == numCourses`  `order`，。\n"
      ]
    },
    {
      "cell_type": "markdown",
      "metadata": {},
      "source": [
        "## Complexity Trade-off Table\n",
        "| Approach | Time | Space | Notes |\n",
        "| --- | --- | --- | --- |\n",
        "| Kahn BFS | O(V + E) | O(V + E) |  |\n",
        "| DFS  | O(V + E) | O(V) |  |\n"
      ]
    },
    {
      "cell_type": "code",
      "execution_count": null,
      "metadata": {},
      "outputs": [],
      "source": [
        "from collections import deque\n",
        "from typing import List\n\n",
        "class Solution:\n",
        "    def findOrder(self, numCourses: int, prerequisites: List[List[int]]) -> List[int]:\n",
        "        graph = [[] for _ in range(numCourses)]\n",
        "        indegree = [0] * numCourses\n",
        "        for course, pre in prerequisites:\n",
        "            graph[pre].append(course)\n",
        "            indegree[course] += 1\n",
        "        queue = deque([i for i in range(numCourses) if indegree[i] == 0])\n",
        "        order: List[int] = []\n",
        "        while queue:\n",
        "            node = queue.popleft()\n",
        "            order.append(node)\n",
        "            for nei in graph[node]:\n",
        "                indegree[nei] -= 1\n",
        "                if indegree[nei] == 0:\n",
        "                    queue.append(nei)\n",
        "        return order if len(order) == numCourses else []\n"
      ]
    },
    {
      "cell_type": "code",
      "execution_count": null,
      "metadata": {
        "tags": [
          "validation"
        ]
      },
      "outputs": [],
      "source": [
        "tests = [\n",
        "    ((2, [[1, 0]]), { (0, 1) }),\n",
        "    ((4, [[1, 0], [2, 0], [3, 1], [3, 2]]), { (0, 1, 2, 3), (0, 2, 1, 3) }),\n",
        "    ((1, []), { (0,) })\n",
        "]\n",
        "solver = Solution()\n",
        "for (n, prereq), expected in tests:\n",
        "    order = tuple(solver.findOrder(n, prereq))\n",
        "    assert order in expected, order\n",
        "print('All tests passed.')\n"
      ]
    },
    {
      "cell_type": "markdown",
      "metadata": {},
      "source": [
        "## Complexity Analysis\n",
        "- Time: O(V + E)\n",
        "- Space: O(V + E)"
      ]
    },
    {
      "cell_type": "markdown",
      "metadata": {},
      "source": [
        "## Edge Cases & Pitfalls\n",
        "- ，。\n",
        "- 。\n",
        "- 。\n"
      ]
    },
    {
      "cell_type": "markdown",
      "metadata": {},
      "source": [
        "## Follow-up Variants\n",
        "- ，。\n",
        "-  DP 。\n",
        "- /。\n"
      ]
    },
    {
      "cell_type": "markdown",
      "metadata": {},
      "source": [
        "## Takeaways\n",
        "- Kahn BFS  DAG 。\n",
        "- 。\n",
        "-  LC 207 ：LC 207 ，LC 210 。\n"
      ]
    },
    {
      "cell_type": "markdown",
      "metadata": {},
      "source": [
        "## Similar Problems\n",
        "| Problem ID | Problem Title | Technique |\n",
        "| --- | --- | --- |\n",
        "| LC 207 | Course Schedule |  |\n",
        "| LC 802 | Find Eventual Safe States |  |\n    | LC 269 | Alien Dictionary |  (premium) |\n"
      ]
    }
  ],
  "metadata": {
    "kernelspec": {
      "display_name": "Python 3",
      "language": "python",
      "name": "python3"
    },
    "language_info": {
      "name": "python",
      "version": "3.10"
    }
  },
  "nbformat": 4,
  "nbformat_minor": 5
}