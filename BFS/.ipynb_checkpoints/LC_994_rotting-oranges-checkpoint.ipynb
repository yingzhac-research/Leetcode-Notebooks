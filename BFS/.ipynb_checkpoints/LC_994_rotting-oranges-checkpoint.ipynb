{
 "cells": [
  {
   "cell_type": "markdown",
   "metadata": {},
   "source": [
    "# 994. Rotting Oranges"
   ]
  },
  {
   "cell_type": "markdown",
   "metadata": {},
   "source": [
    "## Topic Alignment\n",
    "- 食物腐烂传播模拟等价于多源 BFS 的层序扩散，常用于感染建模或传播延迟分析。"
   ]
  },
  {
   "cell_type": "markdown",
   "metadata": {},
   "source": [
    "## Metadata 摘要\n",
    "- Source: https://leetcode.com/problems/rotting-oranges/\n",
    "- Tags: BFS, Multi-source, Grid\n",
    "- Difficulty: Medium\n",
    "- Priority: Medium"
   ]
  },
  {
   "cell_type": "markdown",
   "metadata": {},
   "source": [
    "## Problem Statement 原题描述\n",
    "You are given an m x n grid where each cell can be 0 (empty), 1 (fresh orange), or 2 (rotten orange). Every minute, fresh oranges adjacent (4-directionally) to rotten ones become rotten. Return the minimum time needed for all oranges to rot, or -1 if impossible." 
   ]
  },
  {
   "cell_type": "markdown",
   "metadata": {},
   "source": [
    "## Progressive Hints\n",
    "- Hint 1: 所有腐烂橙子为起点，一起入队。\n",
    "- Hint 2: BFS 每层代表一分钟。\n",
    "- Hint 3: 记录剩余新鲜橙子数量，全部腐烂后返回耗时。"
   ]
  },
  {
   "cell_type": "markdown",
   "metadata": {},
   "source": [
    "## Solution Overview\n",
    "多源 BFS：将所有值为 2 的单元入队，初始时间 0；同时统计新鲜橙子数量。每层扩散时，减少新鲜橙计数并标记为 2。循环结束后若仍有新鲜橙，则返回 -1，否则返回最后一层时间。"
   ]
  },
  {
   "cell_type": "markdown",
   "metadata": {},
   "source": [
    "## Detailed Explanation\n",
    "1. 初始化队列并统计 fresh 数量。\n",
    "2. 循环队列：\n",
    "   - 每层遍历当前队列长度，扩散至四邻域。\n",
    "   - 遇到新鲜橙时设为腐烂，fresh-- 并入队。\n",
    "   - 层结束后时间 +1（若本层有扩散）。\n",
    "3. 当 queue 为空或 fresh 为 0 时退出。\n",
    "4. 若 fresh > 0 返回 -1；否则返回累计时间。"
   ]
  },
  {
   "cell_type": "markdown",
   "metadata": {},
   "source": [
    "## Complexity Trade-off Table\n",
    "| Approach | Time | Space | Notes |\n",
    "| --- | --- | --- | --- |\n",
    "| Multi-source BFS | O(mn) | O(mn) | 每个单元最多入队一次 |\n",
    "| 模拟 minute-by-minute | O(T * mn) | O(1) | 若直接扫描整图会很慢 |\n",
    "| DFS | - | - | 不适合计算最短时间 |"
   ]
  },
  {
   "cell_type": "code",
   "execution_count": null,
   "metadata": {},
   "outputs": [],
   "source": [
    "from collections import deque\n",
    "from typing import List\n\n",
    "class Solution:\n",
    "    def orangesRotting(self, grid: List[List[int]]) -> int:\n",
    "        rows, cols = len(grid), len(grid[0])\n",
    "        queue = deque()\n",
    "        fresh = 0\n",
    "        for r in range(rows):\n",
    "            for c in range(cols):\n",
    "                if grid[r][c] == 2:\n",
    "                    queue.append((r, c))\n",
    "                elif grid[r][c] == 1:\n",
    "                    fresh += 1\n",
    "        if fresh == 0:\n",
    "            return 0\n",
    "        minutes = 0\n",
    "        dirs = [(1,0),(-1,0),(0,1),(0,-1)]\n",
    "        while queue and fresh > 0:\n",
    "            for _ in range(len(queue)):\n",
    "                r, c = queue.popleft()\n",
    "                for dr, dc in dirs:\n",
    "                    nr, nc = r + dr, c + dc\n",
    "                    if 0 <= nr < rows and 0 <= nc < cols and grid[nr][nc] == 1:\n",
    "                        grid[nr][nc] = 2\n",
    "                        fresh -= 1\n",
    "                        queue.append((nr, nc))\n",
    "            minutes += 1\n",
    "        return minutes if fresh == 0 else -1"
   ]
  },
  {
   "cell_type": "code",
   "execution_count": null,
   "metadata": {
    "tags": [
     "validation"
    ]
   },
   "outputs": [],
   "source": [
    "tests = [\n",
    "    ([[2,1,1],[1,1,0],[0,1,1]], 4),\n",
    "    ([[2,1,1],[0,1,1],[1,0,1]], -1),\n",
    "    ([[0,2]], 0)\n",
    "]\n",
    "solver = Solution()\n",
    "for grid, expected in tests:\n",
    "    assert solver.orangesRotting([row[:] for row in grid]) == expected\n",
    "print('All tests passed.')"
   ]
  },
  {
   "cell_type": "markdown",
   "metadata": {},
   "source": [
    "## Complexity Analysis\n",
    "- Time: O(mn)，每个单元最多转化一次。\n",
    "- Space: O(mn) 用于队列。"
   ]
  },
  {
   "cell_type": "markdown",
   "metadata": {},
   "source": [
    "## Edge Cases & Pitfalls\n",
    "- 若初始没有新鲜橙，立即返回 0。\n",
    "- 时间计数要在每层结束后增加。\n",
    "- 注意处理空队列但仍有新鲜橙的情况返回 -1。"
   ]
  },
  {
   "cell_type": "markdown",
   "metadata": {},
   "source": [
    "## Follow-up Variants\n",
    "- 扩展到对角传播只需增加方向。\n",
    "- 若腐烂速度不同，可扩展为优先队列 (Dijkstra)。\n",
    "- 统计每一分钟腐烂的个数，用于实时监控。"
   ]
  },
  {
   "cell_type": "markdown",
   "metadata": {},
   "source": [
    "## Takeaways\n",
    "- 多源 BFS 的一层即代表时间或距离单位。\n",
    "- 先统计目标数量有助于快速判定无解。\n",
    "- 遍历时原地修改网格可以节省 visited 数组。"
   ]
  },
  {
   "cell_type": "markdown",
   "metadata": {},
   "source": [
    "## Similar Problems\n",
    "| Problem ID | Problem Title | Technique |\n",
    "| --- | --- | --- |\n",
    "| LC 542 | 01 Matrix | Multi-source BFS |\n",
    "| LC 286 | Walls and Gates | Multi-source BFS |\n",
    "| LC 1765 | Map of Highest Peak | Multi-source BFS with heights |"
   ]
  }
 ],
 "metadata": {
  "kernelspec": {
   "display_name": "Python 3",
   "language": "python",
   "name": "python3"
  },
  "language_info": {
   "name": "python",
   "version": "3.10"
  }
 },
 "nbformat": 4,
 "nbformat_minor": 5
}
