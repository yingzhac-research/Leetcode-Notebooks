{
  "cells": [
    {
      "cell_type": "markdown",
      "metadata": {},
      "source": [
        "# 1368. Minimum Cost to Make at Least One Valid Path in a Grid"
      ]
    },
    {
      "cell_type": "markdown",
      "metadata": {},
      "source": [
        "## Topic Alignment\n",
        "- 0-1 BFS  0/1 ，。"
      ]
    },
    {
      "cell_type": "markdown",
      "metadata": {},
      "source": [
        "## Metadata \n",
        "- Source: https://leetcode.com/problems/minimum-cost-to-make-at-least-one-valid-path-in-a-grid/\n",
        "- Tags: 0-1 BFS, Grid\n",
        "- Difficulty: Hard\n",
        "- Priority: High"
      ]
    },
    {
      "cell_type": "markdown",
      "metadata": {},
      "source": [
        "## Problem Statement \n",
        "Each cell in the grid has an arrow pointing to one of the four directions. Moving in the indicated direction costs 0; changing direction costs 1. Find the minimum cost to move from (0,0) to (m-1,n-1)."
      ]
    },
    {
      "cell_type": "markdown",
      "metadata": {},
      "source": [
        "## Progressive Hints\n",
        "- Hint 1:  0  1， 0-1 BFS。\n",
        "- Hint 2: （1→, 2→, 3→, 4→）。\n",
        "- Hint 3: 0 ，1 。"
      ]
    },
    {
      "cell_type": "markdown",
      "metadata": {},
      "source": [
        "## Solution Overview\n",
        " deque ：。， 0，； 1，。dist ， dist[0][0] = 0。0-1 BFS 。"
      ]
    },
    {
      "cell_type": "markdown",
      "metadata": {},
      "source": [
        "## Detailed Explanation\n",
        "1.  `dirs = [(0,1),(0,-1),(1,0),(-1,0)]`  `[1,2,3,4]`。\n",
        "2.  dist ，dist[0][0] = 0，deque  (0,0)。\n",
        "3.  `(r,c)`， dist[r][c] 。\n",
        "4. ， `(nr,nc)`，：\n",
        "   - ，cost = 0， cost = 1。\n",
        "   -  dist[r][c] + cost ， dist  cost  appendleft/append。\n",
        "5.  dist[m-1][n-1]。"
      ]
    },
    {
      "cell_type": "markdown",
      "metadata": {},
      "source": [
        "## Complexity Trade-off Table\n",
        "| Approach | Time | Space | Notes |\n",
        "| --- | --- | --- | --- |\n",
        "| 0-1 BFS | O(mn) | O(mn) |  0/1  |\n",
        "| Dijkstra | O(mn \\log (mn)) | O(mn) | ， |"
      ]
    },
    {
      "cell_type": "code",
      "execution_count": null,
      "metadata": {},
      "outputs": [],
      "source": [
        "from collections import deque\n",
        "from math import inf\n",
        "from typing import List\n\n",
        "class Solution:\n",
        "    def minCost(self, grid: List[List[int]]) -> int:\n",
        "        m, n = len(grid), len(grid[0])\n",
        "        dirs = [(0, 1), (0, -1), (1, 0), (-1, 0)]\n",
        "        dist = [[inf] * n for _ in range(m)]\n",
        "        dist[0][0] = 0\n",
        "        dq = deque([(0, 0)])\n",
        "        while dq:\n",
        "            r, c = dq.popleft()\n",
        "            if dist[r][c] < 0:\n",
        "                continue\n",
        "            for idx, (dr, dc) in enumerate(dirs, start=1):\n",
        "                nr, nc = r + dr, c + dc\n",
        "                if 0 <= nr < m and 0 <= nc < n:\n",
        "                    cost = 0 if grid[r][c] == idx else 1\n",
        "                    new_dist = dist[r][c] + cost\n",
        "                    if new_dist < dist[nr][nc]:\n",
        "                        dist[nr][nc] = new_dist\n",
        "                        if cost == 0:\n",
        "                            dq.appendleft((nr, nc))\n",
        "                        else:\n",
        "                            dq.append((nr, nc))\n",
        "        return dist[m - 1][n - 1]\n"
      ]
    },
    {
      "cell_type": "code",
      "execution_count": null,
      "metadata": {
        "tags": [
          "validation"
        ]
      },
      "outputs": [],
      "source": [
        "tests = [\n",
        "    ([[1,1,3],[3,2,2],[1,1,4]], 0),\n",
        "    ([[1,2],[4,3]], 1),\n",
        "    ([[2,2,2],[2,2,2]], 3)\n",
        "]\n",
        "solver = Solution()\n",
        "for grid, expected in tests:\n",
        "    assert solver.minCost(grid) == expected\n",
        "print('All tests passed.')\n"
      ]
    },
    {
      "cell_type": "markdown",
      "metadata": {},
      "source": [
        "## Complexity Analysis\n",
        "- Time: O(mn)， 0  1 。\n",
        "- Space: O(mn)  dist  deque。"
      ]
    },
    {
      "cell_type": "markdown",
      "metadata": {},
      "source": [
        "## Edge Cases & Pitfalls\n",
        "-  dirs 。\n",
        "- dist /， 0 。\n",
        "-  100×100，0-1 BFS 。"
      ]
    },
    {
      "cell_type": "markdown",
      "metadata": {},
      "source": [
        "## Follow-up Variants\n",
        "-  0/1， Dijkstra。\n",
        "- /，。\n",
        "- ， 0-1 BFS 。"
      ]
    },
    {
      "cell_type": "markdown",
      "metadata": {},
      "source": [
        "## Takeaways\n",
        "- 0-1 BFS  0/1 。\n",
        "- deque.appendleft / append 。\n",
        "-  0/1 。"
      ]
    },
    {
      "cell_type": "markdown",
      "metadata": {},
      "source": [
        "## Similar Problems\n",
        "| Problem ID | Problem Title | Technique |\n",
        "| --- | --- | --- |\n",
        "| LC 2290 | Minimum Obstacle Removal to Reach Corner | 0-1 BFS on grid |\n",
        "| LC 505 | The Maze II | Dijkstra () |\n",
        "| LC 934 | Shortest Bridge | BFS （） |"
      ]
    }
  ],
  "metadata": {
    "kernelspec": {
      "display_name": "Python 3",
      "language": "python",
      "name": "python3"
    },
    "language_info": {
      "name": "python",
      "version": "3.10"
    }
  },
  "nbformat": 4,
  "nbformat_minor": 5
}