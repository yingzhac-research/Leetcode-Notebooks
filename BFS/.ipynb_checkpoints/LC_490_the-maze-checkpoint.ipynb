{
 "cells": [
  {
   "cell_type": "markdown",
   "metadata": {},
   "source": [
    "# 490. The Maze"
   ]
  },
  {
   "cell_type": "markdown",
   "metadata": {},
   "source": [
    "## Topic Alignment\n",
    "- 模拟滚动小球在迷宫中的最短到达验证，是机器人导航和路径规划的常见子任务。"
   ]
  },
  {
   "cell_type": "markdown",
   "metadata": {},
   "source": [
    "## Metadata 摘要\n",
    "- Source: https://leetcode.com/problems/the-maze/\n",
    "- Tags: BFS, Grid\n",
    "- Difficulty: Medium\n",
    "- Priority: Medium"
   ]
  },
  {
   "cell_type": "markdown",
   "metadata": {},
   "source": [
    "## Problem Statement 原题描述\n",
    "Given a maze represented by a binary matrix (0 = empty, 1 = wall), a ball can roll continuously in one direction until hitting a wall. Determine if the ball can stop at the destination cell from a given start cell." 
   ]
  },
  {
   "cell_type": "markdown",
   "metadata": {},
   "source": [
    "## Progressive Hints\n",
    "- Hint 1: 每次移动并非一步，而是沿方向一直滚到墙前一格。\n",
    "- Hint 2: BFS 仍适用，只是扩展邻居时需要模拟滚动。\n",
    "- Hint 3: visited 应记录停止位置，避免重复滚动。"
   ]
  },
  {
   "cell_type": "markdown",
   "metadata": {},
   "source": [
    "## Solution Overview\n",
    "使用 BFS，从起点出发，对四个方向模拟滚动直到撞墙，在停下的坐标作为邻居。若该位置未访问则入队。过程中遇到目标即返回 True；队列耗尽即 False。"
   ]
  },
  {
   "cell_type": "markdown",
   "metadata": {},
   "source": [
    "## Detailed Explanation\n",
    "1. 使用 deque 存储停下来的格子。\n",
    "2. 对于当前坐标 (r,c)，对四方向重复：\n",
    "   - 将球沿该方向移动，直到越界或撞墙。\n",
    "   - 后退一步得到合法停点 (nr,nc)。\n",
    "   - 若未访问则入队。\n",
    "3. 在出队时检查是否为目标。\n",
    "4. visited 使用二维布尔数组即可，保证每个停点仅探索一次。"
   ]
  },
  {
   "cell_type": "markdown",
   "metadata": {},
   "source": [
    "## Complexity Trade-off Table\n",
    "| Approach | Time | Space | Notes |\n",
    "| --- | --- | --- | --- |\n",
    "| BFS with rolling | O(mn) | O(mn) | 每个停点最多访问一次 |\n",
    "| DFS | O(mn) | O(mn) | 也可行，但需注意递归深度 |\n",
    "| Dijkstra | O(mn \\log mn) | O(mn) | 当需要最短距离时使用 |"
   ]
  },
  {
   "cell_type": "code",
   "execution_count": null,
   "metadata": {},
   "outputs": [],
   "source": [
    "from collections import deque\n",
    "from typing import List\n\n",
    "class Solution:\n",
    "    def hasPath(self, maze: List[List[int]], start: List[int], destination: List[int]) -> bool:\n",
    "        rows, cols = len(maze), len(maze[0])\n",
    "        dirs = [(1,0), (-1,0), (0,1), (0,-1)]\n",
    "        sr, sc = start\n",
    "        dr, dc = destination\n",
    "        queue = deque([(sr, sc)])\n",
    "        visited = [[False] * cols for _ in range(rows)]\n",
    "        visited[sr][sc] = True\n",
    "        while queue:\n",
    "            r, c = queue.popleft()\n",
    "            if r == dr and c == dc:\n",
    "                return True\n",
    "            for drc, dcc in dirs:\n",
    "                nr, nc = r, c\n",
    "                while 0 <= nr + drc < rows and 0 <= nc + dcc < cols and maze[nr + drc][nc + dcc] == 0:\n",
    "                    nr += drc\n",
    "                    nc += dcc\n",
    "                if not visited[nr][nc]:\n",
    "                    visited[nr][nc] = True\n",
    "                    queue.append((nr, nc))\n",
    "        return False"
   ]
  },
  {
   "cell_type": "code",
   "execution_count": null,
   "metadata": {
    "tags": [
     "validation"
    ]
   },
   "outputs": [],
   "source": [
    "tests = [\n",
    "    (([[0,0,1,0,0],[0,0,0,0,0],[0,0,0,1,0],[1,1,0,1,1],[0,0,0,0,0]], [0,4], [4,4]), True),\n",
    "    (([[0,0,1,0,0],[0,0,0,0,0],[0,0,0,1,0],[1,1,0,1,1],[0,0,0,0,0]], [0,4], [3,2]), False)\n",
    "]\n",
    "solver = Solution()\n",
    "for (maze, start, dest), expected in tests:\n",
    "    maze_copy = [row[:] for row in maze]\n",
    "    assert solver.hasPath(maze_copy, start, dest) == expected\n",
    "print('All tests passed.')"
   ]
  },
  {
   "cell_type": "markdown",
   "metadata": {},
   "source": [
    "## Complexity Analysis\n",
    "- Time: O(mn)，每个停点最多处理一次。滚动模拟在每条路径上仅访问有限单元。\n",
    "- Space: O(mn) 用于 visited 与队列。"
   ]
  },
  {
   "cell_type": "markdown",
   "metadata": {},
   "source": [
    "## Edge Cases & Pitfalls\n",
    "- 记得在滚动时越界或遇墙后回退一步。\n",
    "- visited 只针对停点，不能直接标记滚动过程中的中间格。\n",
    "- 目标与起点相同应直接返回 True。"
   ]
  },
  {
   "cell_type": "markdown",
   "metadata": {},
   "source": [
    "## Follow-up Variants\n",
    "- 若需要最短路径长度，可在 BFS 中记录步数。\n",
    "- 添加传送门或不同速度时，可扩展为加权图搜索。\n",
    "- 允许对角线滚动时，只需扩展方向集合。"
   ]
  },
  {
   "cell_type": "markdown",
   "metadata": {},
   "source": [
    "## Takeaways\n",
    "- BFS 适用于任意“按层前进”模型，即便单步含复合操作。\n",
    "- 将“滚动直到停止”视作边界转换，可保持 BFS 正确性。\n",
    "- visited 定义必须与状态定义完全一致。"
   ]
  },
  {
   "cell_type": "markdown",
   "metadata": {},
   "source": [
    "## Similar Problems\n",
    "| Problem ID | Problem Title | Technique |\n",
    "| --- | --- | --- |\n",
    "| LC 505 | The Maze II | BFS / Dijkstra for shortest distance |\n",
    "| LC 490 | The Maze | (current) |\n",
    "| LC 499 | The Maze III | BFS with lexicographic ordering |"
   ]
  }
 ],
 "metadata": {
  "kernelspec": {
   "display_name": "Python 3",
   "language": "python",
   "name": "python3"
  },
  "language_info": {
   "name": "python",
   "version": "3.10"
  }
 },
 "nbformat": 4,
 "nbformat_minor": 5
}
