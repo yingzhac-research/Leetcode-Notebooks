{
 "cells": [
  {
   "cell_type": "markdown",
   "metadata": {},
   "source": ["# 1971. Find if Path Exists in Graph"]
  },
  {
   "cell_type": "markdown",
   "metadata": {},
   "source": ["## Topic Alignment\n","- 一般无权图的可达性判定是 BFS 最基础的用法。"]
  },
  {
   "cell_type": "markdown",
   "metadata": {},
   "source": ["## Metadata 摘要\n","- Source: https://leetcode.com/problems/find-if-path-exists-in-graph/\n","- Tags: BFS, Graph\n","- Difficulty: Easy\n","- Priority: Medium"]
  },
  {
   "cell_type": "markdown",
   "metadata": {},
   "source": ["## Problem Statement 原题描述\n","Given an undirected graph with n nodes numbered 0..n-1 and an edge list, determine whether there is a path between source and destination. Return True/False."]
  },
  {
   "cell_type": "markdown",
   "metadata": {},
   "source": ["## Progressive Hints\n","- Hint 1: 图无权，直接 BFS 或 DFS 即可。\n","- Hint 2: 构建邻接表提高遍历效率。\n","- Hint 3: 使用 visited 集合避免重复访问。"]
  },
  {
   "cell_type": "markdown",
   "metadata": {},
   "source": ["## Solution Overview\n","构建邻接表 `graph[u]`。从 source 开始 BFS，逐个访问相邻节点。若在搜索过程中遇到 destination 返回 True；BFS 结束后仍未发现返回 False。也可替换为 DFS/Union-Find。"]
  },
  {
   "cell_type": "markdown",
   "metadata": {},
   "source": ["## Detailed Explanation\n","1. 使用 `defaultdict(list)` 或列表构建邻接表。\n","2. 若 source == destination，直接返回 True。\n","3. queue 初始为 [source]，visited = {source}。\n","4. BFS 过程中 `popleft()` 当前节点，若等于 destination 返回 True。\n","5. 否则遍历邻居，未访问的入队并标记。\n","6. 最终队列耗尽仍未找到目标则返回 False。"]
  },
  {
   "cell_type": "markdown",
   "metadata": {},
   "source": ["## Complexity Trade-off Table\n","| Approach | Time | Space | Notes |\n","| --- | --- | --- | --- |\n","| BFS | O(V + E) | O(V + E) | 适合无权图可达性 |\n","| DFS | O(V + E) | O(V) | 同样可行 |\n","| Union-Find | 近似 O(V + E α(V)) | O(V) | 离线判断多次查询常用 |"]
  },
  {
   "cell_type": "code",
   "execution_count": null,
   "metadata": {},
   "outputs": [],
   "source": ["from collections import deque, defaultdict\n","from typing import List\n\n","class Solution:\n","    def validPath(self, n: int, edges: List[List[int]], source: int, destination: int) -> bool:\n","        if source == destination:\n","            return True\n","        graph = defaultdict(list)\n","        for u, v in edges:\n","            graph[u].append(v)\n","            graph[v].append(u)\n","        queue = deque([source])\n","        visited = {source}\n","        while queue:\n","            node = queue.popleft()\n","            if node == destination:\n","                return True\n","            for nei in graph[node]:\n","                if nei not in visited:\n","                    visited.add(nei)\n","                    queue.append(nei)\n","        return False\n"]
  },
  {
   "cell_type": "code",
   "execution_count": null,
   "metadata": {"tags": ["validation"]},
   "outputs": [],
   "source": ["tests = [\n","    ((3, [[0,1],[1,2],[2,0]], 0, 2), True),\n","    ((6, [[0,1],[0,2],[3,5],[5,4],[4,3]], 0, 5), False)\n","]\n","solver = Solution()\n","for args, expected in tests:\n","    assert solver.validPath(*args) == expected\n","print('All tests passed.')\n"]
  },
  {
   "cell_type": "markdown",
   "metadata": {},
   "source": ["## Complexity Analysis\n","- Time: O(V + E)。\n","- Space: O(V + E) 存储邻接表与 visited。"]
  },
  {
   "cell_type": "markdown",
   "metadata": {},
   "source": ["## Edge Cases & Pitfalls\n","- 若图为空（无边），只有 source == destination 的情况返回 True。\n","- 注意无向图需要双向添加边。\n","- 如果图非常稀疏，可考虑使用字典减少内存。"]
  },
  {
   "cell_type": "markdown",
   "metadata": {},
   "source": ["## Follow-up Variants\n","- 多次查询可用 Union-Find 预处理。\n","- 有向图需单向添加边并判断可达性。\n","- 若问最短路径长度，则在 BFS 中记录层数/距离。"]
  },
  {
   "cell_type": "markdown",
   "metadata": {},
   "source": ["## Takeaways\n","- BFS 是判断无权图可达性最直接的方法。\n","- 记得在入队时标记访问，防止重复。\n","- 在复杂题中可作为子模块（例如判断可行性或构建连通块）。"]
  },
  {
   "cell_type": "markdown",
   "metadata": {},
   "source": ["## Similar Problems\n","| Problem ID | Problem Title | Technique |\n","| --- | --- | --- |\n","| LC 841 | Keys and Rooms | BFS/DFS 可达性 |\n","| LC 1306 | Jump Game III | 隐式图 BFS |\n","| LC 815 | Bus Routes | 图最短换乘 BFS |"]
  }
 ],
 "metadata": {
  "kernelspec": {
   "display_name": "Python 3",
   "language": "python",
   "name": "python3"
  },
  "language_info": {
   "name": "python",
   "version": "3.10"
  }
 },
 "nbformat": 4,
 "nbformat_minor": 5
}
