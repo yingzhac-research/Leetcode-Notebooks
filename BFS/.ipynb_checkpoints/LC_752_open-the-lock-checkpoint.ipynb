{
 "cells": [
  {
   "cell_type": "markdown",
   "metadata": {},
   "source": [
    "# 752. Open the Lock"
   ]
  },
  {
   "cell_type": "markdown",
   "metadata": {},
   "source": [
    "## Topic Alignment\n",
    "- Exploring combination locks via BFS mimics search over discrete configuration spaces, similar to hyperparameter enumeration with forbidden states.\n"
   ]
  },
  {
   "cell_type": "markdown",
   "metadata": {},
   "source": [
    "## Metadata 摘要\n",
    "- Source: https://leetcode.com/problems/open-the-lock/\n",
    "- Tags: BFS, String, State Graph\n",
    "- Difficulty: Medium\n",
    "- Priority: High"
   ]
  },
  {
   "cell_type": "markdown",
   "metadata": {},
   "source": [
    "## Problem Statement 原题描述\n",
    "You have a lock represented by a 4-digit string. You can turn each wheel forward or backward by one (with wrap-around). Given a set of deadends and a target combination, find the minimum number of turns to open the lock from \"0000\", or return -1 if impossible."
   ]
  },
  {
   "cell_type": "markdown",
   "metadata": {},
   "source": [
    "## Progressive Hints\n",
    "- Hint 1: Each lock state is a four-digit string; neighbors are reached by incrementing or decrementing one digit mod 10.\n",
    "- Hint 2: Avoid deadend states by storing them in a `blocked` set.\n",
    "- Hint 3: BFS layers correspond to rotations performed; stop when the target state is dequeued.\n"
   ]
  },
  {
   "cell_type": "markdown",
   "metadata": {},
   "source": [
    "## Solution Overview\n",
    "Use BFS starting from `'0000'` provided it is not blocked. For each state, generate up to eight neighbors by adjusting each digit ±1 modulo 10. Enqueue unseen states that are not in the deadend set. The level at which you discover the target yields the minimal number of turns; if BFS exhausts without reaching it, return `-1`.\n"
   ]
  },
  {
   "cell_type": "markdown",
   "metadata": {},
   "source": [
    "## Detailed Explanation\n",
    "1. Convert `deadends` into a set for `O(1)` membership checks. If `'0000'` is blocked, return `-1`.\n",
    "2. Initialize a queue with `'0000'` and a visited set containing it.\n",
    "3. Set `depth = 0`. While the queue has nodes:\n",
    "   - For all states in the current level, pop a state `code`.\n",
    "   - If `code == target`, return `depth`.\n",
    "   - For each of four positions, rotate forward and backward modulo 10 to form neighbors.\n",
    "   - Enqueue any neighbor absent from `blocked` and `visited`, marking it visited immediately.\n",
    "   - After processing the level, increment `depth`.\n",
    "4. If the queue empties, return `-1`.\n"
   ]
  },
  {
   "cell_type": "markdown",
   "metadata": {},
   "source": [
    "## Complexity Trade-off Table\n",
    "| Approach | Time | Space | Notes |\n",
    "| --- | --- | --- | --- |\n",
    "| BFS over lock states | O(10⁴) | O(10⁴) | Explores each state at most once |\n",
    "| Bidirectional BFS | O(10⁴ / 2) | O(10⁴) | Faster in practice by meeting in the middle |\n",
    "| Dijkstra | O(10⁴ log 10⁴) | O(10⁴) | Equivalent here; all edges have weight 1 |\n"
   ]
  },
  {
   "cell_type": "code",
   "execution_count": null,
   "metadata": {},
   "outputs": [],
   "source": [
    "from collections import deque\n",
    "from typing import List\n\n",
    "class Solution:\n",
    "    def openLock(self, deadends: List[str], target: str) -> int:\n",
    "        dead = set(deadends)\n",
    "        start = \"0000\"\n",
    "        if start in dead:\n",
    "            return -1\n",
    "        if target == start:\n",
    "            return 0\n",
    "        queue = deque([(start, 0)])\n",
    "        visited = {start}\n",
    "        while queue:\n",
    "            state, depth = queue.popleft()\n",
    "            for i in range(4):\n",
    "                digit = int(state[i])\n",
    "                for move in (-1, 1):\n",
    "                    nd = (digit + move) % 10\n",
    "                    neighbor = state[:i] + str(nd) + state[i+1:]\n",
    "                    if neighbor in dead or neighbor in visited:\n",
    "                        continue\n",
    "                    if neighbor == target:\n",
    "                        return depth + 1\n",
    "                    visited.add(neighbor)\n",
    "                    queue.append((neighbor, depth + 1))\n",
    "        return -1\n"
   ]
  },
  {
   "cell_type": "code",
   "execution_count": null,
   "metadata": {
    "tags": [
     "validation"
    ]
   },
   "outputs": [],
   "source": [
    "tests = [\n",
    "    ((['0201','0101','0102','1212','2002'], '0202'), 6),\n",
    "    ((['8888'], '0009'), 1),\n",
    "    ((['8887','8889','8878','8898','8788','8988','7888','9888'], '8888'), -1)\n",
    "]\n",
    "solver = Solution()\n",
    "for (dead, target), expected in tests:\n",
    "    assert solver.openLock(dead, target) == expected\n",
    "print('All tests passed.')\n"
   ]
  },
  {
   "cell_type": "markdown",
   "metadata": {},
   "source": [
    "## Complexity Analysis\n",
    "- Time: O(10⁴) in the worst case because there are only 10⁴ possible states.\n",
    "- Space: O(10⁴) for the queue and visited set.\n"
   ]
  },
  {
   "cell_type": "markdown",
   "metadata": {},
   "source": [
    "## Edge Cases & Pitfalls\n",
    "- Check whether the target also lies in the deadend set; return `-1` immediately.\n",
    "- Mark states as visited when enqueuing, not when dequeuing, to prevent duplicates.\n",
    "- Handle wraparound carefully: incrementing `9` should produce `0` and decrementing `0` should produce `9`.\n"
   ]
  },
  {
   "cell_type": "markdown",
   "metadata": {},
   "source": [
    "## Follow-up Variants\n",
    "- Return the actual sequence of rotations by recording parent states.\n",
    "- Introduce per-wheel costs and switch to Dijkstra or A* to account for differing rotation weights.\n",
    "- Expand to locks with more wheels or different alphabets by adjusting the neighbor generation logic.\n"
   ]
  },
  {
   "cell_type": "markdown",
   "metadata": {},
   "source": [
    "## Takeaways\n",
    "- BFS on compact state spaces is easy to implement and guarantees optimality for uniform edge weights.\n",
    "- Pre-eliminating deadends prevents futile branches and keeps the queue small.\n",
    "- Modulo arithmetic simplifies wheel rotations, avoiding long chains of `if` statements.\n"
   ]
  },
  {
   "cell_type": "markdown",
   "metadata": {},
   "source": [
    "## Similar Problems\n",
    "| Problem ID | Problem Title | Technique |\n",
    "| --- | --- | --- |\n",
    "| LC 127 | Word Ladder | BFS on word states |\n",
    "| LC 433 | Minimum Genetic Mutation | BFS on 8-letter strings |\n",
    "| LC 909 | Snakes and Ladders | BFS on board positions |\n"
   ]
  }
 ],
 "metadata": {
  "kernelspec": {
   "display_name": "Python 3",
   "language": "python",
   "name": "python3"
  },
  "language_info": {
   "name": "python",
   "version": "3.10"
  }
 },
 "nbformat": 4,
 "nbformat_minor": 5
}